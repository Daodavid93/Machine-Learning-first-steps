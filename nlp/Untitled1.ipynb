{
 "cells": [
  {
   "cell_type": "code",
   "execution_count": 23,
   "id": "989a4c30",
   "metadata": {},
   "outputs": [],
   "source": [
    "import en_core_web_sm\n",
    "import spacy"
   ]
  },
  {
   "cell_type": "code",
   "execution_count": 2,
   "id": "9469fab9",
   "metadata": {},
   "outputs": [],
   "source": [
    "\n",
    "nlp = en_core_web_sm.load()\n",
    "doc = nlp(\"This is a sentence.\")"
   ]
  },
  {
   "cell_type": "code",
   "execution_count": 5,
   "id": "ec35bd9a",
   "metadata": {},
   "outputs": [
    {
     "name": "stdout",
     "output_type": "stream",
     "text": [
      "This\n",
      "<class 'spacy.tokens.token.Token'>\n",
      "is\n",
      "<class 'spacy.tokens.token.Token'>\n",
      "a\n",
      "<class 'spacy.tokens.token.Token'>\n",
      "sentence\n",
      "<class 'spacy.tokens.token.Token'>\n",
      ".\n",
      "<class 'spacy.tokens.token.Token'>\n"
     ]
    }
   ],
   "source": [
    "for i in doc:\n",
    "    print(i)\n",
    "    print(type(i))"
   ]
  },
  {
   "cell_type": "code",
   "execution_count": null,
   "id": "b8de4549",
   "metadata": {},
   "outputs": [],
   "source": [
    " lexeme = doc.vocab[word.text]\n",
    "    print(lexeme.text, lexeme.orth, lexeme.shape_, lexeme.prefix_, lexeme.suffix_,\n",
    "            lexeme.is_alpha, lexeme.is_digit, lexeme.is_title, lexeme.lang_)"
   ]
  },
  {
   "cell_type": "code",
   "execution_count": 8,
   "id": "12b38e0a",
   "metadata": {},
   "outputs": [
    {
     "name": "stdout",
     "output_type": "stream",
     "text": [
      "This 12943039165150086467 Xxxx T his True False True en\n",
      "is 3411606890003347522 xx i is True False False en\n",
      "a 11901859001352538922 x a a True False False en\n",
      "sentence 18108853898452662235 xxxx s nce True False False en\n",
      ". 12646065887601541794 . . . False False False en\n"
     ]
    }
   ],
   "source": [
    "for word in doc:\n",
    "    lexeme = doc.vocab[word.text]\n",
    "    print(lexeme.text, lexeme.orth, lexeme.shape_, lexeme.prefix_, lexeme.suffix_,lexeme.is_alpha, lexeme.is_digit, lexeme.is_title, lexeme.lang_)\n",
    "    "
   ]
  },
  {
   "cell_type": "code",
   "execution_count": 9,
   "id": "4911bb6e",
   "metadata": {},
   "outputs": [],
   "source": [
    "txt = \"\"\"Cleopatra wasn't actually Egyptian! \n",
    "         As far as historians can tell, Egypt's \n",
    "         famous femme fatal was actually Greek!. \n",
    "         She was a descendant of Alexander the Great's\n",
    "         Macedonian general Ptolemy\"\"\""
   ]
  },
  {
   "cell_type": "code",
   "execution_count": 18,
   "id": "f269b0c4",
   "metadata": {},
   "outputs": [],
   "source": [
    "doc = nlp(txt)"
   ]
  },
  {
   "cell_type": "code",
   "execution_count": 14,
   "id": "317a4cb0",
   "metadata": {},
   "outputs": [
    {
     "name": "stdout",
     "output_type": "stream",
     "text": [
      "Cleopatra\n",
      "was\n",
      "n't\n",
      "actually\n"
     ]
    }
   ],
   "source": [
    "for i in doc[:4]:\n",
    "    print(i.text)"
   ]
  },
  {
   "cell_type": "code",
   "execution_count": 16,
   "id": "a9e3b478",
   "metadata": {},
   "outputs": [],
   "source": [
    "#Named Entity Recognition (NER)"
   ]
  },
  {
   "cell_type": "code",
   "execution_count": 21,
   "id": "ff22c297",
   "metadata": {},
   "outputs": [
    {
     "name": "stdout",
     "output_type": "stream",
     "text": [
      "Egyptian            NORP                \n",
      "Egyptian\n",
      "Egypt               GPE                 \n",
      "Egypt\n",
      "Greek               NORP                \n",
      "Greek\n",
      "Alexander the Great'sPERSON              \n",
      "Alexander the Great's\n"
     ]
    }
   ],
   "source": [
    "for ent in doc.ents:\n",
    "     print(f\"{ent.text:<20}{ent.label_:<20}\")\n",
    "     print(ent.text)"
   ]
  },
  {
   "cell_type": "code",
   "execution_count": 24,
   "id": "c91f9019",
   "metadata": {},
   "outputs": [
    {
     "data": {
      "text/plain": [
       "'Nationalities or religious or political groups'"
      ]
     },
     "execution_count": 24,
     "metadata": {},
     "output_type": "execute_result"
    }
   ],
   "source": [
    "spacy.explain(\"NORP\")"
   ]
  },
  {
   "cell_type": "code",
   "execution_count": 25,
   "id": "651769dc",
   "metadata": {},
   "outputs": [
    {
     "name": "stderr",
     "output_type": "stream",
     "text": [
      "D:\\ProgramData\\Anaconda3\\lib\\site-packages\\spacy\\glossary.py:19: UserWarning: [W118] Term 'Person' not found in glossary. It may however be explained in documentation for the corpora used to train the language. Please check `nlp.meta[\"sources\"]` for any relevant links.\n",
      "  warnings.warn(Warnings.W118.format(term=term))\n"
     ]
    }
   ],
   "source": [
    "spacy.explain(\"Person\")"
   ]
  }
 ],
 "metadata": {
  "kernelspec": {
   "display_name": "Python 3",
   "language": "python",
   "name": "python3"
  },
  "language_info": {
   "codemirror_mode": {
    "name": "ipython",
    "version": 3
   },
   "file_extension": ".py",
   "mimetype": "text/x-python",
   "name": "python",
   "nbconvert_exporter": "python",
   "pygments_lexer": "ipython3",
   "version": "3.8.8"
  }
 },
 "nbformat": 4,
 "nbformat_minor": 5
}
