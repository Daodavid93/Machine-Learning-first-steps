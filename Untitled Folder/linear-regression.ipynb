{
 "cells": [
  {
   "cell_type": "code",
   "execution_count": 1,
   "id": "7941acc0",
   "metadata": {},
   "outputs": [],
   "source": [
    "%matplotlib inline\n",
    "import matplotlib.pyplot as plt\n",
    "import numpy as np\n",
    "import math\n",
    "from mpl_toolkits.mplot3d import Axes3D\n",
    "from random import random\n",
    "#from mpl_toolkits.mplot3d import axes3d\n",
    "import matplotlib.pyplot as plt\n",
    "import pandas as pd\n",
    "from sklearn.model_selection import train_test_split\n",
    "from sklearn.preprocessing import StandardScaler\n",
    "from sklearn.linear_model import LinearRegression"
   ]
  },
  {
   "cell_type": "markdown",
   "id": "11730ed4",
   "metadata": {},
   "source": [
    "# Linear Regression"
   ]
  },
  {
   "cell_type": "markdown",
   "id": "b35d64b9",
   "metadata": {},
   "source": [
    "<div class='legend'>\n",
    "<ul style=\"margin-left: 5px\">\n",
    "      <li><a href='#simple~linear~regression'>Simple Linear Regression </a> </li> \n",
    "      <li><a href='#grad~sim~linear'>Gradient Descent over simple linear regression</a> </li>\n",
    "      <li><a href='#learning-rate'>Effect of different values for learning rate</a> </li>\n",
    "      <li><a href='#m-linear-r'>Multiple Linear Regression</a> </li>\n",
    "    <li><a href='#impl-multi'>Implementation of gradient descent for Multiple Linear regression using NUMPY</a> </li>\n",
    "        <li><a href='#insurence'>Test of our implemntation in 'insurance.csv' dataset </a> </li>\n",
    "</ul> \n",
    "</div>    \n"
   ]
  },
  {
   "cell_type": "markdown",
   "id": "f210503d",
   "metadata": {},
   "source": [
    "&nbsp; &nbsp; In statistic, Linear Regression is an linear approach to modeling the relationship between one or more explanatory variable (independent or dependent. The case of one explanatory variable is  called  Simple Linear Regression for  more then one is called Multiple Linear Regression.In Linear Regression the relationships are modeled using <a href='https://en.wikipedia.org/wiki/Linear_predictor_function'> linear predictors function </a> whose unknown parameters are estimated from data."
   ]
  },
  {
   "cell_type": "markdown",
   "id": "609e479e",
   "metadata": {},
   "source": [
    "<h2 id='simple~linear~regression'> Simple linear regression </h2>"
   ]
  },
  {
   "cell_type": "markdown",
   "id": "c25ed4e6",
   "metadata": {},
   "source": [
    "&nbsp; &nbsp; Simple Linear regression has a single explanatory variable. It concerns two- dimensional sample points and one independent variable. (Conventionally x and y data point in a Cartesian coordinate system). The adjective simple refers to the fact that the outcome variable is related to a single predictor.  "
   ]
  },
  {
   "cell_type": "code",
   "execution_count": 10,
   "id": "c49e8725",
   "metadata": {},
   "outputs": [],
   "source": [
    "def set_spines():\n",
    "    ax = plt.gca()  # gca stands for 'get current axis'\n",
    "    ax.spines['right'].set_color('none')\n",
    "    ax.spines['top'].set_color('none')\n",
    "    ax.xaxis.set_ticks_position('bottom')\n",
    "    ax.spines['bottom'].set_position(('data',0))\n",
    "    ax.yaxis.set_ticks_position('left')\n",
    "    ax.spines['left'].set_position(('data',0))\n",
    "    ax.set_ylabel('x')\n"
   ]
  },
  {
   "cell_type": "code",
   "execution_count": 53,
   "id": "d30ab0f4",
   "metadata": {
    "scrolled": true
   },
   "outputs": [
    {
     "data": {
      "image/png": "[encoded data removed]",
      "text/plain": [
       "<Figure size 432x288 with 1 Axes>"
      ]
     },
     "metadata": {
      "needs_background": "light"
     },
     "output_type": "display_data"
    }
   ],
   "source": [
    "f = lambda x : 7*x + 3 + np.random.uniform(-10,10)\n",
    "y =[f(i) for i in x]\n",
    "plt.scatter(x,y)\n",
    "set_spines()"
   ]
  },
  {
   "cell_type": "markdown",
   "id": "b1ecc972",
   "metadata": {},
   "source": [
    "The graph shows  $n$ data pairs denoted with $(x_i,y_i), i = 1,2,...,n$.\n",
    "We can describe the underlying relationship between $y_i$ and $x_i$ invloving the error term $\\varepsilon_i$ in linear equation $y_i =  \\alpha + \\beta x_i + \\varepsilon $.The  $\\varepsilon_i$  could be intepreted as the noise of the data or in some sense some type of randomness originated from various reasons.Also it is know as 'error term' or 'residual'.\n",
    "Our target is to find estimated values $\\alpha$ and $\\beta$ which would provide the best fit in some sense for data points.\n",
    "In order to find the 'best' fit we will use the <a href='https://en.wikipedia.org/wiki/Ordinary_least_squares'>least-squared</a> approach.From  mathematical view point the issue involved the minimization of Cost function or Error function respect to $\\alpha,\\beta$. \n",
    " $$1) C(\\alpha,\\beta,x_i,y_i) = \\sum_i(y_i - \\alpha - \\beta x_i)^2$$.\n",
    "$L$ is called $Cost$ function the expression $(y_i - \\alpha - \\beta x_i)^2$ is called $Lost$ function.This function is appropiative because of it is a diferencianal everywhere and gives us  a measure of diference between dependent value $y_i$ and predicted value of $y'(\\alpha,\\beta)=\\alpha + \\beta x_i $.<br>\n",
    "In order to find $min_{\\alpha,\\beta}C(\\alpha,\\beta,x_i,y_i)$ we will use Gradient Descent method.<br>"
   ]
  },
  {
   "cell_type": "markdown",
   "id": "b474c9a9",
   "metadata": {},
   "source": [
    "<h2 id='grad~sim~linear'>Gradient Descent over simple linear regression</h2>"
   ]
  },
  {
   "cell_type": "markdown",
   "id": "eb5ef844",
   "metadata": {},
   "source": [
    "&nbsp; &nbsp;  The methods for finding the maximum and minima (extrema) have been created with developing of mathematical analysis(calculus).Gradient Descent is a numerical approach to finding a local minimum of a first-order differentiable function. The idea is to take repeated steps in the opposite direction of the gradient of a function at the current point. "
   ]
  },
  {
   "cell_type": "markdown",
   "id": "6830a1af",
   "metadata": {},
   "source": [
    "The Gradient Descent algorithm is difined by : <br>\n",
    "  $$\\alpha = \\alpha - \\nabla_{\\alpha}C(\\alpha,\\beta)*h$$\n",
    "  $$\\beta = \\beta - \\nabla_{\\beta}C(\\alpha,\\beta)*h$$ <br>\n",
    "  "
   ]
  },
  {
   "cell_type": "markdown",
   "id": "6a3d3afc",
   "metadata": {},
   "source": [
    "The above equations are performed enough times to reach the minimum of Loss function. $h$ is called learning rate"
   ]
  },
  {
   "cell_type": "code",
   "execution_count": 54,
   "id": "26f68de2",
   "metadata": {},
   "outputs": [],
   "source": [
    "def gradient_descent(X, Y, h=0.1, E=100):\n",
    "    '''\n",
    "    \n",
    "    Calculation of cost (error) function of simple linear regression\n",
    "   \n",
    "    Parrameters : \n",
    "    X(array or number) : X arguments, independent variable\n",
    "    Y (array or number) : Y arguments, actual dependent variable \n",
    "    C (number) :  learning rate\n",
    "    I(int) : number of iteration(Epoch)\n",
    "    Returns :\n",
    "      number of cost function\n",
    "   '''\n",
    "   \n",
    "    a = b = 0 #initial value\n",
    "    a_args  = []\n",
    "    b_args = []\n",
    "    n = X.size\n",
    "  \n",
    "    for i in range(E):\n",
    "        a = a + 2/n*(np.sum((Y - a*X - b)*X))*h\n",
    "        b =  b + 2/n*(np.sum((Y - a*X -b)))*h\n",
    "        a_args.append(a)\n",
    "        b_args.append(b)\n",
    "    return a,b,a_args,b_args "
   ]
  },
  {
   "cell_type": "code",
   "execution_count": 55,
   "id": "48255b33",
   "metadata": {},
   "outputs": [],
   "source": [
    "a, b, a_r, b_r = gradient_descent(x, y, h=0.01, E=400)"
   ]
  },
  {
   "cell_type": "code",
   "execution_count": null,
   "id": "00ee7fac",
   "metadata": {},
   "outputs": [],
   "source": []
  },
  {
   "cell_type": "code",
   "execution_count": 56,
   "id": "2ebf34d8",
   "metadata": {},
   "outputs": [
    {
     "data": {
      "text/plain": [
       "(6.844537053710611, 3.0966663910852272)"
      ]
     },
     "execution_count": 56,
     "metadata": {},
     "output_type": "execute_result"
    },
    {
     "data": {
      "image/png": "[encoded data removed]",
      "text/plain": [
       "<Figure size 432x288 with 1 Axes>"
      ]
     },
     "metadata": {
      "needs_background": "light"
     },
     "output_type": "display_data"
    }
   ],
   "source": [
    "plt.plot(a_r,color='r',label=r'$\\alpha $')\n",
    "plt.plot(b_r,label=r'$\\beta$')\n",
    "plt.xlabel(\"number of epoch E\")\n",
    "plt.ylabel(\"etimated parameters\")\n",
    "plt.title('C = 0.01 , E = 1000')\n",
    "plt.legend()\n",
    "a,b\n"
   ]
  },
  {
   "cell_type": "markdown",
   "id": "8a3ba742",
   "metadata": {},
   "source": [
    "During the learning process we can see that curves tend to result $(\\alpha \\approx 6.9, \\beta \\approx  3.09)$."
   ]
  },
  {
   "cell_type": "code",
   "execution_count": 57,
   "id": "21cad473",
   "metadata": {},
   "outputs": [
    {
     "data": {
      "image/png": "[encoded data removed]",
      "text/plain": [
       "<Figure size 432x288 with 1 Axes>"
      ]
     },
     "metadata": {
      "needs_background": "light"
     },
     "output_type": "display_data"
    }
   ],
   "source": [
    "plt.scatter(x,y) \n",
    "plt.plot(x,6.918205132062*x + 3.09,color='r')\n",
    "set_spines()"
   ]
  },
  {
   "cell_type": "markdown",
   "id": "3f802044",
   "metadata": {},
   "source": [
    "We've found that the best fit wich discribe our data is the line $y'=6.9.x +4.48$"
   ]
  },
  {
   "cell_type": "markdown",
   "id": "0c779d97",
   "metadata": {},
   "source": [
    " <h2 id='learning-rate'>Effect of different values for learning rate </h2>"
   ]
  },
  {
   "cell_type": "markdown",
   "id": "8dfc8b45",
   "metadata": {},
   "source": [
    "The Learning rate $h$ is the tunning parameter in an optimization algorithm that determines the step size at each iteration while moving toward a minimum of cost function.While the gradient direction is usually determined from the gradient of the cost function, the learning rate determines how big a step is taken in that direction.The too hight learning rate will make  the learning jump  over minima but too low leaning rate will either take too long to converge or get stuck in an undesirable local minimum.In order to achieve faster convergence, prevent oscillations and getting stuck in undesirable local minima the learning rate is often varied during training either in accordance to a learning rate schedule or by using an adaptive learning rate."
   ]
  },
  {
   "cell_type": "markdown",
   "id": "8f86fca4",
   "metadata": {},
   "source": [
    "Let's take different values for the learning rate $h$ and try to understand its impact on the algorithm."
   ]
  },
  {
   "cell_type": "markdown",
   "id": "50da819d",
   "metadata": {},
   "source": [
    "$h = 0.000001$"
   ]
  },
  {
   "cell_type": "code",
   "execution_count": 78,
   "id": "bd898b0c",
   "metadata": {},
   "outputs": [
    {
     "data": {
      "text/plain": [
       "(-5.293435457560683e+59, 2.976460827929693e+42)"
      ]
     },
     "execution_count": 78,
     "metadata": {},
     "output_type": "execute_result"
    },
    {
     "data": {
      "image/png": "[encoded data removed]",
      "text/plain": [
       "<Figure size 432x288 with 1 Axes>"
      ]
     },
     "metadata": {
      "needs_background": "light"
     },
     "output_type": "display_data"
    }
   ],
   "source": [
    "a,b,a_r,b_r = gradient_descent(x,y,h=0.05,E=150)\n",
    "plt.plot(a_r,color='r',label=r'$\\alpha $')\n",
    "plt.plot(b_r,label=r'$\\beta$')\n",
    "plt.xlabel(\"number of epoch E\")\n",
    "plt.ylabel(\"etimated parameters\")\n",
    "plt.title('h=0.05, E=150')\n",
    "plt.legend()\n",
    "a,b"
   ]
  },
  {
   "cell_type": "markdown",
   "id": "60fd16a2",
   "metadata": {},
   "source": [
    "we can see that curves tend to result $(\\alpha \\approx 6.9, \\beta \\approx  0.5)$."
   ]
  },
  {
   "cell_type": "code",
   "execution_count": 73,
   "id": "25e59c30",
   "metadata": {},
   "outputs": [
    {
     "data": {
      "image/png": "[encoded data removed]",
      "text/plain": [
       "<Figure size 432x288 with 1 Axes>"
      ]
     },
     "metadata": {
      "needs_background": "light"
     },
     "output_type": "display_data"
    }
   ],
   "source": [
    "plt.scatter(x,y) \n",
    "plt.plot(x,-2.91*x +  2.976)\n",
    "set_spines()"
   ]
  },
  {
   "cell_type": "markdown",
   "id": "7c6b1d65",
   "metadata": {},
   "source": [
    "We can see that the learning rate is too big and as result the algorithms makes a learning jump wich leads to extremly bad result."
   ]
  },
  {
   "cell_type": "code",
   "execution_count": 77,
   "id": "6dae2c54",
   "metadata": {},
   "outputs": [
    {
     "data": {
      "text/plain": [
       "(2.7806585335865357, 0.04611991087616225)"
      ]
     },
     "execution_count": 77,
     "metadata": {},
     "output_type": "execute_result"
    },
    {
     "data": {
      "image/png": "[encoded data removed]",
      "text/plain": [
       "<Figure size 432x288 with 1 Axes>"
      ]
     },
     "metadata": {
      "needs_background": "light"
     },
     "output_type": "display_data"
    }
   ],
   "source": [
    "a,b,a_r,b_r = gradient_descent(x,y,h=0.00005,E=150)\n",
    "plt.plot(a_r,color='r',label=r'$\\alpha $')\n",
    "plt.plot(b_r,label=r'$\\beta$')\n",
    "plt.xlabel(\"number of epoch E\")\n",
    "plt.ylabel(\"etimated parameters\")\n",
    "plt.title('h=0.0000, E=150')\n",
    "plt.legend()\n",
    "a,b"
   ]
  },
  {
   "cell_type": "code",
   "execution_count": 79,
   "id": "80ef0e40",
   "metadata": {},
   "outputs": [
    {
     "data": {
      "image/png": "[encoded data removed]",
      "text/plain": [
       "<Figure size 432x288 with 1 Axes>"
      ]
     },
     "metadata": {
      "needs_background": "light"
     },
     "output_type": "display_data"
    }
   ],
   "source": [
    "plt.scatter(x,y) \n",
    "plt.plot(x,2.7*x +  0.01)\n",
    "set_spines()"
   ]
  },
  {
   "cell_type": "markdown",
   "id": "068143bc",
   "metadata": {},
   "source": [
    "In the above case, the learning rate is too small and the algorithm is learned too slow, we can make up for that  problem by increasing learning rate or by increasing the number of iterations or so-called epochs, the finding of balance between both would improve the result.\n",
    "In the below example we will increase the number of epochs to observe will have an improvement."
   ]
  },
  {
   "cell_type": "code",
   "execution_count": 81,
   "id": "efc2c08d",
   "metadata": {},
   "outputs": [
    {
     "data": {
      "text/plain": [
       "(6.844537053710483, 2.7239874693284003)"
      ]
     },
     "execution_count": 81,
     "metadata": {},
     "output_type": "execute_result"
    },
    {
     "data": {
      "image/png": "[encoded data removed]",
      "text/plain": [
       "<Figure size 432x288 with 1 Axes>"
      ]
     },
     "metadata": {
      "needs_background": "light"
     },
     "output_type": "display_data"
    }
   ],
   "source": [
    "a,b,a_r,b_r = gradient_descent(x,y,h=0.00005,E=21150)\n",
    "plt.plot(a_r,color='r',label=r'$\\alpha $')\n",
    "plt.plot(b_r,label=r'$\\beta$')\n",
    "plt.xlabel(\"number of epoch E\")\n",
    "plt.ylabel(\"etimated parameters\")\n",
    "plt.title('h=0.0000, E=1150')\n",
    "plt.legend()\n",
    "a,b"
   ]
  },
  {
   "cell_type": "code",
   "execution_count": 82,
   "id": "6211bf27",
   "metadata": {},
   "outputs": [
    {
     "data": {
      "image/png": "[encoded data removed]",
      "text/plain": [
       "<Figure size 432x288 with 1 Axes>"
      ]
     },
     "metadata": {
      "needs_background": "light"
     },
     "output_type": "display_data"
    }
   ],
   "source": [
    "plt.scatter(x,y) \n",
    "plt.plot(x,6.8*x + 2.7)\n",
    "set_spines()"
   ]
  },
  {
   "cell_type": "markdown",
   "id": "786d15db",
   "metadata": {},
   "source": [
    "The answer is 'yes'. But by increasing the number of epochs the computation time is increased too, which takes more time consuming for the learning process. "
   ]
  },
  {
   "cell_type": "markdown",
   "id": "278166b9",
   "metadata": {},
   "source": [
    "<h1 id='m-linear-r'>2. Multiple Linear Regression in matrix form.</h1>"
   ]
  },
  {
   "cell_type": "markdown",
   "id": "15fd2743",
   "metadata": {},
   "source": [
    "Multiple Linear Regression also known as multiple regression, is a statistical technique that uses several explanatory variable to predict the outcome of response variable.In essence, MLR is an extension of ordinary least-squared regression.The equation that we are searching for is defined by : <br> <br>\n",
    "$$\\hat{ y}^i= h(x{^i}) =  \\vartheta_0 + \\vartheta_1 x^i_{1} + \\vartheta_2 x_{2}^i+ ...\\vartheta_p x_{p}^i + \\varepsilon_i $$\n",
    "<br> <br>\n",
    "where , $i$ is number of obeservation,\n",
    "$y_i$ dependet(target) value,\n",
    "$x_p $ feature values,\n",
    "$\\vartheta_0$ intercept,\n",
    "$\\vartheta_{p}$ slope coeff. for each explanority var, $\\varepsilon_i$ is error term,\n"
   ]
  },
  {
   "cell_type": "markdown",
   "id": "1170305d",
   "metadata": {},
   "source": [
    "The above hypotesis can also be represented by : <br>\n",
    " $$\\hat{Y} = X\\Theta^T$$ <br> <br>\n",
    " where $ \\Theta =\\begin{bmatrix}\n",
    "\\vartheta_0\\\\\n",
    "\\vdots \\\\\n",
    "\\vartheta_p \\\\\n",
    "\\end{bmatrix}$ $X = \\begin{bmatrix} \n",
    "1 &x_1^1 & x_1^2 & x_1^n \\\\\n",
    "\\vdots & \\ddots & \\vdots & \\vdots \\\\\n",
    "1& x_p^1 & \\dots & x_p^n \\\\\n",
    "\\end{bmatrix} $ and $\\hat{Y} = \\begin{bmatrix}\n",
    "\\hat{y}^0\\\\\n",
    "\\vdots \\\\\n",
    "\\hat{y}^p \\\\\n",
    "\\end{bmatrix}$\n",
    "<br> <br>\n",
    "we've append column $\\hat{Y} = \\begin{bmatrix}\n",
    "1\\\\\n",
    "\\vdots \\\\\n",
    "1\\\\\n",
    "\\end{bmatrix}$ to $X$ in order to be used in matrix multiplication directly."
   ]
  },
  {
   "cell_type": "markdown",
   "id": "0dbc4e4b",
   "metadata": {},
   "source": [
    "To define and measure the error of our model we define the cost function as the sum of the squares of the residuals. The cost function is denoted by :\n",
    "    $$2)\\hspace{1cm} J(\\varTheta) = \\frac{1}{2m}\\sum_{i=0}^m(h(x^i) - y^i)^2 $$"
   ]
  },
  {
   "cell_type": "markdown",
   "id": "715eefeb",
   "metadata": {},
   "source": [
    "We have to initialize the model parameter with some random values(random initialization).To use Gradient Descent we need to measure how the cost function changes with change in it's parametes.Therefore we compute the partial derivatives of cost finction $4)\\hspace{1cm}  J(\\vartheta_0,\\vartheta_1,...,\\vartheta_n)$ <br> <br>\n",
    "$$ 3) \\frac{\\partial{J(\\varTheta)}}{\\partial{\\theta_j}} = \\frac{1}{m}\\sum_{i=0}^m(h(x^i) - y^i)x_j^i$$\n",
    "In more compatable form using matrix in order to be implemnted using <mark>NUMPY</mark>\n"
   ]
  },
  {
   "cell_type": "markdown",
   "id": "4f457ccb",
   "metadata": {},
   "source": [
    "Using the <a href='https://en.wikipedia.org/wiki/Einstein_notation' > Eistein notaion </a> we can rewrite eq. 3) <br> <br> <br>\n",
    "$$ \\frac{\\partial{J(\\vartheta_k)}}{\\partial{\\theta_j}} = \\frac{1}{m}(\\theta_p x_p^i - y^i)x_j^i $$ in matrix form <br> <br> <br>\n",
    " $$4) \\hspace{1cm}  \\vec{\\nabla} J(\\varTheta)=((X\\Theta^T- Y)^T.X)^T $$ <br> <br>\n",
    "  applying the rule  $(AB)^T$ the eq can be reformed\n",
    "   $$5) \\hspace{1cm}  \\vec{\\nabla} J(\\varTheta)= X^T(X\\Theta^T- Y) $$  <br> <br>\n",
    " $$ where  \\hspace{1cm} \\vec{\\nabla} = \\frac{\\partial}{\\partial{\\theta_j}\\vec{e_j}}$$ <br> <br>\n",
    "\n",
    " eq. 6 is extremely comfortable because it can be implemented very simple in <mark>NUMPY</mark> which is many times faster than common Python\n"
   ]
  },
  {
   "cell_type": "markdown",
   "id": "f7af3c53",
   "metadata": {},
   "source": [
    "The Gradient Descent algorithm will looks like that : <br>\n",
    " $$\\Theta = \\Theta - h\\vec{\\nabla} J(\\varTheta) $$ h is learnig rate\n"
   ]
  },
  {
   "cell_type": "markdown",
   "id": "db22f3b3",
   "metadata": {},
   "source": [
    "We will be using Root mean squared error(RMSE) of Determination($R^2$ score)  to evaluate our model.<br>\n",
    "RMSE is a square root of average of sum of suares of residualas.\n",
    "RMSE is difined by : <br>\n",
    "$$ RMSE =\\sqrt{\\frac{1}{2}\\sum_{i=1}^m(h(x^i)- y ^i)} $$\n",
    "R² score or the coefficient of determination explains how much the total variance of the dependent variable can be reduced by using the least square regression.<br>\n",
    "$R^2$ is determed by \n",
    "    $$R^2 = 1 - \\frac{SS_r}{SS_t}$$\n",
    "\n",
    "SS_t  is the total sum of errors if we take the mean of the observed values as the predicted value.\n",
    "$$SS_t =\\sum_{i=1}^m( y ^i -\\bar{y})^2 $$ <Br>\n",
    "    $$ SS_r =\\sum_{i=1}^m(h(x^i)- y ^i)^2 $$"
   ]
  },
  {
   "cell_type": "markdown",
   "id": "eacd415e",
   "metadata": {},
   "source": [
    "<h2 id ='impl-multi'>Implementation of gradient descent for Multiple Linear regression using NUMPY</h2>"
   ]
  },
  {
   "cell_type": "code",
   "execution_count": 84,
   "id": "52b2d91a",
   "metadata": {},
   "outputs": [],
   "source": [
    "class MultipleLinearRegression:\n",
    "    \"\"\"\n",
    "    Multiple Linear regression\n",
    "\n",
    "    Parameters\n",
    "    ..........\n",
    "\n",
    "    C : float\n",
    "        learning rate\n",
    "    I : int\n",
    "        number of iterations (Epochs)\n",
    "    Attributes\n",
    "    ..........\n",
    "     w_ : weights (Predictors)\n",
    "\n",
    "    \"\"\"\n",
    "\n",
    "    def __init__(self, C=0.001, I=50):\n",
    "        self.C = C\n",
    "        self.I = I\n",
    "        self.w_ = None\n",
    "\n",
    "    def fit(self, X, Y):\n",
    "        \"\"\"Fit tthe training data\n",
    "\n",
    "        Parameters\n",
    "        ..........\n",
    "\n",
    "        X : array, shape = [N_samples,n_features]\n",
    "            Training samples\n",
    "        Y  : array, shape = [n_samples, n_target_values]\n",
    "\n",
    "        Returns\n",
    "        .......\n",
    "        self : object\n",
    "\n",
    "        \"\"\"\n",
    "\n",
    "        X, Y = self._validate(X, Y)\n",
    "        self.w_ = np.ones((X.shape[1], 1))  # inicialized predictors\n",
    "        M = X.shape[0]  # numbers of samples\n",
    "        for _ in range(self.I):\n",
    "            self.w_ =self.w_ -  self.C * (1 / M) * X.T.dot((X.dot(self.w_) - Y))\n",
    "            #self.w -= self.C * (1 / M) * X.T.dot((X.dot(self.w) - Y))\n",
    "\n",
    "\n",
    "        return self\n",
    "\n",
    "    def predict(self, x):\n",
    "        \"\"\" Predicts the value after the model has been trained.\n",
    "        Parameters\n",
    "        ----------\n",
    "        x : array-like, shape = [n_samples, n_features]\n",
    "            Test samples\n",
    "        Returns\n",
    "        -------\n",
    "        Predicted value\n",
    "        \"\"\"\n",
    "        x = np.append(np.ones((x.shape[0], 1)), x, axis=1)\n",
    "        return np.dot(x, self.w_)\n",
    "\n",
    "    def score(self,X, Y):\n",
    "        \"\"\"Calculation of accuracy using (R^2 score)\n",
    "             x : array-like, shape = [n_samples, n_features]\n",
    "             y : array-like, shape = [n_samples, n_features]\n",
    "            Test samples\n",
    "        Returns\n",
    "        float : score\n",
    "        -------\n",
    "        Predicted value\n",
    "\n",
    "        \"\"\"\n",
    "        #X = np.append(np.ones((X.shape[0], 1)), X, axis=1)\n",
    "        #Y = np.array(Y).reshape(X.shape[0], 1)\n",
    "        X,Y = self._validate(X,Y)\n",
    "        y_prime = np.dot(X, self.w_)\n",
    "        ssr = np.sum((y_prime - Y) ** 2)\n",
    "        sst = np.sum((Y - np.mean(y_prime)) ** 2)\n",
    "        r2_score = 1 - (ssr / sst)\n",
    "        return r2_score\n",
    "    \n",
    "    def _validate(self,X,y):\n",
    "        '''Added tow with one number to X data\n",
    "        reshape Y data\n",
    "\n",
    "\n",
    "        :param X: array-like, shape = [n_samples, n_features]\n",
    "        :param y: array-like, shape = [n_samples, n_target_values]\n",
    "        :return: validated X,Y\n",
    "        '''\n",
    "        return   np.append(np.ones((X.shape[0], 1)), X, axis=1),\\\n",
    "                 np.array(y).reshape(y.shape[0], 1)"
   ]
  },
  {
   "cell_type": "markdown",
   "id": "7fd01920",
   "metadata": {},
   "source": [
    "<h2 id='insurence'>Test of our implemntation in 'insurance.csv' dataset</h2>"
   ]
  },
  {
   "cell_type": "code",
   "execution_count": 87,
   "id": "1bee566c",
   "metadata": {},
   "outputs": [
    {
     "data": {
      "text/html": [
       "<div>\n",
       "<style scoped>\n",
       "    .dataframe tbody tr th:only-of-type {\n",
       "        vertical-align: middle;\n",
       "    }\n",
       "\n",
       "    .dataframe tbody tr th {\n",
       "        vertical-align: top;\n",
       "    }\n",
       "\n",
       "    .dataframe thead th {\n",
       "        text-align: right;\n",
       "    }\n",
       "</style>\n",
       "<table border=\"1\" class=\"dataframe\">\n",
       "  <thead>\n",
       "    <tr style=\"text-align: right;\">\n",
       "      <th></th>\n",
       "      <th>age</th>\n",
       "      <th>sex</th>\n",
       "      <th>bmi</th>\n",
       "      <th>children</th>\n",
       "      <th>smoker</th>\n",
       "      <th>region</th>\n",
       "      <th>charges</th>\n",
       "    </tr>\n",
       "  </thead>\n",
       "  <tbody>\n",
       "    <tr>\n",
       "      <th>0</th>\n",
       "      <td>19</td>\n",
       "      <td>female</td>\n",
       "      <td>27.900</td>\n",
       "      <td>0</td>\n",
       "      <td>yes</td>\n",
       "      <td>southwest</td>\n",
       "      <td>16884.92400</td>\n",
       "    </tr>\n",
       "    <tr>\n",
       "      <th>1</th>\n",
       "      <td>18</td>\n",
       "      <td>male</td>\n",
       "      <td>33.770</td>\n",
       "      <td>1</td>\n",
       "      <td>no</td>\n",
       "      <td>southeast</td>\n",
       "      <td>1725.55230</td>\n",
       "    </tr>\n",
       "    <tr>\n",
       "      <th>2</th>\n",
       "      <td>28</td>\n",
       "      <td>male</td>\n",
       "      <td>33.000</td>\n",
       "      <td>3</td>\n",
       "      <td>no</td>\n",
       "      <td>southeast</td>\n",
       "      <td>4449.46200</td>\n",
       "    </tr>\n",
       "    <tr>\n",
       "      <th>3</th>\n",
       "      <td>33</td>\n",
       "      <td>male</td>\n",
       "      <td>22.705</td>\n",
       "      <td>0</td>\n",
       "      <td>no</td>\n",
       "      <td>northwest</td>\n",
       "      <td>21984.47061</td>\n",
       "    </tr>\n",
       "    <tr>\n",
       "      <th>4</th>\n",
       "      <td>32</td>\n",
       "      <td>male</td>\n",
       "      <td>28.880</td>\n",
       "      <td>0</td>\n",
       "      <td>no</td>\n",
       "      <td>northwest</td>\n",
       "      <td>3866.85520</td>\n",
       "    </tr>\n",
       "  </tbody>\n",
       "</table>\n",
       "</div>"
      ],
      "text/plain": [
       "   age     sex     bmi  children smoker     region      charges\n",
       "0   19  female  27.900         0    yes  southwest  16884.92400\n",
       "1   18    male  33.770         1     no  southeast   1725.55230\n",
       "2   28    male  33.000         3     no  southeast   4449.46200\n",
       "3   33    male  22.705         0     no  northwest  21984.47061\n",
       "4   32    male  28.880         0     no  northwest   3866.85520"
      ]
     },
     "execution_count": 87,
     "metadata": {},
     "output_type": "execute_result"
    }
   ],
   "source": [
    "#load dataset\n",
    "df = pd.read_csv(\"../resources/data/insurance.csv\")  \n",
    "df.head()"
   ]
  },
  {
   "cell_type": "markdown",
   "id": "c4441de0",
   "metadata": {},
   "source": [
    "Converting Categories to Numbers. The linear regression can be performed only on numbers, so we must convert these categorical features into numbers. To do that, we can make use of a function called get_dummies.\n",
    "So let’s convert the “sex,” “smoker,” and “region” columns into numerically represented features."
   ]
  },
  {
   "cell_type": "code",
   "execution_count": 88,
   "id": "4ca7673d",
   "metadata": {},
   "outputs": [
    {
     "data": {
      "text/html": [
       "<div>\n",
       "<style scoped>\n",
       "    .dataframe tbody tr th:only-of-type {\n",
       "        vertical-align: middle;\n",
       "    }\n",
       "\n",
       "    .dataframe tbody tr th {\n",
       "        vertical-align: top;\n",
       "    }\n",
       "\n",
       "    .dataframe thead th {\n",
       "        text-align: right;\n",
       "    }\n",
       "</style>\n",
       "<table border=\"1\" class=\"dataframe\">\n",
       "  <thead>\n",
       "    <tr style=\"text-align: right;\">\n",
       "      <th></th>\n",
       "      <th>age</th>\n",
       "      <th>bmi</th>\n",
       "      <th>children</th>\n",
       "      <th>charges</th>\n",
       "      <th>sex_male</th>\n",
       "      <th>smoker_yes</th>\n",
       "      <th>region_northwest</th>\n",
       "      <th>region_southeast</th>\n",
       "      <th>region_southwest</th>\n",
       "    </tr>\n",
       "  </thead>\n",
       "  <tbody>\n",
       "    <tr>\n",
       "      <th>0</th>\n",
       "      <td>19</td>\n",
       "      <td>27.900</td>\n",
       "      <td>0</td>\n",
       "      <td>16884.92400</td>\n",
       "      <td>0</td>\n",
       "      <td>1</td>\n",
       "      <td>0</td>\n",
       "      <td>0</td>\n",
       "      <td>1</td>\n",
       "    </tr>\n",
       "    <tr>\n",
       "      <th>1</th>\n",
       "      <td>18</td>\n",
       "      <td>33.770</td>\n",
       "      <td>1</td>\n",
       "      <td>1725.55230</td>\n",
       "      <td>1</td>\n",
       "      <td>0</td>\n",
       "      <td>0</td>\n",
       "      <td>1</td>\n",
       "      <td>0</td>\n",
       "    </tr>\n",
       "    <tr>\n",
       "      <th>2</th>\n",
       "      <td>28</td>\n",
       "      <td>33.000</td>\n",
       "      <td>3</td>\n",
       "      <td>4449.46200</td>\n",
       "      <td>1</td>\n",
       "      <td>0</td>\n",
       "      <td>0</td>\n",
       "      <td>1</td>\n",
       "      <td>0</td>\n",
       "    </tr>\n",
       "    <tr>\n",
       "      <th>3</th>\n",
       "      <td>33</td>\n",
       "      <td>22.705</td>\n",
       "      <td>0</td>\n",
       "      <td>21984.47061</td>\n",
       "      <td>1</td>\n",
       "      <td>0</td>\n",
       "      <td>1</td>\n",
       "      <td>0</td>\n",
       "      <td>0</td>\n",
       "    </tr>\n",
       "    <tr>\n",
       "      <th>4</th>\n",
       "      <td>32</td>\n",
       "      <td>28.880</td>\n",
       "      <td>0</td>\n",
       "      <td>3866.85520</td>\n",
       "      <td>1</td>\n",
       "      <td>0</td>\n",
       "      <td>1</td>\n",
       "      <td>0</td>\n",
       "      <td>0</td>\n",
       "    </tr>\n",
       "  </tbody>\n",
       "</table>\n",
       "</div>"
      ],
      "text/plain": [
       "   age     bmi  children      charges  sex_male  smoker_yes  region_northwest  \\\n",
       "0   19  27.900         0  16884.92400         0           1                 0   \n",
       "1   18  33.770         1   1725.55230         1           0                 0   \n",
       "2   28  33.000         3   4449.46200         1           0                 0   \n",
       "3   33  22.705         0  21984.47061         1           0                 1   \n",
       "4   32  28.880         0   3866.85520         1           0                 1   \n",
       "\n",
       "   region_southeast  region_southwest  \n",
       "0                 0                 1  \n",
       "1                 1                 0  \n",
       "2                 1                 0  \n",
       "3                 0                 0  \n",
       "4                 0                 0  "
      ]
     },
     "execution_count": 88,
     "metadata": {},
     "output_type": "execute_result"
    }
   ],
   "source": [
    "cols = ['sex', 'smoker', 'region']\n",
    "new_df = pd.get_dummies(df, cols, drop_first= True)\n",
    "new_df.head()"
   ]
  },
  {
   "cell_type": "markdown",
   "id": "955935a6",
   "metadata": {},
   "source": [
    "Now, let’s only select the features that are the most relevant. Feature selection is one of the important tasks in any machine learning project. You must know which features are most correlated with the targets (the “charges” column in our case) and must only use those features that have a high correlation with your target. This can be done through experimentation. For example, in this problem, I tried using the “sex” and “region” features to predict “charges” but didn’t find much of an improvement in the prediction performance of the model. So I decided to omit these features from the model. Through small experimentation like that, I found the “age,” “bmi,” and “smoker” columns to be most relevant when predicting insurance costs (the “charges” column in our data frame)."
   ]
  },
  {
   "cell_type": "code",
   "execution_count": 91,
   "id": "647cc572",
   "metadata": {},
   "outputs": [],
   "source": [
    "X = new_df[['age', 'bmi', 'smoker_yes']]\n",
    "y = new_df['charges']"
   ]
  },
  {
   "cell_type": "code",
   "execution_count": null,
   "id": "b1b79bf0",
   "metadata": {},
   "outputs": [],
   "source": [
    "We will perfomr standarlization over X,  before spliting into test and train data."
   ]
  },
  {
   "cell_type": "code",
   "execution_count": 93,
   "id": "308bfad2",
   "metadata": {},
   "outputs": [],
   "source": [
    "X = StandardScaler().fit_transform(X)\n",
    "X_train, X_test, y_train, y_test = train_test_split(X, y, test_size = 0.2)"
   ]
  },
  {
   "cell_type": "markdown",
   "id": "fcc10cc3",
   "metadata": {},
   "source": [
    "Let's  train the data using our implementation"
   ]
  },
  {
   "cell_type": "code",
   "execution_count": 94,
   "id": "882e42c8",
   "metadata": {},
   "outputs": [],
   "source": [
    "model =  MultipleLinearRegression(C=0.01,I=1000)\n",
    "z = model.fit(X_train,y_train)"
   ]
  },
  {
   "cell_type": "code",
   "execution_count": 95,
   "id": "182abede",
   "metadata": {},
   "outputs": [
    {
     "data": {
      "text/plain": [
       "0.7505450496652133"
      ]
     },
     "execution_count": 95,
     "metadata": {},
     "output_type": "execute_result"
    }
   ],
   "source": [
    "model.score(X_test,y_test)"
   ]
  },
  {
   "cell_type": "markdown",
   "id": "98d7e7f5",
   "metadata": {},
   "source": [
    "We've achived according to 𝑅2 score 75% accuracy"
   ]
  },
  {
   "cell_type": "code",
   "execution_count": null,
   "id": "c400486b",
   "metadata": {},
   "outputs": [],
   "source": [
    "Let see how will be in standart LinearRegresion in sklearn in Python"
   ]
  },
  {
   "cell_type": "code",
   "execution_count": 96,
   "id": "23ede71e",
   "metadata": {},
   "outputs": [
    {
     "data": {
      "text/plain": [
       "LinearRegression()"
      ]
     },
     "execution_count": 96,
     "metadata": {},
     "output_type": "execute_result"
    }
   ],
   "source": [
    "lr = LinearRegression(fit_intercept=True)\n",
    "lr.fit(X_train,y_train)"
   ]
  },
  {
   "cell_type": "code",
   "execution_count": 97,
   "id": "209bd219",
   "metadata": {},
   "outputs": [
    {
     "data": {
      "text/plain": [
       "0.7499131966055586"
      ]
     },
     "execution_count": 97,
     "metadata": {},
     "output_type": "execute_result"
    }
   ],
   "source": [
    "lr.score(X_test,y_test)"
   ]
  },
  {
   "cell_type": "markdown",
   "id": "097cf890",
   "metadata": {},
   "source": [
    "The score using imprlemntation in sklearn  is the almost the same as our implementation , Let to compare the predicted values."
   ]
  },
  {
   "cell_type": "code",
   "execution_count": 98,
   "id": "ddb8ec3b",
   "metadata": {},
   "outputs": [
    {
     "data": {
      "text/html": [
       "<div>\n",
       "<style scoped>\n",
       "    .dataframe tbody tr th:only-of-type {\n",
       "        vertical-align: middle;\n",
       "    }\n",
       "\n",
       "    .dataframe tbody tr th {\n",
       "        vertical-align: top;\n",
       "    }\n",
       "\n",
       "    .dataframe thead th {\n",
       "        text-align: right;\n",
       "    }\n",
       "</style>\n",
       "<table border=\"1\" class=\"dataframe\">\n",
       "  <thead>\n",
       "    <tr style=\"text-align: right;\">\n",
       "      <th></th>\n",
       "      <th>0</th>\n",
       "    </tr>\n",
       "  </thead>\n",
       "  <tbody>\n",
       "    <tr>\n",
       "      <th>6641.345993</th>\n",
       "      <td>6641.679451</td>\n",
       "    </tr>\n",
       "    <tr>\n",
       "      <th>3038.320627</th>\n",
       "      <td>3038.165225</td>\n",
       "    </tr>\n",
       "    <tr>\n",
       "      <th>7606.316258</th>\n",
       "      <td>7606.411403</td>\n",
       "    </tr>\n",
       "    <tr>\n",
       "      <th>7791.440926</th>\n",
       "      <td>7790.606893</td>\n",
       "    </tr>\n",
       "    <tr>\n",
       "      <th>12073.850781</th>\n",
       "      <td>12072.767689</td>\n",
       "    </tr>\n",
       "    <tr>\n",
       "      <th>...</th>\n",
       "      <td>...</td>\n",
       "    </tr>\n",
       "    <tr>\n",
       "      <th>11615.034360</th>\n",
       "      <td>11615.967093</td>\n",
       "    </tr>\n",
       "    <tr>\n",
       "      <th>6888.739724</th>\n",
       "      <td>6887.629092</td>\n",
       "    </tr>\n",
       "    <tr>\n",
       "      <th>35292.083162</th>\n",
       "      <td>35291.359220</td>\n",
       "    </tr>\n",
       "    <tr>\n",
       "      <th>26483.190385</th>\n",
       "      <td>26482.121680</td>\n",
       "    </tr>\n",
       "    <tr>\n",
       "      <th>9514.839654</th>\n",
       "      <td>9514.541685</td>\n",
       "    </tr>\n",
       "  </tbody>\n",
       "</table>\n",
       "<p>268 rows × 1 columns</p>\n",
       "</div>"
      ],
      "text/plain": [
       "                         0\n",
       "6641.345993    6641.679451\n",
       "3038.320627    3038.165225\n",
       "7606.316258    7606.411403\n",
       "7791.440926    7790.606893\n",
       "12073.850781  12072.767689\n",
       "...                    ...\n",
       "11615.034360  11615.967093\n",
       "6888.739724    6887.629092\n",
       "35292.083162  35291.359220\n",
       "26483.190385  26482.121680\n",
       "9514.839654    9514.541685\n",
       "\n",
       "[268 rows x 1 columns]"
      ]
     },
     "execution_count": 98,
     "metadata": {},
     "output_type": "execute_result"
    }
   ],
   "source": [
    "our_predicted_data = model.predict(X_test)[:,0]\n",
    "python_predicted_data = lr.predict(X_test)\n",
    "pd.DataFrame(our_predicted_data ,python_predicted_data  )"
   ]
  },
  {
   "cell_type": "markdown",
   "id": "c60d4cad",
   "metadata": {},
   "source": [
    "The diferences is too small,but we can perform $R^2 score$ over the both Python and Our predicted  data ."
   ]
  },
  {
   "cell_type": "code",
   "execution_count": 99,
   "id": "064f8795",
   "metadata": {},
   "outputs": [
    {
     "data": {
      "text/plain": [
       "0.9999999904989635"
      ]
     },
     "execution_count": 99,
     "metadata": {},
     "output_type": "execute_result"
    }
   ],
   "source": [
    "ssr = np.sum((our_predicted_data - python_predicted_data) ** 2)\n",
    "sst = np.sum((our_predicted_data - np.mean(python_predicted_data)) ** 2)\n",
    "r2_score = 1 - (ssr / sst)\n",
    "r2_score"
   ]
  },
  {
   "cell_type": "markdown",
   "id": "12ed540b",
   "metadata": {},
   "source": [
    "0.9999999976969305 shows that the difference is negligible"
   ]
  }
 ],
 "metadata": {
  "kernelspec": {
   "display_name": "Python 3",
   "language": "python",
   "name": "python3"
  },
  "language_info": {
   "codemirror_mode": {
    "name": "ipython",
    "version": 3
   },
   "file_extension": ".py",
   "mimetype": "text/x-python",
   "name": "python",
   "nbconvert_exporter": "python",
   "pygments_lexer": "ipython3",
   "version": "3.8.8"
  }
 },
 "nbformat": 4,
 "nbformat_minor": 5
}
