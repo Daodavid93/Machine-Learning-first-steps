{
 "cells": [
  {
   "cell_type": "markdown",
   "id": "aeb2afa8",
   "metadata": {},
   "source": [
    "<h1> Резултати от кристалните залози  </h1> 70% преброяване от ЦИК"
   ]
  },
  {
   "cell_type": "markdown",
   "id": "4ffd2594",
   "metadata": {},
   "source": [
    "Продължаваме Промяната\t25.34%\n",
    "ГЕРБ-СДС\t22.43%\n",
    "Движение за права и свободи – ДПС\t13.68%\n",
    "БСП ЗА БЪЛГАРИЯ-10.35%\n",
    "\tПП ИМА ТАКЪВ НАРОД\t9.74%\n",
    "    Дб -5.92%"
   ]
  },
  {
   "cell_type": "markdown",
   "id": "54fcda36",
   "metadata": {},
   "source": [
    "<h2> Парламент </h2>"
   ]
  },
  {
   "cell_type": "markdown",
   "id": "0d67aea6",
   "metadata": {},
   "source": [
    "1 . Ivailo  - 22.73 (oтклонение) <br>\n",
    "ГЕРБ 21%, ППП 18%, БСП 15%, ДБ 13 %, ИТН 12%"
   ]
  },
  {
   "cell_type": "code",
   "execution_count": 3,
   "id": "da201739",
   "metadata": {},
   "outputs": [
    {
     "data": {
      "text/plain": [
       "22.73"
      ]
     },
     "execution_count": 3,
     "metadata": {},
     "output_type": "execute_result"
    }
   ],
   "source": [
    "abs(22.43 - 21 ) + abs(25.34 - 18)  + abs(10.35 -15 ) + abs(9.74 -12) + abs(5.95-13 )"
   ]
  },
  {
   "cell_type": "markdown",
   "id": "d92e3ee0",
   "metadata": {},
   "source": [
    "2.  Дейвид - 22.87  <br>  Герб-23%,харвард-17%,БСП-15%,ИТН-14%,ДБ-11%"
   ]
  },
  {
   "cell_type": "code",
   "execution_count": 8,
   "id": "d75458af",
   "metadata": {},
   "outputs": [
    {
     "data": {
      "text/plain": [
       "22.87"
      ]
     },
     "execution_count": 8,
     "metadata": {},
     "output_type": "execute_result"
    }
   ],
   "source": [
    "abs(22.43 - 23 ) + abs(25.34 - 17)  + abs(10.35 -15 ) + abs(9.74 -14) + abs(5.95-11 )"
   ]
  },
  {
   "cell_type": "markdown",
   "id": "f6751798",
   "metadata": {},
   "source": [
    "3 . Маджо . 23.73  <br>\n",
    "Modjo - 21% герб, 18%пп, 14%бсп и дб, 13% итн "
   ]
  },
  {
   "cell_type": "code",
   "execution_count": 9,
   "id": "00701722",
   "metadata": {},
   "outputs": [
    {
     "data": {
      "text/plain": [
       "23.73"
      ]
     },
     "execution_count": 9,
     "metadata": {},
     "output_type": "execute_result"
    }
   ],
   "source": [
    "abs(22.43 - 21 ) + abs(25.34 - 18)  + abs(10.35 -14 ) + abs(9.74 -13) + abs(5.95-14 )"
   ]
  },
  {
   "cell_type": "code",
   "execution_count": null,
   "id": "78cbb59a",
   "metadata": {},
   "outputs": [],
   "source": [
    "4 . Гонзо  25.73 : герб 20% ПП16%  БСП15% ДБ13% ИТН12%"
   ]
  },
  {
   "cell_type": "code",
   "execution_count": 14,
   "id": "1dbad952",
   "metadata": {},
   "outputs": [
    {
     "data": {
      "text/plain": [
       "25.73"
      ]
     },
     "execution_count": 14,
     "metadata": {},
     "output_type": "execute_result"
    }
   ],
   "source": [
    "abs(22.43 - 20 ) + abs(25.34 - 16)  + abs(10.35 -15 ) + abs(9.74 -13) + abs(5.95-12 )"
   ]
  },
  {
   "cell_type": "markdown",
   "id": "733f40a8",
   "metadata": {},
   "source": [
    "4 .Никола - 29.73  ГЕРБ 21% БСП 15% ДБ 15% ПП 13% ИТН 12%"
   ]
  },
  {
   "cell_type": "code",
   "execution_count": 13,
   "id": "ff4f47e6",
   "metadata": {},
   "outputs": [
    {
     "data": {
      "text/plain": [
       "29.73"
      ]
     },
     "execution_count": 13,
     "metadata": {},
     "output_type": "execute_result"
    }
   ],
   "source": [
    "abs(22.43 - 21 ) + abs(25.34 - 13)  + abs(10.35 -15 ) + abs(9.74 -12) + abs(5.95-15)"
   ]
  },
  {
   "cell_type": "markdown",
   "id": "0fff8119",
   "metadata": {},
   "source": [
    "<h2> Президент</h2> "
   ]
  },
  {
   "cell_type": "markdown",
   "id": "474962fa",
   "metadata": {},
   "source": [
    "Румен Георгиев Радев и Илияна Малинова Йотова\n",
    "ИК за Румен Радев и Илияна Йотова 49.40%\n",
    "Анастас Георгиев Герджиков и Невяна Михайлова Митева-Матеева ИК за Анастас Герджиков и Невяна Митева 22.41%\n",
    "Лозан Йорданов Панов и Мария Хиндова Касимова-Моасе ИК за Лозан Панов и Мария Касимова–Моасе 3.32%"
   ]
  },
  {
   "cell_type": "markdown",
   "id": "51d44032",
   "metadata": {},
   "source": [
    "1 . Deйвид 19.69 <br>\n",
    "- 42% Радев 24 %Гербеджиков 14 % Панов"
   ]
  },
  {
   "cell_type": "code",
   "execution_count": 21,
   "id": "b2c10c2d",
   "metadata": {},
   "outputs": [
    {
     "data": {
      "text/plain": [
       "19.669999999999998"
      ]
     },
     "execution_count": 21,
     "metadata": {},
     "output_type": "execute_result"
    }
   ],
   "source": [
    "abs( 49.40 - 42 ) + abs( 22.41 - 24)  + abs(3.32 -14 ) "
   ]
  },
  {
   "cell_type": "markdown",
   "id": "324cb9d0",
   "metadata": {},
   "source": [
    "2. Madjo Dimitar 24.49\n",
    "39% Радев, 20% су, 15% Панов."
   ]
  },
  {
   "cell_type": "code",
   "execution_count": 19,
   "id": "936a88b5",
   "metadata": {},
   "outputs": [
    {
     "data": {
      "text/plain": [
       "24.49"
      ]
     },
     "execution_count": 19,
     "metadata": {},
     "output_type": "execute_result"
    }
   ],
   "source": [
    "abs( 49.40 - 39 ) + abs( 22.41 - 20)  + abs(3.32 -15 ) "
   ]
  },
  {
   "cell_type": "markdown",
   "id": "919e23c0",
   "metadata": {},
   "source": [
    "3 . Ivailo \n",
    "Президентски - първи тур - Радев 40%, Панов 21, Герджиков 20"
   ]
  },
  {
   "cell_type": "code",
   "execution_count": 22,
   "id": "9e90c532",
   "metadata": {},
   "outputs": [
    {
     "data": {
      "text/plain": [
       "24.49"
      ]
     },
     "execution_count": 22,
     "metadata": {},
     "output_type": "execute_result"
    }
   ],
   "source": [
    "abs( 49.40 - 39 ) + abs( 22.41 - 20)  + abs(3.32 -15 ) "
   ]
  },
  {
   "cell_type": "code",
   "execution_count": null,
   "id": "646cca43",
   "metadata": {},
   "outputs": [],
   "source": [
    "4.     NIkola - 38% Радев 24% Панов 22% Герджиков"
   ]
  },
  {
   "cell_type": "code",
   "execution_count": 25,
   "id": "7d47b3b3",
   "metadata": {},
   "outputs": [
    {
     "data": {
      "text/plain": [
       "31.669999999999998"
      ]
     },
     "execution_count": 25,
     "metadata": {},
     "output_type": "execute_result"
    }
   ],
   "source": [
    "abs( 49.40 - 38 ) + abs( 22.41 - 24)  + abs(3.32 -22 ) "
   ]
  },
  {
   "cell_type": "markdown",
   "id": "64de8ec3",
   "metadata": {},
   "source": [
    "5. Gonzo -35% Радев 20% Панов 20% Герджиков"
   ]
  },
  {
   "cell_type": "code",
   "execution_count": 26,
   "id": "bb46b5ba",
   "metadata": {},
   "outputs": [
    {
     "data": {
      "text/plain": [
       "33.489999999999995"
      ]
     },
     "execution_count": 26,
     "metadata": {},
     "output_type": "execute_result"
    }
   ],
   "source": [
    "abs( 49.40 - 35 ) + abs( 22.41 - 20)  + abs(3.32 -20 ) "
   ]
  },
  {
   "cell_type": "code",
   "execution_count": null,
   "id": "62f6d9af",
   "metadata": {},
   "outputs": [],
   "source": []
  }
 ],
 "metadata": {
  "kernelspec": {
   "display_name": "Python 3",
   "language": "python",
   "name": "python3"
  },
  "language_info": {
   "codemirror_mode": {
    "name": "ipython",
    "version": 3
   },
   "file_extension": ".py",
   "mimetype": "text/x-python",
   "name": "python",
   "nbconvert_exporter": "python",
   "pygments_lexer": "ipython3",
   "version": "3.8.8"
  }
 },
 "nbformat": 4,
 "nbformat_minor": 5
}
