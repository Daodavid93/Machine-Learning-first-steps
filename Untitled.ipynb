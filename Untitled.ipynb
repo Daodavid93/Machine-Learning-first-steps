{
 "cells": [
  {
   "cell_type": "markdown",
   "id": "9e83f479",
   "metadata": {},
   "source": [
    "NIkola - 38% Радев 24% Панов 22% Герджиков"
   ]
  },
  {
   "cell_type": "markdown",
   "id": "1ac4c311",
   "metadata": {},
   "source": [
    "Gonzo -35% Радев 20% Панов 20% Герджиков\n",
    "Dejwid  - 42% Радев 24 %Гербеджиков 14 % Панов"
   ]
  },
  {
   "cell_type": "code",
   "execution_count": null,
   "id": "99a3e1f6",
   "metadata": {},
   "outputs": [],
   "source": [
    "Parlament - \n",
    "deivd\n",
    "Герб-23%,харвард-17%,БСП-15%,ИТН-14%,ДБ-11%"
   ]
  },
  {
   "cell_type": "code",
   "execution_count": null,
   "id": "9f7613ff",
   "metadata": {},
   "outputs": [],
   "source": [
    "NIkola - \n",
    "ГЕРБ 21% БСП 15% ДБ 15% ПП 13% ИТН 12%"
   ]
  },
  {
   "cell_type": "code",
   "execution_count": null,
   "id": "cfeb6a39",
   "metadata": {},
   "outputs": [],
   "source": [
    "21% герб, 18%пп, 14%бсп и дб, 13% итн - modji\n",
    "\n",
    "герб 20% ПП16%  БСП15% ДБ13% ИТН12% - gonzo"
   ]
  },
  {
   "cell_type": "code",
   "execution_count": null,
   "id": "944b0dbd",
   "metadata": {},
   "outputs": [],
   "source": [
    "Ivailo \n",
    "ГЕРБ 21%, ППП 18%, БСП 15%, ДБ 13 %, ИТН 12%\n",
    "\n",
    "Президентски - първи тур - Радев 40%, Панов 21, Герджиков 20"
   ]
  },
  {
   "cell_type": "code",
   "execution_count": null,
   "id": "13114f19",
   "metadata": {},
   "outputs": [],
   "source": [
    "Продължаваме Промяната\t25.34%\n",
    "ГЕРБ-СДС\t22.43%\n",
    "Движение за права и свободи – ДПС\t13.68%\n",
    "БСП ЗА БЪЛГАРИЯ-10.35%\n",
    "\tПП ИМА ТАКЪВ НАРОД\t9.74%\n",
    "    Дб -5.92%"
   ]
  },
  {
   "cell_type": "code",
   "execution_count": null,
   "id": "4fae19e2",
   "metadata": {},
   "outputs": [],
   "source": [
    "ПП - ПП_н + Гер - Герб_п + БСП - БСП_п + ИТН_п - ИТН_п +ДБ - ДБ_п"
   ]
  },
  {
   "cell_type": "code",
   "execution_count": null,
   "id": "4a7c2ed2",
   "metadata": {},
   "outputs": [],
   "source": [
    "Класиранате : \n",
    "    Дейвид -  Герб-23%,харвард-17%,БСП-15%,ИТН-14%,ДБ-11%"
   ]
  },
  {
   "cell_type": "code",
   "execution_count": 12,
   "id": "c7576f0d",
   "metadata": {},
   "outputs": [
    {
     "data": {
      "text/plain": [
       "22.87"
      ]
     },
     "execution_count": 12,
     "metadata": {},
     "output_type": "execute_result"
    }
   ],
   "source": [
    "abs(22.43 - 23 ) + abs(25.34 - 17)  + abs(10.35 -15 ) + abs(9.74 -14) + abs(5.95-11 )"
   ]
  },
  {
   "cell_type": "code",
   "execution_count": null,
   "id": "9237e342",
   "metadata": {},
   "outputs": [],
   "source": [
    "NIkola - \n",
    "ГЕРБ 21% БСП 15% ДБ 15% ПП 13% ИТН 12%"
   ]
  },
  {
   "cell_type": "code",
   "execution_count": 11,
   "id": "48e1d5d7",
   "metadata": {},
   "outputs": [
    {
     "data": {
      "text/plain": [
       "29.73"
      ]
     },
     "execution_count": 11,
     "metadata": {},
     "output_type": "execute_result"
    }
   ],
   "source": [
    "abs(22.43 - 21 ) + abs(25.34 - 13)  + abs(10.35 -15 ) + abs(9.74 -12) + abs(5.95-15 )"
   ]
  },
  {
   "cell_type": "markdown",
   "id": "bf4d06e1",
   "metadata": {},
   "source": [
    "Ivailo \n",
    "ГЕРБ 21%, ППП 18%, БСП 15%, ДБ 13 %, ИТН 12%\n"
   ]
  },
  {
   "cell_type": "code",
   "execution_count": 13,
   "id": "5cc117aa",
   "metadata": {},
   "outputs": [
    {
     "data": {
      "text/plain": [
       "22.73"
      ]
     },
     "execution_count": 13,
     "metadata": {},
     "output_type": "execute_result"
    }
   ],
   "source": [
    "\n",
    "abs(22.43 - 21 ) + abs(25.34 - 18)  + abs(10.35 -15 ) + abs(9.74 -12) + abs(5.95-13 )"
   ]
  },
  {
   "cell_type": "code",
   "execution_count": null,
   "id": "bdc62e71",
   "metadata": {},
   "outputs": [],
   "source": [
    "Modjo - 21% герб, 18%пп, 14%бсп и дб, 13% итн "
   ]
  },
  {
   "cell_type": "code",
   "execution_count": 14,
   "id": "4d5aa78c",
   "metadata": {},
   "outputs": [
    {
     "data": {
      "text/plain": [
       "23.73"
      ]
     },
     "execution_count": 14,
     "metadata": {},
     "output_type": "execute_result"
    }
   ],
   "source": [
    "abs(22.43 - 21 ) + abs(25.34 - 18)  + abs(10.35 -14 ) + abs(9.74 -13) + abs(5.95-14 )"
   ]
  },
  {
   "cell_type": "code",
   "execution_count": null,
   "id": "812f2198",
   "metadata": {},
   "outputs": [],
   "source": []
  },
  {
   "cell_type": "code",
   "execution_count": null,
   "id": "479cb33f",
   "metadata": {},
   "outputs": [],
   "source": [
    "Gonzo - герб 20% ПП16%  БСП15% ДБ13% ИТН12% - gonzo"
   ]
  },
  {
   "cell_type": "code",
   "execution_count": 15,
   "id": "b79223ce",
   "metadata": {},
   "outputs": [
    {
     "data": {
      "text/plain": [
       "25.73"
      ]
     },
     "execution_count": 15,
     "metadata": {},
     "output_type": "execute_result"
    }
   ],
   "source": [
    "abs(22.43 - 20 ) + abs(25.34 - 16)  + abs(10.35 -15 ) + abs(9.74 -12) + abs(5.95-13 )"
   ]
  },
  {
   "cell_type": "code",
   "execution_count": null,
   "id": "cf7f8b88",
   "metadata": {},
   "outputs": [],
   "source": [
    "Prezident : \n",
    "    NIkola - 38% Радев 24% Панов 22% Герджиков"
   ]
  },
  {
   "cell_type": "code",
   "execution_count": null,
   "id": "41db0de9",
   "metadata": {},
   "outputs": [],
   "source": [
    "abs(22.43 - 20 ) + abs(25.34 - 16)  + abs(10.35 -15 ) + abs(9.74 -12) + abs(5.95-13 )"
   ]
  },
  {
   "cell_type": "code",
   "execution_count": null,
   "id": "aa581c58",
   "metadata": {},
   "outputs": [],
   "source": [
    "ПП - ПП_н + Гер - Герб_п + БСП - БСП_п + ИТН_п - ИТН_п +ДБ - ДБ_п"
   ]
  },
  {
   "cell_type": "markdown",
   "id": "049f7ea2",
   "metadata": {},
   "source": [
    "## Румен Георгиев Радев и Илияна Малинова Йотова\n",
    "ИК за Румен Радев и Илияна Йотова\t49.40% <br>\n",
    "Анастас Георгиев Герджиков и Невяна Михайлова Митева-Матеева\n",
    "ИК за Анастас Герджиков и Невяна Митева\t22.41% <br>\n",
    "Лозан Йорданов Панов и Мария Хиндова Касимова-Моасе\n",
    "ИК за Лозан Панов и Мария Касимова–Моасе \t3.32% <br>"
   ]
  },
  {
   "cell_type": "code",
   "execution_count": null,
   "id": "0a3c4f00",
   "metadata": {},
   "outputs": [],
   "source": [
    "    NIkola - 38% Радев 24% Панов 22% Герджиков"
   ]
  },
  {
   "cell_type": "code",
   "execution_count": 17,
   "id": "58e14a99",
   "metadata": {},
   "outputs": [
    {
     "data": {
      "text/plain": [
       "31.669999999999998"
      ]
     },
     "execution_count": 17,
     "metadata": {},
     "output_type": "execute_result"
    }
   ],
   "source": [
    "abs( 49.40 - 38 ) + abs( 22.41 - 24)  + abs(3.32 -22 ) "
   ]
  },
  {
   "cell_type": "code",
   "execution_count": null,
   "id": "03c1032f",
   "metadata": {},
   "outputs": [],
   "source": [
    "Dejwid  - 42% Радев 24 %Гербеджиков 14 % Панов"
   ]
  },
  {
   "cell_type": "code",
   "execution_count": 18,
   "id": "d5e91334",
   "metadata": {},
   "outputs": [
    {
     "data": {
      "text/plain": [
       "19.669999999999998"
      ]
     },
     "execution_count": 18,
     "metadata": {},
     "output_type": "execute_result"
    }
   ],
   "source": [
    "abs( 49.40 - 42 ) + abs( 22.41 - 24)  + abs(3.32 -14 ) "
   ]
  },
  {
   "cell_type": "code",
   "execution_count": null,
   "id": "5d8b365f",
   "metadata": {},
   "outputs": [],
   "source": [
    "Gonzo -35% Радев 20% Панов 20% Герджиков"
   ]
  },
  {
   "cell_type": "code",
   "execution_count": 19,
   "id": "03638e3b",
   "metadata": {},
   "outputs": [
    {
     "data": {
      "text/plain": [
       "33.489999999999995"
      ]
     },
     "execution_count": 19,
     "metadata": {},
     "output_type": "execute_result"
    }
   ],
   "source": [
    "abs( 49.40 - 35 ) + abs( 22.41 - 20)  + abs(3.32 -20 ) "
   ]
  },
  {
   "cell_type": "code",
   "execution_count": null,
   "id": "a415bf66",
   "metadata": {},
   "outputs": [],
   "source": []
  },
  {
   "cell_type": "code",
   "execution_count": null,
   "id": "532e4329",
   "metadata": {},
   "outputs": [],
   "source": [
    "Ivailo \n",
    "Президентски - първи тур - Радев 40%, Панов 21, Герджиков 20"
   ]
  },
  {
   "cell_type": "code",
   "execution_count": 21,
   "id": "49e8aa8c",
   "metadata": {},
   "outputs": [
    {
     "data": {
      "text/plain": [
       "29.49"
      ]
     },
     "execution_count": 21,
     "metadata": {},
     "output_type": "execute_result"
    }
   ],
   "source": [
    "abs( 49.40 - 40 ) + abs( 22.41 - 20)  + abs(3.32 -21 ) "
   ]
  },
  {
   "cell_type": "code",
   "execution_count": null,
   "id": "a4780914",
   "metadata": {},
   "outputs": [],
   "source": [
    "Dimitar\n",
    "39% Радев, 20% су, 15% Панов."
   ]
  },
  {
   "cell_type": "code",
   "execution_count": 22,
   "id": "78d30a04",
   "metadata": {},
   "outputs": [
    {
     "data": {
      "text/plain": [
       "24.49"
      ]
     },
     "execution_count": 22,
     "metadata": {},
     "output_type": "execute_result"
    }
   ],
   "source": [
    "abs( 49.40 - 39 ) + abs( 22.41 - 20)  + abs(3.32 -15 ) "
   ]
  }
 ],
 "metadata": {
  "kernelspec": {
   "display_name": "Python 3",
   "language": "python",
   "name": "python3"
  },
  "language_info": {
   "codemirror_mode": {
    "name": "ipython",
    "version": 3
   },
   "file_extension": ".py",
   "mimetype": "text/x-python",
   "name": "python",
   "nbconvert_exporter": "python",
   "pygments_lexer": "ipython3",
   "version": "3.8.8"
  }
 },
 "nbformat": 4,
 "nbformat_minor": 5
}
