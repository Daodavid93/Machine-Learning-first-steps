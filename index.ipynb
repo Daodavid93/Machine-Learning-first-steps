{
 "cells": [
  {
   "cell_type": "markdown",
   "id": "0e54494e",
   "metadata": {},
   "source": [
    "<h1> Linear Regression </h1>\n",
    "<div class='legend'>\n",
    "<ul style=\"margin-left: 30px\">\n",
    "      <li>1.0  <a href='maths-behind-ML/book/LinearRegression#simple~linear~regression#simple~linear~regression'>Simple Linear Regression </a> </li> \n",
    "      <li>1.1 <a href='book/LinearRegression#simple~linear~regression'> Fitting the regresion line</a> </li> <br>\n",
    "      <li>1.2 <a href='#grad~sim~linear'>Gradient Descent over simple linear regression</a> </li>\n",
    "      <li>1.3 <a href='#effect~learning~rate'>Effect of different values for learning rate</a> </li>\n",
    "      <li>1.4 <a href='#m-linear-r'>Multiple Linear Regression</a> </li>\n",
    "      <li>1.5 <a href='#reg'>Regularization of gradient descent by learning rate and max iterations</a> </li>    \n",
    "      <li>1.6 <a href='#conclusion'>Conclusion</a> </li>\n",
    "</ul> \n",
    "</div>    \n",
    " "
   ]
  }
 ],
 "metadata": {
  "kernelspec": {
   "display_name": "Python 3",
   "language": "python",
   "name": "python3"
  },
  "language_info": {
   "codemirror_mode": {
    "name": "ipython",
    "version": 3
   },
   "file_extension": ".py",
   "mimetype": "text/x-python",
   "name": "python",
   "nbconvert_exporter": "python",
   "pygments_lexer": "ipython3",
   "version": "3.8.8"
  }
 },
 "nbformat": 4,
 "nbformat_minor": 5
}
