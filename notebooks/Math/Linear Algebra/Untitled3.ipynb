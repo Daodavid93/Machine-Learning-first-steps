{
 "cells": [
  {
   "cell_type": "markdown",
   "id": "4c299ab0",
   "metadata": {},
   "source": [
    "# Machine Learning Algorithms \n",
    "<div class='l' font-size: '25px'>\n",
    "<ol>\n",
    "   <br><li> <a ahref='google.com'/> Decision Tree</li>\n",
    "   <br><li> <a ahref='google.com'/> kNN  </li><br>\n",
    "  <li><a ahref='google.com'/> K-Means </li><br>\n",
    "   <li><a ahref='google.com'/>Random Forest </li> \n",
    "    <li><a ahref='google.com'/>PCA </li> \n",
    "    <li><a ahref='google.com'/>Gradient Boosting algorithms\n",
    "        <ol>\n",
    "            <li><a ahref='google.com'/> das</li> \n",
    "            <li><a ahref='google.com'/> dasdas </li> \n",
    "        </ol>\n",
    "    </li> \n",
    "</ol>\n",
    " </div>   "
   ]
  },
  {
   "cell_type": "markdown",
   "id": "1b662b57",
   "metadata": {},
   "source": [
    "# Machine Learning Algorithms \n",
    "\n",
    "* <a ahref='google.com'  >  Decision Tree <a>\n",
    "* <a ahref='google.com'/> kNN \n",
    "* <a ahref='google.com'/> K-Means \n",
    "   <a ahref='google.com'/> \n",
    "    <li><a ahref='google.com'/> \n",
    "    <li><a ahref='google.com'/>\n",
    "        <ol>\n",
    "            <li><a ahref='google.com'/> das</li> \n",
    "            <li><a ahref='google.com'/> dasdas </li> \n",
    "        </ol>\n",
    "    </li> \n",
    "</ol>\n",
    " </div>   "
   ]
  }
 ],
 "metadata": {
  "kernelspec": {
   "display_name": "Python 3",
   "language": "python",
   "name": "python3"
  },
  "language_info": {
   "codemirror_mode": {
    "name": "ipython",
    "version": 3
   },
   "file_extension": ".py",
   "mimetype": "text/x-python",
   "name": "python",
   "nbconvert_exporter": "python",
   "pygments_lexer": "ipython3",
   "version": "3.8.8"
  }
 },
 "nbformat": 4,
 "nbformat_minor": 5
}
