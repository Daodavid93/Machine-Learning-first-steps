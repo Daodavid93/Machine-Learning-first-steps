{
 "cells": [
  {
   "cell_type": "code",
   "execution_count": 1,
   "metadata": {},
   "outputs": [],
   "source": [
    "import warnings\n",
    "import datetime\n",
    "\n",
    "import numpy as np\n",
    "import matplotlib.pyplot as plt\n",
    "import pandas as pd\n",
    "import seaborn as sns\n",
    "\n",
    "from sklearn.model_selection import train_test_split\n",
    "from IPython.display import display, Markdown , Math \n",
    "\n",
    "sns.set()\n",
    "warnings.filterwarnings('ignore')"
   ]
  },
  {
   "cell_type": "code",
   "execution_count": 2,
   "metadata": {},
   "outputs": [],
   "source": [
    "def printmd(string): display(Markdown(string))\n",
    "def latex(out): printmd(f'{out}')  \n",
    "def pr(string): printmd('***{}***'.format(string))"
   ]
  },
  {
   "cell_type": "markdown",
   "metadata": {},
   "source": []
  },
  {
   "cell_type": "markdown",
   "metadata": {},
   "source": [
    "# Matrix"
   ]
  },
  {
   "cell_type": "markdown",
   "metadata": {},
   "source": [
    "<div class='intro'> </div>\n",
    "<p> In mathematics, a matrix is a rectangular array of numbers or symbols arranged in rows and columns.In history,\n",
    "    a matrix was developed as a tool used for solving system linear equations.The size of matrix is defined by\n",
    "    the number of columns abd rows that it contains. \n",
    "    The size of the matrix is defined by the number of columns and rows that it contains.\n",
    "    The matrix with m rows and n columns is denoted by $m\\times n$ which is written as n-by-m matrix.\n",
    "    $$A_{m,n} = \n",
    " \\begin{pmatrix}\n",
    "  a_{1,1} & a_{1,2} & \\cdots & a_{1,n} \\\\\n",
    "  a_{2,1} & a_{2,2} & \\cdots & a_{2,n} \\\\\n",
    "  \\vdots  & \\vdots  & \\ddots & \\vdots  \\\\\n",
    "  a_{m,1} & a_{m,2} & \\cdots & a_{m,n} \n",
    " \\end{pmatrix} $$\n",
    "</p>"
   ]
  },
  {
   "cell_type": "markdown",
   "metadata": {},
   "source": [
    "## Basic Properties\n",
    "### Transpose Matrix\n",
    "The transpose of a matrix is simply a flipped version of the original matrix. We can transpose a matrix by switching its rows with its columns.\n",
    "We denote the transpose of matrix $A$ by $A^T$. For example, if <br> <br>\n",
    " $A_{m,n} = \n",
    " \\begin{pmatrix}\n",
    "  a_{1,1} & a_{1,2} & \\cdots & a_{1,n} \\\\\n",
    "  a_{2,1} & a_{2,2} & \\cdots & a_{2,n} \\\\\n",
    "  \\vdots  & \\vdots  & \\ddots & \\vdots  \\\\\n",
    "  a_{m,1} & a_{m,2} & \\cdots & a_{m,n} \n",
    " \\end{pmatrix} $\n",
    " <br>\n",
    " \n",
    "  $A = \n",
    " \\begin{pmatrix}\n",
    "  a_{1,1} & a_{1,2} & \\cdots & a_{1,n} \\\\\n",
    "  a_{2,1} & a_{2,2} & \\cdots & a_{2,n} \\\\\n",
    " \\end{pmatrix} $ \n",
    "  $A^T = \n",
    " \\begin{pmatrix}\n",
    "  a_{1,1} & a_{2,1}  \\\\\n",
    "  a_{1,2} & a_{2,2} \\\\\n",
    "  \\vdots & \\vdots \\\\\n",
    "  a_{1,n} &  a_{2,n}\n",
    " \\end{pmatrix} $  <br>\n",
    "### Adding and Substracting\n",
    "Matrix addition is comulative and associative <br> <br>\n",
    "$A+B = B+A = C$\n",
    "where $c_{ij}=a_{ij}+b_{ij}  $ <br>\n",
    "\n",
    "$(A+B) + C= A + (B+C)$\n",
    "### Scallar multiplication\n",
    "$(\\gamma+\\delta)A =\\gamma A + \\delta B $\n",
    "### Matrix multiplication \n",
    "$AB=C$ where $c_{ij} = \\sum_k a_{ik}b_{kj}$ <br> <br>\n",
    "propeties <br> <br>\n",
    "$(AB)^T=B^TA^T$\n"
   ]
  },
  {
   "cell_type": "markdown",
   "metadata": {},
   "source": [
    "### Matrix mutliplication is distributive <br>\n",
    "$A(B+C)= AB+AC $"
   ]
  },
  {
   "cell_type": "markdown",
   "metadata": {},
   "source": [
    "### Matrix mutliplication is associative\n",
    "$A(BC)=(AB)C$\n",
    "### Matrix multiplication is not commutative\n",
    "$AB\\ne BA$"
   ]
  },
  {
   "cell_type": "markdown",
   "metadata": {},
   "source": [
    "### Identity matrix \n",
    " $I = \n",
    " \\begin{pmatrix}\n",
    "   1 & 0 & 0  \\\\\n",
    " 0 & 1 & 0  \\\\\n",
    "  0 & 0 & 1  \n",
    " \\end{pmatrix} $  <br>\n",
    "<br> <br>\n",
    "#####  every matrix satisfies\n",
    "$IA=AI=A$ "
   ]
  },
  {
   "cell_type": "markdown",
   "metadata": {},
   "source": [
    "### Inverse Matrices\n",
    "The matrix inverse of $A$ is denoted $A^{−1}$. It is the matrix that results in the identity matrix when it is multiplied by A:\n",
    "\n",
    "$A^{-1}A=I$"
   ]
  },
  {
   "cell_type": "markdown",
   "metadata": {},
   "source": [
    "# Orthogonal matrix"
   ]
  },
  {
   "cell_type": "markdown",
   "metadata": {},
   "source": [
    "In linear algebra, an orthogonal matrix, or orthonormal matrix, is a real square matrix whose columns and rows are orthonormal vectors.\n",
    "\n",
    "One way to express this is :\n",
    "$A^TA=I$ <br>\n",
    "this means that $A^T = A^{-1}$"
   ]
  },
  {
   "cell_type": "markdown",
   "metadata": {},
   "source": [
    "# Symetric matrix \n",
    "One matrix is symtric of $A^T=A$"
   ]
  },
  {
   "cell_type": "code",
   "execution_count": null,
   "metadata": {},
   "outputs": [],
   "source": []
  },
  {
   "cell_type": "markdown",
   "metadata": {},
   "source": [
    "## Examples with NymPY"
   ]
  },
  {
   "cell_type": "code",
   "execution_count": 3,
   "metadata": {},
   "outputs": [
    {
     "data": {
      "text/plain": [
       "array([[2, 3],\n",
       "       [6, 5]])"
      ]
     },
     "execution_count": 3,
     "metadata": {},
     "output_type": "execute_result"
    }
   ],
   "source": [
    "A = np.array([[2, 3], [6, 5]])\n",
    "A"
   ]
  },
  {
   "cell_type": "code",
   "execution_count": 4,
   "metadata": {},
   "outputs": [
    {
     "data": {
      "text/plain": [
       "array([[5, 3],\n",
       "       [2, 2]])"
      ]
     },
     "execution_count": 4,
     "metadata": {},
     "output_type": "execute_result"
    }
   ],
   "source": [
    "B = np.array([[5, 3], [2, 2]])\n",
    "B"
   ]
  },
  {
   "cell_type": "markdown",
   "metadata": {},
   "source": [
    "$AB$"
   ]
  },
  {
   "cell_type": "code",
   "execution_count": 5,
   "metadata": {},
   "outputs": [
    {
     "data": {
      "text/plain": [
       "array([[16, 12],\n",
       "       [40, 28]])"
      ]
     },
     "execution_count": 5,
     "metadata": {},
     "output_type": "execute_result"
    }
   ],
   "source": [
    "AB = np.dot(A, B)\n",
    "AB"
   ]
  },
  {
   "cell_type": "markdown",
   "metadata": {},
   "source": [
    "BA"
   ]
  },
  {
   "cell_type": "code",
   "execution_count": 6,
   "metadata": {},
   "outputs": [
    {
     "data": {
      "text/plain": [
       "array([[28, 30],\n",
       "       [16, 16]])"
      ]
     },
     "execution_count": 6,
     "metadata": {},
     "output_type": "execute_result"
    }
   ],
   "source": [
    "BA = np.dot(B, A)\n",
    "BA"
   ]
  },
  {
   "cell_type": "markdown",
   "metadata": {},
   "source": [
    "$(AB)^T$"
   ]
  },
  {
   "cell_type": "code",
   "execution_count": 7,
   "metadata": {},
   "outputs": [
    {
     "data": {
      "text/plain": [
       "array([[16, 40],\n",
       "       [12, 28]])"
      ]
     },
     "execution_count": 7,
     "metadata": {},
     "output_type": "execute_result"
    }
   ],
   "source": [
    "(A.dot(B)).T"
   ]
  },
  {
   "cell_type": "markdown",
   "metadata": {},
   "source": [
    "$B^TA^T$"
   ]
  },
  {
   "cell_type": "code",
   "execution_count": 8,
   "metadata": {},
   "outputs": [
    {
     "data": {
      "text/plain": [
       "array([[16, 40],\n",
       "       [12, 28]])"
      ]
     },
     "execution_count": 8,
     "metadata": {},
     "output_type": "execute_result"
    }
   ],
   "source": [
    "B.T.dot(A.T)"
   ]
  },
  {
   "cell_type": "markdown",
   "metadata": {},
   "source": [
    "#### from above  we can see : \n",
    "$(AB)^T$ = $B^TA^T$"
   ]
  },
  {
   "cell_type": "markdown",
   "metadata": {},
   "source": [
    "I"
   ]
  },
  {
   "cell_type": "code",
   "execution_count": 9,
   "metadata": {},
   "outputs": [
    {
     "data": {
      "text/plain": [
       "array([[1., 0., 0.],\n",
       "       [0., 1., 0.],\n",
       "       [0., 0., 1.]])"
      ]
     },
     "execution_count": 9,
     "metadata": {},
     "output_type": "execute_result"
    }
   ],
   "source": [
    "np.eye(3)"
   ]
  },
  {
   "cell_type": "markdown",
   "metadata": {},
   "source": [
    "$A^{-1}$"
   ]
  },
  {
   "cell_type": "code",
   "execution_count": 10,
   "metadata": {},
   "outputs": [
    {
     "data": {
      "text/plain": [
       "array([[-0.625,  0.375],\n",
       "       [ 0.75 , -0.25 ]])"
      ]
     },
     "execution_count": 10,
     "metadata": {},
     "output_type": "execute_result"
    }
   ],
   "source": [
    "A_inv = np.linalg.inv(A)\n",
    "A_inv"
   ]
  },
  {
   "cell_type": "markdown",
   "metadata": {},
   "source": [
    "$A^{-1}A=I$"
   ]
  },
  {
   "cell_type": "code",
   "execution_count": 11,
   "metadata": {},
   "outputs": [
    {
     "data": {
      "text/plain": [
       "array([[1., 0.],\n",
       "       [0., 1.]])"
      ]
     },
     "execution_count": 11,
     "metadata": {},
     "output_type": "execute_result"
    }
   ],
   "source": [
    "np.round(A_inv.dot(A))"
   ]
  },
  {
   "cell_type": "markdown",
   "metadata": {},
   "source": [
    "## Linear operator and linear transormations using matrix\n",
    "An operator $L^~$ is said to be linear if, for every pair of functions f and g and scalar t,\n",
    "\n",
    " $L^~(f+g)=L^~f+L^~g$ \n",
    "and\n",
    "\n",
    " $L^~(tf)=tL^~f$. <br> <br>\n",
    "We can use the matrix as a linear transformation, some of them rotate the space, \n",
    "others rescale it and they can be combined."
   ]
  },
  {
   "cell_type": "code",
   "execution_count": 12,
   "metadata": {},
   "outputs": [],
   "source": [
    "def plotVectors(vecs, cols, alpha=1):\n",
    "    \"\"\"\n",
    "    Plot set of vectors.\n",
    "\n",
    "    Parameters\n",
    "    ----------\n",
    "    vecs : array-like\n",
    "        Coordinates of the vectors to plot. Each vectors is in an array. For\n",
    "        instance: [[1, 3], [2, 2]] can be used to plot 2 vectors.\n",
    "    cols : array-like\n",
    "        Colors of the vectors. For instance: ['red', 'blue'] will display the\n",
    "        first vector in red and the second in blue.\n",
    "    alpha : float\n",
    "        Opacity of vectors\n",
    "\n",
    "    Returns:\n",
    "\n",
    "    fig : instance of matplotlib.figure.Figure\n",
    "        The figure of the vectors\n",
    "    \"\"\"\n",
    "    plt.figure()\n",
    "    plt.axvline(x=0, color='#A9A9A9', zorder=0)\n",
    "    plt.axhline(y=0, color='#A9A9A9', zorder=0)\n",
    "\n",
    "    for i in range(len(vecs)):\n",
    "        x = np.concatenate([[0,0],vecs[i]])\n",
    "        #print(x[0])\n",
    "        plt.quiver([x[0]],\n",
    "                   [x[1]],\n",
    "                   [x[2]],\n",
    "                   [x[3]],\n",
    "                   angles='xy', scale_units='xy', scale=1, color=cols[i],\n",
    "                   alpha=alpha)"
   ]
  },
  {
   "cell_type": "code",
   "execution_count": 13,
   "metadata": {},
   "outputs": [
    {
     "data": {
      "text/plain": [
       "array([2, 1])"
      ]
     },
     "execution_count": 13,
     "metadata": {},
     "output_type": "execute_result"
    }
   ],
   "source": [
    "v = np.array([[2], [1]])\n",
    "v.flatten()"
   ]
  },
  {
   "cell_type": "code",
   "execution_count": 14,
   "metadata": {},
   "outputs": [
    {
     "data": {
      "text/plain": [
       "(-1, 4)"
      ]
     },
     "execution_count": 14,
     "metadata": {},
     "output_type": "execute_result"
    },
    {
     "data": {
      "image/png": "[encoded data removed]",
      "text/plain": [
       "<Figure size 432x288 with 1 Axes>"
      ]
     },
     "metadata": {
      "needs_background": "light"
     },
     "output_type": "display_data"
    }
   ],
   "source": [
    "plotVectors([v.flatten()], cols=['#1190FF'])\n",
    "plt.ylim(-1, 4)\n",
    "plt.xlim(-1, 4)"
   ]
  },
  {
   "cell_type": "code",
   "execution_count": 15,
   "metadata": {},
   "outputs": [
    {
     "name": "stdout",
     "output_type": "stream",
     "text": [
      "[[ 7]\n",
      " [17]]\n"
     ]
    },
    {
     "data": {
      "text/plain": [
       "(-1, 4)"
      ]
     },
     "execution_count": 15,
     "metadata": {},
     "output_type": "execute_result"
    },
    {
     "data": {
      "image/png": "[encoded data removed]",
      "text/plain": [
       "<Figure size 432x288 with 1 Axes>"
      ]
     },
     "metadata": {
      "needs_background": "light"
     },
     "output_type": "display_data"
    }
   ],
   "source": [
    "Av = A.dot(v)\n",
    "print(Av)\n",
    "plotVectors([v.flatten(), Av.flatten()], cols=['#1190FF', '#FF9A13'])\n",
    "plt.ylim(-1, 4)\n",
    "plt.xlim(-1, 4)"
   ]
  },
  {
   "cell_type": "markdown",
   "metadata": {},
   "source": [
    "The linear oparator A can be used as linear transformation "
   ]
  },
  {
   "cell_type": "markdown",
   "metadata": {},
   "source": [
    "Let to have linear opearator  <br> <br> \n",
    "$$L =  \\begin{bmatrix}cos(45^*) & -sin(45^*) \\\\ sin(45^*) & cos(45^*)  \\end{bmatrix}=  \\begin{bmatrix} 0.7  & 0.7 \\\\ 0.7 & 0.7  \\end{bmatrix}$$\n",
    "<br>\n",
    "if we apply this linear operator to one vector, the result will be a rotation of this vector into $45^*$\n"
   ]
  },
  {
   "cell_type": "markdown",
   "metadata": {},
   "source": [
    "example : <br> $$x =\\begin{bmatrix} 3 \\\\ 3   \\end{bmatrix}$$ <br> <br> <br> "
   ]
  },
  {
   "cell_type": "code",
   "execution_count": 16,
   "metadata": {},
   "outputs": [
    {
     "data": {
      "text/plain": [
       "(-1, 4)"
      ]
     },
     "execution_count": 16,
     "metadata": {},
     "output_type": "execute_result"
    },
    {
     "data": {
      "image/png": "[encoded data removed]",
      "text/plain": [
       "<Figure size 432x288 with 1 Axes>"
      ]
     },
     "metadata": {
      "needs_background": "light"
     },
     "output_type": "display_data"
    }
   ],
   "source": [
    "v = np.array([[3], [3]])\n",
    "v.flatten()\n",
    "plotVectors([v.flatten()], cols=['#1190FF'])\n",
    "plt.ylim(-1, 4)\n",
    "plt.xlim(-1, 4)"
   ]
  },
  {
   "cell_type": "markdown",
   "metadata": {},
   "source": [
    "$$x_2=Lx=  \\begin{bmatrix}cos(45^*) & -sin(45^*) \\\\ sin(45^*) & cos(45^*)  \\end{bmatrix} \n",
    "=  \\begin{bmatrix} 0.7  & -0.7 \\\\ 0.7 & 4.4  \\end{bmatrix}.\\begin{bmatrix} 3 \\\\ 3   \\end{bmatrix}=\\begin{bmatrix} 0 \\\\ 7   \\end{bmatrix}$$ <br> <br>\n",
    "\n",
    "\n"
   ]
  },
  {
   "cell_type": "code",
   "execution_count": 17,
   "metadata": {},
   "outputs": [
    {
     "data": {
      "text/plain": [
       "(-1, 10)"
      ]
     },
     "execution_count": 17,
     "metadata": {},
     "output_type": "execute_result"
    },
    {
     "data": {
      "image/png": "[encoded data removed]",
      "text/plain": [
       "<Figure size 432x288 with 1 Axes>"
      ]
     },
     "metadata": {
      "needs_background": "light"
     },
     "output_type": "display_data"
    }
   ],
   "source": [
    "v = np.array([[0], [7]])\n",
    "v.flatten()\n",
    "plotVectors([v.flatten()], cols=['#1190FF'])\n",
    "plt.ylim(-1, 10)\n",
    "plt.xlim(-1, 10)"
   ]
  },
  {
   "cell_type": "code",
   "execution_count": null,
   "metadata": {},
   "outputs": [],
   "source": []
  },
  {
   "cell_type": "code",
   "execution_count": 18,
   "metadata": {},
   "outputs": [
    {
     "data": {
      "text/plain": [
       "4.199999999999999"
      ]
     },
     "execution_count": 18,
     "metadata": {},
     "output_type": "execute_result"
    }
   ],
   "source": [
    "2*0.7*3"
   ]
  },
  {
   "cell_type": "markdown",
   "metadata": {},
   "source": [
    "if we make one more tranformation $$x_3=  T(x_2)= T(\\alpha) =  \\begin{bmatrix}cos(45^*) & -sin(45^*) \\\\ sin(45^*) & cos(45^*)  \\end{bmatrix}=  \\begin{bmatrix} 0.7  & -0.7 \\\\ 0.7 & 0.7  \\end{bmatrix}.\\begin{bmatrix} 0 \\\\ 7   \\end{bmatrix}=\\begin{bmatrix} -4.9 \\\\ 4.9   \\end{bmatrix}$$\n",
    " The linear tranformation T rotate every vector with 45 degree"
   ]
  },
  {
   "cell_type": "code",
   "execution_count": 19,
   "metadata": {},
   "outputs": [],
   "source": [
    "def rotate_operator(alpha) :\n",
    "    alpha = np.pi*alpha/180\n",
    "    return np.array([[np.cos(alpha),-np.sin(alpha)],\n",
    "          [np.sin(alpha),np.cos(alpha)]])\n"
   ]
  },
  {
   "cell_type": "code",
   "execution_count": 20,
   "metadata": {},
   "outputs": [
    {
     "data": {
      "text/plain": [
       "(-10, 10)"
      ]
     },
     "execution_count": 20,
     "metadata": {},
     "output_type": "execute_result"
    },
    {
     "data": {
      "image/png": "[encoded data removed]",
      "text/plain": [
       "<Figure size 432x288 with 1 Axes>"
      ]
     },
     "metadata": {
      "needs_background": "light"
     },
     "output_type": "display_data"
    }
   ],
   "source": [
    "x = np.array([[3],[3]])\n",
    "alpha = np.pi*45/180\n",
    "L = np.array([[np.cos(alpha),-np.sin(alpha)],\n",
    "          [np.sin(alpha),np.cos(alpha)]])\n",
    "x1 = L.dot(x)\n",
    "x2 = L.dot(x1)\n",
    "a = np.concatenate((x.T,x1.T,x2.T),axis=0)\n",
    "plotVectors(a, cols=['#1190FF', '#FF9A13','r'])\n",
    "plt.ylim(-10, 10)\n",
    "plt.xlim(-10, 10)"
   ]
  },
  {
   "cell_type": "code",
   "execution_count": 21,
   "metadata": {},
   "outputs": [],
   "source": [
    "def cartesian_product(x,y):\n",
    "    \"\"\"\n",
    "    retrun catesian product\n",
    "    \"\"\"\n",
    "    return np.transpose([np.tile(x, len(y)), np.repeat(y, len(x))])"
   ]
  },
  {
   "cell_type": "code",
   "execution_count": 22,
   "metadata": {},
   "outputs": [
    {
     "data": {
      "text/plain": [
       "array([ 0.  ,  1.25,  2.5 ,  3.75,  5.  ,  6.25,  7.5 ,  8.75, 10.  ,\n",
       "        0.  ,  1.25,  2.5 ,  3.75,  5.  ,  6.25,  7.5 ,  8.75, 10.  ,\n",
       "        0.  ,  1.25,  2.5 ,  3.75,  5.  ,  6.25,  7.5 ,  8.75, 10.  ,\n",
       "        0.  ,  1.25,  2.5 ,  3.75,  5.  ,  6.25,  7.5 ,  8.75, 10.  ,\n",
       "        0.  ,  1.25,  2.5 ,  3.75,  5.  ,  6.25,  7.5 ,  8.75, 10.  ,\n",
       "        0.  ,  1.25,  2.5 ,  3.75,  5.  ,  6.25,  7.5 ,  8.75, 10.  ,\n",
       "        0.  ,  1.25,  2.5 ,  3.75,  5.  ,  6.25,  7.5 ,  8.75, 10.  ,\n",
       "        0.  ,  1.25,  2.5 ,  3.75,  5.  ,  6.25,  7.5 ,  8.75, 10.  ,\n",
       "        0.  ,  1.25,  2.5 ,  3.75,  5.  ,  6.25,  7.5 ,  8.75, 10.  ])"
      ]
     },
     "execution_count": 22,
     "metadata": {},
     "output_type": "execute_result"
    }
   ],
   "source": [
    "x_args=y_args = np.linspace(0,10,9)\n",
    "points = np.meshgrid(x_args,y_args)\n",
    "result = cartesian_product(x_args,y_args)\n",
    "new = result.dot(L.T)\n",
    "result[:,0]"
   ]
  },
  {
   "cell_type": "code",
   "execution_count": 23,
   "metadata": {},
   "outputs": [
    {
     "data": {
      "text/plain": [
       "(-10, 20)"
      ]
     },
     "execution_count": 23,
     "metadata": {},
     "output_type": "execute_result"
    },
    {
     "data": {
      "image/png": "[encoded data removed]",
      "text/plain": [
       "<Figure size 432x288 with 1 Axes>"
      ]
     },
     "metadata": {
      "needs_background": "light"
     },
     "output_type": "display_data"
    }
   ],
   "source": [
    "plt.scatter(result[:,0],result[:,1])\n",
    "plt.scatter(new[:,0],new[:,1])\n",
    "plt.ylim(-10, 20)\n",
    "plt.xlim(-10, 20)"
   ]
  },
  {
   "cell_type": "markdown",
   "metadata": {},
   "source": [
    "Scalling tranformation"
   ]
  },
  {
   "cell_type": "code",
   "execution_count": 24,
   "metadata": {},
   "outputs": [
    {
     "data": {
      "text/plain": [
       "(-10, 40)"
      ]
     },
     "execution_count": 24,
     "metadata": {},
     "output_type": "execute_result"
    },
    {
     "data": {
      "image/png": "[encoded data removed]",
      "text/plain": [
       "<Figure size 432x288 with 1 Axes>"
      ]
     },
     "metadata": {
      "needs_background": "light"
     },
     "output_type": "display_data"
    }
   ],
   "source": [
    "S = np.zeros((2, 2), int)\n",
    "np.fill_diagonal(S, 2)\n",
    "new = result.dot(S.T)\n",
    "plt.scatter(result[:,0],result[:,1])\n",
    "plt.scatter(new[:,0],new[:,1])\n",
    "plt.ylim(-10, 40)\n",
    "plt.xlim(-10, 40)"
   ]
  },
  {
   "cell_type": "markdown",
   "metadata": {},
   "source": [
    "Scalling + Rotation"
   ]
  },
  {
   "cell_type": "markdown",
   "metadata": {},
   "source": [
    "L = S.T"
   ]
  },
  {
   "cell_type": "code",
   "execution_count": 25,
   "metadata": {},
   "outputs": [
    {
     "data": {
      "text/plain": [
       "(-10, 40)"
      ]
     },
     "execution_count": 25,
     "metadata": {},
     "output_type": "execute_result"
    },
    {
     "data": {
      "image/png": "[encoded data removed]",
      "text/plain": [
       "<Figure size 432x288 with 1 Axes>"
      ]
     },
     "metadata": {
      "needs_background": "light"
     },
     "output_type": "display_data"
    }
   ],
   "source": [
    "L = S.dot(rotate_operator(30))\n",
    "new = result.dot(L.T)\n",
    "plt.scatter(result[:,0],result[:,1])\n",
    "plt.scatter(new[:,0],new[:,1])\n",
    "plt.ylim(-10, 40)\n",
    "plt.xlim(-10, 40)"
   ]
  },
  {
   "cell_type": "code",
   "execution_count": 26,
   "metadata": {},
   "outputs": [
    {
     "data": {
      "text/plain": [
       "(-10, 40)"
      ]
     },
     "execution_count": 26,
     "metadata": {},
     "output_type": "execute_result"
    },
    {
     "data": {
      "image/png": "[encoded data removed]",
      "text/plain": [
       "<Figure size 432x288 with 1 Axes>"
      ]
     },
     "metadata": {
      "needs_background": "light"
     },
     "output_type": "display_data"
    }
   ],
   "source": [
    "L = rotate_operator(30).dot(S)\n",
    "new = result.dot(L.T)\n",
    "plt.scatter(result[:,0],result[:,1])\n",
    "plt.scatter(new[:,0],new[:,1])\n",
    "plt.ylim(-10, 40)\n",
    "plt.xlim(-10, 40)"
   ]
  },
  {
   "cell_type": "markdown",
   "metadata": {},
   "source": [
    "lets have the linier operator  <br>\n",
    "$$L =  \\begin{bmatrix} 1.5 & 0.5 \\\\ 0.5 & 1.5  \\end{bmatrix}$$\n",
    "and let to apply it over our data"
   ]
  },
  {
   "cell_type": "code",
   "execution_count": 27,
   "metadata": {},
   "outputs": [
    {
     "data": {
      "text/plain": [
       "(-10, 40)"
      ]
     },
     "execution_count": 27,
     "metadata": {},
     "output_type": "execute_result"
    },
    {
     "data": {
      "image/png": "[encoded data removed]",
      "text/plain": [
       "<Figure size 432x288 with 1 Axes>"
      ]
     },
     "metadata": {
      "needs_background": "light"
     },
     "output_type": "display_data"
    }
   ],
   "source": [
    "L = np.array([[1.5,0.5],[0.5,1.5]])\n",
    "new = result.dot(L.T)\n",
    "plt.scatter(result[:,0],result[:,1])\n",
    "plt.scatter(new[:,0],new[:,1])\n",
    "plt.ylim(-10, 40)\n",
    "plt.xlim(-10, 40)"
   ]
  },
  {
   "cell_type": "markdown",
   "metadata": {},
   "source": [
    "from above graphic we can see that some of the the points just is scalled with some number $lambda$ , mathematicaly\n",
    "it means that  $A v_i = \\lambda v_i$ .The vectors $v_i$ wich are scalled by number $\\lambda_i$ in transformation are called\n",
    "eigenvectors of Linear operator L the $\\lambda_i$ are called eigenvalues."
   ]
  },
  {
   "cell_type": "markdown",
   "metadata": {},
   "source": [
    "# Eigenvectors and Eigenvalues"
   ]
  },
  {
   "cell_type": "markdown",
   "metadata": {},
   "source": [
    "Definition Let L be an $n\\times n$ matrix. <br> <br>\n",
    "An eigenvector of L is a nonzero vector $\\vec v$  such that $A v = \\lambda v$ \n",
    "for some scalar  $\\lambda$.<br><br>\n",
    "An eigenvalue of L is a scalar $\\lambda$  such that the equation $A v = \\lambda v$ has \n",
    "a nontrivial solution. <br> <br>\n",
    "If  $A v = \\lambda v$  for $\\vec v$  $A=0$,we say that $\\lambda$ is the eigenvalue for  $\\vec v$ ,and that $\\vec v$  is an eigenvector for $\\lambda$ ."
   ]
  },
  {
   "cell_type": "markdown",
   "metadata": {},
   "source": [
    "using numpy we can find the eigen(vectors/values) of above matrix L"
   ]
  },
  {
   "cell_type": "code",
   "execution_count": 28,
   "metadata": {},
   "outputs": [
    {
     "data": {
      "text/markdown": [
       "***$ \\vec v_1 =0.7071067811865476$***"
      ],
      "text/plain": [
       "<IPython.core.display.Markdown object>"
      ]
     },
     "metadata": {},
     "output_type": "display_data"
    },
    {
     "data": {
      "text/markdown": [
       "***$ \\lambda_1 =2.0$***"
      ],
      "text/plain": [
       "<IPython.core.display.Markdown object>"
      ]
     },
     "metadata": {},
     "output_type": "display_data"
    },
    {
     "data": {
      "text/markdown": [
       "***$ \\vec v_2 =-0.7071067811865474$***"
      ],
      "text/plain": [
       "<IPython.core.display.Markdown object>"
      ]
     },
     "metadata": {},
     "output_type": "display_data"
    },
    {
     "data": {
      "text/markdown": [
       "***$ \\lambda_2 =1.0$***"
      ],
      "text/plain": [
       "<IPython.core.display.Markdown object>"
      ]
     },
     "metadata": {},
     "output_type": "display_data"
    },
    {
     "data": {
      "text/plain": [
       "(array([2., 1.]), array([[ 0.70710678, -0.70710678],\n",
       "        [ 0.70710678,  0.70710678]]))"
      ]
     },
     "execution_count": 28,
     "metadata": {},
     "output_type": "execute_result"
    }
   ],
   "source": [
    "eigen_values,eigen_space = np.linalg.eig(L)\n",
    "pr(r'$ \\vec v_1 ={}$'.format(eigen_space[0,0]))\n",
    "pr(r'$ \\lambda_1 ={}$'.format(eigen_values[0]))\n",
    "pr(r'$ \\vec v_2 ={}$'.format(eigen_space[0][1]))\n",
    "pr(r'$ \\lambda_2 ={}$'.format(eigen_values[1]))\n",
    "eigen_values = np.linalg.eig(L)\n",
    "eigen_values"
   ]
  },
  {
   "cell_type": "code",
   "execution_count": 29,
   "metadata": {},
   "outputs": [
    {
     "data": {
      "text/plain": [
       "(-10, 20)"
      ]
     },
     "execution_count": 29,
     "metadata": {},
     "output_type": "execute_result"
    },
    {
     "data": {
      "image/png": "[encoded data removed]",
      "text/plain": [
       "<Figure size 432x288 with 1 Axes>"
      ]
     },
     "metadata": {
      "needs_background": "light"
     },
     "output_type": "display_data"
    }
   ],
   "source": [
    "\n",
    "plotVectors(15*eigen_space.T, cols=['red', 'r'])\n",
    "\n",
    "\n",
    "L = np.array([[1.5,0.5],[0.5,1.5]])\n",
    "new = result.dot(L.T)\n",
    "plt.scatter(result[:,0],result[:,1])\n",
    "plt.scatter(new[:,0],new[:,1])\n",
    "plt.ylim(-10, 24)\n",
    "plt.xlim(-10, 20)"
   ]
  },
  {
   "cell_type": "markdown",
   "metadata": {},
   "source": [
    "we can see that every point belong to $\\lambda_i v_1$ just is scalled"
   ]
  },
  {
   "cell_type": "markdown",
   "metadata": {},
   "source": [
    "## How do we find eigen things ?\n",
    "<p>\n",
    "We start by finding eigevalues.We know that the equation must be true :\n",
    "$$A v = \\lambda v $$\n",
    "Now let us put in an identity matrix so we are dealing with matrix-vs-matrix:\n",
    "$$A v = \\lambda I v $$\n",
    "Bring all to left hand side \n",
    "$$A v - \\lambda I v = 0 $$\n",
    "If v is non-zero then we can solve for $\\lambda$ using just the :\n",
    "$$|A  - \\lambda I | v = 0  $$\n",
    "We know that the above eq has sulotion if $$det|A  - \\lambda I | = 0$$\n",
    "</p> \n",
    "example :"
   ]
  },
  {
   "cell_type": "markdown",
   "metadata": {},
   "source": [
    "  $$  \\begin{bmatrix} 4 & 2 \\\\ 1 & 3 \\end{bmatrix} * \\begin{bmatrix} x_1 \\\\ x_2 \\end{bmatrix}=  \\begin{bmatrix} \\gamma & 0\\\\ 0 & \\gamma \\end{bmatrix}* \\begin{bmatrix} x_1 \\\\ x_2 \\end{bmatrix}= $$ <br>\n",
    "  \n",
    "   $$  \\Big{(} \\begin{bmatrix} 4 & 2 \\\\ 1 & 3 \\end{bmatrix}-\\begin{bmatrix} \\gamma & 0\\\\ 0 & \\gamma \\end{bmatrix} \\Big{)} * \\begin{bmatrix} x_1 \\\\ x_2 \\end{bmatrix}= \\begin{bmatrix} 4-\\gamma  & 2 \\\\ 1 & 3-\\gamma  \\end{bmatrix} * \\begin{bmatrix} x_1 \\\\ x_2 \\end{bmatrix}=\\begin{bmatrix} 0 \\\\ 0\\end{bmatrix}$$ <br> \n",
    "   The homogens system has a solution only when <br>\n",
    "$$ det \\left(\n",
    "\\begin{array}{ccc}\n",
    "   4-\\gamma  & 2 \\\\ 1 & 3-\\gamma \n",
    "\\end{array} \\right)=0$$ <br>\n",
    "\n",
    "We factorize the characteristic polynomial and obtain  <br> \n",
    "$$ p(λ) = (4 − λ)(3 − λ) − 2 · 1 = 10 − 7λ + λ\n",
    "2 = (2 − λ)(5 − λ) $$ <br>\n",
    "\n",
    "giving the roots $λ_1 = 2$ and $λ_2 = 5$ which are the *einvalues of matrix 1) <br> ,<br>\n",
    "$$\\begin{bmatrix} 4-\\gamma  & 2 \\\\ 1 & 3-\\gamma  \\end{bmatrix} * \\begin{bmatrix} x_1 \\\\ x_2 \\end{bmatrix}=\\begin{bmatrix} 0 \\\\ 0\\end{bmatrix}$$\n",
    "For  $λ_2 = 2$  we obtain : <br> \n",
    "$$\\begin{bmatrix} 4-2  & 2 \\\\ 1 & 3-2 \\end{bmatrix} * \\begin{bmatrix} x_1 \\\\ x_2 \\end{bmatrix}=\\begin{bmatrix} 2  & 2 \\\\ 1 & 1  \\end{bmatrix} * \\begin{bmatrix} x_1 \\\\ x_2 \\end{bmatrix}=\\begin{bmatrix} 0 \\\\ 0\\end{bmatrix}$$ <br> <br> \n",
    "This means any vector  $x = \\begin{bmatrix} x_1 \\\\ x_2 \\end{bmatrix} $, where x2 = −x1, such as $x=1$ and $x_2=-1$ \n",
    ", is an eigenvector with eigenvalue 2. The corresponding eigenspace is given as : <br>\n",
    "$$ E_1 = span[\\begin{bmatrix} 10 \\\\ -10 \\end{bmatrix}]$$ <br> <br>\n",
    "\n",
    "For  $λ_2 = 5$  we obtain : <br> \n",
    "$$\\begin{bmatrix} 4-5  & 2 \\\\ 1 & 3-5 \\end{bmatrix} * \\begin{bmatrix} x_1 \\\\ x_2 \\end{bmatrix}=\\begin{bmatrix} -1  & 2 \\\\ 1 & -2  \\end{bmatrix} * \\begin{bmatrix} x_1 \\\\ x_2 \\end{bmatrix}=\\begin{bmatrix} 0 \\\\ 0\\end{bmatrix}$$ <br> <br> \n",
    "We solve this homogeneous system and obtain a solution space :\n",
    "$$E_2 = span[\\begin{bmatrix} 20 \\\\ 10 \\end{bmatrix}]$$ <br>"
   ]
  },
  {
   "cell_type": "markdown",
   "metadata": {},
   "source": [
    " Theorem 1.\n",
    " <br> \n",
    " The eigenvectors $x_1, . . . , x_n$ of a matrix A ∈ Rn×n with n distinct eigenvalues λ_1, . . . , λ_n are linearly independent.\n",
    "\n",
    "\n",
    "<br> Theorem 2. Given a matrix $ A ∈ R^{m×n} $ , we can always obtain a symmetric, positive semidefinite matrix $S ∈ R*{n×n} $ by defining\n",
    "$$S := A^TA \\;\\; \\;\\; 1)$$\n",
    "Understanding why Theorem 2 holds is insightful for how we can\n",
    "    use symmetrized matrices: Symmetry requires $S = S^T$ , and by inserting (1) we obtain $S = A^TA=A^T(A^T)^T=(A^TA)=S^T$\n"
   ]
  },
  {
   "cell_type": "markdown",
   "metadata": {},
   "source": [
    "Theorem 3 (Spectral Theorem). If  𝐴∈𝑅𝑛×𝑛  is symmetric, there exists an orthonormal basis of the corresponding vector space  𝑉  consisting of eigenvectors of  𝐴 , and each eigenvalue is real."
   ]
  },
  {
   "cell_type": "markdown",
   "metadata": {},
   "source": []
  },
  {
   "cell_type": "markdown",
   "metadata": {},
   "source": [
    "## Eigen decomposition"
   ]
  },
  {
   "cell_type": "markdown",
   "metadata": {},
   "source": [
    "We can put all eigen equations $Av_i=\\lambda_iv_i$ together.<br> <br>\n",
    "$AV=A\\begin{pmatrix}\n",
    "  \\vdots &  \\vdots &  \\vdots &  \\vdots \\\\v_{1} & v_{i} & \\cdots & v_{n} \\\\ \\vdots  & \\vdots  &  \\vdots & \\vdots \n",
    " \\end{pmatrix} =  \\begin{pmatrix}\n",
    "  \\vdots &  \\vdots &  \\vdots &  \\vdots \\\\ \\lambda_1v_{1} & \\lambda_iv_{i} & \\cdots & \\lambda_n v_{n} \\\\ \\vdots  & \\vdots  &  \\vdots & \\vdots \n",
    " \\end{pmatrix} = \\begin{pmatrix}\n",
    "  \\vdots &  \\vdots &  \\vdots &  \\vdots \\\\v_{1} & v_{i} & \\cdots & v_{n} \\\\ \\vdots  & \\vdots  &  \\vdots & \\vdots \n",
    " \\end{pmatrix} \\begin{pmatrix}\n",
    "  \\lambda_1 & 0 &  0  \\\\0 & \\lambda_i & 0 \\\\  \\cdots  &  \\cdots &   \\cdots \\\\0 & 0 & \\lambda_n  \\\\ \n",
    " \\end{pmatrix} = V \\Lambda $\n",
    " <br>\n",
    " where we have difined $\\Lambda = diag(\\lambda_i)$\n"
   ]
  },
  {
   "cell_type": "markdown",
   "metadata": {},
   "source": [
    "The eigen equation can be written in some alternative forms : <br>\n",
    "$ A = V\\Lambda V^{-1} $ or $V^{-1} A V = \\Lambda   $ <br>"
   ]
  },
  {
   "cell_type": "markdown",
   "metadata": {},
   "source": [
    "In first form , $ A = V\\Lambda V^{-1} $ is expressed as a product of three matrixx\n",
    ",called $eigenvalue \\;decomposition$ of matrix .\n",
    "in the second form,\n",
    "$A$ is diagonalized by its eigenvector matrix $ V$ to become a diagonal matrix, its eigenvalue matrix ${\\bf\\Lambda}$. "
   ]
  },
  {
   "cell_type": "markdown",
   "metadata": {},
   "source": [
    "example :\n"
   ]
  },
  {
   "cell_type": "code",
   "execution_count": 30,
   "metadata": {},
   "outputs": [
    {
     "name": "stdout",
     "output_type": "stream",
     "text": [
      "[5. 2.]\n",
      "[[ 0.89442719 -0.70710678]\n",
      " [ 0.4472136   0.70710678]]\n"
     ]
    }
   ],
   "source": [
    "L = np.array([[4 ,2 ],\n",
    "              [1 , 3 ]])\n",
    "values,vectors = np.linalg.eig(L)\n",
    "V = vectors\n",
    "Lambda = np.diag(values)\n",
    "print(values)\n",
    "print(vectors)"
   ]
  },
  {
   "cell_type": "code",
   "execution_count": 31,
   "metadata": {},
   "outputs": [
    {
     "data": {
      "text/plain": [
       "array([[ 0.89442719, -0.70710678],\n",
       "       [ 0.4472136 ,  0.70710678]])"
      ]
     },
     "execution_count": 31,
     "metadata": {},
     "output_type": "execute_result"
    }
   ],
   "source": [
    "V"
   ]
  },
  {
   "cell_type": "code",
   "execution_count": 32,
   "metadata": {},
   "outputs": [
    {
     "data": {
      "text/plain": [
       "array([[5., 0.],\n",
       "       [0., 2.]])"
      ]
     },
     "execution_count": 32,
     "metadata": {},
     "output_type": "execute_result"
    }
   ],
   "source": [
    "Lambda"
   ]
  },
  {
   "cell_type": "code",
   "execution_count": 33,
   "metadata": {},
   "outputs": [
    {
     "data": {
      "text/plain": [
       "array([[4., 2.],\n",
       "       [1., 3.]])"
      ]
     },
     "execution_count": 33,
     "metadata": {},
     "output_type": "execute_result"
    }
   ],
   "source": [
    "A = V.dot(Lambda).dot(np.linalg.inv(V))\n",
    "#print(V)\n",
    "A\n"
   ]
  },
  {
   "cell_type": "markdown",
   "metadata": {},
   "source": [
    "we see that we achieve the equation\n",
    "the eigen values of $\\begin{bmatrix} 4 & 2 \\\\ 1 & 3 \\end{bmatrix}$ are $λ_1 = 5$  $λ_2 = 2$  \n",
    "eigenvectors are $v_1 = \\begin{bmatrix} 0.89  \\\\ 0.447  \\end{bmatrix}$,\n",
    "$v_2 = \\begin{bmatrix} -0.707  \\\\ 0.707  \\end{bmatrix}$\n",
    "\n"
   ]
  },
  {
   "cell_type": "code",
   "execution_count": null,
   "metadata": {},
   "outputs": [],
   "source": [
    "\n"
   ]
  },
  {
   "cell_type": "markdown",
   "metadata": {},
   "source": [
    "Theorem 2.1 . <br>\n",
    "$L^T$ has the same eigen values as $L$ <br>\n",
    "proof : \n",
    "As a matrix ${\\bf A}$ and its transpose ${\\bf A}^T$ have the same determinant, they have the same characteristic polynomial:\n",
    "  $\\displaystyle \\big\\vert{\\bf A}-\\lambda{\\bf I}\\big\\vert \n",
    "  =\\big\\vert({\\bf A}-\\lambda{\\bf I})^T\\big\\vert =\\big\\vert{\\bf A}^T-\\lambda{\\bf I}\\big\\vert $ <br>\n",
    "  terefore they have the same eigenvalues and eigenvectors. "
   ]
  },
  {
   "cell_type": "markdown",
   "metadata": {},
   "source": [
    "Theorem 2.2\n",
    "${\\bf A}^T{\\bf A}$ has the same eigenvectors as ${\\bf A}$, but its eigenvalues are $\\lambda^2$.\n",
    "<br>\n",
    "proof : $\\displaystyle {\\bf A}^2{\\bf v}={\\bf A}{\\bf A}{\\bf v}={\\bf A}\\lambda{\\bf v} =\\lambda^2{\\bf v} $ "
   ]
  },
  {
   "cell_type": "markdown",
   "metadata": {},
   "source": [
    "Theorem 2.2 Eigenvalues of a symmetric real matrix are real <br>\n",
    "Theorems 2.3 Eigenvectors of distinct eigenvalues of a symmetricreal matrix are orthogonal\n"
   ]
  },
  {
   "cell_type": "markdown",
   "metadata": {},
   "source": [
    "Let A be a real symtric matrix and let  $Av_1=\\lambda_1v_1$ and  $Av_2=\\lambda_2v_2$ with $v_1$\n",
    "and $v_2$ non-zero vectors and $\\lambda_1,\\lambda_2$ non-zero eigenvalues <br>\n",
    "Pre-multiplying both sides of the equation $Av_1=\\lambda_1v_1$ with $v_2^T$ <br>\n",
    "$\\lambda_1 v_2^Tv_1 =v_2^T(Av_1)= (v_2^TA)v_1) = (A^Tv_2)^Tv_1 = (Av_2)^T = \\lambda_2v_2^Tv_1 $ <br>\n",
    "thus $(\\lambda_1- \\lambda_2)v_2^Tv_1$ <br>\n",
    "\n",
    "therefore, $λ1\\ne λ2$ implies: $u^T_2 u_1 = 0$ as required. <br>\n",
    "from $u^T_2 u_1 = 0$ we can conclude that $v_1,v_2,...v_n$ are orthornomal"
   ]
  },
  {
   "cell_type": "markdown",
   "metadata": {},
   "source": [
    "Example : <br>\n",
    "Consider the matrix <br>\n",
    "    $$ A= \\begin{bmatrix} 3 & 2 & 2 \\\\ 2 & 3 & 2 \\\\ 2 & 2 & 3  \\end{bmatrix}$$\n",
    "    \n",
    "The characteristic polynomial of $A$ is $$p_A(λ) = −(λ − 1)^2(λ − 7)$$\n",
    "so that we obtain the eigenvalues $λ_1 = 1$ and $λ_2 = 7$, where $λ_1$ is a\n",
    "repeated eigenvalue. Following our standard procedure for computing\n",
    "eigenvectors, we obtain the eigenspaces : <br>\n",
    "$$E_1 = span[\\begin{bmatrix} -1 \\\\ 1 \\\\ 0 \\end{bmatrix},\\begin{bmatrix} -1 \\\\ 0\\\\ 1 \\end{bmatrix}],\\;\\; E_7=span[\\begin{bmatrix} 1 \\\\ 1 \\\\ 1 \\end{bmatrix}]$$ <br> <br>\n",
    "We see that $x_3$ is orthogonal to both $x_1$ and $x_2$. However, since $x_1^T x_2=1\\neq 0$ they are not orthogonal. The spectral theorem (3)\n",
    "states that there exists an orthogonal basis, but the one we have is not\n",
    "orthogonal. However, we can construct one.\n",
    "To construct such a basis, we exploit the fact that x1, x2 are eigenvectors associated with the same eigenvalue λ. Therefore, for any α, β ∈ R it\n",
    "holds that <br> \n",
    "$$A(αx_1 + βx_2) = Ax_1α + Ax_2β = λ(αx_1 + βx_2)$$,<br> <br>\n",
    "\n",
    "i.e., any linear combination of $x1$ and $x2$ is also an eigenvector of A associated with λ. The Gram-Schmidt algorithm is a method\n",
    "for iteratively constructing an orthogonal/orthonormal basis from a set of\n",
    "basis vectors using such linear combinations. Therefore, even if $x_1$ and $x_2$\n",
    "are not orthogonal, we can apply the Gram-Schmidt algorithm and find\n",
    "eigenvectors associated with $λ1 = 1$ that are orthogonal to each other (and to x_3). In our example, we will obtain\n",
    "  \n",
    "  \n",
    "$$ x_1^{'}= \\begin{bmatrix} -1 \\\\ 1 \\\\ 0 \\end{bmatrix},\\;\\;   x_2^{'} = \\frac{1}{2} \\begin{bmatrix} -1 \\\\ -1\\\\ 2 \\end{bmatrix}$$ <br> <br>  \n",
    "which are orthogonal to each other, orthogonal to x_3, and eigenvectors of $A$ associated with λ_1 = 1."
   ]
  },
  {
   "cell_type": "markdown",
   "metadata": {},
   "source": [
    "# The spectral decomposition \n",
    "if the matrix A is symtric,this from spectrac theorem means that $V^T=V$ ,wich mean $V^{-1} = V^T\n",
    "$ then the eigen value decomposition can be rewiriten as  :\n",
    "<br> $$A = V\\Lambda V^{T}  $$"
   ]
  },
  {
   "cell_type": "markdown",
   "metadata": {},
   "source": [
    "# Singular Value Decomposition"
   ]
  },
  {
   "cell_type": "markdown",
   "metadata": {},
   "source": [
    "Another way to decompose matrix is SVD or Singular Value Decomposition.We saw that\n",
    "the matrixes can be used in linear tranformations.WIth SVD we decompose the matrix into three\n",
    "other matrixes.We saw that the eigendecompostion can be done only for sqare matrixes.The way\n",
    "to go to decompose other types of matrix that can be done by Eigendecompostion then we use SVD."
   ]
  },
  {
   "cell_type": "markdown",
   "metadata": {},
   "source": [
    "$$A = UDV$$\n",
    "where $U$ is left singular vectors,$D$ is the singular values,$V$ right singular vectors."
   ]
  },
  {
   "cell_type": "markdown",
   "metadata": {},
   "source": [
    "The matrixes U,D,V have the following properties : <br>\n",
    "$U$ and $V$ are orthogonal matrices. <br>\n",
    "$D$ is a diagonal matrix  However $D$ is not necessarily square.\n",
    "The diagonal matrix of singular values is not square but have the shape of $A$."
   ]
  },
  {
   "cell_type": "markdown",
   "metadata": {},
   "source": [
    "Example : <br> <br>\n",
    "$v =  \\begin{bmatrix} x \\\\ y  \\end{bmatrix} $ <br> <br>\n",
    "by applying matrix :  <br> <br>\n",
    "$L =  \\begin{bmatrix} 2 & 0 \\\\0 &  2  \\end{bmatrix} $ <br> <br>\n",
    "We will have :  <br> <br>\n",
    "$\\begin{bmatrix} x' \\\\ y'  \\end{bmatrix}=\\begin{bmatrix} 2 & 0 \\\\0 &  2 \n",
    "\\end{bmatrix} \\begin{bmatrix} x \\\\ y  \\end{bmatrix} = \\begin{bmatrix} 2x & 0y \\\\0.x &  2.y \n",
    "\\end{bmatrix}  = \\begin{bmatrix} 2x \\\\ 2y  \\end{bmatrix}$ <br> <br>\n",
    "\n"
   ]
  },
  {
   "cell_type": "markdown",
   "metadata": {},
   "source": [
    "We see that applying the matrix : <br> <Be>\n",
    "$\\begin{bmatrix} 2 & 0 \\\\0 &  2  \\end{bmatrix} $   <br> <br>\n",
    "just doubled each coordinate of our vector.Here are the graphical representation of $v$ and its \n",
    "tranformation $w$"
   ]
  },
  {
   "cell_type": "code",
   "execution_count": 59,
   "metadata": {},
   "outputs": [
    {
     "data": {
      "text/plain": [
       "(0, 4)"
      ]
     },
     "execution_count": 59,
     "metadata": {},
     "output_type": "execute_result"
    },
    {
     "data": {
      "image/png": "[encoded data removed]",
      "text/plain": [
       "<Figure size 432x288 with 1 Axes>"
      ]
     },
     "metadata": {
      "needs_background": "light"
     },
     "output_type": "display_data"
    }
   ],
   "source": [
    "v = np.array([[2,2],[1,1]])\n",
    "v.flatten()\n",
    "plotVectors(v, cols=['black','blue'])\n",
    "plt.ylim(0, 4)\n",
    "plt.xlim(0, 4)\n",
    "#plotVectors(v, cols=['#1190FF', '#FF9A13'])\n",
    "#plotVectors([v[0].flatten()], cols=['#1190FF'])\n",
    "#plotVectors([v[1].flatten()], cols=['red'])\n"
   ]
  },
  {
   "cell_type": "markdown",
   "metadata": {},
   "source": [
    "To represent the linear tranformation associated with matrix we can also draw the unit \n",
    "circle and see how a matrix can tranform it. \n"
   ]
  },
  {
   "cell_type": "code",
   "execution_count": 76,
   "metadata": {},
   "outputs": [
    {
     "data": {
      "text/plain": [
       "(-1.1092914686451294,\n",
       " 1.1092914686451292,\n",
       " -1.115073870079018,\n",
       " 1.1130192628293543)"
      ]
     },
     "execution_count": 76,
     "metadata": {},
     "output_type": "execute_result"
    },
    {
     "data": {
      "image/png": "[encoded data removed]",
      "text/plain": [
       "<Figure size 432x288 with 1 Axes>"
      ]
     },
     "metadata": {
      "needs_background": "light"
     },
     "output_type": "display_data"
    }
   ],
   "source": [
    "a = np.linspace(-180,180)\n",
    "x = np.sin(np.pi*a/180)\n",
    "y = np.cos(np.pi*a/180)\n",
    "plt.scatter(x,y)\n",
    "plt.ylim(-10, -10)\n",
    "plt.xlim(-10, 10)\n",
    "plt.axis('equal')"
   ]
  },
  {
   "cell_type": "markdown",
   "metadata": {},
   "source": [
    "Again, let’s apply the matrix: <br> <br>\n",
    "$\\begin{bmatrix} 2 & 0 \\\\0 &  2  \\end{bmatrix} $  "
   ]
  },
  {
   "cell_type": "code",
   "execution_count": 97,
   "metadata": {},
   "outputs": [
    {
     "data": {
      "text/plain": [
       "<matplotlib.axes._subplots.AxesSubplot at 0x844189b240>"
      ]
     },
     "execution_count": 97,
     "metadata": {},
     "output_type": "execute_result"
    },
    {
     "data": {
      "image/png": "[encoded data removed]",
      "text/plain": [
       "<Figure size 432x288 with 1 Axes>"
      ]
     },
     "metadata": {},
     "output_type": "display_data"
    }
   ],
   "source": [
    "T = np.array([[2,0],\n",
    "         [0,2]])\n",
    "data = np.array([x,y])\n",
    "new_data = T.dot(data)\n",
    "fig, ax = plt.subplots(facecolor ='#A0F0CC')\n",
    "ax.scatter(data[0],data[1])\n",
    "ax.scatter(new_data[0],new_data[1])\n",
    "#plt.ylim(-10, -10)\n",
    "#plt.xlim(-10, 10)\n",
    "plt.axis('equal')\n",
    "plt.axis('equal')\n",
    "ax.set_xlim(-3, 3)\n",
    "plt.gca()"
   ]
  },
  {
   "cell_type": "markdown",
   "metadata": {},
   "source": [
    "We can see that the matrix doubled the size of the circle. But in some transformations, \n",
    "the change applied to the x coordinate is different from the change applied to\n",
    "the y coordinate.\n",
    "Let’s see what it means graphically."
   ]
  },
  {
   "cell_type": "markdown",
   "metadata": {},
   "source": [
    "We will apply the matrix : \n",
    "Again, let’s apply the matrix: <br> <br>\n",
    "$\\begin{bmatrix} 3 & 0 \\\\0 &  2  \\end{bmatrix} $  "
   ]
  },
  {
   "cell_type": "code",
   "execution_count": 98,
   "metadata": {},
   "outputs": [
    {
     "data": {
      "text/plain": [
       "<matplotlib.axes._subplots.AxesSubplot at 0x84418bc5c0>"
      ]
     },
     "execution_count": 98,
     "metadata": {},
     "output_type": "execute_result"
    },
    {
     "data": {
      "image/png": "[encoded data removed]",
      "text/plain": [
       "<Figure size 432x288 with 1 Axes>"
      ]
     },
     "metadata": {},
     "output_type": "display_data"
    }
   ],
   "source": [
    "T = np.array([[3,0],\n",
    "         [0,2]])\n",
    "data = np.array([x,y])\n",
    "new_data = T.dot(data)\n",
    "fig, ax = plt.subplots(facecolor ='#A0F0CC')\n",
    "ax.scatter(data[0],data[1])\n",
    "ax.scatter(new_data[0],new_data[1])\n",
    "#plt.ylim(-10, -10)\n",
    "#plt.xlim(-10, 10)\n",
    "plt.axis('equal')\n",
    "plt.axis('equal')\n",
    "ax.set_xlim(-3, 3)\n",
    "plt.gca()"
   ]
  },
  {
   "cell_type": "markdown",
   "metadata": {},
   "source": [
    "We can see that the result is elipse .The diagonal matrix just rescale the coordinates.<br>\n",
    " The general rule is that the transformation associated with diagonal matrices imply \n",
    " only a rescaling of each coordinate without rotation. <br>\n",
    "\n"
   ]
  },
  {
   "cell_type": "markdown",
   "metadata": {},
   "source": [
    "Let's see how the circle will tranform with rotation and scalled;"
   ]
  },
  {
   "cell_type": "code",
   "execution_count": 104,
   "metadata": {},
   "outputs": [
    {
     "data": {
      "text/plain": [
       "<matplotlib.axes._subplots.AxesSubplot at 0x843b041240>"
      ]
     },
     "execution_count": 104,
     "metadata": {},
     "output_type": "execute_result"
    },
    {
     "data": {
      "image/png": "[encoded data removed]",
      "text/plain": [
       "<Figure size 432x288 with 1 Axes>"
      ]
     },
     "metadata": {},
     "output_type": "display_data"
    }
   ],
   "source": [
    "data_new_1 = rotate_operator(45).dot(T).dot(data)\n",
    "new_data = T.dot(data)\n",
    "fig, ax = plt.subplots(facecolor ='#A0F0CC')\n",
    "ax.scatter(data_new_1[0],data_new_1[1])\n",
    "ax.scatter(new_data[0],new_data[1])\n",
    "ax.scatter(data[0],data[1])\n",
    "#plt.ylim(-10, -10)\n",
    "#plt.xlim(-10, 10)\n",
    "plt.axis('equal')\n",
    "plt.axis('equal')\n",
    "ax.set_xlim(-3, 3)\n",
    "plt.gca()"
   ]
  },
  {
   "cell_type": "markdown",
   "metadata": {},
   "source": [
    "We can see that the circle has been rotated by an angle of 45∘. We have chosen the length of the vectors from the rescaling weight from example 3 \n",
    "(factor 3 and 2) to match the circle."
   ]
  },
  {
   "cell_type": "markdown",
   "metadata": {},
   "source": [
    "The SVD can be seen as the decomposition of one complex transformation in 3 simpler transformations\n",
    "(a rotation, a scaling and another rotation).\n"
   ]
  },
  {
   "cell_type": "markdown",
   "metadata": {},
   "source": [
    "The singular values are ordered by descending order. They correspond to a new set of features (that are a linear combination of the original features) with the first feature explaining most of the variance. For instance from the last example we can visualize these new features. The major axis of the elipse will be the first left singular vector (u1) and its norm will be the first singular value (σ1).\n",
    "\n",
    "u1 = [D[0]*U[0,0], D[0]*U[0,1]]"
   ]
  },
  {
   "cell_type": "markdown",
   "metadata": {},
   "source": [
    "### SVD and eigendecomposition\n",
    "Now that we undestand that SVD os the kind of decomposition,\n",
    "we wnat to know how the sub-tranformation are found."
   ]
  },
  {
   "cell_type": "markdown",
   "metadata": {},
   "source": [
    "The matrices $U$,$D$ and $V$ can be found by tranforming A in square matrix and by\n",
    "computing the eigenvectors of the suare matrix.The square matrix can be obrain by multiplying the matrix A\n",
    "by its transpose in one way or the \n",
    "other."
   ]
  },
  {
   "cell_type": "markdown",
   "metadata": {},
   "source": [
    "$U$ corresponds to the eigenvectors of $AA^T$ <br>\n",
    "$V$ corresponds to the eigenvectors of $A^TA$ <br>\n",
    "$D$ corresponds to the eigenvalues $AA^T$ or $A^TA$ which are the same.\n",
    "https://hadrienj.github.io/posts/Deep-Learning-Book-Series-2.8-Singular-Value-Decomposition/"
   ]
  },
  {
   "cell_type": "markdown",
   "metadata": {},
   "source": [
    "Eigen valie https://textbooks.math.gatech.edu/ila/eigenvectors.html\n",
    "https://hadrienj.github.io/posts/Deep-Learning-Book-Series-2.7-Eigendecomposition/\n",
    "http://fourier.eng.hmc.edu/e176/lectures/algebra/node9.html"
   ]
  }
 ],
 "metadata": {
  "kernelspec": {
   "display_name": "Python 3",
   "language": "python",
   "name": "python3"
  },
  "language_info": {
   "codemirror_mode": {
    "name": "ipython",
    "version": 3
   },
   "file_extension": ".py",
   "mimetype": "text/x-python",
   "name": "python",
   "nbconvert_exporter": "python",
   "pygments_lexer": "ipython3",
   "version": "3.7.1"
  }
 },
 "nbformat": 4,
 "nbformat_minor": 2
}
