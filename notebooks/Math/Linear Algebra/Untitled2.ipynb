{
 "cells": [
  {
   "cell_type": "markdown",
   "id": "deff457b",
   "metadata": {},
   "source": [
    "# The general notes and some chaos idea. <br>\n",
    "We will be able to experiment on the math concepts and gain an intuition through code and visualization. <br>\n",
    "1.1 Math on the cartesian plane.\n"
   ]
  }
 ],
 "metadata": {
  "kernelspec": {
   "display_name": "Python 3",
   "language": "python",
   "name": "python3"
  },
  "language_info": {
   "codemirror_mode": {
    "name": "ipython",
    "version": 3
   },
   "file_extension": ".py",
   "mimetype": "text/x-python",
   "name": "python",
   "nbconvert_exporter": "python",
   "pygments_lexer": "ipython3",
   "version": "3.8.8"
  }
 },
 "nbformat": 4,
 "nbformat_minor": 5
}
