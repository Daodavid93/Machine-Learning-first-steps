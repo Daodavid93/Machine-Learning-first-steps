{
 "cells": [
  {
   "cell_type": "code",
   "execution_count": 2,
   "id": "3720fc61",
   "metadata": {},
   "outputs": [],
   "source": [
    "import numpy as np\n",
    "import matplotlib.pyplot as plt\n",
    "import pandas as pd\n",
    "import seaborn as sns\n",
    "\n",
    "from sklearn.model_selection import train_test_split\n",
    "from IPython.display import display, Markdown , Math \n",
    "\n",
    "sns.set()\n"
   ]
  },
  {
   "cell_type": "markdown",
   "id": "daa8f27c",
   "metadata": {},
   "source": [
    "<h1> Desiosion Tree Clasifier </h1>\n"
   ]
  },
  {
   "cell_type": "markdown",
   "id": "da114428",
   "metadata": {},
   "source": [
    "Formally the decision tree is a graphical representation of all possible solutions to a decision.\n",
    "These days tree-based algorithms are most commonly used in the case in supervised learning due to it is ease for intepretation.We can use DTree for classification and regression tasks however most of the time it is used for classification problem.Decision trees are assigned to the information based learning algorithms which use different measures of information gain for learning.The main idea of deciosion tree is to find those descriptive features wich contain the most \"information\" regarding to the target feature and split the dataset along the values of these features such that the target feature values  for resulting sub datasets are as pure as possible.The descriptive feature which leaves the target feature most purely is said to be the most informative one.This process of finding the \"most informative\" feature is done until we accomplish a stopping criteria where we then finally end up in so-called <mark>leaf nodes</mark>."
   ]
  },
  {
   "cell_type": "markdown",
   "id": "f205b60f",
   "metadata": {},
   "source": [
    "<h1> Entropy </h1>"
   ]
  },
  {
   "cell_type": "markdown",
   "id": "cef86755",
   "metadata": {},
   "source": [
    "<img src='https://miro.medium.com/max/1050/1*i7cfMirN2WpaJhYZa1a1Mg.png'/>"
   ]
  },
  {
   "cell_type": "markdown",
   "id": "27da2c88",
   "metadata": {},
   "source": [
    "The entropy appeared in the thermodynamic field in the works of  Rudolf Clausius over the temperature of the gas. In ML the entropy plays an important row because it is a measure of chaos, disorder, or uncertainty of the system.\n",
    "The above graphics represent the two gasses initially they have a low entropy because they are cleanly separable, after some time, however, the gasses intermingle and the system's entropy increased. "
   ]
  },
  {
   "cell_type": "markdown",
   "id": "ffa1570c",
   "metadata": {},
   "source": [
    " The entropy of a dataset is used to measure the impurity of a dataset and we will use this kind of informativeness measure in our calculations."
   ]
  },
  {
   "cell_type": "markdown",
   "id": "232f24ab",
   "metadata": {},
   "source": [
    "There are also other types of measures which can be used to calculate the information gain. The most prominent ones are the: Gini Index, Chi-Square, Information gain ratio, Variance. The term entropy (in information theory) goes back to Claude E. Shannon. The idea behind the entropy is, in simplified terms, the following: Imagine you have a lottery wheel which includes 100 green balls. The set of balls within the lottery wheel can be said to be totally pure because only green balls are included. To express this in the terminology of entropy, this set of balls has a entropy of 0 (we can also say zero impurity). Consider now, 30 of these balls are replaced by red and 20 by blue balls.\n",
    "\n"
   ]
  },
  {
   "cell_type": "markdown",
   "id": "81c9cb23",
   "metadata": {},
   "source": [
    "Shannon's entropy model uses the logarithm function () to measure the entropy and therewith the impurity of a dataset since the higher the probability of getting a specific result == P(x) (randomly drawing a green ball), the closer approaches the binary logarithm 1."
   ]
  },
  {
   "cell_type": "code",
   "execution_count": 3,
   "id": "4b6ac994",
   "metadata": {},
   "outputs": [
    {
     "data": {
      "image/png": "[encoded data removed]",
      "text/plain": [
       "<Figure size 432x288 with 1 Axes>"
      ]
     },
     "metadata": {},
     "output_type": "display_data"
    },
    {
     "name": "stdout",
     "output_type": "stream",
     "text": [
      "s\n"
     ]
    }
   ],
   "source": [
    "fig=plt.figure()\n",
    "ax=fig.add_subplot(111)\n",
    "\n",
    "ax.plot(np.linspace(0.01,1),np.log2(np.linspace(0.01,1)))\n",
    "ax.set_xlabel(\"P(x)\")\n",
    "ax.set_ylabel(\"log2(P(x))\")\n",
    "\n",
    "plt.show()\n",
    "print('s')"
   ]
  },
  {
   "cell_type": "markdown",
   "id": "13f7a8ca",
   "metadata": {},
   "source": [
    "Once a dataset contains more than one \"type\" of elements specifically more than one target feature value, the impurity will be greater than zero. Therewith also the entropy of the dataset will be greater than zero. Hence it is useful to sum up the entropies of each possible target feature value and weight it by the probability that we achieve these values assuming we would randomly draw values from the target feature value space (What is the probability to draw a green ball just by chance? Exactly, 0.5 and therewith we have to weight the entropy calculated for the green balls with 0.5). This finally leads to the formal definition of Shannon's entropy which serves as the baseline for the information gain calculation:"
   ]
  },
  {
   "cell_type": "markdown",
   "id": "ad88d546",
   "metadata": {},
   "source": [
    "$$H(x) = - \\sum_{k=0}^m p_k\\log_2{p_k} $$\n",
    "$k = 0,...,m$ target variable"
   ]
  },
  {
   "cell_type": "code",
   "execution_count": 4,
   "id": "3a602ce8",
   "metadata": {},
   "outputs": [
    {
     "data": {
      "text/html": [
       "<div>\n",
       "<style scoped>\n",
       "    .dataframe tbody tr th:only-of-type {\n",
       "        vertical-align: middle;\n",
       "    }\n",
       "\n",
       "    .dataframe tbody tr th {\n",
       "        vertical-align: top;\n",
       "    }\n",
       "\n",
       "    .dataframe thead th {\n",
       "        text-align: right;\n",
       "    }\n",
       "</style>\n",
       "<table border=\"1\" class=\"dataframe\">\n",
       "  <thead>\n",
       "    <tr style=\"text-align: right;\">\n",
       "      <th></th>\n",
       "      <th>sepal_length</th>\n",
       "      <th>sepal_width</th>\n",
       "      <th>petal_length</th>\n",
       "      <th>petal_width</th>\n",
       "      <th>species</th>\n",
       "    </tr>\n",
       "  </thead>\n",
       "  <tbody>\n",
       "    <tr>\n",
       "      <th>0</th>\n",
       "      <td>5.1</td>\n",
       "      <td>3.5</td>\n",
       "      <td>1.4</td>\n",
       "      <td>0.2</td>\n",
       "      <td>Iris-setosa</td>\n",
       "    </tr>\n",
       "    <tr>\n",
       "      <th>1</th>\n",
       "      <td>4.9</td>\n",
       "      <td>3.0</td>\n",
       "      <td>1.4</td>\n",
       "      <td>0.2</td>\n",
       "      <td>Iris-setosa</td>\n",
       "    </tr>\n",
       "    <tr>\n",
       "      <th>2</th>\n",
       "      <td>4.7</td>\n",
       "      <td>3.2</td>\n",
       "      <td>1.3</td>\n",
       "      <td>0.2</td>\n",
       "      <td>Iris-setosa</td>\n",
       "    </tr>\n",
       "    <tr>\n",
       "      <th>3</th>\n",
       "      <td>4.6</td>\n",
       "      <td>3.1</td>\n",
       "      <td>1.5</td>\n",
       "      <td>0.2</td>\n",
       "      <td>Iris-setosa</td>\n",
       "    </tr>\n",
       "    <tr>\n",
       "      <th>4</th>\n",
       "      <td>5.0</td>\n",
       "      <td>3.6</td>\n",
       "      <td>1.4</td>\n",
       "      <td>0.2</td>\n",
       "      <td>Iris-setosa</td>\n",
       "    </tr>\n",
       "  </tbody>\n",
       "</table>\n",
       "</div>"
      ],
      "text/plain": [
       "   sepal_length  sepal_width  petal_length  petal_width      species\n",
       "0           5.1          3.5           1.4          0.2  Iris-setosa\n",
       "1           4.9          3.0           1.4          0.2  Iris-setosa\n",
       "2           4.7          3.2           1.3          0.2  Iris-setosa\n",
       "3           4.6          3.1           1.5          0.2  Iris-setosa\n",
       "4           5.0          3.6           1.4          0.2  Iris-setosa"
      ]
     },
     "execution_count": 4,
     "metadata": {},
     "output_type": "execute_result"
    }
   ],
   "source": [
    "iris = pd.read_csv(\"../../../resources/data/IRIS.csv\")  \n",
    "iris.head()"
   ]
  },
  {
   "cell_type": "code",
   "execution_count": 5,
   "id": "64c99fae",
   "metadata": {},
   "outputs": [
    {
     "data": {
      "text/plain": [
       "array(['Iris-setosa', 'Iris-versicolor', 'Iris-virginica'], dtype=object)"
      ]
     },
     "execution_count": 5,
     "metadata": {},
     "output_type": "execute_result"
    }
   ],
   "source": [
    "iris['species'].unique()"
   ]
  },
  {
   "cell_type": "code",
   "execution_count": 6,
   "id": "13faf21b",
   "metadata": {},
   "outputs": [
    {
     "data": {
      "image/png": "[encoded data removed]",
      "text/plain": [
       "<Figure size 432x288 with 1 Axes>"
      ]
     },
     "metadata": {},
     "output_type": "display_data"
    }
   ],
   "source": [
    "#iris.loc[iris['species' == 'd']]\n",
    "iris_setosa=iris[iris['species'] == 'Iris-setosa']\n",
    "iris_versicolor=iris[iris['species'] == 'Iris-versicolor'] \n",
    "iris_virginica=iris[iris['species'] == 'Iris-virginica']\n",
    "def plot_data():\n",
    "    plt.scatter(iris_setosa['sepal_length'].to_numpy(),iris_setosa['sepal_width'].to_numpy(),color='b',label='iris setosa')\n",
    "    plt.scatter(iris_versicolor['sepal_length'].to_numpy(),iris_versicolor['sepal_width'].to_numpy(),color='r',label='iris versicolor')\n",
    "    plt.scatter(iris_virginica['sepal_length'].to_numpy(),iris_virginica['sepal_width'].to_numpy(),color='y',label='iris virginica')\n",
    "    plt.ylabel('sepal_width')\n",
    "    plt.xlabel('sepal_length')\n",
    "    plt.legend()\n",
    "#plt.gca().set_aspect(60/30)\n",
    "plot_data()"
   ]
  },
  {
   "cell_type": "code",
   "execution_count": 7,
   "id": "93771e21",
   "metadata": {},
   "outputs": [],
   "source": [
    "def prbability(Y):\n",
    "    pass\n",
    "\n",
    "def entropy(X,Y):\n",
    "    pass\n",
    "    "
   ]
  },
  {
   "cell_type": "markdown",
   "id": "d65cebf8",
   "metadata": {},
   "source": [
    "If we pick up a random iris the  probabilyty to be the iris setosa is : "
   ]
  },
  {
   "cell_type": "code",
   "execution_count": 8,
   "id": "f2208db9",
   "metadata": {},
   "outputs": [
    {
     "name": "stdout",
     "output_type": "stream",
     "text": [
      "p(iris setosa)= p(size(iris)/size(iris-setosa))= 0.3333333333333333%\n"
     ]
    }
   ],
   "source": [
    "probavility_setosa = iris[iris['species'] == 'Iris-setosa'].shape[0]/iris.shape[0]\n",
    "print('p(iris setosa)= p(size(iris)/size(iris-setosa))= {}%'.format( probavility_setosa))"
   ]
  },
  {
   "cell_type": "code",
   "execution_count": 9,
   "id": "91c38a26",
   "metadata": {},
   "outputs": [
    {
     "data": {
      "text/html": [
       "<div>\n",
       "<style scoped>\n",
       "    .dataframe tbody tr th:only-of-type {\n",
       "        vertical-align: middle;\n",
       "    }\n",
       "\n",
       "    .dataframe tbody tr th {\n",
       "        vertical-align: top;\n",
       "    }\n",
       "\n",
       "    .dataframe thead th {\n",
       "        text-align: right;\n",
       "    }\n",
       "</style>\n",
       "<table border=\"1\" class=\"dataframe\">\n",
       "  <thead>\n",
       "    <tr style=\"text-align: right;\">\n",
       "      <th></th>\n",
       "      <th>sepal_length</th>\n",
       "      <th>sepal_width</th>\n",
       "      <th>petal_length</th>\n",
       "      <th>petal_width</th>\n",
       "      <th>species</th>\n",
       "    </tr>\n",
       "  </thead>\n",
       "  <tbody>\n",
       "    <tr>\n",
       "      <th>4</th>\n",
       "      <td>5.0</td>\n",
       "      <td>3.6</td>\n",
       "      <td>1.4</td>\n",
       "      <td>0.2</td>\n",
       "      <td>Iris-setosa</td>\n",
       "    </tr>\n",
       "    <tr>\n",
       "      <th>5</th>\n",
       "      <td>5.4</td>\n",
       "      <td>3.9</td>\n",
       "      <td>1.7</td>\n",
       "      <td>0.4</td>\n",
       "      <td>Iris-setosa</td>\n",
       "    </tr>\n",
       "    <tr>\n",
       "      <th>10</th>\n",
       "      <td>5.4</td>\n",
       "      <td>3.7</td>\n",
       "      <td>1.5</td>\n",
       "      <td>0.2</td>\n",
       "      <td>Iris-setosa</td>\n",
       "    </tr>\n",
       "    <tr>\n",
       "      <th>14</th>\n",
       "      <td>5.8</td>\n",
       "      <td>4.0</td>\n",
       "      <td>1.2</td>\n",
       "      <td>0.2</td>\n",
       "      <td>Iris-setosa</td>\n",
       "    </tr>\n",
       "    <tr>\n",
       "      <th>15</th>\n",
       "      <td>5.7</td>\n",
       "      <td>4.4</td>\n",
       "      <td>1.5</td>\n",
       "      <td>0.4</td>\n",
       "      <td>Iris-setosa</td>\n",
       "    </tr>\n",
       "    <tr>\n",
       "      <th>16</th>\n",
       "      <td>5.4</td>\n",
       "      <td>3.9</td>\n",
       "      <td>1.3</td>\n",
       "      <td>0.4</td>\n",
       "      <td>Iris-setosa</td>\n",
       "    </tr>\n",
       "    <tr>\n",
       "      <th>18</th>\n",
       "      <td>5.7</td>\n",
       "      <td>3.8</td>\n",
       "      <td>1.7</td>\n",
       "      <td>0.3</td>\n",
       "      <td>Iris-setosa</td>\n",
       "    </tr>\n",
       "    <tr>\n",
       "      <th>19</th>\n",
       "      <td>5.1</td>\n",
       "      <td>3.8</td>\n",
       "      <td>1.5</td>\n",
       "      <td>0.3</td>\n",
       "      <td>Iris-setosa</td>\n",
       "    </tr>\n",
       "    <tr>\n",
       "      <th>21</th>\n",
       "      <td>5.1</td>\n",
       "      <td>3.7</td>\n",
       "      <td>1.5</td>\n",
       "      <td>0.4</td>\n",
       "      <td>Iris-setosa</td>\n",
       "    </tr>\n",
       "    <tr>\n",
       "      <th>22</th>\n",
       "      <td>4.6</td>\n",
       "      <td>3.6</td>\n",
       "      <td>1.0</td>\n",
       "      <td>0.2</td>\n",
       "      <td>Iris-setosa</td>\n",
       "    </tr>\n",
       "    <tr>\n",
       "      <th>32</th>\n",
       "      <td>5.2</td>\n",
       "      <td>4.1</td>\n",
       "      <td>1.5</td>\n",
       "      <td>0.1</td>\n",
       "      <td>Iris-setosa</td>\n",
       "    </tr>\n",
       "    <tr>\n",
       "      <th>33</th>\n",
       "      <td>5.5</td>\n",
       "      <td>4.2</td>\n",
       "      <td>1.4</td>\n",
       "      <td>0.2</td>\n",
       "      <td>Iris-setosa</td>\n",
       "    </tr>\n",
       "    <tr>\n",
       "      <th>44</th>\n",
       "      <td>5.1</td>\n",
       "      <td>3.8</td>\n",
       "      <td>1.9</td>\n",
       "      <td>0.4</td>\n",
       "      <td>Iris-setosa</td>\n",
       "    </tr>\n",
       "    <tr>\n",
       "      <th>46</th>\n",
       "      <td>5.1</td>\n",
       "      <td>3.8</td>\n",
       "      <td>1.6</td>\n",
       "      <td>0.2</td>\n",
       "      <td>Iris-setosa</td>\n",
       "    </tr>\n",
       "    <tr>\n",
       "      <th>48</th>\n",
       "      <td>5.3</td>\n",
       "      <td>3.7</td>\n",
       "      <td>1.5</td>\n",
       "      <td>0.2</td>\n",
       "      <td>Iris-setosa</td>\n",
       "    </tr>\n",
       "    <tr>\n",
       "      <th>109</th>\n",
       "      <td>7.2</td>\n",
       "      <td>3.6</td>\n",
       "      <td>6.1</td>\n",
       "      <td>2.5</td>\n",
       "      <td>Iris-virginica</td>\n",
       "    </tr>\n",
       "    <tr>\n",
       "      <th>117</th>\n",
       "      <td>7.7</td>\n",
       "      <td>3.8</td>\n",
       "      <td>6.7</td>\n",
       "      <td>2.2</td>\n",
       "      <td>Iris-virginica</td>\n",
       "    </tr>\n",
       "    <tr>\n",
       "      <th>131</th>\n",
       "      <td>7.9</td>\n",
       "      <td>3.8</td>\n",
       "      <td>6.4</td>\n",
       "      <td>2.0</td>\n",
       "      <td>Iris-virginica</td>\n",
       "    </tr>\n",
       "  </tbody>\n",
       "</table>\n",
       "</div>"
      ],
      "text/plain": [
       "     sepal_length  sepal_width  petal_length  petal_width         species\n",
       "4             5.0          3.6           1.4          0.2     Iris-setosa\n",
       "5             5.4          3.9           1.7          0.4     Iris-setosa\n",
       "10            5.4          3.7           1.5          0.2     Iris-setosa\n",
       "14            5.8          4.0           1.2          0.2     Iris-setosa\n",
       "15            5.7          4.4           1.5          0.4     Iris-setosa\n",
       "16            5.4          3.9           1.3          0.4     Iris-setosa\n",
       "18            5.7          3.8           1.7          0.3     Iris-setosa\n",
       "19            5.1          3.8           1.5          0.3     Iris-setosa\n",
       "21            5.1          3.7           1.5          0.4     Iris-setosa\n",
       "22            4.6          3.6           1.0          0.2     Iris-setosa\n",
       "32            5.2          4.1           1.5          0.1     Iris-setosa\n",
       "33            5.5          4.2           1.4          0.2     Iris-setosa\n",
       "44            5.1          3.8           1.9          0.4     Iris-setosa\n",
       "46            5.1          3.8           1.6          0.2     Iris-setosa\n",
       "48            5.3          3.7           1.5          0.2     Iris-setosa\n",
       "109           7.2          3.6           6.1          2.5  Iris-virginica\n",
       "117           7.7          3.8           6.7          2.2  Iris-virginica\n",
       "131           7.9          3.8           6.4          2.0  Iris-virginica"
      ]
     },
     "execution_count": 9,
     "metadata": {},
     "output_type": "execute_result"
    }
   ],
   "source": [
    "iris[iris['sepal_width'] > 3.5]"
   ]
  },
  {
   "cell_type": "code",
   "execution_count": null,
   "id": "f026de2d",
   "metadata": {},
   "outputs": [],
   "source": [
    "plot_data()\n",
    "plt.axvline(x=5,color='black')"
   ]
  },
  {
   "cell_type": "markdown",
   "id": "17cb83c2",
   "metadata": {},
   "source": [
    "if we get the left side of data sepatated by black line then the probabily to get the 'iris-setosa' is  "
   ]
  },
  {
   "cell_type": "code",
   "execution_count": 10,
   "id": "44434bcd",
   "metadata": {},
   "outputs": [
    {
     "name": "stdout",
     "output_type": "stream",
     "text": [
      "p(iris setosa)= p(size(iris)/size(iris-setosa))= 0.8333333333333334%\n"
     ]
    }
   ],
   "source": [
    "iris_s = iris[(iris['sepal_width'] > 3.5) & (iris['species'] == 'Iris-setosa')].shape[0]\n",
    "iris = iris[(iris['sepal_width'] > 3.5)].shape[0]\n",
    "print('p(iris setosa)= p(size(iris)/size(iris-setosa))= {}%'.format( iris_s/iris))"
   ]
  },
  {
   "cell_type": "code",
   "execution_count": null,
   "id": "fdd7febb",
   "metadata": {},
   "outputs": [],
   "source": []
  },
  {
   "cell_type": "code",
   "execution_count": null,
   "id": "06099b52",
   "metadata": {},
   "outputs": [],
   "source": [
    "#iris.loc[iris['sepal_width'] > 3.5 and iris['sepal_width'] <5]\n",
    "\n"
   ]
  },
  {
   "cell_type": "code",
   "execution_count": null,
   "id": "16559d6b",
   "metadata": {},
   "outputs": [],
   "source": [
    "#probavility_setosa = iris[ (iris['species'] == 'Iris-setosa') & (iris[iris['sepal_width'] > 3.5]) ].shape[0]/iris.shape[0]\n",
    "#print('p(iris setosa)= p(size(iris)/size(iris-setosa))= {}%'.format( probavility_setosa))"
   ]
  },
  {
   "cell_type": "code",
   "execution_count": 12,
   "id": "defeb927",
   "metadata": {},
   "outputs": [
    {
     "data": {
      "text/html": [
       "<div>\n",
       "<style scoped>\n",
       "    .dataframe tbody tr th:only-of-type {\n",
       "        vertical-align: middle;\n",
       "    }\n",
       "\n",
       "    .dataframe tbody tr th {\n",
       "        vertical-align: top;\n",
       "    }\n",
       "\n",
       "    .dataframe thead th {\n",
       "        text-align: right;\n",
       "    }\n",
       "</style>\n",
       "<table border=\"1\" class=\"dataframe\">\n",
       "  <thead>\n",
       "    <tr style=\"text-align: right;\">\n",
       "      <th></th>\n",
       "      <th>Gender</th>\n",
       "      <th>Height</th>\n",
       "      <th>Weight</th>\n",
       "      <th>Index</th>\n",
       "    </tr>\n",
       "  </thead>\n",
       "  <tbody>\n",
       "    <tr>\n",
       "      <th>0</th>\n",
       "      <td>Male</td>\n",
       "      <td>174</td>\n",
       "      <td>96</td>\n",
       "      <td>4</td>\n",
       "    </tr>\n",
       "    <tr>\n",
       "      <th>1</th>\n",
       "      <td>Male</td>\n",
       "      <td>189</td>\n",
       "      <td>87</td>\n",
       "      <td>2</td>\n",
       "    </tr>\n",
       "    <tr>\n",
       "      <th>2</th>\n",
       "      <td>Female</td>\n",
       "      <td>185</td>\n",
       "      <td>110</td>\n",
       "      <td>4</td>\n",
       "    </tr>\n",
       "    <tr>\n",
       "      <th>3</th>\n",
       "      <td>Female</td>\n",
       "      <td>195</td>\n",
       "      <td>104</td>\n",
       "      <td>3</td>\n",
       "    </tr>\n",
       "    <tr>\n",
       "      <th>4</th>\n",
       "      <td>Male</td>\n",
       "      <td>149</td>\n",
       "      <td>61</td>\n",
       "      <td>3</td>\n",
       "    </tr>\n",
       "  </tbody>\n",
       "</table>\n",
       "</div>"
      ],
      "text/plain": [
       "   Gender  Height  Weight  Index\n",
       "0    Male     174      96      4\n",
       "1    Male     189      87      2\n",
       "2  Female     185     110      4\n",
       "3  Female     195     104      3\n",
       "4    Male     149      61      3"
      ]
     },
     "execution_count": 12,
     "metadata": {},
     "output_type": "execute_result"
    }
   ],
   "source": [
    "data = pd.read_csv(\"../../../resources/data/500_Person_Gender_Height_Weight_Index.csv\")  \n",
    "data.head()"
   ]
  },
  {
   "cell_type": "markdown",
   "id": "1ca79264",
   "metadata": {},
   "source": [
    "people with an index of 4 or 5 are obese, so we could create a variable that reflects this:"
   ]
  },
  {
   "cell_type": "code",
   "execution_count": 13,
   "id": "2fbbb7be",
   "metadata": {},
   "outputs": [],
   "source": [
    "data['obese'] =  (data.Index > 4) .astype('int')"
   ]
  },
  {
   "cell_type": "code",
   "execution_count": 14,
   "id": "651904f3",
   "metadata": {},
   "outputs": [
    {
     "data": {
      "text/html": [
       "<div>\n",
       "<style scoped>\n",
       "    .dataframe tbody tr th:only-of-type {\n",
       "        vertical-align: middle;\n",
       "    }\n",
       "\n",
       "    .dataframe tbody tr th {\n",
       "        vertical-align: top;\n",
       "    }\n",
       "\n",
       "    .dataframe thead th {\n",
       "        text-align: right;\n",
       "    }\n",
       "</style>\n",
       "<table border=\"1\" class=\"dataframe\">\n",
       "  <thead>\n",
       "    <tr style=\"text-align: right;\">\n",
       "      <th></th>\n",
       "      <th>Gender</th>\n",
       "      <th>Height</th>\n",
       "      <th>Weight</th>\n",
       "      <th>obese</th>\n",
       "    </tr>\n",
       "  </thead>\n",
       "  <tbody>\n",
       "    <tr>\n",
       "      <th>0</th>\n",
       "      <td>Male</td>\n",
       "      <td>174</td>\n",
       "      <td>96</td>\n",
       "      <td>0</td>\n",
       "    </tr>\n",
       "    <tr>\n",
       "      <th>1</th>\n",
       "      <td>Male</td>\n",
       "      <td>189</td>\n",
       "      <td>87</td>\n",
       "      <td>0</td>\n",
       "    </tr>\n",
       "    <tr>\n",
       "      <th>2</th>\n",
       "      <td>Female</td>\n",
       "      <td>185</td>\n",
       "      <td>110</td>\n",
       "      <td>0</td>\n",
       "    </tr>\n",
       "    <tr>\n",
       "      <th>3</th>\n",
       "      <td>Female</td>\n",
       "      <td>195</td>\n",
       "      <td>104</td>\n",
       "      <td>0</td>\n",
       "    </tr>\n",
       "    <tr>\n",
       "      <th>4</th>\n",
       "      <td>Male</td>\n",
       "      <td>149</td>\n",
       "      <td>61</td>\n",
       "      <td>0</td>\n",
       "    </tr>\n",
       "    <tr>\n",
       "      <th>...</th>\n",
       "      <td>...</td>\n",
       "      <td>...</td>\n",
       "      <td>...</td>\n",
       "      <td>...</td>\n",
       "    </tr>\n",
       "    <tr>\n",
       "      <th>495</th>\n",
       "      <td>Female</td>\n",
       "      <td>150</td>\n",
       "      <td>153</td>\n",
       "      <td>1</td>\n",
       "    </tr>\n",
       "    <tr>\n",
       "      <th>496</th>\n",
       "      <td>Female</td>\n",
       "      <td>184</td>\n",
       "      <td>121</td>\n",
       "      <td>0</td>\n",
       "    </tr>\n",
       "    <tr>\n",
       "      <th>497</th>\n",
       "      <td>Female</td>\n",
       "      <td>141</td>\n",
       "      <td>136</td>\n",
       "      <td>1</td>\n",
       "    </tr>\n",
       "    <tr>\n",
       "      <th>498</th>\n",
       "      <td>Male</td>\n",
       "      <td>150</td>\n",
       "      <td>95</td>\n",
       "      <td>1</td>\n",
       "    </tr>\n",
       "    <tr>\n",
       "      <th>499</th>\n",
       "      <td>Male</td>\n",
       "      <td>173</td>\n",
       "      <td>131</td>\n",
       "      <td>1</td>\n",
       "    </tr>\n",
       "  </tbody>\n",
       "</table>\n",
       "<p>500 rows × 4 columns</p>\n",
       "</div>"
      ],
      "text/plain": [
       "     Gender  Height  Weight  obese\n",
       "0      Male     174      96      0\n",
       "1      Male     189      87      0\n",
       "2    Female     185     110      0\n",
       "3    Female     195     104      0\n",
       "4      Male     149      61      0\n",
       "..      ...     ...     ...    ...\n",
       "495  Female     150     153      1\n",
       "496  Female     184     121      0\n",
       "497  Female     141     136      1\n",
       "498    Male     150      95      1\n",
       "499    Male     173     131      1\n",
       "\n",
       "[500 rows x 4 columns]"
      ]
     },
     "execution_count": 14,
     "metadata": {},
     "output_type": "execute_result"
    }
   ],
   "source": [
    "data.drop('Index', axis = 1, inplace = True)\n",
    "data"
   ]
  },
  {
   "cell_type": "markdown",
   "id": "f0a14d98",
   "metadata": {},
   "source": [
    "In that case , a decision tree would tell us different rules, such as that if the person’s weight is greater than 100kg, it is most likely that the person is obese. However, that cut will not be precise: there will be people who weigh 100kg or more who are not obese. Thus, the decision tree continues to create more branches that generate new conditions to “refine” our predictions."
   ]
  },
  {
   "cell_type": "code",
   "execution_count": 15,
   "id": "e7ec6628",
   "metadata": {},
   "outputs": [
    {
     "data": {
      "text/plain": [
       "102"
      ]
     },
     "execution_count": 15,
     "metadata": {},
     "output_type": "execute_result"
    }
   ],
   "source": [
    "data.loc[(data['Weight']>=100) & (data['obese']==0),:].shape[0]"
   ]
  },
  {
   "cell_type": "markdown",
   "id": "d5f6563d",
   "metadata": {},
   "source": [
    "<h2>Calculate impurity using the Gini index</h2>"
   ]
  },
  {
   "cell_type": "markdown",
   "id": "2ca5606b",
   "metadata": {},
   "source": [
    "The Gini index is the most widely used cost function in decision trees. This index calculates the amount of probability that a specific characteristic will be classified incorrectly when it is randomly selected."
   ]
  },
  {
   "cell_type": "markdown",
   "id": "e53b3fae",
   "metadata": {},
   "source": [
    "This is an index that ranges from 0 (a pure cut) to 0.5 (a completely pure cut that divides the data equally). The Gini index is calculated as follows:"
   ]
  },
  {
   "cell_type": "markdown",
   "id": "05d6fe2c",
   "metadata": {},
   "source": [
    "$$ Gini  = 1 - \\sum_{i=1}^n(P_i)^2$$"
   ]
  },
  {
   "cell_type": "code",
   "execution_count": 16,
   "id": "6d56f26a",
   "metadata": {},
   "outputs": [
    {
     "data": {
      "text/plain": [
       "0.478368"
      ]
     },
     "execution_count": 16,
     "metadata": {},
     "output_type": "execute_result"
    }
   ],
   "source": [
    "y = data['obese']\n",
    "type(y)\n",
    "probability = y.value_counts()/y.shape[0]\n",
    "gini = 1 - np.sum(probability**2)\n",
    "gini"
   ]
  },
  {
   "cell_type": "code",
   "execution_count": 17,
   "id": "580bb402",
   "metadata": {},
   "outputs": [
    {
     "name": "stdout",
     "output_type": "stream",
     "text": [
      "Female    255\n",
      "Male      245\n",
      "Name: Gender, dtype: int64\n"
     ]
    },
    {
     "data": {
      "text/plain": [
       "0.4998"
      ]
     },
     "execution_count": 17,
     "metadata": {},
     "output_type": "execute_result"
    }
   ],
   "source": [
    "def gini_impurity(y):\n",
    "    '''\n",
    "    Given a Pandas Series, it calculates the Gini Impurity. \n",
    "    y: variable with which calculate Gini Impurity.\n",
    "    '''\n",
    "    if isinstance(y,pd.Series):\n",
    "        print(y.value_counts())\n",
    "        p = y.value_counts()/y.shape[0]\n",
    "        gini = 1-np.sum(p**2)\n",
    "        return(gini)\n",
    "    \n",
    "    else :\n",
    "        raise('object must be a Pandas Series')\n",
    "\n",
    "        \n",
    "gini_impurity(data.Gender)        "
   ]
  },
  {
   "cell_type": "markdown",
   "id": "59e88347",
   "metadata": {},
   "source": [
    "entropy\n",
    "$$ E(S) = \\sum_{i=1}^c - p_i\\log_2p_i$$"
   ]
  },
  {
   "cell_type": "code",
   "execution_count": 24,
   "id": "ef1ff64f",
   "metadata": {},
   "outputs": [],
   "source": [
    "def entropy(y):\n",
    "    \"\"\"\n",
    "    Given a Pandas Series, it calculates the Entropy\n",
    "    y: variable with wich calculate Entropy\n",
    "    \"\"\"\n",
    "    if isinstance(y, pd.Series):\n",
    "        p = y.value_counts()/y.shape[0]\n",
    "        entropy = np.sum(-p*np.log2(p)+1e-9)\n",
    "        return(entropy)\n",
    "    else :\n",
    "        raise(\"Object y must to be a Pandas Series\")\n",
    "        \n",
    "    "
   ]
  },
  {
   "cell_type": "code",
   "execution_count": 25,
   "id": "293aa29c",
   "metadata": {},
   "outputs": [
    {
     "data": {
      "text/plain": [
       "0.968562602558214"
      ]
     },
     "execution_count": 25,
     "metadata": {},
     "output_type": "execute_result"
    }
   ],
   "source": [
    "entropy(data['obese'])"
   ]
  },
  {
   "cell_type": "code",
   "execution_count": 26,
   "id": "73d72349",
   "metadata": {},
   "outputs": [
    {
     "data": {
      "text/plain": [
       "0.3834641343087979"
      ]
     },
     "execution_count": 26,
     "metadata": {},
     "output_type": "execute_result"
    }
   ],
   "source": [
    "entropy(data['obese'][data['Weight']>=140])"
   ]
  },
  {
   "cell_type": "markdown",
   "id": "2ea1c03e",
   "metadata": {},
   "source": [
    "As we have seen, cuts are compared by impurity. Therefore, we are interested in comparing those cuts that generate less impurity. For this, Information Gain is used. This metric indicates the improvement when making different partitions and is usually used with entropy (it could also be used with the Gini index, although in that case it would not be called Informaiton Gain)."
   ]
  },
  {
   "cell_type": "markdown",
   "id": "7ee2f953",
   "metadata": {},
   "source": [
    "The calculation of the Information Gain will depend on whether it is a classification or regression decision tree. There would be two options:"
   ]
  },
  {
   "cell_type": "markdown",
   "id": "b7067aba",
   "metadata": {},
   "source": [
    "$$ InformationGain_{clasification} = E(d) - \\sum\\frac{|s|}{|d|}E(s)$$"
   ]
  },
  {
   "cell_type": "markdown",
   "id": "fd90d0bc",
   "metadata": {},
   "source": [
    "$$ InformationGain_{regression} = Var(d) - \\sum\\frac{|s|}{|d|}Var(s)$$"
   ]
  },
  {
   "cell_type": "markdown",
   "id": "347953d7",
   "metadata": {},
   "source": [
    "So the Information Gain will look like this:"
   ]
  },
  {
   "cell_type": "code",
   "execution_count": 20,
   "id": "99805e4d",
   "metadata": {},
   "outputs": [
    {
     "data": {
      "text/plain": [
       "0       True\n",
       "1       True\n",
       "2      False\n",
       "3      False\n",
       "4       True\n",
       "       ...  \n",
       "495    False\n",
       "496    False\n",
       "497    False\n",
       "498     True\n",
       "499     True\n",
       "Name: Gender, Length: 500, dtype: bool"
      ]
     },
     "execution_count": 20,
     "metadata": {},
     "output_type": "execute_result"
    }
   ],
   "source": [
    "a = mask = data['Gender'] == 'Male'\n",
    "a"
   ]
  },
  {
   "cell_type": "code",
   "execution_count": 21,
   "id": "4a2844c6",
   "metadata": {},
   "outputs": [],
   "source": [
    "b = mask.shape[0] - a"
   ]
  },
  {
   "cell_type": "code",
   "execution_count": 27,
   "id": "3cd106d4",
   "metadata": {},
   "outputs": [],
   "source": [
    "def variance(y):\n",
    "  '''\n",
    "  Function to help calculate the variance avoiding nan.\n",
    "  y: variable to calculate variance to. It should be a Pandas Series.\n",
    "  '''\n",
    "  if(len(y) == 1):\n",
    "    return 0\n",
    "  else:\n",
    "    return y.var()\n",
    "\n",
    "def information_gain(y, mask, func=entropy):\n",
    "  '''\n",
    "  It returns the Information Gain of a variable given a loss function.\n",
    "  y: target variable.\n",
    "  mask: split choice.\n",
    "  func: function to be used to calculate Information Gain in case os classification.\n",
    "  '''\n",
    "  \n",
    "  a = sum(mask)\n",
    "  b = mask.shape[0] - a\n",
    "  \n",
    "  if(a == 0 or b ==0): \n",
    "    ig = 0\n",
    "  \n",
    "  else:\n",
    "    if y.dtypes != 'O':\n",
    "      ig = variance(y) - (a/(a+b)* variance(y[mask])) - (b/(a+b)*variance(y[-mask]))\n",
    "    else:\n",
    "      ig = func(y)-a/(a+b)*func(y[mask])-b/(a+b)*func(y[-mask])\n",
    "  \n",
    "  return ig"
   ]
  },
  {
   "cell_type": "code",
   "execution_count": 63,
   "id": "7b083900",
   "metadata": {},
   "outputs": [],
   "source": [
    "def max_information_gain_split(x, y, func=entropy):\n",
    "    x,y = data['Weight'], data['obese']\n",
    "\n",
    "    split_value = []\n",
    "    ig = [] \n",
    "\n",
    "    numeric_variable = True if x.dtypes != 'O' else False # check the type of column\n",
    "\n",
    "    #Create options according to variable type\n",
    "    if numeric_variable:\n",
    "        options = x.sort_values().unique()[1:]\n",
    "    else : \n",
    "        pass\n",
    "    \n",
    "    for val in options:\n",
    "        #print(x)\n",
    "        mask =   x < val if numeric_variable else x.isin(val)\n",
    "        val_ig = information_gain(y, mask, func=entropy)\n",
    "        print(val_ig)\n",
    "    \n",
    "        ig.append(val_ig)\n",
    "        split_value.append(val)\n",
    "    \n",
    "        if(len(ig)==0):\n",
    "            return (None,None,None, False)\n",
    "    \n",
    "    else:\n",
    "    # get results with highest IG\n",
    "        best_ig = min(ig)\n",
    "        best_ig_index = ig.index(best_ig)\n",
    "        best_split_number = split_value[best_ig_index]\n",
    "    return(best_ig,best_split_number,numeric_variable, True)"
   ]
  },
  {
   "cell_type": "code",
   "execution_count": 64,
   "id": "f4d3fd6e",
   "metadata": {},
   "outputs": [
    {
     "name": "stdout",
     "output_type": "stream",
     "text": [
      "0.0028714899186155496\n",
      "0.004181845171828014\n",
      "0.005850436840420192\n",
      "0.006188326653310289\n",
      "0.008942987670257363\n",
      "0.00929389990171775\n",
      "0.010712577188641603\n",
      "0.012520469510452187\n",
      "0.0139952043825676\n",
      "0.015118271708254888\n",
      "0.017023326653307386\n",
      "0.019762649452406855\n",
      "0.022180489124703467\n",
      "0.02258993215789515\n",
      "0.023829608408504316\n",
      "0.025934354690693134\n",
      "0.02722097371213167\n",
      "0.029406183796165247\n",
      "0.031192172807154722\n",
      "0.03255436781553614\n",
      "0.03628554887553001\n",
      "0.038206967551063065\n",
      "0.03918212364578966\n",
      "0.04016710499083917\n",
      "0.04216714344720182\n",
      "0.04369409588407702\n",
      "0.045766953596313664\n",
      "0.04681957665330877\n",
      "0.04841923216511987\n",
      "0.049593993319975216\n",
      "0.05047554721962855\n",
      "0.05391694984171544\n",
      "0.0556812061455306\n",
      "0.059915836305818176\n",
      "0.06241279425294344\n",
      "0.06341736591587524\n",
      "0.05955598566504966\n",
      "0.06278380858102003\n",
      "0.061168922062203535\n",
      "0.06315415813396733\n",
      "0.0679350247665162\n",
      "0.06646221819521483\n",
      "0.06780766081377129\n",
      "0.06851825383318455\n",
      "0.06777198678402743\n",
      "0.06998171049169308\n",
      "0.07382544927599718\n",
      "0.07393229571011242\n",
      "0.07484889621100593\n",
      "0.07580744656737512\n",
      "0.07458238508478993\n",
      "0.07561644020642158\n",
      "0.07810309273518042\n",
      "0.07781799504751108\n",
      "0.07657435454587101\n",
      "0.07960010084685772\n",
      "0.08093703939043592\n",
      "0.08095877202521902\n",
      "0.08064195913194183\n",
      "0.08082174940618649\n",
      "0.07941555234225192\n",
      "0.08177139562790368\n",
      "0.08046846626289558\n",
      "0.08093388368248648\n",
      "0.08252886050399137\n",
      "0.08467339376740253\n",
      "0.0877851849929888\n",
      "0.08858294387818845\n",
      "0.08960214743154749\n",
      "0.0881739885198284\n",
      "0.08916669787272719\n",
      "0.09412199096113655\n",
      "0.09276303970926367\n",
      "0.09147221642663257\n",
      "0.09408822427820585\n",
      "0.09036176298986846\n",
      "0.09054146014772091\n",
      "0.09330296766334911\n",
      "0.09204189794555859\n",
      "0.09110744246899932\n",
      "0.08782107900296168\n",
      "0.08830979129977423\n",
      "0.08590248619600108\n",
      "0.08470952635524548\n",
      "0.08146097930521784\n",
      "0.08362513341996358\n",
      "0.08168562816981279\n",
      "0.07866923402027766\n",
      "0.0762199304268938\n",
      "0.07017046951045154\n",
      "0.06436920900625025\n",
      "0.060244496217544276\n",
      "0.05421236971551033\n",
      "0.0512644001641207\n",
      "0.047992514897527594\n",
      "0.042338757458068844\n",
      "0.03928650722548661\n",
      "0.0399645559169438\n",
      "0.037084039905053025\n",
      "0.0352995250079283\n",
      "0.032652938042305575\n",
      "0.029179617380125367\n",
      "0.022418904746613875\n",
      "0.01829044529737681\n",
      "0.014279678854567462\n",
      "0.012069123754757272\n",
      "0.00974563118005875\n",
      "0.007450647716703895\n",
      "0.004434117728361026\n"
     ]
    },
    {
     "data": {
      "text/plain": [
       "51"
      ]
     },
     "execution_count": 64,
     "metadata": {},
     "output_type": "execute_result"
    }
   ],
   "source": [
    "weight_ig, weight_slpit, _, _ = max_information_gain_split(data['Weight'], data['obese'],)  \n",
    "weight_slpit"
   ]
  },
  {
   "cell_type": "code",
   "execution_count": 65,
   "id": "ede850f9",
   "metadata": {},
   "outputs": [
    {
     "name": "stdout",
     "output_type": "stream",
     "text": [
      "The best split for Weight is when the variable is less than  51 \n",
      "Information Gain for that split is: 0.0028714899186155496\n"
     ]
    }
   ],
   "source": [
    "print(\n",
    "  \"The best split for Weight is when the variable is less than \",\n",
    "  weight_slpit,\"\\nInformation Gain for that split is:\", weight_ig\n",
    ")"
   ]
  },
  {
   "cell_type": "code",
   "execution_count": 66,
   "id": "3ed6c77c",
   "metadata": {},
   "outputs": [
    {
     "data": {
      "text/plain": [
       "1e-09"
      ]
     },
     "execution_count": 66,
     "metadata": {},
     "output_type": "execute_result"
    }
   ],
   "source": [
    "entropy(data['obese'][data['Weight']<51])"
   ]
  },
  {
   "cell_type": "code",
   "execution_count": 68,
   "id": "428c5fd9",
   "metadata": {},
   "outputs": [
    {
     "data": {
      "text/plain": [
       "0    9\n",
       "Name: obese, dtype: int64"
      ]
     },
     "execution_count": 68,
     "metadata": {},
     "output_type": "execute_result"
    }
   ],
   "source": [
    "data['obese'][data['Weight']<51].value_counts()"
   ]
  },
  {
   "cell_type": "markdown",
   "id": "1e7f6083",
   "metadata": {},
   "source": [
    "<h2> How to choose the cuts for our decision tree </h2>"
   ]
  },
  {
   "cell_type": "markdown",
   "id": "6f679003",
   "metadata": {},
   "source": [
    "<h2> References </h2>\n",
    "[1] <a href = 'https://machinelearningmastery.com/implement-decision-tree-algorithm-scratch-python/'> How To Implement The Decision Tree Algorithm From Scratch In Python </a> <br> <br>\n",
    "[2] <a href = 'analyticsvidhya.com/blog/2020/06/4-ways-split-decision-tree/'> 4 Simple Ways to Split a Decision Tree in Machine Learning </a> <br>\n",
    "[3] <a href = 'https://zerowithdot.com/decision-tree/'>Decision Tree - Implemented from scratch </a> <br>\n",
    "[4] <a href = 'https://python-course.eu/machine-learning/decision-trees-in-python.php'>Decision Trees in Python <a><br>\n",
    "[5] <a href='https://anderfernandez.com/en/blog/code-decision-tree-python-from-scratch/'>How to program decision tree in oython from 0 </a>\n",
    "    "
   ]
  }
 ],
 "metadata": {
  "kernelspec": {
   "display_name": "Python 3",
   "language": "python",
   "name": "python3"
  },
  "language_info": {
   "codemirror_mode": {
    "name": "ipython",
    "version": 3
   },
   "file_extension": ".py",
   "mimetype": "text/x-python",
   "name": "python",
   "nbconvert_exporter": "python",
   "pygments_lexer": "ipython3",
   "version": "3.8.8"
  }
 },
 "nbformat": 4,
 "nbformat_minor": 5
}
