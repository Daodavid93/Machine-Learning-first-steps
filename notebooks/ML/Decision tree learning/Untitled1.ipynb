{
 "cells": [
  {
   "cell_type": "code",
   "execution_count": 4,
   "id": "0a240afd",
   "metadata": {},
   "outputs": [],
   "source": [
    "import pandas as pd\n",
    "import matplotlib.pyplot as plt\n",
    "import collections\n",
    "import numpy as np"
   ]
  },
  {
   "cell_type": "markdown",
   "id": "f401c0eb",
   "metadata": {},
   "source": [
    "<h1> Notes 2 </h1>"
   ]
  },
  {
   "cell_type": "code",
   "execution_count": 3,
   "id": "734da805",
   "metadata": {},
   "outputs": [
    {
     "data": {
      "text/html": [
       "<div>\n",
       "<style scoped>\n",
       "    .dataframe tbody tr th:only-of-type {\n",
       "        vertical-align: middle;\n",
       "    }\n",
       "\n",
       "    .dataframe tbody tr th {\n",
       "        vertical-align: top;\n",
       "    }\n",
       "\n",
       "    .dataframe thead th {\n",
       "        text-align: right;\n",
       "    }\n",
       "</style>\n",
       "<table border=\"1\" class=\"dataframe\">\n",
       "  <thead>\n",
       "    <tr style=\"text-align: right;\">\n",
       "      <th></th>\n",
       "      <th>Gender</th>\n",
       "      <th>Height</th>\n",
       "      <th>Weight</th>\n",
       "      <th>Index</th>\n",
       "    </tr>\n",
       "  </thead>\n",
       "  <tbody>\n",
       "    <tr>\n",
       "      <th>0</th>\n",
       "      <td>Male</td>\n",
       "      <td>174</td>\n",
       "      <td>96</td>\n",
       "      <td>4</td>\n",
       "    </tr>\n",
       "    <tr>\n",
       "      <th>1</th>\n",
       "      <td>Male</td>\n",
       "      <td>189</td>\n",
       "      <td>87</td>\n",
       "      <td>2</td>\n",
       "    </tr>\n",
       "    <tr>\n",
       "      <th>2</th>\n",
       "      <td>Female</td>\n",
       "      <td>185</td>\n",
       "      <td>110</td>\n",
       "      <td>4</td>\n",
       "    </tr>\n",
       "    <tr>\n",
       "      <th>3</th>\n",
       "      <td>Female</td>\n",
       "      <td>195</td>\n",
       "      <td>104</td>\n",
       "      <td>3</td>\n",
       "    </tr>\n",
       "    <tr>\n",
       "      <th>4</th>\n",
       "      <td>Male</td>\n",
       "      <td>149</td>\n",
       "      <td>61</td>\n",
       "      <td>3</td>\n",
       "    </tr>\n",
       "  </tbody>\n",
       "</table>\n",
       "</div>"
      ],
      "text/plain": [
       "   Gender  Height  Weight  Index\n",
       "0    Male     174      96      4\n",
       "1    Male     189      87      2\n",
       "2  Female     185     110      4\n",
       "3  Female     195     104      3\n",
       "4    Male     149      61      3"
      ]
     },
     "execution_count": 3,
     "metadata": {},
     "output_type": "execute_result"
    }
   ],
   "source": [
    "df = pd.read_csv(\"../../../resources/data/500_Person_Gender_Height_Weight_Index.csv\")  \n",
    "df.head()"
   ]
  },
  {
   "cell_type": "code",
   "execution_count": 9,
   "id": "37a18101",
   "metadata": {},
   "outputs": [],
   "source": [
    "df['obese'] = (df['Index']>4).astype(int)\n",
    "df.drop('Index',axis=1,inplace=True)"
   ]
  },
  {
   "cell_type": "code",
   "execution_count": 11,
   "id": "414dae7b",
   "metadata": {},
   "outputs": [
    {
     "data": {
      "text/plain": [
       "<matplotlib.legend.Legend at 0x2977771550>"
      ]
     },
     "execution_count": 11,
     "metadata": {},
     "output_type": "execute_result"
    },
    {
     "data": {
      "image/png": "[encoded data removed]",
      "text/plain": [
       "<Figure size 432x288 with 1 Axes>"
      ]
     },
     "metadata": {
      "needs_background": "light"
     },
     "output_type": "display_data"
    }
   ],
   "source": [
    "is_ob = df[df['obese']==0].drop('obese',axis=1)\n",
    "ob = df[df['obese']==1].drop('obese',axis=1)\n",
    "plt.scatter(is_ob['Height'],is_ob['Weight'],color='r',label='not_obese')\n",
    "plt.scatter(ob['Height'],ob['Weight'],color='b',label='obese')\n",
    "plt.xlabel('Height')\n",
    "plt.ylabel('Weight')\n",
    "plt.legend()"
   ]
  },
  {
   "cell_type": "code",
   "execution_count": 59,
   "id": "ac466ab9",
   "metadata": {},
   "outputs": [
    {
     "name": "stdout",
     "output_type": "stream",
     "text": [
      "312\n",
      "51\n",
      "0.16346153846153846\n"
     ]
    }
   ],
   "source": [
    "a = df[df['Weight']<120]['obese']==1\n",
    "\n",
    "print(len(a))\n",
    "print(sum(a))\n",
    "print(sum(a)/len(a))"
   ]
  },
  {
   "cell_type": "code",
   "execution_count": 43,
   "id": "2f592e71",
   "metadata": {},
   "outputs": [
    {
     "data": {
      "text/plain": [
       "array([2, 4])"
      ]
     },
     "execution_count": 43,
     "metadata": {},
     "output_type": "execute_result"
    }
   ],
   "source": [
    "np.array([1,2])*np.array([2,2])"
   ]
  },
  {
   "cell_type": "code",
   "execution_count": 51,
   "id": "3944296b",
   "metadata": {},
   "outputs": [],
   "source": [
    "def entropy(y):\n",
    "    \"\"\"\n",
    "    \n",
    "    \"\"\"\n",
    "    counter =  collections.Counter(y)\n",
    "    p = np.array(list(counter.values()))/len(y)\n",
    "    return -np.sum(p*np.log2(p))"
   ]
  },
  {
   "cell_type": "code",
   "execution_count": 65,
   "id": "1cafb6b0",
   "metadata": {},
   "outputs": [],
   "source": [
    "weights = df['Weight'].unique()\n",
    "data = np.array([0,0,0])\n",
    "for i in range(1,len(weights)):\n",
    "    weight = weights[i]\n",
    "    a = df[df['Weight']<weight]\n",
    "    b = df[df['Weight']>weight]\n",
    "    e = entropy(a['obese'])\n",
    "    e_1 = entropy(b['obese'])\n",
    "    data = np.vstack([data,[weight,e,e_1]])"
   ]
  },
  {
   "cell_type": "code",
   "execution_count": 66,
   "id": "46dbf5e9",
   "metadata": {},
   "outputs": [
    {
     "data": {
      "text/plain": [
       "<matplotlib.collections.PathCollection at 0x2978cfba30>"
      ]
     },
     "execution_count": 66,
     "metadata": {},
     "output_type": "execute_result"
    },
    {
     "data": {
      "image/png": "[encoded data removed]",
      "text/plain": [
       "<Figure size 432x288 with 1 Axes>"
      ]
     },
     "metadata": {
      "needs_background": "light"
     },
     "output_type": "display_data"
    }
   ],
   "source": [
    "plt.scatter(data[:,0],data[:,1],s=4,label='<weight')\n",
    "plt.scatter(data[:,0],data[:,2],s=4,label='>weight')"
   ]
  },
  {
   "cell_type": "markdown",
   "id": "db75d271",
   "metadata": {},
   "source": [
    "information gain"
   ]
  },
  {
   "cell_type": "code",
   "execution_count": 55,
   "id": "d7ed5f4e",
   "metadata": {},
   "outputs": [],
   "source": [
    "def inf_gain(y,mask,func=entropy):\n",
    "    y_left = y[mask]\n",
    "    y_right = y[-mask]\n",
    "    return func(y)-(len(y_left)/len(y)*func(y_left) + len(y_right)/len(y)*func(y_right))"
   ]
  },
  {
   "cell_type": "code",
   "execution_count": 57,
   "id": "24bf1025",
   "metadata": {},
   "outputs": [
    {
     "data": {
      "text/plain": [
       "<matplotlib.collections.PathCollection at 0x2978b5daf0>"
      ]
     },
     "execution_count": 57,
     "metadata": {},
     "output_type": "execute_result"
    },
    {
     "data": {
      "image/png": "[encoded data removed]",
      "text/plain": [
       "<Figure size 432x288 with 1 Axes>"
      ]
     },
     "metadata": {
      "needs_background": "light"
     },
     "output_type": "display_data"
    }
   ],
   "source": [
    "weights = df['Weight'].unique()\n",
    "data = np.array([0,0])\n",
    "for i in range(1,len(weights)):\n",
    "    weight = weights[i]\n",
    "    mask = df['Weight']<weight\n",
    "    e = inf_gain(df['obese'],mask)\n",
    "    data = np.vstack([data,[weight,e]])\n",
    "plt.scatter(data[:,0],data[:,1],s=4)    "
   ]
  },
  {
   "cell_type": "code",
   "execution_count": 37,
   "id": "5723c67c",
   "metadata": {},
   "outputs": [],
   "source": [
    "entropy = lambda p : np.sum(-p*np.log2(p)+1e-9)\n",
    "np"
   ]
  },
  {
   "cell_type": "code",
   "execution_count": 84,
   "id": "3ef2d9be",
   "metadata": {},
   "outputs": [
    {
     "name": "stderr",
     "output_type": "stream",
     "text": [
      "<ipython-input-84-c766ea5dd3fa>:2: RuntimeWarning: divide by zero encountered in log2\n",
      "  D = np.nan_to_num(np.log2(A)*A)\n",
      "<ipython-input-84-c766ea5dd3fa>:2: RuntimeWarning: invalid value encountered in multiply\n",
      "  D = np.nan_to_num(np.log2(A)*A)\n"
     ]
    },
    {
     "data": {
      "text/plain": [
       "array([[ 0.        , -0.35221389, -0.48220556, -0.52832083, -0.51996667,\n",
       "        -0.47110939, -0.389975  , -0.28199895, -0.15104445,  0.        ],\n",
       "       [ 0.        , -0.15104445, -0.28199895, -0.389975  , -0.47110939,\n",
       "        -0.51996667, -0.52832083, -0.48220556, -0.35221389,  0.        ]])"
      ]
     },
     "execution_count": 84,
     "metadata": {},
     "output_type": "execute_result"
    }
   ],
   "source": [
    "A = np.array([p,1-p])\n",
    "D = np.nan_to_num(np.log2(A)*A)\n",
    "D"
   ]
  },
  {
   "cell_type": "code",
   "execution_count": 88,
   "id": "0f67752f",
   "metadata": {},
   "outputs": [],
   "source": [
    "A = np.array([[1,2],[3,2]])*np.array([[1,2],[1,2]])\n",
    "\n",
    "C = -np.sum(D,axis=0)"
   ]
  },
  {
   "cell_type": "code",
   "execution_count": 91,
   "id": "d3b2ef50",
   "metadata": {},
   "outputs": [
    {
     "data": {
      "text/plain": [
       "[<matplotlib.lines.Line2D at 0xa219f23cd0>]"
      ]
     },
     "execution_count": 91,
     "metadata": {},
     "output_type": "execute_result"
    },
    {
     "data": {
      "image/png": "[encoded data removed]",
      "text/plain": [
       "<Figure size 432x288 with 1 Axes>"
      ]
     },
     "metadata": {
      "needs_background": "light"
     },
     "output_type": "display_data"
    }
   ],
   "source": [
    "plt.plot(p,C)"
   ]
  },
  {
   "cell_type": "code",
   "execution_count": 54,
   "id": "353d4130",
   "metadata": {},
   "outputs": [
    {
     "name": "stdout",
     "output_type": "stream",
     "text": [
      "nan\n"
     ]
    },
    {
     "name": "stderr",
     "output_type": "stream",
     "text": [
      "<ipython-input-37-15400d99a39d>:1: RuntimeWarning: divide by zero encountered in log2\n",
      "  entropy = lambda p : np.sum(-p*np.log2(p)+1e-9)\n",
      "<ipython-input-37-15400d99a39d>:1: RuntimeWarning: invalid value encountered in multiply\n",
      "  entropy = lambda p : np.sum(-p*np.log2(p)+1e-9)\n"
     ]
    },
    {
     "ename": "TypeError",
     "evalue": "append() takes exactly one argument (0 given)",
     "output_type": "error",
     "traceback": [
      "\u001b[1;31m---------------------------------------------------------------------------\u001b[0m",
      "\u001b[1;31mTypeError\u001b[0m                                 Traceback (most recent call last)",
      "\u001b[1;32m<ipython-input-54-1f50dcea1b56>\u001b[0m in \u001b[0;36m<module>\u001b[1;34m\u001b[0m\n\u001b[0;32m      5\u001b[0m \u001b[1;32mfor\u001b[0m \u001b[0mi\u001b[0m \u001b[1;32min\u001b[0m \u001b[0mrange\u001b[0m\u001b[1;33m(\u001b[0m\u001b[0mdata\u001b[0m\u001b[1;33m[\u001b[0m\u001b[1;33m:\u001b[0m\u001b[1;33m,\u001b[0m \u001b[1;33m:\u001b[0m\u001b[1;33m]\u001b[0m\u001b[1;33m.\u001b[0m\u001b[0mshape\u001b[0m\u001b[1;33m[\u001b[0m\u001b[1;36m1\u001b[0m\u001b[1;33m]\u001b[0m\u001b[1;33m)\u001b[0m\u001b[1;33m:\u001b[0m\u001b[1;33m\u001b[0m\u001b[1;33m\u001b[0m\u001b[0m\n\u001b[0;32m      6\u001b[0m     \u001b[0mprint\u001b[0m\u001b[1;33m(\u001b[0m\u001b[0mentropy\u001b[0m\u001b[1;33m(\u001b[0m\u001b[0mdata\u001b[0m\u001b[1;33m[\u001b[0m\u001b[1;33m:\u001b[0m\u001b[1;33m,\u001b[0m \u001b[0mi\u001b[0m\u001b[1;33m]\u001b[0m\u001b[1;33m)\u001b[0m\u001b[1;33m)\u001b[0m\u001b[1;33m\u001b[0m\u001b[1;33m\u001b[0m\u001b[0m\n\u001b[1;32m----> 7\u001b[1;33m     \u001b[0mnew_l\u001b[0m\u001b[1;33m.\u001b[0m\u001b[0mappend\u001b[0m\u001b[1;33m(\u001b[0m\u001b[1;33m)\u001b[0m\u001b[1;33m\u001b[0m\u001b[1;33m\u001b[0m\u001b[0m\n\u001b[0m",
      "\u001b[1;31mTypeError\u001b[0m: append() takes exactly one argument (0 given)"
     ]
    }
   ],
   "source": [
    "p = np.linspace(0, 1, 10)\n",
    "not_p = 1- p\n",
    "data = np.array([p,not_p])\n",
    "new_l  = []\n",
    "for i in range(data[:, :].shape[1]):\n",
    "    print(entropy(data[:, i]))\n",
    "    new_l.append()"
   ]
  },
  {
   "cell_type": "code",
   "execution_count": null,
   "id": "ffce70c5",
   "metadata": {},
   "outputs": [],
   "source": []
  },
  {
   "cell_type": "code",
   "execution_count": null,
   "id": "c01fac39",
   "metadata": {},
   "outputs": [],
   "source": [
    "for z in range(len(p))"
   ]
  },
  {
   "cell_type": "code",
   "execution_count": 18,
   "id": "00e8b4c6",
   "metadata": {},
   "outputs": [
    {
     "name": "stderr",
     "output_type": "stream",
     "text": [
      "<ipython-input-15-5e3e2b2fab5d>:1: RuntimeWarning: divide by zero encountered in log2\n",
      "  entropy = lambda p : np.sum(-p*np.log2(p))\n",
      "<ipython-input-15-5e3e2b2fab5d>:1: RuntimeWarning: invalid value encountered in double_scalars\n",
      "  entropy = lambda p : np.sum(-p*np.log2(p))\n"
     ]
    },
    {
     "data": {
      "text/plain": [
       "<matplotlib.collections.PathCollection at 0xa219dd1160>"
      ]
     },
     "execution_count": 18,
     "metadata": {},
     "output_type": "execute_result"
    },
    {
     "data": {
      "image/png": "[encoded data removed]",
      "text/plain": [
       "<Figure size 432x288 with 1 Axes>"
      ]
     },
     "metadata": {
      "needs_background": "light"
     },
     "output_type": "display_data"
    }
   ],
   "source": [
    "ent = [entropy(i) for i in p] \n",
    "\n",
    "plt.scatter(p,ent)"
   ]
  }
 ],
 "metadata": {
  "kernelspec": {
   "display_name": "Python 3",
   "language": "python",
   "name": "python3"
  },
  "language_info": {
   "codemirror_mode": {
    "name": "ipython",
    "version": 3
   },
   "file_extension": ".py",
   "mimetype": "text/x-python",
   "name": "python",
   "nbconvert_exporter": "python",
   "pygments_lexer": "ipython3",
   "version": "3.8.8"
  }
 },
 "nbformat": 4,
 "nbformat_minor": 5
}
