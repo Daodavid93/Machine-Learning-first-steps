{
 "cells": [
  {
   "cell_type": "code",
   "execution_count": 2,
   "id": "0a240afd",
   "metadata": {},
   "outputs": [],
   "source": [
    "import pandas as pd\n",
    "import matplotlib.pyplot as plt\n",
    "import collections\n",
    "import numpy as np"
   ]
  },
  {
   "cell_type": "markdown",
   "id": "f401c0eb",
   "metadata": {},
   "source": [
    "<h1> Notes 2 </h1>"
   ]
  },
  {
   "cell_type": "code",
   "execution_count": 3,
   "id": "734da805",
   "metadata": {},
   "outputs": [
    {
     "data": {
      "text/html": [
       "<div>\n",
       "<style scoped>\n",
       "    .dataframe tbody tr th:only-of-type {\n",
       "        vertical-align: middle;\n",
       "    }\n",
       "\n",
       "    .dataframe tbody tr th {\n",
       "        vertical-align: top;\n",
       "    }\n",
       "\n",
       "    .dataframe thead th {\n",
       "        text-align: right;\n",
       "    }\n",
       "</style>\n",
       "<table border=\"1\" class=\"dataframe\">\n",
       "  <thead>\n",
       "    <tr style=\"text-align: right;\">\n",
       "      <th></th>\n",
       "      <th>Gender</th>\n",
       "      <th>Height</th>\n",
       "      <th>Weight</th>\n",
       "      <th>Index</th>\n",
       "    </tr>\n",
       "  </thead>\n",
       "  <tbody>\n",
       "    <tr>\n",
       "      <th>0</th>\n",
       "      <td>Male</td>\n",
       "      <td>174</td>\n",
       "      <td>96</td>\n",
       "      <td>4</td>\n",
       "    </tr>\n",
       "    <tr>\n",
       "      <th>1</th>\n",
       "      <td>Male</td>\n",
       "      <td>189</td>\n",
       "      <td>87</td>\n",
       "      <td>2</td>\n",
       "    </tr>\n",
       "    <tr>\n",
       "      <th>2</th>\n",
       "      <td>Female</td>\n",
       "      <td>185</td>\n",
       "      <td>110</td>\n",
       "      <td>4</td>\n",
       "    </tr>\n",
       "    <tr>\n",
       "      <th>3</th>\n",
       "      <td>Female</td>\n",
       "      <td>195</td>\n",
       "      <td>104</td>\n",
       "      <td>3</td>\n",
       "    </tr>\n",
       "    <tr>\n",
       "      <th>4</th>\n",
       "      <td>Male</td>\n",
       "      <td>149</td>\n",
       "      <td>61</td>\n",
       "      <td>3</td>\n",
       "    </tr>\n",
       "  </tbody>\n",
       "</table>\n",
       "</div>"
      ],
      "text/plain": [
       "   Gender  Height  Weight  Index\n",
       "0    Male     174      96      4\n",
       "1    Male     189      87      2\n",
       "2  Female     185     110      4\n",
       "3  Female     195     104      3\n",
       "4    Male     149      61      3"
      ]
     },
     "execution_count": 3,
     "metadata": {},
     "output_type": "execute_result"
    }
   ],
   "source": [
    "df = pd.read_csv(\"../../../resources/data/500_Person_Gender_Height_Weight_Index.csv\")  \n",
    "df.head()"
   ]
  },
  {
   "cell_type": "code",
   "execution_count": 9,
   "id": "37a18101",
   "metadata": {},
   "outputs": [],
   "source": [
    "df['obese'] = (df['Index']>4).astype(int)\n",
    "df.drop('Index',axis=1,inplace=True)"
   ]
  },
  {
   "cell_type": "code",
   "execution_count": 11,
   "id": "414dae7b",
   "metadata": {},
   "outputs": [
    {
     "data": {
      "text/plain": [
       "<matplotlib.legend.Legend at 0x2977771550>"
      ]
     },
     "execution_count": 11,
     "metadata": {},
     "output_type": "execute_result"
    },
    {
     "data": {
      "image/png": "[encoded data removed]",
      "text/plain": [
       "<Figure size 432x288 with 1 Axes>"
      ]
     },
     "metadata": {
      "needs_background": "light"
     },
     "output_type": "display_data"
    }
   ],
   "source": [
    "is_ob = df[df['obese']==0].drop('obese',axis=1)\n",
    "ob = df[df['obese']==1].drop('obese',axis=1)\n",
    "plt.scatter(is_ob['Height'],is_ob['Weight'],color='r',label='not_obese')\n",
    "plt.scatter(ob['Height'],ob['Weight'],color='b',label='obese')\n",
    "plt.xlabel('Height')\n",
    "plt.ylabel('Weight')\n",
    "plt.legend()"
   ]
  },
  {
   "cell_type": "code",
   "execution_count": 59,
   "id": "ac466ab9",
   "metadata": {},
   "outputs": [
    {
     "name": "stdout",
     "output_type": "stream",
     "text": [
      "312\n",
      "51\n",
      "0.16346153846153846\n"
     ]
    }
   ],
   "source": [
    "a = df[df['Weight']<120]['obese']==1\n",
    "\n",
    "print(len(a))\n",
    "print(sum(a))\n",
    "print(sum(a)/len(a))"
   ]
  },
  {
   "cell_type": "code",
   "execution_count": null,
   "id": "2f592e71",
   "metadata": {},
   "outputs": [],
   "source": []
  },
  {
   "cell_type": "code",
   "execution_count": 51,
   "id": "3944296b",
   "metadata": {},
   "outputs": [],
   "source": [
    "def entropy(y):\n",
    "    \"\"\"\n",
    "    \n",
    "    \"\"\"\n",
    "    counter =  collections.Counter(y)\n",
    "    p = np.array(list(counter.values()))/len(y)\n",
    "    return -np.sum(p*np.log2(p))"
   ]
  },
  {
   "cell_type": "code",
   "execution_count": 65,
   "id": "1cafb6b0",
   "metadata": {},
   "outputs": [],
   "source": [
    "weights = df['Weight'].unique()\n",
    "data = np.array([0,0,0])\n",
    "for i in range(1,len(weights)):\n",
    "    weight = weights[i]\n",
    "    a = df[df['Weight']<weight]\n",
    "    b = df[df['Weight']>weight]\n",
    "    e = entropy(a['obese'])\n",
    "    e_1 = entropy(b['obese'])\n",
    "    data = np.vstack([data,[weight,e,e_1]])"
   ]
  },
  {
   "cell_type": "code",
   "execution_count": 66,
   "id": "46dbf5e9",
   "metadata": {},
   "outputs": [
    {
     "data": {
      "text/plain": [
       "<matplotlib.collections.PathCollection at 0x2978cfba30>"
      ]
     },
     "execution_count": 66,
     "metadata": {},
     "output_type": "execute_result"
    },
    {
     "data": {
      "image/png": "[encoded data removed]",
      "text/plain": [
       "<Figure size 432x288 with 1 Axes>"
      ]
     },
     "metadata": {
      "needs_background": "light"
     },
     "output_type": "display_data"
    }
   ],
   "source": [
    "plt.scatter(data[:,0],data[:,1],s=4,label='<weight')\n",
    "plt.scatter(data[:,0],data[:,2],s=4,label='>weight')"
   ]
  },
  {
   "cell_type": "markdown",
   "id": "db75d271",
   "metadata": {},
   "source": [
    "information gain"
   ]
  },
  {
   "cell_type": "code",
   "execution_count": 55,
   "id": "d7ed5f4e",
   "metadata": {},
   "outputs": [],
   "source": [
    "def inf_gain(y,mask,func=entropy):\n",
    "    y_left = y[mask]\n",
    "    y_right = y[-mask]\n",
    "    return func(y)-(len(y_left)/len(y)*func(y_left) + len(y_right)/len(y)*func(y_right))"
   ]
  },
  {
   "cell_type": "code",
   "execution_count": 57,
   "id": "24bf1025",
   "metadata": {},
   "outputs": [
    {
     "data": {
      "text/plain": [
       "<matplotlib.collections.PathCollection at 0x2978b5daf0>"
      ]
     },
     "execution_count": 57,
     "metadata": {},
     "output_type": "execute_result"
    },
    {
     "data": {
      "image/png": "[encoded data removed]",
      "text/plain": [
       "<Figure size 432x288 with 1 Axes>"
      ]
     },
     "metadata": {
      "needs_background": "light"
     },
     "output_type": "display_data"
    }
   ],
   "source": [
    "weights = df['Weight'].unique()\n",
    "data = np.array([0,0])\n",
    "for i in range(1,len(weights)):\n",
    "    weight = weights[i]\n",
    "    mask = df['Weight']<weight\n",
    "    e = inf_gain(df['obese'],mask)\n",
    "    data = np.vstack([data,[weight,e]])\n",
    "plt.scatter(data[:,0],data[:,1],s=4)    "
   ]
  },
  {
   "cell_type": "code",
   "execution_count": null,
   "id": "5723c67c",
   "metadata": {},
   "outputs": [],
   "source": []
  }
 ],
 "metadata": {
  "kernelspec": {
   "display_name": "Python 3",
   "language": "python",
   "name": "python3"
  },
  "language_info": {
   "codemirror_mode": {
    "name": "ipython",
    "version": 3
   },
   "file_extension": ".py",
   "mimetype": "text/x-python",
   "name": "python",
   "nbconvert_exporter": "python",
   "pygments_lexer": "ipython3",
   "version": "3.8.8"
  }
 },
 "nbformat": 4,
 "nbformat_minor": 5
}
