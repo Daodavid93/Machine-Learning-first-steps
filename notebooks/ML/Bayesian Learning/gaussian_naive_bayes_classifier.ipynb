{
 "cells": [
  {
   "cell_type": "code",
   "execution_count": 4,
   "id": "0bafbfe4",
   "metadata": {},
   "outputs": [
    {
     "data": {
      "application/javascript": [
       "\n",
       "            setTimeout(function() {\n",
       "                var nbb_cell_id = 4;\n",
       "                var nbb_unformatted_code = \"import warnings\\nimport datetime\\n\\nimport numpy as np\\nimport matplotlib.pyplot as plt\\nimport pandas as pd\\nimport seaborn as sns\\n\\nfrom sklearn.model_selection import train_test_split\\nfrom scipy.stats import norm\\nfrom sklearn.metrics import accuracy_score\\n\\n\\nfrom IPython.display import display, Markdown , Math \\n\\nsns.set()\\nwarnings.filterwarnings('ignore')\\n%load_ext nb_black\";\n",
       "                var nbb_formatted_code = \"import warnings\\nimport datetime\\n\\nimport numpy as np\\nimport matplotlib.pyplot as plt\\nimport pandas as pd\\nimport seaborn as sns\\n\\nfrom sklearn.model_selection import train_test_split\\nfrom scipy.stats import norm\\nfrom sklearn.metrics import accuracy_score\\n\\n\\nfrom IPython.display import display, Markdown, Math\\n\\nsns.set()\\nwarnings.filterwarnings(\\\"ignore\\\")\\n%load_ext nb_black\";\n",
       "                var nbb_cells = Jupyter.notebook.get_cells();\n",
       "                for (var i = 0; i < nbb_cells.length; ++i) {\n",
       "                    if (nbb_cells[i].input_prompt_number == nbb_cell_id) {\n",
       "                        if (nbb_cells[i].get_text() == nbb_unformatted_code) {\n",
       "                             nbb_cells[i].set_text(nbb_formatted_code);\n",
       "                        }\n",
       "                        break;\n",
       "                    }\n",
       "                }\n",
       "            }, 500);\n",
       "            "
      ],
      "text/plain": [
       "<IPython.core.display.Javascript object>"
      ]
     },
     "metadata": {},
     "output_type": "display_data"
    }
   ],
   "source": [
    "import warnings\n",
    "import datetime\n",
    "\n",
    "import numpy as np\n",
    "import matplotlib.pyplot as plt\n",
    "import pandas as pd\n",
    "import seaborn as sns\n",
    "\n",
    "from sklearn.model_selection import train_test_split\n",
    "from scipy.stats import norm\n",
    "from sklearn.metrics import accuracy_score\n",
    "\n",
    "\n",
    "from IPython.display import display, Markdown, Math\n",
    "\n",
    "sns.set()\n",
    "warnings.filterwarnings(\"ignore\")\n",
    "%load_ext nb_black"
   ]
  },
  {
   "cell_type": "code",
   "execution_count": null,
   "id": "28b7c542",
   "metadata": {},
   "outputs": [],
   "source": []
  },
  {
   "cell_type": "markdown",
   "id": "6b6b9b3b",
   "metadata": {},
   "source": [
    "<h1> Gaussian Naive Bayes Classifier </h1>"
   ]
  },
  {
   "cell_type": "code",
   "execution_count": null,
   "id": "0a4252b4",
   "metadata": {},
   "outputs": [],
   "source": []
  },
  {
   "cell_type": "markdown",
   "id": "45d8e6e0",
   "metadata": {},
   "source": [
    "Naive Bayes assumes that the class-conditional densities are normally distributed"
   ]
  }
 ],
 "metadata": {
  "kernelspec": {
   "display_name": "Python 3",
   "language": "python",
   "name": "python3"
  },
  "language_info": {
   "codemirror_mode": {
    "name": "ipython",
    "version": 3
   },
   "file_extension": ".py",
   "mimetype": "text/x-python",
   "name": "python",
   "nbconvert_exporter": "python",
   "pygments_lexer": "ipython3",
   "version": "3.8.8"
  }
 },
 "nbformat": 4,
 "nbformat_minor": 5
}
