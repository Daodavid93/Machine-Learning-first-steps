{
 "cells": [
  {
   "cell_type": "code",
   "execution_count": 25,
   "id": "7b9dbf40",
   "metadata": {},
   "outputs": [],
   "source": [
    "import warnings\n",
    "import datetime\n",
    "\n",
    "import numpy as np\n",
    "import matplotlib.pyplot as plt\n",
    "import pandas as pd\n",
    "import seaborn as sns\n",
    "\n",
    "from sklearn.model_selection import train_test_split\n",
    "from sklearn.metrics import accuracy_score\n",
    "from scipy.stats import norm\n",
    "\n",
    "\n",
    "from IPython.display import display, Markdown , Math \n",
    "\n",
    "sns.set()\n",
    "warnings.filterwarnings('ignore')"
   ]
  },
  {
   "cell_type": "code",
   "execution_count": 2,
   "id": "ed59e99f",
   "metadata": {},
   "outputs": [],
   "source": [
    "def printmd(string): display(Markdown(string))\n",
    "def latex(out): printmd(f'{out}')  \n",
    "def pr(string): printmd('***{}***'.format(string))"
   ]
  },
  {
   "cell_type": "markdown",
   "id": "ecbe7c37",
   "metadata": {},
   "source": [
    "<h1>Naive Bayes Classifier</h1>"
   ]
  },
  {
   "cell_type": "markdown",
   "id": "4439046b",
   "metadata": {},
   "source": [
    "<h2>\n",
    "  <p>\n",
    "    <a href =   \"https://github.com/daodavid\" > \n",
    "         author: daodeiv (David Stankov) \n",
    "       <img src=\"https://cdn.thenewstack.io/media/2014/12/github-octocat.png\" align=\"left\" width=\"120\"  alt=\"daodavid\" ></a>\n",
    "    </p>      \n",
    "</h2>   "
   ]
  },
  {
   "cell_type": "markdown",
   "id": "83237613",
   "metadata": {},
   "source": [
    "<h2 id='works'>  How does Binomial Naive Bayes work? </h2>\n",
    "<h6>\n",
    "  <font size=\"4\" face = \"Times New Roma\" color='#3f134f' > \n",
    "    <ul style=\"margin-left: 30px\">\n",
    "      <li><a href='#bayes_theorem'>Bayes Theorem</a> </li> <br>\n",
    "      <!--<li><a href='#int-1'>Introduction </a> </li><br> -->\n",
    "      <li><a href='#works'>How does Binomial Naive Bayes work?</a> </li><br>\n",
    "      <li><a href='#optimization'>Optimizaton of  Softmax Loss with Gradient Descent (Deep math calculation)</a> </li><br>  \n",
    "      <li><a href='#impl'>Implementation of Softmax using numpy </a> </li><br>\n",
    "       <li><a href='#reg'>Regularization of softmax by learning rate and max iterations</a> </li><br> \n",
    "       <li><a href='#conclusion'>Conclusion</a> </li><br>  \n",
    "        \n",
    "</ul>    \n",
    " </font>\n",
    "  </h6>\n",
    "  "
   ]
  },
  {
   "cell_type": "markdown",
   "id": "69107912",
   "metadata": {},
   "source": [
    "Naive Bayes is one of the simplest supervised ML algorithms meanwhile very efficient and also is able to learn fast and make a quick prediction, therefore it is so useful and popular.\n",
    "Naive Bayes contains two words Naive and Bayes, Bayes because it is built on Bayes Theorem, and Naive because it assumes that features are independent even if they actually are interdependent.It is simple but very powerful and works well with large datasets and sparse matrices. It works really well on text classification problems, and spam filtering."
   ]
  },
  {
   "cell_type": "markdown",
   "id": "86dec883",
   "metadata": {},
   "source": [
    "<h2 id='bayes_theorem'> Bayes Theorem </h2>"
   ]
  },
  {
   "cell_type": "markdown",
   "id": "838c6b7d",
   "metadata": {},
   "source": [
    "Bayes theorem describes a probability of an event, based on prior knowledge of conditions that might be related to an event.\n",
    "First, let's take the formula of conditional probability and try to derive Bayes Theorem:"
   ]
  },
  {
   "cell_type": "markdown",
   "id": "6cd78adc",
   "metadata": {},
   "source": [
    "$$p(A|B) = \\frac{p(B\\cap A)}{p(B)}$$"
   ]
  },
  {
   "cell_type": "markdown",
   "id": "a8c027c6",
   "metadata": {},
   "source": [
    "Probability of event A given B, meaning what is the probability of A when event B is already taken place, which is equal to the probability of A intersection B (the probability of both A and B events are taking place) divided by the probability of B. <br>"
   ]
  },
  {
   "cell_type": "markdown",
   "id": "6c24df6f",
   "metadata": {},
   "source": [
    "we have the same for probability of event B given event A $$p(B|A) = \\frac{p(A\\cap B)}{p(A)}$$\n",
    "the  $p(A\\cap B)$ and  $p(B\\cap A)$ are basicaly the same. Since they are the same, we can get two formulas and move denominator to the left of the equation,and equate them \n",
    "$$ p(B|A)p(A) = p(A\\cap B) = p(B \\cap A) = p(A|B)p(B) $$"
   ]
  },
  {
   "cell_type": "markdown",
   "id": "5ea9b34e",
   "metadata": {},
   "source": [
    "So, when we want to find probability of A given B we can write our equation on this way: <br> <br>\n",
    "$$P(A|B) = \\frac{ P(B|A) * P(A)}{ P(B)}$$,<br> <br> and this is the equation of Bayes Theorem"
   ]
  },
  {
   "cell_type": "markdown",
   "id": "feabdc18",
   "metadata": {},
   "source": [
    "* P(A|B) is the posterior probability of class (target) given predictor (attribute).\n",
    "* P(B) is the prior probability of class.\n",
    "* P(B|A) is the likelihood which is the probability of predictor given class.\n",
    "* P(A) is the prior probability of predictor."
   ]
  },
  {
   "cell_type": "markdown",
   "id": "ed4f12fa",
   "metadata": {},
   "source": [
    "<h2 id='works'>  How does Binomial Naive Bayes work? (implementation) </h2>"
   ]
  },
  {
   "cell_type": "markdown",
   "id": "c497823e",
   "metadata": {},
   "source": [
    "For our purposes we going to use <a href='https://www.kaggle.com/datasets/priy998/golf-play-dataset'>Golf Play Dataset<a>"
   ]
  },
  {
   "cell_type": "code",
   "execution_count": 3,
   "id": "c98b878b",
   "metadata": {},
   "outputs": [
    {
     "data": {
      "text/html": [
       "<div>\n",
       "<style scoped>\n",
       "    .dataframe tbody tr th:only-of-type {\n",
       "        vertical-align: middle;\n",
       "    }\n",
       "\n",
       "    .dataframe tbody tr th {\n",
       "        vertical-align: top;\n",
       "    }\n",
       "\n",
       "    .dataframe thead th {\n",
       "        text-align: right;\n",
       "    }\n",
       "</style>\n",
       "<table border=\"1\" class=\"dataframe\">\n",
       "  <thead>\n",
       "    <tr style=\"text-align: right;\">\n",
       "      <th></th>\n",
       "      <th>Outlook</th>\n",
       "      <th>Temperature</th>\n",
       "      <th>Humidity</th>\n",
       "      <th>Windy</th>\n",
       "      <th>Play</th>\n",
       "    </tr>\n",
       "  </thead>\n",
       "  <tbody>\n",
       "    <tr>\n",
       "      <th>0</th>\n",
       "      <td>sunny</td>\n",
       "      <td>hot</td>\n",
       "      <td>high</td>\n",
       "      <td>False</td>\n",
       "      <td>no</td>\n",
       "    </tr>\n",
       "    <tr>\n",
       "      <th>1</th>\n",
       "      <td>sunny</td>\n",
       "      <td>hot</td>\n",
       "      <td>high</td>\n",
       "      <td>True</td>\n",
       "      <td>no</td>\n",
       "    </tr>\n",
       "    <tr>\n",
       "      <th>2</th>\n",
       "      <td>overcast</td>\n",
       "      <td>hot</td>\n",
       "      <td>high</td>\n",
       "      <td>False</td>\n",
       "      <td>yes</td>\n",
       "    </tr>\n",
       "    <tr>\n",
       "      <th>3</th>\n",
       "      <td>rainy</td>\n",
       "      <td>mild</td>\n",
       "      <td>high</td>\n",
       "      <td>False</td>\n",
       "      <td>yes</td>\n",
       "    </tr>\n",
       "    <tr>\n",
       "      <th>4</th>\n",
       "      <td>rainy</td>\n",
       "      <td>cool</td>\n",
       "      <td>normal</td>\n",
       "      <td>False</td>\n",
       "      <td>yes</td>\n",
       "    </tr>\n",
       "    <tr>\n",
       "      <th>5</th>\n",
       "      <td>rainy</td>\n",
       "      <td>cool</td>\n",
       "      <td>normal</td>\n",
       "      <td>True</td>\n",
       "      <td>no</td>\n",
       "    </tr>\n",
       "    <tr>\n",
       "      <th>6</th>\n",
       "      <td>overcast</td>\n",
       "      <td>cool</td>\n",
       "      <td>normal</td>\n",
       "      <td>True</td>\n",
       "      <td>yes</td>\n",
       "    </tr>\n",
       "    <tr>\n",
       "      <th>7</th>\n",
       "      <td>sunny</td>\n",
       "      <td>mild</td>\n",
       "      <td>high</td>\n",
       "      <td>False</td>\n",
       "      <td>no</td>\n",
       "    </tr>\n",
       "    <tr>\n",
       "      <th>8</th>\n",
       "      <td>sunny</td>\n",
       "      <td>cool</td>\n",
       "      <td>normal</td>\n",
       "      <td>False</td>\n",
       "      <td>yes</td>\n",
       "    </tr>\n",
       "    <tr>\n",
       "      <th>9</th>\n",
       "      <td>rainy</td>\n",
       "      <td>mild</td>\n",
       "      <td>normal</td>\n",
       "      <td>False</td>\n",
       "      <td>yes</td>\n",
       "    </tr>\n",
       "    <tr>\n",
       "      <th>10</th>\n",
       "      <td>sunny</td>\n",
       "      <td>mild</td>\n",
       "      <td>normal</td>\n",
       "      <td>True</td>\n",
       "      <td>yes</td>\n",
       "    </tr>\n",
       "    <tr>\n",
       "      <th>11</th>\n",
       "      <td>overcast</td>\n",
       "      <td>mild</td>\n",
       "      <td>high</td>\n",
       "      <td>True</td>\n",
       "      <td>yes</td>\n",
       "    </tr>\n",
       "    <tr>\n",
       "      <th>12</th>\n",
       "      <td>overcast</td>\n",
       "      <td>hot</td>\n",
       "      <td>normal</td>\n",
       "      <td>False</td>\n",
       "      <td>yes</td>\n",
       "    </tr>\n",
       "    <tr>\n",
       "      <th>13</th>\n",
       "      <td>rainy</td>\n",
       "      <td>mild</td>\n",
       "      <td>high</td>\n",
       "      <td>True</td>\n",
       "      <td>no</td>\n",
       "    </tr>\n",
       "  </tbody>\n",
       "</table>\n",
       "</div>"
      ],
      "text/plain": [
       "     Outlook Temperature Humidity  Windy Play\n",
       "0      sunny         hot     high  False   no\n",
       "1      sunny         hot     high   True   no\n",
       "2   overcast         hot     high  False  yes\n",
       "3      rainy        mild     high  False  yes\n",
       "4      rainy        cool   normal  False  yes\n",
       "5      rainy        cool   normal   True   no\n",
       "6   overcast        cool   normal   True  yes\n",
       "7      sunny        mild     high  False   no\n",
       "8      sunny        cool   normal  False  yes\n",
       "9      rainy        mild   normal  False  yes\n",
       "10     sunny        mild   normal   True  yes\n",
       "11  overcast        mild     high   True  yes\n",
       "12  overcast         hot   normal  False  yes\n",
       "13     rainy        mild     high   True   no"
      ]
     },
     "execution_count": 3,
     "metadata": {},
     "output_type": "execute_result"
    }
   ],
   "source": [
    "df = pd.read_csv(\"../../../resources/data/golf_df.csv\")\n",
    "df"
   ]
  },
  {
   "cell_type": "markdown",
   "id": "10b3afe1",
   "metadata": {},
   "source": [
    "We classify whether the day is suitable for playing golf, given the features of the day. The columns represent these features and the rows represent individual entries. If we take the first row of the dataset, we can observe that is not suitable for playing golf if the outlook is rainy, temperature is hot, humidity is high and it is not windy. We make two assumptions here, one as stated above we consider that these predictors are independent. That is, if the temperature is hot, it does not necessarily mean that the humidity is high. Another assumption made here is that all the predictors have an equal effect on the outcome. That is, the day being windy does not have more importance in deciding to play golf or not"
   ]
  },
  {
   "cell_type": "markdown",
   "id": "756e7cf9",
   "metadata": {},
   "source": [
    "According to this example, Bayes theorem can be rewritten as: <br> <br>\n",
    "$$P(y|X) = P(X|y) * P(y) / P(X)$$ <br> <br>\n",
    "The variable y is the class variable(play golf), which represents if it is suitable to play golf or not given the conditions. Variable X represent the parameters/features."
   ]
  },
  {
   "cell_type": "markdown",
   "id": "bde61c5b",
   "metadata": {},
   "source": [
    "X is given as , <br>\n",
    " $$X = (x_1,x_2,...,x_n)$$ <br> <br>\n",
    " Here $x_1,x_2….x_n$ represent the features, i.e they can be mapped to outlook, temperature, humidity and windy. By substituting for X and expanding using the chain rule we get,"
   ]
  },
  {
   "cell_type": "markdown",
   "id": "effafd5c",
   "metadata": {},
   "source": [
    "because we assume that features $x_i$ are independent we can write for all feature bayes formula as following:"
   ]
  },
  {
   "cell_type": "markdown",
   "id": "71573b03",
   "metadata": {},
   "source": [
    "$$P(y| x_1,x_2,...,x_n ) = \\frac{P(x_1|y).P(x_2|y)...P(x_n|y)P(y)}{P(x_1)P(x_2)...P(x_n)} $$"
   ]
  },
  {
   "cell_type": "markdown",
   "id": "7b4d46f0",
   "metadata": {},
   "source": [
    "In our data set the variable are descrete !"
   ]
  },
  {
   "cell_type": "markdown",
   "id": "7c296781",
   "metadata": {},
   "source": [
    "Now, you can obtain the values for each by looking at the dataset and substitute them into the equation. For all entries in the dataset, the denominator does not change, it remain static. Therefore, the denominator can be removed for our puposes.\n",
    "$$P(y| x_1,x_2,...,x_n ) \\propto p(y)\\prod_{i=0}^{n}P(x_i|y)$$"
   ]
  },
  {
   "cell_type": "markdown",
   "id": "7b4f6591",
   "metadata": {},
   "source": [
    "For example using 'Outlook' feature to be equal to 'overcast'"
   ]
  },
  {
   "cell_type": "markdown",
   "id": "69e1df0c",
   "metadata": {},
   "source": [
    "$P(Play=\"yes\"|Outlook=\"overcast\") \\propto P(Outlook=\"overcast\"|\\;Play=\"yes\" )P(Play=\"yes\")$"
   ]
  },
  {
   "cell_type": "markdown",
   "id": "f71f144f",
   "metadata": {},
   "source": [
    "Let's to produce likelihood table."
   ]
  },
  {
   "cell_type": "code",
   "execution_count": 4,
   "id": "572b914f",
   "metadata": {},
   "outputs": [],
   "source": [
    "label = \"Play\"\n",
    "yes = df[df[label] == \"yes\"].groupby(\"Outlook\")[label].count()\n",
    "no = df[df[label] == \"no\"].groupby(\"Outlook\")[label].count()\n",
    "likelihood_yes = yes/yes.sum()\n",
    "likelihood_no = no/no.sum()\n"
   ]
  },
  {
   "cell_type": "code",
   "execution_count": 5,
   "id": "19f9dd77",
   "metadata": {},
   "outputs": [],
   "source": [
    "likelihood_yes.index = [(lambda i: f'P ( Outlook= \"{i}\"| Play=\"yes\" ) = ')(i) for i in likelihood_yes.index] "
   ]
  },
  {
   "cell_type": "code",
   "execution_count": 6,
   "id": "e506a417",
   "metadata": {},
   "outputs": [],
   "source": [
    "label = \"Play\"\n",
    "yes = df[df[label] == \"yes\"].groupby(\"Outlook\")[label].count()\n",
    "no = df[df[label] == \"no\"].groupby(\"Outlook\")[label].count()"
   ]
  },
  {
   "cell_type": "code",
   "execution_count": 7,
   "id": "ed195802",
   "metadata": {},
   "outputs": [
    {
     "data": {
      "text/plain": [
       "P ( Outlook= \"P ( Outlook= \"overcast\"| Play=\"yes\" ) = \"| Play=\"yes\" ) =     0.444444\n",
       "P ( Outlook= \"P ( Outlook= \"rainy\"| Play=\"yes\" ) = \"| Play=\"yes\" ) =        0.333333\n",
       "P ( Outlook= \"P ( Outlook= \"sunny\"| Play=\"yes\" ) = \"| Play=\"yes\" ) =        0.222222\n",
       "Name: Play, dtype: float64"
      ]
     },
     "execution_count": 7,
     "metadata": {},
     "output_type": "execute_result"
    }
   ],
   "source": [
    "likelihood_yes.index = [(lambda i: f'P ( Outlook= \"{i}\"| Play=\"yes\" ) = ')(i) for i in likelihood_yes.index] \n",
    "likelihood_yes"
   ]
  },
  {
   "cell_type": "code",
   "execution_count": 8,
   "id": "8587c5eb",
   "metadata": {},
   "outputs": [
    {
     "data": {
      "text/plain": [
       "P ( Outlook= \"rainy\"| Play=\"no\" ) =     0.4\n",
       "P ( Outlook= \"sunny\"| Play=\"no\" ) =     0.6\n",
       "Name: Play, dtype: float64"
      ]
     },
     "execution_count": 8,
     "metadata": {},
     "output_type": "execute_result"
    }
   ],
   "source": [
    "likelihood_no.index = [(lambda i: f'P ( Outlook= \"{i}\"| Play=\"no\" ) = ')(i) for i in likelihood_no.index] \n",
    "likelihood_no"
   ]
  },
  {
   "cell_type": "code",
   "execution_count": 9,
   "id": "39129c3f",
   "metadata": {},
   "outputs": [],
   "source": [
    "likehood_table = {}\n",
    "def get_value_feature(df,feature):\n",
    "    try:\n",
    "        return df[feature]\n",
    "    except:\n",
    "        return 0"
   ]
  },
  {
   "cell_type": "code",
   "execution_count": 10,
   "id": "7f1cd0e6",
   "metadata": {},
   "outputs": [],
   "source": [
    "def create_likehood_tb(df, label):\n",
    "    likehood_table = {}\n",
    "    features = df.drop(label, axis=1).columns\n",
    "    for feature in features:\n",
    "        yes = df[df[label] == \"yes\"].groupby(feature)[label].count()\n",
    "        no = df[df[label] == \"no\"].groupby(feature)[label].count()\n",
    "        all = df.groupby(feature)[label].count()\n",
    "        for feature_value in all.index:\n",
    "            c = all[feature_value]\n",
    "            c1 = get_value_feature(yes, feature_value)\n",
    "            c2 = get_value_feature(no, feature_value)\n",
    "            likehood_table[feature_value] = {\n",
    "                'yes': c1 / yes.sum(),\n",
    "                'no': c2 / no.sum(),\n",
    "                'P': c / all.sum(),\n",
    "            }\n",
    "    return likehood_table"
   ]
  },
  {
   "cell_type": "code",
   "execution_count": 11,
   "id": "778c77eb",
   "metadata": {},
   "outputs": [],
   "source": [
    "likehood_df = create_likehood_tb(df, \"Play\")"
   ]
  },
  {
   "cell_type": "code",
   "execution_count": 12,
   "id": "e744ac22",
   "metadata": {},
   "outputs": [
    {
     "data": {
      "text/html": [
       "<div>\n",
       "<style scoped>\n",
       "    .dataframe tbody tr th:only-of-type {\n",
       "        vertical-align: middle;\n",
       "    }\n",
       "\n",
       "    .dataframe tbody tr th {\n",
       "        vertical-align: top;\n",
       "    }\n",
       "\n",
       "    .dataframe thead th {\n",
       "        text-align: right;\n",
       "    }\n",
       "</style>\n",
       "<table border=\"1\" class=\"dataframe\">\n",
       "  <thead>\n",
       "    <tr style=\"text-align: right;\">\n",
       "      <th></th>\n",
       "      <th>overcast</th>\n",
       "      <th>rainy</th>\n",
       "      <th>sunny</th>\n",
       "      <th>cool</th>\n",
       "      <th>hot</th>\n",
       "      <th>mild</th>\n",
       "      <th>high</th>\n",
       "      <th>normal</th>\n",
       "      <th>False</th>\n",
       "      <th>True</th>\n",
       "    </tr>\n",
       "  </thead>\n",
       "  <tbody>\n",
       "    <tr>\n",
       "      <th>yes</th>\n",
       "      <td>0.444444</td>\n",
       "      <td>0.333333</td>\n",
       "      <td>0.222222</td>\n",
       "      <td>0.333333</td>\n",
       "      <td>0.222222</td>\n",
       "      <td>0.444444</td>\n",
       "      <td>0.333333</td>\n",
       "      <td>0.666667</td>\n",
       "      <td>0.666667</td>\n",
       "      <td>0.333333</td>\n",
       "    </tr>\n",
       "    <tr>\n",
       "      <th>no</th>\n",
       "      <td>0.000000</td>\n",
       "      <td>0.400000</td>\n",
       "      <td>0.600000</td>\n",
       "      <td>0.200000</td>\n",
       "      <td>0.400000</td>\n",
       "      <td>0.400000</td>\n",
       "      <td>0.800000</td>\n",
       "      <td>0.200000</td>\n",
       "      <td>0.400000</td>\n",
       "      <td>0.600000</td>\n",
       "    </tr>\n",
       "    <tr>\n",
       "      <th>P</th>\n",
       "      <td>0.285714</td>\n",
       "      <td>0.357143</td>\n",
       "      <td>0.357143</td>\n",
       "      <td>0.285714</td>\n",
       "      <td>0.285714</td>\n",
       "      <td>0.428571</td>\n",
       "      <td>0.500000</td>\n",
       "      <td>0.500000</td>\n",
       "      <td>0.571429</td>\n",
       "      <td>0.428571</td>\n",
       "    </tr>\n",
       "  </tbody>\n",
       "</table>\n",
       "</div>"
      ],
      "text/plain": [
       "     overcast     rainy     sunny      cool       hot      mild      high  \\\n",
       "yes  0.444444  0.333333  0.222222  0.333333  0.222222  0.444444  0.333333   \n",
       "no   0.000000  0.400000  0.600000  0.200000  0.400000  0.400000  0.800000   \n",
       "P    0.285714  0.357143  0.357143  0.285714  0.285714  0.428571  0.500000   \n",
       "\n",
       "       normal     False      True  \n",
       "yes  0.666667  0.666667  0.333333  \n",
       "no   0.200000  0.400000  0.600000  \n",
       "P    0.500000  0.571429  0.428571  "
      ]
     },
     "execution_count": 12,
     "metadata": {},
     "output_type": "execute_result"
    }
   ],
   "source": [
    "likehood_df = pd.DataFrame(likehood_df)\n",
    "#['P(x | Play=\"yes\")', 'P(x | Play=\"no\")', 'P(x)']\n",
    "likehood_df"
   ]
  },
  {
   "cell_type": "markdown",
   "id": "a891abbf",
   "metadata": {},
   "source": [
    "The above table shows all likelihood table for every feature value x "
   ]
  },
  {
   "cell_type": "markdown",
   "id": "22d7fee1",
   "metadata": {},
   "source": [
    "To use bayes theorem we have to include prior probability $P(Play=yes)$ and $P(Play=no)$"
   ]
  },
  {
   "cell_type": "code",
   "execution_count": 13,
   "id": "85cf84d4",
   "metadata": {},
   "outputs": [
    {
     "data": {
      "text/plain": [
       "Play\n",
       "no     0.357143\n",
       "yes    0.642857\n",
       "Name: Outlook, dtype: float64"
      ]
     },
     "execution_count": 13,
     "metadata": {},
     "output_type": "execute_result"
    }
   ],
   "source": [
    "c = df.groupby('Play').count().iloc[:, 0]\n",
    "prior_probability  = c /c.sum()\n",
    "prior_probability"
   ]
  },
  {
   "cell_type": "markdown",
   "id": "971a5154",
   "metadata": {},
   "source": [
    "Let make the prediction using likeluhood table and prior probability "
   ]
  },
  {
   "cell_type": "code",
   "execution_count": 14,
   "id": "b645c30d",
   "metadata": {},
   "outputs": [
    {
     "data": {
      "text/html": [
       "<div>\n",
       "<style scoped>\n",
       "    .dataframe tbody tr th:only-of-type {\n",
       "        vertical-align: middle;\n",
       "    }\n",
       "\n",
       "    .dataframe tbody tr th {\n",
       "        vertical-align: top;\n",
       "    }\n",
       "\n",
       "    .dataframe thead th {\n",
       "        text-align: right;\n",
       "    }\n",
       "</style>\n",
       "<table border=\"1\" class=\"dataframe\">\n",
       "  <thead>\n",
       "    <tr style=\"text-align: right;\">\n",
       "      <th></th>\n",
       "      <th>Outlook</th>\n",
       "      <th>Temperature</th>\n",
       "      <th>Humidity</th>\n",
       "      <th>Windy</th>\n",
       "      <th>Play</th>\n",
       "    </tr>\n",
       "  </thead>\n",
       "  <tbody>\n",
       "    <tr>\n",
       "      <th>0</th>\n",
       "      <td>sunny</td>\n",
       "      <td>hot</td>\n",
       "      <td>high</td>\n",
       "      <td>False</td>\n",
       "      <td>no</td>\n",
       "    </tr>\n",
       "    <tr>\n",
       "      <th>1</th>\n",
       "      <td>sunny</td>\n",
       "      <td>hot</td>\n",
       "      <td>high</td>\n",
       "      <td>True</td>\n",
       "      <td>no</td>\n",
       "    </tr>\n",
       "    <tr>\n",
       "      <th>2</th>\n",
       "      <td>overcast</td>\n",
       "      <td>hot</td>\n",
       "      <td>high</td>\n",
       "      <td>False</td>\n",
       "      <td>yes</td>\n",
       "    </tr>\n",
       "    <tr>\n",
       "      <th>3</th>\n",
       "      <td>rainy</td>\n",
       "      <td>mild</td>\n",
       "      <td>high</td>\n",
       "      <td>False</td>\n",
       "      <td>yes</td>\n",
       "    </tr>\n",
       "    <tr>\n",
       "      <th>4</th>\n",
       "      <td>rainy</td>\n",
       "      <td>cool</td>\n",
       "      <td>normal</td>\n",
       "      <td>False</td>\n",
       "      <td>yes</td>\n",
       "    </tr>\n",
       "  </tbody>\n",
       "</table>\n",
       "</div>"
      ],
      "text/plain": [
       "    Outlook Temperature Humidity  Windy Play\n",
       "0     sunny         hot     high  False   no\n",
       "1     sunny         hot     high   True   no\n",
       "2  overcast         hot     high  False  yes\n",
       "3     rainy        mild     high  False  yes\n",
       "4     rainy        cool   normal  False  yes"
      ]
     },
     "execution_count": 14,
     "metadata": {},
     "output_type": "execute_result"
    }
   ],
   "source": [
    "df.head()"
   ]
  },
  {
   "cell_type": "code",
   "execution_count": 15,
   "id": "4854b61a",
   "metadata": {},
   "outputs": [
    {
     "data": {
      "text/html": [
       "<div>\n",
       "<style scoped>\n",
       "    .dataframe tbody tr th:only-of-type {\n",
       "        vertical-align: middle;\n",
       "    }\n",
       "\n",
       "    .dataframe tbody tr th {\n",
       "        vertical-align: top;\n",
       "    }\n",
       "\n",
       "    .dataframe thead th {\n",
       "        text-align: right;\n",
       "    }\n",
       "</style>\n",
       "<table border=\"1\" class=\"dataframe\">\n",
       "  <thead>\n",
       "    <tr style=\"text-align: right;\">\n",
       "      <th></th>\n",
       "      <th>overcast</th>\n",
       "      <th>rainy</th>\n",
       "      <th>sunny</th>\n",
       "      <th>cool</th>\n",
       "      <th>hot</th>\n",
       "      <th>mild</th>\n",
       "      <th>high</th>\n",
       "      <th>normal</th>\n",
       "      <th>False</th>\n",
       "      <th>True</th>\n",
       "    </tr>\n",
       "  </thead>\n",
       "  <tbody>\n",
       "    <tr>\n",
       "      <th>yes</th>\n",
       "      <td>0.444444</td>\n",
       "      <td>0.333333</td>\n",
       "      <td>0.222222</td>\n",
       "      <td>0.333333</td>\n",
       "      <td>0.222222</td>\n",
       "      <td>0.444444</td>\n",
       "      <td>0.333333</td>\n",
       "      <td>0.666667</td>\n",
       "      <td>0.666667</td>\n",
       "      <td>0.333333</td>\n",
       "    </tr>\n",
       "    <tr>\n",
       "      <th>no</th>\n",
       "      <td>0.000000</td>\n",
       "      <td>0.400000</td>\n",
       "      <td>0.600000</td>\n",
       "      <td>0.200000</td>\n",
       "      <td>0.400000</td>\n",
       "      <td>0.400000</td>\n",
       "      <td>0.800000</td>\n",
       "      <td>0.200000</td>\n",
       "      <td>0.400000</td>\n",
       "      <td>0.600000</td>\n",
       "    </tr>\n",
       "    <tr>\n",
       "      <th>P</th>\n",
       "      <td>0.285714</td>\n",
       "      <td>0.357143</td>\n",
       "      <td>0.357143</td>\n",
       "      <td>0.285714</td>\n",
       "      <td>0.285714</td>\n",
       "      <td>0.428571</td>\n",
       "      <td>0.500000</td>\n",
       "      <td>0.500000</td>\n",
       "      <td>0.571429</td>\n",
       "      <td>0.428571</td>\n",
       "    </tr>\n",
       "  </tbody>\n",
       "</table>\n",
       "</div>"
      ],
      "text/plain": [
       "     overcast     rainy     sunny      cool       hot      mild      high  \\\n",
       "yes  0.444444  0.333333  0.222222  0.333333  0.222222  0.444444  0.333333   \n",
       "no   0.000000  0.400000  0.600000  0.200000  0.400000  0.400000  0.800000   \n",
       "P    0.285714  0.357143  0.357143  0.285714  0.285714  0.428571  0.500000   \n",
       "\n",
       "       normal     False      True  \n",
       "yes  0.666667  0.666667  0.333333  \n",
       "no   0.200000  0.400000  0.600000  \n",
       "P    0.500000  0.571429  0.428571  "
      ]
     },
     "execution_count": 15,
     "metadata": {},
     "output_type": "execute_result"
    }
   ],
   "source": [
    "prior_probability['yes']\n",
    "likehood_df"
   ]
  },
  {
   "cell_type": "code",
   "execution_count": 16,
   "id": "e30be31f",
   "metadata": {},
   "outputs": [],
   "source": [
    "p =0 \n",
    "def calculate_bayes(x,likelihood_tb, prior_probability):\n",
    "    yes = prior_probability['yes']\n",
    "    no = prior_probability['no']\n",
    "    for index in x.index :\n",
    "        value = x[index]\n",
    "        yes = yes * likelihood_tb[value]['yes']\n",
    "        no = no * likelihood_tb[value]['no']\n",
    "    \n",
    "    return \"yes\" if yes > no else \"no\"\n",
    "   "
   ]
  },
  {
   "cell_type": "code",
   "execution_count": 17,
   "id": "de4cff07",
   "metadata": {},
   "outputs": [],
   "source": [
    "test = df.drop(\"Play\", axis=1)\n",
    "predict = test.apply(calculate_bayes,likelihood_tb=likehood_df,prior_probability=prior_probability, axis=1)"
   ]
  },
  {
   "cell_type": "code",
   "execution_count": 18,
   "id": "550486db",
   "metadata": {},
   "outputs": [
    {
     "data": {
      "text/plain": [
       "0      no\n",
       "1      no\n",
       "2     yes\n",
       "3     yes\n",
       "4     yes\n",
       "5     yes\n",
       "6     yes\n",
       "7      no\n",
       "8     yes\n",
       "9     yes\n",
       "10    yes\n",
       "11    yes\n",
       "12    yes\n",
       "13     no\n",
       "dtype: object"
      ]
     },
     "execution_count": 18,
     "metadata": {},
     "output_type": "execute_result"
    }
   ],
   "source": [
    "predict"
   ]
  },
  {
   "cell_type": "markdown",
   "id": "d7b2ba15",
   "metadata": {},
   "source": [
    "let's the accuracy "
   ]
  },
  {
   "cell_type": "code",
   "execution_count": 19,
   "id": "4ebca6df",
   "metadata": {},
   "outputs": [
    {
     "data": {
      "text/markdown": [
       "***0.9285714285714286***"
      ],
      "text/plain": [
       "<IPython.core.display.Markdown object>"
      ]
     },
     "metadata": {},
     "output_type": "display_data"
    }
   ],
   "source": [
    "pr(accuracy_score(df[\"Play\"],predict))"
   ]
  },
  {
   "cell_type": "markdown",
   "id": "0f34dee6",
   "metadata": {},
   "source": [
    "<h2> Gaussian Naive Bayes </h2>"
   ]
  },
  {
   "cell_type": "markdown",
   "id": "4aaf55fd",
   "metadata": {},
   "source": [
    "When the predictors take up a continuous value and are not discrete, we assume that these values are sampled from a gaussian distribution."
   ]
  },
  {
   "cell_type": "markdown",
   "id": "66a456b2",
   "metadata": {},
   "source": [
    "$$P(x_i|y) = \\frac{1}{(2\\pi\\sigma^2_y)^(1/2)}exp\\big(- \\frac { (x_i - \\mu_y)^2}{2\\sigma^2_y}\\big) $$"
   ]
  },
  {
   "cell_type": "markdown",
   "id": "bc8e7c28",
   "metadata": {},
   "source": [
    "just as naive baysian we have to find likelihood for all feature values "
   ]
  },
  {
   "cell_type": "markdown",
   "id": "e4e9f779",
   "metadata": {},
   "source": [
    "We will use titanic dataset"
   ]
  },
  {
   "cell_type": "code",
   "execution_count": 20,
   "id": "d3b5084e",
   "metadata": {
    "scrolled": true
   },
   "outputs": [
    {
     "data": {
      "text/html": [
       "<div>\n",
       "<style scoped>\n",
       "    .dataframe tbody tr th:only-of-type {\n",
       "        vertical-align: middle;\n",
       "    }\n",
       "\n",
       "    .dataframe tbody tr th {\n",
       "        vertical-align: top;\n",
       "    }\n",
       "\n",
       "    .dataframe thead th {\n",
       "        text-align: right;\n",
       "    }\n",
       "</style>\n",
       "<table border=\"1\" class=\"dataframe\">\n",
       "  <thead>\n",
       "    <tr style=\"text-align: right;\">\n",
       "      <th></th>\n",
       "      <th>PassengerId</th>\n",
       "      <th>Survived</th>\n",
       "      <th>Pclass</th>\n",
       "      <th>Name</th>\n",
       "      <th>Sex</th>\n",
       "      <th>Age</th>\n",
       "      <th>SibSp</th>\n",
       "      <th>Parch</th>\n",
       "      <th>Ticket</th>\n",
       "      <th>Fare</th>\n",
       "      <th>Cabin</th>\n",
       "      <th>Embarked</th>\n",
       "    </tr>\n",
       "  </thead>\n",
       "  <tbody>\n",
       "    <tr>\n",
       "      <th>0</th>\n",
       "      <td>1</td>\n",
       "      <td>0</td>\n",
       "      <td>3</td>\n",
       "      <td>Braund, Mr. Owen Harris</td>\n",
       "      <td>1</td>\n",
       "      <td>22.0</td>\n",
       "      <td>1</td>\n",
       "      <td>0</td>\n",
       "      <td>A/5 21171</td>\n",
       "      <td>7.2500</td>\n",
       "      <td>NaN</td>\n",
       "      <td>S</td>\n",
       "    </tr>\n",
       "    <tr>\n",
       "      <th>1</th>\n",
       "      <td>2</td>\n",
       "      <td>1</td>\n",
       "      <td>1</td>\n",
       "      <td>Cumings, Mrs. John Bradley (Florence Briggs Th...</td>\n",
       "      <td>0</td>\n",
       "      <td>38.0</td>\n",
       "      <td>1</td>\n",
       "      <td>0</td>\n",
       "      <td>PC 17599</td>\n",
       "      <td>71.2833</td>\n",
       "      <td>C85</td>\n",
       "      <td>C</td>\n",
       "    </tr>\n",
       "    <tr>\n",
       "      <th>2</th>\n",
       "      <td>3</td>\n",
       "      <td>1</td>\n",
       "      <td>3</td>\n",
       "      <td>Heikkinen, Miss. Laina</td>\n",
       "      <td>0</td>\n",
       "      <td>26.0</td>\n",
       "      <td>0</td>\n",
       "      <td>0</td>\n",
       "      <td>STON/O2. 3101282</td>\n",
       "      <td>7.9250</td>\n",
       "      <td>NaN</td>\n",
       "      <td>S</td>\n",
       "    </tr>\n",
       "    <tr>\n",
       "      <th>3</th>\n",
       "      <td>4</td>\n",
       "      <td>1</td>\n",
       "      <td>1</td>\n",
       "      <td>Futrelle, Mrs. Jacques Heath (Lily May Peel)</td>\n",
       "      <td>0</td>\n",
       "      <td>35.0</td>\n",
       "      <td>1</td>\n",
       "      <td>0</td>\n",
       "      <td>113803</td>\n",
       "      <td>53.1000</td>\n",
       "      <td>C123</td>\n",
       "      <td>S</td>\n",
       "    </tr>\n",
       "    <tr>\n",
       "      <th>4</th>\n",
       "      <td>5</td>\n",
       "      <td>0</td>\n",
       "      <td>3</td>\n",
       "      <td>Allen, Mr. William Henry</td>\n",
       "      <td>1</td>\n",
       "      <td>35.0</td>\n",
       "      <td>0</td>\n",
       "      <td>0</td>\n",
       "      <td>373450</td>\n",
       "      <td>8.0500</td>\n",
       "      <td>NaN</td>\n",
       "      <td>S</td>\n",
       "    </tr>\n",
       "  </tbody>\n",
       "</table>\n",
       "</div>"
      ],
      "text/plain": [
       "   PassengerId  Survived  Pclass  \\\n",
       "0            1         0       3   \n",
       "1            2         1       1   \n",
       "2            3         1       3   \n",
       "3            4         1       1   \n",
       "4            5         0       3   \n",
       "\n",
       "                                                Name  Sex   Age  SibSp  Parch  \\\n",
       "0                            Braund, Mr. Owen Harris    1  22.0      1      0   \n",
       "1  Cumings, Mrs. John Bradley (Florence Briggs Th...    0  38.0      1      0   \n",
       "2                             Heikkinen, Miss. Laina    0  26.0      0      0   \n",
       "3       Futrelle, Mrs. Jacques Heath (Lily May Peel)    0  35.0      1      0   \n",
       "4                           Allen, Mr. William Henry    1  35.0      0      0   \n",
       "\n",
       "             Ticket     Fare Cabin Embarked  \n",
       "0         A/5 21171   7.2500   NaN        S  \n",
       "1          PC 17599  71.2833   C85        C  \n",
       "2  STON/O2. 3101282   7.9250   NaN        S  \n",
       "3            113803  53.1000  C123        S  \n",
       "4            373450   8.0500   NaN        S  "
      ]
     },
     "execution_count": 20,
     "metadata": {},
     "output_type": "execute_result"
    }
   ],
   "source": [
    "train = pd.read_csv(\"../../../resources/data/titanic/train.csv\")\n",
    "train['Sex'] = (train['Sex']=='male').astype(int)\n",
    "train.head()"
   ]
  },
  {
   "cell_type": "code",
   "execution_count": 21,
   "id": "6b0bbfc9",
   "metadata": {},
   "outputs": [
    {
     "data": {
      "text/html": [
       "<div>\n",
       "<style scoped>\n",
       "    .dataframe tbody tr th:only-of-type {\n",
       "        vertical-align: middle;\n",
       "    }\n",
       "\n",
       "    .dataframe tbody tr th {\n",
       "        vertical-align: top;\n",
       "    }\n",
       "\n",
       "    .dataframe thead th {\n",
       "        text-align: right;\n",
       "    }\n",
       "</style>\n",
       "<table border=\"1\" class=\"dataframe\">\n",
       "  <thead>\n",
       "    <tr style=\"text-align: right;\">\n",
       "      <th></th>\n",
       "      <th>PassengerId</th>\n",
       "      <th>Survived</th>\n",
       "      <th>Pclass</th>\n",
       "      <th>Sex</th>\n",
       "      <th>Age</th>\n",
       "      <th>SibSp</th>\n",
       "      <th>Parch</th>\n",
       "      <th>Fare</th>\n",
       "    </tr>\n",
       "  </thead>\n",
       "  <tbody>\n",
       "    <tr>\n",
       "      <th>count</th>\n",
       "      <td>891.000000</td>\n",
       "      <td>891.000000</td>\n",
       "      <td>891.000000</td>\n",
       "      <td>891.000000</td>\n",
       "      <td>714.000000</td>\n",
       "      <td>891.000000</td>\n",
       "      <td>891.000000</td>\n",
       "      <td>891.000000</td>\n",
       "    </tr>\n",
       "    <tr>\n",
       "      <th>mean</th>\n",
       "      <td>446.000000</td>\n",
       "      <td>0.383838</td>\n",
       "      <td>2.308642</td>\n",
       "      <td>0.647587</td>\n",
       "      <td>29.699118</td>\n",
       "      <td>0.523008</td>\n",
       "      <td>0.381594</td>\n",
       "      <td>32.204208</td>\n",
       "    </tr>\n",
       "    <tr>\n",
       "      <th>std</th>\n",
       "      <td>257.353842</td>\n",
       "      <td>0.486592</td>\n",
       "      <td>0.836071</td>\n",
       "      <td>0.477990</td>\n",
       "      <td>14.526497</td>\n",
       "      <td>1.102743</td>\n",
       "      <td>0.806057</td>\n",
       "      <td>49.693429</td>\n",
       "    </tr>\n",
       "    <tr>\n",
       "      <th>min</th>\n",
       "      <td>1.000000</td>\n",
       "      <td>0.000000</td>\n",
       "      <td>1.000000</td>\n",
       "      <td>0.000000</td>\n",
       "      <td>0.420000</td>\n",
       "      <td>0.000000</td>\n",
       "      <td>0.000000</td>\n",
       "      <td>0.000000</td>\n",
       "    </tr>\n",
       "    <tr>\n",
       "      <th>25%</th>\n",
       "      <td>223.500000</td>\n",
       "      <td>0.000000</td>\n",
       "      <td>2.000000</td>\n",
       "      <td>0.000000</td>\n",
       "      <td>20.125000</td>\n",
       "      <td>0.000000</td>\n",
       "      <td>0.000000</td>\n",
       "      <td>7.910400</td>\n",
       "    </tr>\n",
       "    <tr>\n",
       "      <th>50%</th>\n",
       "      <td>446.000000</td>\n",
       "      <td>0.000000</td>\n",
       "      <td>3.000000</td>\n",
       "      <td>1.000000</td>\n",
       "      <td>28.000000</td>\n",
       "      <td>0.000000</td>\n",
       "      <td>0.000000</td>\n",
       "      <td>14.454200</td>\n",
       "    </tr>\n",
       "    <tr>\n",
       "      <th>75%</th>\n",
       "      <td>668.500000</td>\n",
       "      <td>1.000000</td>\n",
       "      <td>3.000000</td>\n",
       "      <td>1.000000</td>\n",
       "      <td>38.000000</td>\n",
       "      <td>1.000000</td>\n",
       "      <td>0.000000</td>\n",
       "      <td>31.000000</td>\n",
       "    </tr>\n",
       "    <tr>\n",
       "      <th>max</th>\n",
       "      <td>891.000000</td>\n",
       "      <td>1.000000</td>\n",
       "      <td>3.000000</td>\n",
       "      <td>1.000000</td>\n",
       "      <td>80.000000</td>\n",
       "      <td>8.000000</td>\n",
       "      <td>6.000000</td>\n",
       "      <td>512.329200</td>\n",
       "    </tr>\n",
       "  </tbody>\n",
       "</table>\n",
       "</div>"
      ],
      "text/plain": [
       "       PassengerId    Survived      Pclass         Sex         Age  \\\n",
       "count   891.000000  891.000000  891.000000  891.000000  714.000000   \n",
       "mean    446.000000    0.383838    2.308642    0.647587   29.699118   \n",
       "std     257.353842    0.486592    0.836071    0.477990   14.526497   \n",
       "min       1.000000    0.000000    1.000000    0.000000    0.420000   \n",
       "25%     223.500000    0.000000    2.000000    0.000000   20.125000   \n",
       "50%     446.000000    0.000000    3.000000    1.000000   28.000000   \n",
       "75%     668.500000    1.000000    3.000000    1.000000   38.000000   \n",
       "max     891.000000    1.000000    3.000000    1.000000   80.000000   \n",
       "\n",
       "            SibSp       Parch        Fare  \n",
       "count  891.000000  891.000000  891.000000  \n",
       "mean     0.523008    0.381594   32.204208  \n",
       "std      1.102743    0.806057   49.693429  \n",
       "min      0.000000    0.000000    0.000000  \n",
       "25%      0.000000    0.000000    7.910400  \n",
       "50%      0.000000    0.000000   14.454200  \n",
       "75%      1.000000    0.000000   31.000000  \n",
       "max      8.000000    6.000000  512.329200  "
      ]
     },
     "execution_count": 21,
     "metadata": {},
     "output_type": "execute_result"
    }
   ],
   "source": [
    "train.describe()"
   ]
  },
  {
   "cell_type": "markdown",
   "id": "cdd0be7a",
   "metadata": {},
   "source": [
    "In order to calculate likelihood we have to find <br>\n",
    "we can calculate baysian $$P(y| x_1,x_2,...,x_n ) \\propto p(y)\\prod_{i=0}^{n}P(x_i|y)$$\n",
    "\n",
    " $$ p(survived=1)P(x|survived=1)$$\n",
    "  $$ p(survived=0)P(x|survived=0)$$"
   ]
  },
  {
   "cell_type": "code",
   "execution_count": 22,
   "id": "e45e8a97",
   "metadata": {},
   "outputs": [],
   "source": [
    "def get_stats(data, label):\n",
    "    result = {}\n",
    "    for i in train[label].unique():\n",
    "        stats = train[train[label] == i].describe()  #[feature]\n",
    "        result[i] = stats\n",
    "    \n",
    "    return result"
   ]
  },
  {
   "cell_type": "code",
   "execution_count": 23,
   "id": "82dbba8e",
   "metadata": {},
   "outputs": [],
   "source": [
    "label = 'Survived'\n",
    "stats = get_stats(train, label = label)\n"
   ]
  },
  {
   "cell_type": "markdown",
   "id": "da74c5a1",
   "metadata": {},
   "source": [
    "<h2> Invwstigation of likehood and baysian throw features of Titatnic dataset </h2>"
   ]
  },
  {
   "cell_type": "code",
   "execution_count": 29,
   "id": "81a7d05c",
   "metadata": {},
   "outputs": [
    {
     "data": {
      "text/plain": [
       "Survived\n",
       "0    0.616162\n",
       "1    0.383838\n",
       "Name: Survived, dtype: float64"
      ]
     },
     "execution_count": 29,
     "metadata": {},
     "output_type": "execute_result"
    }
   ],
   "source": [
    "prob = train.groupby(by=label,axis=0)[label].count()/len(train[label])\n",
    "prob"
   ]
  },
  {
   "cell_type": "code",
   "execution_count": 31,
   "id": "168d8df2",
   "metadata": {
    "scrolled": true
   },
   "outputs": [
    {
     "data": {
      "text/plain": [
       "<matplotlib.legend.Legend at 0x1d732178b20>"
      ]
     },
     "execution_count": 31,
     "metadata": {},
     "output_type": "execute_result"
    },
    {
     "data": {
      "image/png": "[encoded data removed]",
      "text/plain": [
       "<Figure size 432x288 with 1 Axes>"
      ]
     },
     "metadata": {},
     "output_type": "display_data"
    }
   ],
   "source": [
    "feature = 'Pclass'\n",
    "x = np.linspace(0.5,3.5)\n",
    "for label_value in stats:\n",
    "    y = norm.pdf(x, stats[label_value]['Pclass']['mean'], stats[label_value]['Pclass']['std'])*prob[label_value]\n",
    "    plt.plot(x,y,label=r'P(x|{}={}).p({}={})'.format(label,label_value,label,label_value))\n",
    "plt.legend()    "
   ]
  },
  {
   "cell_type": "code",
   "execution_count": 34,
   "id": "d736e002",
   "metadata": {},
   "outputs": [
    {
     "data": {
      "text/plain": [
       "<matplotlib.legend.Legend at 0x1d7321e7340>"
      ]
     },
     "execution_count": 34,
     "metadata": {},
     "output_type": "execute_result"
    },
    {
     "data": {
      "image/png": "[encoded data removed]",
      "text/plain": [
       "<Figure size 432x288 with 1 Axes>"
      ]
     },
     "metadata": {},
     "output_type": "display_data"
    }
   ],
   "source": [
    "feature = 'Sex'\n",
    "x = np.linspace(-2.5,3.5)\n",
    "for label_value in stats:\n",
    "    y = norm.pdf(x, stats[label_value][feature]['mean'], stats[label_value]['Pclass']['std'])*prob[label_value]\n",
    "    plt.plot(x,y,label=r'P(x|{}={}).p({}={})'.format(label,label_value,label,label_value))\n",
    "plt.legend()    "
   ]
  },
  {
   "cell_type": "markdown",
   "id": "1f203553",
   "metadata": {},
   "source": [
    "Including prior probability $ p(survived=y)$ we can notice that the distributions for P_{class} have changed, for only likelihood for P_{class}=2 most likeli for survive is not_survicve including prior above we can see that for the same P_{class}=2 most likly is not survived"
   ]
  },
  {
   "cell_type": "code",
   "execution_count": null,
   "id": "55f8b458",
   "metadata": {},
   "outputs": [],
   "source": [
    "<h2> implementation of GAussian NB /"
   ]
  },
  {
   "cell_type": "code",
   "execution_count": 35,
   "id": "0fbcd586",
   "metadata": {},
   "outputs": [],
   "source": [
    "stats = get_stats(train, label = label)\n",
    "def likelihood_table(x, label_stats ):\n",
    "    result = {}\n",
    "    for label_value in label_stats:\n",
    "        stats_feature = label_stats[label_value][x.name]\n",
    "        sigma = stats_feature['std']\n",
    "        mu = stats_feature['mean']\n",
    "        likelihood = norm.pdf(x, mu, sigma)\n",
    "        result[label_value] = likelihood\n",
    "        \n",
    "    return result   "
   ]
  },
  {
   "cell_type": "code",
   "execution_count": 36,
   "id": "dd98e5a2",
   "metadata": {},
   "outputs": [],
   "source": [
    "result = train[['Pclass','Sex']].apply(likelihood_table, label_stats=stats)"
   ]
  },
  {
   "cell_type": "code",
   "execution_count": 37,
   "id": "8d51540a",
   "metadata": {},
   "outputs": [],
   "source": [
    "not_survived = result['Pclass'][0]*result['Sex'][0]*prob[0]\n",
    "survived = result['Pclass'][1]*result['Sex'][1]*prob[1]"
   ]
  },
  {
   "cell_type": "code",
   "execution_count": 38,
   "id": "8bf80b44",
   "metadata": {},
   "outputs": [],
   "source": [
    "predict = (survived>not_survived).astype(int)"
   ]
  },
  {
   "cell_type": "code",
   "execution_count": 39,
   "id": "7d9c1fca",
   "metadata": {},
   "outputs": [
    {
     "data": {
      "text/plain": [
       "0.7867564534231201"
      ]
     },
     "execution_count": 39,
     "metadata": {},
     "output_type": "execute_result"
    }
   ],
   "source": [
    "accuracy_score(predict, train[label])"
   ]
  },
  {
   "cell_type": "code",
   "execution_count": 41,
   "id": "14906335",
   "metadata": {},
   "outputs": [
    {
     "data": {
      "text/plain": [
       "0.7867564534231201"
      ]
     },
     "execution_count": 41,
     "metadata": {},
     "output_type": "execute_result"
    }
   ],
   "source": [
    "from sklearn.naive_bayes import GaussianNB\n",
    "gnb = GaussianNB()\n",
    "gnb.fit(train[['Pclass','Sex']],train['Survived'])\n",
    "predict = gnb.predict(train[['Pclass','Sex']])\n",
    "accuracy_score(predict, train[label])"
   ]
  },
  {
   "cell_type": "markdown",
   "id": "919d79c9",
   "metadata": {},
   "source": [
    "<h2> Bernoulli Naive Bayes </h2>"
   ]
  },
  {
   "cell_type": "markdown",
   "id": "674181fb",
   "metadata": {},
   "source": [
    "\n",
    "BernoulliNB implements the naive Bayes training and classification algorithms for data that is distributed according to multivariate Bernoulli distributions; i.e., there may be multiple features but each one is assumed to be a binary-valued (Bernoulli, boolean) variable. Therefore, this class requires samples to be represented as binary-valued feature vectors; if handed any other kind of data, a BernoulliNB instance may binarize its input (depending on the binarize parameter).\n",
    "\n",
    "The decision rule for Bernoulli naive Bayes is based on\n",
    "     $$ P(x_i| y) = P(i|y)x_i + (1- P(i|y))(1-x_i)$$\n",
    "\n",
    "which differs from multinomial NB’s rule in that it explicitly penalizes the non-occurrence of a feature  that is an indicator for class , where the multinomial variant would simply ignore a non-occurring feature.\n",
    "\n",
    "In the case of text classification, word occurrence vectors (rather than word count vectors) may be used to train and use this classifier. BernoulliNB might perform better on some datasets, especially those with shorter documents. It is advisable to evaluate both models, if time permits."
   ]
  },
  {
   "cell_type": "markdown",
   "id": "c88f70b8",
   "metadata": {},
   "source": [
    "<h2> References </h2>\n",
    "* <a href='https://towardsdatascience.com/implementing-naive-bayes-algorithm-from-scratch-python-c6880cfc9c41'>naive <br>\n",
    "* <a href='https://prwatech.in/blog/machine-learning/naive-bayes-classifier-in-machine-learning/'> Indian Naive Bayes </a> <br>\n",
    "* <a href='https://www.geeksforgeeks.org/naive-bayes-classifiers/'>Naive Bayes Classifiers </a>    \n",
    "    * <a href='https://towardsdatascience.com/naive-bayes-classifier-81d512f50a7c'>Naive Bayes Classifiers </a>  \n",
    "    https://scikit-learn.org/stable/auto_examples/applications/plot_out_of_core_classification.html#sphx-glr-auto-examples-applications-plot-out-of-core-classification-py"
   ]
  },
  {
   "cell_type": "markdown",
   "id": "072135c7",
   "metadata": {},
   "source": [
    "Now, you can obtain the values for each by looking at the dataset and substitute them into the equation. For all entries in the dataset, the denominator does not change, it remain static. Therefore, the denominator can be removed and a proportionality can be introduced.\n",
    "$$P(y| x_1,x_2,...,x_n ) \\propto p(Y)\\prod_{i=0}^{n}P(x_i|y)$$\n"
   ]
  }
 ],
 "metadata": {
  "kernelspec": {
   "display_name": "Python 3",
   "language": "python",
   "name": "python3"
  },
  "language_info": {
   "codemirror_mode": {
    "name": "ipython",
    "version": 3
   },
   "file_extension": ".py",
   "mimetype": "text/x-python",
   "name": "python",
   "nbconvert_exporter": "python",
   "pygments_lexer": "ipython3",
   "version": "3.8.8"
  }
 },
 "nbformat": 4,
 "nbformat_minor": 5
}
