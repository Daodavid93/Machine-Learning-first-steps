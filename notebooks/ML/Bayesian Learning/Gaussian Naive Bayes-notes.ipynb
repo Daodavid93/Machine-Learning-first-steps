{
 "cells": [
  {
   "cell_type": "code",
   "execution_count": 1,
   "id": "ad8cde6b",
   "metadata": {},
   "outputs": [
    {
     "data": {
      "application/javascript": [
       "\n",
       "            setTimeout(function() {\n",
       "                var nbb_cell_id = 1;\n",
       "                var nbb_unformatted_code = \"%matplotlib inline\\n%load_ext nb_black\\nimport matplotlib.pyplot as plt\\nimport numpy as np\\nimport math\\nfrom mpl_toolkits.mplot3d import Axes3D\\nfrom random import random\\n#from mpl_toolkits.mplot3d import axes3d\\nimport matplotlib.pyplot as plt\\nimport pandas as pd\";\n",
       "                var nbb_formatted_code = \"%matplotlib inline\\n%load_ext nb_black\\nimport matplotlib.pyplot as plt\\nimport numpy as np\\nimport math\\nfrom mpl_toolkits.mplot3d import Axes3D\\nfrom random import random\\n\\n# from mpl_toolkits.mplot3d import axes3d\\nimport matplotlib.pyplot as plt\\nimport pandas as pd\";\n",
       "                var nbb_cells = Jupyter.notebook.get_cells();\n",
       "                for (var i = 0; i < nbb_cells.length; ++i) {\n",
       "                    if (nbb_cells[i].input_prompt_number == nbb_cell_id) {\n",
       "                        if (nbb_cells[i].get_text() == nbb_unformatted_code) {\n",
       "                             nbb_cells[i].set_text(nbb_formatted_code);\n",
       "                        }\n",
       "                        break;\n",
       "                    }\n",
       "                }\n",
       "            }, 500);\n",
       "            "
      ],
      "text/plain": [
       "<IPython.core.display.Javascript object>"
      ]
     },
     "metadata": {},
     "output_type": "display_data"
    }
   ],
   "source": [
    "%matplotlib inline\n",
    "%load_ext nb_black\n",
    "import matplotlib.pyplot as plt\n",
    "import numpy as np\n",
    "import math\n",
    "from mpl_toolkits.mplot3d import Axes3D\n",
    "from random import random\n",
    "\n",
    "# from mpl_toolkits.mplot3d import axes3d\n",
    "import matplotlib.pyplot as plt\n",
    "import pandas as pd"
   ]
  },
  {
   "cell_type": "markdown",
   "id": "dafea944",
   "metadata": {},
   "source": [
    "Gaussian Naive Bayes supports continuous valued features and models each conforming to Gaussian normal distribution.<br>\n",
    "An approach to creating a simple model is to assume that the data is described by Gaussian distribution with no co-variance (independent dimensions) between dimensions.This model can be fit by simply finding the mean abd standart deviation of the points whitin each labe, which is all what is needed to define such a distribution."
   ]
  },
  {
   "cell_type": "code",
   "execution_count": null,
   "id": "eca9ec9f",
   "metadata": {},
   "outputs": [],
   "source": []
  }
 ],
 "metadata": {
  "kernelspec": {
   "display_name": "Python 3",
   "language": "python",
   "name": "python3"
  },
  "language_info": {
   "codemirror_mode": {
    "name": "ipython",
    "version": 3
   },
   "file_extension": ".py",
   "mimetype": "text/x-python",
   "name": "python",
   "nbconvert_exporter": "python",
   "pygments_lexer": "ipython3",
   "version": "3.8.8"
  }
 },
 "nbformat": 4,
 "nbformat_minor": 5
}
