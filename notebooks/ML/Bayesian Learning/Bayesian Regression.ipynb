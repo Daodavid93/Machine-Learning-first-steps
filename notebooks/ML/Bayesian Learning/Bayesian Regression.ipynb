{
 "cells": [
  {
   "cell_type": "markdown",
   "id": "d70512df",
   "metadata": {},
   "source": [
    "references :\n",
    "https://www.youtube.com/watch?v=yu_YO3Q-AmA&t=30s&ab_channel=PatrickvanderSmagt\n",
    "\n",
    "https://www.youtube.com/watch?v=Dn6b9fCIUpM&t=5s&ab_channel=StatQuestwithJoshStarmer"
   ]
  }
 ],
 "metadata": {
  "kernelspec": {
   "display_name": "Python 3",
   "language": "python",
   "name": "python3"
  },
  "language_info": {
   "codemirror_mode": {
    "name": "ipython",
    "version": 3
   },
   "file_extension": ".py",
   "mimetype": "text/x-python",
   "name": "python",
   "nbconvert_exporter": "python",
   "pygments_lexer": "ipython3",
   "version": "3.8.8"
  }
 },
 "nbformat": 4,
 "nbformat_minor": 5
}
