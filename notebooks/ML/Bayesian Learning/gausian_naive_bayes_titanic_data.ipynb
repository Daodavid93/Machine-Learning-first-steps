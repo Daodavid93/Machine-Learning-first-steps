{
 "cells": [
  {
   "cell_type": "code",
   "execution_count": 1,
   "id": "5d1d8aa7",
   "metadata": {},
   "outputs": [],
   "source": [
    "import warnings\n",
    "import datetime\n",
    "\n",
    "import numpy as np\n",
    "import matplotlib.pyplot as plt\n",
    "import pandas as pd\n",
    "import seaborn as sns\n",
    "\n",
    "from sklearn.model_selection import train_test_split\n",
    "from IPython.display import display, Markdown , Math \n",
    "\n",
    "sns.set()\n",
    "warnings.filterwarnings('ignore')"
   ]
  },
  {
   "cell_type": "code",
   "execution_count": 2,
   "id": "4892ea64",
   "metadata": {},
   "outputs": [],
   "source": [
    "def printmd(string): display(Markdown(string))\n",
    "def latex(out): printmd(f'{out}')  \n",
    "def pr(string): printmd('***{}***'.format(string))"
   ]
  },
  {
   "cell_type": "code",
   "execution_count": null,
   "id": "fc947e46",
   "metadata": {},
   "outputs": [],
   "source": []
  },
  {
   "cell_type": "code",
   "execution_count": null,
   "id": "2705b83b",
   "metadata": {},
   "outputs": [],
   "source": []
  },
  {
   "cell_type": "code",
   "execution_count": 3,
   "id": "34fd909c",
   "metadata": {},
   "outputs": [],
   "source": [
    "test = pd.read_csv(\"../../../resources/data/titanic/test.csv\")\n",
    "train = pd.read_csv(\"../../../resources/data/titanic/train.csv\")"
   ]
  },
  {
   "cell_type": "code",
   "execution_count": 4,
   "id": "8a784a82",
   "metadata": {},
   "outputs": [],
   "source": [
    "\n",
    "#combine = pd.concat([train.drop('Survived',1),test])"
   ]
  },
  {
   "cell_type": "code",
   "execution_count": 5,
   "id": "c08b0b29",
   "metadata": {},
   "outputs": [
    {
     "name": "stdout",
     "output_type": "stream",
     "text": [
      "<class 'pandas.core.frame.DataFrame'>\n",
      "RangeIndex: 891 entries, 0 to 890\n",
      "Data columns (total 12 columns):\n",
      " #   Column       Non-Null Count  Dtype  \n",
      "---  ------       --------------  -----  \n",
      " 0   PassengerId  891 non-null    int64  \n",
      " 1   Survived     891 non-null    int64  \n",
      " 2   Pclass       891 non-null    int64  \n",
      " 3   Name         891 non-null    object \n",
      " 4   Sex          891 non-null    object \n",
      " 5   Age          714 non-null    float64\n",
      " 6   SibSp        891 non-null    int64  \n",
      " 7   Parch        891 non-null    int64  \n",
      " 8   Ticket       891 non-null    object \n",
      " 9   Fare         891 non-null    float64\n",
      " 10  Cabin        204 non-null    object \n",
      " 11  Embarked     889 non-null    object \n",
      "dtypes: float64(2), int64(5), object(5)\n",
      "memory usage: 83.7+ KB\n"
     ]
    }
   ],
   "source": [
    "train.info()"
   ]
  },
  {
   "cell_type": "code",
   "execution_count": 6,
   "id": "a242fc5a",
   "metadata": {},
   "outputs": [
    {
     "data": {
      "text/plain": [
       "PassengerId      0\n",
       "Survived         0\n",
       "Pclass           0\n",
       "Name             0\n",
       "Sex              0\n",
       "Age            177\n",
       "SibSp            0\n",
       "Parch            0\n",
       "Ticket           0\n",
       "Fare             0\n",
       "Cabin          687\n",
       "Embarked         2\n",
       "dtype: int64"
      ]
     },
     "execution_count": 6,
     "metadata": {},
     "output_type": "execute_result"
    }
   ],
   "source": [
    "train.isnull().sum()"
   ]
  },
  {
   "cell_type": "code",
   "execution_count": 7,
   "id": "1ed2d65e",
   "metadata": {},
   "outputs": [
    {
     "data": {
      "text/html": [
       "<div>\n",
       "<style scoped>\n",
       "    .dataframe tbody tr th:only-of-type {\n",
       "        vertical-align: middle;\n",
       "    }\n",
       "\n",
       "    .dataframe tbody tr th {\n",
       "        vertical-align: top;\n",
       "    }\n",
       "\n",
       "    .dataframe thead th {\n",
       "        text-align: right;\n",
       "    }\n",
       "</style>\n",
       "<table border=\"1\" class=\"dataframe\">\n",
       "  <thead>\n",
       "    <tr style=\"text-align: right;\">\n",
       "      <th></th>\n",
       "      <th>PassengerId</th>\n",
       "      <th>Survived</th>\n",
       "      <th>Pclass</th>\n",
       "      <th>Age</th>\n",
       "      <th>SibSp</th>\n",
       "      <th>Parch</th>\n",
       "      <th>Fare</th>\n",
       "    </tr>\n",
       "  </thead>\n",
       "  <tbody>\n",
       "    <tr>\n",
       "      <th>count</th>\n",
       "      <td>891.000000</td>\n",
       "      <td>891.000000</td>\n",
       "      <td>891.000000</td>\n",
       "      <td>714.000000</td>\n",
       "      <td>891.000000</td>\n",
       "      <td>891.000000</td>\n",
       "      <td>891.000000</td>\n",
       "    </tr>\n",
       "    <tr>\n",
       "      <th>mean</th>\n",
       "      <td>446.000000</td>\n",
       "      <td>0.383838</td>\n",
       "      <td>2.308642</td>\n",
       "      <td>29.699118</td>\n",
       "      <td>0.523008</td>\n",
       "      <td>0.381594</td>\n",
       "      <td>32.204208</td>\n",
       "    </tr>\n",
       "    <tr>\n",
       "      <th>std</th>\n",
       "      <td>257.353842</td>\n",
       "      <td>0.486592</td>\n",
       "      <td>0.836071</td>\n",
       "      <td>14.526497</td>\n",
       "      <td>1.102743</td>\n",
       "      <td>0.806057</td>\n",
       "      <td>49.693429</td>\n",
       "    </tr>\n",
       "    <tr>\n",
       "      <th>min</th>\n",
       "      <td>1.000000</td>\n",
       "      <td>0.000000</td>\n",
       "      <td>1.000000</td>\n",
       "      <td>0.420000</td>\n",
       "      <td>0.000000</td>\n",
       "      <td>0.000000</td>\n",
       "      <td>0.000000</td>\n",
       "    </tr>\n",
       "    <tr>\n",
       "      <th>25%</th>\n",
       "      <td>223.500000</td>\n",
       "      <td>0.000000</td>\n",
       "      <td>2.000000</td>\n",
       "      <td>20.125000</td>\n",
       "      <td>0.000000</td>\n",
       "      <td>0.000000</td>\n",
       "      <td>7.910400</td>\n",
       "    </tr>\n",
       "    <tr>\n",
       "      <th>50%</th>\n",
       "      <td>446.000000</td>\n",
       "      <td>0.000000</td>\n",
       "      <td>3.000000</td>\n",
       "      <td>28.000000</td>\n",
       "      <td>0.000000</td>\n",
       "      <td>0.000000</td>\n",
       "      <td>14.454200</td>\n",
       "    </tr>\n",
       "    <tr>\n",
       "      <th>75%</th>\n",
       "      <td>668.500000</td>\n",
       "      <td>1.000000</td>\n",
       "      <td>3.000000</td>\n",
       "      <td>38.000000</td>\n",
       "      <td>1.000000</td>\n",
       "      <td>0.000000</td>\n",
       "      <td>31.000000</td>\n",
       "    </tr>\n",
       "    <tr>\n",
       "      <th>max</th>\n",
       "      <td>891.000000</td>\n",
       "      <td>1.000000</td>\n",
       "      <td>3.000000</td>\n",
       "      <td>80.000000</td>\n",
       "      <td>8.000000</td>\n",
       "      <td>6.000000</td>\n",
       "      <td>512.329200</td>\n",
       "    </tr>\n",
       "  </tbody>\n",
       "</table>\n",
       "</div>"
      ],
      "text/plain": [
       "       PassengerId    Survived      Pclass         Age       SibSp  \\\n",
       "count   891.000000  891.000000  891.000000  714.000000  891.000000   \n",
       "mean    446.000000    0.383838    2.308642   29.699118    0.523008   \n",
       "std     257.353842    0.486592    0.836071   14.526497    1.102743   \n",
       "min       1.000000    0.000000    1.000000    0.420000    0.000000   \n",
       "25%     223.500000    0.000000    2.000000   20.125000    0.000000   \n",
       "50%     446.000000    0.000000    3.000000   28.000000    0.000000   \n",
       "75%     668.500000    1.000000    3.000000   38.000000    1.000000   \n",
       "max     891.000000    1.000000    3.000000   80.000000    8.000000   \n",
       "\n",
       "            Parch        Fare  \n",
       "count  891.000000  891.000000  \n",
       "mean     0.381594   32.204208  \n",
       "std      0.806057   49.693429  \n",
       "min      0.000000    0.000000  \n",
       "25%      0.000000    7.910400  \n",
       "50%      0.000000   14.454200  \n",
       "75%      0.000000   31.000000  \n",
       "max      6.000000  512.329200  "
      ]
     },
     "execution_count": 7,
     "metadata": {},
     "output_type": "execute_result"
    }
   ],
   "source": [
    "train.describe()"
   ]
  },
  {
   "cell_type": "code",
   "execution_count": 8,
   "id": "94cf13be",
   "metadata": {},
   "outputs": [
    {
     "data": {
      "text/plain": [
       "<matplotlib.legend.Legend at 0x232262351c0>"
      ]
     },
     "execution_count": 8,
     "metadata": {},
     "output_type": "execute_result"
    },
    {
     "data": {
      "image/png": "[encoded data removed]",
      "text/plain": [
       "<Figure size 432x288 with 1 Axes>"
      ]
     },
     "metadata": {},
     "output_type": "display_data"
    }
   ],
   "source": [
    "train[train['Survived']==1]['Pclass'].plot.kde(label='survived')\n",
    "train[train['Survived']==0]['Pclass'].plot.kde(label='notsurvi')\n",
    "plt.legend()"
   ]
  },
  {
   "cell_type": "code",
   "execution_count": 9,
   "id": "32bd1f27",
   "metadata": {},
   "outputs": [
    {
     "data": {
      "text/plain": [
       "0.3838383838383838"
      ]
     },
     "execution_count": 9,
     "metadata": {},
     "output_type": "execute_result"
    }
   ],
   "source": [
    "train['Survived'].sum()/len(train['Survived'])"
   ]
  },
  {
   "cell_type": "markdown",
   "id": "cd0da822",
   "metadata": {},
   "source": [
    "we are searching for densitity function (likelihood function):\n",
    "$$P(x|y=survive)$$ and $$P(x|y=non-survive)$$"
   ]
  },
  {
   "cell_type": "markdown",
   "id": "4ed5242a",
   "metadata": {},
   "source": [
    "in order to find $$P(y=survive|x) = p(y=survive)p(x|y_survive)$$"
   ]
  },
  {
   "cell_type": "code",
   "execution_count": 10,
   "id": "73f4b86c",
   "metadata": {},
   "outputs": [],
   "source": [
    "from scipy.stats import norm\n"
   ]
  },
  {
   "cell_type": "code",
   "execution_count": 11,
   "id": "9992ad4e",
   "metadata": {},
   "outputs": [
    {
     "ename": "NameError",
     "evalue": "name 'describe' is not defined",
     "output_type": "error",
     "traceback": [
      "\u001b[1;31m---------------------------------------------------------------------------\u001b[0m",
      "\u001b[1;31mNameError\u001b[0m                                 Traceback (most recent call last)",
      "\u001b[1;32m<ipython-input-11-ccb86ce1e054>\u001b[0m in \u001b[0;36m<module>\u001b[1;34m\u001b[0m\n\u001b[0;32m      3\u001b[0m \u001b[1;31m#mean =\u001b[0m\u001b[1;33m\u001b[0m\u001b[1;33m\u001b[0m\u001b[1;33m\u001b[0m\u001b[0m\n\u001b[0;32m      4\u001b[0m \u001b[1;31m#norm()\u001b[0m\u001b[1;33m\u001b[0m\u001b[1;33m\u001b[0m\u001b[1;33m\u001b[0m\u001b[0m\n\u001b[1;32m----> 5\u001b[1;33m \u001b[0mdescribe\u001b[0m\u001b[1;33m[\u001b[0m\u001b[1;34m'Pclass'\u001b[0m\u001b[1;33m]\u001b[0m\u001b[1;33m[\u001b[0m\u001b[1;34m'mean'\u001b[0m\u001b[1;33m]\u001b[0m\u001b[1;33m\u001b[0m\u001b[1;33m\u001b[0m\u001b[0m\n\u001b[0m\u001b[0;32m      6\u001b[0m \u001b[0mdescribe\u001b[0m\u001b[1;33m[\u001b[0m\u001b[1;34m'Pclass'\u001b[0m\u001b[1;33m]\u001b[0m\u001b[1;33m[\u001b[0m\u001b[1;34m'std'\u001b[0m\u001b[1;33m]\u001b[0m\u001b[1;33m\u001b[0m\u001b[1;33m\u001b[0m\u001b[0m\n",
      "\u001b[1;31mNameError\u001b[0m: name 'describe' is not defined"
     ]
    }
   ],
   "source": [
    "describe_non_survived = train[train['Survived']==0].describe()\n",
    "describe_survived = train[train['Survived']==1].describe()\n",
    "#mean = \n",
    "#norm()\n",
    "describe['Pclass']['mean']\n",
    "describe['Pclass']['std']"
   ]
  },
  {
   "cell_type": "code",
   "execution_count": null,
   "id": "8d7180a5",
   "metadata": {},
   "outputs": [],
   "source": [
    "gausian = norm.pdf(x= train['Survived'],scale=describe['Pclass']['std'] ,loc = describe['Pclass']['mean'])"
   ]
  },
  {
   "cell_type": "code",
   "execution_count": null,
   "id": "e17ad101",
   "metadata": {},
   "outputs": [],
   "source": [
    "snd = norm(loc=describe['Pclass']['mean'], scale=describe['Pclass']['std'])"
   ]
  },
  {
   "cell_type": "code",
   "execution_count": null,
   "id": "bd54558e",
   "metadata": {},
   "outputs": [],
   "source": [
    "mu = describe_non_survived['Pclass']['mean']\n",
    "sigma = describe_non_survived['Pclass']['std']\n",
    "x = np.linspace(0,10)\n",
    "plt.plot(x,norm.pdf(x, mu, sigma),label='not-surv')\n",
    "mu = describe_survived['Pclass']['mean']\n",
    "sigma = describe_survived['Pclass']['std']\n",
    "x = np.linspace(0,10)\n",
    "plt.plot(x,norm.pdf(x, mu, sigma),label='surv')\n",
    "plt.legend()"
   ]
  },
  {
   "cell_type": "code",
   "execution_count": null,
   "id": "3340f06b",
   "metadata": {},
   "outputs": [],
   "source": []
  },
  {
   "cell_type": "code",
   "execution_count": null,
   "id": "388bb605",
   "metadata": {},
   "outputs": [],
   "source": [
    "def gausian(x, mu, sigma):\n",
    "    c = 1/(2*np.pi*sigma**2)**(1/2)\n",
    "    return c*np.exp( - (x - mu)**2/(2*sigma**2) )"
   ]
  },
  {
   "cell_type": "code",
   "execution_count": null,
   "id": "c59cec9b",
   "metadata": {},
   "outputs": [],
   "source": [
    "not_survive_norm_likhood = gausian(1,describe_non_survived['Pclass']['mean'],describe_non_survived['Pclass']['std'])"
   ]
  },
  {
   "cell_type": "code",
   "execution_count": null,
   "id": "ca90aa4b",
   "metadata": {},
   "outputs": [],
   "source": [
    "prob_y = train['Survived'].sum()/len(train['Survived'])\n",
    "prob_not_y = 1 - prob_y"
   ]
  },
  {
   "cell_type": "code",
   "execution_count": null,
   "id": "8b095b5f",
   "metadata": {},
   "outputs": [],
   "source": [
    "mu = describe_non_survived['Pclass']['mean']\n",
    "sigma = describe_non_survived['Pclass']['std']\n",
    "x = np.linspace(0,10)\n",
    "plt.plot(x,norm.pdf(x, mu, sigma)*prob_not_y,label='P(x|y=not_survived)')\n",
    "mu = describe_survived['Pclass']['mean']\n",
    "sigma = describe_survived['Pclass']['std']\n",
    "x = np.linspace(0,10)\n",
    "plt.plot(x,norm.pdf(x, mu, sigma)*prob_y,label=r'$P(x|y=survived)$')\n",
    "plt.legend()"
   ]
  },
  {
   "cell_type": "code",
   "execution_count": null,
   "id": "41672efa",
   "metadata": {},
   "outputs": [],
   "source": [
    "print(type( describe_survived['Pclass']))"
   ]
  },
  {
   "cell_type": "code",
   "execution_count": null,
   "id": "89da25ec",
   "metadata": {},
   "outputs": [],
   "source": []
  },
  {
   "cell_type": "markdown",
   "id": "275396a6",
   "metadata": {},
   "source": [
    "We will make a function that calculate likelihood(ProbabilityDensityFunction)PDF\n",
    "for feature class 'Pclass' in order to calucate baysen estimation"
   ]
  },
  {
   "cell_type": "code",
   "execution_count": null,
   "id": "c8a59faa",
   "metadata": {},
   "outputs": [],
   "source": [
    "def likelihood_function(feature_describe):\n",
    "    \"\"\"\n",
    "    feature_describe : pandas Series\n",
    "    \n",
    "    \"\"\"\n",
    "    \n",
    "    sigma= feature_describe['std']\n",
    "    mu = feature_describe['mean']\n",
    "    \n",
    "    def pdf(x):\n",
    "        \"\"\"\n",
    "        \"\"\"\n",
    "        print('sigma',sigma)\n",
    "        return norm.pdf(x, mu, sigma)\n",
    "    \n",
    "    \n",
    "    return pdf"
   ]
  },
  {
   "cell_type": "code",
   "execution_count": null,
   "id": "924a8276",
   "metadata": {},
   "outputs": [],
   "source": []
  },
  {
   "cell_type": "code",
   "execution_count": null,
   "id": "c9db8c7d",
   "metadata": {},
   "outputs": [],
   "source": []
  },
  {
   "cell_type": "code",
   "execution_count": null,
   "id": "becf9337",
   "metadata": {},
   "outputs": [],
   "source": [
    "x = np.linspace(0,4)\n",
    "y = likelihood_function(describe_survived['Pclass'])(x)\n",
    "y_1 = likelihood_function(describe_non_survived['Pclass'])(x)\n",
    "plt.plot(x,y,label='P(x|y=survived)')\n",
    "plt.plot(x,y_1,label=r'P(x|y=not_survived)')\n",
    "plt.title('likelihood of Pclass')\n",
    "plt.legend()"
   ]
  },
  {
   "cell_type": "code",
   "execution_count": null,
   "id": "a53d7b2a",
   "metadata": {},
   "outputs": [],
   "source": [
    "likelihood_function(describe_survived['Pclass'])([0,1,2,3])"
   ]
  },
  {
   "cell_type": "code",
   "execution_count": null,
   "id": "47f97568",
   "metadata": {},
   "outputs": [],
   "source": [
    "likelihood_function(describe_non_survived['Pclass'])([0,1,2,3])"
   ]
  },
  {
   "cell_type": "code",
   "execution_count": null,
   "id": "0c2ab0a2",
   "metadata": {},
   "outputs": [],
   "source": []
  },
  {
   "cell_type": "code",
   "execution_count": null,
   "id": "655afd59",
   "metadata": {},
   "outputs": [],
   "source": [
    "prob_not_y "
   ]
  },
  {
   "cell_type": "code",
   "execution_count": null,
   "id": "659a5153",
   "metadata": {},
   "outputs": [],
   "source": [
    "x = np.linspace(0,4)\n",
    "y = likelihood_function(describe_survived['Pclass'])(x)*prob_y \n",
    "y_1 = likelihood_function(describe_non_survived['Pclass'])(x)*prob_not_y \n",
    "plt.plot(x,y,label='P(x|y=survived)')\n",
    "plt.plot(x,y_1,label=r'P(x|y=not_survived)')\n",
    "plt.title('likelihood of Pclass')\n",
    "plt.legend()"
   ]
  },
  {
   "cell_type": "code",
   "execution_count": null,
   "id": "7e9e7a44",
   "metadata": {},
   "outputs": [],
   "source": [
    "likelihood_function(describe_non_survived['Pclass'])([0,1,2,3])*prob_not_y "
   ]
  },
  {
   "cell_type": "code",
   "execution_count": null,
   "id": "f5581f38",
   "metadata": {},
   "outputs": [],
   "source": [
    "likelihood_function(describe_survived['Pclass'])([0,1,2,3])*prob_y "
   ]
  },
  {
   "cell_type": "code",
   "execution_count": null,
   "id": "16c0d909",
   "metadata": {},
   "outputs": [],
   "source": [
    "def predict(x,sigma, mu,prob_y,sigma_not, mu_not,prob_y_not ):\n",
    "    yes = norm.pdf(x, mu, sigma)*prob_y\n",
    "    no = norm.pdf(x, mu_not, sigma_not)*prob_y_not\n",
    "    return {\"survive LikeliH\":yes,\"not_survive LikeliH\":yes}"
   ]
  },
  {
   "cell_type": "code",
   "execution_count": null,
   "id": "deea551e",
   "metadata": {},
   "outputs": [],
   "source": [
    "type(train['Pclass'])\n",
    "train['Pclass'].apply(predict,a='fuck')"
   ]
  },
  {
   "cell_type": "code",
   "execution_count": null,
   "id": "92ca7190",
   "metadata": {},
   "outputs": [],
   "source": [
    "def likelihood(x,sigma,mu)"
   ]
  },
  {
   "cell_type": "code",
   "execution_count": null,
   "id": "1f9a2074",
   "metadata": {},
   "outputs": [],
   "source": [
    "train"
   ]
  },
  {
   "cell_type": "code",
   "execution_count": null,
   "id": "92176074",
   "metadata": {},
   "outputs": [],
   "source": [
    "#def likelihood_vars(x, y):\n",
    "    \n",
    "y_train = train['Survived'] \n",
    "x_train = train.drop('Survived',axis=1)\n",
    "y_train.unique()\n",
    "train['Sex'] = (train['Sex']=='male').astype(int)"
   ]
  },
  {
   "cell_type": "code",
   "execution_count": null,
   "id": "fd915e47",
   "metadata": {},
   "outputs": [],
   "source": [
    "'''\n",
    "   label = 'Survived'\n",
    "   feature = 'Pclass'\n",
    "  \n",
    "  ''' \n",
    "\n",
    "def get_stats(data, label, feature):\n",
    "    result = {}\n",
    "    for i in train[label].unique():\n",
    "        stats = train[train[label] == i].describe()[feature]\n",
    "        result[i] = stats[[1,2]]\n",
    "    \n",
    "    return result\n",
    "    "
   ]
  },
  {
   "cell_type": "code",
   "execution_count": null,
   "id": "e0d1b060",
   "metadata": {},
   "outputs": [],
   "source": [
    "stats = get_stats(train, label = 'Survived',  feature = 'Pclass')"
   ]
  },
  {
   "cell_type": "code",
   "execution_count": null,
   "id": "ddc97455",
   "metadata": {},
   "outputs": [],
   "source": [
    "for label_value in stats.keys():\n",
    "    print(stats[label_value]['mean'])"
   ]
  },
  {
   "cell_type": "code",
   "execution_count": null,
   "id": "b1bc7316",
   "metadata": {},
   "outputs": [],
   "source": [
    "def predict(x_test, stats):\n",
    "    pass\n",
    "\n",
    "\n",
    "\n",
    "def calculate(x, label_stats, prob):\n",
    "    predict = None\n",
    "    weight = 0\n",
    "    #print(f\"x={x}\")\n",
    "    for label_value in label_stats:\n",
    "        sigma = label_stats[label_value]['std']\n",
    "        mu = label_stats[label_value]['mean']\n",
    "        likelihood = norm.pdf(x, mu, sigma)\n",
    "        bayes = likelihood*prob[label_value]\n",
    "        #print(label_value, bayes)\n",
    "        if weight<=bayes:\n",
    "            weight=bayes\n",
    "            #print(f'weigh{weight}')\n",
    "            predict = label_value\n",
    "            \n",
    "            \n",
    "    return  predict\n",
    "        \n",
    "\n",
    "    \n",
    "   \n",
    "prob = train.groupby(by=label,axis=0)[label].count()/len(train[label])\n",
    " "
   ]
  },
  {
   "cell_type": "code",
   "execution_count": null,
   "id": "9f71dd4d",
   "metadata": {},
   "outputs": [],
   "source": []
  },
  {
   "cell_type": "code",
   "execution_count": null,
   "id": "c21463d9",
   "metadata": {},
   "outputs": [],
   "source": []
  },
  {
   "cell_type": "code",
   "execution_count": null,
   "id": "14cc0b33",
   "metadata": {},
   "outputs": [],
   "source": [
    "stats = get_stats(train, label = 'Survived',  feature = 'Pclass')\n",
    "prob = train.groupby(by=label,axis=0)[label].count()/len(train[label])\n",
    "\n",
    "result = train[feature].apply(calculate, label_stats=stats,prob = prob )"
   ]
  },
  {
   "cell_type": "code",
   "execution_count": null,
   "id": "a7bd4f44",
   "metadata": {},
   "outputs": [],
   "source": [
    "result"
   ]
  },
  {
   "cell_type": "code",
   "execution_count": null,
   "id": "9f92f60e",
   "metadata": {},
   "outputs": [],
   "source": [
    "from sklearn.metrics import accuracy_score"
   ]
  },
  {
   "cell_type": "code",
   "execution_count": null,
   "id": "b9ca50de",
   "metadata": {},
   "outputs": [],
   "source": [
    "accuracy_score(result, train[label])"
   ]
  },
  {
   "cell_type": "code",
   "execution_count": null,
   "id": "315bf149",
   "metadata": {},
   "outputs": [],
   "source": [
    "accuracy_score(result, train[label])"
   ]
  },
  {
   "cell_type": "code",
   "execution_count": null,
   "id": "c5594af8",
   "metadata": {},
   "outputs": [],
   "source": [
    "stats = get_stats(train, label = 'Survived',  feature = 'Sex')"
   ]
  },
  {
   "cell_type": "code",
   "execution_count": null,
   "id": "16b95181",
   "metadata": {},
   "outputs": [],
   "source": [
    "stats\n"
   ]
  },
  {
   "cell_type": "code",
   "execution_count": null,
   "id": "f57b54f6",
   "metadata": {},
   "outputs": [],
   "source": [
    "x = np.linspace(-1,2)\n",
    "yes = norm.pdf(x,stats[0]['mean'], stats[0]['std'])\n",
    "no = norm.pdf(x,stats[1]['mean'], stats[1]['std'])\n",
    "plt.plot(x,yes,label='P(x|y=survived)')\n",
    "plt.plot(x,no,label=r'P(x|y=not_survived)')\n",
    "plt.title('likelihood of Sex')\n",
    "plt.legend()"
   ]
  },
  {
   "cell_type": "code",
   "execution_count": null,
   "id": "16dfde86",
   "metadata": {},
   "outputs": [],
   "source": [
    "stats = get_stats(train, label = 'Survived',  feature = 'Sex')\n",
    "prob = train.groupby(by=label,axis=0)[label].count()/len(train[label])\n",
    "\n",
    "result = train[feature].apply(calculate, label_stats=stats,prob = prob )\n",
    "result"
   ]
  },
  {
   "cell_type": "code",
   "execution_count": null,
   "id": "bb3956c5",
   "metadata": {},
   "outputs": [],
   "source": [
    "accuracy_score(result, train[label])"
   ]
  },
  {
   "cell_type": "code",
   "execution_count": null,
   "id": "af777b6e",
   "metadata": {},
   "outputs": [],
   "source": []
  }
 ],
 "metadata": {
  "kernelspec": {
   "display_name": "Python 3",
   "language": "python",
   "name": "python3"
  },
  "language_info": {
   "codemirror_mode": {
    "name": "ipython",
    "version": 3
   },
   "file_extension": ".py",
   "mimetype": "text/x-python",
   "name": "python",
   "nbconvert_exporter": "python",
   "pygments_lexer": "ipython3",
   "version": "3.8.8"
  }
 },
 "nbformat": 4,
 "nbformat_minor": 5
}
