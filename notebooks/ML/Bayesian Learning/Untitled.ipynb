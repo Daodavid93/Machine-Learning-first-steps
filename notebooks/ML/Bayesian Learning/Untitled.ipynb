{
 "cells": [
  {
   "cell_type": "code",
   "execution_count": 1,
   "id": "bad97406",
   "metadata": {},
   "outputs": [],
   "source": [
    "import warnings\n",
    "import datetime\n",
    "\n",
    "import numpy as np\n",
    "import matplotlib.pyplot as plt\n",
    "import pandas as pd\n",
    "import seaborn as sns\n",
    "\n",
    "from sklearn.model_selection import train_test_split\n",
    "from scipy.stats import norm\n",
    "from sklearn.metrics import accuracy_score\n",
    "\n",
    "\n",
    "from IPython.display import display, Markdown , Math \n",
    "\n",
    "sns.set()\n",
    "warnings.filterwarnings('ignore')"
   ]
  },
  {
   "cell_type": "code",
   "execution_count": 2,
   "id": "9dad03e8",
   "metadata": {},
   "outputs": [],
   "source": [
    "def printmd(string): display(Markdown(string))\n",
    "def latex(out): printmd(f'{out}')  \n",
    "def pr(string): printmd('***{}***'.format(string))"
   ]
  },
  {
   "cell_type": "code",
   "execution_count": 3,
   "id": "7b2def0c",
   "metadata": {},
   "outputs": [
    {
     "data": {
      "text/html": [
       "<div>\n",
       "<style scoped>\n",
       "    .dataframe tbody tr th:only-of-type {\n",
       "        vertical-align: middle;\n",
       "    }\n",
       "\n",
       "    .dataframe tbody tr th {\n",
       "        vertical-align: top;\n",
       "    }\n",
       "\n",
       "    .dataframe thead th {\n",
       "        text-align: right;\n",
       "    }\n",
       "</style>\n",
       "<table border=\"1\" class=\"dataframe\">\n",
       "  <thead>\n",
       "    <tr style=\"text-align: right;\">\n",
       "      <th></th>\n",
       "      <th>PassengerId</th>\n",
       "      <th>Survived</th>\n",
       "      <th>Pclass</th>\n",
       "      <th>Name</th>\n",
       "      <th>Sex</th>\n",
       "      <th>Age</th>\n",
       "      <th>SibSp</th>\n",
       "      <th>Parch</th>\n",
       "      <th>Ticket</th>\n",
       "      <th>Fare</th>\n",
       "      <th>Cabin</th>\n",
       "      <th>Embarked</th>\n",
       "    </tr>\n",
       "  </thead>\n",
       "  <tbody>\n",
       "    <tr>\n",
       "      <th>0</th>\n",
       "      <td>1</td>\n",
       "      <td>0</td>\n",
       "      <td>3</td>\n",
       "      <td>Braund, Mr. Owen Harris</td>\n",
       "      <td>1</td>\n",
       "      <td>22.0</td>\n",
       "      <td>1</td>\n",
       "      <td>0</td>\n",
       "      <td>A/5 21171</td>\n",
       "      <td>7.2500</td>\n",
       "      <td>NaN</td>\n",
       "      <td>S</td>\n",
       "    </tr>\n",
       "    <tr>\n",
       "      <th>1</th>\n",
       "      <td>2</td>\n",
       "      <td>1</td>\n",
       "      <td>1</td>\n",
       "      <td>Cumings, Mrs. John Bradley (Florence Briggs Th...</td>\n",
       "      <td>0</td>\n",
       "      <td>38.0</td>\n",
       "      <td>1</td>\n",
       "      <td>0</td>\n",
       "      <td>PC 17599</td>\n",
       "      <td>71.2833</td>\n",
       "      <td>C85</td>\n",
       "      <td>C</td>\n",
       "    </tr>\n",
       "    <tr>\n",
       "      <th>2</th>\n",
       "      <td>3</td>\n",
       "      <td>1</td>\n",
       "      <td>3</td>\n",
       "      <td>Heikkinen, Miss. Laina</td>\n",
       "      <td>0</td>\n",
       "      <td>26.0</td>\n",
       "      <td>0</td>\n",
       "      <td>0</td>\n",
       "      <td>STON/O2. 3101282</td>\n",
       "      <td>7.9250</td>\n",
       "      <td>NaN</td>\n",
       "      <td>S</td>\n",
       "    </tr>\n",
       "    <tr>\n",
       "      <th>3</th>\n",
       "      <td>4</td>\n",
       "      <td>1</td>\n",
       "      <td>1</td>\n",
       "      <td>Futrelle, Mrs. Jacques Heath (Lily May Peel)</td>\n",
       "      <td>0</td>\n",
       "      <td>35.0</td>\n",
       "      <td>1</td>\n",
       "      <td>0</td>\n",
       "      <td>113803</td>\n",
       "      <td>53.1000</td>\n",
       "      <td>C123</td>\n",
       "      <td>S</td>\n",
       "    </tr>\n",
       "    <tr>\n",
       "      <th>4</th>\n",
       "      <td>5</td>\n",
       "      <td>0</td>\n",
       "      <td>3</td>\n",
       "      <td>Allen, Mr. William Henry</td>\n",
       "      <td>1</td>\n",
       "      <td>35.0</td>\n",
       "      <td>0</td>\n",
       "      <td>0</td>\n",
       "      <td>373450</td>\n",
       "      <td>8.0500</td>\n",
       "      <td>NaN</td>\n",
       "      <td>S</td>\n",
       "    </tr>\n",
       "  </tbody>\n",
       "</table>\n",
       "</div>"
      ],
      "text/plain": [
       "   PassengerId  Survived  Pclass  \\\n",
       "0            1         0       3   \n",
       "1            2         1       1   \n",
       "2            3         1       3   \n",
       "3            4         1       1   \n",
       "4            5         0       3   \n",
       "\n",
       "                                                Name  Sex   Age  SibSp  Parch  \\\n",
       "0                            Braund, Mr. Owen Harris    1  22.0      1      0   \n",
       "1  Cumings, Mrs. John Bradley (Florence Briggs Th...    0  38.0      1      0   \n",
       "2                             Heikkinen, Miss. Laina    0  26.0      0      0   \n",
       "3       Futrelle, Mrs. Jacques Heath (Lily May Peel)    0  35.0      1      0   \n",
       "4                           Allen, Mr. William Henry    1  35.0      0      0   \n",
       "\n",
       "             Ticket     Fare Cabin Embarked  \n",
       "0         A/5 21171   7.2500   NaN        S  \n",
       "1          PC 17599  71.2833   C85        C  \n",
       "2  STON/O2. 3101282   7.9250   NaN        S  \n",
       "3            113803  53.1000  C123        S  \n",
       "4            373450   8.0500   NaN        S  "
      ]
     },
     "execution_count": 3,
     "metadata": {},
     "output_type": "execute_result"
    }
   ],
   "source": [
    "train = pd.read_csv(\"../../../resources/data/titanic/train.csv\")\n",
    "train['Sex'] = (train['Sex']=='male').astype(int)\n",
    "train.head()"
   ]
  },
  {
   "cell_type": "markdown",
   "id": "6567056a",
   "metadata": {},
   "source": [
    "<h2> Invwstigation of likehood and baysian throw features </h2>"
   ]
  },
  {
   "cell_type": "code",
   "execution_count": 4,
   "id": "bfbc85f2",
   "metadata": {},
   "outputs": [
    {
     "data": {
      "text/html": [
       "<div>\n",
       "<style scoped>\n",
       "    .dataframe tbody tr th:only-of-type {\n",
       "        vertical-align: middle;\n",
       "    }\n",
       "\n",
       "    .dataframe tbody tr th {\n",
       "        vertical-align: top;\n",
       "    }\n",
       "\n",
       "    .dataframe thead th {\n",
       "        text-align: right;\n",
       "    }\n",
       "</style>\n",
       "<table border=\"1\" class=\"dataframe\">\n",
       "  <thead>\n",
       "    <tr style=\"text-align: right;\">\n",
       "      <th></th>\n",
       "      <th>PassengerId</th>\n",
       "      <th>Survived</th>\n",
       "      <th>Pclass</th>\n",
       "      <th>Sex</th>\n",
       "      <th>Age</th>\n",
       "      <th>SibSp</th>\n",
       "      <th>Parch</th>\n",
       "      <th>Fare</th>\n",
       "    </tr>\n",
       "  </thead>\n",
       "  <tbody>\n",
       "    <tr>\n",
       "      <th>count</th>\n",
       "      <td>342.000000</td>\n",
       "      <td>342.0</td>\n",
       "      <td>342.000000</td>\n",
       "      <td>342.000000</td>\n",
       "      <td>290.000000</td>\n",
       "      <td>342.000000</td>\n",
       "      <td>342.000000</td>\n",
       "      <td>342.000000</td>\n",
       "    </tr>\n",
       "    <tr>\n",
       "      <th>mean</th>\n",
       "      <td>444.368421</td>\n",
       "      <td>1.0</td>\n",
       "      <td>1.950292</td>\n",
       "      <td>0.318713</td>\n",
       "      <td>28.343690</td>\n",
       "      <td>0.473684</td>\n",
       "      <td>0.464912</td>\n",
       "      <td>48.395408</td>\n",
       "    </tr>\n",
       "    <tr>\n",
       "      <th>std</th>\n",
       "      <td>252.358840</td>\n",
       "      <td>0.0</td>\n",
       "      <td>0.863321</td>\n",
       "      <td>0.466660</td>\n",
       "      <td>14.950952</td>\n",
       "      <td>0.708688</td>\n",
       "      <td>0.771712</td>\n",
       "      <td>66.596998</td>\n",
       "    </tr>\n",
       "    <tr>\n",
       "      <th>min</th>\n",
       "      <td>2.000000</td>\n",
       "      <td>1.0</td>\n",
       "      <td>1.000000</td>\n",
       "      <td>0.000000</td>\n",
       "      <td>0.420000</td>\n",
       "      <td>0.000000</td>\n",
       "      <td>0.000000</td>\n",
       "      <td>0.000000</td>\n",
       "    </tr>\n",
       "    <tr>\n",
       "      <th>25%</th>\n",
       "      <td>250.750000</td>\n",
       "      <td>1.0</td>\n",
       "      <td>1.000000</td>\n",
       "      <td>0.000000</td>\n",
       "      <td>19.000000</td>\n",
       "      <td>0.000000</td>\n",
       "      <td>0.000000</td>\n",
       "      <td>12.475000</td>\n",
       "    </tr>\n",
       "    <tr>\n",
       "      <th>50%</th>\n",
       "      <td>439.500000</td>\n",
       "      <td>1.0</td>\n",
       "      <td>2.000000</td>\n",
       "      <td>0.000000</td>\n",
       "      <td>28.000000</td>\n",
       "      <td>0.000000</td>\n",
       "      <td>0.000000</td>\n",
       "      <td>26.000000</td>\n",
       "    </tr>\n",
       "    <tr>\n",
       "      <th>75%</th>\n",
       "      <td>651.500000</td>\n",
       "      <td>1.0</td>\n",
       "      <td>3.000000</td>\n",
       "      <td>1.000000</td>\n",
       "      <td>36.000000</td>\n",
       "      <td>1.000000</td>\n",
       "      <td>1.000000</td>\n",
       "      <td>57.000000</td>\n",
       "    </tr>\n",
       "    <tr>\n",
       "      <th>max</th>\n",
       "      <td>890.000000</td>\n",
       "      <td>1.0</td>\n",
       "      <td>3.000000</td>\n",
       "      <td>1.000000</td>\n",
       "      <td>80.000000</td>\n",
       "      <td>4.000000</td>\n",
       "      <td>5.000000</td>\n",
       "      <td>512.329200</td>\n",
       "    </tr>\n",
       "  </tbody>\n",
       "</table>\n",
       "</div>"
      ],
      "text/plain": [
       "       PassengerId  Survived      Pclass         Sex         Age       SibSp  \\\n",
       "count   342.000000     342.0  342.000000  342.000000  290.000000  342.000000   \n",
       "mean    444.368421       1.0    1.950292    0.318713   28.343690    0.473684   \n",
       "std     252.358840       0.0    0.863321    0.466660   14.950952    0.708688   \n",
       "min       2.000000       1.0    1.000000    0.000000    0.420000    0.000000   \n",
       "25%     250.750000       1.0    1.000000    0.000000   19.000000    0.000000   \n",
       "50%     439.500000       1.0    2.000000    0.000000   28.000000    0.000000   \n",
       "75%     651.500000       1.0    3.000000    1.000000   36.000000    1.000000   \n",
       "max     890.000000       1.0    3.000000    1.000000   80.000000    4.000000   \n",
       "\n",
       "            Parch        Fare  \n",
       "count  342.000000  342.000000  \n",
       "mean     0.464912   48.395408  \n",
       "std      0.771712   66.596998  \n",
       "min      0.000000    0.000000  \n",
       "25%      0.000000   12.475000  \n",
       "50%      0.000000   26.000000  \n",
       "75%      1.000000   57.000000  \n",
       "max      5.000000  512.329200  "
      ]
     },
     "execution_count": 4,
     "metadata": {},
     "output_type": "execute_result"
    }
   ],
   "source": [
    "label= 'Survived'\n",
    "for i in train[label].unique():\n",
    "        stats = train[train[label] == i].describe()\n",
    "        \n",
    "stats"
   ]
  },
  {
   "cell_type": "code",
   "execution_count": 5,
   "id": "d0f3f6b2",
   "metadata": {},
   "outputs": [],
   "source": [
    "def get_stats(data, label):\n",
    "    result = {}\n",
    "    for i in train[label].unique():\n",
    "        stats = train[train[label] == i].describe()  #[feature]\n",
    "        result[i] = stats\n",
    "    \n",
    "    return result"
   ]
  },
  {
   "cell_type": "code",
   "execution_count": 6,
   "id": "f09ac6ab",
   "metadata": {},
   "outputs": [],
   "source": [
    "label = 'Survived'\n",
    "feature = 'Pclass'"
   ]
  },
  {
   "cell_type": "code",
   "execution_count": 7,
   "id": "6aa7ae27",
   "metadata": {},
   "outputs": [
    {
     "data": {
      "text/html": [
       "<div>\n",
       "<style scoped>\n",
       "    .dataframe tbody tr th:only-of-type {\n",
       "        vertical-align: middle;\n",
       "    }\n",
       "\n",
       "    .dataframe tbody tr th {\n",
       "        vertical-align: top;\n",
       "    }\n",
       "\n",
       "    .dataframe thead th {\n",
       "        text-align: right;\n",
       "    }\n",
       "</style>\n",
       "<table border=\"1\" class=\"dataframe\">\n",
       "  <thead>\n",
       "    <tr style=\"text-align: right;\">\n",
       "      <th></th>\n",
       "      <th>PassengerId</th>\n",
       "      <th>Survived</th>\n",
       "      <th>Pclass</th>\n",
       "      <th>Sex</th>\n",
       "      <th>Age</th>\n",
       "      <th>SibSp</th>\n",
       "      <th>Parch</th>\n",
       "      <th>Fare</th>\n",
       "    </tr>\n",
       "  </thead>\n",
       "  <tbody>\n",
       "    <tr>\n",
       "      <th>count</th>\n",
       "      <td>549.000000</td>\n",
       "      <td>549.0</td>\n",
       "      <td>549.000000</td>\n",
       "      <td>549.000000</td>\n",
       "      <td>424.000000</td>\n",
       "      <td>549.000000</td>\n",
       "      <td>549.000000</td>\n",
       "      <td>549.000000</td>\n",
       "    </tr>\n",
       "    <tr>\n",
       "      <th>mean</th>\n",
       "      <td>447.016393</td>\n",
       "      <td>0.0</td>\n",
       "      <td>2.531876</td>\n",
       "      <td>0.852459</td>\n",
       "      <td>30.626179</td>\n",
       "      <td>0.553734</td>\n",
       "      <td>0.329690</td>\n",
       "      <td>22.117887</td>\n",
       "    </tr>\n",
       "    <tr>\n",
       "      <th>std</th>\n",
       "      <td>260.640469</td>\n",
       "      <td>0.0</td>\n",
       "      <td>0.735805</td>\n",
       "      <td>0.354968</td>\n",
       "      <td>14.172110</td>\n",
       "      <td>1.288399</td>\n",
       "      <td>0.823166</td>\n",
       "      <td>31.388207</td>\n",
       "    </tr>\n",
       "    <tr>\n",
       "      <th>min</th>\n",
       "      <td>1.000000</td>\n",
       "      <td>0.0</td>\n",
       "      <td>1.000000</td>\n",
       "      <td>0.000000</td>\n",
       "      <td>1.000000</td>\n",
       "      <td>0.000000</td>\n",
       "      <td>0.000000</td>\n",
       "      <td>0.000000</td>\n",
       "    </tr>\n",
       "    <tr>\n",
       "      <th>25%</th>\n",
       "      <td>211.000000</td>\n",
       "      <td>0.0</td>\n",
       "      <td>2.000000</td>\n",
       "      <td>1.000000</td>\n",
       "      <td>21.000000</td>\n",
       "      <td>0.000000</td>\n",
       "      <td>0.000000</td>\n",
       "      <td>7.854200</td>\n",
       "    </tr>\n",
       "    <tr>\n",
       "      <th>50%</th>\n",
       "      <td>455.000000</td>\n",
       "      <td>0.0</td>\n",
       "      <td>3.000000</td>\n",
       "      <td>1.000000</td>\n",
       "      <td>28.000000</td>\n",
       "      <td>0.000000</td>\n",
       "      <td>0.000000</td>\n",
       "      <td>10.500000</td>\n",
       "    </tr>\n",
       "    <tr>\n",
       "      <th>75%</th>\n",
       "      <td>675.000000</td>\n",
       "      <td>0.0</td>\n",
       "      <td>3.000000</td>\n",
       "      <td>1.000000</td>\n",
       "      <td>39.000000</td>\n",
       "      <td>1.000000</td>\n",
       "      <td>0.000000</td>\n",
       "      <td>26.000000</td>\n",
       "    </tr>\n",
       "    <tr>\n",
       "      <th>max</th>\n",
       "      <td>891.000000</td>\n",
       "      <td>0.0</td>\n",
       "      <td>3.000000</td>\n",
       "      <td>1.000000</td>\n",
       "      <td>74.000000</td>\n",
       "      <td>8.000000</td>\n",
       "      <td>6.000000</td>\n",
       "      <td>263.000000</td>\n",
       "    </tr>\n",
       "  </tbody>\n",
       "</table>\n",
       "</div>"
      ],
      "text/plain": [
       "       PassengerId  Survived      Pclass         Sex         Age       SibSp  \\\n",
       "count   549.000000     549.0  549.000000  549.000000  424.000000  549.000000   \n",
       "mean    447.016393       0.0    2.531876    0.852459   30.626179    0.553734   \n",
       "std     260.640469       0.0    0.735805    0.354968   14.172110    1.288399   \n",
       "min       1.000000       0.0    1.000000    0.000000    1.000000    0.000000   \n",
       "25%     211.000000       0.0    2.000000    1.000000   21.000000    0.000000   \n",
       "50%     455.000000       0.0    3.000000    1.000000   28.000000    0.000000   \n",
       "75%     675.000000       0.0    3.000000    1.000000   39.000000    1.000000   \n",
       "max     891.000000       0.0    3.000000    1.000000   74.000000    8.000000   \n",
       "\n",
       "            Parch        Fare  \n",
       "count  549.000000  549.000000  \n",
       "mean     0.329690   22.117887  \n",
       "std      0.823166   31.388207  \n",
       "min      0.000000    0.000000  \n",
       "25%      0.000000    7.854200  \n",
       "50%      0.000000   10.500000  \n",
       "75%      0.000000   26.000000  \n",
       "max      6.000000  263.000000  "
      ]
     },
     "execution_count": 7,
     "metadata": {},
     "output_type": "execute_result"
    }
   ],
   "source": [
    "\n",
    "stats = get_stats(train, label = label)\n",
    "stats[0]"
   ]
  },
  {
   "cell_type": "code",
   "execution_count": 8,
   "id": "5b8eab95",
   "metadata": {
    "scrolled": true
   },
   "outputs": [
    {
     "data": {
      "text/plain": [
       "<matplotlib.legend.Legend at 0x21ebde79ee0>"
      ]
     },
     "execution_count": 8,
     "metadata": {},
     "output_type": "execute_result"
    },
    {
     "data": {
      "image/png": "[encoded data removed]",
      "text/plain": [
       "<Figure size 432x288 with 1 Axes>"
      ]
     },
     "metadata": {},
     "output_type": "display_data"
    }
   ],
   "source": [
    "x = np.linspace(0.5,3.5)\n",
    "for label_value in stats:\n",
    "    y = norm.pdf(x, stats[label_value][feature]['mean'], stats[label_value][feature]['std'])\n",
    "    plt.plot(x,y,label=r'P(x|{}={})'.format(label,label_value))\n",
    "plt.legend()    "
   ]
  },
  {
   "cell_type": "code",
   "execution_count": 9,
   "id": "349921cb",
   "metadata": {},
   "outputs": [
    {
     "data": {
      "text/plain": [
       "<matplotlib.legend.Legend at 0x21ebe607c70>"
      ]
     },
     "execution_count": 9,
     "metadata": {},
     "output_type": "execute_result"
    },
    {
     "data": {
      "image/png": "[encoded data removed]",
      "text/plain": [
       "<Figure size 432x288 with 1 Axes>"
      ]
     },
     "metadata": {},
     "output_type": "display_data"
    }
   ],
   "source": [
    "feature = 'Fare'\n",
    "x = np.linspace(-200,264)\n",
    "for label_value in stats:\n",
    "    y = norm.pdf(x, stats[label_value][feature]['mean'], stats[label_value][feature]['std'])\n",
    "    plt.plot(x,y,label=r'P(x|{}={})'.format(label,label_value))\n",
    "plt.legend()  "
   ]
  },
  {
   "cell_type": "markdown",
   "id": "6bad7e13",
   "metadata": {},
   "source": [
    "from above graphic we can figure out the likelihood functions of Pclass for survived and not survivded.For class=1 the likehood for survive is hohher the not sur ....."
   ]
  },
  {
   "cell_type": "code",
   "execution_count": 10,
   "id": "4cc5a823",
   "metadata": {},
   "outputs": [
    {
     "data": {
      "text/plain": [
       "Survived\n",
       "0    0.616162\n",
       "1    0.383838\n",
       "Name: Survived, dtype: float64"
      ]
     },
     "execution_count": 10,
     "metadata": {},
     "output_type": "execute_result"
    }
   ],
   "source": [
    "prob = train.groupby(by=label,axis=0)[label].count()/len(train[label])\n",
    "prob"
   ]
  },
  {
   "cell_type": "markdown",
   "id": "a8303380",
   "metadata": {},
   "source": [
    "we can calculate baysian $$P(y| x_1,x_2,...,x_n ) \\propto p(y)\\prod_{i=0}^{n}P(x_i|y)$$\n",
    "\n",
    " $$ p(survived=1)P(x|survived=1)$$\n",
    "  $$ p(survived=0)P(x|survived=0)$$"
   ]
  },
  {
   "cell_type": "code",
   "execution_count": 28,
   "id": "59813b17",
   "metadata": {},
   "outputs": [
    {
     "data": {
      "text/plain": [
       "{0:        PassengerId  Survived      Pclass         Sex         Age       SibSp  \\\n",
       " count   549.000000     549.0  549.000000  549.000000  424.000000  549.000000   \n",
       " mean    447.016393       0.0    2.531876    0.852459   30.626179    0.553734   \n",
       " std     260.640469       0.0    0.735805    0.354968   14.172110    1.288399   \n",
       " min       1.000000       0.0    1.000000    0.000000    1.000000    0.000000   \n",
       " 25%     211.000000       0.0    2.000000    1.000000   21.000000    0.000000   \n",
       " 50%     455.000000       0.0    3.000000    1.000000   28.000000    0.000000   \n",
       " 75%     675.000000       0.0    3.000000    1.000000   39.000000    1.000000   \n",
       " max     891.000000       0.0    3.000000    1.000000   74.000000    8.000000   \n",
       " \n",
       "             Parch        Fare  \n",
       " count  549.000000  549.000000  \n",
       " mean     0.329690   22.117887  \n",
       " std      0.823166   31.388207  \n",
       " min      0.000000    0.000000  \n",
       " 25%      0.000000    7.854200  \n",
       " 50%      0.000000   10.500000  \n",
       " 75%      0.000000   26.000000  \n",
       " max      6.000000  263.000000  ,\n",
       " 1:        PassengerId  Survived      Pclass         Sex         Age       SibSp  \\\n",
       " count   342.000000     342.0  342.000000  342.000000  290.000000  342.000000   \n",
       " mean    444.368421       1.0    1.950292    0.318713   28.343690    0.473684   \n",
       " std     252.358840       0.0    0.863321    0.466660   14.950952    0.708688   \n",
       " min       2.000000       1.0    1.000000    0.000000    0.420000    0.000000   \n",
       " 25%     250.750000       1.0    1.000000    0.000000   19.000000    0.000000   \n",
       " 50%     439.500000       1.0    2.000000    0.000000   28.000000    0.000000   \n",
       " 75%     651.500000       1.0    3.000000    1.000000   36.000000    1.000000   \n",
       " max     890.000000       1.0    3.000000    1.000000   80.000000    4.000000   \n",
       " \n",
       "             Parch        Fare  \n",
       " count  342.000000  342.000000  \n",
       " mean     0.464912   48.395408  \n",
       " std      0.771712   66.596998  \n",
       " min      0.000000    0.000000  \n",
       " 25%      0.000000   12.475000  \n",
       " 50%      0.000000   26.000000  \n",
       " 75%      1.000000   57.000000  \n",
       " max      5.000000  512.329200  }"
      ]
     },
     "execution_count": 28,
     "metadata": {},
     "output_type": "execute_result"
    }
   ],
   "source": [
    "stats"
   ]
  },
  {
   "cell_type": "code",
   "execution_count": 30,
   "id": "771c9a31",
   "metadata": {},
   "outputs": [
    {
     "name": "stdout",
     "output_type": "stream",
     "text": [
      "0\n",
      "1\n"
     ]
    }
   ],
   "source": [
    "for label_value in stats:\n",
    "    print(label_value)    "
   ]
  },
  {
   "cell_type": "code",
   "execution_count": 33,
   "id": "ea0ee31e",
   "metadata": {
    "scrolled": true
   },
   "outputs": [
    {
     "data": {
      "text/plain": [
       "<matplotlib.legend.Legend at 0x21ebe777c40>"
      ]
     },
     "execution_count": 33,
     "metadata": {},
     "output_type": "execute_result"
    },
    {
     "data": {
      "image/png": "[encoded data removed]",
      "text/plain": [
       "<Figure size 432x288 with 1 Axes>"
      ]
     },
     "metadata": {},
     "output_type": "display_data"
    }
   ],
   "source": [
    "x = np.linspace(0.5,3.5)\n",
    "for label_value in stats:\n",
    "    y = norm.pdf(x, stats[label_value]['Pclass']['mean'], stats[label_value]['Pclass']['std'])*prob[label_value]\n",
    "    plt.plot(x,y,label=r'P(x|{}={}).p({}={})'.format(label,label_value,label,label_value))\n",
    "plt.legend()    "
   ]
  },
  {
   "cell_type": "markdown",
   "id": "b9e61398",
   "metadata": {},
   "source": [
    "Including some baysian \"?\" we see that for $P_class=2$ likeli hood is different from just likehood ? ...................."
   ]
  },
  {
   "cell_type": "markdown",
   "id": "d7eb4d27",
   "metadata": {},
   "source": [
    "we can make prediction only using \"Pclass\""
   ]
  },
  {
   "cell_type": "code",
   "execution_count": 34,
   "id": "96fa5b76",
   "metadata": {},
   "outputs": [],
   "source": [
    "stats = get_stats(train, label = label)\n",
    "def likelihood_table(x, label_stats ):\n",
    "    #print('s',x.name)\n",
    "    #print('s',x)\n",
    "    result = {}\n",
    "    for label_value in label_stats:\n",
    "        print(type(x))\n",
    "        print(x.name)\n",
    "        print(label_value)\n",
    "        stats_feature = label_stats[label_value][x.name]\n",
    "        sigma = stats_feature['std']\n",
    "        mu = stats_feature['mean']\n",
    "        likelihood = norm.pdf(x, mu, sigma)\n",
    "        #print('lik',likelihood)\n",
    "        #print(\"name\",x.name)\n",
    "        #print('ww')\n",
    "        result[label_value] = likelihood\n",
    "        \n",
    "    return result    "
   ]
  },
  {
   "cell_type": "code",
   "execution_count": null,
   "id": "2b9080f0",
   "metadata": {},
   "outputs": [],
   "source": []
  },
  {
   "cell_type": "code",
   "execution_count": 35,
   "id": "cd0cc964",
   "metadata": {},
   "outputs": [
    {
     "name": "stdout",
     "output_type": "stream",
     "text": [
      "<class 'pandas.core.series.Series'>\n",
      "Pclass\n",
      "0\n",
      "<class 'pandas.core.series.Series'>\n",
      "Pclass\n",
      "1\n",
      "<class 'pandas.core.series.Series'>\n",
      "Sex\n",
      "0\n",
      "<class 'pandas.core.series.Series'>\n",
      "Sex\n",
      "1\n"
     ]
    }
   ],
   "source": [
    "result = train[['Pclass','Sex']].apply(likelihood_table, label_stats=stats)"
   ]
  },
  {
   "cell_type": "code",
   "execution_count": 36,
   "id": "e05dc87a",
   "metadata": {},
   "outputs": [
    {
     "data": {
      "text/plain": [
       "Pclass    {0: [0.4428484217683414, 0.06208117442645968, ...\n",
       "Sex       {0: [1.0308758425089206, 0.06286050647427982, ...\n",
       "dtype: object"
      ]
     },
     "execution_count": 36,
     "metadata": {},
     "output_type": "execute_result"
    }
   ],
   "source": [
    "result"
   ]
  },
  {
   "cell_type": "code",
   "execution_count": 37,
   "id": "10d1b6f1",
   "metadata": {},
   "outputs": [
    {
     "data": {
      "text/html": [
       "<div>\n",
       "<style scoped>\n",
       "    .dataframe tbody tr th:only-of-type {\n",
       "        vertical-align: middle;\n",
       "    }\n",
       "\n",
       "    .dataframe tbody tr th {\n",
       "        vertical-align: top;\n",
       "    }\n",
       "\n",
       "    .dataframe thead th {\n",
       "        text-align: right;\n",
       "    }\n",
       "</style>\n",
       "<table border=\"1\" class=\"dataframe\">\n",
       "  <thead>\n",
       "    <tr style=\"text-align: right;\">\n",
       "      <th></th>\n",
       "      <th>0</th>\n",
       "    </tr>\n",
       "  </thead>\n",
       "  <tbody>\n",
       "    <tr>\n",
       "      <th>Pclass</th>\n",
       "      <td>{0: [0.4428484217683414, 0.06208117442645968, ...</td>\n",
       "    </tr>\n",
       "    <tr>\n",
       "      <th>Sex</th>\n",
       "      <td>{0: [1.0308758425089206, 0.06286050647427982, ...</td>\n",
       "    </tr>\n",
       "  </tbody>\n",
       "</table>\n",
       "</div>"
      ],
      "text/plain": [
       "                                                        0\n",
       "Pclass  {0: [0.4428484217683414, 0.06208117442645968, ...\n",
       "Sex     {0: [1.0308758425089206, 0.06286050647427982, ..."
      ]
     },
     "execution_count": 37,
     "metadata": {},
     "output_type": "execute_result"
    }
   ],
   "source": [
    "pd.DataFrame(result.T)"
   ]
  },
  {
   "cell_type": "code",
   "execution_count": 38,
   "id": "d438409c",
   "metadata": {},
   "outputs": [],
   "source": [
    "not_survived = result['Pclass'][0]*result['Sex'][0]*prob[0]\n",
    "survived = result['Pclass'][1]*result['Sex'][1]*prob[1]"
   ]
  },
  {
   "cell_type": "code",
   "execution_count": 39,
   "id": "6487631a",
   "metadata": {},
   "outputs": [],
   "source": [
    "predict = (survived>not_survived).astype(int)"
   ]
  },
  {
   "cell_type": "code",
   "execution_count": 40,
   "id": "dd3b2731",
   "metadata": {},
   "outputs": [
    {
     "data": {
      "text/plain": [
       "0.7867564534231201"
      ]
     },
     "execution_count": 40,
     "metadata": {},
     "output_type": "execute_result"
    }
   ],
   "source": [
    "accuracy_score(predict, train[label])"
   ]
  },
  {
   "cell_type": "code",
   "execution_count": 41,
   "id": "779aa1cf",
   "metadata": {},
   "outputs": [
    {
     "name": "stdout",
     "output_type": "stream",
     "text": [
      "<class 'pandas.core.series.Series'>\n",
      "Pclass\n",
      "0\n",
      "<class 'pandas.core.series.Series'>\n",
      "Pclass\n",
      "1\n"
     ]
    },
    {
     "data": {
      "text/plain": [
       "0.6790123456790124"
      ]
     },
     "execution_count": 41,
     "metadata": {},
     "output_type": "execute_result"
    }
   ],
   "source": [
    "result = train[['Pclass']].apply(likelihood_table, label_stats=stats)\n",
    "not_survived = result['Pclass'][0]*prob[0]\n",
    "survived = result['Pclass'][1]*prob[1]\n",
    "predict = (survived>not_survived).astype(int)\n",
    "accuracy_score(predict, train[label])"
   ]
  },
  {
   "cell_type": "code",
   "execution_count": 42,
   "id": "a4f45613",
   "metadata": {},
   "outputs": [
    {
     "data": {
      "text/plain": [
       "Index(['PassengerId', 'Survived', 'Pclass', 'Name', 'Sex', 'Age', 'SibSp',\n",
       "       'Parch', 'Ticket', 'Fare', 'Cabin', 'Embarked'],\n",
       "      dtype='object')"
      ]
     },
     "execution_count": 42,
     "metadata": {},
     "output_type": "execute_result"
    }
   ],
   "source": [
    "train.columns"
   ]
  },
  {
   "cell_type": "code",
   "execution_count": 21,
   "id": "10b73f0d",
   "metadata": {},
   "outputs": [
    {
     "data": {
      "text/plain": [
       "Pclass    {0: [0.4428484217683414, 0.06208117442645968, ...\n",
       "dtype: object"
      ]
     },
     "execution_count": 21,
     "metadata": {},
     "output_type": "execute_result"
    }
   ],
   "source": [
    "result"
   ]
  },
  {
   "cell_type": "code",
   "execution_count": 43,
   "id": "1bf5742f",
   "metadata": {},
   "outputs": [
    {
     "name": "stdout",
     "output_type": "stream",
     "text": [
      "<class 'pandas.core.series.Series'>\n",
      "Pclass\n",
      "0\n",
      "<class 'pandas.core.series.Series'>\n",
      "Pclass\n",
      "1\n",
      "<class 'pandas.core.series.Series'>\n",
      "Sex\n",
      "0\n",
      "<class 'pandas.core.series.Series'>\n",
      "Sex\n",
      "1\n",
      "<class 'pandas.core.series.Series'>\n",
      "Fare\n",
      "0\n",
      "<class 'pandas.core.series.Series'>\n",
      "Fare\n",
      "1\n",
      "<class 'pandas.core.series.Series'>\n",
      "Age\n",
      "0\n",
      "<class 'pandas.core.series.Series'>\n",
      "Age\n",
      "1\n",
      "<class 'pandas.core.series.Series'>\n",
      "SibSp\n",
      "0\n",
      "<class 'pandas.core.series.Series'>\n",
      "SibSp\n",
      "1\n"
     ]
    },
    {
     "data": {
      "text/plain": [
       "0.7643097643097643"
      ]
     },
     "execution_count": 43,
     "metadata": {},
     "output_type": "execute_result"
    }
   ],
   "source": [
    "result = train[['Pclass','Sex','Fare','Age','SibSp']].apply(likelihood_table, label_stats=stats)\n",
    "not_survived = result['Pclass'][0]*result['Sex'][0]*result['Fare'][0]*result['Age'][0]*result['SibSp'][0]*prob[0]\n",
    "survived = result['Pclass'][1]*result['Sex'][1]*result['Fare'][1]*result['Age'][1]*result['SibSp'][1]*prob[1]\n",
    "predict = (survived>=not_survived).astype(int)\n",
    "accuracy_score(predict, train[label])"
   ]
  },
  {
   "cell_type": "code",
   "execution_count": 23,
   "id": "674cfd15",
   "metadata": {},
   "outputs": [],
   "source": [
    "from sklearn.naive_bayes import GaussianNB"
   ]
  },
  {
   "cell_type": "code",
   "execution_count": 44,
   "id": "3835b831",
   "metadata": {},
   "outputs": [
    {
     "data": {
      "text/html": [
       "<div>\n",
       "<style scoped>\n",
       "    .dataframe tbody tr th:only-of-type {\n",
       "        vertical-align: middle;\n",
       "    }\n",
       "\n",
       "    .dataframe tbody tr th {\n",
       "        vertical-align: top;\n",
       "    }\n",
       "\n",
       "    .dataframe thead th {\n",
       "        text-align: right;\n",
       "    }\n",
       "</style>\n",
       "<table border=\"1\" class=\"dataframe\">\n",
       "  <thead>\n",
       "    <tr style=\"text-align: right;\">\n",
       "      <th></th>\n",
       "      <th>Pclass</th>\n",
       "      <th>Sex</th>\n",
       "      <th>Fare</th>\n",
       "      <th>Age</th>\n",
       "      <th>SibSp</th>\n",
       "    </tr>\n",
       "  </thead>\n",
       "  <tbody>\n",
       "    <tr>\n",
       "      <th>0</th>\n",
       "      <td>3</td>\n",
       "      <td>1</td>\n",
       "      <td>7.2500</td>\n",
       "      <td>22.0</td>\n",
       "      <td>1</td>\n",
       "    </tr>\n",
       "    <tr>\n",
       "      <th>1</th>\n",
       "      <td>1</td>\n",
       "      <td>0</td>\n",
       "      <td>71.2833</td>\n",
       "      <td>38.0</td>\n",
       "      <td>1</td>\n",
       "    </tr>\n",
       "    <tr>\n",
       "      <th>2</th>\n",
       "      <td>3</td>\n",
       "      <td>0</td>\n",
       "      <td>7.9250</td>\n",
       "      <td>26.0</td>\n",
       "      <td>0</td>\n",
       "    </tr>\n",
       "    <tr>\n",
       "      <th>3</th>\n",
       "      <td>1</td>\n",
       "      <td>0</td>\n",
       "      <td>53.1000</td>\n",
       "      <td>35.0</td>\n",
       "      <td>1</td>\n",
       "    </tr>\n",
       "    <tr>\n",
       "      <th>4</th>\n",
       "      <td>3</td>\n",
       "      <td>1</td>\n",
       "      <td>8.0500</td>\n",
       "      <td>35.0</td>\n",
       "      <td>0</td>\n",
       "    </tr>\n",
       "    <tr>\n",
       "      <th>...</th>\n",
       "      <td>...</td>\n",
       "      <td>...</td>\n",
       "      <td>...</td>\n",
       "      <td>...</td>\n",
       "      <td>...</td>\n",
       "    </tr>\n",
       "    <tr>\n",
       "      <th>886</th>\n",
       "      <td>2</td>\n",
       "      <td>1</td>\n",
       "      <td>13.0000</td>\n",
       "      <td>27.0</td>\n",
       "      <td>0</td>\n",
       "    </tr>\n",
       "    <tr>\n",
       "      <th>887</th>\n",
       "      <td>1</td>\n",
       "      <td>0</td>\n",
       "      <td>30.0000</td>\n",
       "      <td>19.0</td>\n",
       "      <td>0</td>\n",
       "    </tr>\n",
       "    <tr>\n",
       "      <th>888</th>\n",
       "      <td>3</td>\n",
       "      <td>0</td>\n",
       "      <td>23.4500</td>\n",
       "      <td>NaN</td>\n",
       "      <td>1</td>\n",
       "    </tr>\n",
       "    <tr>\n",
       "      <th>889</th>\n",
       "      <td>1</td>\n",
       "      <td>1</td>\n",
       "      <td>30.0000</td>\n",
       "      <td>26.0</td>\n",
       "      <td>0</td>\n",
       "    </tr>\n",
       "    <tr>\n",
       "      <th>890</th>\n",
       "      <td>3</td>\n",
       "      <td>1</td>\n",
       "      <td>7.7500</td>\n",
       "      <td>32.0</td>\n",
       "      <td>0</td>\n",
       "    </tr>\n",
       "  </tbody>\n",
       "</table>\n",
       "<p>891 rows × 5 columns</p>\n",
       "</div>"
      ],
      "text/plain": [
       "     Pclass  Sex     Fare   Age  SibSp\n",
       "0         3    1   7.2500  22.0      1\n",
       "1         1    0  71.2833  38.0      1\n",
       "2         3    0   7.9250  26.0      0\n",
       "3         1    0  53.1000  35.0      1\n",
       "4         3    1   8.0500  35.0      0\n",
       "..      ...  ...      ...   ...    ...\n",
       "886       2    1  13.0000  27.0      0\n",
       "887       1    0  30.0000  19.0      0\n",
       "888       3    0  23.4500   NaN      1\n",
       "889       1    1  30.0000  26.0      0\n",
       "890       3    1   7.7500  32.0      0\n",
       "\n",
       "[891 rows x 5 columns]"
      ]
     },
     "execution_count": 44,
     "metadata": {},
     "output_type": "execute_result"
    }
   ],
   "source": [
    "gnb = GaussianNB()\n",
    "train[['Pclass','Sex','Fare','Age','SibSp']]"
   ]
  },
  {
   "cell_type": "code",
   "execution_count": 45,
   "id": "0681f1be",
   "metadata": {},
   "outputs": [
    {
     "data": {
      "text/plain": [
       "GaussianNB()"
      ]
     },
     "execution_count": 45,
     "metadata": {},
     "output_type": "execute_result"
    }
   ],
   "source": [
    "gnb.fit(train[['Pclass','Sex']],train['Survived'])"
   ]
  },
  {
   "cell_type": "code",
   "execution_count": 46,
   "id": "6ed5ceac",
   "metadata": {},
   "outputs": [],
   "source": [
    "predict = gnb.predict(train[['Pclass','Sex']])"
   ]
  },
  {
   "cell_type": "code",
   "execution_count": 47,
   "id": "a85836ce",
   "metadata": {},
   "outputs": [
    {
     "data": {
      "text/plain": [
       "0.7867564534231201"
      ]
     },
     "execution_count": 47,
     "metadata": {},
     "output_type": "execute_result"
    }
   ],
   "source": []
  }
 ],
 "metadata": {
  "kernelspec": {
   "display_name": "Python 3",
   "language": "python",
   "name": "python3"
  },
  "language_info": {
   "codemirror_mode": {
    "name": "ipython",
    "version": 3
   },
   "file_extension": ".py",
   "mimetype": "text/x-python",
   "name": "python",
   "nbconvert_exporter": "python",
   "pygments_lexer": "ipython3",
   "version": "3.8.8"
  }
 },
 "nbformat": 4,
 "nbformat_minor": 5
}
