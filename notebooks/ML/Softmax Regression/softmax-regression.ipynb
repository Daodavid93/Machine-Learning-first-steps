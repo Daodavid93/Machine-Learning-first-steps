{
 "cells": [
  {
   "cell_type": "code",
   "execution_count": 1,
   "id": "86a43656",
   "metadata": {},
   "outputs": [],
   "source": [
    "import warnings\n",
    "import datetime\n",
    "\n",
    "import numpy as np\n",
    "import matplotlib.pyplot as plt\n",
    "import pandas as pd\n",
    "import seaborn as sns\n",
    "\n",
    "from sklearn.model_selection import train_test_split\n",
    "from IPython.display import display, Markdown , Math \n",
    "\n",
    "sns.set()\n",
    "warnings.filterwarnings('ignore')"
   ]
  },
  {
   "cell_type": "code",
   "execution_count": 2,
   "id": "f387a27c",
   "metadata": {},
   "outputs": [],
   "source": [
    "def printmd(string): display(Markdown(string))\n",
    "def latex(out): printmd(f'{out}')  \n",
    "def pr(string): printmd('***{}***'.format(string))"
   ]
  },
  {
   "cell_type": "markdown",
   "id": "00947c5f",
   "metadata": {},
   "source": [
    "<h1> Softmax Regression </h2>"
   ]
  },
  {
   "cell_type": "markdown",
   "id": "f8cbe18c",
   "metadata": {},
   "source": [
    "<h2>\n",
    "  <p>\n",
    "    <a href =   \"https://github.com/daodavid\" > \n",
    "         author: daodeiv (David Stankov) \n",
    "       <img src=\"https://cdn.thenewstack.io/media/2014/12/github-octocat.png\" align=\"left\" width=\"120\"  alt=\"daodavid\" ></a>\n",
    "    </p>      \n",
    "</h2>   "
   ]
  },
  {
   "cell_type": "markdown",
   "id": "7e5b9fa4",
   "metadata": {},
   "source": [
    "<h6>\n",
    "  <font size=\"4\" face = \"Times New Roma\" color='#3f134f' > \n",
    "    <ul style=\"margin-left: 30px\">\n",
    "      <li><a href='#abstract'>Abstract </a> </li> <br>\n",
    "      <!--<li><a href='#int-1'>Introduction </a> </li><br> -->\n",
    "      <li><a href='#deff_softmax'>Softmaxt definition and  how it works?</a> </li><br>\n",
    "      <li><a href='#cross_entropy'>Cross-entropy Loss</a> </li><br>  \n",
    "      <li><a href='#optimization'>Optimization of softmax by Cross-entropy Loss and derivation of Gradient descent formula </a> </li><br>\n",
    "       <li><a href='#gradient'>Implementation of Gradient descent algorithm </a> </li><br> \n",
    "      <li><a href='#reg'>Regularization of gradient descent by learning rate and max iterations</a> </li><br>     \n",
    "       <li><a href='#conclusion'>Conclusion</a> </li><br>  \n",
    "        \n",
    "</ul>    \n",
    " </font>\n",
    "  </h6>\n",
    "  "
   ]
  },
  {
   "cell_type": "markdown",
   "id": "685bcee0",
   "metadata": {},
   "source": [
    "The Softmax function maybe is one of the most popular Machine learning algorithm basically, it turns arbitrary real values into probabilities, by using the exponential function. It could be considered a generalization of the sigmoid function. We could use softmax for multi-class classification furthermore it is met in many various fields of science as Statistical physics (Gibbs distributions), Quantum statistic, Information theory, and Neural networks. Softmax is much attractive in classification problems since it has a simple implementation and in many cases gives satisfying results and enough good performance.\n",
    "     "
   ]
  },
  {
   "cell_type": "markdown",
   "id": "ff347bd4",
   "metadata": {},
   "source": [
    "We gonna use the Iris dataset because it is comparatively simple and  very convenient  in the studying Machine Learning. \n"
   ]
  },
  {
   "cell_type": "code",
   "execution_count": 3,
   "id": "e396e401",
   "metadata": {},
   "outputs": [
    {
     "data": {
      "text/html": [
       "<div>\n",
       "<style scoped>\n",
       "    .dataframe tbody tr th:only-of-type {\n",
       "        vertical-align: middle;\n",
       "    }\n",
       "\n",
       "    .dataframe tbody tr th {\n",
       "        vertical-align: top;\n",
       "    }\n",
       "\n",
       "    .dataframe thead th {\n",
       "        text-align: right;\n",
       "    }\n",
       "</style>\n",
       "<table border=\"1\" class=\"dataframe\">\n",
       "  <thead>\n",
       "    <tr style=\"text-align: right;\">\n",
       "      <th></th>\n",
       "      <th>sepal_length</th>\n",
       "      <th>sepal_width</th>\n",
       "      <th>petal_length</th>\n",
       "      <th>petal_width</th>\n",
       "      <th>species</th>\n",
       "    </tr>\n",
       "  </thead>\n",
       "  <tbody>\n",
       "    <tr>\n",
       "      <th>0</th>\n",
       "      <td>5.1</td>\n",
       "      <td>3.5</td>\n",
       "      <td>1.4</td>\n",
       "      <td>0.2</td>\n",
       "      <td>Iris-setosa</td>\n",
       "    </tr>\n",
       "    <tr>\n",
       "      <th>1</th>\n",
       "      <td>4.9</td>\n",
       "      <td>3.0</td>\n",
       "      <td>1.4</td>\n",
       "      <td>0.2</td>\n",
       "      <td>Iris-setosa</td>\n",
       "    </tr>\n",
       "    <tr>\n",
       "      <th>2</th>\n",
       "      <td>4.7</td>\n",
       "      <td>3.2</td>\n",
       "      <td>1.3</td>\n",
       "      <td>0.2</td>\n",
       "      <td>Iris-setosa</td>\n",
       "    </tr>\n",
       "    <tr>\n",
       "      <th>3</th>\n",
       "      <td>4.6</td>\n",
       "      <td>3.1</td>\n",
       "      <td>1.5</td>\n",
       "      <td>0.2</td>\n",
       "      <td>Iris-setosa</td>\n",
       "    </tr>\n",
       "    <tr>\n",
       "      <th>4</th>\n",
       "      <td>5.0</td>\n",
       "      <td>3.6</td>\n",
       "      <td>1.4</td>\n",
       "      <td>0.2</td>\n",
       "      <td>Iris-setosa</td>\n",
       "    </tr>\n",
       "  </tbody>\n",
       "</table>\n",
       "</div>"
      ],
      "text/plain": [
       "   sepal_length  sepal_width  petal_length  petal_width      species\n",
       "0           5.1          3.5           1.4          0.2  Iris-setosa\n",
       "1           4.9          3.0           1.4          0.2  Iris-setosa\n",
       "2           4.7          3.2           1.3          0.2  Iris-setosa\n",
       "3           4.6          3.1           1.5          0.2  Iris-setosa\n",
       "4           5.0          3.6           1.4          0.2  Iris-setosa"
      ]
     },
     "execution_count": 3,
     "metadata": {},
     "output_type": "execute_result"
    }
   ],
   "source": [
    "iris = pd.read_csv(\"../../../resources/data/IRIS.csv\")  \n",
    "iris.head()"
   ]
  },
  {
   "cell_type": "code",
   "execution_count": 4,
   "id": "c83b7987",
   "metadata": {},
   "outputs": [
    {
     "data": {
      "text/markdown": [
       "***labels value : ['Iris-setosa' 'Iris-versicolor' 'Iris-virginica']***"
      ],
      "text/plain": [
       "<IPython.core.display.Markdown object>"
      ]
     },
     "metadata": {},
     "output_type": "display_data"
    }
   ],
   "source": [
    "pr('labels value : ' +str(iris['species'].unique()))"
   ]
  },
  {
   "cell_type": "code",
   "execution_count": 5,
   "id": "0b098187",
   "metadata": {},
   "outputs": [
    {
     "data": {
      "text/plain": [
       "<seaborn.axisgrid.FacetGrid at 0x156bcea6310>"
      ]
     },
     "execution_count": 5,
     "metadata": {},
     "output_type": "execute_result"
    },
    {
     "data": {
      "image/png": "[encoded data removed]",
      "text/plain": [
       "<Figure size 537.225x432 with 1 Axes>"
      ]
     },
     "metadata": {},
     "output_type": "display_data"
    }
   ],
   "source": [
    "sns.FacetGrid(iris,hue='species',height=6).map(plt.scatter,'sepal_length','sepal_width').add_legend()\n"
   ]
  },
  {
   "cell_type": "markdown",
   "id": "bc41c626",
   "metadata": {},
   "source": [
    " We will express the label values as <mark> one-hot encoding </mark> variables or so-called dummies variables. equation."
   ]
  },
  {
   "cell_type": "code",
   "execution_count": 6,
   "id": "acd241ca",
   "metadata": {},
   "outputs": [
    {
     "data": {
      "text/markdown": [
       "***One hode encoding representation***"
      ],
      "text/plain": [
       "<IPython.core.display.Markdown object>"
      ]
     },
     "metadata": {},
     "output_type": "display_data"
    },
    {
     "data": {
      "text/html": [
       "<div>\n",
       "<style scoped>\n",
       "    .dataframe tbody tr th:only-of-type {\n",
       "        vertical-align: middle;\n",
       "    }\n",
       "\n",
       "    .dataframe tbody tr th {\n",
       "        vertical-align: top;\n",
       "    }\n",
       "\n",
       "    .dataframe thead th {\n",
       "        text-align: right;\n",
       "    }\n",
       "</style>\n",
       "<table border=\"1\" class=\"dataframe\">\n",
       "  <thead>\n",
       "    <tr style=\"text-align: right;\">\n",
       "      <th></th>\n",
       "      <th>Iris-setosa</th>\n",
       "      <th>Iris-versicolor</th>\n",
       "      <th>Iris-virginica</th>\n",
       "    </tr>\n",
       "  </thead>\n",
       "  <tbody>\n",
       "    <tr>\n",
       "      <th>0</th>\n",
       "      <td>1</td>\n",
       "      <td>0</td>\n",
       "      <td>0</td>\n",
       "    </tr>\n",
       "    <tr>\n",
       "      <th>1</th>\n",
       "      <td>1</td>\n",
       "      <td>0</td>\n",
       "      <td>0</td>\n",
       "    </tr>\n",
       "    <tr>\n",
       "      <th>2</th>\n",
       "      <td>1</td>\n",
       "      <td>0</td>\n",
       "      <td>0</td>\n",
       "    </tr>\n",
       "    <tr>\n",
       "      <th>3</th>\n",
       "      <td>1</td>\n",
       "      <td>0</td>\n",
       "      <td>0</td>\n",
       "    </tr>\n",
       "    <tr>\n",
       "      <th>4</th>\n",
       "      <td>1</td>\n",
       "      <td>0</td>\n",
       "      <td>0</td>\n",
       "    </tr>\n",
       "  </tbody>\n",
       "</table>\n",
       "</div>"
      ],
      "text/plain": [
       "   Iris-setosa  Iris-versicolor  Iris-virginica\n",
       "0            1                0               0\n",
       "1            1                0               0\n",
       "2            1                0               0\n",
       "3            1                0               0\n",
       "4            1                0               0"
      ]
     },
     "execution_count": 6,
     "metadata": {},
     "output_type": "execute_result"
    }
   ],
   "source": [
    "x_train = iris.drop('species', axis=1)\n",
    "y_train = pd.get_dummies(iris['species'])\n",
    "pr('One hode encoding representation')\n",
    "y_train.head()"
   ]
  },
  {
   "cell_type": "code",
   "execution_count": 7,
   "id": "c27368ca",
   "metadata": {},
   "outputs": [
    {
     "data": {
      "text/markdown": [
       "***shape X :(150, 4)***"
      ],
      "text/plain": [
       "<IPython.core.display.Markdown object>"
      ]
     },
     "metadata": {},
     "output_type": "display_data"
    },
    {
     "data": {
      "text/markdown": [
       "***shape X :(150, 3)***"
      ],
      "text/plain": [
       "<IPython.core.display.Markdown object>"
      ]
     },
     "metadata": {},
     "output_type": "display_data"
    }
   ],
   "source": [
    "x_train, y_train = np.array(x_train), np.array(y_train)\n",
    "pr('shape X :'+ str(x_train.shape))\n",
    "pr('shape X :'+ str(y_train.shape))\n"
   ]
  },
  {
   "cell_type": "code",
   "execution_count": 8,
   "id": "1a2ad5f3",
   "metadata": {},
   "outputs": [],
   "source": [
    "X_train, X_test, y_train, y_test = train_test_split(x_train,y_train, test_size=0.33, random_state=42) #separats into test and train samples"
   ]
  },
  {
   "cell_type": "markdown",
   "id": "8d960beb",
   "metadata": {},
   "source": [
    "<h2  id=\"deff_softmax\" >Softmaxt definition and  how it works?</h2>\n"
   ]
  },
  {
   "cell_type": "markdown",
   "id": "b05b0b59",
   "metadata": {},
   "source": [
    " The softmax function $\\sigma: \\; \\Re^k \\; \\rightarrow \\; \\Re^k $  could be defined by formula :\n",
    "   "
   ]
  },
  {
   "cell_type": "markdown",
   "id": "59a2a90d",
   "metadata": {},
   "source": [
    "$$ (1) \\;\\; \\sigma_{softmax}({z^i})_{ij} =\\frac {e^{z_{ij}} }{ \\sum_i^k e^{z_{ik}} } $$ \n"
   ]
  },
  {
   "cell_type": "markdown",
   "id": "57bb6840",
   "metadata": {},
   "source": [
    "\n",
    "$\\; \\; z_{ij} = \\sum_p x_{ip} w_{jp} + b_j $ \n",
    " <br><br>\n",
    "$\\; \\; \\vec{z_i} = z^i= [z_{i1}, z_{i2}, ...z_{ik} ] $\n"
   ]
  },
  {
   "cell_type": "markdown",
   "id": "76fe1eb5",
   "metadata": {},
   "source": [
    " $$\\sigma_{softmax (W,b,X^{i})_{ij}}=\\frac{e^{ \\sum_p x_{ip} w_{pj} + b_j}}{\\sum_j^k e^{ \\sum_p x_{ip} w_{pj} + b_j}} $$\n"
   ]
  },
  {
   "cell_type": "markdown",
   "id": "991d0b2f",
   "metadata": {},
   "source": [
    "###### Index convetions. When we note for example $Q_{lh}$ or $q_{ih}$ we will mean the element of matrix $Q_{M\\times N}$ where $l$ refers to row $h$ to column. When we write $Q^{i}$  or  $q_{i}$ we  will assume that as vector row  $\\vec Q^{i}= [q_{i1},q_{i2},...q_{in}]\\in Q_{m\\times n}$. In eq(1) $z^i=[z_{i1}, z_{i2}, ...z_{in}] $\n",
    "</div>"
   ]
  },
  {
   "cell_type": "markdown",
   "id": "42d7c149",
   "metadata": {},
   "source": [
    " The softmax function  takes as an input a vector $z^i$ with $K$ number of component $z_{i1}, z_{i2}, ...,z_{in}$  and normalized it into  a  probability distribution $p^{i}$ consisting of also  $K$ number of probabilities  $p_{i1},...,{ik}$ proportional to exponentials of input values $z^{i}$. That is, prior to applying softmax function some vector components of $z^{i}$ could be negative or greater than 1 and  might not sum up to 1. Furthermore more the larger input components correspond to larger probabilities and $\\sum_j p_{ij}=1$. The $w_{jp}$ are the wights or estimators  $w_{pj}\\in W^{K\\times N}$ In matrix  $W^{K\\times N}$ $K$ coresponds to number of class labels and  $N$ coresponds to number of atrribute(feature) of training data, and $ b = [b_1, ...b_k]$ is bais term with component coresponds to class labels. "
   ]
  },
  {
   "cell_type": "markdown",
   "id": "db066805",
   "metadata": {},
   "source": [
    "This property of softmax function that it outputs a probability distribution makes it suitable for probabilistic interpretation in classification tasks."
   ]
  },
  {
   "cell_type": "markdown",
   "id": "8861002e",
   "metadata": {},
   "source": [
    "According to our dataset, we can write the folowing expressions."
   ]
  },
  {
   "cell_type": "markdown",
   "id": "d89cdf93",
   "metadata": {},
   "source": [
    "$W= \\begin{bmatrix} \n",
    "      weight^1\\rightarrow class \\; 1(Iris-setosa)\n",
    "      \\\\ weight^2\\rightarrow class\\;  2(Iris-versicolor) \\;  \n",
    "      \\\\ weight^{3}\\rightarrow class \\;3(Iris-virginica) \\;\n",
    "      \\end{bmatrix} =\n",
    "    \\begin{bmatrix}\n",
    "    \\vec W^1 \\\\  \\vec W^2\\  \\\\ \\vec W^3  \\end{bmatrix} =\n",
    "    \\begin{bmatrix} \n",
    "    w_{11} & w_{12} & w_{13} & w_{14}\n",
    "    \\\\ w_{21} & w_{22} & w_{23}  & w_{24}\n",
    "    \\\\ w_{31} & w_{32} & w_{33} & w_{34}\n",
    "    \\end{bmatrix}  $ &nbsp;&nbsp;&nbsp;&nbsp;  $ B= \\begin{bmatrix}  b_1 \\\\  b_2\\  \\\\  b_3  \\end{bmatrix}\\;\\;\\;$"
   ]
  },
  {
   "cell_type": "markdown",
   "id": "6a1f94bb",
   "metadata": {},
   "source": [
    "&nbsp;&nbsp;&nbsp;&nbsp; &nbsp;&nbsp;&nbsp;&nbsp;&nbsp;&nbsp; vector $\\vec W^i=[w_{i1},..w_{in}]$ is estimator vector for taget class (label) $i$ , $n$ coresponds to the feature (pridictor) of $X$ \n"
   ]
  },
  {
   "cell_type": "markdown",
   "id": "26f0f744",
   "metadata": {},
   "source": [
    "&nbsp;&nbsp;in matrix form the $Z$ is expressed as : $Z = XW^T$ \n",
    " <br> <br>\n",
    " \n",
    "  &nbsp;&nbsp;&nbsp;&nbsp;  $Z = \n",
    "    \\begin{bmatrix} x_{11} &  x_{12} & x_{13}  & x_{14} \\\\  x_{21} &  x_{22} & x_{23}  & x_{24}\\\\ ... & ... & ... & ...\\\\ x_{m1} &  x_{m2} & x_{m3}  & x_{m4} \\end{bmatrix} \\times \\begin{bmatrix}\n",
    "    w_{11} & w_{21} & w_{31} \n",
    "    \\\\ w_{12} & w_{22} & w_{32} \n",
    "    \\\\  w_{13} & w_{23} & w_{33}\n",
    "     \\\\  w_{14} & w_{24} & w_{34}\n",
    "    \\end{bmatrix} + \\begin{bmatrix}  b_1 \\\\  b_2\\  \\\\  b_3  \\end{bmatrix}  =   \\begin{bmatrix} z_{11} &  z_{12} & z_{13} \\\\  z_{21} &  z_{32} & z_{33} \\\\ ... & ... & ...  \\\\ z_{m1} &  z_{m2} & z_{m3}  \\end{bmatrix} $ <br>   \n",
    "   \n"
   ]
  },
  {
   "cell_type": "markdown",
   "id": "7b6cb056",
   "metadata": {},
   "source": [
    "&nbsp;&nbsp; The softmax function computes the probability that a training example $X^{(i)}$  belongs to class $y^{j}$ given \n",
    "    the weight  matrix $W$ and bias $\\vec b$ . <br> \n",
    "    So we compute the probability : <br>\n",
    "\n",
    "$$p_{ij}=P(y_{j} \\;| \\;z^i) = \\sigma_{softmax (z)_{ij}}=\\frac{e^{z_{ij}}}{\\sum_p^K e^{z_{ip}}} $$\n"
   ]
  },
  {
   "cell_type": "markdown",
   "id": "81924d8e",
   "metadata": {},
   "source": [
    "\n",
    "&nbsp;&nbsp; for all $P_{ij}$ and given target components  $Y = [y^1 -Iris-setosa,y^2 -Iris-versicolor,y^3- Iris-virginica]$ we can write :\n"
   ]
  },
  {
   "cell_type": "markdown",
   "id": "2d551e2a",
   "metadata": {},
   "source": [
    " $$ P = \\begin{bmatrix} p(y_{1} |z^{1})_{11} &  p(y_{2} |z_{2} )_{12}  &  p(y^{3}  |z^{3} )_{13} \n",
    "        \\\\ ... &  ...  & ...\n",
    "        \\\\ P(y_{1} |z^{m}  )_{m1} &  P(y_{m}  |z^{m}  )_{m2}  & P(y_{3}  |z^{m} )_{m3}\n",
    "        \\end{bmatrix} = \n",
    "        \\begin{bmatrix} \\frac{e^{z_{11}}}{\\sum_{1j}e^{z_{1j}}} & \\frac{e^{z_{12}}}{\\sum_{1j}e^{z_{1j}}} & \\frac{e^{z_{13}}}{\\sum_{1j}e^{z_{1j}}} \n",
    "        \\\\   \\\\ ... & ... & ...  \\\\\n",
    "        \\\\    \\frac{e^{k_{n1}}}{\\sum_{j}^3e^{z_{nj}}} & \\frac{e^{z_{n2}}}{\\sum_{j}^3e^{z_{nj}}} & \\frac{e^{z_{n3}}}{\\sum_{j}^3e^{z_{nj}}}\\end{bmatrix} $$"
   ]
  },
  {
   "cell_type": "markdown",
   "id": "910b5ae0",
   "metadata": {},
   "source": [
    "for example, the probability of record $x^1$ to belongs to target label  $y_2$ (Iris-versicolor) is calculated as:<br> <br> \n",
    "\n",
    "$$p_{12} =P(y=2 |x^{1}) = \\frac{ e^{ ^{z_{12}} } }{ \\sum_p^3 e^{z_{1p}}}=\\frac{ e^{ (^{\\sum_v^3 x_{1v}.w_{vj} + b_v }} )}{ \\sum_k^3 e^{ ^ ({\\sum_v^3 x_{1v}.w_{vk}} + b_k})}$$\n",
    "always the $p_{ij} \\in [0,1]$   and $\\sum_j p_{ij}= 1$"
   ]
  },
  {
   "cell_type": "markdown",
   "id": "6f348766",
   "metadata": {},
   "source": [
    " &nbsp; Let's see how the softmax function can be applied concretely in our training dataset.\n",
    "             First, let to define a weight matrix $W$ and bias $\\vec b$ <br> <br>\n",
    "\n",
    "\n",
    "   &nbsp;&nbsp;    $W =\\begin{bmatrix} \n",
    "    w_{11} & w_{12} & w_{13} & w_{14}\n",
    "    \\\\ w_{21} & w_{22} & w_{23}  & w_{24}\n",
    "    \\\\ w_{31} & w_{32} & w_{33} & w_{34}\n",
    "    \\end{bmatrix} \n",
    "    =  \\begin{bmatrix} 1.38618464 &  1.9151765 & -0.28863154 & 0.40849489\n",
    "              \\\\1.31642223 & 0.76753677 &  1.1482473 & 0.74274245\n",
    "              \\\\0.29739313 & 0.31728673 & 2.14038423 &  1.84876265\\end{bmatrix}$ <br> <br>\n",
    "     &nbsp;&nbsp; $B = \\begin{bmatrix}  1.18749764 \\\\ 1.16215506 \\\\0.6503473   \\end{bmatrix}  $\n",
    "\n",
    "       "
   ]
  },
  {
   "cell_type": "markdown",
   "id": "ec38e125",
   "metadata": {},
   "source": [
    " I've prepared weight vector $W$ and bias $B$ in advance, how? We will see later.\n"
   ]
  },
  {
   "cell_type": "code",
   "execution_count": 9,
   "id": "2181be67",
   "metadata": {},
   "outputs": [],
   "source": [
    "W = np.array([[ 1.38618464,  1.9151765 , -0.28863154,  0.40849489],\n",
    "        [ 1.31642223,  0.76753677,  1.1482473 ,  0.74274245],\n",
    "        [ 0.29739313,  0.31728673,  2.14038423,  1.84876265]]) # define a weight matrix\n",
    "\n",
    "b = np.array([1.18749764, 1.16215506, 0.6503473 ])  #bias vector (intercept) \n",
    "\n"
   ]
  },
  {
   "cell_type": "markdown",
   "id": "b3a83258",
   "metadata": {},
   "source": [
    " The implementation of softmax function:\n"
   ]
  },
  {
   "cell_type": "code",
   "execution_count": 10,
   "id": "928bcf83",
   "metadata": {},
   "outputs": [],
   "source": [
    "def softmax(X, weight, b):\n",
    "    '''\n",
    "    perform softmax function\n",
    "    \n",
    "    Parameters :\n",
    "    X : ndarray\n",
    "       train data\n",
    "    weight : ndarray\n",
    "       weght matrix\n",
    "    b : ndarray \n",
    "        bias vector        \n",
    "\n",
    "    Returns \n",
    "       ndarray \n",
    "    '''\n",
    "   \n",
    "    #dot product between X_data matrix  and tranposed Weight_ matrix added to Bias  gives matrix each z_ij\n",
    "    Z = X.dot(weight.T)\n",
    "\n",
    "    #return matrix cosist of exponentials Z input net\n",
    "    exp_z = np.exp(Z)\n",
    "\n",
    "    #array contains sum  of every row  (e^z_{ik})\n",
    "    sums=np.sum(exp_z, axis=1) \n",
    "    \n",
    "    #return softmax(Z)_{ij}\n",
    "    return (exp_z.T/sums).T \n",
    "\n",
    "\n",
    "def accuracy(Y, P):\n",
    "    '''\n",
    "    evualate accuracy of dummies variable\n",
    "    \n",
    "    Parameters :\n",
    "    Y_target : ndarray\n",
    "      actual real values \n",
    "    P : ndarray\n",
    "     predicted values (probability)\n",
    "    Return\n",
    "      float\n",
    "    '''\n",
    "        \n",
    "    C =  np.argmax(Y, axis=1)==np.argmax(P, axis=1)\n",
    "    D = np.where(C==True)\n",
    "    return len(D[0])/len(C)"
   ]
  },
  {
   "cell_type": "code",
   "execution_count": 11,
   "id": "b551e61c",
   "metadata": {},
   "outputs": [
    {
     "data": {
      "text/markdown": [
       "***original data label $ Y_{M\\times N} :$***"
      ],
      "text/plain": [
       "<IPython.core.display.Markdown object>"
      ]
     },
     "metadata": {},
     "output_type": "display_data"
    },
    {
     "data": {
      "text/html": [
       "<div>\n",
       "<style scoped>\n",
       "    .dataframe tbody tr th:only-of-type {\n",
       "        vertical-align: middle;\n",
       "    }\n",
       "\n",
       "    .dataframe tbody tr th {\n",
       "        vertical-align: top;\n",
       "    }\n",
       "\n",
       "    .dataframe thead th {\n",
       "        text-align: right;\n",
       "    }\n",
       "</style>\n",
       "<table border=\"1\" class=\"dataframe\">\n",
       "  <thead>\n",
       "    <tr style=\"text-align: right;\">\n",
       "      <th></th>\n",
       "      <th>Iris-setosa</th>\n",
       "      <th>Iris-versicolor</th>\n",
       "      <th>Iris-virginica</th>\n",
       "    </tr>\n",
       "  </thead>\n",
       "  <tbody>\n",
       "    <tr>\n",
       "      <th>0</th>\n",
       "      <td>0</td>\n",
       "      <td>1</td>\n",
       "      <td>0</td>\n",
       "    </tr>\n",
       "    <tr>\n",
       "      <th>1</th>\n",
       "      <td>0</td>\n",
       "      <td>0</td>\n",
       "      <td>1</td>\n",
       "    </tr>\n",
       "    <tr>\n",
       "      <th>2</th>\n",
       "      <td>0</td>\n",
       "      <td>1</td>\n",
       "      <td>0</td>\n",
       "    </tr>\n",
       "    <tr>\n",
       "      <th>3</th>\n",
       "      <td>1</td>\n",
       "      <td>0</td>\n",
       "      <td>0</td>\n",
       "    </tr>\n",
       "    <tr>\n",
       "      <th>4</th>\n",
       "      <td>0</td>\n",
       "      <td>0</td>\n",
       "      <td>1</td>\n",
       "    </tr>\n",
       "  </tbody>\n",
       "</table>\n",
       "</div>"
      ],
      "text/plain": [
       "   Iris-setosa  Iris-versicolor  Iris-virginica\n",
       "0            0                1               0\n",
       "1            0                0               1\n",
       "2            0                1               0\n",
       "3            1                0               0\n",
       "4            0                0               1"
      ]
     },
     "execution_count": 11,
     "metadata": {},
     "output_type": "execute_result"
    }
   ],
   "source": [
    "pr( \"original data label \" +r'$ Y_{{M\\times N}} :$'.format(X_test.shape))\n",
    "actual_label = pd.DataFrame(y_train,columns = ['Iris-setosa', 'Iris-versicolor','Iris-virginica'])\n",
    "actual_label.head()"
   ]
  },
  {
   "cell_type": "code",
   "execution_count": 12,
   "id": "51ece1ce",
   "metadata": {},
   "outputs": [
    {
     "data": {
      "text/markdown": [
       "***predicted data label $ P_{M\\times N} :$***"
      ],
      "text/plain": [
       "<IPython.core.display.Markdown object>"
      ]
     },
     "metadata": {},
     "output_type": "display_data"
    },
    {
     "data": {
      "text/html": [
       "<div>\n",
       "<style scoped>\n",
       "    .dataframe tbody tr th:only-of-type {\n",
       "        vertical-align: middle;\n",
       "    }\n",
       "\n",
       "    .dataframe tbody tr th {\n",
       "        vertical-align: top;\n",
       "    }\n",
       "\n",
       "    .dataframe thead th {\n",
       "        text-align: right;\n",
       "    }\n",
       "</style>\n",
       "<table border=\"1\" class=\"dataframe\">\n",
       "  <thead>\n",
       "    <tr style=\"text-align: right;\">\n",
       "      <th></th>\n",
       "      <th>Iris-setosa</th>\n",
       "      <th>Iris-versicolor</th>\n",
       "      <th>Iris-virginica</th>\n",
       "    </tr>\n",
       "  </thead>\n",
       "  <tbody>\n",
       "    <tr>\n",
       "      <th>0</th>\n",
       "      <td>0.050053</td>\n",
       "      <td>0.777979</td>\n",
       "      <td>0.171968</td>\n",
       "    </tr>\n",
       "    <tr>\n",
       "      <th>1</th>\n",
       "      <td>0.001113</td>\n",
       "      <td>0.555302</td>\n",
       "      <td>0.443584</td>\n",
       "    </tr>\n",
       "    <tr>\n",
       "      <th>2</th>\n",
       "      <td>0.030317</td>\n",
       "      <td>0.696057</td>\n",
       "      <td>0.273627</td>\n",
       "    </tr>\n",
       "    <tr>\n",
       "      <th>3</th>\n",
       "      <td>0.907907</td>\n",
       "      <td>0.091569</td>\n",
       "      <td>0.000524</td>\n",
       "    </tr>\n",
       "    <tr>\n",
       "      <th>4</th>\n",
       "      <td>0.000807</td>\n",
       "      <td>0.561198</td>\n",
       "      <td>0.437995</td>\n",
       "    </tr>\n",
       "  </tbody>\n",
       "</table>\n",
       "</div>"
      ],
      "text/plain": [
       "   Iris-setosa  Iris-versicolor  Iris-virginica\n",
       "0     0.050053         0.777979        0.171968\n",
       "1     0.001113         0.555302        0.443584\n",
       "2     0.030317         0.696057        0.273627\n",
       "3     0.907907         0.091569        0.000524\n",
       "4     0.000807         0.561198        0.437995"
      ]
     },
     "execution_count": 12,
     "metadata": {},
     "output_type": "execute_result"
    }
   ],
   "source": [
    "pr(\"predicted data label \" +r'$ P_{{M\\times N}} :$'.format(X_test.shape))\n",
    "predict = softmax(X_train,W,b)\n",
    "predict = pd.DataFrame(predict,columns = ['Iris-setosa', 'Iris-versicolor','Iris-virginica'])\n",
    "predict.head()"
   ]
  },
  {
   "cell_type": "code",
   "execution_count": 13,
   "id": "d32ff2fc",
   "metadata": {},
   "outputs": [
    {
     "data": {
      "text/markdown": [
       "***accuracy : 0.75***"
      ],
      "text/plain": [
       "<IPython.core.display.Markdown object>"
      ]
     },
     "metadata": {},
     "output_type": "display_data"
    }
   ],
   "source": [
    "a =accuracy(np.array(y_train),np.array(predict))\n",
    "pr('accuracy : '+str(a))"
   ]
  },
  {
   "cell_type": "markdown",
   "id": "3bf47578",
   "metadata": {},
   "source": [
    "From $P_{{M\\times N}}$ output let to consider the row with index  $1$ : <br> <br>\n",
    "            $P'_{1,1} = 0.004 \\rightarrow  $ has  $0$% chance that record $X^{1}$ belongs to class 1 'iris-setosa' <br> \n",
    "            $P'_{1,2} = 0.167 \\rightarrow  $ has $17$% chance that record  $X^{1}$ belongs to class 2 'Iris-versicolor' <br> \n",
    "            $P'_{1,3} = 0.83 \\rightarrow  $ has $83$% chance  belongs to class 3 'Iris-virginica'<br> \n",
    "            <br>\n",
    "      From above result we can conclude : <br>\n",
    "      We cannot be too sure which is the class label that record  $X_{1}$ belongs,but its third column has $80$% chance which is the biggest one therefore, we would assume that record belongs to class 'Iris-virginica'in fact, that is coorect assumtion comparing with actual data $Y$. By applying this evaluation process for all results we can validate that the weight matrix $W_{M \\times N}$ and $b$ have given the $95$% accuracy.&nbsp;&nbsp; &nbsp;&nbsp; <br> <br> How have I  found the weight matrix $W$ and bias $B$ ? \n",
    "Just I've used the <mark>LogisticRegression</mark> from <mark>scikit-learn</mark> and took the coefficients, let us try to find out the way   of finding the weight $W$ and bias $b$ and is it posible to imporove estimators of $W$ and bias $b$.\n",
    "\n",
    "\n",
    "\n",
    "       "
   ]
  },
  {
   "cell_type": "markdown",
   "id": "c3773343",
   "metadata": {},
   "source": [
    "<h2>Optimizaton of  Softmax Loss with Gradient Descent (Deep math) </h2>"
   ]
  },
  {
   "cell_type": "markdown",
   "id": "e77fafbc",
   "metadata": {},
   "source": [
    "For objective loss function we will use <mark>Cross-Entropy</mark> wich is used binary logistic reg.Sofmax Loss  is defined as :\n",
    "\n",
    "   $$ (2)\\;\\; \\mathcal{L}(Y,Z)=-\\sum_i^m\\sum_j^k y_{ij} \\log (p(Z)_{ij})$$ <br> <br>  \n",
    "\n",
    "  &nbsp;&nbsp;&nbsp;&nbsp; &nbsp;&nbsp;&nbsp;&nbsp;&nbsp;&nbsp;\n",
    "    Where $m$ is a count of records , $k$ is  count of classes $y_{ij}$ is label values , $p_{ij}=\\phi_{softmax}(Z)_{ij}$ are  Y' predicited class  values and $Z$ is net input which is function of $W$ is weight matrix and $b$ bias and $X$\n"
   ]
  },
  {
   "cell_type": "markdown",
   "id": "b5b5d927",
   "metadata": {},
   "source": [
    "Our goal is to minimize the eq.(2) in order to find the best estimators $w_{ij}\\in W$ and $b$ given the iris data $X$ and a label data $Y$. <br>\n",
    "We are going to use Gradient descent for optimization process. \n",
    "Note that, the eq.(2) is the function of all weights $w_{ij}$, bias $b_j$ all training data X and label data Y."
   ]
  },
  {
   "cell_type": "markdown",
   "id": "4294dd3b",
   "metadata": {},
   "source": [
    "&nbsp;&nbsp;  Gradient descent is defined as  : \n",
    "<br>    \n",
    "$$ \\;  \\; \\;  \\; \\; \\; \\;\\begin{matrix} w_{ij} = w_{ij} - \\lambda \\nabla w_{ij}L(W,b,X,Y) \\\\  \\\\ b_{j} = b_j - \\lambda\\nabla b_{j}L(W,b,X,Y)\n",
    "       \\end{matrix} $$ \n",
    "&nbsp;&nbsp;&nbsp;&nbsp; &nbsp;&nbsp;&nbsp;&nbsp;&nbsp;&nbsp;\n",
    "where  $\\lambda$ is learning rate or step size \n",
    "   \n",
    "   \n"
   ]
  },
  {
   "cell_type": "markdown",
   "id": "780af0dd",
   "metadata": {},
   "source": [
    "&nbsp;&nbsp; Plug eq.(2) in gradient descent we achieve the general formula : <br> <br>\n",
    "     $$(3) \\;  \\; \\;  \\; \\; \\; \n",
    "   \\begin{matrix} \\nabla w_{ij}L(Y,P)   &=  \\nabla w_{ij}L(Y,P) -\\frac{\\partial}{\\partial w_{ij}}\\Big(\\sum_k^m\\sum_n^n y_{mn} \\log {p_{mn}}\\Big) \\\\  \\\\\n",
    "     \\nabla b_{j}L(Y,P) & = \\nabla b_{j}L(Y,P)  - \\frac{\\partial}{\\partial b_{j}}\\Big(\\sum_k^m\\sum_n^n y_{mn} \\log{p_{mn}}\\Big)\n",
    "       \\end{matrix} $$"
   ]
  },
  {
   "cell_type": "markdown",
   "id": "0bf803cf",
   "metadata": {},
   "source": [
    "Before we take up  with  $\\nabla w_{ij}L(W,b)$. We gonna introduce some math technics which will make our work easier.\n",
    "   <br>\n",
    "   For simplicity in the summation process of indices, we will introduce a <a href='http://physics.csusb.edu/~prenteln/notes/vc_notes.pdf'>Kronecker symbol</a> .<br>   <br>\n",
    "</font>\n",
    "<font size=\"3\" color='#4a3e20' >  \n",
    "       $$\\delta_{ij} =    \n",
    "         \\begin{equation}\n",
    "   \\begin{Bmatrix} \n",
    "   1 & if \\; i=j  \\\\\n",
    "   0 & if \\; i\\ne j  \n",
    "    \\end{Bmatrix} \n",
    "\\end{equation}$$\n",
    "  <br><br>\n",
    "          $$ \\delta_{ij} = \\begin{bmatrix} 1 & 0 & 0  \\\\ 0 & 1 & 0 \\\\  0 & 0 & 1 \\end{bmatrix}$$\n",
    "   </font>\n",
    "<font size=\"3\" color='#270336' face = \"Times New Roma\">  \n",
    "   In many places in the coming sum operations over indexes we will miss the $\\sum$ symbol, just it will be avoided(hidden) according to the .<a href='https://en.wikipedia.org/wiki/Einstein_notation'>Einstein summation convention</a> .<br>\n",
    "       For example, the equation. \n",
    "</font>\n"
   ]
  },
  {
   "cell_type": "markdown",
   "id": "d1df1cac",
   "metadata": {},
   "source": [
    "​\n",
    "<h7>\n",
    "    <font size=\"2\" color='#270336'>  \n",
    "   $$z_{ij} = \\sum_p^3 x_{ip} w_{jp} + b_j $$ \n",
    "</font>\n",
    "<font size=\"3\" color='#270336' face = \"Times New Roma\">  \n",
    "     by applying the  Enstein convetion we could rewrite it as : <br>\n",
    "</font>\n",
    "</h7>\n"
   ]
  },
  {
   "cell_type": "markdown",
   "id": "8ff8f691",
   "metadata": {},
   "source": [
    " $$z_{ij} = x_{ip} w_{jp} + b_j$$  \n",
    "The sign $\\sum_p^3$ is miss.The sumation over p  is implied(by default) because p is repeated twice.Every time when there are repeatable indices that is the indicator for exist of $\\sum$  which is just missing(The sum sign  is not written).\n",
    "\n",
    "​\n"
   ]
  },
  {
   "cell_type": "markdown",
   "id": "dc7be5ef",
   "metadata": {},
   "source": [
    "  &nbsp;&nbsp;&nbsp;&nbsp; &nbsp;&nbsp;&nbsp;&nbsp;In order to minimize the entropy of data, we must to take up with minimizatin of Cross entropy loss respect to $w_{ij}$.The cross-etropy Loss is a function of all feature vectors $X_{M\\times N}$ ,all labels $X_{M\\times K}$ , weight $W_{K\\times N}$ and bias $B_K$ <br> $L = L(X,T,W,B)$"
   ]
  },
  {
   "cell_type": "markdown",
   "id": "fd2ead72",
   "metadata": {},
   "source": [
    "&nbsp;&nbsp; &nbsp;&nbsp; &nbsp;&nbsp; &nbsp;&nbsp;$\\frac{\\partial L}{\\partial w_{ij}}=-\\frac{\\partial}{\\partial w_{ij}}\\Big(\\sum_k\\sum_n y_{mn} \\log {p_{mn}}\\Big)$\n",
    " $=\\sum_k\\sum_n y_{mn}\\frac{\\partial \\log {p_{mn}}}{\\partial w_{ij}}$ \n",
    "    "
   ]
  },
  {
   "cell_type": "markdown",
   "id": "e3623b1c",
   "metadata": {},
   "source": [
    " \n",
    " &nbsp;&nbsp; &nbsp;&nbsp; &nbsp;&nbsp; &nbsp;&nbsp;  &nbsp;&nbsp; &nbsp;&nbsp; &nbsp;&nbsp;$=-\\sum_m\\sum_n\\frac{y_{mn}}{p_{mn}}\\frac{\\partial  p_{mn}}{\\partial w_{ij}} $ \n",
    "            $=\\sum_m\\sum_n \\frac{y_{mn}}{p_{mn}}\\frac{\\partial  p_{mn}}{\\partial z_{vp}}\\frac{\\partial  z_{vp}}{\\partial w_{ij}} $\n"
   ]
  },
  {
   "cell_type": "markdown",
   "id": "89aacd7a",
   "metadata": {},
   "source": [
    "<h6> from  $z_{vp} = f(w_{pi}) \\Rightarrow \\frac{\\partial  z_{vp}}{\\partial w_{ij}} = 0\\;$ if $\\; p\\ne i$ then  we can  write $ \\frac{\\partial  z_{vp}}{\\partial w_{ij}}=\\delta_{pi}\\frac{\\partial  z_{vp}}{\\partial w_{ij}}$ \n",
    "      and  $p_{mn} = f(z_{mv}) \\Rightarrow \\frac{\\partial  z_{vp}}{\\partial w_{ij}} = 0$ if $ m\\ne v $ then   $\\frac{\\partial p_{mn}}{\\partial z_{vp}}=\\delta_{mv}\\frac{\\partial  p_{mn}}{\\partial z_{vp}}  $ \n",
    "   plug in it  we will achieve </h6>\n"
   ]
  },
  {
   "cell_type": "markdown",
   "id": "a2f61a04",
   "metadata": {},
   "source": [
    " &nbsp;&nbsp; &nbsp;&nbsp; &nbsp;&nbsp; &nbsp;&nbsp;  &nbsp;&nbsp; &nbsp;&nbsp; &nbsp;&nbsp;$ =-\\sum_m\\sum_n \\frac{y_{mn}}{p_{mn}}\\delta_{mv}\\frac{\\partial  p_{mn}}{\\partial  z_{vp}} \\delta_{pi}\\frac{\\partial  z_{vp}}{\\partial w_{ij}} $\n"
   ]
  },
  {
   "cell_type": "markdown",
   "id": "aea6e783",
   "metadata": {},
   "source": [
    "<h6>using common Kronicker $\\delta$ proprties </h6> <br> \n",
    " &nbsp;&nbsp; &nbsp;&nbsp; &nbsp;&nbsp; &nbsp;&nbsp;  &nbsp;&nbsp; &nbsp;&nbsp; &nbsp;&nbsp;$=-\\sum_m\\sum_n \\frac{y_{mn}}{p_{mn}}\\delta_{mm}\\delta_{ii}\\frac{\\partial  p_{mn}}{\\partial z_{mi}}\\frac{\\partial  z_{mi}}{\\partial w_{ij}} $ $=-\\sum_m\\sum_n \\frac{y_{mn}}{p_{mn}}\\frac{\\partial  p_{mn}}{\\partial z_{mi}}\\frac{\\partial  z_{mi}}{\\partial w_{ij}} $ \n"
   ]
  },
  {
   "cell_type": "markdown",
   "id": "b0be08cb",
   "metadata": {},
   "source": [
    "We've successfully reduced the count of sum operations, using Einstein's convention and Kronecker symbol and\n",
    "    achieved"
   ]
  },
  {
   "cell_type": "markdown",
   "id": "83b142c7",
   "metadata": {},
   "source": [
    "&nbsp;&nbsp; &nbsp;&nbsp; &nbsp;&nbsp; &nbsp;&nbsp;$\\frac{\\partial L}{\\partial w_{ij}}=-\\sum_m\\sum_n \\frac{y_{mn}}{p_{mn}}\\frac{\\partial  p_{mn}}{\\partial z_{mi}}\\frac{\\partial  z_{mi}}{\\partial w_{ij}}$ "
   ]
  },
  {
   "cell_type": "markdown",
   "id": "0a2746dd",
   "metadata": {},
   "source": [
    "  Let to focus on terms $\\frac{\\partial  p_{mn}}{\\partial z_{mi}}$ and $\\frac{\\partial  z_{mi}}{\\partial w_{ij}}$"
   ]
  },
  {
   "cell_type": "markdown",
   "id": "7c5ebdcb",
   "metadata": {},
   "source": [
    "   $\\frac{\\partial  p_{mn}} {\\partial z_{mi}}=\\frac{\\partial\\frac { e^{z_{mn}} }{ \\sum_ke^{z_{mk}}} }{\\partial z_{mi}}$\n",
    "     $=\\frac{1}{(\\sum_ke^{z_{mk}})^2}\\times \\Big(\\frac{\\partial e^{z_{mn}} }{\\partial z_{mi}}\\times(\\sum_ke^{z_{mk}}) - e^{z_{mn}}\\times\\frac{\\partial (\\sum_ke^{z_{mk}})}{\\partial z_{mi}}  \\Big)$"
   ]
  },
  {
   "cell_type": "markdown",
   "id": "b3ef848e",
   "metadata": {},
   "source": [
    "  $=\\frac{e^{z_{mn}}\\times\\frac{\\partial z_{mn}}{\\partial z_{mi}}}{\\sum_ke^{z_{mk}}} - \\frac{e^{z_{mn}}}{\\sum_ke^{z_{mk}}}\\times\\frac{ \\sum_k e^{z_{mk}} \\frac{ \\partial z_{mk}}{\\partial z_{mi}}}  {\\sum_ke^{z_{mk}}}$"
   ]
  },
  {
   "cell_type": "markdown",
   "id": "9c4ccf77",
   "metadata": {},
   "source": [
    "<h6> from  $\\frac{\\partial z_{mk}}{\\partial z_{mi}}=0$ if $k\\ne i\\;\\frac{\\partial z_{mk}}{\\partial z_{mi}}=1\\;ifk = i\\;\\Rightarrow \\frac{\\partial z_{mk}}{\\partial z_{mi}}=\\delta_{ki} $ plug in </h6>"
   ]
  },
  {
   "cell_type": "markdown",
   "id": "c9782843",
   "metadata": {},
   "source": [
    " $=\\frac{e^{z_{mn}}\\times \\delta_{ni} }{\\sum_ke^{z_{mk}}} - \\frac{e^{z_{mn}}}{\\sum_ke^{z_{mk}}}\\times\\frac{ \\sum_k e^{z_{mk}}\\delta_{ki}}  {\\sum_ke^{z_{mk}}}$ \n",
    "      $=\\frac{e^{z_{mn}}\\times \\delta_{ni} }{\\sum_k e^{z_{mk}}} - \\frac{e^{z_{mn}}}{\\sum_ke^{z_{mk}}}\\times\\frac{ \\sum_k e^{z_{mk}}\\delta_{ki}}  {\\sum_ke^{z_{mk}}}$ "
   ]
  },
  {
   "cell_type": "markdown",
   "id": "58eb4f45",
   "metadata": {},
   "source": [
    "  $=\\frac{e^{z_{mn}}\\times \\delta_{ni} }{\\sum_ke^{z_{mk}}} - \\frac{e^{z_{mn}}}{\\sum_ke^{z_{mk}}}\\times\\frac{ \\sum_k e^{z_{mi}}\\delta_{ii}}  {\\sum_ke^{z_{mk}}}$ \n",
    "          $=\\frac{e^{z_{mn}}\\times \\delta_{ni} }{\\sum_ke^{z_{mk}}} - \\frac{e^{z_{mn}}}{\\sum_ke^{z_{mk}}}\\times \\frac{ e^{z_{mi}}}{\\sum_ke^{z_{mk}}}$ "
   ]
  },
  {
   "cell_type": "markdown",
   "id": "48a64b7d",
   "metadata": {},
   "source": [
    "<h6>from eq.(1)  $\\Rightarrow$ $\\frac{ e^{z_{mn}} }{ \\sum_k e^{z_{mk} } }=p_{mn}$ and $\\frac{ e^{z_{mi}} }{ \\sum_k e^{z_{mk} } }=p_{mi}$  when we apply it, we will achieve </h6>"
   ]
  },
  {
   "cell_type": "markdown",
   "id": "d119fafe",
   "metadata": {},
   "source": [
    " &nbsp;&nbsp; &nbsp;&nbsp; &nbsp;&nbsp; &nbsp;&nbsp;  &nbsp;&nbsp; &nbsp;&nbsp; &nbsp;&nbsp;\n",
    "       $=p_{mn}\\times \\delta_{ni} - p_{mn}\\times p_{mn}p_{mi}$ <br>\n",
    "        &nbsp;&nbsp; &nbsp;&nbsp; &nbsp;&nbsp; &nbsp;&nbsp;  &nbsp;&nbsp; &nbsp;&nbsp; &nbsp;&nbsp;\n",
    "          $=p_{mn}(\\delta_{ni} -  p_{mi})$ "
   ]
  },
  {
   "cell_type": "markdown",
   "id": "96737513",
   "metadata": {},
   "source": [
    " For term  $\\frac{\\partial  p_{mn}} {\\partial z_{mi}}$ we achieve : <br>\n",
    "  &nbsp;&nbsp; &nbsp;&nbsp; &nbsp;&nbsp; &nbsp;&nbsp;\n",
    "     $$4) \\; \\; \\; \\; \\frac{\\partial  p_{mn}} {\\partial z_{mi}}=p_{mn}(\\delta_{ni} -  p_{mi})$$"
   ]
  },
  {
   "cell_type": "markdown",
   "id": "78b970ba",
   "metadata": {},
   "source": [
    " &nbsp;&nbsp; &nbsp;&nbsp; &nbsp;&nbsp; &nbsp;&nbsp;\n",
    "     $\\frac{\\partial  z_{mi}}{\\partial w_{ij}} =\\frac{\\partial ( \\sum_k  x_{mk}w_{ki})}{\\partial w_{ij}}= \\frac{ \\sum_k z_{mi} x_{mk}\\partial w_{ki}}{\\partial w_{ij}}$ "
   ]
  },
  {
   "cell_type": "markdown",
   "id": "8b960256",
   "metadata": {},
   "source": [
    "<h6>  $\\frac{\\partial w_{ki}}{\\partial w_{ij}} = \\delta_{kj}$ only a direct verification can  proof it </h6>"
   ]
  },
  {
   "cell_type": "markdown",
   "id": "3a7afb42",
   "metadata": {},
   "source": [
    "&nbsp;&nbsp; &nbsp;&nbsp; &nbsp;&nbsp; &nbsp;&nbsp;  &nbsp;&nbsp; &nbsp;&nbsp; &nbsp;&nbsp;\n",
    "     $=  \\sum_k  x_{mk} \\delta_{kj} =\\sum_k  x_{mj}\\delta_{jj}=x_{mj}$  "
   ]
  },
  {
   "cell_type": "markdown",
   "id": "17975516",
   "metadata": {},
   "source": [
    "<h6> and for $\\frac{\\partial  z_{mi}}{\\partial w_{ij}}$ we achive : </h6>\n",
    "      $$(5) \\;\\;\\;\\;\\;\\frac{\\partial  z_{mi}}{\\partial w_{ij}} = x_{mj} $$   \n"
   ]
  },
  {
   "cell_type": "markdown",
   "id": "ae6a8755",
   "metadata": {},
   "source": [
    "<h6>  &nbsp;&nbsp;\n",
    "     Applying  eqs.(4) (5) in : $\\frac{\\partial L}{\\partial w_{ij}}=-\\sum_m\\sum_n \\frac{y_{mn}}{p_{mn}}\\frac{\\partial  p_{mn}}{\\partial z_{mi}}\\frac{\\partial  z_{mi}}{\\partial w_{ij}}$   we have  : </h6>"
   ]
  },
  {
   "cell_type": "markdown",
   "id": "dc35cb46",
   "metadata": {},
   "source": [
    " &nbsp;&nbsp; &nbsp;&nbsp; &nbsp;&nbsp; &nbsp;&nbsp;$\\frac{\\partial L}{\\partial w_{ij}}=-\\sum_m\\sum_n \\frac{y_{mn}}{p_{mn}}p_{mn}(\\delta_{ni} -  p_{mi})x_{mj}=--\\sum_m\\sum_n y_{mn}(\\delta_{ni} -  p_{mi})x_{mj} $ "
   ]
  },
  {
   "cell_type": "markdown",
   "id": "ef9f3510",
   "metadata": {},
   "source": [
    " &nbsp;&nbsp; &nbsp;&nbsp; &nbsp;&nbsp; &nbsp;&nbsp;  &nbsp;&nbsp; &nbsp;&nbsp; &nbsp;&nbsp;\n",
    "     $ =-\\sum_m\\sum_n y_{mn}\\delta_{ni} + \\sum_m\\sum_n y_{mn} p_{mi}x_{mj} $ \n",
    "<h6> we can  replace an index $n$ with $i$ (!There is no $\\sum_i$)  </h6>"
   ]
  },
  {
   "cell_type": "markdown",
   "id": "359c1b44",
   "metadata": {},
   "source": [
    "  $ =-\\sum_m\\sum_n y_{mi}\\delta_{ii}x_{mj} + \\sum_m\\sum_n y_{mn} p_{mi}x_{mj} $ "
   ]
  },
  {
   "cell_type": "markdown",
   "id": "2b8394a6",
   "metadata": {},
   "source": [
    " &nbsp;&nbsp; &nbsp;&nbsp; &nbsp;&nbsp; &nbsp;&nbsp;  &nbsp;&nbsp; &nbsp;&nbsp; &nbsp;&nbsp;\n",
    "   $ =-\\sum_m y_{mi}x_{mj} + \\sum_m\\sum_n y_{mn} p_{mi}x_{mj} $ <br>\n",
    " &nbsp;&nbsp; &nbsp;&nbsp; &nbsp;&nbsp; &nbsp;&nbsp;  &nbsp;&nbsp; &nbsp;&nbsp; &nbsp;&nbsp;&nbsp;&nbsp;&nbsp;&nbsp;\n",
    "      $\\sum_n y_{in}=1$ <h6> (the sum of all probability) applying it </h6>"
   ]
  },
  {
   "cell_type": "markdown",
   "id": "28660d21",
   "metadata": {},
   "source": [
    " $ =-\\sum_m y_{mi}x_{mj} + \\sum_m 1. p_{mi}x_{mj} = \\sum_m  p_{mi}x_{mj}-\\sum_m y_{mi}x_{mj}$ <br> <br>\n",
    "  &nbsp;&nbsp; &nbsp;&nbsp; &nbsp;&nbsp; &nbsp;&nbsp;  &nbsp;&nbsp; &nbsp;&nbsp; &nbsp;&nbsp;\n",
    "  $ = \\sum_k^m( p_{mi}-y_{mi})x_{mj}$"
   ]
  },
  {
   "cell_type": "markdown",
   "id": "f832a1cb",
   "metadata": {},
   "source": [
    "We've achieved the most important result .The optimization  of Cross-entropy respect to $w_{ij}$  :"
   ]
  },
  {
   "cell_type": "markdown",
   "id": "bf7bfb51",
   "metadata": {},
   "source": [
    " $$6) \\;\\;\\;\\;\\nabla w_{ij}L(W,b)= \\sum_m( p_{mi}-y_{mi})x_{mj}$$"
   ]
  },
  {
   "cell_type": "markdown",
   "id": "7628f1b9",
   "metadata": {},
   "source": [
    " If we apply  the same   step for $\\nabla b_{i}L(W,b)$ (It is an easier one)  we will achieve the minimization formula for bias , which looks like this<br><br>\n",
    "      $$7)\\;\\;\\;\\;\\nabla b_{i}L(W,b)= \\sum_m( p_{mi}-y_{mi})$$\n"
   ]
  },
  {
   "cell_type": "markdown",
   "id": "08c72ab6",
   "metadata": {},
   "source": [
    "Although the eq.(6) seems so simple and elegant it is written in a tensor form, not in matrix one. Therefore its implementation becomes more difficult, especially when we want to use our lovely library NumPy.But we can write the equation in matrix form seeming like that :"
   ]
  },
  {
   "cell_type": "markdown",
   "id": "b90618bb",
   "metadata": {},
   "source": [
    " $\\nabla_W L = \\begin{bmatrix}\n",
    "               \\nabla_{w_{11}} L  & \\nabla_{w_{12}}L &... &\\nabla_{ w_{1j}}L \\\\\n",
    "               \\nabla_{ w_{21}}L & \\nabla_{ w_{22}}L  &... &\\nabla_{ w_{2j}}L \\\\\n",
    "                ...   &  ...  & ... & ...  \\\\\n",
    "                \\nabla_{ w_{i1}}L  & \\nabla_{ w_{i2}}L  & ...& \\nabla_{ w_{ij}}L \\end{bmatrix} $\n",
    "$  =\\begin{bmatrix}\n",
    "p_{11} -y_{11}  &  p_{21}-y_{21}  & ... &  p_{m1}-y_{m1}\\\\\n",
    "p_{12} -y_{12}  &  p_{22}-y_{22}  & ... &  p_{m2}-y_{m2}\\\\\n",
    "\\;\\;...\\;\\;\\;   &  \\;\\;...\\;\\;\\;  &\\;\\;...\\;\\;\\; &\\;\\;...\\;\\;\\; \\\\\n",
    "p_{1i} -y_{1i}  &  p_{2i}-y_{2i}  & ... &  p_{mi}-y_{mi}\n",
    " \\end{bmatrix}$\n",
    "$\\begin{bmatrix} x_{11} &  x_{12} &...&  x_{1j} \\\\  x_{21} &  x_{22}  &...&  x_{2j}  \\\\ ... & ... & ... &... \\\\ x_{m1} &  x_{m2} &...&  x_{mj}\\end{bmatrix}$"
   ]
  },
  {
   "cell_type": "markdown",
   "id": "37cd4294",
   "metadata": {},
   "source": [
    "$$8)\\;\\;\\;\\;\\nabla_W L = (P-Y)^T.X$$ <br>\n",
    "$$\\;\\;\\;\\;\\nabla_{b_i} L = \\sum_m (P-Y)_{mi}\\;\\;\\; or $$ or <br> <br>\n",
    " $$9)\\;\\;\\;\\;\\nabla_{b} L =\\Big[\\sum_m (P-Y)_{m1}, \\sum_m (P-Y)_{m2},..., \\sum_m (P-Y)_{mi}\\Big]$$ <br>"
   ]
  },
  {
   "cell_type": "markdown",
   "id": "428b967a",
   "metadata": {},
   "source": [
    " We've  written eq(6) and(7) in matrix form, and  result is surprisingly simple and  so easy for implementation.If we plug the eq(8) and (9) in gradient descent eqaution <br> \n",
    " $$ \\;  \\; \\;  \\; \\; \\; \\;\\begin{matrix} w_{ij} = w_{ij} - \\lambda \\nabla w_{ij}L(W,b) \\\\  \\\\ b_{j} = b_j - \\lambda\\nabla b_{j}L(W,b)\n",
    "       \\end{matrix} $$ \n",
    "\n",
    " We've achieve our minimization alogithm for Cross-entopy Loss for find the best esitmitators $W_{ij}$.\n",
    "    The minimization alogorithm using gradient descent is deifined as :  "
   ]
  },
  {
   "cell_type": "markdown",
   "id": "dc0afca0",
   "metadata": {},
   "source": [
    " $$(10) \\;  \\; \\;  \\; \\; \\; \\;  W= W -\\lambda(P-Y)^T.X  $$\n",
    "  <br>\n",
    "    $$(11) \\;  \\; \\;  \\; \\; \\; \\;  b_i = b_i -\\lambda \\sum_m(P-Y)_{mi}   $$\n"
   ]
  },
  {
   "cell_type": "markdown",
   "id": "1772a414",
   "metadata": {},
   "source": [
    "where W is a weight matrix , $\\lambda$ is an leraning rate or step size, P is the the prediction values pruduced from sofmax   $Y$ is the target values $X$ is the training data (features vectors)."
   ]
  },
  {
   "cell_type": "markdown",
   "id": "9076a6d2",
   "metadata": {},
   "source": [
    "<h2> Implementation of Softmax using numpy </h2>"
   ]
  },
  {
   "cell_type": "markdown",
   "id": "f2201fe6",
   "metadata": {},
   "source": [
    "   &nbsp;&nbsp;&nbsp;&nbsp; &nbsp;The implentation  using <mark color='blue' size='5'>numpy</mark>\n",
    "     could be defined as : <br> <br>:\n",
    "\n",
    "  $$ W = W - gamma*(( softmax(W,b,X,Y) -Y )^T).dot(X)$$ <br>\n",
    "      $$ b_i = b_i - gamma*sum_m((softmax(W,b,X,Y)_i -Y_i)) $$\n"
   ]
  },
  {
   "cell_type": "markdown",
   "id": "d9e207ef",
   "metadata": {},
   "source": [
    "where the arguments are considered: the W matrix our estimator coeficients , $gamma=$ $\\lambda* (1/m)$  step size,\n",
    "     $\\lambda$ learning rate $Y$ is the target values $X$ is the training data (features vectors).\n",
    " The implementation of gradient descent <br>\n"
   ]
  },
  {
   "cell_type": "code",
   "execution_count": 30,
   "id": "064b8ac5",
   "metadata": {},
   "outputs": [],
   "source": [
    "def gradient_descent(X, y, W, b, step_size):\n",
    "    ''''\n",
    "    one iteration(Epoch) perform  gradient descent\n",
    "    \n",
    "     Parameters :\n",
    "    X : ndarray\n",
    "       train data\n",
    "    y : ndarray\n",
    "       target data\n",
    "    W : ndarray\n",
    "     weight matrix\n",
    "    b : ndarray\n",
    "      bias \n",
    "    step_size : float\n",
    "       gradient descent setting\n",
    "    \n",
    "    '''\n",
    "    P_y = softmax(X,W,b)-y\n",
    "    W = W - step_size*(P_y.T).dot(X)\n",
    "    b = b - step_size*np.sum(P_y, axis=0)\n",
    "    return W,b\n",
    "    \n",
    "\n",
    "def train(X , y, max_iter=100,learning_rate=0.1,innitial_value =1, debug_W=None):\n",
    "    '''\n",
    "    Train by softmax regression \n",
    "    \n",
    "    Parameters :\n",
    "    X : ndarray\n",
    "       train data\n",
    "    y : ndarray\n",
    "       target data\n",
    "    max_iter : int \n",
    "        number of epoch (iterations)\n",
    "        \n",
    "    debug_W : tuple \n",
    "       index of weight parameter for debugging\n",
    "    Returns \n",
    "       W, b : ndarray\n",
    "         weight and bias\n",
    "       in debug mode\n",
    "       W, b, k : ndarray\n",
    "          weight and bias and debugind parameter \n",
    "         \n",
    "       \n",
    "    '''\n",
    "    \n",
    "    if type(X) != np.ndarray or type(y) != np.ndarray: \n",
    "        raise ValueError('X and y must be ndarray')\n",
    "        \n",
    "    #init weight and bias\n",
    "    b = np.full((y.shape[1],),innitial_value)\n",
    "    W = np.full((y.shape[1], X.shape[1]), innitial_value)\n",
    "    \n",
    "    m = X.shape[0] \n",
    "    step_size = (1/m)*learning_rate\n",
    "    \n",
    "    if debug_W is not None: \n",
    "        debug_mode=True \n",
    "        debug = W[(debug_W)]\n",
    "    else :\n",
    "        debug_mode=False\n",
    "        \n",
    "    for i in range(max_iter):\n",
    "        W,b = gradient_descent(X , y, W, b,step_size)\n",
    "        if debug_mode: debug = np.append(debug, W[debug_W])   \n",
    "    \n",
    "    \n",
    "    if debug_mode: return W,b,debug\n",
    "        \n",
    "    return W,b"
   ]
  },
  {
   "cell_type": "code",
   "execution_count": null,
   "id": "979f5a9b",
   "metadata": {},
   "outputs": [],
   "source": []
  },
  {
   "cell_type": "markdown",
   "id": "291b307c",
   "metadata": {},
   "source": [
    " Let to test our implementation and to train the iris data  <br> \n",
    " Trainig data<br>\n"
   ]
  },
  {
   "cell_type": "code",
   "execution_count": 31,
   "id": "cd81ec32",
   "metadata": {},
   "outputs": [],
   "source": [
    "W,b = train(np.array(X_train), np.array(y_train),max_iter=100)   "
   ]
  },
  {
   "cell_type": "code",
   "execution_count": 32,
   "id": "43634123",
   "metadata": {},
   "outputs": [
    {
     "name": "stdout",
     "output_type": "stream",
     "text": [
      "weight vector :[[ 1.35411091  1.84190926 -0.19105989  0.45297526]\n",
      " [ 1.27780858  0.77747064  1.17029213  0.79586893]\n",
      " [ 0.36808051  0.3806201   2.02076776  1.75115581]]\n",
      "\n",
      "bias :[1.17282574 1.13488628 0.69228799]\n"
     ]
    }
   ],
   "source": [
    "print('weight vector :'+ str(W))\n",
    "print('')\n",
    "print('bias :'+ str(b))"
   ]
  },
  {
   "cell_type": "code",
   "execution_count": null,
   "id": "461d2f23",
   "metadata": {},
   "outputs": [],
   "source": []
  },
  {
   "cell_type": "code",
   "execution_count": 33,
   "id": "d2f0b3fd",
   "metadata": {},
   "outputs": [
    {
     "data": {
      "text/markdown": [
       "***accuracy:  0.7%***"
      ],
      "text/plain": [
       "<IPython.core.display.Markdown object>"
      ]
     },
     "metadata": {},
     "output_type": "display_data"
    }
   ],
   "source": [
    "predict = softmax(np.array(X_test), W,b)\n",
    "#print(v)\n",
    "pr('accuracy:  ' +str(accuracy(np.array(y_test), predict))+'%')"
   ]
  },
  {
   "cell_type": "markdown",
   "id": "3d392c32",
   "metadata": {},
   "source": [
    " We've  achieved  96% acuracy , learning rata = 0,1 max iteration 220<br>\n"
   ]
  },
  {
   "cell_type": "markdown",
   "id": "32d91e02",
   "metadata": {},
   "source": [
    "Testing  on  data X_test and  y_test <br>\n"
   ]
  },
  {
   "cell_type": "code",
   "execution_count": null,
   "id": "649587d8",
   "metadata": {},
   "outputs": [],
   "source": []
  }
 ],
 "metadata": {
  "kernelspec": {
   "display_name": "Python 3",
   "language": "python",
   "name": "python3"
  },
  "language_info": {
   "codemirror_mode": {
    "name": "ipython",
    "version": 3
   },
   "file_extension": ".py",
   "mimetype": "text/x-python",
   "name": "python",
   "nbconvert_exporter": "python",
   "pygments_lexer": "ipython3",
   "version": "3.8.8"
  }
 },
 "nbformat": 4,
 "nbformat_minor": 5
}
