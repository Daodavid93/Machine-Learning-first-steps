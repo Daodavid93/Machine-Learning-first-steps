{
 "cells": [
  {
   "cell_type": "code",
   "execution_count": 18,
   "id": "146959c4",
   "metadata": {},
   "outputs": [],
   "source": [
    "%matplotlib inline\n",
    "import matplotlib\n",
    "\n",
    "import matplotlib.pyplot as plt\n",
    "import numpy as np\n",
    "import math\n",
    "from mpl_toolkits.mplot3d import Axes3D\n",
    "from random import random\n",
    "#from mpl_toolkits.mplot3d import axes3d\n",
    "import matplotlib.pyplot as plt\n",
    "import pandas as pd\n",
    "from sklearn.model_selection import train_test_split\n",
    "from sklearn.preprocessing import StandardScaler\n",
    "from sklearn.linear_model import LinearRegression\n",
    "from sklearn.linear_model import Lasso\n",
    "from sklearn.linear_model import  Ridge\n",
    "from sklearn.preprocessing import PolynomialFeatures\n",
    "\n",
    "from scipy.stats import skew"
   ]
  },
  {
   "cell_type": "code",
   "execution_count": null,
   "id": "3ed9ef63",
   "metadata": {},
   "outputs": [],
   "source": []
  },
  {
   "cell_type": "code",
   "execution_count": 219,
   "id": "844a84e6",
   "metadata": {},
   "outputs": [
    {
     "data": {
      "image/png": "[encoded data removed]",
      "text/plain": [
       "<Figure size 432x288 with 1 Axes>"
      ]
     },
     "metadata": {
      "needs_background": "light"
     },
     "output_type": "display_data"
    }
   ],
   "source": [
    "#plt.rcParams[\"figure.figsize\"] = (5,5)\n",
    "#np.random.seed(0)\n",
    "x = 2 - np.linspace(-10,10,num=15) *4    #np.linspace(-10,10,num=10)  \n",
    "y = x + 0.6 * (x ** 2) +2+ 10*np.random.normal(0, 16, size=x.size)   #+ 4.5 * (x ** 3)\n",
    "x = x[:, np.newaxis]\n",
    "y = y[:, np.newaxis]\n",
    "plt.scatter(x,y, s=10)\n",
    "plt.show()"
   ]
  },
  {
   "cell_type": "code",
   "execution_count": null,
   "id": "bfabccc5",
   "metadata": {},
   "outputs": [],
   "source": []
  },
  {
   "cell_type": "code",
   "execution_count": 224,
   "id": "8925c219",
   "metadata": {},
   "outputs": [],
   "source": [
    "polynomial_features= PolynomialFeatures(degree=5)\n",
    "x_poly = polynomial_features.fit_transform(x)"
   ]
  },
  {
   "cell_type": "code",
   "execution_count": 225,
   "id": "2de3b9ed",
   "metadata": {},
   "outputs": [
    {
     "data": {
      "text/plain": [
       "<matplotlib.legend.Legend at 0x54dea49a30>"
      ]
     },
     "execution_count": 225,
     "metadata": {},
     "output_type": "execute_result"
    },
    {
     "data": {
      "image/png": "[encoded data removed]",
      "text/plain": [
       "<Figure size 432x288 with 1 Axes>"
      ]
     },
     "metadata": {
      "needs_background": "light"
     },
     "output_type": "display_data"
    }
   ],
   "source": [
    "model = LinearRegression().fit(x_poly,y)\n",
    "y_pred = model.predict(x_poly)\n",
    "plt.plot(x, y_pred,label=\"$degree = {}$,accuracy={:.2f}\".format(2,model.score(x_poly,y)))  #L = 0.0028\n",
    "plt.scatter(x,y, s=10,color='r',label=\"data set\")\n",
    "plt.title('graf 1')\n",
    "plt.legend()"
   ]
  },
  {
   "cell_type": "code",
   "execution_count": 128,
   "id": "0ef650aa",
   "metadata": {},
   "outputs": [
    {
     "data": {
      "text/plain": [
       "range(0, 18)"
      ]
     },
     "execution_count": 128,
     "metadata": {},
     "output_type": "execute_result"
    }
   ],
   "source": []
  },
  {
   "cell_type": "code",
   "execution_count": 226,
   "id": "7c3b7d09",
   "metadata": {},
   "outputs": [
    {
     "name": "stdout",
     "output_type": "stream",
     "text": [
      "0\n",
      "1\n",
      "2\n",
      "3\n",
      "4\n",
      "5\n"
     ]
    }
   ],
   "source": [
    "weights = []\n",
    "labels = []\n",
    "for i in range(len(model.coef_[0,:])):\n",
    "    print(i)\n",
    "    weights.append(((model.coef_[0,i])))\n",
    "    labels.append(r'$\\theta_{}$'.format(i))\n",
    "    "
   ]
  },
  {
   "cell_type": "code",
   "execution_count": 227,
   "id": "b36161ed",
   "metadata": {},
   "outputs": [
    {
     "data": {
      "image/png": "[encoded data removed]",
      "text/plain": [
       "<Figure size 432x288 with 1 Axes>"
      ]
     },
     "metadata": {
      "needs_background": "light"
     },
     "output_type": "display_data"
    }
   ],
   "source": [
    "fig = plt.figure()\n",
    "ax = fig.add_axes([0,0,1,1])\n",
    "ax.bar(labels,weights,log=True)\n",
    "ax.set_yscale(\"log\")\n",
    "plt.show()"
   ]
  },
  {
   "cell_type": "code",
   "execution_count": 214,
   "id": "6c622ab4",
   "metadata": {},
   "outputs": [
    {
     "data": {
      "text/plain": [
       "array([[ 0.00000000e+00, -7.28064121e+00,  8.25825067e-01,\n",
       "         1.82051492e-02, -1.41393300e-04, -6.83396244e-06]])"
      ]
     },
     "execution_count": 214,
     "metadata": {},
     "output_type": "execute_result"
    }
   ],
   "source": [
    "StandardScaler().fit_transform(model.coef_)\n",
    "model.coef_"
   ]
  },
  {
   "cell_type": "code",
   "execution_count": 229,
   "id": "4964df60",
   "metadata": {},
   "outputs": [],
   "source": [
    "coef_df = pd.DataFrame({'weights': model.coef_[0,:],\n",
    "                        'varname': labels\n",
    "                       })"
   ]
  },
  {
   "cell_type": "code",
   "execution_count": 232,
   "id": "270956e9",
   "metadata": {},
   "outputs": [],
   "source": [
    "coef_df.plot(x='varname', y='weights', kind='bar', \n",
    "             ax=ax, legend=False)\n",
    "plt.show()"
   ]
  }
 ],
 "metadata": {
  "kernelspec": {
   "display_name": "Python 3",
   "language": "python",
   "name": "python3"
  },
  "language_info": {
   "codemirror_mode": {
    "name": "ipython",
    "version": 3
   },
   "file_extension": ".py",
   "mimetype": "text/x-python",
   "name": "python",
   "nbconvert_exporter": "python",
   "pygments_lexer": "ipython3",
   "version": "3.8.8"
  }
 },
 "nbformat": 4,
 "nbformat_minor": 5
}
