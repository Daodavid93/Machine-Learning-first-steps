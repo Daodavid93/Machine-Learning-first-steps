{
 "cells": [
  {
   "cell_type": "code",
   "execution_count": 1,
   "id": "5a5514e7",
   "metadata": {},
   "outputs": [],
   "source": [
    "#help function\n"
   ]
  },
  {
   "cell_type": "code",
   "execution_count": 40,
   "id": "99e1f55d",
   "metadata": {},
   "outputs": [],
   "source": [
    "%matplotlib inline\n",
    "import matplotlib.pyplot as plt\n",
    "import numpy as np\n",
    "import math\n",
    "from mpl_toolkits.mplot3d import Axes3D\n",
    "from random import random\n",
    "#from mpl_toolkits.mplot3d import axes3d\n",
    "import matplotlib.pyplot as plt\n",
    "import pandas as pd\n",
    "from sklearn.model_selection import train_test_split\n",
    "from sklearn.preprocessing import StandardScaler\n",
    "from sklearn.linear_model import LinearRegression"
   ]
  },
  {
   "cell_type": "markdown",
   "id": "90312f73",
   "metadata": {},
   "source": [
    "<h1> Linear Regression </h1>\n",
    "<div class='legend'>\n",
    "<ul style=\"margin-left: 30px\">\n",
    "      <li>1.0  <a href='#simple~linear~regression'>Simple Linear Regression </a> </li> \n",
    "      <li>1.1 <a href='#fitting~reg'> Fitting the regresion line</a> </li> <br>\n",
    "      <li>1.2 <a href='#grad~sim~linear'>Gradient Descent over simple linear regression</a> </li>\n",
    "      <li>1.3 <a href='#effect~learning~rate'>Effect of different values for learning rate</a> </li>\n",
    "      <li>1.4 <a href='#m-linear-r'>Multiple Linear Regression</a> </li>\n",
    "      <li>1.5 <a href='#reg'>Regularization of gradient descent by learning rate and max iterations</a> </li>    \n",
    "      <li>1.6 <a href='#conclusion'>Conclusion</a> </li>\n",
    "</ul> \n",
    "</div>    \n",
    " "
   ]
  },
  {
   "cell_type": "markdown",
   "id": "a26e82f6",
   "metadata": {},
   "source": [
    "In statistic, LA is an linear approach to modeling the realationship between  one or more explanatory variables (independent or dependent).The case of one explanatory variable is  called  Simple Linear Regression for  more then one is called Multiple Linear Regression.In Linear Regression the relationships are modeled using <a href='https://en.wikipedia.org/wiki/Linear_predictor_function'> linear predictors function </a> whose unknown parameters are estimated from data."
   ]
  },
  {
   "cell_type": "markdown",
   "id": "b66279c9",
   "metadata": {},
   "source": [
    "<h2 id='simple~linear~regression'> Simple linear regression </h2>"
   ]
  },
  {
   "cell_type": "markdown",
   "id": "184eaf78",
   "metadata": {},
   "source": [
    "Simple Linear regression has a single explanatory variable.It concerns two-dimensional sample points with one dependent and one independent variable. (Conventionally x and y data point in Cartesian coordinate system).The adjective simple refers to the fact that the outcome variable is related to a single predictor."
   ]
  },
  {
   "cell_type": "markdown",
   "id": "bbded59f",
   "metadata": {},
   "source": [
    "<h2 href='fitting~reg'> Fitting the regression line with  least-squared </h2>\n"
   ]
  },
  {
   "cell_type": "markdown",
   "id": "ca784957",
   "metadata": {},
   "source": [
    "Consider the model function $y = \\alpha + \\beta x$ which describes a line with slope $\\beta$ and intercept $\\alpha$. <br>\n",
    "example : let $\\alpha=7$ and $\\beta=3$, geometrically $y = 7 + 3 x$ appears to be as below graphic."
   ]
  },
  {
   "cell_type": "code",
   "execution_count": 3,
   "id": "3acaae34",
   "metadata": {},
   "outputs": [
    {
     "data": {
      "image/png": "[encoded data removed]",
      "text/plain": [
       "<Figure size 432x288 with 1 Axes>"
      ]
     },
     "metadata": {
      "needs_background": "light"
     },
     "output_type": "display_data"
    }
   ],
   "source": [
    "x = np.linspace(-10,10)\n",
    "y = 7*x + 3\n",
    "#plt.scatter(x,y)\n",
    "plt.plot(x,y,color='r')\n",
    "set_spines()\n"
   ]
  },
  {
   "cell_type": "markdown",
   "id": "0cd8e4cf",
   "metadata": {},
   "source": [
    "Suppose we observe $n$ data pairs denoted with $(x_i,y_i), i = 1,2,...,n$."
   ]
  },
  {
   "cell_type": "code",
   "execution_count": 4,
   "id": "2c6f703a",
   "metadata": {},
   "outputs": [
    {
     "data": {
      "image/png": "[encoded data removed]",
      "text/plain": [
       "<Figure size 432x288 with 1 Axes>"
      ]
     },
     "metadata": {
      "needs_background": "light"
     },
     "output_type": "display_data"
    }
   ],
   "source": [
    "f = lambda x : 7*x + 3 + np.random.uniform(0,30)\n",
    "y =[f(i) for i in x]\n",
    "plt.scatter(x,y)\n",
    "set_spines()"
   ]
  },
  {
   "cell_type": "markdown",
   "id": "50b40053",
   "metadata": {},
   "source": [
    "We can describe the underlying relationship between $y_i$ and $x_i$ invloving the error term $\\varepsilon_i$ in linear equation $y_i =  \\alpha + \\beta x_i + \\varepsilon_i $.The  $\\varepsilon_i$  could be intepreted as the noise of the data or in some sense some type of randomness originated from various reasons.Also it is know as 'error term' or 'residual'.\n",
    "Our target is to find estimated values $\\alpha$ and $\\beta$ which would provide the best fit in some sense for data points.\n",
    "In order to find the 'best' fit we will use the <a href='https://en.wikipedia.org/wiki/Ordinary_least_squares'>least-squared</a> approach.From  mathematical view point the issue involved the minimization of Lost function respect to $\\alpha,\\beta$. \n",
    " $$1)  L = \\sum_i(y_i - \\alpha - \\beta x_i)^2$$.\n",
    "$L$ is called $Lost$ function the expression $(y_i - \\alpha - \\beta x_i)^2$ is called $Lost$ function.This function is appropiative because of It is a diferencianal everywhere and gives us  a measure of diference between dependent value $y_i$ and predicted value of $y'(\\alpha,\\beta)=\\alpha + \\beta x_i $.<br>\n",
    "In order to find $min_{\\alpha,\\beta}L(\\alpha,\\beta,x_i,_yi)$ we will use Gradient Descent method.<br>"
   ]
  },
  {
   "cell_type": "markdown",
   "id": "6adedaeb",
   "metadata": {},
   "source": [
    "<h2 id='grad~sim~linear'>1. Gradient Descent over simple linear regression</h2>"
   ]
  },
  {
   "cell_type": "markdown",
   "id": "d3cc2ded",
   "metadata": {},
   "source": [
    "The methods for finding the maximum and minumum (extrema) have been created with developing of mathematical analysis(calculus).Gradient Descent is numerical approach to local minumum of first-oreder differentiable function.The idea is to take repeaded steps on the oposite direction of the gradient the function in current point. \n"
   ]
  },
  {
   "cell_type": "markdown",
   "id": "2b4df355",
   "metadata": {},
   "source": [
    "Our pupose is to find the value of $x$ where the function gets the minumum value.\n",
    "The GD algorithm is difined by : \n",
    "  $$\\alpha = \\alpha - \\nabla_{\\alpha}L(\\alpha,\\beta)*h$$\n",
    "  $$\\beta = \\beta - \\nabla_{\\beta}L(\\alpha,\\beta)*h$$ <br>\n",
    "  \n",
    "where $h$ is called <mark>Learning rate</mark> or step size.\n",
    "Applying GD algorithm over our lost function 1) we will get : <br> <br>\n",
    "$$\\nabla_{\\alpha}(J(a,b)=\\frac{\\partial{L}}{\\partial{{\\alpha}}}=\\frac{\\partial{\\sum_i(y_i - \\alpha - \\beta x_i)^2}}{\\partial{{\\alpha}}}=-\\frac{2}{n}\\sum_{n=1}^{n}{(y_i-a*x_i - b)*x_i} $$ <br>\n",
    "$$\\nabla_{\\beta}(J(a,b)=\\frac{\\partial{L}}{\\partial{{\\beta }}}=\\frac{\\partial{\\sum_i(y_i - \\alpha - \\beta x_i)^2}}{\\partial{{\\beta}}}=- \\frac{2}{n}\\sum_{n=1}^{n}{(y_i-a*x_i - b)} $$ <br> <br>\n",
    "applying above to gradient descent forumula related to simple linear regression we achieved : \n",
    " $$\\alpha = \\alpha + \\frac{2}{n}\\sum_{n=1}^{n}{(y_i-a*x_i - b)*x_i}*h$$\n",
    "  $$\\beta = \\beta +\\frac{2}{n}\\sum_{n=1}^{n}{(y_i-a*x_i - b)}*h$$ <br>"
   ]
  },
  {
   "cell_type": "markdown",
   "id": "b5b3c302",
   "metadata": {},
   "source": [
    "The above equations are performed enough times to reach the minimum of Lost function with conditional that we have chosen the appropriate Learning rate $h$."
   ]
  },
  {
   "cell_type": "code",
   "execution_count": 5,
   "id": "10ae5a66",
   "metadata": {},
   "outputs": [],
   "source": [
    "#implementation cost function\n",
    "def lost(X,Y,alpha,betta):\n",
    "    '''\n",
    "    Calculation of cost (error) function of simple linear regression\n",
    "   \n",
    "    Parrameters : \n",
    "    X(array or number) : X arguments, independent variable\n",
    "    Y (array or number) : Y arguments, actual dependent variable \n",
    "    Returns :\n",
    "      number of cost function\n",
    "  '''\n",
    "   \n",
    "    return np.sum((Y - (alpha - betta*X ))**2 )\n"
   ]
  },
  {
   "cell_type": "code",
   "execution_count": 6,
   "id": "34094fe9",
   "metadata": {},
   "outputs": [],
   "source": [
    "def gradient_descent(X,Y,C=0.1,E=100):\n",
    "    '''\n",
    "    \n",
    "    Calculation of cost (error) function of simple linear regression\n",
    "   \n",
    "    Parrameters : \n",
    "    X(array or number) : X arguments, independent variable\n",
    "    Y (array or number) : Y arguments, actual dependent variable \n",
    "    C (number) :  learning rate\n",
    "    I(int) : number of iteration(Epoch)\n",
    "    Returns :\n",
    "      number of cost function\n",
    "   '''\n",
    "   \n",
    "    a = 30\n",
    "    b = 10 \n",
    "    a_args = []\n",
    "    b_args = []\n",
    "    n = X.size\n",
    "  \n",
    "    for i in range(E):\n",
    "        a = a + 2/n*(np.sum((Y - a*X - b)*X))*C\n",
    "        b =  b + 2/n*(np.sum((Y - a*X -b)))*C\n",
    "        a_args.append(a)\n",
    "        b_args.append(b)\n",
    "    return a,b,a_args,b_args "
   ]
  },
  {
   "cell_type": "code",
   "execution_count": 7,
   "id": "6224c48d",
   "metadata": {},
   "outputs": [
    {
     "data": {
      "text/plain": [
       "<matplotlib.collections.PathCollection at 0x5af59aaa60>"
      ]
     },
     "execution_count": 7,
     "metadata": {},
     "output_type": "execute_result"
    },
    {
     "data": {
      "image/png": "[encoded data removed]",
      "text/plain": [
       "<Figure size 432x288 with 1 Axes>"
      ]
     },
     "metadata": {
      "needs_background": "light"
     },
     "output_type": "display_data"
    }
   ],
   "source": [
    "x = np.linspace(-10,10)\n",
    "f = lambda x : 7*x + 3 + np.random.uniform(-30,30)\n",
    "y =[f(i) for i in x]\n",
    "plt.scatter(x,y)"
   ]
  },
  {
   "cell_type": "markdown",
   "id": "c7f42d00",
   "metadata": {},
   "source": [
    "Let to apply gradient descent of above points."
   ]
  },
  {
   "cell_type": "code",
   "execution_count": 8,
   "id": "e4d83693",
   "metadata": {},
   "outputs": [],
   "source": [
    "a,b,a_r,b_r = gradient_descent(x,y,C=0.01,E=1000)"
   ]
  },
  {
   "cell_type": "code",
   "execution_count": 9,
   "id": "60015ab0",
   "metadata": {},
   "outputs": [
    {
     "data": {
      "text/plain": [
       "(7.766000725288746, 3.736419450237377)"
      ]
     },
     "execution_count": 9,
     "metadata": {},
     "output_type": "execute_result"
    },
    {
     "data": {
      "image/png": "[encoded data removed]",
      "text/plain": [
       "<Figure size 432x288 with 1 Axes>"
      ]
     },
     "metadata": {
      "needs_background": "light"
     },
     "output_type": "display_data"
    }
   ],
   "source": [
    "plt.plot(a_r,color='r',label=r'$\\alpha $')\n",
    "plt.plot(b_r,label=r'$\\beta$')\n",
    "plt.xlabel(\"number of epoch E\")\n",
    "plt.ylabel(\"etimated parameters\")\n",
    "plt.title('C = 0.01 , E = 1000')\n",
    "plt.legend()\n",
    "a,b\n"
   ]
  },
  {
   "cell_type": "markdown",
   "id": "537448fe",
   "metadata": {},
   "source": [
    "From graphics we can see that the curves tend to  result $(\\alpha = 6.6603, \\beta =4.431)$.\n",
    "<br> \n",
    "The fit line will be : "
   ]
  },
  {
   "cell_type": "code",
   "execution_count": 10,
   "id": "89116918",
   "metadata": {},
   "outputs": [
    {
     "data": {
      "image/png": "[encoded data removed]",
      "text/plain": [
       "<Figure size 432x288 with 1 Axes>"
      ]
     },
     "metadata": {
      "needs_background": "light"
     },
     "output_type": "display_data"
    }
   ],
   "source": [
    "#7.047696929660597, 1.081292922517757\n",
    "plt.scatter(x,y)  #7.892385161777225, 5.6459662769234535\n",
    "plt.plot(x,6.6603*x +  4.431)\n",
    "set_spines()"
   ]
  },
  {
   "cell_type": "markdown",
   "id": "c5b88cc0",
   "metadata": {},
   "source": [
    "It seems to be somehow approriative line wich discribe the data well, but our origin values of $$ are $(\\alpha = 7, \\beta = 1)$   not $(\\alpha = 6.6603, \\beta = 4.431)$.In below we will examine how will chaged the $(\\alpha,\\beta)$ resprect to different Learnig rate $C$ and nuber of epoch E(itarations)."
   ]
  },
  {
   "cell_type": "markdown",
   "id": "ad0573e7",
   "metadata": {},
   "source": [
    " <h2 href='effect~learning~rate'>1.3  Effect of different values for learning rate </h2>"
   ]
  },
  {
   "cell_type": "markdown",
   "id": "6375b491",
   "metadata": {},
   "source": [
    "The Learning rate C is the tunning parameter in an optimization algorithm that determines the step size at each iteration while moving toward a minimum of cost function.While the gradient direction is usually determined from the gradient of the cost function, the learning rate determines how big a step is taken in that direction.The too hight learning rate will make  the learning jump  over minima but too low leaning rate will either take too long to converge or get stuck in an undesirable local minimum.In order to achieve faster convergence, prevent oscillations and getting stuck in undesirable local minima the learning rate is often varied during training either in accordance to a learning rate schedule or by using an adaptive learning rate"
   ]
  },
  {
   "cell_type": "markdown",
   "id": "debbd737",
   "metadata": {},
   "source": [
    "let's apply different learnning rate to our example:\n"
   ]
  },
  {
   "cell_type": "code",
   "execution_count": 11,
   "id": "757e8ae2",
   "metadata": {},
   "outputs": [
    {
     "data": {
      "text/plain": [
       "(7.787550419803599, 8.864604443160086)"
      ]
     },
     "execution_count": 11,
     "metadata": {},
     "output_type": "execute_result"
    },
    {
     "data": {
      "image/png": "[encoded data removed]",
      "text/plain": [
       "<Figure size 432x288 with 1 Axes>"
      ]
     },
     "metadata": {
      "needs_background": "light"
     },
     "output_type": "display_data"
    }
   ],
   "source": [
    "a,b,a_r,b_r = gradient_descent(x,y,C=0.000001,E=100000)\n",
    "plt.plot(a_r,color='r',label=r'$\\alpha $')\n",
    "plt.plot(b_r,label=r'$\\beta$')\n",
    "plt.xlabel(\"number of epoch E\")\n",
    "plt.ylabel(\"etimated parameters\")\n",
    "plt.title('C=0.000001, E=100000')\n",
    "plt.legend()\n",
    "a,b"
   ]
  },
  {
   "cell_type": "code",
   "execution_count": 12,
   "id": "52949096",
   "metadata": {},
   "outputs": [
    {
     "data": {
      "image/png": "[encoded data removed]",
      "text/plain": [
       "<Figure size 432x288 with 1 Axes>"
      ]
     },
     "metadata": {
      "needs_background": "light"
     },
     "output_type": "display_data"
    }
   ],
   "source": [
    "plt.scatter(x,y) \n",
    "plt.plot(x,6.6*x + 8.9)\n",
    "set_spines()"
   ]
  },
  {
   "cell_type": "markdown",
   "id": "f8177730",
   "metadata": {},
   "source": [
    "When the data is too big, The decreasing of learning rate can lead to enormous time execution,but in above the result is satisfying too."
   ]
  },
  {
   "cell_type": "code",
   "execution_count": 13,
   "id": "d7fee175",
   "metadata": {},
   "outputs": [
    {
     "data": {
      "text/plain": [
       "(6.99604135206744e+184, -4.272584466841102e+169)"
      ]
     },
     "execution_count": 13,
     "metadata": {},
     "output_type": "execute_result"
    },
    {
     "data": {
      "image/png": "[encoded data removed]",
      "text/plain": [
       "<Figure size 432x288 with 1 Axes>"
      ]
     },
     "metadata": {
      "needs_background": "light"
     },
     "output_type": "display_data"
    }
   ],
   "source": [
    "a,b,a_r,b_r = gradient_descent(x,y,C=1,E=100)\n",
    "plt.plot(a_r,color='r',label=r'$\\alpha $')\n",
    "plt.plot(b_r,label=r'$\\beta$')\n",
    "plt.xlabel(\"number of epoch E\")\n",
    "plt.ylabel(\"etimated parameters\")\n",
    "plt.title('C=1, E=100')\n",
    "plt.legend()\n",
    "a,b"
   ]
  },
  {
   "cell_type": "markdown",
   "id": "0bea1c89",
   "metadata": {},
   "source": [
    "The result is extremely bad. In this case, the learning has made a learning jump, therefore the result is run away from minima."
   ]
  },
  {
   "cell_type": "markdown",
   "id": "de5b638d",
   "metadata": {},
   "source": [
    "<h1 id='m-linear-r'>2. Multiple Linear Regression</h1>"
   ]
  },
  {
   "cell_type": "markdown",
   "id": "14b687f8",
   "metadata": {},
   "source": [
    "Multiple Linear Regression also known as multiple regression, is a statistical technique that uses several explanatory variable to predict the outcome of response variable.In essence, MLR is an extension of ordinary least-squared regression.The equation that we are searching for is defined by : <br> <br>\n",
    "$$\\hat{ y}^i= h(x{^i}) =  \\vartheta_0 + \\vartheta_1 x^i_{1} + \\vartheta_2 x_{2}^i+ ...\\vartheta_p x_{p}^i  $$\n",
    "<br> <br>\n",
    "where , $i$ is number of obeservation,\n",
    "$y_i$ dependet(target) value,\n",
    "$x_p $ feature values,\n",
    "$\\vartheta_0$ intercept,\n",
    "$\\vartheta_{p}$ slope coeff. for each explanority var. ,\n"
   ]
  },
  {
   "cell_type": "markdown",
   "id": "5415cb3d",
   "metadata": {},
   "source": [
    "The above hypotesis can also be represented by  \n",
    " $$\\hat{Y} = X\\Theta^T$$ <br> <br>\n",
    " where $ \\Theta =\\begin{bmatrix}\n",
    "\\vartheta_0\\\\\n",
    "\\vdots \\\\\n",
    "\\vartheta_p \\\\\n",
    "\\end{bmatrix}$ $X = \\begin{bmatrix} \n",
    "1 &x_1^1 & x_1^2 & x_1^n \\\\\n",
    "\\vdots & \\ddots & \\vdots & \\vdots \\\\\n",
    "1& x_p^1 & \\dots & x_p^n \\\\\n",
    "\\end{bmatrix} $ and $\\hat{Y} = \\begin{bmatrix}\n",
    "\\hat{y}^0\\\\\n",
    "\\vdots \\\\\n",
    "\\hat{y}^p \\\\\n",
    "\\end{bmatrix}$\n",
    "<br> <br>\n",
    "we've append column $\\hat{Y} = \\begin{bmatrix}\n",
    "1\\\\\n",
    "\\vdots \\\\\n",
    "1\\\\\n",
    "\\end{bmatrix}$ to $X$ in order to be used in matrix multiplication directly."
   ]
  },
  {
   "cell_type": "markdown",
   "id": "b66a6e56",
   "metadata": {},
   "source": [
    "To define and measure the error of our model we define the cost function as the sum of the squares of the residuals. The cost function is denoted by :\n",
    "    $$3)\\hspace{1cm} J(\\varTheta) = \\frac{1}{2m}\\sum_{i=0}^m(h(x^i) - y^i)^2 $$"
   ]
  },
  {
   "cell_type": "markdown",
   "id": "a35573f1",
   "metadata": {},
   "source": [
    "We have to initialize the model parameter with some random values(random initialization).To use Gradient Descent we need to measure how the cost function changes with change in it's parametes.Therefore we compute the partial derivatives of cost finction $4)\\hspace{1cm}  J(\\vartheta_0,\\vartheta_1,...,\\vartheta_n)$ <br> <br>\n",
    "$$ \\frac{\\partial{J(\\varTheta)}}{\\partial{\\theta_j}} = \\frac{1}{m}\\sum_{i=0}^m(h(x^i) - y^i)x_j^i$$\n",
    "In more compatable form using matrix in order to be implemnted using <mark>NUMPY</mark>\n"
   ]
  },
  {
   "cell_type": "markdown",
   "id": "a4957ac0",
   "metadata": {},
   "source": [
    "Using the <a href='https://en.wikipedia.org/wiki/Einstein_notation' > Eistein notaion </a> we can rewrite eq. 4) <br> <br> <br>\n",
    "$$ \\frac{\\partial{J(\\vartheta_k)}}{\\partial{\\theta_j}} = \\frac{1}{m}(\\theta_p x_p^i - y^i)x_j^i $$ in matrix form <br> <br> <br>\n",
    " $$5) \\hspace{1cm}  \\vec{\\nabla} J(\\varTheta)=((X\\Theta^T- Y)^T.X)^T $$ <br> <br>\n",
    "  applying the rule  $(AB)^T$ the eq can be reformed\n",
    "   $$6) \\hspace{1cm}  \\vec{\\nabla} J(\\varTheta)= X^T(X\\Theta^T- Y) $$  <br> <br>\n",
    " $$ where  \\hspace{1cm} \\vec{\\nabla} = \\frac{\\partial}{\\partial{\\theta_j}\\vec{e_j}}$$ <br> <br>\n",
    "\n",
    " eq. 6 is extremely comfortable because it can be implemented very simple in <mark>NUMPY</mark> which is many times faster than common Python\n"
   ]
  },
  {
   "cell_type": "markdown",
   "id": "5ef8219e",
   "metadata": {},
   "source": [
    "The Gradient Descent alg finaly will looks like that : <br>\n",
    " $$\\theta = \\theta - h\\vec{\\nabla} J(\\varTheta) $$ h is learnig rate\n"
   ]
  },
  {
   "cell_type": "markdown",
   "id": "54655d32",
   "metadata": {},
   "source": [
    "Calcaulation of accuracy of Multilinear regression by $R^2$"
   ]
  },
  {
   "cell_type": "markdown",
   "id": "1178e12a",
   "metadata": {},
   "source": [
    "We will be using Root mean squared error(RMSE) of Determination($R^2$ score)  to evaluate our model.<br>\n",
    "RMSE is a square root of average of sum of suares of residualas.\n",
    "RMSE is difined by : <br>\n",
    "$$ RMSE =\\sqrt{\\frac{1}{2}\\sum_{i=1}^m(h(x^i)- y ^i)} $$\n",
    "R² score or the coefficient of determination explains how much the total variance of the dependent variable can be reduced by using the least square regression.<br>\n",
    "$R^2$ is determed by \n",
    "    $$R^2 = 1 - \\frac{SS_r}{SS_t}$$\n",
    "\n",
    "SS_t  is the total sum of errors if we take the mean of the observed values as the predicted value.\n",
    "$$SS_t =\\sum_{i=1}^m( y ^i -\\bar{y})^2 $$ <Br>\n",
    "    $$ SS_r =\\sum_{i=1}^m(h(x^i)- y ^i)^2 $$"
   ]
  },
  {
   "cell_type": "markdown",
   "id": "3ec2d42c",
   "metadata": {},
   "source": [
    "<h2>Implementation of gradient descent for Multiple Linear regression in NUMPY</h2>"
   ]
  },
  {
   "cell_type": "code",
   "execution_count": 19,
   "id": "8372a84b",
   "metadata": {},
   "outputs": [],
   "source": [
    "class MultipleLinearRegression:\n",
    "    \"\"\"\n",
    "    Multiple Linear regression\n",
    "\n",
    "    Parameters\n",
    "    ..........\n",
    "\n",
    "    C : float\n",
    "        learning rate\n",
    "    I : int\n",
    "        number of iterations (Epochs)\n",
    "    Attributes\n",
    "    ..........\n",
    "     w_ : weights (Predictors)\n",
    "\n",
    "    \"\"\"\n",
    "\n",
    "    def __init__(self, C=0.001, I=50):\n",
    "        self.C = C\n",
    "        self.I = I\n",
    "        self.w_ = None\n",
    "\n",
    "    def fit(self, X, Y):\n",
    "        \"\"\"Fit tthe training data\n",
    "\n",
    "        Parameters\n",
    "        ..........\n",
    "\n",
    "        X : array, shape = [N_samples,n_features]\n",
    "            Training samples\n",
    "        Y  : array, shape = [n_samples, n_target_values]\n",
    "\n",
    "        Returns\n",
    "        .......\n",
    "        self : object\n",
    "\n",
    "        \"\"\"\n",
    "\n",
    "        X, Y = self._validate(X, Y)\n",
    "        self.w_ = np.ones((X.shape[1], 1))  # inicialized predictors\n",
    "        M = X.shape[0]  # numbers of samples\n",
    "        for _ in range(self.I):\n",
    "            self.w_ =self.w_ -  self.C * (1 / M) * X.T.dot((X.dot(self.w_) - Y))\n",
    "            #self.w -= self.C * (1 / M) * X.T.dot((X.dot(self.w) - Y))\n",
    "\n",
    "\n",
    "        return self\n",
    "\n",
    "    def predict(self, x):\n",
    "        \"\"\" Predicts the value after the model has been trained.\n",
    "        Parameters\n",
    "        ----------\n",
    "        x : array-like, shape = [n_samples, n_features]\n",
    "            Test samples\n",
    "        Returns\n",
    "        -------\n",
    "        Predicted value\n",
    "        \"\"\"\n",
    "        x = np.append(np.ones((x.shape[0], 1)), x, axis=1)\n",
    "        return np.dot(x, self.w_)\n",
    "\n",
    "    def score(self,X, Y):\n",
    "        \"\"\"Calculation of accuracy using (R^2 score)\n",
    "             x : array-like, shape = [n_samples, n_features]\n",
    "             y : array-like, shape = [n_samples, n_features]\n",
    "            Test samples\n",
    "        Returns\n",
    "        float : score\n",
    "        -------\n",
    "        Predicted value\n",
    "\n",
    "        \"\"\"\n",
    "        #X = np.append(np.ones((X.shape[0], 1)), X, axis=1)\n",
    "        #Y = np.array(Y).reshape(X.shape[0], 1)\n",
    "        X,Y = self._validate(X,Y)\n",
    "        y_prime = np.dot(X, self.w_)\n",
    "        ssr = np.sum((y_prime - Y) ** 2)\n",
    "        sst = np.sum((Y - np.mean(y_prime)) ** 2)\n",
    "        r2_score = 1 - (ssr / sst)\n",
    "        return r2_score\n",
    "    \n",
    "    def _validate(self,X,y):\n",
    "        '''Added tow with one number to X data\n",
    "        reshape Y data\n",
    "\n",
    "\n",
    "        :param X: array-like, shape = [n_samples, n_features]\n",
    "        :param y: array-like, shape = [n_samples, n_target_values]\n",
    "        :return: validated X,Y\n",
    "        '''\n",
    "        return   np.append(np.ones((X.shape[0], 1)), X, axis=1),\\\n",
    "                 np.array(y).reshape(y.shape[0], 1)"
   ]
  },
  {
   "cell_type": "markdown",
   "id": "619ae1a2",
   "metadata": {},
   "source": [
    "We will test our implementation over insurence.csv data set\n",
    "\n"
   ]
  },
  {
   "cell_type": "code",
   "execution_count": 21,
   "id": "d8b89c5b",
   "metadata": {},
   "outputs": [
    {
     "data": {
      "text/html": [
       "<div>\n",
       "<style scoped>\n",
       "    .dataframe tbody tr th:only-of-type {\n",
       "        vertical-align: middle;\n",
       "    }\n",
       "\n",
       "    .dataframe tbody tr th {\n",
       "        vertical-align: top;\n",
       "    }\n",
       "\n",
       "    .dataframe thead th {\n",
       "        text-align: right;\n",
       "    }\n",
       "</style>\n",
       "<table border=\"1\" class=\"dataframe\">\n",
       "  <thead>\n",
       "    <tr style=\"text-align: right;\">\n",
       "      <th></th>\n",
       "      <th>age</th>\n",
       "      <th>sex</th>\n",
       "      <th>bmi</th>\n",
       "      <th>children</th>\n",
       "      <th>smoker</th>\n",
       "      <th>region</th>\n",
       "      <th>charges</th>\n",
       "    </tr>\n",
       "  </thead>\n",
       "  <tbody>\n",
       "    <tr>\n",
       "      <th>0</th>\n",
       "      <td>19</td>\n",
       "      <td>female</td>\n",
       "      <td>27.900</td>\n",
       "      <td>0</td>\n",
       "      <td>yes</td>\n",
       "      <td>southwest</td>\n",
       "      <td>16884.92400</td>\n",
       "    </tr>\n",
       "    <tr>\n",
       "      <th>1</th>\n",
       "      <td>18</td>\n",
       "      <td>male</td>\n",
       "      <td>33.770</td>\n",
       "      <td>1</td>\n",
       "      <td>no</td>\n",
       "      <td>southeast</td>\n",
       "      <td>1725.55230</td>\n",
       "    </tr>\n",
       "    <tr>\n",
       "      <th>2</th>\n",
       "      <td>28</td>\n",
       "      <td>male</td>\n",
       "      <td>33.000</td>\n",
       "      <td>3</td>\n",
       "      <td>no</td>\n",
       "      <td>southeast</td>\n",
       "      <td>4449.46200</td>\n",
       "    </tr>\n",
       "    <tr>\n",
       "      <th>3</th>\n",
       "      <td>33</td>\n",
       "      <td>male</td>\n",
       "      <td>22.705</td>\n",
       "      <td>0</td>\n",
       "      <td>no</td>\n",
       "      <td>northwest</td>\n",
       "      <td>21984.47061</td>\n",
       "    </tr>\n",
       "    <tr>\n",
       "      <th>4</th>\n",
       "      <td>32</td>\n",
       "      <td>male</td>\n",
       "      <td>28.880</td>\n",
       "      <td>0</td>\n",
       "      <td>no</td>\n",
       "      <td>northwest</td>\n",
       "      <td>3866.85520</td>\n",
       "    </tr>\n",
       "  </tbody>\n",
       "</table>\n",
       "</div>"
      ],
      "text/plain": [
       "   age     sex     bmi  children smoker     region      charges\n",
       "0   19  female  27.900         0    yes  southwest  16884.92400\n",
       "1   18    male  33.770         1     no  southeast   1725.55230\n",
       "2   28    male  33.000         3     no  southeast   4449.46200\n",
       "3   33    male  22.705         0     no  northwest  21984.47061\n",
       "4   32    male  28.880         0     no  northwest   3866.85520"
      ]
     },
     "execution_count": 21,
     "metadata": {},
     "output_type": "execute_result"
    }
   ],
   "source": [
    "df = pd.read_csv(\"../../../resources/data/insurance.csv\")  \n",
    "df.head()"
   ]
  },
  {
   "cell_type": "markdown",
   "id": "bd57832d",
   "metadata": {},
   "source": [
    "Converting Categories to Numbers. The linear regression can be performed only on numbers, so we should convert these categorical features into numbers. To do that, we can make use of a function called get_dummies.\n",
    "So let’s convert the “sex,” “smoker,” and “region” columns into numerically represented features."
   ]
  },
  {
   "cell_type": "code",
   "execution_count": 22,
   "id": "5532c250",
   "metadata": {},
   "outputs": [
    {
     "data": {
      "text/html": [
       "<div>\n",
       "<style scoped>\n",
       "    .dataframe tbody tr th:only-of-type {\n",
       "        vertical-align: middle;\n",
       "    }\n",
       "\n",
       "    .dataframe tbody tr th {\n",
       "        vertical-align: top;\n",
       "    }\n",
       "\n",
       "    .dataframe thead th {\n",
       "        text-align: right;\n",
       "    }\n",
       "</style>\n",
       "<table border=\"1\" class=\"dataframe\">\n",
       "  <thead>\n",
       "    <tr style=\"text-align: right;\">\n",
       "      <th></th>\n",
       "      <th>age</th>\n",
       "      <th>bmi</th>\n",
       "      <th>children</th>\n",
       "      <th>charges</th>\n",
       "      <th>sex_male</th>\n",
       "      <th>smoker_yes</th>\n",
       "      <th>region_northwest</th>\n",
       "      <th>region_southeast</th>\n",
       "      <th>region_southwest</th>\n",
       "    </tr>\n",
       "  </thead>\n",
       "  <tbody>\n",
       "    <tr>\n",
       "      <th>0</th>\n",
       "      <td>19</td>\n",
       "      <td>27.900</td>\n",
       "      <td>0</td>\n",
       "      <td>16884.92400</td>\n",
       "      <td>0</td>\n",
       "      <td>1</td>\n",
       "      <td>0</td>\n",
       "      <td>0</td>\n",
       "      <td>1</td>\n",
       "    </tr>\n",
       "    <tr>\n",
       "      <th>1</th>\n",
       "      <td>18</td>\n",
       "      <td>33.770</td>\n",
       "      <td>1</td>\n",
       "      <td>1725.55230</td>\n",
       "      <td>1</td>\n",
       "      <td>0</td>\n",
       "      <td>0</td>\n",
       "      <td>1</td>\n",
       "      <td>0</td>\n",
       "    </tr>\n",
       "    <tr>\n",
       "      <th>2</th>\n",
       "      <td>28</td>\n",
       "      <td>33.000</td>\n",
       "      <td>3</td>\n",
       "      <td>4449.46200</td>\n",
       "      <td>1</td>\n",
       "      <td>0</td>\n",
       "      <td>0</td>\n",
       "      <td>1</td>\n",
       "      <td>0</td>\n",
       "    </tr>\n",
       "    <tr>\n",
       "      <th>3</th>\n",
       "      <td>33</td>\n",
       "      <td>22.705</td>\n",
       "      <td>0</td>\n",
       "      <td>21984.47061</td>\n",
       "      <td>1</td>\n",
       "      <td>0</td>\n",
       "      <td>1</td>\n",
       "      <td>0</td>\n",
       "      <td>0</td>\n",
       "    </tr>\n",
       "    <tr>\n",
       "      <th>4</th>\n",
       "      <td>32</td>\n",
       "      <td>28.880</td>\n",
       "      <td>0</td>\n",
       "      <td>3866.85520</td>\n",
       "      <td>1</td>\n",
       "      <td>0</td>\n",
       "      <td>1</td>\n",
       "      <td>0</td>\n",
       "      <td>0</td>\n",
       "    </tr>\n",
       "  </tbody>\n",
       "</table>\n",
       "</div>"
      ],
      "text/plain": [
       "   age     bmi  children      charges  sex_male  smoker_yes  region_northwest  \\\n",
       "0   19  27.900         0  16884.92400         0           1                 0   \n",
       "1   18  33.770         1   1725.55230         1           0                 0   \n",
       "2   28  33.000         3   4449.46200         1           0                 0   \n",
       "3   33  22.705         0  21984.47061         1           0                 1   \n",
       "4   32  28.880         0   3866.85520         1           0                 1   \n",
       "\n",
       "   region_southeast  region_southwest  \n",
       "0                 0                 1  \n",
       "1                 1                 0  \n",
       "2                 1                 0  \n",
       "3                 0                 0  \n",
       "4                 0                 0  "
      ]
     },
     "execution_count": 22,
     "metadata": {},
     "output_type": "execute_result"
    }
   ],
   "source": [
    "cols = ['sex', 'smoker', 'region']\n",
    "new_df = pd.get_dummies(df, cols, drop_first= True)\n",
    "new_df.head()"
   ]
  },
  {
   "cell_type": "markdown",
   "id": "be33884f",
   "metadata": {},
   "source": [
    "Now, let’s only select the features that are the most relevant.\n",
    "Feature selection is one of the important tasks in any machine learning project. You must know which features are most correlated with the targets (the “charges” column in our case) and must only use those features that have a high correlation with your target.\n",
    "This can be done through experimentation.\n",
    "For example, in this problem, I tried using the “sex” and “region” features to predict “charges” but didn’t find much of an improvement in the prediction performance of the model.\n",
    "So I decided to omit these features from the model.\n",
    "Through small experimentation like that, I found the “age,” “bmi,” and “smoker” columns to be most relevant when predicting insurance costs (the “charges” column in our data frame).\n"
   ]
  },
  {
   "cell_type": "code",
   "execution_count": 24,
   "id": "6bc6a5d5",
   "metadata": {},
   "outputs": [],
   "source": [
    "X = new_df[['age', 'bmi', 'smoker_yes']]\n",
    "y = new_df['charges']"
   ]
  },
  {
   "cell_type": "markdown",
   "id": "7a11aaf9",
   "metadata": {},
   "source": [
    "We will perfomr standarlization over X "
   ]
  },
  {
   "cell_type": "code",
   "execution_count": 28,
   "id": "b0b0878e",
   "metadata": {},
   "outputs": [],
   "source": [
    "scaler = StandardScaler()"
   ]
  },
  {
   "cell_type": "code",
   "execution_count": 29,
   "id": "36a9bc72",
   "metadata": {},
   "outputs": [],
   "source": [
    "X = scaler.fit_transform(X)"
   ]
  },
  {
   "cell_type": "markdown",
   "id": "7dee1b22",
   "metadata": {},
   "source": [
    "Splliting data to Train and Test"
   ]
  },
  {
   "cell_type": "code",
   "execution_count": 30,
   "id": "2a0e092f",
   "metadata": {},
   "outputs": [],
   "source": [
    "X_train, X_test, y_train, y_test = train_test_split(X, y, test_size = 0.2)"
   ]
  },
  {
   "cell_type": "markdown",
   "id": "978510d9",
   "metadata": {},
   "source": [
    "End let to train the data using our implementation"
   ]
  },
  {
   "cell_type": "code",
   "execution_count": 32,
   "id": "738893d9",
   "metadata": {},
   "outputs": [],
   "source": [
    "model =  MultipleLinearRegression(C=0.01,I=1000)\n",
    "z = model.fit(X_train,y_train)"
   ]
  },
  {
   "cell_type": "code",
   "execution_count": null,
   "id": "8475b168",
   "metadata": {},
   "outputs": [],
   "source": []
  },
  {
   "cell_type": "code",
   "execution_count": 37,
   "id": "a1e54fa1",
   "metadata": {},
   "outputs": [
    {
     "data": {
      "text/plain": [
       "0.7323173758003395"
      ]
     },
     "execution_count": 37,
     "metadata": {},
     "output_type": "execute_result"
    }
   ],
   "source": [
    "model.score(X_test,y_test"
   ]
  },
  {
   "cell_type": "markdown",
   "id": "caac0156",
   "metadata": {},
   "source": [
    "We've achived according to 𝑅2  score 73% accuracy"
   ]
  },
  {
   "cell_type": "markdown",
   "id": "79855144",
   "metadata": {},
   "source": [
    "Let see how will be in standart LinearRegresion in sklearn in Python"
   ]
  },
  {
   "cell_type": "code",
   "execution_count": 41,
   "id": "49739e03",
   "metadata": {},
   "outputs": [
    {
     "data": {
      "text/plain": [
       "LinearRegression()"
      ]
     },
     "execution_count": 41,
     "metadata": {},
     "output_type": "execute_result"
    }
   ],
   "source": [
    "lr = LinearRegression(fit_intercept=True)\n",
    "lr.fit(X_train,y_train)"
   ]
  },
  {
   "cell_type": "code",
   "execution_count": 42,
   "id": "6694718a",
   "metadata": {},
   "outputs": [
    {
     "data": {
      "text/plain": [
       "0.7322470193784116"
      ]
     },
     "execution_count": 42,
     "metadata": {},
     "output_type": "execute_result"
    }
   ],
   "source": [
    "lr.score(X_test,y_test)"
   ]
  },
  {
   "cell_type": "markdown",
   "id": "15a231f8",
   "metadata": {},
   "source": [
    "The score using imprlemntation in sklearn in Python is the same as our implementation , Let to compare  the  predicted valuea"
   ]
  },
  {
   "cell_type": "code",
   "execution_count": 92,
   "id": "0d7f5510",
   "metadata": {},
   "outputs": [
    {
     "data": {
      "text/html": [
       "<div>\n",
       "<style scoped>\n",
       "    .dataframe tbody tr th:only-of-type {\n",
       "        vertical-align: middle;\n",
       "    }\n",
       "\n",
       "    .dataframe tbody tr th {\n",
       "        vertical-align: top;\n",
       "    }\n",
       "\n",
       "    .dataframe thead th {\n",
       "        text-align: right;\n",
       "    }\n",
       "</style>\n",
       "<table border=\"1\" class=\"dataframe\">\n",
       "  <thead>\n",
       "    <tr style=\"text-align: right;\">\n",
       "      <th></th>\n",
       "      <th>0</th>\n",
       "    </tr>\n",
       "  </thead>\n",
       "  <tbody>\n",
       "    <tr>\n",
       "      <th>26963.233582</th>\n",
       "      <td>26962.539696</td>\n",
       "    </tr>\n",
       "    <tr>\n",
       "      <th>32466.037854</th>\n",
       "      <td>32465.293221</td>\n",
       "    </tr>\n",
       "    <tr>\n",
       "      <th>16386.515466</th>\n",
       "      <td>16386.117349</td>\n",
       "    </tr>\n",
       "    <tr>\n",
       "      <th>10313.491299</th>\n",
       "      <td>10312.927540</td>\n",
       "    </tr>\n",
       "    <tr>\n",
       "      <th>4554.159257</th>\n",
       "      <td>4553.882338</td>\n",
       "    </tr>\n",
       "    <tr>\n",
       "      <th>...</th>\n",
       "      <td>...</td>\n",
       "    </tr>\n",
       "    <tr>\n",
       "      <th>6066.659315</th>\n",
       "      <td>6066.487660</td>\n",
       "    </tr>\n",
       "    <tr>\n",
       "      <th>1301.918644</th>\n",
       "      <td>1301.573708</td>\n",
       "    </tr>\n",
       "    <tr>\n",
       "      <th>9178.571257</th>\n",
       "      <td>9178.181162</td>\n",
       "    </tr>\n",
       "    <tr>\n",
       "      <th>6629.357965</th>\n",
       "      <td>6629.146516</td>\n",
       "    </tr>\n",
       "    <tr>\n",
       "      <th>28596.887404</th>\n",
       "      <td>28596.167084</td>\n",
       "    </tr>\n",
       "  </tbody>\n",
       "</table>\n",
       "<p>268 rows × 1 columns</p>\n",
       "</div>"
      ],
      "text/plain": [
       "                         0\n",
       "26963.233582  26962.539696\n",
       "32466.037854  32465.293221\n",
       "16386.515466  16386.117349\n",
       "10313.491299  10312.927540\n",
       "4554.159257    4553.882338\n",
       "...                    ...\n",
       "6066.659315    6066.487660\n",
       "1301.918644    1301.573708\n",
       "9178.571257    9178.181162\n",
       "6629.357965    6629.146516\n",
       "28596.887404  28596.167084\n",
       "\n",
       "[268 rows x 1 columns]"
      ]
     },
     "execution_count": 92,
     "metadata": {},
     "output_type": "execute_result"
    }
   ],
   "source": [
    "our_predicted_data = model.predict(X_test)[:,0]\n",
    "python_predicted_data = lr.predict(X_test)\n",
    "pd.DataFrame(our_predicted_data ,python_predicted_data  )"
   ]
  },
  {
   "cell_type": "markdown",
   "id": "81f42743",
   "metadata": {},
   "source": [
    "The diferences is too small,but we can perform $R^2 score$ over the both Python and Our predicted  data  "
   ]
  },
  {
   "cell_type": "code",
   "execution_count": 93,
   "id": "b20b6127",
   "metadata": {},
   "outputs": [
    {
     "data": {
      "text/plain": [
       "0.9999999976969305"
      ]
     },
     "execution_count": 93,
     "metadata": {},
     "output_type": "execute_result"
    }
   ],
   "source": [
    "ssr = np.sum((our_predicted_data - python_predicted_data) ** 2)\n",
    "sst = np.sum((our_predicted_data - np.mean(python_predicted_data)) ** 2)\n",
    "r2_score = 1 - (ssr / sst)\n",
    "r2_score"
   ]
  },
  {
   "cell_type": "markdown",
   "id": "cc45deb3",
   "metadata": {},
   "source": [
    "0.9999999976969305 shows that the difference is negligible"
   ]
  },
  {
   "cell_type": "markdown",
   "id": "3a1e1524",
   "metadata": {},
   "source": []
  }
 ],
 "metadata": {
  "kernelspec": {
   "display_name": "Python 3",
   "language": "python",
   "name": "python3"
  },
  "language_info": {
   "codemirror_mode": {
    "name": "ipython",
    "version": 3
   },
   "file_extension": ".py",
   "mimetype": "text/x-python",
   "name": "python",
   "nbconvert_exporter": "python",
   "pygments_lexer": "ipython3",
   "version": "3.8.8"
  }
 },
 "nbformat": 4,
 "nbformat_minor": 5
}
