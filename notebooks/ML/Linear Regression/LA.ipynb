{
 "cells": [
  {
   "cell_type": "code",
   "execution_count": 1,
   "id": "5a5514e7",
   "metadata": {},
   "outputs": [],
   "source": [
    "#help function\n",
    "def set_spines():\n",
    "    ax = plt.gca()  # gca stands for 'get current axis'\n",
    "    ax.spines['right'].set_color('none')\n",
    "    ax.spines['top'].set_color('none')\n",
    "    ax.xaxis.set_ticks_position('bottom')\n",
    "    ax.spines['bottom'].set_position(('data',0))\n",
    "    ax.yaxis.set_ticks_position('left')\n",
    "    ax.spines['left'].set_position(('data',0))"
   ]
  },
  {
   "cell_type": "code",
   "execution_count": 24,
   "id": "99e1f55d",
   "metadata": {},
   "outputs": [],
   "source": [
    "%matplotlib inline\n",
    "import matplotlib.pyplot as plt\n",
    "import numpy as np\n",
    "import math\n",
    "from mpl_toolkits.mplot3d import Axes3D\n",
    "from random import random\n",
    "#from mpl_toolkits.mplot3d import axes3d\n",
    "import matplotlib.pyplot as plt\n",
    "import pandas as pd"
   ]
  },
  {
   "cell_type": "markdown",
   "id": "90312f73",
   "metadata": {},
   "source": [
    " # Linear Regression\n",
    " <ul style=\"margin-left: 30px\">\n",
    "      <li>1  <a href='#simple~linear~regression'>Simple Linear Regression </a> </li> \n",
    "      <li>1.1 <a href='#fitting~reg'> Fitting the regresion line</a> </li>\n",
    "      <li>1.2 <a href='#grad~sim~linear'>Gradient Descent over simple linear regression</a> </li>\n",
    "      <li>1.3 <a href='#effect~learning~rate'>Effect of different values for learning rate</a> </li>\n",
    "      <li>2 <a href='#m-linear-r'>Multiple Linear Regression</a> </li>\n",
    "      <li><a href='#reg'>Regularization of gradient descent by learning rate and max iterations</a> </li>    \n",
    "      <li><a href='#conclusion'>Conclusion</a> </li>\n",
    "</ul>    "
   ]
  },
  {
   "cell_type": "markdown",
   "id": "a26e82f6",
   "metadata": {},
   "source": [
    "In statistic, LA is an linear approach to modeling the realationship between  one or more explanatory variables (independent or dependent).The case of one explanatory variable is  called  Simple Linear Regression for  more then one is called Multiple Linear Regression.In Linear Regression the relationships are modeled using <a href='https://en.wikipedia.org/wiki/Linear_predictor_function'> linear predictors function </a> whose unknown parameters are estimated from data."
   ]
  },
  {
   "cell_type": "markdown",
   "id": "b66279c9",
   "metadata": {},
   "source": [
    "<h2 id='simple~linear~regression'> Simple linear regression </h2>"
   ]
  },
  {
   "cell_type": "markdown",
   "id": "184eaf78",
   "metadata": {},
   "source": [
    "Simple Linear regression has a single explanatory variable.It concerns two-dimensional sample points with one dependent and one independent variable. (Conventionally x and y data point in Cartesian coordinate system).The adjective simple refers to the fact that the outcome variable is related to a single predictor."
   ]
  },
  {
   "cell_type": "markdown",
   "id": "bbded59f",
   "metadata": {},
   "source": [
    "<h2 href='fitting~reg'> Fitting the regression line </h2>\n"
   ]
  },
  {
   "cell_type": "markdown",
   "id": "ca784957",
   "metadata": {},
   "source": [
    "Consider the model function $y = \\alpha + \\beta x$ which describes a line with slope $\\beta$ and intercept $\\alpha$. <br>\n",
    "example : let $\\alpha=7$ and $\\beta=3$, geometrically $y = 7 + 3 x$ appears to be as below graphic."
   ]
  },
  {
   "cell_type": "code",
   "execution_count": 3,
   "id": "3acaae34",
   "metadata": {},
   "outputs": [
    {
     "data": {
      "image/png": "[encoded data removed]",
      "text/plain": [
       "<Figure size 432x288 with 1 Axes>"
      ]
     },
     "metadata": {
      "needs_background": "light"
     },
     "output_type": "display_data"
    }
   ],
   "source": [
    "x = np.linspace(-10,10)\n",
    "y = 7*x + 3\n",
    "#plt.scatter(x,y)\n",
    "plt.plot(x,y,color='r')\n",
    "set_spines()\n"
   ]
  },
  {
   "cell_type": "markdown",
   "id": "0cd8e4cf",
   "metadata": {},
   "source": [
    "Suppose we observe $n$ data pairs denoted with $(x_i,y_i), i = 1,2,...,n$."
   ]
  },
  {
   "cell_type": "code",
   "execution_count": 4,
   "id": "2c6f703a",
   "metadata": {},
   "outputs": [
    {
     "data": {
      "image/png": "[encoded data removed]",
      "text/plain": [
       "<Figure size 432x288 with 1 Axes>"
      ]
     },
     "metadata": {
      "needs_background": "light"
     },
     "output_type": "display_data"
    }
   ],
   "source": [
    "f = lambda x : 7*x + 3 + np.random.uniform(0,30)\n",
    "y =[f(i) for i in x]\n",
    "plt.scatter(x,y)\n",
    "set_spines()"
   ]
  },
  {
   "cell_type": "markdown",
   "id": "50b40053",
   "metadata": {},
   "source": [
    "We can describe the underlying relationship between $y_i$ and $x_i$ invloving the error term $\\varepsilon_i$ in linear equation $y_i =  \\alpha + \\beta x_i + \\varepsilon_i $.The  $\\varepsilon_i$  could be intepreted as the noise of the data or in some sense some type of randomness originated from various reasons.Also it is know as 'error term' or 'residual'.\n",
    "Our target is to find estimated values $\\alpha$ and $\\beta$ which would provide the best fit in some sense for data points.\n",
    "In order to find the 'best' fit we will use the <a href='https://en.wikipedia.org/wiki/Ordinary_least_squares'>least-squared</a> approach.From  mathematical view point the issue involved the minimization of Lost function respect to $\\alpha,\\beta$. \n",
    " $$1)  L = \\sum_i(y_i - \\alpha - \\beta x_i)^2$$.\n",
    "$L$ is called $Lost$ function the expression $(y_i - \\alpha - \\beta x_i)^2$ is called $Lost$ function.This function is appropiative because of It is a diferencianal everywhere and gives us  a measure of diference between dependent value $y_i$ and predicted value of $y'(\\alpha,\\beta)=\\alpha + \\beta x_i $.<br>\n",
    "In order to find $min_{\\alpha,\\beta}L(\\alpha,\\beta,x_i,_yi)$ we will use Gradient Descent method.<br>"
   ]
  },
  {
   "cell_type": "markdown",
   "id": "6adedaeb",
   "metadata": {},
   "source": [
    "<h2 id='grad~sim~linear'> Gradient Descent over simple linear regression</h2>"
   ]
  },
  {
   "cell_type": "markdown",
   "id": "d3cc2ded",
   "metadata": {},
   "source": [
    "The methods for finding the maximum and minumum (extrema) have been created with developing of mathematical analysis(calculus).Gradient Descent is numerical approach to local minumum of first-oreder differentiable function.The idea is to take repeaded steps on the oposite direction of the gradient the function in current point. \n"
   ]
  },
  {
   "cell_type": "markdown",
   "id": "2b4df355",
   "metadata": {},
   "source": [
    "Our pupose is to find the value of $x$ where the function gets the minumum value.\n",
    "The GD algorithm is difined by : \n",
    "  $$\\alpha = \\alpha - \\nabla_{\\alpha}L(\\alpha,\\beta)*h$$\n",
    "  $$\\beta = \\beta - \\nabla_{\\beta}L(\\alpha,\\beta)*h$$ <br>\n",
    "  \n",
    "where $h$ is called <mark>Learning rate</mark> or step size.\n",
    "Applying GD algorithm over our lost function 1) we will get : <br> <br>\n",
    "$$\\nabla_{\\alpha}(J(a,b)=\\frac{\\partial{L}}{\\partial{{\\alpha}}}=\\frac{\\partial{\\sum_i(y_i - \\alpha - \\beta x_i)^2}}{\\partial{{\\alpha}}}=-\\frac{2}{n}\\sum_{n=1}^{n}{(y_i-a*x_i - b)*x_i} $$ <br>\n",
    "$$\\nabla_{\\beta}(J(a,b)=\\frac{\\partial{L}}{\\partial{{\\beta }}}=\\frac{\\partial{\\sum_i(y_i - \\alpha - \\beta x_i)^2}}{\\partial{{\\beta}}}=- \\frac{2}{n}\\sum_{n=1}^{n}{(y_i-a*x_i - b)} $$ <br> <br>\n",
    "applying above to gradient descent forumula related to simple linear regression we achieved : \n",
    " $$\\alpha = \\alpha + \\frac{2}{n}\\sum_{n=1}^{n}{(y_i-a*x_i - b)*x_i}*h$$\n",
    "  $$\\beta = \\beta +\\frac{2}{n}\\sum_{n=1}^{n}{(y_i-a*x_i - b)}*h$$ <br>"
   ]
  },
  {
   "cell_type": "code",
   "execution_count": null,
   "id": "32f7ba92",
   "metadata": {},
   "outputs": [],
   "source": []
  },
  {
   "cell_type": "code",
   "execution_count": 5,
   "id": "10ae5a66",
   "metadata": {},
   "outputs": [],
   "source": [
    "#implementation cost function\n",
    "def lost(X,Y,alpha,betta):\n",
    "    '''\n",
    "    Calculation of cost (error) function of simple linear regression\n",
    "   \n",
    "    Parrameters : \n",
    "    X(array or number) : X arguments, independent variable\n",
    "    Y (array or number) : Y arguments, actual dependent variable \n",
    "    Returns :\n",
    "      number of cost function\n",
    "  '''\n",
    "   \n",
    "    return np.sum((Y - (alpha - betta*X ))**2 )\n"
   ]
  },
  {
   "cell_type": "code",
   "execution_count": 6,
   "id": "34094fe9",
   "metadata": {},
   "outputs": [],
   "source": [
    "def gradient_descent(X,Y,C=0.1,E=100):\n",
    "    '''\n",
    "    \n",
    "    Calculation of cost (error) function of simple linear regression\n",
    "   \n",
    "    Parrameters : \n",
    "    X(array or number) : X arguments, independent variable\n",
    "    Y (array or number) : Y arguments, actual dependent variable \n",
    "    C (number) :  learning rate\n",
    "    I(int) : number of iteration(Epoch)\n",
    "    Returns :\n",
    "      number of cost function\n",
    "   '''\n",
    "   \n",
    "    a = 30\n",
    "    b = 10 \n",
    "    a_args = []\n",
    "    b_args = []\n",
    "    n = X.size\n",
    "  \n",
    "    for i in range(E):\n",
    "        a = a + 2/n*(np.sum((Y - a*X - b)*X))*C\n",
    "        b =  b + 2/n*(np.sum((Y - a*X -b)))*C\n",
    "        a_args.append(a)\n",
    "        b_args.append(b)\n",
    "    return a,b,a_args,b_args "
   ]
  },
  {
   "cell_type": "code",
   "execution_count": 7,
   "id": "6224c48d",
   "metadata": {},
   "outputs": [
    {
     "data": {
      "text/plain": [
       "<matplotlib.collections.PathCollection at 0x94ff3348e0>"
      ]
     },
     "execution_count": 7,
     "metadata": {},
     "output_type": "execute_result"
    },
    {
     "data": {
      "image/png": "[encoded data removed]",
      "text/plain": [
       "<Figure size 432x288 with 1 Axes>"
      ]
     },
     "metadata": {
      "needs_background": "light"
     },
     "output_type": "display_data"
    }
   ],
   "source": [
    "x = np.linspace(-10,10)\n",
    "f = lambda x : 7*x + 3 + np.random.uniform(-30,30)\n",
    "y =[f(i) for i in x]\n",
    "plt.scatter(x,y)"
   ]
  },
  {
   "cell_type": "markdown",
   "id": "c7f42d00",
   "metadata": {},
   "source": [
    "Let to apply gradient descent of above points."
   ]
  },
  {
   "cell_type": "code",
   "execution_count": 8,
   "id": "e4d83693",
   "metadata": {},
   "outputs": [],
   "source": [
    "a,b,a_r,b_r = gradient_descent(x,y,C=0.01,E=1000)"
   ]
  },
  {
   "cell_type": "code",
   "execution_count": 9,
   "id": "60015ab0",
   "metadata": {},
   "outputs": [
    {
     "data": {
      "text/plain": [
       "(7.094088404733114, -1.0106112882821179)"
      ]
     },
     "execution_count": 9,
     "metadata": {},
     "output_type": "execute_result"
    },
    {
     "data": {
      "image/png": "[encoded data removed]",
      "text/plain": [
       "<Figure size 432x288 with 1 Axes>"
      ]
     },
     "metadata": {
      "needs_background": "light"
     },
     "output_type": "display_data"
    }
   ],
   "source": [
    "plt.plot(a_r,color='r',label=r'$\\alpha $')\n",
    "plt.plot(b_r,label=r'$\\beta$')\n",
    "plt.xlabel(\"number of epoch E\")\n",
    "plt.ylabel(\"etimated parameters\")\n",
    "plt.title('C = 0.01 , E = 1000')\n",
    "plt.legend()\n",
    "a,b\n"
   ]
  },
  {
   "cell_type": "markdown",
   "id": "537448fe",
   "metadata": {},
   "source": [
    "From graphics we can see that the curves tend to  result $(\\alpha = 6.6603, \\beta =4.431)$.\n",
    "<br> \n",
    "The fit line will be : "
   ]
  },
  {
   "cell_type": "code",
   "execution_count": 10,
   "id": "89116918",
   "metadata": {},
   "outputs": [
    {
     "data": {
      "image/png": "[encoded data removed]",
      "text/plain": [
       "<Figure size 432x288 with 1 Axes>"
      ]
     },
     "metadata": {
      "needs_background": "light"
     },
     "output_type": "display_data"
    }
   ],
   "source": [
    "#7.047696929660597, 1.081292922517757\n",
    "plt.scatter(x,y)  #7.892385161777225, 5.6459662769234535\n",
    "plt.plot(x,6.6603*x +  4.431)\n",
    "set_spines()"
   ]
  },
  {
   "cell_type": "markdown",
   "id": "c5b88cc0",
   "metadata": {},
   "source": [
    "It seems to be somehow approriative line wich discribe the data well, but our origin values of $$ are $(\\alpha = 7, \\beta = 1)$   not $(\\alpha = 6.6603, \\beta = 4.431)$.In below we will examine how will chaged the $(\\alpha,\\beta)$ resprect to different Learnig rate $C$ and nuber of epoch E(itarations)."
   ]
  },
  {
   "cell_type": "markdown",
   "id": "ad0573e7",
   "metadata": {},
   "source": [
    " <h2 href='effect~learning~rate'>1.3  Effect of different values for learning rate </h2>"
   ]
  },
  {
   "cell_type": "markdown",
   "id": "6375b491",
   "metadata": {},
   "source": [
    "The Learning rate C is the tunning parameter in an optimization algorithm that determines the step size at each iteration while moving toward a minimum of cost function.While the gradient direction is usually determined from the gradient of the cost function, the learning rate determines how big a step is taken in that direction.The too hight learning rate will make  the learning jump  over minima but too low leaning rate will either take too long to converge or get stuck in an undesirable local minimum.In order to achieve faster convergence, prevent oscillations and getting stuck in undesirable local minima the learning rate is often varied during training either in accordance to a learning rate schedule or by using an adaptive learning rate"
   ]
  },
  {
   "cell_type": "markdown",
   "id": "debbd737",
   "metadata": {},
   "source": [
    "let's apply different learnning rate to our example:\n",
    "$C = 0.000001$"
   ]
  },
  {
   "cell_type": "code",
   "execution_count": 11,
   "id": "757e8ae2",
   "metadata": {},
   "outputs": [
    {
     "data": {
      "text/plain": [
       "(7.116289331852103, 8.00411297731555)"
      ]
     },
     "execution_count": 11,
     "metadata": {},
     "output_type": "execute_result"
    },
    {
     "data": {
      "image/png": "[encoded data removed]",
      "text/plain": [
       "<Figure size 432x288 with 1 Axes>"
      ]
     },
     "metadata": {
      "needs_background": "light"
     },
     "output_type": "display_data"
    }
   ],
   "source": [
    "a,b,a_r,b_r = gradient_descent(x,y,C=0.000001,E=100000)\n",
    "plt.plot(a_r,color='r',label=r'$\\alpha $')\n",
    "plt.plot(b_r,label=r'$\\beta$')\n",
    "plt.xlabel(\"number of epoch E\")\n",
    "plt.ylabel(\"etimated parameters\")\n",
    "plt.title('C=0.000001, E=100000')\n",
    "plt.legend()\n",
    "a,b"
   ]
  },
  {
   "cell_type": "code",
   "execution_count": 12,
   "id": "52949096",
   "metadata": {},
   "outputs": [
    {
     "data": {
      "image/png": "[encoded data removed]",
      "text/plain": [
       "<Figure size 432x288 with 1 Axes>"
      ]
     },
     "metadata": {
      "needs_background": "light"
     },
     "output_type": "display_data"
    }
   ],
   "source": [
    "plt.scatter(x,y) \n",
    "plt.plot(x,6.6*x + 8.9)\n",
    "set_spines()"
   ]
  },
  {
   "cell_type": "markdown",
   "id": "f8177730",
   "metadata": {},
   "source": [
    "When the data is too big, The decreasing of learning rate can lead to enormous time execution,but in above the result is satisfying too."
   ]
  },
  {
   "cell_type": "code",
   "execution_count": 13,
   "id": "d7fee175",
   "metadata": {},
   "outputs": [
    {
     "data": {
      "text/plain": [
       "(7.207461993108715e+184, -2.884243611489279e+169)"
      ]
     },
     "execution_count": 13,
     "metadata": {},
     "output_type": "execute_result"
    },
    {
     "data": {
      "image/png": "[encoded data removed]",
      "text/plain": [
       "<Figure size 432x288 with 1 Axes>"
      ]
     },
     "metadata": {
      "needs_background": "light"
     },
     "output_type": "display_data"
    }
   ],
   "source": [
    "a,b,a_r,b_r = gradient_descent(x,y,C=1,E=100)\n",
    "plt.plot(a_r,color='r',label=r'$\\alpha $')\n",
    "plt.plot(b_r,label=r'$\\beta$')\n",
    "plt.xlabel(\"number of epoch E\")\n",
    "plt.ylabel(\"etimated parameters\")\n",
    "plt.title('C=1, E=100')\n",
    "plt.legend()\n",
    "a,b"
   ]
  },
  {
   "cell_type": "markdown",
   "id": "0bea1c89",
   "metadata": {},
   "source": [
    "The result is extremely bad. In this case, the learning has made a learning jump, therefore the result is run away from minima."
   ]
  },
  {
   "cell_type": "markdown",
   "id": "de5b638d",
   "metadata": {},
   "source": [
    "<h1 id='m-linear-r'>2. Multiple Linear Regression</h1>"
   ]
  },
  {
   "cell_type": "markdown",
   "id": "14b687f8",
   "metadata": {},
   "source": [
    "Multiple Linear Regression also known as multiple regression, is a statistical technique that uses several explanatory variable to predict the outcome of response variable.In essence, MLR is an extension of ordinary least-squared regression.The equation that we are searching for is defined by : <br> <br>\n",
    "$$\\hat{ y}^i= h(x{^i}) =  \\vartheta_0 + \\vartheta_1 x^i_{1} + \\vartheta_2 x_{2}^i+ ...\\vartheta_p x_{p}^i  $$\n",
    "<br> <br>\n",
    "where , $i$ is number of obeservation,\n",
    "$y_i$ dependet(target) value,\n",
    "$x_i $ feature values,\n",
    "$\\vartheta_0$ intercept,\n",
    "$\\vartheta_{p}$ slope coeff. for each explanority var. ,\n"
   ]
  },
  {
   "cell_type": "markdown",
   "id": "5415cb3d",
   "metadata": {},
   "source": [
    "The above hypotesis can also be represented by  \n",
    " $$\\hat{Y} = XB^T$$ <br> <br>\n",
    " where $ B =\\begin{bmatrix}\n",
    "\\vartheta_0\\\\\n",
    "\\vdots \\\\\n",
    "\\vartheta_p \\\\\n",
    "\\end{bmatrix}$ $X = \\begin{bmatrix} \n",
    "1 &x_1^1 & x_1^2 & x_1^n \\\\\n",
    "\\vdots & \\ddots & \\vdots & \\vdots \\\\\n",
    "1& x_p^1 & \\dots & x_p^n \\\\\n",
    "\\end{bmatrix} $ and $\\hat{Y} = \\begin{bmatrix}\n",
    "\\hat{y}^0\\\\\n",
    "\\vdots \\\\\n",
    "\\hat{y}^p \\\\\n",
    "\\end{bmatrix}$\n",
    "<br> <br>\n",
    "we've append column $\\hat{Y} = \\begin{bmatrix}\n",
    "1\\\\\n",
    "\\vdots \\\\\n",
    "1\\\\\n",
    "\\end{bmatrix}$ to $X$ in order to be used in matrix multiplication directly."
   ]
  },
  {
   "cell_type": "markdown",
   "id": "b66a6e56",
   "metadata": {},
   "source": [
    "To define and measure the error of our model we define the cost function as the sum of the squares of the residuals. The cost function is denoted by :\n",
    "    $$3)\\hspace{1cm} J(\\varTheta) = \\frac{1}{2m}\\sum_{i=0}^m(h(x^i) - y^i)^2 $$"
   ]
  },
  {
   "cell_type": "markdown",
   "id": "a35573f1",
   "metadata": {},
   "source": [
    "We have to initialize the model parameter with some random values(random initialization).To use Gradient Descent we need to measure how the cost function changes with change in it's parametes.Therefore we compute the partial derivatives of cost finction $4)\\hspace{1cm}  J(\\vartheta_0,\\vartheta_1,...,\\vartheta_n)$ <br> <br>\n",
    "$$ \\frac{\\partial{J(\\varTheta)}}{\\partial{\\theta_j}} = \\frac{1}{m}\\sum_{i=0}^m(h(x^i) - y^i)x_j^i$$\n",
    "In more compatable form using matrix in order to be implemnted using <mark>NUMPY</mark>\n"
   ]
  },
  {
   "cell_type": "markdown",
   "id": "a4957ac0",
   "metadata": {},
   "source": [
    "Using the <a href='https://en.wikipedia.org/wiki/Einstein_notation' > Eistein notaion </a> we can rewrite eq. 4) <br> <br> <br>\n",
    "$$ \\frac{\\partial{J(\\vartheta_k)}}{\\partial{\\theta_j}} = \\frac{1}{m}(\\theta_p x_p^i - y^i)x_j^i $$ in matrix form <br> <br> <br>\n",
    " $$5) \\hspace{1cm}  \\vec{\\nabla} J(\\varTheta)=((X\\Theta^T- Y)^T.X)^T $$ <br> <br>\n",
    "  applying the rule  $(AB)^T$ the eq can be reformed\n",
    "   $$6) \\hspace{1cm}  \\vec{\\nabla} J(\\varTheta)= X^T(X\\Theta^T- Y) $$  <br> <br>\n",
    " $$ where  \\hspace{1cm} \\vec{\\nabla} = \\frac{\\partial}{\\partial{\\theta_j}\\vec{e_j}}$$ <br> <br>\n",
    "\n",
    " eq. 6 is extremely comfortable because it can be implemented very simple in <mark>NUMPY</mark> which is many times faster than common Python\n"
   ]
  },
  {
   "cell_type": "markdown",
   "id": "5ef8219e",
   "metadata": {},
   "source": [
    "The Gradient Descent alg finaly will looks like that : <br>\n",
    " $$\\theta = \\theta - h\\vec{\\nabla} J(\\varTheta) $$ h is learnig rate\n"
   ]
  },
  {
   "cell_type": "markdown",
   "id": "f919fc8c",
   "metadata": {},
   "source": [
    "Calcaulation of accuracy of Multilinear regression"
   ]
  },
  {
   "cell_type": "markdown",
   "id": "2cfe757e",
   "metadata": {},
   "source": [
    "We will be using Root mean squared error(RMSE) of Determination($R^2$ score)  to evaluate our model.<br>\n",
    "RMSE is a square root of average of sum of suares of residualasa"
   ]
  },
  {
   "cell_type": "markdown",
   "id": "3ec2d42c",
   "metadata": {},
   "source": [
    "<h2>Implementation of gradient descent for Multiple Linear regression in NUMPY</h2>"
   ]
  },
  {
   "cell_type": "code",
   "execution_count": 39,
   "id": "d9f06b72",
   "metadata": {},
   "outputs": [],
   "source": [
    "class MultipleLinearRegression:\n",
    "    \"\"\"\n",
    "    Multiple Linear regression\n",
    "\n",
    "    Parameters\n",
    "    ..........\n",
    "\n",
    "    C : float\n",
    "        learning rate\n",
    "    I : int\n",
    "        number of iterations (Epochs)\n",
    "    Attributes\n",
    "    ..........\n",
    "     w_ : weights (Predictors)\n",
    "\n",
    "    \"\"\"\n",
    "\n",
    "    def __init__(self, C=0.01, I=1000):\n",
    "        self.C = C\n",
    "        self.I = I\n",
    "        self.w_ = None\n",
    "\n",
    "    def fit(self, X, Y):\n",
    "        \"\"\"Fit tthe training data\n",
    "\n",
    "        Parameters\n",
    "        ..........\n",
    "\n",
    "        X : array, shape = [N_samples,n_features]\n",
    "            Training samples\n",
    "        Y  : array, shape = [n_samples, n_target_values]\n",
    "\n",
    "        Returns\n",
    "        .......\n",
    "        self : object\n",
    "\n",
    "        \"\"\"\n",
    "\n",
    "        X = np.append(np.ones((X.shape[0], 1)), X, axis=1)\n",
    "        self.w_ = np.zeros((X.shape[1], 1))  # inicialized predictors\n",
    "        M = X.shape[0]  # numbers of samples\n",
    "         ##append row with 1 for intercept predictor\n",
    "        C = self.C\n",
    "\n",
    "        for _ in range(self.I):\n",
    "            self.w_ -= self.C * (1 / M) * X.T.dot((X.dot(self.w_) - Y))\n",
    "\n",
    "        return self\n",
    "\n",
    "    def predict(self, x):\n",
    "        \"\"\" Predicts the value after the model has been trained.\n",
    "        Parameters\n",
    "        ----------\n",
    "        x : array-like, shape = [n_samples, n_features]\n",
    "            Test samples\n",
    "        Returns\n",
    "        -------\n",
    "        Predicted value\n",
    "        \"\"\"\n",
    "        return np.dot(x, self.w_)"
   ]
  },
  {
   "cell_type": "code",
   "execution_count": 37,
   "id": "5b22b918",
   "metadata": {},
   "outputs": [
    {
     "data": {
      "text/plain": [
       "array([[5.24331781],\n",
       "       [7.02760178]])"
      ]
     },
     "execution_count": 37,
     "metadata": {},
     "output_type": "execute_result"
    }
   ],
   "source": [
    "x = np.linspace(-10,10)\n",
    "f = lambda x : 7*x + 3 + np.random.uniform(0,5)\n",
    "y =[f(i) for i in x]\n",
    "y =np.array([[f(i) for i in x]])\n",
    "x = x.reshape(1,x.shape[0]).T\n",
    "w = np.zeros((x.shape[0],1))\n",
    "x = np.append( np.ones(( x.shape[0], 1)),x , axis=1)\n",
    "#w.shape\n",
    "#print(x.shape[1])\n",
    "#fit(x,y)\n",
    "\n",
    "#y= y.reshape(1,y.shape[0]).T\n",
    "#y =y.reshape(1,y.shape[0]).T\n",
    "y=y.T\n",
    "\n",
    "fit(x,y,C=0.01)\n"
   ]
  },
  {
   "cell_type": "code",
   "execution_count": 35,
   "id": "03e7cbb7",
   "metadata": {},
   "outputs": [
    {
     "ename": "ValueError",
     "evalue": "shapes (50,3) and (2,1) not aligned: 3 (dim 1) != 2 (dim 0)",
     "output_type": "error",
     "traceback": [
      "\u001b[1;31m---------------------------------------------------------------------------\u001b[0m",
      "\u001b[1;31mValueError\u001b[0m                                Traceback (most recent call last)",
      "\u001b[1;32m<ipython-input-35-586b38e66728>\u001b[0m in \u001b[0;36m<module>\u001b[1;34m\u001b[0m\n\u001b[0;32m      1\u001b[0m \u001b[0mla\u001b[0m \u001b[1;33m=\u001b[0m \u001b[0mMultipleLinearRegression\u001b[0m\u001b[1;33m(\u001b[0m\u001b[1;33m)\u001b[0m\u001b[1;33m\u001b[0m\u001b[1;33m\u001b[0m\u001b[0m\n\u001b[1;32m----> 2\u001b[1;33m \u001b[0mla\u001b[0m\u001b[1;33m.\u001b[0m\u001b[0mfit\u001b[0m\u001b[1;33m(\u001b[0m\u001b[0mx\u001b[0m\u001b[1;33m,\u001b[0m\u001b[0my\u001b[0m\u001b[1;33m)\u001b[0m\u001b[1;33m\u001b[0m\u001b[1;33m\u001b[0m\u001b[0m\n\u001b[0m",
      "\u001b[1;32m<ipython-input-33-ed1fb9b62305>\u001b[0m in \u001b[0;36mfit\u001b[1;34m(self, X, Y)\u001b[0m\n\u001b[0;32m     41\u001b[0m \u001b[1;33m\u001b[0m\u001b[0m\n\u001b[0;32m     42\u001b[0m         \u001b[1;32mfor\u001b[0m \u001b[0m_\u001b[0m \u001b[1;32min\u001b[0m \u001b[0mrange\u001b[0m\u001b[1;33m(\u001b[0m\u001b[0mself\u001b[0m\u001b[1;33m.\u001b[0m\u001b[0mI\u001b[0m\u001b[1;33m)\u001b[0m\u001b[1;33m:\u001b[0m\u001b[1;33m\u001b[0m\u001b[1;33m\u001b[0m\u001b[0m\n\u001b[1;32m---> 43\u001b[1;33m             \u001b[0mself\u001b[0m\u001b[1;33m.\u001b[0m\u001b[0m_w\u001b[0m \u001b[1;33m=\u001b[0m \u001b[0mself\u001b[0m\u001b[1;33m.\u001b[0m\u001b[0m_w\u001b[0m \u001b[1;33m-\u001b[0m \u001b[0mself\u001b[0m\u001b[1;33m.\u001b[0m\u001b[0mC\u001b[0m\u001b[1;33m*\u001b[0m\u001b[1;33m(\u001b[0m\u001b[1;36m1\u001b[0m\u001b[1;33m/\u001b[0m\u001b[0mM\u001b[0m\u001b[1;33m)\u001b[0m\u001b[1;33m*\u001b[0m\u001b[0mX\u001b[0m\u001b[1;33m.\u001b[0m\u001b[0mT\u001b[0m\u001b[1;33m.\u001b[0m\u001b[0mdot\u001b[0m\u001b[1;33m(\u001b[0m\u001b[1;33m(\u001b[0m\u001b[0mX\u001b[0m\u001b[1;33m.\u001b[0m\u001b[0mdot\u001b[0m\u001b[1;33m(\u001b[0m\u001b[0mself\u001b[0m\u001b[1;33m.\u001b[0m\u001b[0m_w\u001b[0m\u001b[1;33m)\u001b[0m \u001b[1;33m-\u001b[0m \u001b[0mY\u001b[0m\u001b[1;33m)\u001b[0m\u001b[1;33m)\u001b[0m\u001b[1;33m\u001b[0m\u001b[1;33m\u001b[0m\u001b[0m\n\u001b[0m\u001b[0;32m     44\u001b[0m \u001b[1;33m\u001b[0m\u001b[0m\n\u001b[0;32m     45\u001b[0m         \u001b[1;32mreturn\u001b[0m \u001b[0mself\u001b[0m\u001b[1;33m\u001b[0m\u001b[1;33m\u001b[0m\u001b[0m\n",
      "\u001b[1;31mValueError\u001b[0m: shapes (50,3) and (2,1) not aligned: 3 (dim 1) != 2 (dim 0)"
     ]
    }
   ],
   "source": [
    "la = MultipleLinearRegression()\n",
    "la.fit(x,y)"
   ]
  },
  {
   "cell_type": "code",
   "execution_count": 146,
   "id": "9e91de6a",
   "metadata": {},
   "outputs": [
    {
     "data": {
      "text/plain": [
       "(50, 2)"
      ]
     },
     "execution_count": 146,
     "metadata": {},
     "output_type": "execute_result"
    }
   ],
   "source": [
    "x.shape\n"
   ]
  },
  {
   "cell_type": "code",
   "execution_count": 150,
   "id": "3776820a",
   "metadata": {},
   "outputs": [
    {
     "data": {
      "text/plain": [
       "array([[1.03397375],\n",
       "       [3.09979694]])"
      ]
     },
     "execution_count": 150,
     "metadata": {},
     "output_type": "execute_result"
    }
   ],
   "source": [
    "x.shape\n",
    "h=0.01\n",
    "#print((h*x.dot(w)-y).dot(x))\n",
    "\n",
    "x.dot(w)\n",
    "w.shape\n",
    "x.shape\n",
    "resi = x.dot(w) -y \n"
   ]
  },
  {
   "cell_type": "code",
   "execution_count": 138,
   "id": "daa9b5e5",
   "metadata": {},
   "outputs": [
    {
     "name": "stdout",
     "output_type": "stream",
     "text": [
      "6.83\n"
     ]
    }
   ],
   "source": [
    "format_float = \"{:.2f}\".format(w[1,0])\n",
    "print(format_float)"
   ]
  },
  {
   "cell_type": "code",
   "execution_count": 16,
   "id": "16fc5e22",
   "metadata": {},
   "outputs": [
    {
     "data": {
      "text/plain": [
       "array([[1.],\n",
       "       [1.],\n",
       "       [1.]])"
      ]
     },
     "execution_count": 16,
     "metadata": {},
     "output_type": "execute_result"
    }
   ],
   "source": [
    "A = np.ones((\n",
    "M.shape[0], 1))\n",
    "A"
   ]
  },
  {
   "cell_type": "code",
   "execution_count": 17,
   "id": "468e5047",
   "metadata": {},
   "outputs": [
    {
     "data": {
      "text/plain": [
       "array([[1., 2., 1.],\n",
       "       [2., 3., 1.],\n",
       "       [4., 1., 1.]])"
      ]
     },
     "execution_count": 17,
     "metadata": {},
     "output_type": "execute_result"
    }
   ],
   "source": [
    "np.append(M, np.ones((\n",
    "M.shape[0], 1)) , axis=1)"
   ]
  },
  {
   "cell_type": "markdown",
   "id": "e59c4762",
   "metadata": {},
   "source": [
    "In matrix form we can rewrite the eq."
   ]
  },
  {
   "cell_type": "code",
   "execution_count": null,
   "id": "5532c250",
   "metadata": {},
   "outputs": [],
   "source": []
  },
  {
   "cell_type": "markdown",
   "id": "4c9a116e",
   "metadata": {},
   "source": [
    "The multiple regression is based on the following assumptions :\n",
    "<ls>\n",
    "    <li> There is a linear relationship between the dependent variables and the independent variables. </li>\n",
    "    <li> The independent variable are not too highly correlated with each other </li>\n",
    "    <li> $y_i$ observations are selected independently and randomly from population </li>\n",
    "    <li>Residuals should be normaly distributed with mean of 0 and variance </li>\n",
    "</ls>    "
   ]
  },
  {
   "cell_type": "markdown",
   "id": "51d56e93",
   "metadata": {},
   "source": [
    "In order to find the best fittin model we will use  the GD alogorithm as simple LR involving the extension of Least-Squared regg."
   ]
  },
  {
   "cell_type": "markdown",
   "id": "79e4e500",
   "metadata": {},
   "source": [
    " $$\\beta_p = \\beta_p - \\nabla_{\\alpha}L(\\beta_0,\\beta_1,...,\\beta_p)*h$$"
   ]
  },
  {
   "cell_type": "code",
   "execution_count": null,
   "id": "2027b0e5",
   "metadata": {},
   "outputs": [],
   "source": []
  },
  {
   "cell_type": "markdown",
   "id": "43fed85c",
   "metadata": {},
   "source": [
    "\n",
    "$$\\nabla_{\\beta_p}(J(a,b)=\\frac{1}{2n}\\frac{\\partial{L}}{\\partial{{\\beta_p }}}=\\frac{\\partial{\\sum_i(y_i - \\beta_0 - \\beta_1 x_1 -...- \\beta_p x_i)^2}}{\\partial{{\\beta}}}=- \\frac{2}{n}\\sum_{n=1}^{n}{(y_i-\\beta_0 - \\beta_1 x_1 -...- \\beta_p )x_p}=-\\sum_{n=1}^{n}{(y_i- h(x^i))x_p} $$\n",
    "and for intercept $\\beta_0$ we have : <br>\n",
    "$$ \\nabla_{\\beta_0}(J(a,b)=\\frac{\\partial{L}}{\\partial{{\\beta_0 }}}=\\frac{\\partial{\\sum_i(y_i - \\beta_0 - \\beta_1 x_1 -...- \\beta_p x_i)^2}}{\\partial{{\\beta_0}}}=-\\sum_{n=1}^{n}{(y_i- h(x^i) )}$$\n"
   ]
  },
  {
   "cell_type": "markdown",
   "id": "369310ad",
   "metadata": {},
   "source": []
  },
  {
   "cell_type": "code",
   "execution_count": null,
   "id": "dec85aa2",
   "metadata": {},
   "outputs": [],
   "source": []
  },
  {
   "cell_type": "code",
   "execution_count": null,
   "id": "e9027471",
   "metadata": {},
   "outputs": [],
   "source": []
  },
  {
   "cell_type": "markdown",
   "id": "1d787a58",
   "metadata": {},
   "source": [
    "refereices"
   ]
  },
  {
   "cell_type": "markdown",
   "id": "3a1e1524",
   "metadata": {},
   "source": [
    "1.https://towardsdatascience.com/linear-regression-using-python-b136c91bf0a2"
   ]
  }
 ],
 "metadata": {
  "kernelspec": {
   "display_name": "Python 3",
   "language": "python",
   "name": "python3"
  },
  "language_info": {
   "codemirror_mode": {
    "name": "ipython",
    "version": 3
   },
   "file_extension": ".py",
   "mimetype": "text/x-python",
   "name": "python",
   "nbconvert_exporter": "python",
   "pygments_lexer": "ipython3",
   "version": "3.8.8"
  }
 },
 "nbformat": 4,
 "nbformat_minor": 5
}
