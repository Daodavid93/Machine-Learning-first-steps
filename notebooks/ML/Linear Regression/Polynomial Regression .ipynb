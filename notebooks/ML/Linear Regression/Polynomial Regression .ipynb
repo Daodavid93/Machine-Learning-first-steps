{
 "cells": [
  {
   "cell_type": "code",
   "execution_count": 1,
   "id": "2576f3a3",
   "metadata": {},
   "outputs": [],
   "source": [
    "%matplotlib inline\n",
    "import matplotlib.pyplot as plt\n",
    "import numpy as np\n",
    "import math\n",
    "from mpl_toolkits.mplot3d import Axes3D\n",
    "from random import random\n",
    "#from mpl_toolkits.mplot3d import axes3d\n",
    "import matplotlib.pyplot as plt\n",
    "import pandas as pd\n",
    "from sklearn.model_selection import train_test_split\n",
    "from sklearn.preprocessing import StandardScaler\n",
    "from sklearn.linear_model import LinearRegression\n",
    "from sklearn.linear_model import Lasso\n",
    "from sklearn.linear_model import  Ridge\n",
    "from sklearn.preprocessing import PolynomialFeatures"
   ]
  },
  {
   "cell_type": "markdown",
   "id": "f81f9769",
   "metadata": {},
   "source": [
    "https://www.analyticsvidhya.com/blog/2020/11/lasso-regression-causes-sparsity-while-ridge-regression-doesnt-unfolding-the-math/"
   ]
  },
  {
   "cell_type": "markdown",
   "id": "c32eff5c",
   "metadata": {},
   "source": [
    "<h2>Polynomial Regression </h2>"
   ]
  },
  {
   "cell_type": "markdown",
   "id": "f82d1ba1",
   "metadata": {},
   "source": [
    "In statistics , polynomial regression is a form of regression analysis in which the relationship between the independent variable $x$ and the dependent variable $y$ is modelled as an $n^{th}$ degree polynomial in $x$.In Machine learning the polynomial regression is just the extended Linear Regression.This extension we achieve by the tranform the dataset as will shown below. "
   ]
  },
  {
   "cell_type": "code",
   "execution_count": 51,
   "id": "540553ed",
   "metadata": {},
   "outputs": [
    {
     "data": {
      "image/png": "[encoded data removed]",
      "text/plain": [
       "<Figure size 720x720 with 1 Axes>"
      ]
     },
     "metadata": {
      "needs_background": "light"
     },
     "output_type": "display_data"
    }
   ],
   "source": [
    "#plt.rcParams[\"figure.figsize\"] = (5,5)\n",
    "np.random.seed(0)\n",
    "x = 2 - np.linspace(-10,10,num=20) *4    #np.linspace(-10,10,num=10)  \n",
    "y = x - 2 * (x ** 2) + 0.5 * (x ** 3)  +100*np.random.normal(-50, 50, size=x.size)  \n",
    "x = x[:, np.newaxis]\n",
    "y = y[:, np.newaxis]\n",
    "plt.scatter(x,y, s=10)\n",
    "plt.show()"
   ]
  },
  {
   "cell_type": "code",
   "execution_count": 19,
   "id": "81071906",
   "metadata": {},
   "outputs": [],
   "source": [
    "model =  LinearRegression()\n",
    "z = model.fit(x,y)\n",
    "y_pred = model.predict(x)"
   ]
  },
  {
   "cell_type": "code",
   "execution_count": 20,
   "id": "2bf6d784",
   "metadata": {},
   "outputs": [
    {
     "data": {
      "text/plain": [
       "<matplotlib.collections.PathCollection at 0x31a919970>"
      ]
     },
     "execution_count": 20,
     "metadata": {},
     "output_type": "execute_result"
    },
    {
     "data": {
      "image/png": "[encoded data removed]",
      "text/plain": [
       "<Figure size 216x216 with 1 Axes>"
      ]
     },
     "metadata": {
      "needs_background": "light"
     },
     "output_type": "display_data"
    }
   ],
   "source": [
    "plt.plot(x, y_pred)  #L = 0.0028\n",
    "plt.scatter(x,y, s=10,color='r')"
   ]
  },
  {
   "cell_type": "markdown",
   "id": "05c42a31",
   "metadata": {},
   "source": [
    "We can see that the straight line is unable to capture the patterns in the data. This is an example of <mark>under-fitting</mark> or <mark>High-Bias</mark>.  Computing the RMSE and R²-score of the linear line gives :"
   ]
  },
  {
   "cell_type": "code",
   "execution_count": 21,
   "id": "d15a3b60",
   "metadata": {},
   "outputs": [
    {
     "data": {
      "text/plain": [
       "0.7767230510045652"
      ]
     },
     "execution_count": 21,
     "metadata": {},
     "output_type": "execute_result"
    }
   ],
   "source": [
    "model.score(x,y)"
   ]
  },
  {
   "cell_type": "markdown",
   "id": "987afe81",
   "metadata": {},
   "source": [
    "\n",
    "Using the straight line model we achieve $R^2 = 77$% accuracy.To reach a more accurately result we can improve the model by increasing the complexity using higher order equation.We can add powers of of the original features as new features.\n"
   ]
  },
  {
   "cell_type": "markdown",
   "id": "ffc84c7b",
   "metadata": {},
   "source": []
  },
  {
   "cell_type": "markdown",
   "id": "256ee90c",
   "metadata": {},
   "source": [
    "We can add new features to the dataset, which are just the  $𝑛_{𝑡ℎ}$  degree polynomial in existing ones.\n",
    "$$X = \\begin{bmatrix} \n",
    " x_1 \\\\\n",
    "\\vdots   \\\\\n",
    " x_n \\\\\n",
    "\\end{bmatrix} -- >  \n",
    "X_{polyData} = T(X) = \\begin{bmatrix} \n",
    "1 &x_1 & x_1^2 & \\dots & x_1^p \\\\\n",
    "\\vdots & \\ddots &  \\ddots & \\vdots & \\vdots \\\\\n",
    "1& x_n & x_n^2  & \\dots & x_n^p \\\\\n",
    "\\end{bmatrix} $$"
   ]
  },
  {
   "cell_type": "markdown",
   "id": "b1eab986",
   "metadata": {},
   "source": [
    "The new Dataset 𝑇(𝑋) can be trained in Multiple Linear regression and the weights we achieve will correspond to in $w_p $ in $Y = \\omega_0  + \\omega_1 x^1 + ... + \\omega_p x^p$"
   ]
  },
  {
   "cell_type": "markdown",
   "id": "2e1dd314",
   "metadata": {},
   "source": []
  },
  {
   "cell_type": "code",
   "execution_count": 22,
   "id": "42ff4a75",
   "metadata": {},
   "outputs": [],
   "source": [
    "polynomial_features= PolynomialFeatures(degree=2)\n"
   ]
  },
  {
   "cell_type": "markdown",
   "id": "65f1809b",
   "metadata": {},
   "source": [
    "Example of tranformation of dataset "
   ]
  },
  {
   "cell_type": "code",
   "execution_count": 23,
   "id": "94093237",
   "metadata": {},
   "outputs": [
    {
     "data": {
      "text/plain": [
       "array([[1., 1., 1.],\n",
       "       [1., 2., 4.],\n",
       "       [1., 3., 9.]])"
      ]
     },
     "execution_count": 23,
     "metadata": {},
     "output_type": "execute_result"
    }
   ],
   "source": [
    "polynomial_features.fit_transform(np.array([[1],[2],[3]]))"
   ]
  },
  {
   "cell_type": "markdown",
   "id": "3b8ef75c",
   "metadata": {},
   "source": [
    " $$X = \\begin{bmatrix} \n",
    " 1 \\\\\n",
    " 2   \\\\\n",
    " 3 \\\\\n",
    "\\end{bmatrix} -- >  \n",
    "X_{polyData} = T(X) = \\begin{bmatrix} \n",
    "1 & 1 & 1   \\\\\n",
    "2 & 2 &  4 \\\\\n",
    "1& 3 & 9 \\\\\n",
    "\\end{bmatrix} $$ T(X) 2 degree"
   ]
  },
  {
   "cell_type": "markdown",
   "id": "9fff0dae",
   "metadata": {},
   "source": [
    "Let's returned back to out dataset "
   ]
  },
  {
   "cell_type": "markdown",
   "id": "3b92a24e",
   "metadata": {},
   "source": [
    "We see that if we using linear eqaution the result is underfitting,Let's compare the 1,2,3 degree polynomial."
   ]
  },
  {
   "cell_type": "code",
   "execution_count": 28,
   "id": "3e224c28",
   "metadata": {},
   "outputs": [
    {
     "data": {
      "image/png": "[encoded data removed]",
      "text/plain": [
       "<Figure size 720x720 with 1 Axes>"
      ]
     },
     "metadata": {
      "needs_background": "light"
     },
     "output_type": "display_data"
    }
   ],
   "source": [
    "scaler = StandardScaler()\n",
    "#X = scaler.fit_transform(X)\n",
    "def polynomial_tranform(X,degree):\n",
    "    '''\n",
    "    applying standard scaler and transform data into polynomial     \n",
    "    '''\n",
    "    x_data = PolynomialFeatures(degree=degree).fit_transform(X)   \n",
    "    return StandardScaler().fit_transform(x_data)\n",
    "\n",
    "plt.rcParams[\"figure.figsize\"] = (10,10)\n",
    "for degree in 1,2,3:\n",
    "    x_poly = polynomial_tranform(x,degree)\n",
    "    model = LinearRegression().fit(x_poly,y)\n",
    "    y_pred = model.predict(x_poly)\n",
    "    plt.plot(x, y_pred)\n",
    "    plt.plot(x, y_pred,label=\"$degree = {}$,accuracy={:.2f}\".format(i,model.score(x_poly,y)))  #L = 0.0028\n",
    "    plt.scatter(x,y, s=10,color='r',label=\"data set\")\n",
    "    plt.title('graf 1')\n",
    "    plt.legend()\n",
    "plt.show()   "
   ]
  },
  {
   "cell_type": "code",
   "execution_count": 25,
   "id": "b2e85d66",
   "metadata": {},
   "outputs": [],
   "source": [
    "def poly_regression(degree,x):\n",
    "    polynomial_features= PolynomialFeatures(degree=degree)\n",
    "    x_poly = scaler.fit_transform(x)\n",
    "    x_poly = polynomial_features.fit_transform(x_poly)\n",
    "    model =  LinearRegression()\n",
    "   \n",
    "    y_pred,model.predict(x_poly)\n",
    "    return model,y_pred,model.score(x_poly,y)"
   ]
  },
  {
   "cell_type": "code",
   "execution_count": 26,
   "id": "6bb73a19",
   "metadata": {},
   "outputs": [
    {
     "name": "stdout",
     "output_type": "stream",
     "text": [
      "1\n"
     ]
    },
    {
     "ename": "NotFittedError",
     "evalue": "This LinearRegression instance is not fitted yet. Call 'fit' with appropriate arguments before using this estimator.",
     "output_type": "error",
     "traceback": [
      "\u001b[1;31m---------------------------------------------------------------------------\u001b[0m",
      "\u001b[1;31mNotFittedError\u001b[0m                            Traceback (most recent call last)",
      "\u001b[1;32m<ipython-input-26-7fb0255a93de>\u001b[0m in \u001b[0;36m<module>\u001b[1;34m\u001b[0m\n\u001b[0;32m      4\u001b[0m     \u001b[0mplt\u001b[0m\u001b[1;33m.\u001b[0m\u001b[0mfigsize\u001b[0m\u001b[1;33m=\u001b[0m\u001b[1;33m(\u001b[0m\u001b[1;36m50\u001b[0m\u001b[1;33m,\u001b[0m\u001b[1;36m50\u001b[0m\u001b[1;33m)\u001b[0m\u001b[1;33m\u001b[0m\u001b[1;33m\u001b[0m\u001b[0m\n\u001b[0;32m      5\u001b[0m     \u001b[0mprint\u001b[0m\u001b[1;33m(\u001b[0m\u001b[0mi\u001b[0m\u001b[1;33m)\u001b[0m\u001b[1;33m\u001b[0m\u001b[1;33m\u001b[0m\u001b[0m\n\u001b[1;32m----> 6\u001b[1;33m     \u001b[0mlinear_model\u001b[0m\u001b[1;33m,\u001b[0m\u001b[0my_pred\u001b[0m\u001b[1;33m,\u001b[0m\u001b[0mscore\u001b[0m \u001b[1;33m=\u001b[0m  \u001b[0mpoly_regression\u001b[0m\u001b[1;33m(\u001b[0m\u001b[0mi\u001b[0m\u001b[1;33m,\u001b[0m\u001b[0mx\u001b[0m\u001b[1;33m)\u001b[0m\u001b[1;33m\u001b[0m\u001b[1;33m\u001b[0m\u001b[0m\n\u001b[0m\u001b[0;32m      7\u001b[0m     \u001b[0mplt\u001b[0m\u001b[1;33m.\u001b[0m\u001b[0mplot\u001b[0m\u001b[1;33m(\u001b[0m\u001b[0mx\u001b[0m\u001b[1;33m,\u001b[0m \u001b[0my_pred\u001b[0m\u001b[1;33m)\u001b[0m\u001b[1;33m\u001b[0m\u001b[1;33m\u001b[0m\u001b[0m\n\u001b[0;32m      8\u001b[0m     \u001b[0mplt\u001b[0m\u001b[1;33m.\u001b[0m\u001b[0mplot\u001b[0m\u001b[1;33m(\u001b[0m\u001b[0mx\u001b[0m\u001b[1;33m,\u001b[0m \u001b[0my_pred\u001b[0m\u001b[1;33m,\u001b[0m\u001b[0mlabel\u001b[0m\u001b[1;33m=\u001b[0m\u001b[1;34m\"$n^{}$,score={:.2f}\"\u001b[0m\u001b[1;33m.\u001b[0m\u001b[0mformat\u001b[0m\u001b[1;33m(\u001b[0m\u001b[0mi\u001b[0m\u001b[1;33m,\u001b[0m\u001b[0mscor\u001b[0m\u001b[1;33m)\u001b[0m\u001b[1;33m)\u001b[0m  \u001b[1;31m#L = 0.0028\u001b[0m\u001b[1;33m\u001b[0m\u001b[1;33m\u001b[0m\u001b[0m\n",
      "\u001b[1;32m<ipython-input-25-52fccfdbcbfc>\u001b[0m in \u001b[0;36mpoly_regression\u001b[1;34m(degree, x)\u001b[0m\n\u001b[0;32m      5\u001b[0m     \u001b[0mmodel\u001b[0m \u001b[1;33m=\u001b[0m  \u001b[0mLinearRegression\u001b[0m\u001b[1;33m(\u001b[0m\u001b[1;33m)\u001b[0m\u001b[1;33m\u001b[0m\u001b[1;33m\u001b[0m\u001b[0m\n\u001b[0;32m      6\u001b[0m \u001b[1;33m\u001b[0m\u001b[0m\n\u001b[1;32m----> 7\u001b[1;33m     \u001b[0my_pred\u001b[0m\u001b[1;33m,\u001b[0m\u001b[0mmodel\u001b[0m\u001b[1;33m.\u001b[0m\u001b[0mpredict\u001b[0m\u001b[1;33m(\u001b[0m\u001b[0mx_poly\u001b[0m\u001b[1;33m)\u001b[0m\u001b[1;33m\u001b[0m\u001b[1;33m\u001b[0m\u001b[0m\n\u001b[0m\u001b[0;32m      8\u001b[0m     \u001b[1;32mreturn\u001b[0m \u001b[0mmodel\u001b[0m\u001b[1;33m,\u001b[0m\u001b[0my_pred\u001b[0m\u001b[1;33m,\u001b[0m\u001b[0mmodel\u001b[0m\u001b[1;33m.\u001b[0m\u001b[0mscore\u001b[0m\u001b[1;33m(\u001b[0m\u001b[0mx_poly\u001b[0m\u001b[1;33m,\u001b[0m\u001b[0my\u001b[0m\u001b[1;33m)\u001b[0m\u001b[1;33m\u001b[0m\u001b[1;33m\u001b[0m\u001b[0m\n",
      "\u001b[1;32mD:\\ProgramData\\Anaconda3\\lib\\site-packages\\sklearn\\linear_model\\_base.py\u001b[0m in \u001b[0;36mpredict\u001b[1;34m(self, X)\u001b[0m\n\u001b[0;32m    236\u001b[0m             \u001b[0mReturns\u001b[0m \u001b[0mpredicted\u001b[0m \u001b[0mvalues\u001b[0m\u001b[1;33m.\u001b[0m\u001b[1;33m\u001b[0m\u001b[1;33m\u001b[0m\u001b[0m\n\u001b[0;32m    237\u001b[0m         \"\"\"\n\u001b[1;32m--> 238\u001b[1;33m         \u001b[1;32mreturn\u001b[0m \u001b[0mself\u001b[0m\u001b[1;33m.\u001b[0m\u001b[0m_decision_function\u001b[0m\u001b[1;33m(\u001b[0m\u001b[0mX\u001b[0m\u001b[1;33m)\u001b[0m\u001b[1;33m\u001b[0m\u001b[1;33m\u001b[0m\u001b[0m\n\u001b[0m\u001b[0;32m    239\u001b[0m \u001b[1;33m\u001b[0m\u001b[0m\n\u001b[0;32m    240\u001b[0m     \u001b[0m_preprocess_data\u001b[0m \u001b[1;33m=\u001b[0m \u001b[0mstaticmethod\u001b[0m\u001b[1;33m(\u001b[0m\u001b[0m_preprocess_data\u001b[0m\u001b[1;33m)\u001b[0m\u001b[1;33m\u001b[0m\u001b[1;33m\u001b[0m\u001b[0m\n",
      "\u001b[1;32mD:\\ProgramData\\Anaconda3\\lib\\site-packages\\sklearn\\linear_model\\_base.py\u001b[0m in \u001b[0;36m_decision_function\u001b[1;34m(self, X)\u001b[0m\n\u001b[0;32m    216\u001b[0m \u001b[1;33m\u001b[0m\u001b[0m\n\u001b[0;32m    217\u001b[0m     \u001b[1;32mdef\u001b[0m \u001b[0m_decision_function\u001b[0m\u001b[1;33m(\u001b[0m\u001b[0mself\u001b[0m\u001b[1;33m,\u001b[0m \u001b[0mX\u001b[0m\u001b[1;33m)\u001b[0m\u001b[1;33m:\u001b[0m\u001b[1;33m\u001b[0m\u001b[1;33m\u001b[0m\u001b[0m\n\u001b[1;32m--> 218\u001b[1;33m         \u001b[0mcheck_is_fitted\u001b[0m\u001b[1;33m(\u001b[0m\u001b[0mself\u001b[0m\u001b[1;33m)\u001b[0m\u001b[1;33m\u001b[0m\u001b[1;33m\u001b[0m\u001b[0m\n\u001b[0m\u001b[0;32m    219\u001b[0m \u001b[1;33m\u001b[0m\u001b[0m\n\u001b[0;32m    220\u001b[0m         \u001b[0mX\u001b[0m \u001b[1;33m=\u001b[0m \u001b[0mcheck_array\u001b[0m\u001b[1;33m(\u001b[0m\u001b[0mX\u001b[0m\u001b[1;33m,\u001b[0m \u001b[0maccept_sparse\u001b[0m\u001b[1;33m=\u001b[0m\u001b[1;33m[\u001b[0m\u001b[1;34m'csr'\u001b[0m\u001b[1;33m,\u001b[0m \u001b[1;34m'csc'\u001b[0m\u001b[1;33m,\u001b[0m \u001b[1;34m'coo'\u001b[0m\u001b[1;33m]\u001b[0m\u001b[1;33m)\u001b[0m\u001b[1;33m\u001b[0m\u001b[1;33m\u001b[0m\u001b[0m\n",
      "\u001b[1;32mD:\\ProgramData\\Anaconda3\\lib\\site-packages\\sklearn\\utils\\validation.py\u001b[0m in \u001b[0;36minner_f\u001b[1;34m(*args, **kwargs)\u001b[0m\n\u001b[0;32m     61\u001b[0m             \u001b[0mextra_args\u001b[0m \u001b[1;33m=\u001b[0m \u001b[0mlen\u001b[0m\u001b[1;33m(\u001b[0m\u001b[0margs\u001b[0m\u001b[1;33m)\u001b[0m \u001b[1;33m-\u001b[0m \u001b[0mlen\u001b[0m\u001b[1;33m(\u001b[0m\u001b[0mall_args\u001b[0m\u001b[1;33m)\u001b[0m\u001b[1;33m\u001b[0m\u001b[1;33m\u001b[0m\u001b[0m\n\u001b[0;32m     62\u001b[0m             \u001b[1;32mif\u001b[0m \u001b[0mextra_args\u001b[0m \u001b[1;33m<=\u001b[0m \u001b[1;36m0\u001b[0m\u001b[1;33m:\u001b[0m\u001b[1;33m\u001b[0m\u001b[1;33m\u001b[0m\u001b[0m\n\u001b[1;32m---> 63\u001b[1;33m                 \u001b[1;32mreturn\u001b[0m \u001b[0mf\u001b[0m\u001b[1;33m(\u001b[0m\u001b[1;33m*\u001b[0m\u001b[0margs\u001b[0m\u001b[1;33m,\u001b[0m \u001b[1;33m**\u001b[0m\u001b[0mkwargs\u001b[0m\u001b[1;33m)\u001b[0m\u001b[1;33m\u001b[0m\u001b[1;33m\u001b[0m\u001b[0m\n\u001b[0m\u001b[0;32m     64\u001b[0m \u001b[1;33m\u001b[0m\u001b[0m\n\u001b[0;32m     65\u001b[0m             \u001b[1;31m# extra_args > 0\u001b[0m\u001b[1;33m\u001b[0m\u001b[1;33m\u001b[0m\u001b[1;33m\u001b[0m\u001b[0m\n",
      "\u001b[1;32mD:\\ProgramData\\Anaconda3\\lib\\site-packages\\sklearn\\utils\\validation.py\u001b[0m in \u001b[0;36mcheck_is_fitted\u001b[1;34m(estimator, attributes, msg, all_or_any)\u001b[0m\n\u001b[0;32m   1039\u001b[0m \u001b[1;33m\u001b[0m\u001b[0m\n\u001b[0;32m   1040\u001b[0m     \u001b[1;32mif\u001b[0m \u001b[1;32mnot\u001b[0m \u001b[0mattrs\u001b[0m\u001b[1;33m:\u001b[0m\u001b[1;33m\u001b[0m\u001b[1;33m\u001b[0m\u001b[0m\n\u001b[1;32m-> 1041\u001b[1;33m         \u001b[1;32mraise\u001b[0m \u001b[0mNotFittedError\u001b[0m\u001b[1;33m(\u001b[0m\u001b[0mmsg\u001b[0m \u001b[1;33m%\u001b[0m \u001b[1;33m{\u001b[0m\u001b[1;34m'name'\u001b[0m\u001b[1;33m:\u001b[0m \u001b[0mtype\u001b[0m\u001b[1;33m(\u001b[0m\u001b[0mestimator\u001b[0m\u001b[1;33m)\u001b[0m\u001b[1;33m.\u001b[0m\u001b[0m__name__\u001b[0m\u001b[1;33m}\u001b[0m\u001b[1;33m)\u001b[0m\u001b[1;33m\u001b[0m\u001b[1;33m\u001b[0m\u001b[0m\n\u001b[0m\u001b[0;32m   1042\u001b[0m \u001b[1;33m\u001b[0m\u001b[0m\n\u001b[0;32m   1043\u001b[0m \u001b[1;33m\u001b[0m\u001b[0m\n",
      "\u001b[1;31mNotFittedError\u001b[0m: This LinearRegression instance is not fitted yet. Call 'fit' with appropriate arguments before using this estimator."
     ]
    }
   ],
   "source": [
    "#fig, axs = plt.subplots(size, size,figsize=(25,25)) \n",
    "plt.rcParams[\"figure.figsize\"] = (10,10)\n",
    "for i in 1,2,3:\n",
    "    plt.figsize=(50,50)\n",
    "    print(i)\n",
    "    linear_model,y_pred,score =  poly_regression(i,x)\n",
    "    plt.plot(x, y_pred)\n",
    "    plt.plot(x, y_pred,label=\"$n^{}$,score={:.2f}\".format(i,scor))  #L = 0.0028\n",
    "    plt.scatter(x,y, s=10,color='r',label=\"data set\")\n",
    "    #plt.legend()\n",
    "plt.show()    "
   ]
  },
  {
   "cell_type": "markdown",
   "id": "bed3bfc6",
   "metadata": {},
   "source": []
  },
  {
   "cell_type": "code",
   "execution_count": null,
   "id": "531092e8",
   "metadata": {},
   "outputs": [],
   "source": [
    "plt.rcParams[\"figure.figsize\"] = (10,10)\n",
    "for i in 1,3,25:\n",
    "    plt.figsize=(50,50)\n",
    "    y_pred,scor = poly_regression(i,x)\n",
    "    plt.plot(x, y_pred,label=\"$degree={}$,score={:.2f}\".format(i,scor))  #L = 0.0028\n",
    "    plt.scatter(x,y, s=10,color='r',label=\"data set\")\n",
    "    plt.legend()\n",
    "plt.show()    "
   ]
  },
  {
   "cell_type": "markdown",
   "id": "339dfad5",
   "metadata": {},
   "source": [
    "For degree=25 the model fits training data too much well 100% accuracy that is the very bad sign.In general this means the biases or  noise is captured too, that is called <mark>over-fitting</mark> or <mark>Low-Bias and high -variance</mark> .This is also mean that the model will fail for new unseen data."
   ]
  },
  {
   "cell_type": "markdown",
   "id": "ff678259",
   "metadata": {},
   "source": [
    "<h2>Bias and Variance</h2>"
   ]
  },
  {
   "cell_type": "markdown",
   "id": "3465654b",
   "metadata": {},
   "source": [
    "Bias refers to the error due to the model’s simplistic assumptions in fitting the data. A high bias means that the model is unable to capture the patterns in the data and this results in under-fitting.<br> <br>\n",
    "Variance refers to the error due to the complex model trying to fit the data. High variance means the model passes through most of the data points and it results in over-fitting the data.\n"
   ]
  },
  {
   "cell_type": "code",
   "execution_count": null,
   "id": "dd7c3fe7",
   "metadata": {},
   "outputs": [],
   "source": [
    "plt.rcParams[\"figure.figsize\"] = (3,3)\n",
    "y_pred,scor = poly_regression(1)\n",
    "plt.plot(x, y_pred,label=\"$degree={}$,score={:.2f}\".format(i,scor))\n",
    "plt.scatter(x,y, s=10,color='r',label=\"data set\")"
   ]
  },
  {
   "cell_type": "markdown",
   "id": "37ef2ba5",
   "metadata": {},
   "source": [
    "In case when degree=1 it called has high Bias and low variance or Underfit."
   ]
  },
  {
   "cell_type": "code",
   "execution_count": null,
   "id": "f9085407",
   "metadata": {},
   "outputs": [],
   "source": [
    "plt.rcParams[\"figure.figsize\"] = (3,3)\n",
    "y_pred,scor = poly_regression(3)\n",
    "plt.plot(x, y_pred,label=\"$degree={}$,score={:.2f}\".format(i,scor))\n",
    "plt.scatter(x,y, s=10,color='r',label=\"data set\")"
   ]
  },
  {
   "cell_type": "markdown",
   "id": "b60dfcf2",
   "metadata": {},
   "source": [
    "In case when degree=3 that is correct fit,that has low bais and low variance."
   ]
  },
  {
   "cell_type": "code",
   "execution_count": 17,
   "id": "06d4b986",
   "metadata": {},
   "outputs": [
    {
     "ename": "TypeError",
     "evalue": "poly_regression() missing 1 required positional argument: 'x'",
     "output_type": "error",
     "traceback": [
      "\u001b[1;31m---------------------------------------------------------------------------\u001b[0m",
      "\u001b[1;31mTypeError\u001b[0m                                 Traceback (most recent call last)",
      "\u001b[1;32m<ipython-input-17-d9e7d64aa5fe>\u001b[0m in \u001b[0;36m<module>\u001b[1;34m\u001b[0m\n\u001b[0;32m      1\u001b[0m \u001b[0mplt\u001b[0m\u001b[1;33m.\u001b[0m\u001b[0mrcParams\u001b[0m\u001b[1;33m[\u001b[0m\u001b[1;34m\"figure.figsize\"\u001b[0m\u001b[1;33m]\u001b[0m \u001b[1;33m=\u001b[0m \u001b[1;33m(\u001b[0m\u001b[1;36m3\u001b[0m\u001b[1;33m,\u001b[0m\u001b[1;36m3\u001b[0m\u001b[1;33m)\u001b[0m\u001b[1;33m\u001b[0m\u001b[1;33m\u001b[0m\u001b[0m\n\u001b[1;32m----> 2\u001b[1;33m \u001b[0mlinear_model\u001b[0m \u001b[1;33m=\u001b[0m \u001b[0mpoly_regression\u001b[0m\u001b[1;33m(\u001b[0m\u001b[1;36m1\u001b[0m\u001b[1;33m)\u001b[0m\u001b[1;33m\u001b[0m\u001b[1;33m\u001b[0m\u001b[0m\n\u001b[0m\u001b[0;32m      3\u001b[0m \u001b[0mplt\u001b[0m\u001b[1;33m.\u001b[0m\u001b[0mplot\u001b[0m\u001b[1;33m(\u001b[0m\u001b[0mx\u001b[0m\u001b[1;33m,\u001b[0m \u001b[0my_pred\u001b[0m\u001b[1;33m,\u001b[0m\u001b[0mlabel\u001b[0m\u001b[1;33m=\u001b[0m\u001b[1;34m\"$degree={}$,score={:.2f}\"\u001b[0m\u001b[1;33m.\u001b[0m\u001b[0mformat\u001b[0m\u001b[1;33m(\u001b[0m\u001b[0mi\u001b[0m\u001b[1;33m,\u001b[0m\u001b[0mscor\u001b[0m\u001b[1;33m)\u001b[0m\u001b[1;33m)\u001b[0m\u001b[1;33m\u001b[0m\u001b[1;33m\u001b[0m\u001b[0m\n\u001b[0;32m      4\u001b[0m \u001b[0mplt\u001b[0m\u001b[1;33m.\u001b[0m\u001b[0mscatter\u001b[0m\u001b[1;33m(\u001b[0m\u001b[0mx\u001b[0m\u001b[1;33m,\u001b[0m\u001b[0my\u001b[0m\u001b[1;33m,\u001b[0m \u001b[0ms\u001b[0m\u001b[1;33m=\u001b[0m\u001b[1;36m10\u001b[0m\u001b[1;33m,\u001b[0m\u001b[0mcolor\u001b[0m\u001b[1;33m=\u001b[0m\u001b[1;34m'r'\u001b[0m\u001b[1;33m,\u001b[0m\u001b[0mlabel\u001b[0m\u001b[1;33m=\u001b[0m\u001b[1;34m\"data set\"\u001b[0m\u001b[1;33m)\u001b[0m\u001b[1;33m\u001b[0m\u001b[1;33m\u001b[0m\u001b[0m\n",
      "\u001b[1;31mTypeError\u001b[0m: poly_regression() missing 1 required positional argument: 'x'"
     ]
    }
   ],
   "source": [
    "plt.rcParams[\"figure.figsize\"] = (3,3)\n",
    "linear_model = poly_regression(1)\n",
    "plt.plot(x, y_pred,label=\"$degree={}$,score={:.2f}\".format(i,scor))\n",
    "plt.scatter(x,y, s=10,color='r',label=\"data set\")"
   ]
  },
  {
   "cell_type": "markdown",
   "id": "c521c6b3",
   "metadata": {},
   "source": [
    "In case when degree=25 that is overfit,that has low bais and high variance."
   ]
  },
  {
   "cell_type": "markdown",
   "id": "9daedec8",
   "metadata": {},
   "source": [
    "<h2> Some notes PCA </h2>"
   ]
  },
  {
   "cell_type": "code",
   "execution_count": 92,
   "id": "ec2d4bd7",
   "metadata": {},
   "outputs": [],
   "source": [
    "polynomial_features= PolynomialFeatures(degree=3)\n",
    "x_poly =  polynomial_features.fit_transform(x)"
   ]
  },
  {
   "cell_type": "code",
   "execution_count": 93,
   "id": "84a047e9",
   "metadata": {},
   "outputs": [
    {
     "data": {
      "text/plain": [
       "(20, 1)"
      ]
     },
     "execution_count": 93,
     "metadata": {},
     "output_type": "execute_result"
    }
   ],
   "source": [
    "from sklearn.preprocessing import PolynomialFeatures\n",
    "from sklearn.decomposition import PCA\n",
    "\n",
    "pca = PCA(1)\n",
    "x_tranform= pca.fit_transform(x_poly)\n",
    "x_tranform.shape"
   ]
  },
  {
   "cell_type": "code",
   "execution_count": 78,
   "id": "a240fb3a",
   "metadata": {},
   "outputs": [
    {
     "data": {
      "text/plain": [
       "array([[ 42.        ],\n",
       "       [ 37.78947368],\n",
       "       [ 33.57894737],\n",
       "       [ 29.36842105],\n",
       "       [ 25.15789474],\n",
       "       [ 20.94736842],\n",
       "       [ 16.73684211],\n",
       "       [ 12.52631579],\n",
       "       [  8.31578947],\n",
       "       [  4.10526316],\n",
       "       [ -0.10526316],\n",
       "       [ -4.31578947],\n",
       "       [ -8.52631579],\n",
       "       [-12.73684211],\n",
       "       [-16.94736842],\n",
       "       [-21.15789474],\n",
       "       [-25.36842105],\n",
       "       [-29.57894737],\n",
       "       [-33.78947368],\n",
       "       [-38.        ]])"
      ]
     },
     "execution_count": 78,
     "metadata": {},
     "output_type": "execute_result"
    }
   ],
   "source": [
    "x_poly\n",
    "x"
   ]
  },
  {
   "cell_type": "code",
   "execution_count": 94,
   "id": "17d41ea6",
   "metadata": {},
   "outputs": [],
   "source": [
    "model = LinearRegression().fit(x_poly,y)\n",
    "y_pred_1 = model.predict(x_poly)"
   ]
  },
  {
   "cell_type": "code",
   "execution_count": 95,
   "id": "08bf8eff",
   "metadata": {},
   "outputs": [
    {
     "data": {
      "text/plain": [
       "<matplotlib.legend.Legend at 0x313de7700>"
      ]
     },
     "execution_count": 95,
     "metadata": {},
     "output_type": "execute_result"
    },
    {
     "data": {
      "image/png": "[encoded data removed]",
      "text/plain": [
       "<Figure size 720x720 with 1 Axes>"
      ]
     },
     "metadata": {
      "needs_background": "light"
     },
     "output_type": "display_data"
    }
   ],
   "source": [
    "model = LinearRegression().fit(x_tranform,y)\n",
    "y_pred = model.predict(x_tranform)\n",
    "plt.plot(x, y_pred,label='pca')\n",
    "plt.plot(x, y_pred_1,label='poly')\n",
    "plt.scatter(x, y)\n",
    "plt.legend()\n"
   ]
  },
  {
   "cell_type": "code",
   "execution_count": 47,
   "id": "4079435b",
   "metadata": {},
   "outputs": [
    {
     "name": "stdout",
     "output_type": "stream",
     "text": [
      "[4.26215222e+63]\n"
     ]
    }
   ],
   "source": [
    "print(pca.explained_variance_)"
   ]
  },
  {
   "cell_type": "code",
   "execution_count": 48,
   "id": "633b089c",
   "metadata": {},
   "outputs": [
    {
     "data": {
      "text/plain": [
       "array([2.84571418e+32])"
      ]
     },
     "execution_count": 48,
     "metadata": {},
     "output_type": "execute_result"
    }
   ],
   "source": [
    "pca.singular_values_"
   ]
  },
  {
   "cell_type": "markdown",
   "id": "7e7a501a",
   "metadata": {},
   "source": [
    "Ideally, a machine learning model should have low variance and low bias.Therefore to achieve a good model that performs well both on the train and unseen data, a trade-off is made."
   ]
  },
  {
   "cell_type": "markdown",
   "id": "1d32949e",
   "metadata": {},
   "source": [
    "<img src='https://randlow.github.io/images/ml/tradeoff_cost_bias.png' alt=\"Italian Trulli\">"
   ]
  },
  {
   "cell_type": "markdown",
   "id": "4609d504",
   "metadata": {},
   "source": [
    "<h2> Lasso Regression </h2>"
   ]
  },
  {
   "cell_type": "code",
   "execution_count": null,
   "id": "0fd6a4b9",
   "metadata": {},
   "outputs": [],
   "source": []
  },
  {
   "cell_type": "code",
   "execution_count": null,
   "id": "519f05a8",
   "metadata": {},
   "outputs": [],
   "source": [
    "linear_model = poly_regression(10)\n",
    "y_predi = linear_model.predict(x_poly)"
   ]
  },
  {
   "cell_type": "code",
   "execution_count": null,
   "id": "7f5338d5",
   "metadata": {},
   "outputs": [],
   "source": [
    "lasso_model =  Lasso(alpha=0)\n",
    "lasso_model.fit(x_poly,y ) \n",
    "y_pred_lasso = lasso_model.predict(x_poly)"
   ]
  },
  {
   "cell_type": "code",
   "execution_count": null,
   "id": "fcecb147",
   "metadata": {},
   "outputs": [],
   "source": [
    "#plt.plot(x, y_pred)  #L = 0.0028\n",
    "plt.scatter(x,y, s=10,color='r')\n",
    "plt.plot(x, y_pred_lasso,label='lasso')\n",
    "plt.plot(x, y_pred,label = 'linear')\n",
    "plt.legend()"
   ]
  },
  {
   "cell_type": "code",
   "execution_count": null,
   "id": "cde8022c",
   "metadata": {},
   "outputs": [],
   "source": [
    "lasso_model.coef_\n",
    "plt.scatter(np.linspace(start=0,stop=25,num=len(lasso_model.coef_) ),lasso_model.coef_)\n",
    "#plt.plot(np.linspace(start=0,stop=25,num=len(linear_model.coef_) ),(linear_model.coef_)/10**10,color='r')\n",
    "plt.scatter(np.linspace(start=0,stop=25,num=linear_model.coef_.size ),(linear_model.coef_)/10**5,color='r')"
   ]
  },
  {
   "cell_type": "code",
   "execution_count": null,
   "id": "1f2d7a05",
   "metadata": {},
   "outputs": [],
   "source": [
    "key = []\n",
    "for i in range(26):\n",
    "    key.append('w_'+str(i))\n"
   ]
  },
  {
   "cell_type": "code",
   "execution_count": null,
   "id": "6c89371a",
   "metadata": {},
   "outputs": [],
   "source": [
    "linear_model.coef_.size\n",
    "len(key)\n",
    "linear_model.coef_/10**8"
   ]
  },
  {
   "cell_type": "code",
   "execution_count": null,
   "id": "c3e1323a",
   "metadata": {},
   "outputs": [],
   "source": [
    "plt.bar(key , lasso_model.coef_, color ='maroon',width = 0.4)\n",
    "#plt.bar(key , linear_model.coef_/10**10, color ='red')\n",
    "  "
   ]
  },
  {
   "cell_type": "code",
   "execution_count": null,
   "id": "79e0ea5d",
   "metadata": {},
   "outputs": [],
   "source": []
  },
  {
   "cell_type": "code",
   "execution_count": null,
   "id": "488845f5",
   "metadata": {},
   "outputs": [],
   "source": [
    "linear_model.coef_.size\n",
    "lasso_model.coef_.size"
   ]
  },
  {
   "cell_type": "code",
   "execution_count": null,
   "id": "36642d7a",
   "metadata": {},
   "outputs": [],
   "source": [
    "model =  Ridge(alpha=30)\n",
    "model.fit(x_poly,y ) \n",
    "y_pred_ridge = model.predict(x_poly)"
   ]
  },
  {
   "cell_type": "code",
   "execution_count": null,
   "id": "6b15b88b",
   "metadata": {},
   "outputs": [],
   "source": [
    "plt.scatter(x,y, s=10,color='r')\n",
    "plt.plot(x, y_pred_ridge)\n"
   ]
  },
  {
   "cell_type": "code",
   "execution_count": null,
   "id": "50d251c1",
   "metadata": {},
   "outputs": [],
   "source": [
    "#pd.DataFrame(np.cov(x_poly))\n",
    "covMatrix = np.cov(x_poly)\n",
    "import seaborn as sn\n",
    "plt.rcParams[\"figure.figsize\"] = (10,10)\n",
    "sn.heatmap(covMatrix)\n",
    "sn.heatmap(np.corrcoef(x_poly))"
   ]
  },
  {
   "cell_type": "code",
   "execution_count": null,
   "id": "b9454b1f",
   "metadata": {},
   "outputs": [],
   "source": []
  },
  {
   "cell_type": "code",
   "execution_count": null,
   "id": "5113938c",
   "metadata": {},
   "outputs": [],
   "source": []
  },
  {
   "cell_type": "code",
   "execution_count": null,
   "id": "1420f966",
   "metadata": {},
   "outputs": [],
   "source": []
  }
 ],
 "metadata": {
  "kernelspec": {
   "display_name": "Python 3",
   "language": "python",
   "name": "python3"
  },
  "language_info": {
   "codemirror_mode": {
    "name": "ipython",
    "version": 3
   },
   "file_extension": ".py",
   "mimetype": "text/x-python",
   "name": "python",
   "nbconvert_exporter": "python",
   "pygments_lexer": "ipython3",
   "version": "3.8.8"
  }
 },
 "nbformat": 4,
 "nbformat_minor": 5
}
