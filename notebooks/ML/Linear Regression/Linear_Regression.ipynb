{
 "cells": [
  {
   "cell_type": "code",
   "execution_count": 1,
   "id": "55db894b",
   "metadata": {},
   "outputs": [],
   "source": [
    "#help function\n",
    "def set_spines():\n",
    "    ax = plt.gca()  # gca stands for 'get current axis'\n",
    "    ax.spines['right'].set_color('none')\n",
    "    ax.spines['top'].set_color('none')\n",
    "    ax.xaxis.set_ticks_position('bottom')\n",
    "    ax.spines['bottom'].set_position(('data',0))\n",
    "    ax.yaxis.set_ticks_position('left')\n",
    "    ax.spines['left'].set_position(('data',0))"
   ]
  },
  {
   "cell_type": "code",
   "execution_count": 2,
   "id": "2e40c482",
   "metadata": {},
   "outputs": [],
   "source": [
    "%matplotlib inline\n",
    "import matplotlib.pyplot as plt\n",
    "import numpy as np\n",
    "import math\n",
    "from mpl_toolkits.mplot3d import Axes3D\n",
    "from random import random\n",
    "#from mpl_toolkits.mplot3d import axes3d\n",
    "import matplotlib.pyplot as plt\n",
    "import pandas as pd\n",
    "from sklearn.model_selection import train_test_split\n",
    "from sklearn.preprocessing import StandardScaler\n",
    "from sklearn.linear_model import LinearRegression"
   ]
  },
  {
   "cell_type": "markdown",
   "id": "9ab910c2",
   "metadata": {},
   "source": [
    "<h1> Linear Regression </h1>"
   ]
  },
  {
   "cell_type": "markdown",
   "id": "62a780fc",
   "metadata": {},
   "source": [
    "<div class='legend'>\n",
    "<ul style=\"margin-left: 30px\">\n",
    "      <li>1.0  <a href='#simple~linear~regression'>Simple Linear Regression </a> </li> \n",
    "      <li>1.1 <a href='#fitting~reg'> Fitting the regresion line</a> </li> <br>\n",
    "      <li>1.2 <a href='#grad~sim~linear'>Gradient Descent over simple linear regression</a> </li>\n",
    "      <li>1.3 <a href='#effect~learning~rate'>Effect of different values for learning rate</a> </li>\n",
    "      <li>1.4 <a href='#m-linear-r'>Multiple Linear Regression</a> </li>\n",
    "      <li>1.5 <a href='#reg'>Regularization of gradient descent by learning rate and max iterations</a> </li>    \n",
    "      <li>1.6 <a href='#conclusion'>Conclusion</a> </li>\n",
    "</ul> \n",
    "</div>    "
   ]
  },
  {
   "cell_type": "markdown",
   "id": "4f373c84",
   "metadata": {},
   "source": [
    "<h2 id='simple~linear~regression'> Simple linear regression </h2>"
   ]
  },
  {
   "cell_type": "markdown",
   "id": "3c62d308",
   "metadata": {},
   "source": [
    "Simple Linear regression has a single explanatory variable.It concerns two-dimensional sample points with one dependent and one independent variable. (Conventionally x and y data point in Cartesian coordinate system).The adjective simple refers to the fact that the outcome variable is related to a single predictor."
   ]
  },
  {
   "cell_type": "markdown",
   "id": "4dddeee5",
   "metadata": {},
   "source": [
    "<h2 href='fitting~reg'> Fitting the regression line with  least-squared </h2>"
   ]
  },
  {
   "cell_type": "markdown",
   "id": "28c6f287",
   "metadata": {},
   "source": [
    "Consider the model function $y = \\alpha + \\beta x$ which describes a line with slope $\\beta$ and intercept $\\alpha$. <br>\n",
    "example : let $\\alpha=7$ and $\\beta=3$, geometrically $y = 7 + 3 x$ appears to be as below graphic."
   ]
  },
  {
   "cell_type": "code",
   "execution_count": 3,
   "id": "793a5f74",
   "metadata": {},
   "outputs": [
    {
     "data": {
      "image/png": "[encoded data removed]",
      "text/plain": [
       "<Figure size 432x288 with 1 Axes>"
      ]
     },
     "metadata": {
      "needs_background": "light"
     },
     "output_type": "display_data"
    }
   ],
   "source": [
    "x = np.linspace(-10,10)\n",
    "y = 7*x + 3\n",
    "#plt.scatter(x,y)\n",
    "plt.plot(x,y,color='r')\n",
    "set_spines()"
   ]
  },
  {
   "cell_type": "markdown",
   "id": "e124b34e",
   "metadata": {},
   "source": [
    "Suppose we observe $n$ data pairs denoted with $(x_i,y_i), i = 1,2,...,n$."
   ]
  },
  {
   "cell_type": "markdown",
   "id": "312141e6",
   "metadata": {},
   "source": [
    "We can describe the underlying relationship between $y_i$ and $x_i$ invloving the error term $\\varepsilon_i$ in linear equation $y_i =  \\alpha + \\beta x_i + \\varepsilon_i $.The  $\\varepsilon_i$  could be intepreted as the noise of the data or in some sense some type of randomness originated from various reasons.Also it is know as 'error term' or 'residual'.\n",
    "Our target is to find estimated values $\\alpha$ and $\\beta$ which would provide the best fit in some sense for data points.\n",
    "In order to find the 'best' fit we will use the <a href='https://en.wikipedia.org/wiki/Ordinary_least_squares'>least-squared</a> approach.From  mathematical view point the issue involved the minimization of Lost function respect to $\\alpha,\\beta$. \n",
    " $$1)  L = \\sum_i(y_i - \\alpha - \\beta x_i)^2$$.\n",
    "$L$ is called $Lost$ function the expression $(y_i - \\alpha - \\beta x_i)^2$ is called $Lost$ function.This function is appropiative because of It is a diferencianal everywhere and gives us  a measure of diference between dependent value $y_i$ and predicted value of $y'(\\alpha,\\beta)=\\alpha + \\beta x_i $.<br>\n",
    "In order to find $min_{\\alpha,\\beta}L(\\alpha,\\beta,x_i,_yi)$ we will use Gradient Descent method.<br>"
   ]
  },
  {
   "cell_type": "markdown",
   "id": "255ecfcc",
   "metadata": {},
   "source": [
    "<h2 id='grad~sim~linear'> Gradient Descent over simple linear regression</h2>"
   ]
  }
 ],
 "metadata": {
  "kernelspec": {
   "display_name": "Python 3",
   "language": "python",
   "name": "python3"
  },
  "language_info": {
   "codemirror_mode": {
    "name": "ipython",
    "version": 3
   },
   "file_extension": ".py",
   "mimetype": "text/x-python",
   "name": "python",
   "nbconvert_exporter": "python",
   "pygments_lexer": "ipython3",
   "version": "3.8.8"
  }
 },
 "nbformat": 4,
 "nbformat_minor": 5
}
