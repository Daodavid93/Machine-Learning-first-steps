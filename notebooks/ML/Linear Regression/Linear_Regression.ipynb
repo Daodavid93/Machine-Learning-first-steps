{
 "cells": [
  {
   "cell_type": "code",
   "execution_count": 4,
   "id": "55db894b",
   "metadata": {},
   "outputs": [],
   "source": [
    "#help function\n",
    "def set_spines():\n",
    "    ax = plt.gca()  # gca stands for 'get current axis'\n",
    "    ax.spines['right'].set_color('none')\n",
    "    ax.spines['top'].set_color('none')\n",
    "    ax.xaxis.set_ticks_position('bottom')\n",
    "    ax.spines['bottom'].set_position(('data',0))\n",
    "    ax.yaxis.set_ticks_position('left')\n",
    "    ax.spines['left'].set_position(('data',0))\n",
    "    "
   ]
  },
  {
   "cell_type": "code",
   "execution_count": 3,
   "id": "2e40c482",
   "metadata": {},
   "outputs": [],
   "source": [
    "%matplotlib inline\n",
    "import matplotlib.pyplot as plt\n",
    "import numpy as np\n",
    "import math\n",
    "from mpl_toolkits.mplot3d import Axes3D\n",
    "from random import random\n",
    "#from mpl_toolkits.mplot3d import axes3d\n",
    "import matplotlib.pyplot as plt\n",
    "import pandas as pd\n",
    "from sklearn.model_selection import train_test_split\n",
    "from sklearn.preprocessing import StandardScaler\n",
    "from sklearn.linear_model import LinearRegression"
   ]
  },
  {
   "cell_type": "markdown",
   "id": "9ab910c2",
   "metadata": {},
   "source": [
    "<h1> Linear Regression </h1>\n",
    "<div class='legend'>\n",
    "<ul style=\"margin-left: 30px\">\n",
    "      <li>1.0  <a href='#simple~linear~regression'>Simple Linear Regression </a> </li> \n",
    "      <li>1.1 <a href='#fitting~reg'> Fitting the regresion line</a> </li>\n",
    "      <li>1.2 <a href='#grad~sim~linear'>Gradient Descent over simple linear regression</a> </li>\n",
    "      <li>1.3 <a href='#rates-iterations'> Different Learning rates and number of Iteration in Gradient Descent</a> </li>\n",
    "      <li>1.4 <a href='#m-linear-r'>Multiple Linear Regression</a> </li>\n",
    "      <li>1.5 <a href='#reg'>Regularization of gradient descent by learning rate and max iterations</a> </li>    \n",
    "      <li>1.6 <a href='#conclusion'>Conclusion</a> </li>\n",
    "</ul> \n",
    "</div>    "
   ]
  },
  {
   "cell_type": "markdown",
   "id": "a29f072d",
   "metadata": {},
   "source": [
    "<h2 id='intro~linear~regression'>Introduction </h2>"
   ]
  },
  {
   "cell_type": "markdown",
   "id": "62a780fc",
   "metadata": {},
   "source": [
    "\n"
   ]
  },
  {
   "cell_type": "markdown",
   "id": "5d81b9a1",
   "metadata": {},
   "source": []
  },
  {
   "cell_type": "markdown",
   "id": "5c5c8e60",
   "metadata": {},
   "source": []
  },
  {
   "cell_type": "markdown",
   "id": "f66e5ad9",
   "metadata": {},
   "source": []
  },
  {
   "cell_type": "markdown",
   "id": "ac98678f",
   "metadata": {},
   "source": [
    "<h2 id='simple~linear~regression'>1.0 Simple linear regression </h2>"
   ]
  },
  {
   "cell_type": "markdown",
   "id": "7b0def14",
   "metadata": {},
   "source": [
    "Simple Linear regression has a single explanatory variable. It concerns two-dimensional sample points with one dependent and one independent variable. (Conventionally x and y data point in a Cartesian coordinate system). The adjective simple refers to the fact that the outcome variable is related to a single predictor."
   ]
  },
  {
   "cell_type": "markdown",
   "id": "59207bd2",
   "metadata": {},
   "source": [
    "<h2 href='fitting~reg'>1.1 Fitting the regression line with  least-squared </h2>"
   ]
  },
  {
   "cell_type": "markdown",
   "id": "6145a977",
   "metadata": {},
   "source": [
    "Consider the model function $y = \\alpha + \\beta x$ which describes a line with slope $\\beta$ and intercept $\\alpha$. <br>\n",
    "example : let $\\alpha=7$ and $\\beta=3$, geometrically $y = 7 + 3 x$ appears to be as below graphic."
   ]
  },
  {
   "cell_type": "code",
   "execution_count": 5,
   "id": "ddba3760",
   "metadata": {},
   "outputs": [
    {
     "data": {
      "image/png": "[encoded data removed]",
      "text/plain": [
       "<Figure size 432x288 with 1 Axes>"
      ]
     },
     "metadata": {
      "needs_background": "light"
     },
     "output_type": "display_data"
    }
   ],
   "source": [
    "x = np.linspace(-10,10)\n",
    "y = 7*x + 3\n",
    "plt.plot(x,y,color='r')\n",
    "set_spines()"
   ]
  },
  {
   "cell_type": "markdown",
   "id": "d038835c",
   "metadata": {},
   "source": [
    "Suppose we observe $n$ data pairs denoted with $(x_i,y_i), i = 1,2,...,n$."
   ]
  },
  {
   "cell_type": "code",
   "execution_count": 6,
   "id": "c6354037",
   "metadata": {},
   "outputs": [
    {
     "data": {
      "image/png": "[encoded data removed]",
      "text/plain": [
       "<Figure size 432x288 with 1 Axes>"
      ]
     },
     "metadata": {
      "needs_background": "light"
     },
     "output_type": "display_data"
    }
   ],
   "source": [
    "y = 7*x + 3 + np.random.uniform(-10,10,size=x.size)\n",
    "plt.scatter(x,y)\n",
    "set_spines()"
   ]
  },
  {
   "cell_type": "markdown",
   "id": "9a12f673",
   "metadata": {},
   "source": [
    "We can describe the underlying relationship between $y_i$ and $x_i$ invloving the error term $\\varepsilon_i$ in linear equation $y_i =  \\alpha + \\beta x_i + \\varepsilon_i $.The  $\\varepsilon_i$  could be intepreted as the noise (bias) of the data or in some sense some type of randomness originated from various reasons.Also it is know as 'error term' or 'residual'.\n",
    "Our target is to find estimated values $\\alpha$ and $\\beta$ which would provide the best fit in some sense for data points.\n",
    "In order to find the 'best' fit we will use the <a href='https://en.wikipedia.org/wiki/Ordinary_least_squares'>least-squared</a> approach.From  mathematical view point the issue involved the minimization of Lost function respect to $\\alpha,\\beta$. \n",
    " $$1)  L = \\sum_i(y_i - \\alpha - \\beta x_i)^2$$.\n",
    "$L$ is called $Lost$ function the expression $(y_i - \\alpha - \\beta x_i)^2$ is called $Cost$ function.This function is appropiative because of It is a diferencianal everywhere and gives us  a measure of diference between dependent value $y_i$ and predicted value of $y'(\\alpha,\\beta)=\\alpha + \\beta x_i $.<br>\n",
    "In order to find $min_{\\alpha,\\beta}L(\\alpha,\\beta,x_i,_yi)$ we will use <mark>Gradient Descent method</mark>.<br>"
   ]
  },
  {
   "cell_type": "markdown",
   "id": "595546ee",
   "metadata": {},
   "source": [
    " $$L = \\sum_i(y_i - w_0- w_1 x_i)^2  $$"
   ]
  },
  {
   "cell_type": "markdown",
   "id": "45c03b34",
   "metadata": {},
   "source": [
    "Therefore, ridge regression puts further constraints on the parameters, $w_j$'s, in the linear model. In this case, what we are doing is that instead of just minimizing the residual sum of squares we also have a penalty term on the $w$'s. This penalty term is $λ$ (a pre-chosen constant) times the squared norm of the $w$ vector. This means that if the $w_j$'s take on large values, the optimization function is penalized. We would prefer to take smaller $w_j$'s, or $w_j$'s that are close to zero to drive the penalty term small.\n",
    "\n"
   ]
  },
  {
   "cell_type": "code",
   "execution_count": null,
   "id": "1af6ca01",
   "metadata": {},
   "outputs": [],
   "source": []
  },
  {
   "cell_type": "markdown",
   "id": "16c98ef4",
   "metadata": {},
   "source": [
    "<h2 id='grad~sim~linear'>1.2 Gradient Descent over simple linear regression</h2>"
   ]
  },
  {
   "cell_type": "markdown",
   "id": "d344fd7b",
   "metadata": {},
   "source": [
    "The methods for finding the maximum and minimum (extrema) have been created with the development of mathematical analysis(Calculus). Gradient Descent is a numerical approach to the local minimum of a first-order differentiable function. The idea is to take repeated steps in the opposite direction of the gradient the function in the current point. \n"
   ]
  },
  {
   "cell_type": "markdown",
   "id": "9dac3515",
   "metadata": {},
   "source": [
    "Our purpose is to find the value of $x$ where the function gets the minimum value.\n",
    "The GD algorithm is difined : \n",
    "  $$\\alpha = \\alpha - \\nabla_{\\alpha}L(\\alpha,\\beta)*h$$\n",
    "  $$\\beta = \\beta - \\nabla_{\\beta}L(\\alpha,\\beta)*h$$ <br>\n",
    "  \n"
   ]
  },
  {
   "cell_type": "markdown",
   "id": "0b5fb6e7",
   "metadata": {},
   "source": [
    "where $h$ is called <mark>Learning rate</mark> or step size.\n",
    "Applying GD algorithm over our Lost function 1) we  get : <br> <br>\n",
    "$$\\nabla_{\\alpha}(J(a,b)=\\frac{\\partial{L}}{\\partial{{\\alpha}}}=\\frac{\\partial{\\sum_i(y_i - \\alpha - \\beta x_i)^2}}{\\partial{{\\alpha}}}=-\\frac{2}{n}\\sum_{n=1}^{n}{(y_i-a*x_i - b)*x_i} $$ <br>\n",
    "$$\\nabla_{\\beta}(J(a,b)=\\frac{\\partial{L}}{\\partial{{\\beta }}}=\\frac{\\partial{\\sum_i(y_i - \\alpha - \\beta x_i)^2}}{\\partial{{\\beta}}}=- \\frac{2}{n}\\sum_{n=1}^{n}{(y_i-a*x_i - b)} $$ <br> <br>\n"
   ]
  },
  {
   "cell_type": "markdown",
   "id": "ce919dda",
   "metadata": {},
   "source": [
    "applying the above local derivatives to Gradient Descent formula we get\n",
    " $$\\alpha = \\alpha + \\frac{2}{n}\\sum_{n=1}^{n}{(y_i-a*x_i - b)*x_i}*h$$\n",
    "  $$\\beta = \\beta +\\frac{2}{n}\\sum_{n=1}^{n}{(y_i-a*x_i - b)}*h$$ <br>"
   ]
  },
  {
   "cell_type": "markdown",
   "id": "3cf53f47",
   "metadata": {},
   "source": [
    "The above equations are performed enough times to reach the minimum of Lost function with conditional that we have chosen the appropriate Learning rate $h$."
   ]
  },
  {
   "cell_type": "markdown",
   "id": "610b4789",
   "metadata": {},
   "source": [
    "<h2 id='grad~sim~linear'>1.3 Implementation of Gradient Descent for simple linear regression (Python)</h2>"
   ]
  },
  {
   "cell_type": "code",
   "execution_count": 7,
   "id": "56dd372f",
   "metadata": {},
   "outputs": [],
   "source": [
    "#implementation cost function\n",
    "def cost(X,Y,alpha,betta):\n",
    "    '''\n",
    "    Calculation of cost (error) function of simple linear regression\n",
    "   \n",
    "    Parrameters : \n",
    "    X(array or number) : X arguments, independent variable\n",
    "    Y (array or number) : Y arguments, actual dependent variable \n",
    "    Returns :\n",
    "      number of cost function\n",
    "  '''\n",
    "   \n",
    "    return np.sum((Y - (alpha - betta*X ))**2 )"
   ]
  },
  {
   "cell_type": "code",
   "execution_count": 9,
   "id": "536d9766",
   "metadata": {},
   "outputs": [],
   "source": [
    "def gradient_descent(X,Y,C=0.1,E=100):\n",
    "    '''\n",
    "    \n",
    "    Mimumization of cost (error) function of simple linear regression\n",
    "   \n",
    "    Parrameters : \n",
    "    X(array or number) : X arguments, independent variable\n",
    "    Y (array or number) : Y arguments, actual dependent variable \n",
    "    C (number) :  learning rate\n",
    "    I(int) : number of iteration(Epoch)\n",
    "    Returns :\n",
    "      number of cost function\n",
    "   '''\n",
    "   \n",
    "    a =1 \n",
    "    b = 1 \n",
    "    a_args = []\n",
    "    b_args =   []\n",
    "    n = X.size\n",
    "    \n",
    "    for i in range(E):\n",
    "        \n",
    "        a = a + 2/n*(np.sum((Y - a*X - b)*X))*C\n",
    "        b =  b + 2/n*(np.sum((Y - a*X -b)))*C\n",
    "        #print(a,b)\n",
    "        a_args.append(a)\n",
    "        b_args.append(b)\n",
    "    return a,b,a_args,b_args "
   ]
  },
  {
   "cell_type": "markdown",
   "id": "9f899228",
   "metadata": {},
   "source": [
    "Applying this implemenation over our generated data"
   ]
  },
  {
   "cell_type": "code",
   "execution_count": 10,
   "id": "d1aa1384",
   "metadata": {},
   "outputs": [
    {
     "data": {
      "text/plain": [
       "<matplotlib.collections.PathCollection at 0x594daa0be0>"
      ]
     },
     "execution_count": 10,
     "metadata": {},
     "output_type": "execute_result"
    },
    {
     "data": {
      "image/png": "[encoded data removed]",
      "text/plain": [
       "<Figure size 432x288 with 1 Axes>"
      ]
     },
     "metadata": {
      "needs_background": "light"
     },
     "output_type": "display_data"
    }
   ],
   "source": [
    "plt.scatter(x,y)"
   ]
  },
  {
   "cell_type": "code",
   "execution_count": 11,
   "id": "1f5a1a2b",
   "metadata": {},
   "outputs": [],
   "source": [
    "a,b,a_r,b_r = gradient_descent(x,y,C=0.01,E=1000)"
   ]
  },
  {
   "cell_type": "code",
   "execution_count": 12,
   "id": "bf465ed8",
   "metadata": {},
   "outputs": [
    {
     "data": {
      "text/plain": [
       "<matplotlib.legend.Legend at 0x594daff610>"
      ]
     },
     "execution_count": 12,
     "metadata": {},
     "output_type": "execute_result"
    },
    {
     "data": {
      "image/png": "[encoded data removed]",
      "text/plain": [
       "<Figure size 432x288 with 1 Axes>"
      ]
     },
     "metadata": {
      "needs_background": "light"
     },
     "output_type": "display_data"
    }
   ],
   "source": [
    "plt.plot(a_r,color='r',label=r'$\\alpha $')\n",
    "plt.plot(b_r,label=r'$\\beta$')\n",
    "plt.xlabel(\"number of epoch E\")\n",
    "plt.ylabel(\"etimated parameters\")\n",
    "plt.title('C = 0.01 , E = 1000')\n",
    "set_spines()\n",
    "plt.legend()"
   ]
  },
  {
   "cell_type": "markdown",
   "id": "734357d2",
   "metadata": {},
   "source": [
    "From graphics we can see that the curves of $\\alpha$ tends to $7$ and $\\beta$ tends to $3$.\n",
    "<br> \n",
    "The fit line will be : "
   ]
  },
  {
   "cell_type": "code",
   "execution_count": 13,
   "id": "48473221",
   "metadata": {},
   "outputs": [
    {
     "data": {
      "image/png": "[encoded data removed]",
      "text/plain": [
       "<Figure size 432x288 with 1 Axes>"
      ]
     },
     "metadata": {
      "needs_background": "light"
     },
     "output_type": "display_data"
    }
   ],
   "source": [
    "plt.scatter(x,y)  #7 \n",
    "plt.plot(x, 7*x +  3)\n",
    "set_spines()"
   ]
  },
  {
   "cell_type": "markdown",
   "id": "b360136d",
   "metadata": {},
   "source": [
    "It seems that the equation $y = 7 + 3 x$ describes the data as well as possible."
   ]
  },
  {
   "cell_type": "markdown",
   "id": "6740b689",
   "metadata": {},
   "source": [
    "<h2 id='rates-iterations'>1.3  Different Learning rates and number of Iteration in Gradient Descent</h2>"
   ]
  },
  {
   "cell_type": "markdown",
   "id": "d5b2809d",
   "metadata": {},
   "source": [
    "Again let's generate the data with bigger residuals."
   ]
  },
  {
   "cell_type": "code",
   "execution_count": 14,
   "id": "ac8edbb8",
   "metadata": {},
   "outputs": [
    {
     "data": {
      "image/png": "[encoded data removed]",
      "text/plain": [
       "<Figure size 432x288 with 1 Axes>"
      ]
     },
     "metadata": {
      "needs_background": "light"
     },
     "output_type": "display_data"
    }
   ],
   "source": [
    "y = 7*x + 120 +np.random.normal(0, 10, size=x.size)  \n",
    "plt.scatter(x,y)\n",
    "set_spines()"
   ]
  },
  {
   "cell_type": "code",
   "execution_count": 15,
   "id": "2403cc22",
   "metadata": {},
   "outputs": [
    {
     "data": {
      "text/plain": [
       "<matplotlib.legend.Legend at 0x594db091c0>"
      ]
     },
     "execution_count": 15,
     "metadata": {},
     "output_type": "execute_result"
    },
    {
     "data": {
      "image/png": "[encoded data removed]",
      "text/plain": [
       "<Figure size 432x288 with 1 Axes>"
      ]
     },
     "metadata": {
      "needs_background": "light"
     },
     "output_type": "display_data"
    }
   ],
   "source": [
    "a,b,a_r,b_r = gradient_descent(x,y,C=0.05,E=20)\n",
    "plt.plot(a_r,color='r',label=r'$\\alpha $')\n",
    "plt.plot(b_r,label=r'$\\beta$')\n",
    "plt.xlabel(\"number of epoch E\")\n",
    "plt.ylabel(\"etimated parameters\")\n",
    "plt.title('C = 0.05 , E = 50')\n",
    "#set_spines()\n",
    "plt.legend()"
   ]
  },
  {
   "cell_type": "markdown",
   "id": "61c27fa6",
   "metadata": {},
   "source": [
    "When learning rate is 0.05 and Iter.=20 we observe the learning jump."
   ]
  },
  {
   "cell_type": "code",
   "execution_count": 16,
   "id": "bf3e8eb6",
   "metadata": {},
   "outputs": [
    {
     "data": {
      "text/plain": [
       "<matplotlib.legend.Legend at 0x594db52ac0>"
      ]
     },
     "execution_count": 16,
     "metadata": {},
     "output_type": "execute_result"
    },
    {
     "data": {
      "image/png": "[encoded data removed]",
      "text/plain": [
       "<Figure size 432x288 with 1 Axes>"
      ]
     },
     "metadata": {
      "needs_background": "light"
     },
     "output_type": "display_data"
    }
   ],
   "source": [
    "a,b,a_r,b_r = gradient_descent(x,y,C=0.001,E=20)\n",
    "plt.plot(a_r,color='r',label=r'$\\alpha $')\n",
    "plt.plot(b_r,label=r'$\\beta$')\n",
    "plt.xlabel(\"number of epoch E\")\n",
    "plt.ylabel(\"etimated parameters\")\n",
    "plt.title('C = 0.1 , E = 50')\n",
    "#set_spines()\n",
    "plt.legend()"
   ]
  },
  {
   "cell_type": "markdown",
   "id": "16ff0fe3",
   "metadata": {},
   "source": [
    "When the learning rate is 0.03 and Iter.=20 a is 5.53 but is still increased, which means the number of iterations are small, and $\\alpha$ is achieved its minimum, by increasing the iteration $\\alpha$ will achieve its limit , as shown below"
   ]
  },
  {
   "cell_type": "code",
   "execution_count": 17,
   "id": "448c38ac",
   "metadata": {},
   "outputs": [
    {
     "data": {
      "text/plain": [
       "(6.499375230398585, 117.27443020630987)"
      ]
     },
     "execution_count": 17,
     "metadata": {},
     "output_type": "execute_result"
    },
    {
     "data": {
      "image/png": "[encoded data removed]",
      "text/plain": [
       "<Figure size 432x288 with 1 Axes>"
      ]
     },
     "metadata": {
      "needs_background": "light"
     },
     "output_type": "display_data"
    }
   ],
   "source": [
    "a,b,a_r,b_r = gradient_descent(x,y,C=0.001,E=1920)\n",
    "plt.plot(a_r,color='r',label=r'$\\alpha $')\n",
    "plt.plot(b_r,label=r'$\\beta$')\n",
    "plt.xlabel(\"number of epoch E\")\n",
    "plt.ylabel(\"etimated parameters\")\n",
    "plt.title('C = 0.001 , E = 120')\n",
    "#set_spines()\n",
    "plt.legend()\n",
    "a,b"
   ]
  },
  {
   "cell_type": "markdown",
   "id": "b0f27a12",
   "metadata": {},
   "source": [
    "<h2 id='rates-iterations'>1.3Introduction in Ridge Regression in context of simple Linear Regression </h2>"
   ]
  },
  {
   "cell_type": "markdown",
   "id": "10419f32",
   "metadata": {},
   "source": [
    "When the model fit training data too much well,that is the very bad sign.When the model fit training data too much well,that is the very bad sign.In general this mean the biases is fitted by model function.In Machine Learning it called overfit.Let's get below graph."
   ]
  },
  {
   "cell_type": "code",
   "execution_count": 18,
   "id": "941873cd",
   "metadata": {},
   "outputs": [
    {
     "data": {
      "text/plain": [
       "(26.246631087550607, 325.05176803143104)"
      ]
     },
     "execution_count": 18,
     "metadata": {},
     "output_type": "execute_result"
    },
    {
     "data": {
      "image/png": "[encoded data removed]",
      "text/plain": [
       "<Figure size 432x288 with 1 Axes>"
      ]
     },
     "metadata": {
      "needs_background": "light"
     },
     "output_type": "display_data"
    }
   ],
   "source": [
    "plt.plot(x, 7*x +  120)  \n",
    "plt.scatter(x, y)\n",
    "a,b,a_r,b_r = gradient_descent(x[0:2],y[0:2],C=0.005,E=505620)\n",
    "plt.scatter(x[0:2],y[0:2],color='r')\n",
    "plt.plot(x, a*x +  b,color='r')\n",
    "set_spines()\n",
    "a,b"
   ]
  },
  {
   "cell_type": "markdown",
   "id": "b5646b0d",
   "metadata": {},
   "source": [
    "The red line is a regression line coming from the fitting of only the first two points. <br>\n",
    "We can see that when we train the model over the first two points, that points have been feet too well,but at all the model is awful because the red line has a  high bias by the rest points.This simple example shows how we can achieved overfit model.The reasons for overfitting could have many different origins and they could be different by itself.In the above example because we train the model over too few points, the model trains the bias of data, which leads to very bad prediction for the rest points.To resolve this problem we have to involve an artificially Bias in our Loss function LSR. "
   ]
  },
  {
   "cell_type": "markdown",
   "id": "f376cc80",
   "metadata": {},
   "source": [
    " $$L = \\sum_i(y_i - w_0- w_1 x_i)^2 + \\lambda(w_0^2 + w_1^2) $$"
   ]
  },
  {
   "cell_type": "markdown",
   "id": "3ce54076",
   "metadata": {},
   "source": [
    "Therefore, ridge regression puts further constraints on the parameters, $w_j$'s, in the linear model. In this case, what we are doing is that instead of just minimizing the residual sum of squares we also have a penalty term on the $w$'s. This penalty term is $λ$ (a pre-chosen constant) times the squared norm of the $w$ vector. This means that if the $w_j$'s take on large values, the optimization function is penalized. We would prefer to take smaller $w_j$'s, or $w_j$'s that are close to zero to drive the penalty term small.\n"
   ]
  },
  {
   "cell_type": "markdown",
   "id": "32e20a2f",
   "metadata": {},
   "source": [
    "Appling Gradient Descent over penalty Loss function we obtain  :"
   ]
  },
  {
   "cell_type": "markdown",
   "id": "12ea289e",
   "metadata": {},
   "source": [
    "\n",
    "$\\nabla_{w_1}(J(w_1,w_0)=\\frac{\\partial{L}}{\\partial{{\\alpha}}}=\\frac{\\partial{\\sum_i(y_i - w_0 - w_1 x_i)^2}}{\\partial{{w_1}}} + \\frac{\\partial{\\lambda(w_0^2 + w_1^2)  }}{w_1}  =-\\frac{2}{n}\\sum_{n=1}^{n}{(y_i-w_1*x_i - w_0)*x_i} + 2\\lambda w_1 $ <br>\n",
    "$\\nabla_{w_0}(J(w_1,w_0)=\\frac{\\partial{L}}{\\partial{{\\beta }}}=\\frac{\\partial{\\sum_i(y_i - w_0 - w_1 x_i)^2}}{\\partial{{w_0}}} + \\frac{\\partial{ \\lambda(w_0^2 + w_1^2) }}{w_1}  =- \\frac{2}{n}\\sum_{n=1}^{n}{(y_i-a*x_i - b)} + 2\\lambda w_0 $ <br> <br>"
   ]
  },
  {
   "cell_type": "markdown",
   "id": "1b376b10",
   "metadata": {},
   "source": [
    "the new gradient descent implementation :"
   ]
  },
  {
   "cell_type": "code",
   "execution_count": 19,
   "id": "097863e2",
   "metadata": {},
   "outputs": [],
   "source": [
    "def gradient_descent(X,Y,L = 0 , C=0.1,E=100):\n",
    "    '''\n",
    "    \n",
    "    Mimumization of cost (error) function of simple linear regression\n",
    "   \n",
    "    Parrameters : \n",
    "    L penalty coeficient (L1 regularization)\n",
    "    X(array or number) : X arguments, independent variable\n",
    "    Y (array or number) : Y arguments, actual dependent variable \n",
    "    C (number) :  learning rate\n",
    "    I(int) : number of iteration(Epoch)\n",
    "    Returns :\n",
    "      number of cost function\n",
    "   '''\n",
    "   \n",
    "    a =1 \n",
    "    b = 1 \n",
    "    a_args = []\n",
    "    b_args =   []\n",
    "    n = X.size\n",
    "    \n",
    "    for i in range(E):\n",
    "        a = a + (2/n)*(np.sum((Y - a*X - b)*X))*C + L*a\n",
    "        b =  b + (2/n)*(np.sum((Y - a*X -b)))*C + L*b\n",
    "        #print(a,b)\n",
    "        a_args.append(a)\n",
    "        b_args.append(b)\n",
    "    return a,b,a_args,b_args "
   ]
  },
  {
   "cell_type": "code",
   "execution_count": 20,
   "id": "75ad9246",
   "metadata": {},
   "outputs": [
    {
     "data": {
      "image/png": "[encoded data removed]",
      "text/plain": [
       "<Figure size 432x288 with 1 Axes>"
      ]
     },
     "metadata": {
      "needs_background": "light"
     },
     "output_type": "display_data"
    }
   ],
   "source": [
    "plt.plot(x, 7*x +  120)  #L = 0.0028\n",
    "plt.scatter(x, y)\n",
    "a,b,a_r,b_r = gradient_descent(x[0:2],y[0:2],L=0.00258 ,C=0.005,E=1800)\n",
    "plt.scatter(x[0:2],y[0:2],color='r')\n",
    "plt.plot(x, a*x +  b,color='r')\n",
    "set_spines()\n",
    "#a,b\n"
   ]
  },
  {
   "cell_type": "markdown",
   "id": "a92164a3",
   "metadata": {},
   "source": [
    "<h1 id='m-linear-r'> Multiple Linear Regression from scratch</h1>"
   ]
  },
  {
   "cell_type": "markdown",
   "id": "f2a3dbf3",
   "metadata": {},
   "source": [
    "Multiple Linear Regression also known as multiple regression, is a statistical technique that uses several explanatory variable to predict the outcome of response variable.In essence, MLR is an extension of ordinary least-squared regression.The equation that we are searching for is defined by : <br> <br>"
   ]
  },
  {
   "cell_type": "markdown",
   "id": "84a5089b",
   "metadata": {},
   "source": [
    "$$\\hat{ y}^i= h(x{^i}) =  \\omega_0 + \\omega_1 x^i_{1} + \\omega_2 x_{2}^i+ ...\\omega_p x_{p}^i +ε^i  $$"
   ]
  },
  {
   "cell_type": "markdown",
   "id": "8ef4220b",
   "metadata": {},
   "source": [
    "where , $i$ is number of obeservation,\n",
    "$y_i$ dependet(target) value,\n",
    "$x_p $ feature values,\n",
    "$\\omega_0$ intercept,\n",
    "$\\omega_{p}$ slope coeff.(weight) for each explanority variable $\\epsilon_i$  is referred to as the error.\n"
   ]
  },
  {
   "cell_type": "markdown",
   "id": "6e0d2634",
   "metadata": {},
   "source": [
    "The above hypotesis can also be represented by  \n",
    " $$\\hat{Y} = X\\Omega + \\epsilon$$  "
   ]
  },
  {
   "cell_type": "markdown",
   "id": "b9b6177a",
   "metadata": {},
   "source": [
    "Consider an experiment in which p characteristics of n samples are measured. The data from this experiment are\n",
    "denoted $X$.\n",
    " where  $$X = \\begin{bmatrix} \n",
    "1 &x_1^1 & x_1^2 & x_1^p \\\\\n",
    "\\vdots & \\ddots & \\vdots & \\vdots \\\\\n",
    "1& x_n^1 & \\dots & x_n^p \\\\\n",
    "\\end{bmatrix} $$"
   ]
  },
  {
   "cell_type": "markdown",
   "id": "ae729f8b",
   "metadata": {},
   "source": [
    "$\\Omega = \\begin{bmatrix} \n",
    "\\omega_1 \\\\\n",
    "\\vdots & \\\\\n",
    "\\omega_p \\\\\n",
    "\\end{bmatrix} $ \n",
    "is the regression parameter or weights,or predictors. The parameter $\\omega_j$ , $j = 1, . . . , p,$ represents\n",
    "the effect size of covariate j on the response. That is, for each unit change in covariate j (while keeping the\n",
    "other covariates fixed) the observed change in the response is equal to $\\omega_j$ ."
   ]
  },
  {
   "cell_type": "markdown",
   "id": "5e472d6c",
   "metadata": {},
   "source": [
    "$\\epsilon = \\begin{bmatrix} \n",
    "\\epsilon_1 \\\\\n",
    "\\vdots & \\\\\n",
    "\\epsilon_p \\\\\n",
    "\\end{bmatrix} $ are the bias normaly distributed as $\\epsilon_ ∼ N (\\omega_p, σ2)$"
   ]
  },
  {
   "cell_type": "markdown",
   "id": "53b22d44",
   "metadata": {},
   "source": [
    "To define and measure the error of our model we define the Lost function as the sum of the squares of the residuals as in simple linear regression. The Lost is the same :\n",
    "    $$ \\hspace{1cm} J(\\varTheta) = \\frac{1}{2m}\\sum_{i=0}^m(h(x^i) - y^i)^2 $$"
   ]
  },
  {
   "cell_type": "markdown",
   "id": "8664334e",
   "metadata": {},
   "source": [
    "We have to initialize the model parameter with some random values(random initialization).To use Gradient Descent we need to measure how the lost function changes with change in it's parametes.Therefore we compute the partial derivatives of lost finction $\\hspace{1cm}  J(\\omega_0,\\omega_1,...,\\omega_n)$ <br> <br>\n",
    "$$ \\frac{\\partial{J(\\Omega)}}{\\partial{\\omega_j}} = \\frac{1}{m}\\sum_{i=0}^m(h(x^i) - y^i)x_j^i$$\n",
    "In more compatable form using matrix in order to be implemnted using <mark>NUMPY</mark>\n"
   ]
  },
  {
   "cell_type": "markdown",
   "id": "612909f0",
   "metadata": {},
   "source": [
    "Using the <a href='https://en.wikipedia.org/wiki/Einstein_notation' > Eistein notaion </a> we can rewrite eq. 4) <br> <br> <br>\n",
    "$$ \\frac{\\partial{J(\\omega_k)}}{\\partial{\\omega_j}} = \\frac{1}{m}(\\omega_p x_p^i - y^i)x_j^i $$ in matrix form <br> <br> <br>\n",
    " $$5) \\hspace{1cm}  \\vec{\\nabla} J(\\Omega)=((X\\Omega^T- Y)^T.X)^T $$ <br> <br>\n",
    "  applying the rule  $(AB)^T$ the eq can be reformed\n",
    "   $$6) \\hspace{1cm}  \\vec{\\nabla} J(\\Omega)= X^T(X\\Omega^T- Y) $$  <br> <br>\n",
    " $$ where  \\hspace{1cm} \\vec{\\nabla} = \\frac{\\partial}{\\partial{\\omega_j}\\vec{e_j}}$$ <br> <br>\n",
    "\n",
    " eq. 6 is extremely comfortable because it can be implemented very simple in <mark>NUMPY</mark> which is many times faster than common Python\n"
   ]
  },
  {
   "cell_type": "markdown",
   "id": "07b58705",
   "metadata": {},
   "source": [
    "The Gradient Descent alg finaly will looks like that : <br>\n",
    " $$\\theta = \\theta - h\\vec{\\nabla} J(\\Omega) $$ h is learnig rate\n",
    "$h$"
   ]
  },
  {
   "cell_type": "markdown",
   "id": "2a543208",
   "metadata": {},
   "source": [
    "Calcaulation of accuracy of Multilinear regression by $R^2$"
   ]
  },
  {
   "cell_type": "markdown",
   "id": "4107fe6b",
   "metadata": {},
   "source": [
    "We will be using Root mean squared error(RMSE) of Determination($R^2$ score)  to evaluate our model.<br>\n",
    "RMSE is a square root of average of sum of suares of residualas.\n",
    "RMSE is difined by : <br>\n",
    "$$ RMSE =\\sqrt{\\frac{1}{2}\\sum_{i=1}^m(h(x^i)- y ^i)} $$\n",
    "R² score or the coefficient of determination explains how much the total variance of the dependent variable can be reduced by using the least square regression.<br>\n",
    "$R^2$ is determed by \n",
    "    $$R^2 = 1 - \\frac{SS_r}{SS_t}$$\n",
    "\n",
    "$SS_t$  is the total sum of errors if we take the mean of the observed values as the predicted value.\n",
    "$$SS_t =\\sum_{i=1}^m( y ^i -\\bar{y})^2 $$ <Br>\n",
    "    $$ SS_r =\\sum_{i=1}^m(h(x^i)- y ^i)^2 $$"
   ]
  },
  {
   "cell_type": "markdown",
   "id": "f6fdabe9",
   "metadata": {},
   "source": [
    "<h2>Implementation of Multiple Linear regression in NUMPY</h2>"
   ]
  },
  {
   "cell_type": "code",
   "execution_count": 21,
   "id": "7997930a",
   "metadata": {},
   "outputs": [],
   "source": [
    "class MultipleLinearRegression:\n",
    "    \"\"\"\n",
    "    Multiple Linear regression\n",
    "\n",
    "    Parameters\n",
    "    ..........\n",
    "\n",
    "    C : float\n",
    "        learning rate\n",
    "    I : int\n",
    "        number of iterations (Epochs)\n",
    "    Attributes\n",
    "    ..........\n",
    "     w_ : weights (Predictors)\n",
    "\n",
    "    \"\"\"\n",
    "\n",
    "    def __init__(self, C=0.001, I=50):\n",
    "        self.C = C\n",
    "        self.I = I\n",
    "        self.w_ = None\n",
    "\n",
    "    def fit(self, X, Y):\n",
    "        \"\"\"Fit tthe training data\n",
    "\n",
    "        Parameters\n",
    "        ..........\n",
    "\n",
    "        X : array, shape = [N_samples,n_features]\n",
    "            Training samples\n",
    "        Y  : array, shape = [n_samples, n_target_values]\n",
    "\n",
    "        Returns\n",
    "        .......\n",
    "        self : object\n",
    "\n",
    "        \"\"\"\n",
    "\n",
    "        X, Y = self._validate(X, Y)\n",
    "        self.w_ = np.ones((X.shape[1], 1))  # inicialized predictors\n",
    "        M = X.shape[0]  # numbers of samples\n",
    "        for _ in range(self.I):\n",
    "            gradient = self.C * (1 / M) * X.T.dot((X.dot(self.w_) - Y))\n",
    "            if np.isnan(np.sum(gradient)) or np.isinf(np.sum(gradient)):\n",
    "                return self\n",
    "            self.w_ = self.w_ - gradient\n",
    "\n",
    "        return self\n",
    "\n",
    "    def predict(self, x):\n",
    "        \"\"\" Predicts the value after the model has been trained.\n",
    "        Parameters\n",
    "        ----------\n",
    "        x : array-like, shape = [n_samples, n_features]\n",
    "            Test samples\n",
    "        Returns\n",
    "        -------\n",
    "        Predicted value\n",
    "        \"\"\"\n",
    "        x = np.append(np.ones((x.shape[0], 1)), x, axis=1)\n",
    "        return np.dot(x, self.w_)\n",
    "\n",
    "    def score(self, X, Y):\n",
    "        \"\"\"Calculation of accuracy using (R^2 score)\n",
    "             x : array-like, shape = [n_samples, n_features]\n",
    "             y : array-like, shape = [n_samples, n_features]\n",
    "            Test samples\n",
    "        Returns\n",
    "        float : score\n",
    "        -------\n",
    "        Predicted value\n",
    "\n",
    "        \"\"\"\n",
    "        # X = np.append(np.ones((X.shape[0], 1)), X, axis=1)\n",
    "        # Y = np.array(Y).reshape(X.shape[0], 1)\n",
    "        X, Y = self._validate(X, Y)\n",
    "        y_prime = np.dot(X, self.w_)\n",
    "        ssr = np.sum((y_prime - Y) ** 2)\n",
    "        sst = np.sum((Y - np.mean(y_prime)) ** 2)\n",
    "        r2_score = 1 - (ssr / sst)\n",
    "        return r2_score\n",
    "\n",
    "    def _validate(self, X, y):\n",
    "        '''Added tow with one number to X data\n",
    "        reshape Y data\n",
    "\n",
    "\n",
    "        :param X: array-like, shape = [n_samples, n_features]\n",
    "        :param y: array-like, shape = [n_samples, n_target_values]\n",
    "        :return: validated X,Y\n",
    "        '''\n",
    "        return np.append(np.ones((X.shape[0], 1)), X, axis=1), \\\n",
    "               np.array(y).reshape(y.shape[0], 1)"
   ]
  },
  {
   "cell_type": "markdown",
   "id": "36a5a3a1",
   "metadata": {},
   "source": [
    "<h2>Perform out implementation in insurence.csv data set</h2>"
   ]
  },
  {
   "cell_type": "markdown",
   "id": "ce3a99ae",
   "metadata": {},
   "source": [
    "We will test our implementation over insurence.csv data set"
   ]
  },
  {
   "cell_type": "code",
   "execution_count": 22,
   "id": "3f85c821",
   "metadata": {},
   "outputs": [
    {
     "data": {
      "text/html": [
       "<div>\n",
       "<style scoped>\n",
       "    .dataframe tbody tr th:only-of-type {\n",
       "        vertical-align: middle;\n",
       "    }\n",
       "\n",
       "    .dataframe tbody tr th {\n",
       "        vertical-align: top;\n",
       "    }\n",
       "\n",
       "    .dataframe thead th {\n",
       "        text-align: right;\n",
       "    }\n",
       "</style>\n",
       "<table border=\"1\" class=\"dataframe\">\n",
       "  <thead>\n",
       "    <tr style=\"text-align: right;\">\n",
       "      <th></th>\n",
       "      <th>age</th>\n",
       "      <th>sex</th>\n",
       "      <th>bmi</th>\n",
       "      <th>children</th>\n",
       "      <th>smoker</th>\n",
       "      <th>region</th>\n",
       "      <th>charges</th>\n",
       "    </tr>\n",
       "  </thead>\n",
       "  <tbody>\n",
       "    <tr>\n",
       "      <th>0</th>\n",
       "      <td>19</td>\n",
       "      <td>female</td>\n",
       "      <td>27.900</td>\n",
       "      <td>0</td>\n",
       "      <td>yes</td>\n",
       "      <td>southwest</td>\n",
       "      <td>16884.92400</td>\n",
       "    </tr>\n",
       "    <tr>\n",
       "      <th>1</th>\n",
       "      <td>18</td>\n",
       "      <td>male</td>\n",
       "      <td>33.770</td>\n",
       "      <td>1</td>\n",
       "      <td>no</td>\n",
       "      <td>southeast</td>\n",
       "      <td>1725.55230</td>\n",
       "    </tr>\n",
       "    <tr>\n",
       "      <th>2</th>\n",
       "      <td>28</td>\n",
       "      <td>male</td>\n",
       "      <td>33.000</td>\n",
       "      <td>3</td>\n",
       "      <td>no</td>\n",
       "      <td>southeast</td>\n",
       "      <td>4449.46200</td>\n",
       "    </tr>\n",
       "    <tr>\n",
       "      <th>3</th>\n",
       "      <td>33</td>\n",
       "      <td>male</td>\n",
       "      <td>22.705</td>\n",
       "      <td>0</td>\n",
       "      <td>no</td>\n",
       "      <td>northwest</td>\n",
       "      <td>21984.47061</td>\n",
       "    </tr>\n",
       "    <tr>\n",
       "      <th>4</th>\n",
       "      <td>32</td>\n",
       "      <td>male</td>\n",
       "      <td>28.880</td>\n",
       "      <td>0</td>\n",
       "      <td>no</td>\n",
       "      <td>northwest</td>\n",
       "      <td>3866.85520</td>\n",
       "    </tr>\n",
       "  </tbody>\n",
       "</table>\n",
       "</div>"
      ],
      "text/plain": [
       "   age     sex     bmi  children smoker     region      charges\n",
       "0   19  female  27.900         0    yes  southwest  16884.92400\n",
       "1   18    male  33.770         1     no  southeast   1725.55230\n",
       "2   28    male  33.000         3     no  southeast   4449.46200\n",
       "3   33    male  22.705         0     no  northwest  21984.47061\n",
       "4   32    male  28.880         0     no  northwest   3866.85520"
      ]
     },
     "execution_count": 22,
     "metadata": {},
     "output_type": "execute_result"
    }
   ],
   "source": [
    "df = pd.read_csv(\"../../../resources/data/insurance.csv\")  \n",
    "df.head()"
   ]
  },
  {
   "cell_type": "markdown",
   "id": "2c156c7b",
   "metadata": {},
   "source": [
    "Converting Categories to Numbers. The linear regression can be performed only on numbers, so we should convert these categorical features into numbers. To do that, we can make use of a function called get_dummies. So let’s convert the “sex,” “smoker,” and “region” columns into numerically represented features."
   ]
  },
  {
   "cell_type": "code",
   "execution_count": 23,
   "id": "1eb5d87b",
   "metadata": {},
   "outputs": [
    {
     "data": {
      "text/html": [
       "<div>\n",
       "<style scoped>\n",
       "    .dataframe tbody tr th:only-of-type {\n",
       "        vertical-align: middle;\n",
       "    }\n",
       "\n",
       "    .dataframe tbody tr th {\n",
       "        vertical-align: top;\n",
       "    }\n",
       "\n",
       "    .dataframe thead th {\n",
       "        text-align: right;\n",
       "    }\n",
       "</style>\n",
       "<table border=\"1\" class=\"dataframe\">\n",
       "  <thead>\n",
       "    <tr style=\"text-align: right;\">\n",
       "      <th></th>\n",
       "      <th>age</th>\n",
       "      <th>bmi</th>\n",
       "      <th>children</th>\n",
       "      <th>charges</th>\n",
       "      <th>sex_male</th>\n",
       "      <th>smoker_yes</th>\n",
       "      <th>region_northwest</th>\n",
       "      <th>region_southeast</th>\n",
       "      <th>region_southwest</th>\n",
       "    </tr>\n",
       "  </thead>\n",
       "  <tbody>\n",
       "    <tr>\n",
       "      <th>0</th>\n",
       "      <td>19</td>\n",
       "      <td>27.900</td>\n",
       "      <td>0</td>\n",
       "      <td>16884.92400</td>\n",
       "      <td>0</td>\n",
       "      <td>1</td>\n",
       "      <td>0</td>\n",
       "      <td>0</td>\n",
       "      <td>1</td>\n",
       "    </tr>\n",
       "    <tr>\n",
       "      <th>1</th>\n",
       "      <td>18</td>\n",
       "      <td>33.770</td>\n",
       "      <td>1</td>\n",
       "      <td>1725.55230</td>\n",
       "      <td>1</td>\n",
       "      <td>0</td>\n",
       "      <td>0</td>\n",
       "      <td>1</td>\n",
       "      <td>0</td>\n",
       "    </tr>\n",
       "    <tr>\n",
       "      <th>2</th>\n",
       "      <td>28</td>\n",
       "      <td>33.000</td>\n",
       "      <td>3</td>\n",
       "      <td>4449.46200</td>\n",
       "      <td>1</td>\n",
       "      <td>0</td>\n",
       "      <td>0</td>\n",
       "      <td>1</td>\n",
       "      <td>0</td>\n",
       "    </tr>\n",
       "    <tr>\n",
       "      <th>3</th>\n",
       "      <td>33</td>\n",
       "      <td>22.705</td>\n",
       "      <td>0</td>\n",
       "      <td>21984.47061</td>\n",
       "      <td>1</td>\n",
       "      <td>0</td>\n",
       "      <td>1</td>\n",
       "      <td>0</td>\n",
       "      <td>0</td>\n",
       "    </tr>\n",
       "    <tr>\n",
       "      <th>4</th>\n",
       "      <td>32</td>\n",
       "      <td>28.880</td>\n",
       "      <td>0</td>\n",
       "      <td>3866.85520</td>\n",
       "      <td>1</td>\n",
       "      <td>0</td>\n",
       "      <td>1</td>\n",
       "      <td>0</td>\n",
       "      <td>0</td>\n",
       "    </tr>\n",
       "  </tbody>\n",
       "</table>\n",
       "</div>"
      ],
      "text/plain": [
       "   age     bmi  children      charges  sex_male  smoker_yes  region_northwest  \\\n",
       "0   19  27.900         0  16884.92400         0           1                 0   \n",
       "1   18  33.770         1   1725.55230         1           0                 0   \n",
       "2   28  33.000         3   4449.46200         1           0                 0   \n",
       "3   33  22.705         0  21984.47061         1           0                 1   \n",
       "4   32  28.880         0   3866.85520         1           0                 1   \n",
       "\n",
       "   region_southeast  region_southwest  \n",
       "0                 0                 1  \n",
       "1                 1                 0  \n",
       "2                 1                 0  \n",
       "3                 0                 0  \n",
       "4                 0                 0  "
      ]
     },
     "execution_count": 23,
     "metadata": {},
     "output_type": "execute_result"
    }
   ],
   "source": [
    "cols = ['sex', 'smoker', 'region']\n",
    "new_df = pd.get_dummies(df, cols, drop_first= True)\n",
    "new_df.head()"
   ]
  },
  {
   "cell_type": "markdown",
   "id": "fc8cfea1",
   "metadata": {},
   "source": [
    "Now, let’s only select the features that are the most relevant. Feature selection is one of the important tasks in any machine learning project. You must know which features are most correlated with the targets (the “charges” column in our case) and must only use those features that have a high correlation with your target. This can be done through experimentation. For example, in this problem, I tried using the “sex” and “region” features to predict “charges” but didn’t find much of an improvement in the prediction performance of the model. So I decided to omit these features from the model. Through small experimentation like that, I found the “age,” “bmi,” and “smoker” columns to be most relevant when predicting insurance costs (the “charges” column in our data frame)."
   ]
  },
  {
   "cell_type": "code",
   "execution_count": 24,
   "id": "50b4ad2c",
   "metadata": {},
   "outputs": [],
   "source": [
    "X = new_df[['age', 'bmi', 'smoker_yes']]\n",
    "y = new_df['charges']"
   ]
  },
  {
   "cell_type": "markdown",
   "id": "da6623e4",
   "metadata": {},
   "source": [
    "We will perfomr standarlization over X "
   ]
  },
  {
   "cell_type": "code",
   "execution_count": 25,
   "id": "64c40e3c",
   "metadata": {},
   "outputs": [],
   "source": [
    "scaler = StandardScaler()\n",
    "X = scaler.fit_transform(X)"
   ]
  },
  {
   "cell_type": "markdown",
   "id": "03b47621",
   "metadata": {},
   "source": [
    "Splliting data to Train and Test"
   ]
  },
  {
   "cell_type": "code",
   "execution_count": 26,
   "id": "d419446c",
   "metadata": {},
   "outputs": [],
   "source": [
    "X_train, X_test, y_train, y_test = train_test_split(X, y, test_size = 0.2)"
   ]
  },
  {
   "cell_type": "markdown",
   "id": "632e42f1",
   "metadata": {},
   "source": [
    "End let to train the data using our implementation"
   ]
  },
  {
   "cell_type": "code",
   "execution_count": 27,
   "id": "aee9824c",
   "metadata": {},
   "outputs": [],
   "source": [
    "model =  MultipleLinearRegression(C=0.01,I=1000)\n",
    "z = model.fit(X_train,y_train)"
   ]
  },
  {
   "cell_type": "code",
   "execution_count": 28,
   "id": "59b44ccc",
   "metadata": {},
   "outputs": [
    {
     "data": {
      "text/plain": [
       "0.7688663895305499"
      ]
     },
     "execution_count": 28,
     "metadata": {},
     "output_type": "execute_result"
    }
   ],
   "source": [
    "model.score(X_test,y_test)"
   ]
  },
  {
   "cell_type": "markdown",
   "id": "789d3e52",
   "metadata": {},
   "source": [
    "We've achived according to 𝑅2  score 71% accuracy"
   ]
  },
  {
   "cell_type": "markdown",
   "id": "14682d44",
   "metadata": {},
   "source": [
    "Let see how will be in standart LinearRegresion in sklearn in Python"
   ]
  },
  {
   "cell_type": "code",
   "execution_count": 29,
   "id": "fa3a2269",
   "metadata": {},
   "outputs": [
    {
     "data": {
      "text/plain": [
       "0.7687717513529055"
      ]
     },
     "execution_count": 29,
     "metadata": {},
     "output_type": "execute_result"
    }
   ],
   "source": [
    "lr = LinearRegression(fit_intercept=True)\n",
    "lr.fit(X_train,y_train)\n",
    "lr.score(X_test,y_test)"
   ]
  },
  {
   "cell_type": "markdown",
   "id": "9f836072",
   "metadata": {},
   "source": [
    "The score using imprlemntation in sklearn in Python is the same as our implementation , Let to compare  the  predicted valuea"
   ]
  },
  {
   "cell_type": "code",
   "execution_count": 30,
   "id": "3b958e6c",
   "metadata": {},
   "outputs": [
    {
     "data": {
      "text/html": [
       "<div>\n",
       "<style scoped>\n",
       "    .dataframe tbody tr th:only-of-type {\n",
       "        vertical-align: middle;\n",
       "    }\n",
       "\n",
       "    .dataframe tbody tr th {\n",
       "        vertical-align: top;\n",
       "    }\n",
       "\n",
       "    .dataframe thead th {\n",
       "        text-align: right;\n",
       "    }\n",
       "</style>\n",
       "<table border=\"1\" class=\"dataframe\">\n",
       "  <thead>\n",
       "    <tr style=\"text-align: right;\">\n",
       "      <th></th>\n",
       "      <th>0</th>\n",
       "    </tr>\n",
       "  </thead>\n",
       "  <tbody>\n",
       "    <tr>\n",
       "      <th>12079.961495</th>\n",
       "      <td>12078.773513</td>\n",
       "    </tr>\n",
       "    <tr>\n",
       "      <th>9651.007756</th>\n",
       "      <td>9650.716404</td>\n",
       "    </tr>\n",
       "    <tr>\n",
       "      <th>4444.989637</th>\n",
       "      <td>4445.249551</td>\n",
       "    </tr>\n",
       "    <tr>\n",
       "      <th>8230.853281</th>\n",
       "      <td>8229.955291</td>\n",
       "    </tr>\n",
       "    <tr>\n",
       "      <th>-579.546712</th>\n",
       "      <td>-579.635494</td>\n",
       "    </tr>\n",
       "    <tr>\n",
       "      <th>...</th>\n",
       "      <td>...</td>\n",
       "    </tr>\n",
       "    <tr>\n",
       "      <th>22667.122192</th>\n",
       "      <td>22665.603698</td>\n",
       "    </tr>\n",
       "    <tr>\n",
       "      <th>5570.603758</th>\n",
       "      <td>5571.210076</td>\n",
       "    </tr>\n",
       "    <tr>\n",
       "      <th>7708.269877</th>\n",
       "      <td>7707.719669</td>\n",
       "    </tr>\n",
       "    <tr>\n",
       "      <th>705.970872</th>\n",
       "      <td>705.843107</td>\n",
       "    </tr>\n",
       "    <tr>\n",
       "      <th>33136.065376</th>\n",
       "      <td>33134.541301</td>\n",
       "    </tr>\n",
       "  </tbody>\n",
       "</table>\n",
       "<p>268 rows × 1 columns</p>\n",
       "</div>"
      ],
      "text/plain": [
       "                          0\n",
       " 12079.961495  12078.773513\n",
       " 9651.007756    9650.716404\n",
       " 4444.989637    4445.249551\n",
       " 8230.853281    8229.955291\n",
       "-579.546712     -579.635494\n",
       "...                     ...\n",
       " 22667.122192  22665.603698\n",
       " 5570.603758    5571.210076\n",
       " 7708.269877    7707.719669\n",
       " 705.970872      705.843107\n",
       " 33136.065376  33134.541301\n",
       "\n",
       "[268 rows x 1 columns]"
      ]
     },
     "execution_count": 30,
     "metadata": {},
     "output_type": "execute_result"
    }
   ],
   "source": [
    "our_predicted_data = model.predict(X_test)[:,0]\n",
    "python_predicted_data = lr.predict(X_test)\n",
    "pd.DataFrame(our_predicted_data ,python_predicted_data  )"
   ]
  },
  {
   "cell_type": "markdown",
   "id": "480c850d",
   "metadata": {},
   "source": [
    "The diferences is too small,but we can perform $R^2 score$ over the both Python and Our predicted  data  "
   ]
  },
  {
   "cell_type": "code",
   "execution_count": 31,
   "id": "ddd906e4",
   "metadata": {},
   "outputs": [
    {
     "data": {
      "text/plain": [
       "0.9999999917595114"
      ]
     },
     "execution_count": 31,
     "metadata": {},
     "output_type": "execute_result"
    }
   ],
   "source": [
    "ssr = np.sum((our_predicted_data - python_predicted_data) ** 2)\n",
    "sst = np.sum((our_predicted_data - np.mean(python_predicted_data)) ** 2)\n",
    "r2_score = 1 - (ssr / sst)\n",
    "r2_score"
   ]
  },
  {
   "cell_type": "markdown",
   "id": "1106c09f",
   "metadata": {},
   "source": [
    "0.9999999976969305 shows that the difference is negligible"
   ]
  },
  {
   "cell_type": "markdown",
   "id": "df31ba43",
   "metadata": {},
   "source": [
    "<h2>Polynomial Regression </h2>"
   ]
  },
  {
   "cell_type": "markdown",
   "id": "959db131",
   "metadata": {},
   "source": [
    "In statistics , polynomial regression is a form of regression analysis in which the relationship between the independent variable $x$ and the dependent variable $y$ is modelled as an $n^{th}$ degree polynomial in $x$.In Machine learning the polynomial regression is just the extended Linear Regression.This extension we achieve by the tranform the dataset as shown below. "
   ]
  },
  {
   "cell_type": "markdown",
   "id": "3f9ce1a3",
   "metadata": {},
   "source": []
  },
  {
   "cell_type": "markdown",
   "id": "ecc1ed5a",
   "metadata": {},
   "source": [
    "First Let's generate some random dataset."
   ]
  },
  {
   "cell_type": "code",
   "execution_count": 172,
   "id": "f32d8749",
   "metadata": {
    "scrolled": true
   },
   "outputs": [
    {
     "data": {
      "image/png": "[encoded data removed]",
      "text/plain": [
       "<Figure size 360x360 with 1 Axes>"
      ]
     },
     "metadata": {
      "needs_background": "light"
     },
     "output_type": "display_data"
    }
   ],
   "source": [
    "plt.rcParams[\"figure.figsize\"] = (5,5)\n",
    "np.random.seed(0)\n",
    "x = 2 - 3 * np.linspace(-10,10,num=10)  \n",
    "y = x - 2 * (x ** 2) + 0.5 * (x ** 3)  +100*np.random.normal(-30, 20, size=x.size)  \n",
    "#y = x - 2 * (x ** 2) + 0.5 * (x ** 3) +200*np.random.normal(-10, 30,  size=x.size)\n",
    "x = x[:, np.newaxis]\n",
    "y = y[:, np.newaxis]\n",
    "plt.scatter(x,y, s=10)\n",
    "plt.show()"
   ]
  },
  {
   "cell_type": "markdown",
   "id": "83396056",
   "metadata": {},
   "source": [
    "Let's apply our Linear regression model to the dataset"
   ]
  },
  {
   "cell_type": "code",
   "execution_count": 173,
   "id": "abe027c3",
   "metadata": {},
   "outputs": [],
   "source": [
    "model =  MultipleLinearRegression()\n",
    "z = model.fit(x,y)\n",
    "y_pred = model.predict(x)"
   ]
  },
  {
   "cell_type": "code",
   "execution_count": 174,
   "id": "77bda238",
   "metadata": {},
   "outputs": [
    {
     "data": {
      "text/plain": [
       "<matplotlib.collections.PathCollection at 0x59510bd670>"
      ]
     },
     "execution_count": 174,
     "metadata": {},
     "output_type": "execute_result"
    },
    {
     "data": {
      "image/png": "[encoded data removed]",
      "text/plain": [
       "<Figure size 360x360 with 1 Axes>"
      ]
     },
     "metadata": {
      "needs_background": "light"
     },
     "output_type": "display_data"
    }
   ],
   "source": [
    "plt.plot(x, y_pred)  #L = 0.0028\n",
    "plt.scatter(x,y, s=10,color='r')\n"
   ]
  },
  {
   "cell_type": "code",
   "execution_count": 165,
   "id": "55f5eddf",
   "metadata": {},
   "outputs": [
    {
     "data": {
      "text/plain": [
       "0.7596160217222567"
      ]
     },
     "execution_count": 165,
     "metadata": {},
     "output_type": "execute_result"
    }
   ],
   "source": [
    "model.score(x,y)\n"
   ]
  },
  {
   "cell_type": "markdown",
   "id": "b9917e95",
   "metadata": {},
   "source": [
    "We can see that the straight line is unable to capture the patterns in the data. This is an example of <mark>under-fitting</mark>. Computing the RMSE and R²-score of the linear line gives:"
   ]
  },
  {
   "cell_type": "code",
   "execution_count": 71,
   "id": "b0b3e4ea",
   "metadata": {},
   "outputs": [
    {
     "data": {
      "text/plain": [
       "0.7076986792979332"
      ]
     },
     "execution_count": 71,
     "metadata": {},
     "output_type": "execute_result"
    }
   ],
   "source": [
    "0.7076986792979332"
   ]
  },
  {
   "cell_type": "markdown",
   "id": "6225302d",
   "metadata": {},
   "source": [
    "Using the straight line model we achieve $R^2 = 70$% accuracy.To reach a more accurately result we can improve the model by increasing the complexity using higher order equation.We can add powers of of the original features as new features.\n",
    "The linear model $$Y = \\omega_0  + \\omega_1x$$ can be tranformed to \n",
    "$$Y = \\omega_0  + \\omega_1 x^1 + \\omega_1 x^2$$ or to\n",
    "$$Y = \\omega_0  + \\omega_1 x^1 + ... + \\omega_p x^p$$ polynomial.\n"
   ]
  },
  {
   "cell_type": "markdown",
   "id": "2de86810",
   "metadata": {},
   "source": [
    "We can add new features to the dataset, which are just the  $𝑛_{𝑡ℎ}$  degree polynomial in existing ones.\n",
    "$$X = \\begin{bmatrix} \n",
    " x_1 \\\\\n",
    "\\vdots   \\\\\n",
    " x_n \\\\\n",
    "\\end{bmatrix} -- >  \n",
    "X_{polyData} = T(X) = \\begin{bmatrix} \n",
    "1 &x_1 & x_1^2 & \\dots & x_1^p \\\\\n",
    "\\vdots & \\ddots &  \\ddots & \\vdots & \\vdots \\\\\n",
    "1& x_n & x_n^2  & \\dots & x_n^p \\\\\n",
    "\\end{bmatrix} $$"
   ]
  },
  {
   "cell_type": "markdown",
   "id": "3df1e4c9",
   "metadata": {},
   "source": [
    "The new Dataset 𝑇(𝑋) can be trained in Multiple Linear regression and the weights we achieve will correspond to in $w_p $ in $Y = \\omega_0  + \\omega_1 x^1 + ... + \\omega_p x^p$"
   ]
  },
  {
   "cell_type": "markdown",
   "id": "35bbabfe",
   "metadata": {},
   "source": [
    "To convert the original features into their higher order terms we will use the PolynomialFeatures class provided by <mark>scikit-learn</mark>.\n"
   ]
  },
  {
   "cell_type": "code",
   "execution_count": 153,
   "id": "58c023cf",
   "metadata": {},
   "outputs": [
    {
     "data": {
      "text/plain": [
       "array([[1., 1., 1.],\n",
       "       [1., 2., 4.],\n",
       "       [1., 3., 9.]])"
      ]
     },
     "execution_count": 153,
     "metadata": {},
     "output_type": "execute_result"
    }
   ],
   "source": [
    "from sklearn.preprocessing import PolynomialFeatures\n",
    "polynomial_features= PolynomialFeatures(degree=2)\n",
    "polynomial_features.fit_transform(np.array([[1],[2],[3]]))\n"
   ]
  },
  {
   "cell_type": "markdown",
   "id": "ae78c24a",
   "metadata": {},
   "source": [
    " $$X = \\begin{bmatrix} \n",
    " 1 \\\\\n",
    " 2   \\\\\n",
    " 3 \\\\\n",
    "\\end{bmatrix} -- >  \n",
    "X_{polyData} = T(X) = \\begin{bmatrix} \n",
    "1 & 1 & 1   \\\\\n",
    "2 & 2 &  4 \\\\\n",
    "1& 3 & 9 \\\\\n",
    "\\end{bmatrix} $$ T(X) 2 degree"
   ]
  },
  {
   "cell_type": "markdown",
   "id": "be4b47d6",
   "metadata": {},
   "source": [
    "Let's returned back to out dataset "
   ]
  },
  {
   "cell_type": "markdown",
   "id": "cacd9531",
   "metadata": {},
   "source": [
    "We see that if we using linear eqaution the result is underfitting,Let's compare the 1,2,3 degree polynomial."
   ]
  },
  {
   "cell_type": "code",
   "execution_count": 175,
   "id": "cf64d93a",
   "metadata": {},
   "outputs": [],
   "source": [
    "def poly_regression(degree):\n",
    "    polynomial_features= PolynomialFeatures(degree=degree)\n",
    "    x_poly = polynomial_features.fit_transform(x)\n",
    "    x_poly = scaler.fit_transform(x_poly)  # standart scaller \n",
    "    model =  MultipleLinearRegression(C=0.001,I=2000)\n",
    "    model.fit(x_poly,y) \n",
    "    return model.predict(x_poly),model.score(x_poly,y) "
   ]
  },
  {
   "cell_type": "code",
   "execution_count": 176,
   "id": "c83191d9",
   "metadata": {},
   "outputs": [
    {
     "data": {
      "image/png": "[encoded data removed]",
      "text/plain": [
       "<Figure size 720x720 with 1 Axes>"
      ]
     },
     "metadata": {
      "needs_background": "light"
     },
     "output_type": "display_data"
    }
   ],
   "source": [
    "#fig, axs = plt.subplots(size, size,figsize=(25,25)) \n",
    "plt.rcParams[\"figure.figsize\"] = (10,10)\n",
    "for i in 1,2,3:\n",
    "    plt.figsize=(50,50)\n",
    "    y_pred,scor = poly_regression(i)\n",
    "    plt.plot(x, y_pred,label=\"$n^{}$,score={:.2f}\".format(i,scor))  #L = 0.0028\n",
    "    plt.scatter(x,y, s=10,color='r',label=\"data set\")\n",
    "    plt.legend()\n",
    "plt.show()    "
   ]
  },
  {
   "cell_type": "markdown",
   "id": "e3aea38f",
   "metadata": {},
   "source": [
    "From the above graphic we see that the Polynomial $n^3$ is the best with an accuracy 0.82 and the green line fit data very well and red and blue we can conclude they underfit the data."
   ]
  },
  {
   "cell_type": "markdown",
   "id": "401d5326",
   "metadata": {},
   "source": [
    "Let see what's happen with n^5,n^10,n^20"
   ]
  },
  {
   "cell_type": "code",
   "execution_count": 178,
   "id": "2df667c7",
   "metadata": {},
   "outputs": [
    {
     "data": {
      "image/png": "[encoded data removed]",
      "text/plain": [
       "<Figure size 720x720 with 1 Axes>"
      ]
     },
     "metadata": {
      "needs_background": "light"
     },
     "output_type": "display_data"
    }
   ],
   "source": [
    "plt.rcParams[\"figure.figsize\"] = (10,10)\n",
    "for i in 1,3,25:\n",
    "    plt.figsize=(50,50)\n",
    "    y_pred,scor = poly_regression(i)\n",
    "    plt.plot(x, y_pred,label=\"$degree={}$,score={:.2f}\".format(i,scor))  #L = 0.0028\n",
    "    plt.scatter(x,y, s=10,color='r',label=\"data set\")\n",
    "    plt.legend()\n",
    "plt.show()    "
   ]
  },
  {
   "cell_type": "code",
   "execution_count": null,
   "id": "34411872",
   "metadata": {},
   "outputs": [],
   "source": []
  },
  {
   "cell_type": "markdown",
   "id": "c3c17bc0",
   "metadata": {},
   "source": [
    "For degree=60 the model fits training data too much well,that is the very bad sign.In general this means the biases or  noise is captured too, that is called <mark>over-fitting</mark>.This is also mean that the model will fail for new unseen data."
   ]
  },
  {
   "cell_type": "markdown",
   "id": "3bcf7850",
   "metadata": {},
   "source": [
    "<h2>Bias and Variance</h2>"
   ]
  },
  {
   "cell_type": "markdown",
   "id": "7a42f930",
   "metadata": {},
   "source": [
    "Bias refers to the error due to the model’s simplistic assumptions in fitting the data. A high bias means that the model is unable to capture the patterns in the data and this results in under-fitting.<br> <br>\n",
    "Variance refers to the error due to the complex model trying to fit the data. High variance means the model passes through most of the data points and it results in over-fitting the data.\n"
   ]
  },
  {
   "cell_type": "code",
   "execution_count": null,
   "id": "20bf7d08",
   "metadata": {},
   "outputs": [],
   "source": [
    "High Bias : low Variance "
   ]
  },
  {
   "cell_type": "code",
   "execution_count": 184,
   "id": "3ac34fb8",
   "metadata": {},
   "outputs": [
    {
     "data": {
      "text/plain": [
       "<matplotlib.collections.PathCollection at 0x59515b2460>"
      ]
     },
     "execution_count": 184,
     "metadata": {},
     "output_type": "execute_result"
    },
    {
     "data": {
      "image/png": "[encoded data removed]",
      "text/plain": [
       "<Figure size 216x216 with 1 Axes>"
      ]
     },
     "metadata": {
      "needs_background": "light"
     },
     "output_type": "display_data"
    }
   ],
   "source": [
    "plt.rcParams[\"figure.figsize\"] = (3,3)\n",
    "y_pred,scor = poly_regression(1)\n",
    "plt.plot(x, y_pred,label=\"$degree={}$,score={:.2f}\".format(i,scor))\n",
    "plt.scatter(x,y, s=10,color='r',label=\"data set\")"
   ]
  },
  {
   "cell_type": "markdown",
   "id": "1c7e2084",
   "metadata": {},
   "source": [
    "In case when degree=1 it called has high Bias and low variance or Underfit."
   ]
  },
  {
   "cell_type": "code",
   "execution_count": 185,
   "id": "04bd5fb7",
   "metadata": {},
   "outputs": [
    {
     "data": {
      "text/plain": [
       "<matplotlib.collections.PathCollection at 0x5951695490>"
      ]
     },
     "execution_count": 185,
     "metadata": {},
     "output_type": "execute_result"
    },
    {
     "data": {
      "image/png": "[encoded data removed]",
      "text/plain": [
       "<Figure size 216x216 with 1 Axes>"
      ]
     },
     "metadata": {
      "needs_background": "light"
     },
     "output_type": "display_data"
    }
   ],
   "source": [
    "plt.rcParams[\"figure.figsize\"] = (3,3)\n",
    "y_pred,scor = poly_regression(3)\n",
    "plt.plot(x, y_pred,label=\"$degree={}$,score={:.2f}\".format(i,scor))\n",
    "plt.scatter(x,y, s=10,color='r',label=\"data set\")"
   ]
  },
  {
   "cell_type": "markdown",
   "id": "67fb7cfd",
   "metadata": {},
   "source": [
    "In case when degree=3 that is correct fit,that has low bais and low variance."
   ]
  },
  {
   "cell_type": "code",
   "execution_count": 188,
   "id": "a8306778",
   "metadata": {},
   "outputs": [
    {
     "data": {
      "text/plain": [
       "<matplotlib.collections.PathCollection at 0x5952ed5e80>"
      ]
     },
     "execution_count": 188,
     "metadata": {},
     "output_type": "execute_result"
    },
    {
     "data": {
      "image/png": "[encoded data removed]",
      "text/plain": [
       "<Figure size 216x216 with 1 Axes>"
      ]
     },
     "metadata": {
      "needs_background": "light"
     },
     "output_type": "display_data"
    }
   ],
   "source": [
    "plt.rcParams[\"figure.figsize\"] = (3,3)\n",
    "y_pred,scor = poly_regression(25)\n",
    "plt.plot(x, y_pred,label=\"$degree={}$,score={:.2f}\".format(i,scor))\n",
    "plt.scatter(x,y, s=10,color='r',label=\"data set\")"
   ]
  },
  {
   "cell_type": "markdown",
   "id": "7ef1b3f1",
   "metadata": {},
   "source": [
    "In case when degree=25 that is overfit,that has low bais and high variance."
   ]
  },
  {
   "cell_type": "markdown",
   "id": "df4e8aa8",
   "metadata": {},
   "source": [
    "Ideally, a machine learning model should have low variance and low bias.Therefore to achieve a good model that performs well both on the train and unseen data, a trade-off is made."
   ]
  },
  {
   "cell_type": "markdown",
   "id": "5c31177e",
   "metadata": {},
   "source": [
    "<img src='https://randlow.github.io/images/ml/tradeoff_cost_bias.png' alt=\"Italian Trulli\">"
   ]
  },
  {
   "cell_type": "code",
   "execution_count": null,
   "id": "bd7923d1",
   "metadata": {},
   "outputs": [],
   "source": []
  },
  {
   "cell_type": "markdown",
   "id": "616e6a4e",
   "metadata": {},
   "source": [
    "<h2> References </h2>\n",
    "<ul>\n",
    "    <li> </li>\n",
    "<li><a href='https://www.analyticsvidhya.com/blog/2017/06/a-comprehensive-guide-for-linear-ridge-and-lasso-regression/'>A comprehensive beginners guide for Linear, Ridge and Lasso Regression in Python and R </a></li>\n",
    "<li> <a href='https://www.youtube.com/watch?v=Q81RR3yKn30&ab_channel=StatQuestwithJoshStarmer'> Regularization Part 1: Ridge (L2) Regression </a> </li>\n",
    "    <li><a href='https://arxiv.org/pdf/1509.09169;Lecture'>Lecture notes on ridge regression</a> </li>\n",
    "    <li> <a href='https://medium.com/@minions.k/ridge-regression-l1-regularization-method-31b6bc03cbf'>Ridge</a> </li>\n",
    "   <li> <a href= 'https://www.southampton.ac.uk/~mb1a10/stats/FEEG6017_lecture-Interaction_terms_etc_brendan.pdf'>Transformations,polynomial fitting,and interaction terms </a>  </li>\n",
    "    <li> <a href='https://towardsdatascience.com/polynomial-regression-bbe8b9d97491'>Polynomial Regression </a>\n",
    "     <li> <a href='    http://scott.fortmann-roe.com/docs/BiasVariance.html '> Understanding the Bias-Variance Tradeoff </a> </li>\n",
    "    </ul>\n",
    "    https://www.ajol.info/index.php/gjmas/article/view/50810\n",
    "    "
   ]
  },
  {
   "cell_type": "code",
   "execution_count": null,
   "id": "eafc7c47",
   "metadata": {},
   "outputs": [],
   "source": [
    "X = np.array([[ 1],\n",
    "       [2],\n",
    "       [4]])"
   ]
  },
  {
   "cell_type": "code",
   "execution_count": null,
   "id": "600cdb99",
   "metadata": {},
   "outputs": [],
   "source": [
    "poly = PolynomialFeatures(2)\n",
    "poly.fit_transform(X)"
   ]
  }
 ],
 "metadata": {
  "kernelspec": {
   "display_name": "Python 3",
   "language": "python",
   "name": "python3"
  },
  "language_info": {
   "codemirror_mode": {
    "name": "ipython",
    "version": 3
   },
   "file_extension": ".py",
   "mimetype": "text/x-python",
   "name": "python",
   "nbconvert_exporter": "python",
   "pygments_lexer": "ipython3",
   "version": "3.8.8"
  }
 },
 "nbformat": 4,
 "nbformat_minor": 5
}
