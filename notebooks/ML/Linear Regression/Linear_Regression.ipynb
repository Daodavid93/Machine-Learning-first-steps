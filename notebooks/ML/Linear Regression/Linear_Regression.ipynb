{
 "cells": [
  {
   "cell_type": "code",
   "execution_count": 1,
   "id": "55db894b",
   "metadata": {},
   "outputs": [],
   "source": [
    "#help function\n",
    "def set_spines():\n",
    "    ax = plt.gca()  # gca stands for 'get current axis'\n",
    "    ax.spines['right'].set_color('none')\n",
    "    ax.spines['top'].set_color('none')\n",
    "    ax.xaxis.set_ticks_position('bottom')\n",
    "    ax.spines['bottom'].set_position(('data',0))\n",
    "    ax.yaxis.set_ticks_position('left')\n",
    "    ax.spines['left'].set_position(('data',0))"
   ]
  },
  {
   "cell_type": "code",
   "execution_count": 2,
   "id": "2e40c482",
   "metadata": {},
   "outputs": [],
   "source": [
    "%matplotlib inline\n",
    "import matplotlib.pyplot as plt\n",
    "import numpy as np\n",
    "import math\n",
    "from mpl_toolkits.mplot3d import Axes3D\n",
    "from random import random\n",
    "#from mpl_toolkits.mplot3d import axes3d\n",
    "import matplotlib.pyplot as plt\n",
    "import pandas as pd\n",
    "from sklearn.model_selection import train_test_split\n",
    "from sklearn.preprocessing import StandardScaler\n",
    "from sklearn.linear_model import LinearRegression"
   ]
  },
  {
   "cell_type": "markdown",
   "id": "9ab910c2",
   "metadata": {},
   "source": [
    "<h1> Linear Regression </h1>\n",
    "<div class='legend'>\n",
    "<ul style=\"margin-left: 30px\">\n",
    "      <li>1.0  <a href='#simple~linear~regression'>Simple Linear Regression </a> </li> \n",
    "      <li>1.1 <a href='#fitting~reg'> Fitting the regresion line</a> </li>\n",
    "      <li>1.2 <a href='#grad~sim~linear'>Gradient Descent over simple linear regression</a> </li>\n",
    "      <li>1.3 <a href='#rates-iterations'> Different Learning rates and number of Iteration in Gradient Descent</a> </li>\n",
    "      <li>1.4 <a href='#m-linear-r'>Multiple Linear Regression</a> </li>\n",
    "      <li>1.5 <a href='#reg'>Regularization of gradient descent by learning rate and max iterations</a> </li>    \n",
    "      <li>1.6 <a href='#conclusion'>Conclusion</a> </li>\n",
    "</ul> \n",
    "</div>    "
   ]
  },
  {
   "cell_type": "markdown",
   "id": "a29f072d",
   "metadata": {},
   "source": [
    "<h2 id='intro~linear~regression'>Introduction </h2>"
   ]
  },
  {
   "cell_type": "markdown",
   "id": "62a780fc",
   "metadata": {},
   "source": [
    "Consider an experiment in which p characteristics of n samples are measured. The data from this experiment are\n",
    "denoted $X$.\n",
    " where  $$X = \\begin{bmatrix} \n",
    "1 &x_1^1 & x_1^2 & x_1^p \\\\\n",
    "\\vdots & \\ddots & \\vdots & \\vdots \\\\\n",
    "1& x_n^1 & \\dots & x_n^p \\\\\n",
    "\\end{bmatrix} $$\n"
   ]
  },
  {
   "cell_type": "markdown",
   "id": "5d81b9a1",
   "metadata": {},
   "source": [
    "In model $\\Omega = (\\omega_1, . . . , \\omega_p)$  <br>\n",
    "is the regression parameter or weights,or predictors. The parameter $\\omega_j$ , $j = 1, . . . , p,$ represents\n",
    "the effect size of covariate j on the response. That is, for each unit change in covariate j (while keeping the\n",
    "other covariates fixed) the observed change in the response is equal to $\\omega_j$ . The second summand on the righthand side of the model, $\\epsilon_i$ , is referred to as the error."
   ]
  },
  {
   "cell_type": "markdown",
   "id": "5c5c8e60",
   "metadata": {},
   "source": [
    "The randomness of $ε_i$ implies that $Y_i$ is also a random variable. In particular, $Y_i$\n",
    "is normally distributed, because $\\epsilon_i ∼ N (0, \\sigma_2)$  and $X_{i,∗} \\omega$ is a non-random scalar. To specify the parameters of the distribution of $Y_i$ we need to\n",
    "calculate its first two moments.<br> Its expectation equals: \n",
    "$$E(Y_i) = E(X_i,∗ \\omega) + E(\\epsilon_i) = X_i,∗ \\omega, $$"
   ]
  },
  {
   "cell_type": "markdown",
   "id": "f66e5ad9",
   "metadata": {},
   "source": [
    "Model (1.1) is often written in a more condensed matrix form: <br>\n",
    "<br> $ Y = X \\Omega + \\epsilon $<br>\n",
    "where $\\epsilon = (\\epsilon_1, \\epsilon_2, . . . , \\epsilon_n)$ and distributed as $\\epsilon_ ∼ N (0p, σ2)\n",
    "I_{nn}$"
   ]
  },
  {
   "cell_type": "markdown",
   "id": "ac98678f",
   "metadata": {},
   "source": [
    "<h2 id='simple~linear~regression'>1.0 Simple linear regression </h2>"
   ]
  },
  {
   "cell_type": "markdown",
   "id": "7b0def14",
   "metadata": {},
   "source": [
    "Simple Linear regression has a single explanatory variable. It concerns two-dimensional sample points with one dependent and one independent variable. (Conventionally x and y data point in a Cartesian coordinate system). The adjective simple refers to the fact that the outcome variable is related to a single predictor."
   ]
  },
  {
   "cell_type": "markdown",
   "id": "59207bd2",
   "metadata": {},
   "source": [
    "<h2 href='fitting~reg'>1.1 Fitting the regression line with  least-squared </h2>"
   ]
  },
  {
   "cell_type": "markdown",
   "id": "6145a977",
   "metadata": {},
   "source": [
    "Consider the model function $y = \\alpha + \\beta x$ which describes a line with slope $\\beta$ and intercept $\\alpha$. <br>\n",
    "example : let $\\alpha=7$ and $\\beta=3$, geometrically $y = 7 + 3 x$ appears to be as below graphic."
   ]
  },
  {
   "cell_type": "code",
   "execution_count": 3,
   "id": "ddba3760",
   "metadata": {},
   "outputs": [
    {
     "data": {
      "image/png": "[encoded data removed]",
      "text/plain": [
       "<Figure size 432x288 with 1 Axes>"
      ]
     },
     "metadata": {
      "needs_background": "light"
     },
     "output_type": "display_data"
    }
   ],
   "source": [
    "x = np.linspace(-10,10)\n",
    "y = 7*x + 3\n",
    "plt.plot(x,y,color='r')\n",
    "set_spines()"
   ]
  },
  {
   "cell_type": "markdown",
   "id": "d038835c",
   "metadata": {},
   "source": [
    "Suppose we observe $n$ data pairs denoted with $(x_i,y_i), i = 1,2,...,n$."
   ]
  },
  {
   "cell_type": "code",
   "execution_count": 4,
   "id": "c6354037",
   "metadata": {},
   "outputs": [
    {
     "data": {
      "image/png": "[encoded data removed]",
      "text/plain": [
       "<Figure size 432x288 with 1 Axes>"
      ]
     },
     "metadata": {
      "needs_background": "light"
     },
     "output_type": "display_data"
    }
   ],
   "source": [
    "y = 7*x + 3 + np.random.uniform(-10,10,size=x.size)\n",
    "plt.scatter(x,y)\n",
    "set_spines()"
   ]
  },
  {
   "cell_type": "markdown",
   "id": "9a12f673",
   "metadata": {},
   "source": [
    "We can describe the underlying relationship between $y_i$ and $x_i$ invloving the error term $\\varepsilon_i$ in linear equation $y_i =  \\alpha + \\beta x_i + \\varepsilon_i $.The  $\\varepsilon_i$  could be intepreted as the noise (bias) of the data or in some sense some type of randomness originated from various reasons.Also it is know as 'error term' or 'residual'.\n",
    "Our target is to find estimated values $\\alpha$ and $\\beta$ which would provide the best fit in some sense for data points.\n",
    "In order to find the 'best' fit we will use the <a href='https://en.wikipedia.org/wiki/Ordinary_least_squares'>least-squared</a> approach.From  mathematical view point the issue involved the minimization of Lost function respect to $\\alpha,\\beta$. \n",
    " $$1)  L = \\sum_i(y_i - \\alpha - \\beta x_i)^2$$.\n",
    "$L$ is called $Lost$ function the expression $(y_i - \\alpha - \\beta x_i)^2$ is called $Cost$ function.This function is appropiative because of It is a diferencianal everywhere and gives us  a measure of diference between dependent value $y_i$ and predicted value of $y'(\\alpha,\\beta)=\\alpha + \\beta x_i $.<br>\n",
    "In order to find $min_{\\alpha,\\beta}L(\\alpha,\\beta,x_i,_yi)$ we will use <mark>Gradient Descent method</mark>.<br>"
   ]
  },
  {
   "cell_type": "markdown",
   "id": "16c98ef4",
   "metadata": {},
   "source": [
    "<h2 id='grad~sim~linear'>1.2 Gradient Descent over simple linear regression</h2>"
   ]
  },
  {
   "cell_type": "markdown",
   "id": "d344fd7b",
   "metadata": {},
   "source": [
    "The methods for finding the maximum and minimum (extrema) have been created with the development of mathematical analysis(Calculus). Gradient Descent is a numerical approach to the local minimum of a first-order differentiable function. The idea is to take repeated steps in the opposite direction of the gradient the function in the current point. \n"
   ]
  },
  {
   "cell_type": "markdown",
   "id": "9dac3515",
   "metadata": {},
   "source": [
    "Our purpose is to find the value of $x$ where the function gets the minimum value.\n",
    "The GD algorithm is difined : \n",
    "  $$\\alpha = \\alpha - \\nabla_{\\alpha}L(\\alpha,\\beta)*h$$\n",
    "  $$\\beta = \\beta - \\nabla_{\\beta}L(\\alpha,\\beta)*h$$ <br>\n",
    "  \n"
   ]
  },
  {
   "cell_type": "markdown",
   "id": "0b5fb6e7",
   "metadata": {},
   "source": [
    "where $h$ is called <mark>Learning rate</mark> or step size.\n",
    "Applying GD algorithm over our Lost function 1) we  get : <br> <br>\n",
    "$$\\nabla_{\\alpha}(J(a,b)=\\frac{\\partial{L}}{\\partial{{\\alpha}}}=\\frac{\\partial{\\sum_i(y_i - \\alpha - \\beta x_i)^2}}{\\partial{{\\alpha}}}=-\\frac{2}{n}\\sum_{n=1}^{n}{(y_i-a*x_i - b)*x_i} $$ <br>\n",
    "$$\\nabla_{\\beta}(J(a,b)=\\frac{\\partial{L}}{\\partial{{\\beta }}}=\\frac{\\partial{\\sum_i(y_i - \\alpha - \\beta x_i)^2}}{\\partial{{\\beta}}}=- \\frac{2}{n}\\sum_{n=1}^{n}{(y_i-a*x_i - b)} $$ <br> <br>\n"
   ]
  },
  {
   "cell_type": "markdown",
   "id": "ce919dda",
   "metadata": {},
   "source": [
    "applying the above local derivatives to Gradient Descent formula we get\n",
    " $$\\alpha = \\alpha + \\frac{2}{n}\\sum_{n=1}^{n}{(y_i-a*x_i - b)*x_i}*h$$\n",
    "  $$\\beta = \\beta +\\frac{2}{n}\\sum_{n=1}^{n}{(y_i-a*x_i - b)}*h$$ <br>"
   ]
  },
  {
   "cell_type": "markdown",
   "id": "3cf53f47",
   "metadata": {},
   "source": [
    "The above equations are performed enough times to reach the minimum of Lost function with conditional that we have chosen the appropriate Learning rate $h$."
   ]
  },
  {
   "cell_type": "markdown",
   "id": "610b4789",
   "metadata": {},
   "source": [
    "<h2 id='grad~sim~linear'>1.3 Implementation of Gradient Descent for simple linear regression (Python)</h2>"
   ]
  },
  {
   "cell_type": "code",
   "execution_count": 5,
   "id": "56dd372f",
   "metadata": {},
   "outputs": [],
   "source": [
    "#implementation cost function\n",
    "def cost(X,Y,alpha,betta):\n",
    "    '''\n",
    "    Calculation of cost (error) function of simple linear regression\n",
    "   \n",
    "    Parrameters : \n",
    "    X(array or number) : X arguments, independent variable\n",
    "    Y (array or number) : Y arguments, actual dependent variable \n",
    "    Returns :\n",
    "      number of cost function\n",
    "  '''\n",
    "   \n",
    "    return np.sum((Y - (alpha - betta*X ))**2 )"
   ]
  },
  {
   "cell_type": "code",
   "execution_count": 117,
   "id": "536d9766",
   "metadata": {},
   "outputs": [],
   "source": [
    "def gradient_descent(X,Y,C=0.1,E=100):\n",
    "    '''\n",
    "    \n",
    "    Mimumization of cost (error) function of simple linear regression\n",
    "   \n",
    "    Parrameters : \n",
    "    X(array or number) : X arguments, independent variable\n",
    "    Y (array or number) : Y arguments, actual dependent variable \n",
    "    C (number) :  learning rate\n",
    "    I(int) : number of iteration(Epoch)\n",
    "    Returns :\n",
    "      number of cost function\n",
    "   '''\n",
    "   \n",
    "    a =1 \n",
    "    b = 1 \n",
    "    a_args = []\n",
    "    b_args =   []\n",
    "    n = X.size\n",
    "    \n",
    "    for i in range(E):\n",
    "        \n",
    "        a = a + 2/n*(np.sum((Y - a*X - b)*X))*C\n",
    "        b =  b + 2/n*(np.sum((Y - a*X -b)))*C\n",
    "        #print(a,b)\n",
    "        a_args.append(a)\n",
    "        b_args.append(b)\n",
    "    return a,b,a_args,b_args "
   ]
  },
  {
   "cell_type": "markdown",
   "id": "9f899228",
   "metadata": {},
   "source": [
    "Applying this implemenation over our generated data"
   ]
  },
  {
   "cell_type": "code",
   "execution_count": 7,
   "id": "d1aa1384",
   "metadata": {},
   "outputs": [
    {
     "data": {
      "text/plain": [
       "<matplotlib.collections.PathCollection at 0x1f9287e4d00>"
      ]
     },
     "execution_count": 7,
     "metadata": {},
     "output_type": "execute_result"
    },
    {
     "data": {
      "image/png": "[encoded data removed]",
      "text/plain": [
       "<Figure size 432x288 with 1 Axes>"
      ]
     },
     "metadata": {
      "needs_background": "light"
     },
     "output_type": "display_data"
    }
   ],
   "source": [
    "plt.scatter(x,y)"
   ]
  },
  {
   "cell_type": "code",
   "execution_count": 8,
   "id": "1f5a1a2b",
   "metadata": {},
   "outputs": [],
   "source": [
    "a,b,a_r,b_r = gradient_descent(x,y,C=0.01,E=1000)"
   ]
  },
  {
   "cell_type": "code",
   "execution_count": 9,
   "id": "bf465ed8",
   "metadata": {},
   "outputs": [
    {
     "data": {
      "text/plain": [
       "<matplotlib.legend.Legend at 0x1f928846400>"
      ]
     },
     "execution_count": 9,
     "metadata": {},
     "output_type": "execute_result"
    },
    {
     "data": {
      "image/png": "[encoded data removed]",
      "text/plain": [
       "<Figure size 432x288 with 1 Axes>"
      ]
     },
     "metadata": {
      "needs_background": "light"
     },
     "output_type": "display_data"
    }
   ],
   "source": [
    "plt.plot(a_r,color='r',label=r'$\\alpha $')\n",
    "plt.plot(b_r,label=r'$\\beta$')\n",
    "plt.xlabel(\"number of epoch E\")\n",
    "plt.ylabel(\"etimated parameters\")\n",
    "plt.title('C = 0.01 , E = 1000')\n",
    "set_spines()\n",
    "plt.legend()"
   ]
  },
  {
   "cell_type": "markdown",
   "id": "734357d2",
   "metadata": {},
   "source": [
    "From graphics we can see that the curves of $\\alpha$ tends to $7$ and $\\beta$ tends to $3$.\n",
    "<br> \n",
    "The fit line will be : "
   ]
  },
  {
   "cell_type": "code",
   "execution_count": 10,
   "id": "48473221",
   "metadata": {},
   "outputs": [
    {
     "data": {
      "image/png": "[encoded data removed]",
      "text/plain": [
       "<Figure size 432x288 with 1 Axes>"
      ]
     },
     "metadata": {
      "needs_background": "light"
     },
     "output_type": "display_data"
    }
   ],
   "source": [
    "plt.scatter(x,y)  #7 \n",
    "plt.plot(x, 7*x +  3)\n",
    "set_spines()"
   ]
  },
  {
   "cell_type": "markdown",
   "id": "b360136d",
   "metadata": {},
   "source": [
    "It seems that the equation $y = 7 + 3 x$ describes the data as well as possible."
   ]
  },
  {
   "cell_type": "markdown",
   "id": "6740b689",
   "metadata": {},
   "source": [
    "<h2 id='rates-iterations'>1.3  Different Learning rates and number of Iteration in Gradient Descent</h2>"
   ]
  },
  {
   "cell_type": "markdown",
   "id": "d5b2809d",
   "metadata": {},
   "source": [
    "Again let's generate the data with bigger residuals."
   ]
  },
  {
   "cell_type": "code",
   "execution_count": 61,
   "id": "ac8edbb8",
   "metadata": {},
   "outputs": [
    {
     "data": {
      "image/png": "[encoded data removed]",
      "text/plain": [
       "<Figure size 432x288 with 1 Axes>"
      ]
     },
     "metadata": {
      "needs_background": "light"
     },
     "output_type": "display_data"
    }
   ],
   "source": [
    "y = 7*x + 120 +np.random.normal(0, 10, size=x.size)  \n",
    "plt.scatter(x,y)\n",
    "set_spines()"
   ]
  },
  {
   "cell_type": "code",
   "execution_count": 12,
   "id": "2403cc22",
   "metadata": {},
   "outputs": [
    {
     "data": {
      "text/plain": [
       "<matplotlib.legend.Legend at 0x1f9288858b0>"
      ]
     },
     "execution_count": 12,
     "metadata": {},
     "output_type": "execute_result"
    },
    {
     "data": {
      "image/png": "[encoded data removed]",
      "text/plain": [
       "<Figure size 432x288 with 1 Axes>"
      ]
     },
     "metadata": {
      "needs_background": "light"
     },
     "output_type": "display_data"
    }
   ],
   "source": [
    "a,b,a_r,b_r = gradient_descent(x,y,C=0.05,E=20)\n",
    "plt.plot(a_r,color='r',label=r'$\\alpha $')\n",
    "plt.plot(b_r,label=r'$\\beta$')\n",
    "plt.xlabel(\"number of epoch E\")\n",
    "plt.ylabel(\"etimated parameters\")\n",
    "plt.title('C = 0.05 , E = 50')\n",
    "#set_spines()\n",
    "plt.legend()"
   ]
  },
  {
   "cell_type": "markdown",
   "id": "61c27fa6",
   "metadata": {},
   "source": [
    "When learning rate is 0.05 and Iter.=20 we observe the learning jump."
   ]
  },
  {
   "cell_type": "code",
   "execution_count": 25,
   "id": "bf3e8eb6",
   "metadata": {},
   "outputs": [
    {
     "data": {
      "text/plain": [
       "<matplotlib.legend.Legend at 0x1f928c22ee0>"
      ]
     },
     "execution_count": 25,
     "metadata": {},
     "output_type": "execute_result"
    },
    {
     "data": {
      "image/png": "[encoded data removed]",
      "text/plain": [
       "<Figure size 432x288 with 1 Axes>"
      ]
     },
     "metadata": {
      "needs_background": "light"
     },
     "output_type": "display_data"
    }
   ],
   "source": [
    "a,b,a_r,b_r = gradient_descent(x,y,C=0.001,E=20)\n",
    "plt.plot(a_r,color='r',label=r'$\\alpha $')\n",
    "plt.plot(b_r,label=r'$\\beta$')\n",
    "plt.xlabel(\"number of epoch E\")\n",
    "plt.ylabel(\"etimated parameters\")\n",
    "plt.title('C = 0.1 , E = 50')\n",
    "#set_spines()\n",
    "plt.legend()"
   ]
  },
  {
   "cell_type": "markdown",
   "id": "16ff0fe3",
   "metadata": {},
   "source": [
    "When the learning rate is 0.03 and Iter.=20 a is 5.53 but is still increased, which means the number of iterations are small, and $\\alpha$ is achieved its minimum, by increasing the iteration $\\alpha$ will achieve its limit , as shown below"
   ]
  },
  {
   "cell_type": "code",
   "execution_count": 75,
   "id": "448c38ac",
   "metadata": {},
   "outputs": [
    {
     "data": {
      "text/plain": [
       "(6.87, 115.92)"
      ]
     },
     "execution_count": 75,
     "metadata": {},
     "output_type": "execute_result"
    },
    {
     "data": {
      "image/png": "[encoded data removed]",
      "text/plain": [
       "<Figure size 432x288 with 1 Axes>"
      ]
     },
     "metadata": {
      "needs_background": "light"
     },
     "output_type": "display_data"
    }
   ],
   "source": [
    "a,b,a_r,b_r = gradient_descent(x,y,C=0.001,E=1920)\n",
    "plt.plot(a_r,color='r',label=r'$\\alpha $')\n",
    "plt.plot(b_r,label=r'$\\beta$')\n",
    "plt.xlabel(\"number of epoch E\")\n",
    "plt.ylabel(\"etimated parameters\")\n",
    "plt.title('C = 0.001 , E = 120')\n",
    "#set_spines()\n",
    "plt.legend()\n",
    "a,b"
   ]
  },
  {
   "cell_type": "markdown",
   "id": "b0f27a12",
   "metadata": {},
   "source": [
    "<h2 id='rates-iterations'>1.3  Regulirization </h2>"
   ]
  },
  {
   "cell_type": "markdown",
   "id": "10419f32",
   "metadata": {},
   "source": [
    "When the model fit training data too much well,that is the very bad sign.When the model fit training data too much well,that is the very bad sign.In general this mean the biases is fitted by model function.In Machine Learning it called overfit.Let's get above data again"
   ]
  },
  {
   "cell_type": "code",
   "execution_count": 130,
   "id": "941873cd",
   "metadata": {},
   "outputs": [
    {
     "data": {
      "text/plain": [
       "(58.82129931729001, 627.6184574451921)"
      ]
     },
     "execution_count": 130,
     "metadata": {},
     "output_type": "execute_result"
    },
    {
     "data": {
      "image/png": "[encoded data removed]",
      "text/plain": [
       "<Figure size 432x288 with 1 Axes>"
      ]
     },
     "metadata": {
      "needs_background": "light"
     },
     "output_type": "display_data"
    }
   ],
   "source": [
    "plt.plot(x, 7*x +  120)  \n",
    "plt.scatter(x, y)\n",
    "a,b,a_r,b_r = gradient_descent(x[0:2],y[0:2],C=0.005,E=505620)\n",
    "plt.scatter(x[0:2],y[0:2],color='r')\n",
    "plt.plot(x, a*x +  b,color='r')\n",
    "set_spines()\n",
    "a,b"
   ]
  },
  {
   "cell_type": "markdown",
   "id": "b5646b0d",
   "metadata": {},
   "source": [
    "We can see that when we train the model over first two point,that point has been feet to swell ,but at all the model is awful,because for the remain data has too high variance."
   ]
  },
  {
   "cell_type": "markdown",
   "id": "c3a29935",
   "metadata": {},
   "source": []
  },
  {
   "cell_type": "code",
   "execution_count": 16,
   "id": "75ad9246",
   "metadata": {},
   "outputs": [
    {
     "name": "stdout",
     "output_type": "stream",
     "text": [
      "[-9.59183673 -9.18367347 -8.7755102  -8.36734694 -7.95918367 -7.55102041]\n"
     ]
    },
    {
     "ename": "ValueError",
     "evalue": "operands could not be broadcast together with shapes (50,) (6,) ",
     "output_type": "error",
     "traceback": [
      "\u001b[1;31m---------------------------------------------------------------------------\u001b[0m",
      "\u001b[1;31mValueError\u001b[0m                                Traceback (most recent call last)",
      "\u001b[1;32m<ipython-input-16-4742da38bcb1>\u001b[0m in \u001b[0;36m<module>\u001b[1;34m\u001b[0m\n\u001b[0;32m      3\u001b[0m \u001b[0my_1\u001b[0m \u001b[1;33m=\u001b[0m \u001b[1;36m7\u001b[0m\u001b[1;33m*\u001b[0m\u001b[0mx_1\u001b[0m \u001b[1;33m+\u001b[0m \u001b[1;36m3\u001b[0m \u001b[1;33m+\u001b[0m \u001b[0mnp\u001b[0m\u001b[1;33m.\u001b[0m\u001b[0mrandom\u001b[0m\u001b[1;33m.\u001b[0m\u001b[0muniform\u001b[0m\u001b[1;33m(\u001b[0m\u001b[1;33m-\u001b[0m\u001b[1;36m10\u001b[0m\u001b[1;33m,\u001b[0m\u001b[1;36m10\u001b[0m\u001b[1;33m,\u001b[0m\u001b[0msize\u001b[0m\u001b[1;33m=\u001b[0m\u001b[0mx_1\u001b[0m\u001b[1;33m.\u001b[0m\u001b[0msize\u001b[0m\u001b[1;33m)\u001b[0m\u001b[1;33m\u001b[0m\u001b[1;33m\u001b[0m\u001b[0m\n\u001b[0;32m      4\u001b[0m \u001b[0mplt\u001b[0m\u001b[1;33m.\u001b[0m\u001b[0mscatter\u001b[0m\u001b[1;33m(\u001b[0m\u001b[0mx_1\u001b[0m\u001b[1;33m,\u001b[0m\u001b[0my_1\u001b[0m\u001b[1;33m)\u001b[0m\u001b[1;33m\u001b[0m\u001b[1;33m\u001b[0m\u001b[0m\n\u001b[1;32m----> 5\u001b[1;33m \u001b[0ma\u001b[0m\u001b[1;33m,\u001b[0m\u001b[0mb\u001b[0m\u001b[1;33m,\u001b[0m\u001b[0ma_r\u001b[0m\u001b[1;33m,\u001b[0m\u001b[0mb_r\u001b[0m \u001b[1;33m=\u001b[0m \u001b[0mgradient_descent\u001b[0m\u001b[1;33m(\u001b[0m\u001b[0mx_1\u001b[0m\u001b[1;33m,\u001b[0m\u001b[0my\u001b[0m\u001b[1;33m,\u001b[0m\u001b[0mC\u001b[0m\u001b[1;33m=\u001b[0m\u001b[1;36m0.001\u001b[0m\u001b[1;33m,\u001b[0m\u001b[0mE\u001b[0m\u001b[1;33m=\u001b[0m\u001b[1;36m120\u001b[0m\u001b[1;33m)\u001b[0m\u001b[1;33m\u001b[0m\u001b[1;33m\u001b[0m\u001b[0m\n\u001b[0m\u001b[0;32m      6\u001b[0m \u001b[0mplt\u001b[0m\u001b[1;33m.\u001b[0m\u001b[0mplot\u001b[0m\u001b[1;33m(\u001b[0m\u001b[0mx_1\u001b[0m\u001b[1;33m,\u001b[0m \u001b[0ma\u001b[0m\u001b[1;33m*\u001b[0m\u001b[0mx_1\u001b[0m \u001b[1;33m+\u001b[0m \u001b[0mb\u001b[0m\u001b[1;33m)\u001b[0m\u001b[1;33m\u001b[0m\u001b[1;33m\u001b[0m\u001b[0m\n\u001b[0;32m      7\u001b[0m \u001b[0mx\u001b[0m \u001b[1;33m=\u001b[0m\u001b[0mx\u001b[0m\u001b[1;33m[\u001b[0m\u001b[1;36m1\u001b[0m\u001b[1;33m:\u001b[0m\u001b[1;36m7\u001b[0m\u001b[1;33m]\u001b[0m\u001b[1;33m\u001b[0m\u001b[1;33m\u001b[0m\u001b[0m\n",
      "\u001b[1;32m<ipython-input-6-a4a99da0a394>\u001b[0m in \u001b[0;36mgradient_descent\u001b[1;34m(X, Y, C, E)\u001b[0m\n\u001b[0;32m     21\u001b[0m     \u001b[1;32mfor\u001b[0m \u001b[0mi\u001b[0m \u001b[1;32min\u001b[0m \u001b[0mrange\u001b[0m\u001b[1;33m(\u001b[0m\u001b[0mE\u001b[0m\u001b[1;33m)\u001b[0m\u001b[1;33m:\u001b[0m\u001b[1;33m\u001b[0m\u001b[1;33m\u001b[0m\u001b[0m\n\u001b[0;32m     22\u001b[0m \u001b[1;33m\u001b[0m\u001b[0m\n\u001b[1;32m---> 23\u001b[1;33m         \u001b[0ma\u001b[0m \u001b[1;33m=\u001b[0m \u001b[0mround\u001b[0m\u001b[1;33m(\u001b[0m\u001b[0ma\u001b[0m \u001b[1;33m+\u001b[0m \u001b[1;36m2\u001b[0m\u001b[1;33m/\u001b[0m\u001b[0mn\u001b[0m\u001b[1;33m*\u001b[0m\u001b[1;33m(\u001b[0m\u001b[0mnp\u001b[0m\u001b[1;33m.\u001b[0m\u001b[0msum\u001b[0m\u001b[1;33m(\u001b[0m\u001b[1;33m(\u001b[0m\u001b[0mY\u001b[0m \u001b[1;33m-\u001b[0m \u001b[0ma\u001b[0m\u001b[1;33m*\u001b[0m\u001b[0mX\u001b[0m \u001b[1;33m-\u001b[0m \u001b[0mb\u001b[0m\u001b[1;33m)\u001b[0m\u001b[1;33m*\u001b[0m\u001b[0mX\u001b[0m\u001b[1;33m)\u001b[0m\u001b[1;33m)\u001b[0m\u001b[1;33m*\u001b[0m\u001b[0mC\u001b[0m\u001b[1;33m,\u001b[0m\u001b[1;36m2\u001b[0m\u001b[1;33m)\u001b[0m\u001b[1;33m\u001b[0m\u001b[1;33m\u001b[0m\u001b[0m\n\u001b[0m\u001b[0;32m     24\u001b[0m         \u001b[0mb\u001b[0m \u001b[1;33m=\u001b[0m \u001b[0mround\u001b[0m\u001b[1;33m(\u001b[0m \u001b[0mb\u001b[0m \u001b[1;33m+\u001b[0m \u001b[1;36m2\u001b[0m\u001b[1;33m/\u001b[0m\u001b[0mn\u001b[0m\u001b[1;33m*\u001b[0m\u001b[1;33m(\u001b[0m\u001b[0mnp\u001b[0m\u001b[1;33m.\u001b[0m\u001b[0msum\u001b[0m\u001b[1;33m(\u001b[0m\u001b[1;33m(\u001b[0m\u001b[0mY\u001b[0m \u001b[1;33m-\u001b[0m \u001b[0ma\u001b[0m\u001b[1;33m*\u001b[0m\u001b[0mX\u001b[0m \u001b[1;33m-\u001b[0m\u001b[0mb\u001b[0m\u001b[1;33m)\u001b[0m\u001b[1;33m)\u001b[0m\u001b[1;33m)\u001b[0m\u001b[1;33m*\u001b[0m\u001b[0mC\u001b[0m\u001b[1;33m,\u001b[0m\u001b[1;36m2\u001b[0m\u001b[1;33m)\u001b[0m\u001b[1;33m\u001b[0m\u001b[1;33m\u001b[0m\u001b[0m\n\u001b[0;32m     25\u001b[0m         \u001b[1;31m#print(a,b)\u001b[0m\u001b[1;33m\u001b[0m\u001b[1;33m\u001b[0m\u001b[1;33m\u001b[0m\u001b[0m\n",
      "\u001b[1;31mValueError\u001b[0m: operands could not be broadcast together with shapes (50,) (6,) "
     ]
    },
    {
     "data": {
      "image/png": "[encoded data removed]",
      "text/plain": [
       "<Figure size 432x288 with 1 Axes>"
      ]
     },
     "metadata": {
      "needs_background": "light"
     },
     "output_type": "display_data"
    }
   ],
   "source": [
    "x_1 =x[1:7]\n",
    "print(x_1)\n",
    "y_1 = 7*x_1 + 3 + np.random.uniform(-10,10,size=x_1.size)\n",
    "plt.scatter(x_1,y_1)\n",
    "a,b,a_r,b_r = gradient_descent(x_1,y,C=0.001,E=120) \n",
    "plt.plot(x_1, a*x_1 + b)\n",
    "x =x[1:7]\n",
    "print(x_1)\n",
    "y = 7*x + 3 + np.random.uniform(-10,10,size=x_1.size)\n",
    "plt.scatter(x_1,y)\n",
    "a,b,a_r,b_r = gradient_descent(x_1,y,C=0.001,E=120) \n",
    "plt.plot(x_1, a*x_1 + b)\n",
    "set_spines()"
   ]
  },
  {
   "cell_type": "code",
   "execution_count": null,
   "id": "5953b0ed",
   "metadata": {},
   "outputs": [],
   "source": [
    "\n",
    "set_spines()"
   ]
  },
  {
   "cell_type": "markdown",
   "id": "616e6a4e",
   "metadata": {},
   "source": [
    "<h2> References </h2>\n",
    "<ul>\n",
    "    <li> </li>\n",
    "<li><a href='https://www.analyticsvidhya.com/blog/2017/06/a-comprehensive-guide-for-linear-ridge-and-lasso-regression/'>A comprehensive beginners guide for Linear, Ridge and Lasso Regression in Python and R </a></li>\n",
    "<li> <a href='https://www.youtube.com/watch?v=Q81RR3yKn30&ab_channel=StatQuestwithJoshStarmer'> Regularization Part 1: Ridge (L2) Regression </a> </li>\n",
    "    <li><a href='https://arxiv.org/pdf/1509.09169;Lecture'>Lecture notes on ridge regression</a> </li>\n",
    "    <li> <a href='https://medium.com/@minions.k/ridge-regression-l1-regularization-method-31b6bc03cbf'>Ridge</a> </li>\n",
    "    </ul>"
   ]
  }
 ],
 "metadata": {
  "kernelspec": {
   "display_name": "Python 3",
   "language": "python",
   "name": "python3"
  },
  "language_info": {
   "codemirror_mode": {
    "name": "ipython",
    "version": 3
   },
   "file_extension": ".py",
   "mimetype": "text/x-python",
   "name": "python",
   "nbconvert_exporter": "python",
   "pygments_lexer": "ipython3",
   "version": "3.8.8"
  }
 },
 "nbformat": 4,
 "nbformat_minor": 5
}
