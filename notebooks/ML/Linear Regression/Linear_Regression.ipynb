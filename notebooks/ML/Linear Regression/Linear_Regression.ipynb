{
 "cells": [
  {
   "cell_type": "code",
   "execution_count": 1,
   "id": "55db894b",
   "metadata": {},
   "outputs": [],
   "source": [
    "#help function\n",
    "def set_spines():\n",
    "    ax = plt.gca()  # gca stands for 'get current axis'\n",
    "    ax.spines['right'].set_color('none')\n",
    "    ax.spines['top'].set_color('none')\n",
    "    ax.xaxis.set_ticks_position('bottom')\n",
    "    ax.spines['bottom'].set_position(('data',0))\n",
    "    ax.yaxis.set_ticks_position('left')\n",
    "    ax.spines['left'].set_position(('data',0))"
   ]
  },
  {
   "cell_type": "code",
   "execution_count": 2,
   "id": "2e40c482",
   "metadata": {},
   "outputs": [],
   "source": [
    "%matplotlib inline\n",
    "import matplotlib.pyplot as plt\n",
    "import numpy as np\n",
    "import math\n",
    "from mpl_toolkits.mplot3d import Axes3D\n",
    "from random import random\n",
    "#from mpl_toolkits.mplot3d import axes3d\n",
    "import matplotlib.pyplot as plt\n",
    "import pandas as pd\n",
    "from sklearn.model_selection import train_test_split\n",
    "from sklearn.preprocessing import StandardScaler\n",
    "from sklearn.linear_model import LinearRegression"
   ]
  },
  {
   "cell_type": "markdown",
   "id": "9ab910c2",
   "metadata": {},
   "source": [
    "<h1> Linear Regression </h1>"
   ]
  },
  {
   "cell_type": "markdown",
   "id": "62a780fc",
   "metadata": {},
   "source": [
    "<div class='legend'>\n",
    "<ul style=\"margin-left: 30px\">\n",
    "      <li>1.0  <a href='#simple~linear~regression'>Simple Linear Regression </a> </li> \n",
    "      <li>1.1 <a href='#fitting~reg'> Fitting the regresion line</a> </li>\n",
    "      <li>1.2 <a href='#grad~sim~linear'>Gradient Descent over simple linear regression</a> </li>\n",
    "      <li>1.3 <a href='#rates-iterations'> Different Learning rates and number of Iteration in Gradient Descent</a> </li>\n",
    "      <li>1.4 <a href='#m-linear-r'>Multiple Linear Regression</a> </li>\n",
    "      <li>1.5 <a href='#reg'>Regularization of gradient descent by learning rate and max iterations</a> </li>    \n",
    "      <li>1.6 <a href='#conclusion'>Conclusion</a> </li>\n",
    "</ul> \n",
    "</div>    "
   ]
  },
  {
   "cell_type": "markdown",
   "id": "71088a19",
   "metadata": {},
   "source": [
    "<h2 id='simple~linear~regression'>1.0 Simple linear regression </h2>"
   ]
  },
  {
   "cell_type": "markdown",
   "id": "2999f82a",
   "metadata": {},
   "source": [
    "Simple Linear regression has a single explanatory variable. It concerns two-dimensional sample points with one dependent and one independent variable. (Conventionally x and y data point in a Cartesian coordinate system). The adjective simple refers to the fact that the outcome variable is related to a single predictor."
   ]
  },
  {
   "cell_type": "markdown",
   "id": "1e36c8c0",
   "metadata": {},
   "source": [
    "<h2 href='fitting~reg'>1.1 Fitting the regression line with  least-squared </h2>"
   ]
  },
  {
   "cell_type": "markdown",
   "id": "35769e57",
   "metadata": {},
   "source": [
    "Consider the model function $y = \\alpha + \\beta x$ which describes a line with slope $\\beta$ and intercept $\\alpha$. <br>\n",
    "example : let $\\alpha=7$ and $\\beta=3$, geometrically $y = 7 + 3 x$ appears to be as below graphic."
   ]
  },
  {
   "cell_type": "code",
   "execution_count": 5,
   "id": "b3f6c10c",
   "metadata": {},
   "outputs": [
    {
     "data": {
      "image/png": "[encoded data removed]",
      "text/plain": [
       "<Figure size 432x288 with 1 Axes>"
      ]
     },
     "metadata": {
      "needs_background": "light"
     },
     "output_type": "display_data"
    }
   ],
   "source": [
    "x = np.linspace(-10,10)\n",
    "y = 7*x + 3\n",
    "plt.plot(x,y,color='r')\n",
    "set_spines()"
   ]
  },
  {
   "cell_type": "markdown",
   "id": "ad4cdf51",
   "metadata": {},
   "source": [
    "Suppose we observe $n$ data pairs denoted with $(x_i,y_i), i = 1,2,...,n$."
   ]
  },
  {
   "cell_type": "code",
   "execution_count": 14,
   "id": "7dbed1ae",
   "metadata": {},
   "outputs": [
    {
     "data": {
      "image/png": "[encoded data removed]",
      "text/plain": [
       "<Figure size 432x288 with 1 Axes>"
      ]
     },
     "metadata": {
      "needs_background": "light"
     },
     "output_type": "display_data"
    }
   ],
   "source": [
    "y = 7*x + 3 + np.random.uniform(-10,10,size=x.size)\n",
    "plt.scatter(x,y)\n",
    "set_spines()"
   ]
  },
  {
   "cell_type": "markdown",
   "id": "c9677059",
   "metadata": {},
   "source": [
    "We can describe the underlying relationship between $y_i$ and $x_i$ invloving the error term $\\varepsilon_i$ in linear equation $y_i =  \\alpha + \\beta x_i + \\varepsilon_i $.The  $\\varepsilon_i$  could be intepreted as the noise of the data or in some sense some type of randomness originated from various reasons.Also it is know as 'error term' or 'residual'.\n",
    "Our target is to find estimated values $\\alpha$ and $\\beta$ which would provide the best fit in some sense for data points.\n",
    "In order to find the 'best' fit we will use the <a href='https://en.wikipedia.org/wiki/Ordinary_least_squares'>least-squared</a> approach.From  mathematical view point the issue involved the minimization of Lost function respect to $\\alpha,\\beta$. \n",
    " $$1)  L = \\sum_i(y_i - \\alpha - \\beta x_i)^2$$.\n",
    "$L$ is called $Lost$ function the expression $(y_i - \\alpha - \\beta x_i)^2$ is called $Cost$ function.This function is appropiative because of It is a diferencianal everywhere and gives us  a measure of diference between dependent value $y_i$ and predicted value of $y'(\\alpha,\\beta)=\\alpha + \\beta x_i $.<br>\n",
    "In order to find $min_{\\alpha,\\beta}L(\\alpha,\\beta,x_i,_yi)$ we will use <mark>Gradient Descent method</mark>.<br>"
   ]
  },
  {
   "cell_type": "markdown",
   "id": "6b66869f",
   "metadata": {},
   "source": [
    "<h2 id='grad~sim~linear'>1.2 Gradient Descent over simple linear regression</h2>"
   ]
  },
  {
   "cell_type": "markdown",
   "id": "1c919f15",
   "metadata": {},
   "source": [
    "The methods for finding the maximum and minimum (extrema) have been created with the development of mathematical analysis(Calculus). Gradient Descent is a numerical approach to the local minimum of a first-order differentiable function. The idea is to take repeated steps in the opposite direction of the gradient the function in the current point. \n"
   ]
  },
  {
   "cell_type": "markdown",
   "id": "2b085a30",
   "metadata": {},
   "source": [
    "Our purpose is to find the value of $x$ where the function gets the minimum value.\n",
    "The GD algorithm is difined : \n",
    "  $$\\alpha = \\alpha - \\nabla_{\\alpha}L(\\alpha,\\beta)*h$$\n",
    "  $$\\beta = \\beta - \\nabla_{\\beta}L(\\alpha,\\beta)*h$$ <br>\n",
    "  \n"
   ]
  },
  {
   "cell_type": "markdown",
   "id": "467e089e",
   "metadata": {},
   "source": [
    "where $h$ is called <mark>Learning rate</mark> or step size.\n",
    "Applying GD algorithm over our Lost function 1) we  get : <br> <br>\n",
    "$$\\nabla_{\\alpha}(J(a,b)=\\frac{\\partial{L}}{\\partial{{\\alpha}}}=\\frac{\\partial{\\sum_i(y_i - \\alpha - \\beta x_i)^2}}{\\partial{{\\alpha}}}=-\\frac{2}{n}\\sum_{n=1}^{n}{(y_i-a*x_i - b)*x_i} $$ <br>\n",
    "$$\\nabla_{\\beta}(J(a,b)=\\frac{\\partial{L}}{\\partial{{\\beta }}}=\\frac{\\partial{\\sum_i(y_i - \\alpha - \\beta x_i)^2}}{\\partial{{\\beta}}}=- \\frac{2}{n}\\sum_{n=1}^{n}{(y_i-a*x_i - b)} $$ <br> <br>\n"
   ]
  },
  {
   "cell_type": "markdown",
   "id": "b13cc83a",
   "metadata": {},
   "source": [
    "applying the above local derivatives to Gradient Descent formula we get\n",
    " $$\\alpha = \\alpha + \\frac{2}{n}\\sum_{n=1}^{n}{(y_i-a*x_i - b)*x_i}*h$$\n",
    "  $$\\beta = \\beta +\\frac{2}{n}\\sum_{n=1}^{n}{(y_i-a*x_i - b)}*h$$ <br>"
   ]
  },
  {
   "cell_type": "markdown",
   "id": "f0337422",
   "metadata": {},
   "source": [
    "The above equations are performed enough times to reach the minimum of Lost function with conditional that we have chosen the appropriate Learning rate $h$."
   ]
  },
  {
   "cell_type": "markdown",
   "id": "bc5c459f",
   "metadata": {},
   "source": [
    "<h2 id='grad~sim~linear'>1.3 Implementation of Gradient Descent for simple linear regression (Python)</h2>"
   ]
  },
  {
   "cell_type": "code",
   "execution_count": 17,
   "id": "8f6a83d9",
   "metadata": {},
   "outputs": [],
   "source": [
    "#implementation cost function\n",
    "def cost(X,Y,alpha,betta):\n",
    "    '''\n",
    "    Calculation of cost (error) function of simple linear regression\n",
    "   \n",
    "    Parrameters : \n",
    "    X(array or number) : X arguments, independent variable\n",
    "    Y (array or number) : Y arguments, actual dependent variable \n",
    "    Returns :\n",
    "      number of cost function\n",
    "  '''\n",
    "   \n",
    "    return np.sum((Y - (alpha - betta*X ))**2 )"
   ]
  },
  {
   "cell_type": "code",
   "execution_count": 111,
   "id": "269d2cc3",
   "metadata": {},
   "outputs": [],
   "source": [
    "def gradient_descent(X,Y,C=0.1,E=100):\n",
    "    '''\n",
    "    \n",
    "    Mimumization of cost (error) function of simple linear regression\n",
    "   \n",
    "    Parrameters : \n",
    "    X(array or number) : X arguments, independent variable\n",
    "    Y (array or number) : Y arguments, actual dependent variable \n",
    "    C (number) :  learning rate\n",
    "    I(int) : number of iteration(Epoch)\n",
    "    Returns :\n",
    "      number of cost function\n",
    "   '''\n",
    "   \n",
    "    a =1 \n",
    "    b = 1 \n",
    "    a_args = []\n",
    "    b_args =   []\n",
    "    n = X.size\n",
    "    \n",
    "    for i in range(E):\n",
    "        \n",
    "        a = round(a + 2/n*(np.sum((Y - a*X - b)*X))*C,2)\n",
    "        b = round( b + 2/n*(np.sum((Y - a*X -b)))*C,2)\n",
    "        #print(a,b)\n",
    "        a_args.append(a)\n",
    "        b_args.append(b)\n",
    "    return a,b,a_args,b_args "
   ]
  },
  {
   "cell_type": "markdown",
   "id": "570d16fe",
   "metadata": {},
   "source": [
    "Applying this implemenation over our generated data"
   ]
  },
  {
   "cell_type": "code",
   "execution_count": 26,
   "id": "73f34670",
   "metadata": {},
   "outputs": [
    {
     "data": {
      "text/plain": [
       "<matplotlib.collections.PathCollection at 0xbd03baf970>"
      ]
     },
     "execution_count": 26,
     "metadata": {},
     "output_type": "execute_result"
    },
    {
     "data": {
      "image/png": "[encoded data removed]",
      "text/plain": [
       "<Figure size 432x288 with 1 Axes>"
      ]
     },
     "metadata": {
      "needs_background": "light"
     },
     "output_type": "display_data"
    }
   ],
   "source": [
    "plt.scatter(x,y)"
   ]
  },
  {
   "cell_type": "code",
   "execution_count": 27,
   "id": "3796f0e5",
   "metadata": {},
   "outputs": [],
   "source": [
    "a,b,a_r,b_r = gradient_descent(x,y,C=0.01,E=1000)"
   ]
  },
  {
   "cell_type": "code",
   "execution_count": 33,
   "id": "be2dea24",
   "metadata": {},
   "outputs": [
    {
     "data": {
      "text/plain": [
       "<matplotlib.legend.Legend at 0xbd0548bcd0>"
      ]
     },
     "execution_count": 33,
     "metadata": {},
     "output_type": "execute_result"
    },
    {
     "data": {
      "image/png": "[encoded data removed]",
      "text/plain": [
       "<Figure size 432x288 with 1 Axes>"
      ]
     },
     "metadata": {
      "needs_background": "light"
     },
     "output_type": "display_data"
    }
   ],
   "source": [
    "plt.plot(a_r,color='r',label=r'$\\alpha $')\n",
    "plt.plot(b_r,label=r'$\\beta$')\n",
    "plt.xlabel(\"number of epoch E\")\n",
    "plt.ylabel(\"etimated parameters\")\n",
    "plt.title('C = 0.01 , E = 1000')\n",
    "set_spines()\n",
    "plt.legend()"
   ]
  },
  {
   "cell_type": "markdown",
   "id": "b3cd77f2",
   "metadata": {},
   "source": [
    "From graphics we can see that the curves of $\\alpha$ tends to $7$ and $\\beta$ tends to $3$.\n",
    "<br> \n",
    "The fit line will be : "
   ]
  },
  {
   "cell_type": "code",
   "execution_count": 31,
   "id": "157fb611",
   "metadata": {},
   "outputs": [
    {
     "data": {
      "image/png": "[encoded data removed]",
      "text/plain": [
       "<Figure size 432x288 with 1 Axes>"
      ]
     },
     "metadata": {
      "needs_background": "light"
     },
     "output_type": "display_data"
    }
   ],
   "source": [
    "plt.scatter(x,y)  #7 \n",
    "plt.plot(x, 7*x +  3)\n",
    "set_spines()"
   ]
  },
  {
   "cell_type": "markdown",
   "id": "4174d9a9",
   "metadata": {},
   "source": [
    "It seems that the equation $y = 7 + 3 x$ describes the data as well as possible."
   ]
  },
  {
   "cell_type": "markdown",
   "id": "d503c4f3",
   "metadata": {},
   "source": [
    "<h2 id='rates-iterations'>1.3  Different Learning rates and number of Iteration in Gradient Descent</h2>"
   ]
  },
  {
   "cell_type": "markdown",
   "id": "7013af49",
   "metadata": {},
   "source": [
    "Again let's generate the data with bigger residuals."
   ]
  },
  {
   "cell_type": "code",
   "execution_count": 58,
   "id": "eac44020",
   "metadata": {},
   "outputs": [
    {
     "data": {
      "image/png": "[encoded data removed]",
      "text/plain": [
       "<Figure size 432x288 with 1 Axes>"
      ]
     },
     "metadata": {
      "needs_background": "light"
     },
     "output_type": "display_data"
    }
   ],
   "source": [
    "y = 7*x + 3 + np.random.uniform(-30,30,size=x.size)\n",
    "plt.scatter(x,y)\n",
    "set_spines()"
   ]
  },
  {
   "cell_type": "code",
   "execution_count": 123,
   "id": "d49683a2",
   "metadata": {},
   "outputs": [
    {
     "data": {
      "text/plain": [
       "<matplotlib.legend.Legend at 0xbd07078910>"
      ]
     },
     "execution_count": 123,
     "metadata": {},
     "output_type": "execute_result"
    },
    {
     "data": {
      "image/png": "[encoded data removed]",
      "text/plain": [
       "<Figure size 432x288 with 1 Axes>"
      ]
     },
     "metadata": {
      "needs_background": "light"
     },
     "output_type": "display_data"
    }
   ],
   "source": [
    "a,b,a_r,b_r = gradient_descent(x,y,C=0.05,E=20)\n",
    "plt.plot(a_r,color='r',label=r'$\\alpha $')\n",
    "plt.plot(b_r,label=r'$\\beta$')\n",
    "plt.xlabel(\"number of epoch E\")\n",
    "plt.ylabel(\"etimated parameters\")\n",
    "plt.title('C = 0.05 , E = 50')\n",
    "#set_spines()\n",
    "plt.legend()"
   ]
  },
  {
   "cell_type": "markdown",
   "id": "92782f46",
   "metadata": {},
   "source": [
    "When learning rate is 0.05 and Iter.=20 we observe the learning jump."
   ]
  },
  {
   "cell_type": "code",
   "execution_count": 125,
   "id": "9d39982b",
   "metadata": {},
   "outputs": [
    {
     "data": {
      "text/plain": [
       "<matplotlib.legend.Legend at 0xbd071d24c0>"
      ]
     },
     "execution_count": 125,
     "metadata": {},
     "output_type": "execute_result"
    },
    {
     "data": {
      "image/png": "[encoded data removed]",
      "text/plain": [
       "<Figure size 432x288 with 1 Axes>"
      ]
     },
     "metadata": {
      "needs_background": "light"
     },
     "output_type": "display_data"
    }
   ],
   "source": [
    "a,b,a_r,b_r = gradient_descent(x,y,C=0.001,E=20)\n",
    "plt.plot(a_r,color='r',label=r'$\\alpha $')\n",
    "plt.plot(b_r,label=r'$\\beta$')\n",
    "plt.xlabel(\"number of epoch E\")\n",
    "plt.ylabel(\"etimated parameters\")\n",
    "plt.title('C = 0.1 , E = 50')\n",
    "#set_spines()\n",
    "plt.legend()"
   ]
  },
  {
   "cell_type": "markdown",
   "id": "015b21b0",
   "metadata": {},
   "source": [
    "When the learning rate is 0.03 and Iter.=20 a is 5.53 but is still increased, which means the number of iterations are small, and $\\alpha$ is achieved its minimum, by increasing the iteration $\\alpha$ will achieve its limit , as shown below"
   ]
  },
  {
   "cell_type": "code",
   "execution_count": 127,
   "id": "c3dfd530",
   "metadata": {},
   "outputs": [
    {
     "data": {
      "text/plain": [
       "<matplotlib.legend.Legend at 0xbd08205fa0>"
      ]
     },
     "execution_count": 127,
     "metadata": {},
     "output_type": "execute_result"
    },
    {
     "data": {
      "image/png": "[encoded data removed]",
      "text/plain": [
       "<Figure size 432x288 with 1 Axes>"
      ]
     },
     "metadata": {
      "needs_background": "light"
     },
     "output_type": "display_data"
    }
   ],
   "source": [
    "a,b,a_r,b_r = gradient_descent(x,y,C=0.001,E=120)\n",
    "plt.plot(a_r,color='r',label=r'$\\alpha $')\n",
    "plt.plot(b_r,label=r'$\\beta$')\n",
    "plt.xlabel(\"number of epoch E\")\n",
    "plt.ylabel(\"etimated parameters\")\n",
    "plt.title('C = 0.001 , E = 120')\n",
    "#set_spines()\n",
    "plt.legend()"
   ]
  },
  {
   "cell_type": "code",
   "execution_count": null,
   "id": "b50d0a00",
   "metadata": {},
   "outputs": [],
   "source": []
  }
 ],
 "metadata": {
  "kernelspec": {
   "display_name": "Python 3",
   "language": "python",
   "name": "python3"
  },
  "language_info": {
   "codemirror_mode": {
    "name": "ipython",
    "version": 3
   },
   "file_extension": ".py",
   "mimetype": "text/x-python",
   "name": "python",
   "nbconvert_exporter": "python",
   "pygments_lexer": "ipython3",
   "version": "3.8.8"
  }
 },
 "nbformat": 4,
 "nbformat_minor": 5
}
