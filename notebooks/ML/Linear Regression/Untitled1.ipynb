{
 "cells": [
  {
   "cell_type": "code",
   "execution_count": 1,
   "id": "18bd35aa",
   "metadata": {},
   "outputs": [],
   "source": [
    "%matplotlib inline\n",
    "import matplotlib.pyplot as plt\n",
    "import numpy as np\n",
    "import math\n",
    "from mpl_toolkits.mplot3d import Axes3D\n",
    "from random import random\n",
    "#from mpl_toolkits.mplot3d import axes3d\n",
    "import matplotlib.pyplot as plt\n",
    "import pandas as pd"
   ]
  },
  {
   "cell_type": "markdown",
   "id": "ef835023",
   "metadata": {},
   "source": [
    " Linear Regression\n",
    " <ul style=\"margin-left: 30px\">\n",
    "      <li>1  <a href='#simple~linear~regression'>Simple linear regression </a> </li> \n",
    "      <li>1.1 <a href='#fitting~reg'> Fitting the regresion line</a> </li>\n",
    "      <li>1.2 <a href='#grad~sim~linear'>Gradient Descent over simple linear regression</a> </li>\n",
    "      <li>1.3 <a href='#effect~learning~rate'>Effect of different values for learning rate</a> </li>\n",
    "      <li>2 <a href='#m-linear-r'>Multiple linear regression</a> </li><br> \n",
    "      <li><a href='#reg'>Regularization of gradient descent by learning rate and max iterations</a> </li>    \n",
    "      <li><a href='#conclusion'>Conclusion</a> </li><br>  \n",
    "</ul>    "
   ]
  },
  {
   "cell_type": "markdown",
   "id": "297567a9",
   "metadata": {},
   "source": [
    "# Linear regression"
   ]
  },
  {
   "cell_type": "markdown",
   "id": "89ca51be",
   "metadata": {},
   "source": [
    "In statistic, LA is an linear approach to modeling the realationship between  one or more explanatory variables (independent or dependent).The case of one explanatory variable is s called <mark> Simple Linear Regression </mark>,for  more then on is called Multiple Linear Regression.In linear regression the relationships are modeled using <a href='https://en.wikipedia.org/wiki/Linear_predictor_function'> linear predictors function </a> whose unknown parameters are estimated from data."
   ]
  }
 ],
 "metadata": {
  "kernelspec": {
   "display_name": "Python 3",
   "language": "python",
   "name": "python3"
  },
  "language_info": {
   "codemirror_mode": {
    "name": "ipython",
    "version": 3
   },
   "file_extension": ".py",
   "mimetype": "text/x-python",
   "name": "python",
   "nbconvert_exporter": "python",
   "pygments_lexer": "ipython3",
   "version": "3.8.8"
  }
 },
 "nbformat": 4,
 "nbformat_minor": 5
}
