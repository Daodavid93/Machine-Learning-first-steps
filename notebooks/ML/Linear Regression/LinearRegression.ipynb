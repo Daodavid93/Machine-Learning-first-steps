{
 "cells": [
  {
   "cell_type": "code",
   "execution_count": 62,
   "metadata": {},
   "outputs": [],
   "source": [
    "%matplotlib inline\n",
    "import matplotlib.pyplot as plt\n",
    "import numpy as np\n",
    "import math\n",
    "from mpl_toolkits.mplot3d import Axes3D\n",
    "from random import random"
   ]
  },
  {
   "cell_type": "markdown",
   "metadata": {},
   "source": [
    "# Linear Regression"
   ]
  },
  {
   "cell_type": "markdown",
   "metadata": {},
   "source": [
    "##### author: Daodeiv"
   ]
  },
  {
   "cell_type": "markdown",
   "metadata": {},
   "source": [
    "### Intro"
   ]
  },
  {
   "cell_type": "markdown",
   "metadata": {},
   "source": [
    "###### LR is basic and comonly used type of predictive analysis.Also linear regression is verry old way for finding the math model over the experimental data ,because every experiment has a noice(error measurments ) with some standart deviation , the linear regression volume down the noice.\n",
    "###### The overall idea of regression is to examine two things \n",
    "###### 1) does a set of predictor variables do a good job in prediction an outcome (dependent) variable ?\n",
    "###### 2)Which variables in paricular are significat predictorsof outcome variable,and in what wau do they-indicated by the magnitude and sign of the beta estimates–impact the outcome variable?"
   ]
  },
  {
   "cell_type": "markdown",
   "metadata": {},
   "source": [
    "### Methods "
   ]
  },
  {
   "cell_type": "markdown",
   "metadata": {},
   "source": [
    "###### Let's  to define a lienear  function with some noice\n"
   ]
  },
  {
   "cell_type": "code",
   "execution_count": 4,
   "metadata": {},
   "outputs": [],
   "source": [
    "def our_function(show='False'):\n",
    "    \"\"\"\n",
    "    our fuction wich will be investigated bellow\n",
    "    \"\"\"\n",
    "    a =4\n",
    "    c =-10\n",
    "    f = lambda x : a*x + c + np.random.uniform(0,4)\n",
    "    x_args = np.linspace(0,10)\n",
    "    y_args = [f(i) for i in x_args]\n",
    "    plt.scatter(x_args,y_args)\n",
    "    if show:\n",
    "        ##plt.show()\n",
    "        pass\n",
    "\n",
    "def plot_function(a,b,cost,show='False'):\n",
    "    \"\"\"\n",
    "    f(x) = ax +b\n",
    "    takes\n",
    "    cost the value of cost function\n",
    "    ploting the linear function \n",
    "    \n",
    "    \"\"\"\n",
    "    f = lambda x,a,b : a*x +b\n",
    "    l = \"{}*x_i + {}\".format(a,b)\n",
    "    x_args = np.linspace(0,10)\n",
    "    our_function()\n",
    "    y_args = [f(i,a,b) for i in x_args]\n",
    "    plt.plot(x_args,y_args)\n",
    "    plt.text(0,20,\"cost value = {} a={} b={} \".format(str(cost),a,b))\n",
    "    if show:\n",
    "        plt.legend()\n",
    "        plt.show()\n",
    "    "
   ]
  },
  {
   "cell_type": "markdown",
   "metadata": {},
   "source": [
    "###### Our goal is  to find the function f= a*x+b which describe  X and Y values  in approximatly most better way"
   ]
  },
  {
   "cell_type": "code",
   "execution_count": 5,
   "metadata": {},
   "outputs": [
    {
     "data": {
      "image/png": "[encoded data removed]",
      "text/plain": [
       "<Figure size 432x288 with 1 Axes>"
      ]
     },
     "metadata": {
      "needs_background": "light"
     },
     "output_type": "display_data"
    }
   ],
   "source": [
    "our_function()"
   ]
  },
  {
   "cell_type": "markdown",
   "metadata": {},
   "source": [
    "#### Every linear function is charactarised with two parameterns a and b where a is measure of tg(<a) between the line and x-line ,and b is the interecept of function,we have to find the parameter a,b \n",
    "#### We have to find the formula wich give us the mesurments of errors depends on a and b J(a,b)  \n",
    "\n",
    "\n",
    "\n",
    "##### The most used Error function or so called Cost function  is  $J(a,b)= (y_ipredict-y_iactual)^2$\n",
    "##### Total cost function $\\frac{1}{2*n}\\sum_{n=1}^{n}{(y_ipredict-y_iactual)^2}$ \n",
    "\n",
    "\n",
    "##### why above    function is good ?\n",
    "##### 1) first because it give us the abosolute diference between predicted value and actual vaulu\n",
    "##### 2) the funcction is differentiable function in every point(in belowe we will se why this so importent)\n",
    "##### 3) !!! remember our purpose is to find where $\\sum_i{(y_ipredict-y_iactual)^2}$  get minimum value not what is this value"
   ]
  },
  {
   "cell_type": "markdown",
   "metadata": {},
   "source": [
    "##### in more detail written the function looks like this  \n",
    " $$\\frac{1}{2*n}\\sum_{n=1}^{n}{(y_ipredict-y_iactual)^2}=\\frac{1}{2*n}\\sum_{n=1}^{n}{(y_ipredict-a*x_i + b)^2} $$ "
   ]
  },
  {
   "cell_type": "markdown",
   "metadata": {},
   "source": [
    "\n"
   ]
  },
  {
   "cell_type": "code",
   "execution_count": 10,
   "metadata": {},
   "outputs": [],
   "source": [
    "def cost(a,b,x_args,y_actual_args):\n",
    "    \"\"\"\n",
    "    takes a_predict,b_predict predict value for a and b\n",
    "    takse x_args,y_actual_args actual values \n",
    "    return the the value of cost function\n",
    "    \"\"\"\n",
    "    \n",
    "    f = lambda x,a,b : a*x + b\n",
    "    y_actual = np.array(y_actual_args)\n",
    "  \n",
    "    y_predict = np.array([f(i,a,b) for i in x_args])\n",
    "#     print(y_predict.shape)\n",
    "#     print(y_actual.shape)\n",
    "    cost = (((y_predict-y_actual)**2).sum())/(2*len(x_args))\n",
    "    print('for a={} and b={} the cost function give result {}'.format(a,b,cost))\n",
    "    return cost\n",
    "    \n",
    "\n",
    "    \n"
   ]
  },
  {
   "cell_type": "code",
   "execution_count": null,
   "metadata": {},
   "outputs": [],
   "source": []
  },
  {
   "cell_type": "code",
   "execution_count": 9,
   "metadata": {},
   "outputs": [],
   "source": [
    "f = lambda x : 4*x -10 + np.random.uniform(0,4)\n",
    "x_args = np.linspace(0,10)\n",
    "y_args = [f(i) for i in x_args]\n",
    "#print(str(y_args))"
   ]
  },
  {
   "cell_type": "markdown",
   "metadata": {},
   "source": [
    "### lets to see the size of cost function in diferent a and b"
   ]
  },
  {
   "cell_type": "code",
   "execution_count": 11,
   "metadata": {},
   "outputs": [
    {
     "name": "stderr",
     "output_type": "stream",
     "text": [
      "No handles with labels found to put in legend.\n"
     ]
    },
    {
     "name": "stdout",
     "output_type": "stream",
     "text": [
      "for a=3 and b=4 the cost function give result 29.177609048367668\n"
     ]
    },
    {
     "data": {
      "image/png": "[encoded data removed]",
      "text/plain": [
       "<Figure size 432x288 with 1 Axes>"
      ]
     },
     "metadata": {
      "needs_background": "light"
     },
     "output_type": "display_data"
    }
   ],
   "source": [
    "a=3\n",
    "b=4\n",
    "value = cost(a,b,x_args,y_args)\n",
    "value=(str(value))\n",
    "plot_function(a,b,value)"
   ]
  },
  {
   "cell_type": "markdown",
   "metadata": {},
   "source": [
    "#### HERE  for a=3 and b=4 the total cost value is 29.177609048367668\n",
    "### !!! NOTE !!! We are not interested in how is the  size of lost function is big,out goal os to find for wich a,b this dunction has min value"
   ]
  },
  {
   "cell_type": "code",
   "execution_count": 12,
   "metadata": {},
   "outputs": [
    {
     "name": "stderr",
     "output_type": "stream",
     "text": [
      "No handles with labels found to put in legend.\n"
     ]
    },
    {
     "name": "stdout",
     "output_type": "stream",
     "text": [
      "for a=-4 and b=15 the cost function give result 419.16041935813445\n"
     ]
    },
    {
     "data": {
      "image/png": "[encoded data removed]",
      "text/plain": [
       "<Figure size 432x288 with 1 Axes>"
      ]
     },
     "metadata": {
      "needs_background": "light"
     },
     "output_type": "display_data"
    }
   ],
   "source": [
    "a=-4\n",
    "b=15\n",
    "value = cost(a,b,x_args,y_args)\n",
    "value=(str(value))\n",
    "plot_function(a,b,value)"
   ]
  },
  {
   "cell_type": "markdown",
   "metadata": {},
   "source": [
    "#### HERE We can see that the lost value 419.16041935813445 and times more bigger then above example ,and we can see that the function with a=-4 , b=15 modeling the data much worse"
   ]
  },
  {
   "cell_type": "code",
   "execution_count": 13,
   "metadata": {},
   "outputs": [
    {
     "name": "stderr",
     "output_type": "stream",
     "text": [
      "No handles with labels found to put in legend.\n"
     ]
    },
    {
     "name": "stdout",
     "output_type": "stream",
     "text": [
      "for a=4 and b=-10 the cost function give result 2.639475585137321\n"
     ]
    },
    {
     "data": {
      "image/png": "[encoded data removed]",
      "text/plain": [
       "<Figure size 432x288 with 1 Axes>"
      ]
     },
     "metadata": {
      "needs_background": "light"
     },
     "output_type": "display_data"
    }
   ],
   "source": [
    "a=4\n",
    "b=-10\n",
    "value = cost(a,b,x_args,y_args)\n",
    "value=(str(value))\n",
    "plot_function(a,b,value)"
   ]
  },
  {
   "cell_type": "markdown",
   "metadata": {},
   "source": [
    "####  When a=4 and b=-10  it seem that the function descrive the data verry well and the lost function has \n",
    "##### result 2.639475585137321 wich much less then the above examples, maybe this is a min value but we have to create the algorithm which will find the min value of J (a, b ) depends of a,b "
   ]
  },
  {
   "cell_type": "markdown",
   "metadata": {},
   "source": [
    "### In mathematical analisis has Rolle's Theorem ,which is used for finding the min of \n",
    "### function .The condition is when f'(x) = and f(x+e) - f(x) >0 then x has a local minum\n",
    "but we will use numerical appraoch for findimg minum called  <a href='https://github.com/Daodavid93/Machine-Learning-first-steps/blob/master/Regresion%20Model/gradient%20descent.ipynb'>GRADIENT DESCENT</a> .This method is explained \n",
    "Gradient Descent:\n",
    " The Lost function $J(a,b) = \\sum_{n=1}^{n}{(a*x_i + b - y_ipredict)^2}$\n",
    " alogoritms\n",
    " $$a = a - \\nabla_a(J(a,b)*h$$\n",
    "  $$b = b - \\nabla_b(J(a,b)*h$$\n",
    "##### where h is learning rate or step size\n",
    "$$\\nabla_a(J(a,b)=\\frac{\\partial{J}}{\\partial{a}}=\\frac{1}{n}\\sum_{n=1}^{n}*{(y_ipredict-a*x_i + b)*x_i} $$\n",
    "$$\\nabla_a(J(a,b)=\\frac{\\partial{J}}{\\partial{b}}=\\frac{1}{n}\\sum_{n=1}^{n}\\frac{1}{n}*{(y_ipredict-a*x_i + b)} $$\n"
   ]
  },
  {
   "cell_type": "code",
   "execution_count": 66,
   "metadata": {},
   "outputs": [],
   "source": [
    "def perform_gradient_descent(x_args , y_actual,learning_rate=0.01,init_a=10,init_b=10,iteration=5000,debug=False,return_result_array=False):\n",
    "    \"\"\"\n",
    "   \n",
    "    \"\"\"\n",
    "    a = init_a\n",
    "    b= init_b\n",
    "    a_args = []\n",
    "    b_args = []\n",
    "    x = np.array(x_args)\n",
    "    y = np.array(y_actual)\n",
    "    for i in range(iteration):\n",
    "        #gradient_a =((((np.array(y_actual) - (a*np.array(x_args)  +b))*x_args).sum())* (2/len(x_args))) \n",
    "        #gradient_b = (((np.array(y_actual) - (a*np.array(x_args)  +b)).sum())* (2/len(x_args)))\n",
    "        a_gradient = -2 / len(x_args) * np.sum(x * (y - (a * x + b)))\n",
    "        b_gradient = -2 / len(x_args) * np.sum(y - (a * x + b))\n",
    "        new_a = a - a_gradient*learning_rate\n",
    "        new_b = b - b_gradient*learning_rate\n",
    "        a_args.append(a)\n",
    "        b_args.append(b)\n",
    "        a = new_a\n",
    "        b=new_b\n",
    "        if debug :\n",
    "            print('a = {} , b = {}'.format(a,b))\n",
    "            print('grad a = {} , grad b = {}'.format(a_gradient,b_gradient))\n",
    "            \n",
    "    if return_result_array:\n",
    "        return x_args,a_args,b_args\n",
    "    else :\n",
    "        return a,b\n",
    "            \n",
    "    \n",
    "\n",
    "    \n",
    "    \n",
    "    \n",
    "    "
   ]
  },
  {
   "cell_type": "code",
   "execution_count": 67,
   "metadata": {},
   "outputs": [
    {
     "data": {
      "image/png": "[encoded data removed]",
      "text/plain": [
       "<Figure size 432x288 with 1 Axes>"
      ]
     },
     "metadata": {
      "needs_background": "light"
     },
     "output_type": "display_data"
    },
    {
     "data": {
      "text/plain": [
       "[<matplotlib.lines.Line2D at 0xd2dda92860>]"
      ]
     },
     "execution_count": 67,
     "metadata": {},
     "output_type": "execute_result"
    },
    {
     "data": {
      "image/png": "[encoded data removed]",
      "text/plain": [
       "<Figure size 432x288 with 1 Axes>"
      ]
     },
     "metadata": {
      "needs_background": "light"
     },
     "output_type": "display_data"
    }
   ],
   "source": [
    "x,a,b = perform_gradient_descent(x_args,y_args,return_result_array=True)\n",
    "plt.plot(a)\n",
    "plt.show()\n",
    "plt.plot(b)"
   ]
  },
  {
   "cell_type": "code",
   "execution_count": 68,
   "metadata": {},
   "outputs": [
    {
     "name": "stderr",
     "output_type": "stream",
     "text": [
      "No handles with labels found to put in legend.\n"
     ]
    },
    {
     "data": {
      "image/png": "[encoded data removed]",
      "text/plain": [
       "<Figure size 432x288 with 1 Axes>"
      ]
     },
     "metadata": {
      "needs_background": "light"
     },
     "output_type": "display_data"
    }
   ],
   "source": [
    "a,b = perform_gradient_descent(x_args,y_args)\n",
    "\n",
    "plot_function(a,b,value)"
   ]
  },
  {
   "cell_type": "markdown",
   "metadata": {},
   "source": [
    "### Our Model is super"
   ]
  },
  {
   "cell_type": "markdown",
   "metadata": {},
   "source": [
    "Lets to define class LinearRegression"
   ]
  },
  {
   "cell_type": "code",
   "execution_count": null,
   "metadata": {},
   "outputs": [],
   "source": [
    "\n",
    "class LinearRegression:\n",
    "    \"\"\"\n",
    "    Custom linear regression implementation\n",
    "    \n",
    "    \"\"\"\n",
    "    def __init__(self,learning_rate)\n",
    "        self.coef_=Nan # coefs a\n",
    "        self.intecept_=Nan # b  #y= ax+b\n",
    "        self_learning_rate =learning_rate # step of gradient decent minimazation\n",
    "        \n",
    "    def train(self,X_data,y_data,learning_rate=0.01):\n",
    "        \"\"\"\n",
    "        traing the linear model\n",
    "        \n",
    "        \"\"\"\n",
    "        self.x = X_data\n",
    "        self.y = y_data\n",
    "        \n",
    "        pass\n",
    "    def __perform_gradient(self):\n",
    "        \"\"\"\n",
    "        \"\"\"\n",
    "        pass\n",
    "    \n",
    "    def __lost(self):\n",
    "        pass\n",
    "    \n",
    "    def __cost(self):\n",
    "        pass\n",
    "    \n",
    "    "
   ]
  },
  {
   "cell_type": "markdown",
   "metadata": {},
   "source": []
  }
 ],
 "metadata": {
  "kernelspec": {
   "display_name": "Python 3",
   "language": "python",
   "name": "python3"
  },
  "language_info": {
   "codemirror_mode": {
    "name": "ipython",
    "version": 3
   },
   "file_extension": ".py",
   "mimetype": "text/x-python",
   "name": "python",
   "nbconvert_exporter": "python",
   "pygments_lexer": "ipython3",
   "version": "3.8.8"
  }
 },
 "nbformat": 4,
 "nbformat_minor": 2
}
