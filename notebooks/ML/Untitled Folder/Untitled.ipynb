{
 "cells": [
  {
   "cell_type": "markdown",
   "id": "b5b95b39",
   "metadata": {},
   "source": [
    "# Ensemble Learning"
   ]
  },
  {
   "cell_type": "markdown",
   "id": "9645a4e2",
   "metadata": {},
   "source": [
    "Ensemble learning is a general meta approach to ML that seeks better predictive performance by combing the predictions of multiple models. <br>\n",
    "Although there are a seemingly unlimited number of ensembles that you can develop for your predictive model, there are three methods that dominate the field of ensemble learning."
   ]
  },
  {
   "cell_type": "markdown",
   "id": "07aa69ce",
   "metadata": {},
   "source": [
    " The three main classes of ensemble learning are\n",
    "bagging ,stacking and boosting "
   ]
  },
  {
   "cell_type": "markdown",
   "id": "474f8b18",
   "metadata": {},
   "source": [
    "* Boostrap Aggregation or bagging for short,is an esemble method that seeks diverse gruop of ensemble memebers by varying of training data.\n",
    "* Each model gets unique sample of dataset\n",
    "* Bagging applies boostrap sampling to obtain differnt subsets of training data to traing different base learners."
   ]
  },
  {
   "cell_type": "code",
   "execution_count": null,
   "id": "9e1233fe",
   "metadata": {},
   "outputs": [],
   "source": []
  }
 ],
 "metadata": {
  "kernelspec": {
   "display_name": "Python 3",
   "language": "python",
   "name": "python3"
  },
  "language_info": {
   "codemirror_mode": {
    "name": "ipython",
    "version": 3
   },
   "file_extension": ".py",
   "mimetype": "text/x-python",
   "name": "python",
   "nbconvert_exporter": "python",
   "pygments_lexer": "ipython3",
   "version": "3.8.8"
  }
 },
 "nbformat": 4,
 "nbformat_minor": 5
}
