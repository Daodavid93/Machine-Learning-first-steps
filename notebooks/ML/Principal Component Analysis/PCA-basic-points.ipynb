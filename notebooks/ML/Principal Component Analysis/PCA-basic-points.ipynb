{
 "cells": [
  {
   "cell_type": "code",
   "execution_count": 1,
   "metadata": {},
   "outputs": [],
   "source": [
    "import warnings\n",
    "import datetime\n",
    "\n",
    "import numpy as np\n",
    "import matplotlib.pyplot as plt\n",
    "import pandas as pd\n",
    "import seaborn as sns\n",
    "\n",
    "from sklearn.model_selection import train_test_split\n",
    "from IPython.display import display, Markdown , Math \n",
    "\n",
    "sns.set()\n",
    "warnings.filterwarnings('ignore')"
   ]
  },
  {
   "cell_type": "code",
   "execution_count": 2,
   "metadata": {},
   "outputs": [],
   "source": [
    "def printmd(string): display(Markdown(string))\n",
    "def latex(out): printmd(f'{out}')  \n",
    "def pr(string): printmd('***{}***'.format(string))"
   ]
  },
  {
   "cell_type": "code",
   "execution_count": 1,
   "metadata": {},
   "outputs": [
    {
     "name": "stdout",
     "output_type": "stream",
     "text": [
      "das\n"
     ]
    }
   ],
   "source": [
    "def gradient_descent(X, y, W, b, step_size):\n",
    "    ''''\n",
    "    one iteration(Epoch) perform  gradient descent\n",
    "    \n",
    "     Parameters :\n",
    "    X : ndarray\n",
    "       train data\n",
    "    y : ndarray\n",
    "       target data\n",
    "    W : ndarray\n",
    "     weight matrix\n",
    "    b : ndarray\n",
    "      bias \n",
    "    step_size : float\n",
    "       gradient descent setting\n",
    "    \n",
    "    '''\n",
    "    P_y = softmax(X,W,b)-y\n",
    "    W = W - step_size*(P_y.T).dot(X)\n",
    "    b = b - step_size*np.sum(P_y, axis=0)\n",
    "    return W,b\n",
    "    \n",
    "\n",
    "def train(X , y, max_iter=300,learning_rate=0.1,innitial_value =1, debug_W=None):\n",
    "    '''\n",
    "    Train by softmax regression \n",
    "    \n",
    "    Parameters :\n",
    "    X : ndarray\n",
    "       train data\n",
    "    y : ndarray\n",
    "       target data\n",
    "    max_iter : int \n",
    "        number of epoch (iterations)\n",
    "        \n",
    "    debug_W : tuple \n",
    "       index of weight parameter for debugging\n",
    "    Returns \n",
    "       W, b : ndarray\n",
    "         weight and bias\n",
    "       in debug mode\n",
    "       W, b, k : ndarray\n",
    "          weight and bias and debugind parameter \n",
    "         \n",
    "       \n",
    "    '''\n",
    "    \n",
    "    if type(X) != np.ndarray or type(y) != np.ndarray: \n",
    "        raise ValueError('X and y must be ndarray')\n",
    "        \n",
    "    #init weight and bias\n",
    "    b = np.full((y.shape[1],),innitial_value)\n",
    "    W = np.full((y.shape[1], X.shape[1]), innitial_value)\n",
    "    \n",
    "    m = X.shape[0] \n",
    "    step_size = (1/m)*learning_rate\n",
    "    \n",
    "    if debug_W is not None: \n",
    "        debug_mode=True \n",
    "        debug = W[(debug_W)]\n",
    "    else :\n",
    "        debug_mode=False\n",
    "        \n",
    "    for i in range(max_iter):\n",
    "        W,b = gradient_descent(X , y, W, b,step_size)\n",
    "        if debug_mode: debug = np.append(debug, W[debug_W])   \n",
    "    \n",
    "    \n",
    "    if debug_mode: return W,b,debug\n",
    "        \n",
    "    return W,b"
   ]
  },
  {
   "cell_type": "markdown",
   "metadata": {},
   "source": [
    "<h1>\n",
    "   <font size=\"5\" face = \"Times New Roma\" color='#270336'>\n",
    "     Principle Component Analisys\n",
    "   </font> \n",
    " </h1>"
   ]
  },
  {
   "cell_type": "markdown",
   "metadata": {},
   "source": [
    "<h2>\n",
    "  <p>\n",
    "    <a href =   \"https://github.com/daodavid\" > \n",
    "       <img src=\"https://cdn.thenewstack.io/media/2014/12/github-octocat.png\" align=\"left\" width=\"120\"  alt=\"daodavid\" >\n",
    "    </a>\n",
    "    <font face = \"Times New Roma\" size=\"4\"  color='#270336'>\n",
    "        author: daodeiv (David Stankov) \n",
    "    </font>\n",
    "</p>      \n",
    "</h2>   "
   ]
  },
  {
   "cell_type": "markdown",
   "metadata": {},
   "source": [
    "<h6>\n",
    "  <font size=\"4\" face = \"Times New Roma\" color='#3f134f' > \n",
    "    <ul style=\"margin-left: 30px\">\n",
    "      <li><a href='#abstract'>Abstract </a> </li> <br>\n",
    "      <li><a href='#introduction'>Introduction </a> </li><br>\n",
    "      <li><a href='#deff_softmax'>Softmaxt definition and  how it works?</a> </li><br>\n",
    "      <li><a href='#cross_entropy'>Cross-entropy Loss</a> </li><br>  \n",
    "      <li><a href='#optimization'>Optimization of softmax by Cross-entropy Loss and derivation of Gradient descent formula </a> </li><br>\n",
    "       <li><a href='#gradient'>Implementation of Gradient descent algorithm </a> </li><br> \n",
    "      <li><a href='#reg'>Regularization of gradient descent by learning rate and max iterations</a> </li><br>     \n",
    "       <li><a href='#conclusion'>Conclusion</a> </li><br>  \n",
    "        \n",
    "</ul>    \n",
    " </font>\n",
    "  </h6>"
   ]
  },
  {
   "cell_type": "markdown",
   "metadata": {},
   "source": [
    "<font size=\"1\" id=\"abstract\">... </font> \n",
    "<h2 face = \"Times New Roma\" color='#270336' >&nbsp; Abstract</h2>\n",
    "<br>\n",
    "<font face = \"Times New Roma\" size=\"4.5\"  color='#270336' style=\"margin-right: 45px; margin-left: 45px\" >\n",
    "  &nbsp;&nbsp;&nbsp;&nbsp; &nbsp;&nbsp;&nbsp;&nbsp; </font> <br>"
   ]
  },
  {
   "cell_type": "markdown",
   "metadata": {},
   "source": [
    "<font size=\"1\" id=\"introduction\">... </font> \n",
    "<h2 face = \"Times New Roma\" color='#270336' >&nbsp; Introduction</h2>\n",
    "<br>\n",
    "<font face = \"Times New Roma\" size=\"4.5\"  color='#270336' style=\"margin-right: 45px; margin-left: 45px\" >\n",
    "  &nbsp;&nbsp;&nbsp;&nbsp; &nbsp;&nbsp;&nbsp;&nbsp; Blaa bla\n",
    "</font> <br>"
   ]
  },
  {
   "cell_type": "markdown",
   "metadata": {},
   "source": [
    "<font size=\"1\" id=\"s\">... </font> \n",
    "<h2 face = \"Times New Roma\" color='#270336' >&nbsp; Which is the most appropriate basis ?</h2>\n",
    "<br>\n",
    "<font face = \"Times New Roma\" size=\"4.5\"  color='#270336' style=\"margin-right: 45px; margin-left: 45px\" >\n",
    "  &nbsp;&nbsp;&nbsp;&nbsp; &nbsp;&nbsp;&nbsp;&nbsp;\n",
    "    $\\prime$\n",
    "</font> <br>"
   ]
  },
  {
   "cell_type": "code",
   "execution_count": 7,
   "metadata": {
    "scrolled": true
   },
   "outputs": [],
   "source": [
    "f = lambda x : 2*x + np.random.uniform(-1.5,1.5)\n",
    "x = np.linspace(-1.5,1.5)\n",
    "y = [f(i) for i in x]"
   ]
  },
  {
   "cell_type": "code",
   "execution_count": 93,
   "metadata": {},
   "outputs": [
    {
     "data": {
      "text/plain": [
       "Text(0, 4, '$\\\\vec e_2$')"
      ]
     },
     "execution_count": 93,
     "metadata": {},
     "output_type": "execute_result"
    },
    {
     "data": {
      "image/png": "[encoded data removed]",
      "text/plain": [
       "<Figure size 432x288 with 1 Axes>"
      ]
     },
     "metadata": {},
     "output_type": "display_data"
    }
   ],
   "source": [
    "## fig = plt.figure(figsize=(10,10))\n",
    "ax = plt.axes()\n",
    "plt.xlim(-4,4)\n",
    "plt.ylim(-4,4)\n",
    "ax.set_aspect('equal')\n",
    "ax.scatter(x,y)\n",
    "ax.arrow(0, 0, -1, -2, head_width=0.05, head_length=0.1, fc='k', ec='k')\n",
    "ax.arrow(0, 0, -2, 1, head_width=0.05, head_length=0.1, fc='k', ec='k')\n",
    "plt.text( -2.0, -2.2,r'$\\vec e_1^{\\prime}$',fontsize=20)\n",
    "plt.text( -2, 1,r'$\\vec e_2^{\\prime}$',fontsize=20)\n",
    "ax.arrow(0, 0, 4, 0, head_width=0.05, head_length=0.1, fc='k', ec='k')\n",
    "ax.arrow(0, 0, 0, 4, head_width=0.05, head_length=0.1, fc='k', ec='k')\n",
    "plt.text( 4, 0,r'$\\vec e_1$',fontsize=20)\n",
    "plt.text(0, 4,r'$\\vec e_2$',fontsize=20)\n",
    "#https://hadrienj.github.io/posts/Deep-Learning-Book-Series-2.7-Eigendecomposition/"
   ]
  },
  {
   "cell_type": "code",
   "execution_count": null,
   "metadata": {},
   "outputs": [],
   "source": []
  },
  {
   "cell_type": "markdown",
   "metadata": {},
   "source": [
    "<p  class=\"improten\"> Consider the following data.Each point(vector) here is represented using a linear combination of  $\\vec e_1$ and  $\\vec e_1$ axes  wich is written as $X_i=x_{i1}\\vec e_1 +x_{i2}\\vec e_2 $ ,here $.\\vec e_i$ are the basic and $x_{i1},x_{i2}$ are co-cordinates.What of we choose a diferent basis.For example if we choose $\\vec e_i^{\\prime}$ instead $.\\vec e_i$.We observe that every point has a very small component in $\\vec e_2^{\\prime}$ direction,maybe it is just a noice .It seems that the data which was originally represented in $.\\vec e_i$ basis will be better represented in $\\vec i^{\\prime}$ basic, indeed it could be represented only in $\\vec e_1^{\\prime}$.Let's try stating this more formally.Why do not care about $\\vec e_2^{\\prime}$?. Because the variance in data in this direction is very small,this means all data have almost the same values in the $\\vec e_2^{\\prime}$ direction.If we were to build a classfier on the this data then the data on $\\vec e_2^{\\prime}$ would not contribute to the classifier as the point are not distinguishable along\n",
    "this direction.In general, we are interested in representing the data using fewer dimensions such that the data has high variance along these dimensions.\n",
    " </p>"
   ]
  },
  {
   "cell_type": "markdown",
   "metadata": {},
   "source": [
    "The dimensions are linearly independent (uncorrelated) (even better if they are orthogonal because that is a very convenient basis)\n"
   ]
  },
  {
   "cell_type": "markdown",
   "metadata": {},
   "source": [
    " !!!!Explanation of covariance matrix and why it gives the need measurments!!!!\n",
    " bla bla \n",
    " bla bla\n",
    " Scaled mean value = 0"
   ]
  },
  {
   "cell_type": "markdown",
   "metadata": {},
   "source": [
    "$$1)\\Sigma = \\frac{1}{m}X^T.X$$ <br>\n",
    "Ideally our main pupose of PCA is to find the basis in which  the covariance $$\\Sigma =\\begin{bmatrix} \\sigma_{11} & \\sigma_{12} \\\\ \\sigma_{21} & \\sigma_{22}   \\end{bmatrix} =\\begin{bmatrix} \\sigma_{11} &  0 \\\\ 0 & \\sigma_{22}   \\end{bmatrix} $$ and  $\\sigma_{11},\\sigma_{21}>0$ IN other words $\\Sigma$ must be diagonal matrix"
   ]
  },
  {
   "cell_type": "markdown",
   "metadata": {},
   "source": [
    "Let's investigate how the covariance is changing on different bases. <br>\n",
    "Every data point is represent as $$2)\\vec X_j = x_{ji}\\vec e_{i}$$  or \n",
    "$$X_j=  \\begin{bmatrix} x_{j1} & x_{j2}   \\end{bmatrix}  \\begin{bmatrix} e_{1}  \\\\ e_{2}   \\end{bmatrix}$$\n",
    "<br>\n",
    "and the $e_{1}$ and $e_{3}$ can be represented in  $e_{1}^{\\prime},e_{1}^{\\prime}$\n",
    "$$\\begin{bmatrix} e_{1}  \\\\ e_{2}   \\end{bmatrix} = \\begin{bmatrix} T_{11} &  T_{12} \\\\ T_{21} & T_{22}   \\end{bmatrix}$$\n",
    "or  \\br $$2)\\vec e_{i} = T_{ik}\\vec e_{k}^{\\prime}  $$ where T is the transformation matrix in one basis to another"
   ]
  },
  {
   "cell_type": "markdown",
   "metadata": {},
   "source": [
    "if we apply eq(2) to eq(1) we will get the new cordinate in basis $\\vec e_{j}^{\\prime}$  <br> \n",
    "$\\vec X_j =x_{ji}\\vec e_{i} =x_{ji}T_{ik}\\vec e_{k}^{\\prime} =x^{\\prime}_{jk}\\vec e_{k}  $ \n",
    "$$4)x^{\\prime}_{jk} = x_{ji}T_{ik}$$\n",
    "eq new cordinates in new basis\n",
    "or $$5)X^{\\prime} = X.T$$"
   ]
  },
  {
   "cell_type": "markdown",
   "metadata": {},
   "source": [
    "The covariance matrix for new cordinates $X^{\\prime}$ will be  <br>\n",
    "$C^{\\prime}= \\Sigma^{\\prime} = \\frac{1}{m}X^{\\prime T}X^{\\prime} $ <br> <br>\n",
    "$C^{\\prime}= \\Sigma^{\\prime} =  \\frac{1}{m}(X.T)^TXT $ <br>\n",
    "$C^{\\prime}= \\Sigma^{\\prime} = \\frac{1}{m} (T)^TX^TXT $ (by applying (AB)^T = B^TA^T and eq(1)) <br>\n",
    "$6)C^{\\prime}= \\Sigma^{\\prime}=T^T\\Sigma T$ the law of convesation of covariance matrix"
   ]
  },
  {
   "cell_type": "markdown",
   "metadata": {},
   "source": [
    "as mention above our pupose is $\\Sigma^{\\prime}$ to be diagonal.\n",
    "\n",
    "knowing that   $\\Sigma$ can be eigen decomposed as $\\Sigma = U\\Lambda U^T$  where $\\Lambda$ is diagonal matrix and $U$ eigen vectors and applying to 6) we get : <br>\n",
    "  $\\Sigma^{\\prime} = T^T\\Sigma T = T U\\Lambda U^T.T $ if we choose our orthogonal matrix $T = U^T$ this means that $T.U^T=E=1$  we will get exatly what we want : <br>\n",
    "  $\\Sigma^{\\prime} = T U\\Lambda U^T.T = E.\\Lambda.E = \\Lambda$ <br>\n",
    "  The above considering is the main gives that the our covariance matrix must be euqal to eigvenvalue diagonal matrix,and the most appropiriative basic is eiegen basis. \n",
    "   "
   ]
  },
  {
   "cell_type": "markdown",
   "metadata": {},
   "source": [
    "let's apply above facts to our data\n"
   ]
  },
  {
   "cell_type": "code",
   "execution_count": 45,
   "metadata": {},
   "outputs": [
    {
     "data": {
      "text/plain": [
       "array([[-1.5       , -2.8850222 ],\n",
       "       [-1.43877551, -2.41285382],\n",
       "       [-1.37755102, -1.31989769],\n",
       "       [-1.31632653, -2.76772317],\n",
       "       [-1.25510204, -3.44863901],\n",
       "       [-1.19387755, -3.50003451],\n",
       "       [-1.13265306, -2.77711483],\n",
       "       [-1.07142857, -0.79915043],\n",
       "       [-1.01020408, -2.01649353],\n",
       "       [-0.94897959, -0.72913282],\n",
       "       [-0.8877551 , -2.15257028],\n",
       "       [-0.82653061, -0.6879188 ],\n",
       "       [-0.76530612, -2.91389697],\n",
       "       [-0.70408163, -0.1407721 ],\n",
       "       [-0.64285714, -0.85628685],\n",
       "       [-0.58163265, -0.83623655],\n",
       "       [-0.52040816, -2.16653893],\n",
       "       [-0.45918367, -2.06818216],\n",
       "       [-0.39795918, -1.37318955],\n",
       "       [-0.33673469, -1.39677765],\n",
       "       [-0.2755102 , -1.91384179],\n",
       "       [-0.21428571, -1.57473632],\n",
       "       [-0.15306122, -0.6939318 ],\n",
       "       [-0.09183673,  0.0837148 ],\n",
       "       [-0.03061224,  1.06173495],\n",
       "       [ 0.03061224,  0.27523682],\n",
       "       [ 0.09183673, -0.77871305],\n",
       "       [ 0.15306122,  0.23983549],\n",
       "       [ 0.21428571,  0.37082976],\n",
       "       [ 0.2755102 ,  1.03439324],\n",
       "       [ 0.33673469,  0.78175305],\n",
       "       [ 0.39795918,  0.05524255],\n",
       "       [ 0.45918367,  0.08131899],\n",
       "       [ 0.52040816,  0.61340192],\n",
       "       [ 0.58163265,  0.26519638],\n",
       "       [ 0.64285714,  1.69211061],\n",
       "       [ 0.70408163,  1.69169037],\n",
       "       [ 0.76530612,  1.41826664],\n",
       "       [ 0.82653061,  2.04703167],\n",
       "       [ 0.8877551 ,  2.11699621],\n",
       "       [ 0.94897959,  0.97225334],\n",
       "       [ 1.01020408,  2.75796825],\n",
       "       [ 1.07142857,  1.60443009],\n",
       "       [ 1.13265306,  2.25648866],\n",
       "       [ 1.19387755,  1.5053186 ],\n",
       "       [ 1.25510204,  2.71743416],\n",
       "       [ 1.31632653,  1.19776542],\n",
       "       [ 1.37755102,  2.36822923],\n",
       "       [ 1.43877551,  3.06655449],\n",
       "       [ 1.5       ,  2.94165987]])"
      ]
     },
     "execution_count": 45,
     "metadata": {},
     "output_type": "execute_result"
    }
   ],
   "source": [
    "data = np.array([x,y]).T\n",
    "data"
   ]
  },
  {
   "cell_type": "code",
   "execution_count": 46,
   "metadata": {},
   "outputs": [
    {
     "data": {
      "text/plain": [
       "array([[0.79654311, 1.49578079],\n",
       "       [1.49578079, 3.38101099]])"
      ]
     },
     "execution_count": 46,
     "metadata": {},
     "output_type": "execute_result"
    }
   ],
   "source": [
    "cov = np.cov(data.T)\n",
    "cov"
   ]
  },
  {
   "cell_type": "code",
   "execution_count": 53,
   "metadata": {},
   "outputs": [
    {
     "data": {
      "text/plain": [
       "array([[0.78061224, 1.46586517],\n",
       "       [1.46586517, 3.33295047]])"
      ]
     },
     "execution_count": 53,
     "metadata": {},
     "output_type": "execute_result"
    }
   ],
   "source": [
    "#cov = 1/len(data[:,0])*(data.T.dot(T))\n",
    "1/len(data[:,0])*data.T.dot(data)"
   ]
  },
  {
   "cell_type": "code",
   "execution_count": 95,
   "metadata": {},
   "outputs": [],
   "source": [
    "values,vectors = np.linalg.eig(cov)\n",
    "vectors = vectors.T"
   ]
  },
  {
   "cell_type": "code",
   "execution_count": 63,
   "metadata": {},
   "outputs": [],
   "source": [
    "lambdas = np.diag(np.sort(values,axis=0))"
   ]
  },
  {
   "cell_type": "code",
   "execution_count": 68,
   "metadata": {},
   "outputs": [
    {
     "data": {
      "text/plain": [
       "array([4.06544817, 0.11210592])"
      ]
     },
     "execution_count": 68,
     "metadata": {},
     "output_type": "execute_result"
    }
   ],
   "source": [
    "np.flip(values)"
   ]
  },
  {
   "cell_type": "code",
   "execution_count": 97,
   "metadata": {
    "scrolled": true
   },
   "outputs": [
    {
     "data": {
      "text/plain": [
       "Text(0, 4, '$\\\\vec e_2$')"
      ]
     },
     "execution_count": 97,
     "metadata": {},
     "output_type": "execute_result"
    },
    {
     "data": {
      "image/png": "[encoded data removed]",
      "text/plain": [
       "<Figure size 432x288 with 1 Axes>"
      ]
     },
     "metadata": {},
     "output_type": "display_data"
    }
   ],
   "source": [
    "\n",
    "ax = plt.axes()\n",
    "plt.xlim(-4,4)\n",
    "plt.ylim(-4,4)\n",
    "ax.set_aspect('equal')\n",
    "ax.scatter(x,y)\n",
    "#ax.arrow(0, 0, 1, 2, head_width=0.05, head_length=0.1, fc='k', ec='k')\n",
    "#ax.arrow(0, 0, -2, 1, head_width=0.05, head_length=0.1, fc='k', ec='k')\n",
    "plt.text( 1.1, 2.1,r'$\\vec e_1^{\\prime}$',fontsize=20)\n",
    "plt.text( -2, 1,r'$\\vec e_2^{\\prime}$',fontsize=20)\n",
    "ax.arrow(0, 0, vectors[0,0],vectors[0,1], head_width=0.05, head_length=0.1, fc='k', ec='k')\n",
    "ax.arrow(0, 0, values[1]*vectors[1,0],values[1]*vectors[1,1], head_width=0.05, head_length=0.1, fc='k', ec='k')\n",
    "#ax.arrow(0, 0, 0, 4, head_width=0.05, head_length=0.1, fc='k', ec='k')\n",
    "plt.text( 4, 0,r'$\\vec e_1$',fontsize=20)\n",
    "plt.text(0, 4,r'$\\vec e_2$',fontsize=20)\n"
   ]
  },
  {
   "cell_type": "markdown",
   "metadata": {},
   "source": [
    "we find the basis"
   ]
  }
 ],
 "metadata": {
  "kernelspec": {
   "display_name": "Python 3",
   "language": "python",
   "name": "python3"
  },
  "language_info": {
   "codemirror_mode": {
    "name": "ipython",
    "version": 3
   },
   "file_extension": ".py",
   "mimetype": "text/x-python",
   "name": "python",
   "nbconvert_exporter": "python",
   "pygments_lexer": "ipython3",
   "version": "3.8.8"
  }
 },
 "nbformat": 4,
 "nbformat_minor": 4
}
