{
 "cells": [
  {
   "cell_type": "code",
   "execution_count": 1,
   "id": "3c28e33b",
   "metadata": {},
   "outputs": [],
   "source": [
    "%matplotlib inline\n",
    "import numpy as np\n",
    "import matplotlib.pyplot as plt\n",
    "\n",
    "from sklearn.preprocessing import StandardScaler"
   ]
  },
  {
   "cell_type": "code",
   "execution_count": 2,
   "id": "363894fb",
   "metadata": {},
   "outputs": [],
   "source": [
    "x = np.random.normal(0, 1, 500)\n",
    "y = np.random.normal(0, 1, 500)\n",
    "X = np.vstack((x, y)).T"
   ]
  },
  {
   "cell_type": "code",
   "execution_count": 18,
   "id": "d8f6bb8e",
   "metadata": {},
   "outputs": [],
   "source": [
    "X = np.array([ [1,3,4],\n",
    "               [3,5,5],\n",
    "               [4,5,3]])\n",
    "\n",
    "cov = np.cov(X.T)"
   ]
  },
  {
   "cell_type": "code",
   "execution_count": 19,
   "id": "a5e20e6e",
   "metadata": {},
   "outputs": [
    {
     "name": "stdout",
     "output_type": "stream",
     "text": [
      "eigen values :  [2.21177243e-16 1.03162505e+00 3.63504161e+00]\n",
      "eigen vectors stacked V : \n",
      "[[-0.59628479 -0.05960415 -0.80055717]\n",
      " [ 0.74535599  0.32925926 -0.57968335]\n",
      " [-0.2981424   0.94235645  0.15190598]]\n"
     ]
    }
   ],
   "source": [
    "eigen_values , V = np.linalg.eigh(cov)\n",
    "print(\"eigen values : \" , eigen_values.T)\n",
    "print(\"eigen vectors stacked V : \" )\n",
    "print(V)"
   ]
  },
  {
   "cell_type": "code",
   "execution_count": 35,
   "id": "012c2460",
   "metadata": {},
   "outputs": [
    {
     "name": "stdout",
     "output_type": "stream",
     "text": [
      "[0 1 2]\n",
      "[0 1 2]\n"
     ]
    },
    {
     "data": {
      "text/plain": [
       "array([[-0.80055717, -0.05960415, -0.59628479],\n",
       "       [-0.57968335,  0.32925926,  0.74535599],\n",
       "       [ 0.15190598,  0.94235645, -0.2981424 ]])"
      ]
     },
     "execution_count": 35,
     "metadata": {},
     "output_type": "execute_result"
    }
   ],
   "source": [
    "w , v = np.linalg.eigh(cov)  #eigenvalues and eigenvectors of a real symmetric or complex Hermitian (conjugate symmetric) array.\n",
    "\n",
    "idx = np.argsort(w)\n",
    "print(idx)\n",
    "idx = idx[:w.size]\n",
    "print(idx)\n",
    "w = w[idx]\n",
    "v = v[:,idx]\n",
    "np.flip(v, axis=1)"
   ]
  },
  {
   "cell_type": "code",
   "execution_count": 16,
   "id": "9091dc2f",
   "metadata": {},
   "outputs": [
    {
     "ename": "TypeError",
     "evalue": "_flip_dispatcher() got an unexpected keyword argument 'axis'",
     "output_type": "error",
     "traceback": [
      "\u001b[1;31m---------------------------------------------------------------------------\u001b[0m",
      "\u001b[1;31mTypeError\u001b[0m                                 Traceback (most recent call last)",
      "\u001b[1;32m<ipython-input-16-dda024b272e0>\u001b[0m in \u001b[0;36m<module>\u001b[1;34m\u001b[0m\n\u001b[1;32m----> 1\u001b[1;33m \u001b[0mnp\u001b[0m\u001b[1;33m.\u001b[0m\u001b[0mflipud\u001b[0m\u001b[1;33m(\u001b[0m\u001b[0mV\u001b[0m\u001b[1;33m,\u001b[0m\u001b[0maxis\u001b[0m\u001b[1;33m=\u001b[0m\u001b[1;36m1\u001b[0m\u001b[1;33m)\u001b[0m\u001b[1;33m\u001b[0m\u001b[1;33m\u001b[0m\u001b[0m\n\u001b[0m",
      "\u001b[1;32m<__array_function__ internals>\u001b[0m in \u001b[0;36mflipud\u001b[1;34m(*args, **kwargs)\u001b[0m\n",
      "\u001b[1;31mTypeError\u001b[0m: _flip_dispatcher() got an unexpected keyword argument 'axis'"
     ]
    }
   ],
   "source": [
    "np.flipud(V,axis=1)"
   ]
  }
 ],
 "metadata": {
  "kernelspec": {
   "display_name": "Python 3",
   "language": "python",
   "name": "python3"
  },
  "language_info": {
   "codemirror_mode": {
    "name": "ipython",
    "version": 3
   },
   "file_extension": ".py",
   "mimetype": "text/x-python",
   "name": "python",
   "nbconvert_exporter": "python",
   "pygments_lexer": "ipython3",
   "version": "3.8.8"
  }
 },
 "nbformat": 4,
 "nbformat_minor": 5
}
