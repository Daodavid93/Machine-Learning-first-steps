{
 "cells": [
  {
   "cell_type": "markdown",
   "id": "a62dc496",
   "metadata": {},
   "source": [
    "<ul> \n",
    "    <li> <a href ='https://towardsdatascience.com/principal-component-analysis-part-1-the-different-formulations-6508f63a5553'>Principal Component Analysis Part 1: The Different Formulations.</a> </li>\n",
    "    <li> <a href='https://medium.com/analytics-vidhya/mathematics-behind-principal-component-analysis-pca-1cdff0a808a9'>The Mathematics Behind Principal Component Analysis </a> </li>\n",
    "    <li><a href='https://www.cs.princeton.edu/picasso/mats/PCA-Tutorial-Intuition_jp.pdf'>A TUTORIAL ON PRINCIPAL COMPONENT ANALYSIS</a></li>\n",
    "    <li><a href='http://www.math.union.edu/~jaureguj/PCA.pdf'>Principal component analysis with linear algebra</a></li>\n",
    "    <li><a href='https://intoli.com/blog/pca-and-svd/'>SVD and PCA </a> </li>\n",
    "   <li> <a href='http://www.math.ucsd.edu/~gptesler/283/slides/pca_18-handout.pdf'>Principal Components Analysis (PCA)\n",
    "        and Singular Value Decomposition (SVD) with applications to Microarrays</a> </li>\n",
    "   <li><a href='https://towardsdatascience.com/singular-value-decomposition-and-its-applications-in-principal-component-analysis-5b7a5f08d0bd'>Singular Value Decomposition and its applications in Principal Component Analysis</a> </li>\n",
    "    \n",
    "    \n",
    "     https://datascienceplus.com/understanding-the-covariance-matrix/"
   ]
  },
  {
   "cell_type": "code",
   "execution_count": 5,
   "id": "358cd1ab",
   "metadata": {},
   "outputs": [],
   "source": [
    "%matplotlib inline\n",
    "import numpy as np\n",
    "import matplotlib.pyplot as plt\n",
    "\n",
    "from sklearn.preprocessing import StandardScaler\n",
    "\n",
    "# plt.style.use('ggplot')\n",
    "# plt.rcParams['figure.figsize'] = (12, 8)"
   ]
  },
  {
   "cell_type": "markdown",
   "id": "ef525a5b",
   "metadata": {},
   "source": [
    "<h1> Principle component analysis </h1> "
   ]
  },
  {
   "cell_type": "markdown",
   "id": "c22e5863",
   "metadata": {},
   "source": [
    "$$S = Cov(X, Y ) = \\sigma(X, Y) = \\frac{1}{n-1}\\sum_{i=1}^n(x_i - \\bar{x})(y_i - \\bar{y})$$"
   ]
  },
  {
   "cell_type": "markdown",
   "id": "bd19db42",
   "metadata": {},
   "source": [
    "<h2>Math behind PCA </h2>"
   ]
  },
  {
   "cell_type": "markdown",
   "id": "be2ce813",
   "metadata": {},
   "source": [
    "Mathematicaly,the goal of PCA is to find a collection of $k<d$ unit vectors $\\vec v_i \\in R^d $ called <mark> Principle Components </mark> ,such that: \n",
    "<ul>\n",
    "    <li> The variance of dataset projected onto the direction determined by  $\\vec v_i$ is maximized </li> \n",
    "      <li>Also $\\vec v_i$ is chosen to be orthogonal  $< \\vec v_i|\\vec v_j>= \\delta_{ij}$ </li>"
   ]
  },
  {
   "cell_type": "markdown",
   "id": "bf60de84",
   "metadata": {},
   "source": [
    "The of vector $x_i$ onto $v_i$ is given by as dot product $v_i^Tx$.This means that the variance of the dataset projected on the first principle $v_1$ can be written as : <br>\n",
    "$$\\frac{1}{n-1} \\sum^n_{i=1}(v_1^Tx_i - v_1^T)^2 = v_1^TSv_1 $$ <br>\n"
   ]
  },
  {
   "cell_type": "markdown",
   "id": "49506d98",
   "metadata": {},
   "source": [
    "To actually find $v_1$ we have to maximize this quantity, subject to the additional constraint that $|v|=1$.  Solving this optimization problem using the method of <mark> Lagrange multipliers </mark> turns out to imply that : \n",
    "$$ Sv_1 = \\gamma_1 v_1 $$\n",
    "which just means that $v_1$ is an eigenvector of covariance matrix $S$\n",
    "In fact, since  $|v| =   v_1^T.v_1=1$ we also conclude that the corresponding eigenvalue is exactly equal to the variance of the dataset along $v_1$ i.e.,"
   ]
  },
  {
   "cell_type": "markdown",
   "id": "e2fef9fc",
   "metadata": {},
   "source": [
    "$$v_1^TSv_1= \\gamma_1 $$"
   ]
  },
  {
   "cell_type": "markdown",
   "id": "2d0963ab",
   "metadata": {},
   "source": [
    "You can continue this process by projecting the data onto a new direction $v_2$ while enforcing the additional constraint that $v_1⊥v_2$ and so on.The end result is that the first $k$ principal components of  X correspond exactly to the eigenvectors of the covariance matrix $S$ ordered by their eigenvalues. Moreover, the eigenvalues are exactly equal to the variance of the dataset along the corresponding eigenvectors.\n"
   ]
  },
  {
   "cell_type": "markdown",
   "id": "9be0b1a1",
   "metadata": {},
   "source": [
    "You may have noticed that this result suggests that there exists a full set of orthonormal eigenvectors for $S$ over  $R$ ."
   ]
  },
  {
   "cell_type": "markdown",
   "id": "9ce3f07f",
   "metadata": {},
   "source": [
    "Indeed, since $S$ is a real symmetric matrix, meaning that $S= S^T$\n",
    ", the <mark>Real Spectral Theorem</mark> implies exactly that. This is a non-trivial result which we will make use of later in the article, so let’s expand on it a little bit. Consider the case of $k=d<n$. Taking \n",
    "$k=d$ principal components may seem like a strange choice if our purpose is to understand $X$ through a lower dimensional subspace, but doing so allows us to construct a $d\\times d$  matrix $V$ whose columns are the eigenvectors of $S$  and which therefore diagnoalizes $S$ i.e.,"
   ]
  },
  {
   "cell_type": "markdown",
   "id": "a2b55fb8",
   "metadata": {},
   "source": [
    "$$ S  = V \\Lambda V^T = \\sum_{i=1}^r\\lambda_iv_i v_i^T$$\n",
    "whre $\\Lambda V diag(\\lambda_1,.., \\lambda_d)$ and $r = rank(X)$\n",
    "In other words, the principal components are the columns of a rotation matrix and form the axes of a new basis which can be thought of as “aligning” with the dataset $X$ . Of course, this image works best when \n",
    "$X$ is blobby or looks approximately normal."
   ]
  },
  {
   "cell_type": "markdown",
   "id": "685e76c3",
   "metadata": {},
   "source": [
    "<img src='https://miro.medium.com/max/462/1*QALwLkPJG45E7_DsOccdaw.png'/>"
   ]
  },
  {
   "cell_type": "markdown",
   "id": "f60ea1ab",
   "metadata": {},
   "source": [
    "<h1> Eigenvectors and eigenvalues </h1>"
   ]
  },
  {
   "cell_type": "markdown",
   "id": "282f2410",
   "metadata": {},
   "source": [
    "The multiplication of the matrix with vector gives another vector, that is a Linear Transformation, geometrically that is a  transformation. The transformation can produce scaled or rotating of the vector or the both."
   ]
  },
  {
   "cell_type": "markdown",
   "id": "031fced8",
   "metadata": {},
   "source": [
    "<img src='https://upload.wikimedia.org/wikipedia/commons/thumb/a/ad/Eigenvectors-extended.gif/300px-Eigenvectors-extended.gif'/>"
   ]
  },
  {
   "cell_type": "markdown",
   "id": "9627daa7",
   "metadata": {},
   "source": [
    "The above illustration shows the transformation. We are interested in the vectors in blue because only they are stretched (scaled)   after transformation.their direction does not change. Mathematically that is expressed as : \n",
    "<br> <br>\n",
    "$$ A\\vec v_{blue} = \\lambda \\vec v_{blue}$$ \n",
    "<br>\n",
    "These vectors as $\\vec v_{blue}$ after applying transformation $A$ their direction does not change. Such vectors are called  eigenvectors with coresponding $\\lambda$ eigenvalue."
   ]
  },
  {
   "cell_type": "markdown",
   "id": "b8afa6ff",
   "metadata": {},
   "source": [
    "The vector space spanned by an eigenvector is called an <mark> eigenspace </mark>. The vector space spanned by an eigenvector is called an eigenspace. "
   ]
  },
  {
   "cell_type": "markdown",
   "id": "412749d2",
   "metadata": {},
   "source": [
    "<h2> Diagonalizable matrix. Eigendecomposition. Deffinion and Example </h2>"
   ]
  },
  {
   "cell_type": "markdown",
   "id": "bdd91048",
   "metadata": {},
   "source": [
    "An $n×n$-matrix $A$ is said to be diagonalizable if it can be written on the form\n",
    "<br> <br>\n",
    "$$A=V\\Lambda V^{-1}$$ \n",
    "<br> \n",
    "where $\\Lambda$ is a diagonal $n×n$ matrix with the eigenvalues of $A$ as its entries and $P$ is a nonsingular $n×n$ matrix consisting of the eigenvectors corresponding to the eigenvalues in $D$.<br>\n",
    "The diagonalization theorem states that an $n×n$ matrix $A$ is diagonalizable if and only if $A$ has $n$ linearly independent eigenvectors, i.e., if the matrix rank of the matrix formed by the eigenvectors is n. Matrix diagonalization (and most other forms of matrix decomposition) are particularly useful when studying linear transformations, discrete dynamical systems, continuous systems, and so on."
   ]
  },
  {
   "cell_type": "markdown",
   "id": "1b4257a9",
   "metadata": {},
   "source": [
    "Let consider the matrix $ A = \\begin{bmatrix} \n",
    " 1 & 2 &  0 \\\\\n",
    " 0 & 3  & 0  \\\\\n",
    " 2 & -4  & 2   \\\\\n",
    "\\end{bmatrix} $. <br> <br> The matrix $A$ has eigenvalues $\\lambda_2=3$,$\\lambda_2= 3$,$\\lambda_3=1$.$A$ is a $3\\times3$ different eigenvalues therefore, it is diagonalizable.<br>\n",
    "Note that if there are exactly $n$ distinct eigenvalues in an $n×n$ matrix then this matrix is diagonalizable.These eigenvalues are the values that will appear in the diagonalized form of matrix , so by finding the\n",
    "eigenvalues of we have diagonalized it. We could stop here, but it is a good check to use the eigenvectors\n",
    "to diagonalize .\n",
    "The eigenvectors of $A$ are :"
   ]
  },
  {
   "cell_type": "markdown",
   "id": "16919b24",
   "metadata": {},
   "source": [
    " $$ \\vec v_1 = \\begin{bmatrix} \n",
    " -1  \\\\\n",
    " -1  \\\\\n",
    " 2   \\\\\n",
    "\\end{bmatrix} ,\n",
    " \\vec v_1 = \\begin{bmatrix} \n",
    " 0  \\\\\n",
    " 0  \\\\\n",
    " 1   \\\\\n",
    "\\end{bmatrix} , \\vec v_1 = \\begin{bmatrix} \n",
    " -1  \\\\\n",
    " 0  \\\\\n",
    " 2   \\\\\n",
    "\\end{bmatrix} $$ ."
   ]
  },
  {
   "cell_type": "markdown",
   "id": "c128b51a",
   "metadata": {},
   "source": [
    "One can easily check that : $ A\\vec v_i = \\lambda \\vec v_i$ "
   ]
  },
  {
   "cell_type": "markdown",
   "id": "e5abb5ad",
   "metadata": {},
   "source": [
    "Now, let $V$ be the matrix stacked with these eigenvectors as its columns:\n",
    "$$ A = \\begin{bmatrix} \n",
    " -1 & 0 &  -1 \\\\\n",
    " -1 & 0  & 0   \\\\\n",
    " 2 & 1  & 2   \\\\\n",
    "\\end{bmatrix}  $$"
   ]
  },
  {
   "cell_type": "markdown",
   "id": "53778c9b",
   "metadata": {},
   "source": [
    "Note there is no preferred order of the eigenvectors in P; changing the order of the eigenvectors in P just\n",
    "changes the order of the eigenvalues in the diagonalized form of A"
   ]
  },
  {
   "cell_type": "markdown",
   "id": "f501437d",
   "metadata": {},
   "source": [
    "Note there is no preferred order of the eigenvectors in $V$; changing the order of the eigenvectors in $V$ just\n",
    "changes the order of the eigenvalues in the diagonalized form of $A$."
   ]
  },
  {
   "cell_type": "markdown",
   "id": "faa8089d",
   "metadata": {},
   "source": [
    "Then $V$ diagonalizes A, as a simple computation confirms, having calculated $V^{ -1}$ using any suitable method: <br> <br>\n",
    "$V^{ -1}AV^{ 1} = \\begin{bmatrix} \n",
    " 0 & -1 &  0 \\\\\n",
    " 2 & 0  & 1   \\\\\n",
    " -1 & 1  & 0   \\\\\n",
    "\\end{bmatrix}   \\begin{bmatrix} \n",
    " 1 & 2 &  0 \\\\\n",
    " 0 & 3  & 0  \\\\\n",
    " 2 & -4  & 2   \\\\\n",
    "\\end{bmatrix}  \\begin{bmatrix} \n",
    " -1 & 0 &  -1 \\\\\n",
    " -1 & 0  & 0   \\\\\n",
    " 2 & 1  & 2   \\\\\n",
    "\\end{bmatrix} = \\begin{bmatrix} \n",
    " 3 & 0 &  0 \\\\\n",
    " 0 & 2  & 0   \\\\\n",
    " 0 & 0  & 1   \\\\\n",
    "\\end{bmatrix} $ <br> <br>\n",
    "Note that the eigenvalues $\\lambda_i$ appear in the diagonal matrix"
   ]
  },
  {
   "cell_type": "markdown",
   "id": "7493e675",
   "metadata": {},
   "source": [
    "by simple operation we can obtain formula for diagonalize <br> <br> $V^{ -1}AV^{ 1}= \\Lambda$  <br>\n",
    "$ V V^{ -1}AV^{ 1} =  V \\Lambda   $ $\\scriptsize  \\; multiply \\; left\\; sizes \\; by \\; V$  <br>\n",
    "$ AV^{ 1}= V \\Lambda   $  $\\scriptsize  \\; multiply \\; right\\; sizes \\; by \\; V ^{-1}$<br>\n",
    "$ AV^{ 1}V^{ -1}= V \\Lambda V^{ -1}  $ <br>\n",
    "$ A = V \\Lambda V^{ -1}  $"
   ]
  },
  {
   "cell_type": "markdown",
   "id": "ae8caeb9",
   "metadata": {},
   "source": [
    "For <mark>symetric matrix</mark> $A = A^T $ \n"
   ]
  },
  {
   "cell_type": "markdown",
   "id": "383d9883",
   "metadata": {},
   "source": [
    "Properties of <mark> symmetric matrices </mark>\n",
    "I Recall that a matrix $A ∈ R^{n×n}$ is symmetric if $A^T = A$. <br> <br>\n",
    "I For real symmetric matrices we have the following two\n",
    "crucial properties:\n",
    "<ul>\n",
    "    <li> All eigenvalues of a real symmetric matrix are real.</li>\n",
    "<li>  Eigenvectors corresponding to distinct eigenvalues are\n",
    "orthogonal</li>\n",
    " </ul> <br> <br>\n",
    " The orthogonality ff Eigenvectors can be expressed as : <br>\n",
    " \n",
    " $V.V^T=1$ since $V.V^{-1}=1$  then  $V^T=V^{-1}$ <br>\n",
    " according to above if the matrix $A$ is symtrix its diagonalizable form can be written :  <br> <br>\n",
    " $$ A = V \\Lambda V^{T}  $$\n",
    " "
   ]
  },
  {
   "cell_type": "markdown",
   "id": "f97b131e",
   "metadata": {},
   "source": [
    "<h2> NumPy example of  matrix diagonalization  </h2>  "
   ]
  },
  {
   "cell_type": "code",
   "execution_count": 322,
   "id": "f93fb4b4",
   "metadata": {},
   "outputs": [
    {
     "name": "stdout",
     "output_type": "stream",
     "text": [
      "eigen values :  [ 4.54138127 -1.54138127]\n",
      "eigen vectors stacked V : \n",
      "[[ 0.76301998 -0.6463749 ]\n",
      " [ 0.6463749   0.76301998]]\n"
     ]
    }
   ],
   "source": [
    "A = np.array([[2,3],[3,1]])\n",
    "eigen_values , V = np.linalg.eig(A)\n",
    "print(\"eigen values : \" , eigen_values.T)\n",
    "print(\"eigen vectors stacked V : \" )\n",
    "print(V)"
   ]
  },
  {
   "cell_type": "code",
   "execution_count": 319,
   "id": "82962b34",
   "metadata": {},
   "outputs": [
    {
     "data": {
      "text/plain": [
       "array([[ 4.54138127,  0.        ],\n",
       "       [ 0.        , -1.54138127]])"
      ]
     },
     "execution_count": 319,
     "metadata": {},
     "output_type": "execute_result"
    }
   ],
   "source": [
    "Lambda = np.diag(eigen_values, k=0) #diagonal matrix Lambda\n",
    "Lambda"
   ]
  },
  {
   "cell_type": "code",
   "execution_count": 321,
   "id": "a9435681",
   "metadata": {},
   "outputs": [
    {
     "data": {
      "text/plain": [
       "array([[2., 3.],\n",
       "       [3., 1.]])"
      ]
     },
     "execution_count": 321,
     "metadata": {},
     "output_type": "execute_result"
    }
   ],
   "source": [
    "V.dot(Lambda).dot(V.T) # V.Lambda.V^T"
   ]
  },
  {
   "cell_type": "markdown",
   "id": "481d6cdc",
   "metadata": {},
   "source": [
    "<h2> Singular Value Decomposition </h2>"
   ]
  },
  {
   "cell_type": "markdown",
   "id": "f595a703",
   "metadata": {},
   "source": [
    "Diagonalizing a matrix is called in common as Eigendecomposition of a Matrix.Diagonalizing a matrix is called in common as Eigendecomposition of a Matrix.However, this eigendecomposition is limited to a certain set of matrices. The actual motivation for Singular Value Decomposition arises from the drawbacks of eigendecomposition:\n",
    "<ul>\n",
    "    <li>The concept of eigenvalues is only applicable to square matices. </li>\n",
    "    <li>The concept of eigenvalues is only applicable to square matices. </li>\n",
    "<ul>    "
   ]
  },
  {
   "cell_type": "markdown",
   "id": "98b989ce",
   "metadata": {},
   "source": [
    "To overcome the challenges from eigendecomposition of a matrix, the need of more generic representation of any matrices arises and that’s where Singular Value Decomposition comes into play.Let $A$ be any rectangular matrix of shape $(m x n)$ . We can show that both AᵀA and AAᵀ are symmetric square matrices of shapes $(n x n)$ and $(m x m)$ respectively using the axiom <mark> $(AB)^T = B^TA^T$ </mark> . <br> <br>\n",
    "$$(A^TA) = A^T(A^T)^T = A^TA$$ <br>\n",
    "$$(AA^T)^T = (A^T)^T(A^T) = AA^T$$"
   ]
  },
  {
   "cell_type": "markdown",
   "id": "2e2eb219",
   "metadata": {},
   "source": [
    "Moreover, it also can be shown that both $AᵀA$ and $AAᵀ$ share the same non-zero eigenvalues. If one has more eigenvalues than the other, all of the excess eigenvalues should be zero."
   ]
  },
  {
   "cell_type": "markdown",
   "id": "54831a9a",
   "metadata": {},
   "source": [
    "Let $A^TAv=\\lambda v$ $\\scriptsize  \\; multiply \\;both \\; sizes \\; by \\; A$ <br> <br>\n",
    " $AA^TAv=\\lambda A v$ \n",
    "\n"
   ]
  },
  {
   "cell_type": "markdown",
   "id": "158cbd75",
   "metadata": {},
   "source": [
    "According to the othogonally diagonalizable property of symmetric matrices that we've saw, the matrices $AᵀA$ and $AAᵀ$ can be decomposed as following : <br> <br> \n",
    "$$A^TA = V\\Lambda V^T $$ <br>\n",
    "$$AA^T = U\\Lambda U^T $$"
   ]
  },
  {
   "cell_type": "code",
   "execution_count": null,
   "id": "97f37939",
   "metadata": {},
   "outputs": [],
   "source": []
  },
  {
   "cell_type": "code",
   "execution_count": 302,
   "id": "0034fd2e",
   "metadata": {},
   "outputs": [
    {
     "data": {
      "text/plain": [
       "<matplotlib.collections.PathCollection at 0x46d917eb20>"
      ]
     },
     "execution_count": 302,
     "metadata": {},
     "output_type": "execute_result"
    },
    {
     "data": {
      "image/png": "[encoded data removed]",
      "text/plain": [
       "<Figure size 432x288 with 1 Axes>"
      ]
     },
     "metadata": {
      "needs_background": "light"
     },
     "output_type": "display_data"
    }
   ],
   "source": [
    "#alpha = (np.linspace(0,360,num=20)/360)*2*np.pi\n",
    "alpha = (np.random.randint(0,360,size=50))/360*2*np.pi\n",
    "r = np.linspace(0,2,num=25)\n",
    "r = np.random.normal(scale=2.0,size=35)\n",
    "x= np.multiply.outer(np.sin(alpha), r).flatten()\n",
    "y= np.multiply.outer(np.cos(alpha),r).flatten()\n",
    "X = np.vstack((x,y)).T\n",
    "Tranform = np.array([[1.5,1.2] ,[1.2,1.8]])\n",
    "X_t =X.dot(Tranform) \n",
    "plt.axis('equal')\n",
    "plt.scatter(X[:, 0], X[:, 1],color='blue',s=10)\n",
    "plt.scatter(X_t[:, 0], X_t[:, 1],color='cyan',s=10)"
   ]
  },
  {
   "cell_type": "markdown",
   "id": "cdde2b39",
   "metadata": {},
   "source": [
    "<h2>Singular Value Decomposition </h2>"
   ]
  },
  {
   "cell_type": "code",
   "execution_count": 238,
   "id": "41aaeffd",
   "metadata": {},
   "outputs": [
    {
     "data": {
      "text/plain": [
       "<matplotlib.patches.FancyArrow at 0x46da8604c0>"
      ]
     },
     "execution_count": 238,
     "metadata": {},
     "output_type": "execute_result"
    },
    {
     "data": {
      "image/png": "[encoded data removed]",
      "text/plain": [
       "<Figure size 432x288 with 1 Axes>"
      ]
     },
     "metadata": {
      "needs_background": "light"
     },
     "output_type": "display_data"
    }
   ],
   "source": [
    "#generate data \n",
    "\n",
    "plt.scatter(X[:, 0], X[:, 1],color='cyan',s=4)\n",
    "#\n",
    "ax = plt.gca()\n",
    "#plt.scatter(x,y,color='b')\n",
    "#np.linalg.eig(X)\n",
    "ax.arrow(0,0,0,2, head_width=0.1, head_length=0.1, fc='black', ec='black')\n",
    "ax.arrow(0,0,2,0, head_width=0.1, head_length=0.1, fc='black', ec='black')"
   ]
  },
  {
   "cell_type": "code",
   "execution_count": 239,
   "id": "5351539c",
   "metadata": {
    "scrolled": true
   },
   "outputs": [
    {
     "data": {
      "image/png": "[encoded data removed]",
      "text/plain": [
       "<Figure size 432x288 with 1 Axes>"
      ]
     },
     "metadata": {
      "needs_background": "light"
     },
     "output_type": "display_data"
    },
    {
     "data": {
      "text/plain": [
       "4.919349550499537"
      ]
     },
     "execution_count": 239,
     "metadata": {},
     "output_type": "execute_result"
    }
   ],
   "source": [
    "Tranform = np.array([[9,4] ,[4,3]])\n",
    "X_t =X.dot(Tranform)   \n",
    "plt.scatter(X_t[:, 0], X_t[:, 1],color='cyan',s=4)\n",
    "plt.axis('equal')\n",
    "#e_v,e_vect = np.linalg.eig(np.cov(Tranform))\n",
    "e_v,e_vect = np.linalg.eig(Tranform)\n",
    "#e_vect = e_vect*100\n",
    "ax = plt.gca()\n",
    "#ax.arrow(0,0,e_v[0]*e_vect[0,0],e_v[1]*e_vect[1,0], head_width=1, head_length=1, fc='black', ec='black')\n",
    "#ax.arrow(0,0,e_v[1]*e_vect[0,1],e_v[1]*e_vect[1,1], head_width=1, head_length=1, fc='black', ec='black')\n",
    "ax.arrow(0,0,e_v[0]*e_vect[0,0],e_v[0]*e_vect[1,0], head_width=1, head_length=1, fc='black', ec='black')\n",
    "ax.arrow(0,0,e_v[1]*e_vect[0,1],e_v[1]*e_vect[1,1], head_width=1, head_length=1, fc='black', ec='black')\n",
    "#ax.arrow(0,0,100,70, head_width=1, head_length=1, fc='black', ec='black')\n",
    "plt.show()\n",
    "\n",
    "e_v[0]*e_vect[1,0]"
   ]
  },
  {
   "cell_type": "code",
   "execution_count": null,
   "id": "4a5ebd3c",
   "metadata": {},
   "outputs": [],
   "source": [
    "# L = np.array([[1,0]\n",
    "#             ,[0,2]])\n",
    "# theta =(1/4)*np.pi\n",
    "# c, s = np.cos(theta), np.sin(theta)\n",
    "# Rot = np.array([[c, -s], [s, c]])\n",
    "# Tranform = L.dot(Rot)"
   ]
  },
  {
   "cell_type": "markdown",
   "id": "eca4d808",
   "metadata": {},
   "source": [
    "The singular value decomposition of matrix A is factorization of A into the product of three matrices $A = UDV^T$ where the columns of U and V are orthonormal.We will show that from the singular value decomposition of $A$, we can get the matrix B of rank k which best approximates $A$  in fact we can do this for every k . Also, singular value decomposition is defined for all matrices (rectangular or square)\n",
    "unlike the more commonly used spectral decomposition in Linear Algebra.The reader\n",
    "familiar with eigenvectors and eigenvalues (we do not assume familiarity here) will also\n",
    "realize that we need conditions on the matrix to ensure orthogonality of eigenvectors.The reader\n",
    "familiar with eigenvectors and eigenvalues (we do not assume familiarity here) will also\n",
    "realize that we need conditions on the matrix to ensure orthogonality of eigenvectors"
   ]
  },
  {
   "cell_type": "markdown",
   "id": "d082ada9",
   "metadata": {},
   "source": []
  },
  {
   "cell_type": "markdown",
   "id": "1a5e467b",
   "metadata": {},
   "source": [
    " $$ \\vec v_1 = \\begin{bmatrix} \n",
    " -1  \\\\\n",
    " -1  \\\\\n",
    " 2   \\\\\n",
    "\\end{bmatrix} ,\n",
    " \\vec v_1 = \\begin{bmatrix} \n",
    " 0  \\\\\n",
    " 0  \\\\\n",
    " 1   \\\\\n",
    "\\end{bmatrix} , \\vec v_1 = \\begin{bmatrix} \n",
    " -1  \\\\\n",
    " 0  \\\\\n",
    " 2   \\\\\n",
    "\\end{bmatrix} $$ ."
   ]
  },
  {
   "cell_type": "markdown",
   "id": "5f69e613",
   "metadata": {},
   "source": [
    "<h1> Eigen vectors and eigen values </h1>"
   ]
  },
  {
   "cell_type": "code",
   "execution_count": null,
   "id": "e3206953",
   "metadata": {},
   "outputs": [],
   "source": []
  }
 ],
 "metadata": {
  "kernelspec": {
   "display_name": "Python 3",
   "language": "python",
   "name": "python3"
  },
  "language_info": {
   "codemirror_mode": {
    "name": "ipython",
    "version": 3
   },
   "file_extension": ".py",
   "mimetype": "text/x-python",
   "name": "python",
   "nbconvert_exporter": "python",
   "pygments_lexer": "ipython3",
   "version": "3.8.8"
  }
 },
 "nbformat": 4,
 "nbformat_minor": 5
}
