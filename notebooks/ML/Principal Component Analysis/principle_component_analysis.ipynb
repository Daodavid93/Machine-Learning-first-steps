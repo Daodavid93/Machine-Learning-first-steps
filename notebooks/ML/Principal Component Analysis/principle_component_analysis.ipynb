{
 "cells": [
  {
   "cell_type": "code",
   "execution_count": 1,
   "id": "8efb2be5",
   "metadata": {},
   "outputs": [],
   "source": [
    "%matplotlib inline\n",
    "import numpy as np\n",
    "import matplotlib.pyplot as plt\n",
    "\n",
    "from sklearn.preprocessing import StandardScaler"
   ]
  },
  {
   "cell_type": "code",
   "execution_count": null,
   "id": "f5fa7cef",
   "metadata": {},
   "outputs": [],
   "source": []
  },
  {
   "cell_type": "markdown",
   "id": "5b0986de",
   "metadata": {},
   "source": [
    "<h2 id='intro'>Introduction </h2>"
   ]
  },
  {
   "cell_type": "markdown",
   "id": "99e7f3af",
   "metadata": {},
   "source": [
    "Principal Component Analysis, or PCA, is a well-known and widely used technique applicable to a wide variety of applications such as dimensionality reduction, data compression, feature extraction, and visualization.\n",
    "\n",
    "\n",
    "Reducing the number of variables of a data set naturally comes at the expense of accuracy, but the trick in dimensionality reduction is to trade a little accuracy for simplicity. Because smaller data sets are easier to explore and visualize and make analyzing data much easier and faster for machine learning algorithms without extraneous variables to process.\n",
    "\n",
    "So to sum up, the idea of PCA is simple — reduce the number of variables of a data set, while preserving as much information as possible.\n",
    "The eigenvectors and eigenvalues of a covariance (or correlation) matrix represent the 'core' of a PCA.We'll investigate that fact."
   ]
  },
  {
   "cell_type": "markdown",
   "id": "cbf62c0c",
   "metadata": {},
   "source": [
    "<h2 id='cov'>Covariance Matrix </h2>"
   ]
  },
  {
   "cell_type": "markdown",
   "id": "22875146",
   "metadata": {},
   "source": [
    "<img src=\"https://www.statisticshowto.com/wp-content/uploads/2013/12/g-covariance.gif\" alt=\"Italian Trulli\">\n",
    "Covariance is a measure of how much two random variables vary together. It’s similar to variance, but where variance tells you how a single variable varies, co variance tells you how two variables vary together.\n",
    "Covariance can be positive, zero, or negative.\n",
    "Positive indicates that there’s an overall tendency\n",
    "that when one variable increases, so doe the other,\n",
    "while negative indicates an overall tendency that\n",
    "when one increases the other decreases.\n",
    "If X and Y are independent variables, then their\n",
    "covariance is 0.The converse, however, is not always true.\n",
    "Cov(X, Y ) can be 0 for variables that are not independent.\n",
    "The covariance between two ranodom variable X,Y is given by :\n",
    "  $$Cov(X, Y ) = \\sigma(X, Y) = \\frac{1}{n-1}\\sum_{i=1}^n(x_i - \\bar{x})(y_i - \\bar{y})$$\n",
    "  where $n$ is the number of samples and $\\bar{x}$  is the mean of the random variable $x$"
   ]
  },
  {
   "cell_type": "markdown",
   "id": "eebc36cb",
   "metadata": {},
   "source": [
    "For dataset $X$ where $X \\in R^{n\\times d}$ $n$ samples and $d$ features.The covariance matrix can be expressed\n",
    "$$C= \\frac{1}{n-1}(X_i - \\bar{X})(X_i - \\bar{X})^T $$"
   ]
  },
  {
   "cell_type": "markdown",
   "id": "10d5f1d0",
   "metadata": {},
   "source": [
    "If the mean $\\bar{X}$ of dataset is $0$ then we can rewrite :<br>\n",
    "$$ C = \\Sigma = \\frac{X^TX}{n-1}$$\n",
    "<br>For this reason in future wee always will perform recentering of data,just shifiting the elements :"
   ]
  },
  {
   "cell_type": "markdown",
   "id": "e680f8dc",
   "metadata": {},
   "source": [
    "<h2 id='eigen'> Eigenvectors and eigenvalues </h2>"
   ]
  },
  {
   "cell_type": "markdown",
   "id": "48c61c30",
   "metadata": {},
   "source": [
    "The multiplication of the matrix with vector gives another vector, that is a Linear Transformation, geometrically that is a  transformation. The transformation can produce scaled or rotating of the vector or the both.\n",
    "<img src='https://upload.wikimedia.org/wikipedia/commons/thumb/a/ad/Eigenvectors-extended.gif/300px-Eigenvectors-extended.gif'/>"
   ]
  },
  {
   "cell_type": "markdown",
   "id": "e88ebeae",
   "metadata": {},
   "source": [
    "The above illustration shows the transformation. We are interested in the vectors in blue because only they are stretched (scaled)  after transformation .Mathematically that is expressed as : \n",
    "<br> <br>\n",
    "$$ A\\vec v_{blue} = \\lambda \\vec v_{blue}$$ \n",
    "<br>\n",
    "These vectors as $\\vec v_{blue}$ after applying transformation $A$ their direction does not change. Such vectors are called  eigenvectors with coresponding $\\lambda$ eigenvalue. The vector space spanned by an eigenvector is called an eigenspace. "
   ]
  },
  {
   "cell_type": "markdown",
   "id": "925dc3d9",
   "metadata": {},
   "source": [
    "<h2 id='Diagonalizable'> Diagonalizable matrix. Eigendecomposition. Deffinion and Example </h2>"
   ]
  },
  {
   "cell_type": "markdown",
   "id": "88688c98",
   "metadata": {},
   "source": [
    "An $n×n$-matrix $A$ is said to be diagonalizable if it can be written on the form\n",
    "<br> <br>\n",
    "$$A=V\\Lambda V^{-1}$$ \n",
    "<br> \n",
    "where $\\Lambda$ is a diagonal $n×n$ matrix with the eigenvalues of $A$ as its entries and $P$ is a nonsingular $n×n$ matrix consisting of the eigenvectors corresponding to the eigenvalues in $D$.<br>\n",
    "The diagonalization theorem states that an $n×n$ matrix $A$ is diagonalizable if and only if $A$ has $n$ linearly independent eigenvectors, i.e., if the matrix rank of the matrix formed by the eigenvectors is n. Matrix diagonalization (and most other forms of matrix decomposition) are particularly useful when studying linear transformations, discrete dynamical systems, continuous systems, and so on."
   ]
  },
  {
   "cell_type": "markdown",
   "id": "f595b0fb",
   "metadata": {},
   "source": [
    "Let consider the matrix $ A = \\begin{bmatrix} \n",
    " 1 & 2 &  0 \\\\\n",
    " 0 & 3  & 0  \\\\\n",
    " 2 & -4  & 2   \\\\\n",
    "\\end{bmatrix} $. <br> <br> The matrix $A$ has eigenvalues $\\lambda_2=3$,$\\lambda_2= 3$,$\\lambda_3=1$.$A$ is a $3\\times3$ different eigenvalues therefore, it is diagonalizable.<br>\n",
    "Note that if there are exactly $n$ distinct eigenvalues in an $n×n$ matrix then this matrix is diagonalizable.These eigenvalues are the values that will appear in the diagonalized form of matrix , so by finding the\n",
    "eigenvalues of we have diagonalized it. We could stop here, but it is a good check to use the eigenvectors\n",
    "to diagonalize .\n",
    "The eigenvectors of $A$ are :"
   ]
  },
  {
   "cell_type": "markdown",
   "id": "bc72ff91",
   "metadata": {},
   "source": [
    " $$ \\vec v_1 = \\begin{bmatrix} \n",
    " -1  \\\\\n",
    " -1  \\\\\n",
    " 2   \\\\\n",
    "\\end{bmatrix} ,\n",
    " \\vec v_1 = \\begin{bmatrix} \n",
    " 0  \\\\\n",
    " 0  \\\\\n",
    " 1   \\\\\n",
    "\\end{bmatrix} , \\vec v_1 = \\begin{bmatrix} \n",
    " -1  \\\\\n",
    " 0  \\\\\n",
    " 2   \\\\\n",
    "\\end{bmatrix} $$ .\n",
    "One can easily check that : $ A\\vec v_i = \\lambda \\vec v_i$ "
   ]
  },
  {
   "cell_type": "markdown",
   "id": "0de710ce",
   "metadata": {},
   "source": [
    "Note there is no preferred order of the eigenvectors in P; changing the order of the eigenvectors in P just\n",
    "changes the order of the eigenvalues in the diagonalized form of A <br>\n"
   ]
  },
  {
   "cell_type": "markdown",
   "id": "b8204270",
   "metadata": {},
   "source": [
    "Then $V$ diagonalizes A, as a simple computation confirms, having calculated $V^{ -1}$ using any suitable method: <br> <br>\n",
    "$V^{ -1}AV^{ 1} = \\begin{bmatrix} \n",
    " 0 & -1 &  0 \\\\\n",
    " 2 & 0  & 1   \\\\\n",
    " -1 & 1  & 0   \\\\\n",
    "\\end{bmatrix}   \\begin{bmatrix} \n",
    " 1 & 2 &  0 \\\\\n",
    " 0 & 3  & 0  \\\\\n",
    " 2 & -4  & 2   \\\\\n",
    "\\end{bmatrix}  \\begin{bmatrix} \n",
    " -1 & 0 &  -1 \\\\\n",
    " -1 & 0  & 0   \\\\\n",
    " 2 & 1  & 2   \\\\\n",
    "\\end{bmatrix} = \\begin{bmatrix} \n",
    " 3 & 0 &  0 \\\\\n",
    " 0 & 2  & 0   \\\\\n",
    " 0 & 0  & 1   \\\\\n",
    "\\end{bmatrix} $ <br> <br>\n",
    "Note that the eigenvalues $\\lambda_i$ appear in the diagonal matrix"
   ]
  },
  {
   "cell_type": "markdown",
   "id": "6c4fd4ca",
   "metadata": {},
   "source": [
    "by simple operation we can obtain formula for diagonalize <br> <br> $V^{ -1}AV^{ 1}= \\Lambda$  <br>\n",
    "$ V V^{ -1}AV^{ 1} =  V \\Lambda   $ $\\scriptsize  \\; multiply \\; left\\; sizes \\; by \\; V$  <br>\n",
    "$ AV^{ 1}= V \\Lambda   $  $\\scriptsize  \\; multiply \\; right\\; sizes \\; by \\; V ^{-1}$<br>\n",
    "$ AV^{ 1}V^{ -1}= V \\Lambda V^{ -1}  $ <br>\n",
    "$ A = V \\Lambda V^{ -1}  $"
   ]
  },
  {
   "cell_type": "markdown",
   "id": "d6ca8d98",
   "metadata": {},
   "source": [
    "Properties of <mark> symmetric matrices </mark>\n",
    "I Recall that a matrix $A ∈ R^{n×n}$ is symmetric if $A^T = A$. <br> <br>\n",
    "I For real symmetric matrices we have the following two\n",
    "crucial properties:\n",
    "<ul>\n",
    "    <li> <mark> All eigenvalues of a real symmetric matrix are real. </mark></li>\n",
    "<li> <mark> Eigenvectors corresponding to distinct eigenvalues are\n",
    "orthogonal </mark></li>\n",
    " </ul> <br> <br>\n",
    " The orthogonality of Eigenvectors can be expressed as : <br>\n",
    " $V.V^T=1$ since $V.V^{-1}=1$  then  $V^T=V^{-1}$ <br>\n",
    " according to above if the matrix $A$ is symtrix its diagonalizable form can be written :  <br> <br>\n",
    " $$ A = V \\Lambda V^{T}  $$"
   ]
  },
  {
   "cell_type": "markdown",
   "id": "cbd0f5f5",
   "metadata": {},
   "source": [
    "<h2 id='np_diag'> NumPy example of  matrix diagonalization  </h2>  "
   ]
  },
  {
   "cell_type": "markdown",
   "id": "c03f055c",
   "metadata": {},
   "source": [
    "Get eigenvalues and vectors from matrix"
   ]
  },
  {
   "cell_type": "code",
   "execution_count": 2,
   "id": "be0ab8c9",
   "metadata": {},
   "outputs": [
    {
     "name": "stdout",
     "output_type": "stream",
     "text": [
      "eigen values :  [ 4.54138127 -1.54138127]\n",
      "eigen vectors stacked V : \n",
      "[[ 0.76301998 -0.6463749 ]\n",
      " [ 0.6463749   0.76301998]]\n"
     ]
    }
   ],
   "source": [
    "A = np.array([[2,3],[3,1]])\n",
    "eigen_values , V = np.linalg.eig(A)\n",
    "print(\"eigen values : \" , eigen_values.T)\n",
    "print(\"eigen vectors stacked V : \" )\n",
    "print(V)"
   ]
  },
  {
   "cell_type": "markdown",
   "id": "a0e25631",
   "metadata": {},
   "source": [
    "Making diagonal matrix consist eigenvalues"
   ]
  },
  {
   "cell_type": "code",
   "execution_count": 4,
   "id": "dd2e4295",
   "metadata": {},
   "outputs": [
    {
     "data": {
      "text/plain": [
       "array([[ 4.54138127,  0.        ],\n",
       "       [ 0.        , -1.54138127]])"
      ]
     },
     "execution_count": 4,
     "metadata": {},
     "output_type": "execute_result"
    }
   ],
   "source": [
    "Lambda = np.diag(eigen_values, k=0) #diagonal matrix Lambda\n",
    "Lambda"
   ]
  },
  {
   "cell_type": "code",
   "execution_count": 5,
   "id": "2a2534c2",
   "metadata": {},
   "outputs": [
    {
     "data": {
      "text/plain": [
       "array([[2., 3.],\n",
       "       [3., 1.]])"
      ]
     },
     "execution_count": 5,
     "metadata": {},
     "output_type": "execute_result"
    }
   ],
   "source": [
    "V.dot(Lambda).dot(V.T)"
   ]
  },
  {
   "cell_type": "markdown",
   "id": "4c437601",
   "metadata": {},
   "source": [
    "<h2>Why eigenvectors of covariance matrix are Principle Cоomponent.Maximum variance formulation</h2> "
   ]
  },
  {
   "cell_type": "code",
   "execution_count": 47,
   "id": "209b4de1",
   "metadata": {},
   "outputs": [
    {
     "data": {
      "text/plain": [
       "Text(0, 3.5, '$\\\\vec e_2$')"
      ]
     },
     "execution_count": 47,
     "metadata": {},
     "output_type": "execute_result"
    },
    {
     "data": {
      "image/png": "[encoded data removed]",
      "text/plain": [
       "<Figure size 720x720 with 1 Axes>"
      ]
     },
     "metadata": {
      "needs_background": "light"
     },
     "output_type": "display_data"
    }
   ],
   "source": [
    "x = np.random.normal(0, 1, 500)\n",
    "y = np.random.normal(0, 1, 500)\n",
    "X = np.vstack((x, y)).T\n",
    "S = np.array([[2,3],\n",
    "              [1,0.3]])\n",
    "X = S.dot(X.T).T\n",
    "#X =  StandardScaler().fit(X).transform(X) ##centering of data\n",
    "plt.scatter(X[:, 0], X[:, 1],color='b')\n",
    "ax = plt.gca()\n",
    "ax.arrow(0,0,1,0, head_width=0.1, head_length=1, fc='red', ec='red')\n",
    "#ax.arrow(0,0,e_v[1]*e_vect[0,1],e_v[1]*e_vect[1,1], head_width=1, head_length=1, fc='black', ec='black')\n",
    "ax.spines['top'].set_color('none')\n",
    "ax.spines['bottom'].set_position('zero')\n",
    "ax.spines['left'].set_position('zero')\n",
    "ax.spines['right'].set_color('none')\n",
    "plt.text(10,-0.5,r'$\\vec e_1$',size=25,color='r')\n",
    "plt.text(0,3.5,r'$\\vec e_2$',size=25,color='r')\n"
   ]
  },
  {
   "cell_type": "markdown",
   "id": "d4b408bc",
   "metadata": {},
   "source": [
    "Let above data will be our dataset $X$ where every point $x_i = x_{i1}\\vec e_1 +  x_{i2} \\vec e_2$ where $<\\vec e_1|\\vec e_2> = \\delta_{ij}$ (orthormal coordinate).The of PCA is to find the cordinate system the new vectors $e_i'$ called Principle Component for wich the data has a maxixmum variace.<img src='https://miro.medium.com/max/462/1*QALwLkPJG45E7_DsOccdaw.png'/> "
   ]
  },
  {
   "cell_type": "markdown",
   "id": "d27db63a",
   "metadata": {},
   "source": [
    "Mathematicaly,the goal of PCA is to find a collection of $k<d$ unit vectors $\\vec u_i \\in R^d $ called <mark> Principle Components </mark> ,such that: \n",
    "<ul>\n",
    "    <li> The variance of dataset projected onto the direction determined by  $\\vec u_i$ is maximized </li> \n",
    "      <li>Also $\\vec u_i$ is chosen to be orthogonal  $< \\vec u_i|\\vec u_j>= \\delta_{ij}$ </li>\n",
    "</ul>    \n",
    "\n",
    "\n"
   ]
  },
  {
   "cell_type": "markdown",
   "id": "532f7e58",
   "metadata": {},
   "source": [
    "Let's have an arbitary vecotor $\\vec u$.The orthogonals projection of data point $\\vec x^{(i)}$ onto  $\\vec u$ is dot product $< \\vec x^{(i)} |\\vec u > = u^TX = X' $  \n"
   ]
  },
  {
   "cell_type": "markdown",
   "id": "fab69a1c",
   "metadata": {},
   "source": [
    "<img src='https://2.bp.blogspot.com/-pGoLEvdeZ6o/VtErmGN27-I/AAAAAAAAFmM/EnSeSNCs8Lk/s1600/orthogonal_projection.png' />"
   ]
  },
  {
   "cell_type": "markdown",
   "id": "137a645e",
   "metadata": {},
   "source": [
    "The variance of projection of $\\vec x$ over $\\vec u $ is : <br> <br> $\\sigma_u = \\frac{1}{n-1}X'X'^T$ (data must be centered)"
   ]
  },
  {
   "cell_type": "markdown",
   "id": "f78fde0f",
   "metadata": {},
   "source": [
    "Applying   $X'= v^TX$ into  $\\Sigma_u = \\frac{1}{n-1}X'X'^T $ we get : <br> <br>\n",
    "$ \\Sigma_u = \\frac{1}{n-1}  u^TX(u^TX)^T $ <br> <br>\n",
    "$ \\Sigma_u =\\frac{1}{n-1}   u^TXX^T.u $ using $(AB)^T= B^TA$ <br> <Br>\n",
    "$ \\Sigma_u = u^T \\Sigma u $ using $(AB)^T= B^TA$ where $  \\Sigma = \\frac{X^TX}{n-1}$ \n",
    " \n",
    "$$ \\Sigma_u =   u^T \\Sigma u $$ \n",
    "We got that the variance of orthogonal projections of $X^i$ over an arbitrary vector $\\vec u$ is expressed : <br> <br>\n",
    "   $$ \\Sigma_u =  u^T \\Sigma u $$ "
   ]
  },
  {
   "cell_type": "markdown",
   "id": "5ec1d8e9",
   "metadata": {},
   "source": [
    "\n",
    "where $  \\Sigma = \\frac{X^TX}{n-1}$ is the covariance matrix of the observed data in the original high dimensional space"
   ]
  },
  {
   "cell_type": "markdown",
   "id": "aea6fbc5",
   "metadata": {},
   "source": [
    "Now, according to the maximum variance formulation definition, we need to maximise the variance of $X'$. This can be done by maximising $\\Sigma_u$ htat has a trivial solution when ||u|| → ∞. To prevent this, we make use of the unit norm constraint  $< \\vec u_i|\\vec u_i>= ||\\vec u ||=1$ To address this, we introduce a <a href='https://en.wikipedia.org/wiki/Lagrange_multiplier'>Lagrange multiplier </a>  $λ$ and and formulate our optimisation function as follows:"
   ]
  },
  {
   "cell_type": "markdown",
   "id": "3bbea096",
   "metadata": {},
   "source": [
    "$$\\mathscr{L} =   u^T \\Sigma u  + \\lambda(1 - u^T.u)$$"
   ]
  },
  {
   "cell_type": "markdown",
   "id": "c13b215b",
   "metadata": {},
   "source": [
    "<h2> Optimization of Langrange function to find Principle Component </h2>"
   ]
  },
  {
   "cell_type": "markdown",
   "id": "0b6f2730",
   "metadata": {},
   "source": [
    "The langrange function wich we will optimize in order to find $\\vec u$ with max variance is difined as : <br> <br>\n",
    "$$\\mathscr{L} =   u^T \\Sigma u  + (1 - u^T.u)$$"
   ]
  },
  {
   "cell_type": "markdown",
   "id": "4172d06b",
   "metadata": {},
   "source": [
    "Using <a href='https://en.wikipedia.org/wiki/Einstein_notation'> Eistein notation </a> for simplicity of calculation\n",
    "we can rewrite the function as : "
   ]
  },
  {
   "cell_type": "markdown",
   "id": "1fbd7c96",
   "metadata": {},
   "source": [
    "$$\\mathscr{L} =  u_j\\Sigma_{jk}u_k  + \\lambda - \\lambda u_j.u_j$$"
   ]
  },
  {
   "cell_type": "markdown",
   "id": "7f39edd4",
   "metadata": {},
   "source": [
    "We know that the extreme of the function can be found by calculating of system equations<br> <br\n",
    "$$\\frac{\\partial \\mathscr{L}}{\\partial u_1} =  \\frac{\\partial \\mathscr{L}}{\\partial u_2} =  ... =   \\frac{\\partial \\mathscr{L}}{\\partial u_n} = 0$$\n",
    "                                                                                                 "
   ]
  },
  {
   "cell_type": "markdown",
   "id": "5dc884ae",
   "metadata": {},
   "source": [
    "where $\\frac{\\partial \\mathscr{L}}{\\partial u_i}$ is partial derivate respect to  component  $u_i$ of $\\vec u$ onto the base $\\vec e_i$ ($\\vec u = \\vec u_1 e_1 + ... u_i\\vec e_i $)."
   ]
  },
  {
   "cell_type": "markdown",
   "id": "457cdba8",
   "metadata": {},
   "source": [
    "Let's find partial derivates :"
   ]
  },
  {
   "cell_type": "markdown",
   "id": "0f115fc9",
   "metadata": {},
   "source": [
    "$\\frac{\\partial \\mathscr{L}}{\\partial u_i} = \\frac{\\partial ( u_j\\Sigma_{jk}u_k  + \\lambda - \\lambda u_j.u_j ) }{\\partial u_i} $ <br> <br>\n",
    "$ = \\frac{\\partial ( u_j\\Sigma_{jk}u_k  + \\lambda - \\lambda u_j.u_j ) }{\\partial u_i} $\n"
   ]
  },
  {
   "cell_type": "markdown",
   "id": "e4642096",
   "metadata": {},
   "source": [
    "$ = \\frac{\\partial u_j } {\\partial u_i} \\Sigma_{jk}u_k   + u_j\\Sigma_{jk} \\frac{\\partial u_k } {\\partial u_i} \n",
    " - 2\\lambda u_j \\frac{\\partial u_j } {\\partial u_i}$ "
   ]
  },
  {
   "cell_type": "markdown",
   "id": "f7c6e1a5",
   "metadata": {},
   "source": [
    "$ = \\delta_{ji} \\Sigma_{jk}u_k   + u_j\\Sigma_{jk} \\delta_{ki}\n",
    " - 2\\lambda u_j \\delta_{ji} $ &nbsp; &nbsp; &nbsp; &nbsp; &nbsp; &nbsp; // for partial derivate we know that $\\frac{\\partial u_k}{\\partial u_i}= \\delta_{ki}$  and  $\\frac{\\partial u_j}{\\partial u_i}= \\delta_{ji}$ where $ \\delta$ is an <a href='https://en.wikipedia.org/wiki/Kronecker_delta'>Kronecker delta </a> "
   ]
  },
  {
   "cell_type": "markdown",
   "id": "a4692b11",
   "metadata": {},
   "source": [
    "$ = \\delta_{ii} \\Sigma_{ik}u_k   + u_j\\Sigma_{ji} \\delta_{ii}\n",
    " - 2\\lambda u_i \\delta_{ii} $   &nbsp; &nbsp; &nbsp; &nbsp; &nbsp; &nbsp;   // using $\\delta_{ik}=0$ when $ i \\ne j$"
   ]
  },
  {
   "cell_type": "markdown",
   "id": "21f1301c",
   "metadata": {},
   "source": [
    "$ = \\Sigma_{ik}u_k   + u_j\\Sigma_{ji} \n",
    " - 2\\lambda u_i  $  &nbsp; &nbsp; &nbsp; &nbsp; &nbsp; &nbsp;   &nbsp; &nbsp;    &nbsp; &nbsp;  &nbsp; &nbsp;    // using $\\delta_{ik}=1$ when $ i = j$"
   ]
  },
  {
   "cell_type": "markdown",
   "id": "57277077",
   "metadata": {},
   "source": [
    "$ = \\Sigma_{ki}u_i   +\\Sigma_{ij}  u_i\\\n",
    " - 2\\lambda u_i  $  &nbsp; &nbsp; &nbsp; &nbsp; &nbsp; &nbsp;   &nbsp; &nbsp;    &nbsp; &nbsp;  &nbsp; &nbsp; "
   ]
  },
  {
   "cell_type": "markdown",
   "id": "3f349e95",
   "metadata": {},
   "source": [
    "from condition $\\frac{\\partial \\mathscr{L}}{\\partial u_i} = 0 $ we achive that <br>\n",
    "$ \\Sigma_{ik}u_k   + u_j\\Sigma_{ji} - 2\\lambda u_i = 0  $"
   ]
  },
  {
   "cell_type": "markdown",
   "id": "7bf0c6fd",
   "metadata": {},
   "source": [
    "In Matrix form this can be rewritten as : "
   ]
  },
  {
   "cell_type": "markdown",
   "id": "f4da4544",
   "metadata": {},
   "source": [
    "$(\\Sigma u)_i - \\lambda u_i =0 $ where (i = 1,2,...,n) n = number of component)"
   ]
  },
  {
   "cell_type": "markdown",
   "id": "faa5e0b6",
   "metadata": {},
   "source": [
    "for every $i\\in[1,n]$ we write "
   ]
  },
  {
   "cell_type": "markdown",
   "id": "1a0ddf0a",
   "metadata": {},
   "source": [
    "$\\begin{pmatrix}\n",
    "(\\Sigma u)_1\\\\\n",
    "(\\Sigma u)_2 \\\\\n",
    "\\vdots \\\\\n",
    "(\\Sigma u)_n\n",
    "\\end{pmatrix}$ = $\\begin{pmatrix}\n",
    " \\lambda u_1\\\\\n",
    " \\lambda u_2 \\\\\n",
    "\\vdots \\\\\n",
    " \\lambda u_n\n",
    "\\end{pmatrix}$ wich is the same as :\n"
   ]
  },
  {
   "cell_type": "markdown",
   "id": "57e0fa93",
   "metadata": {},
   "source": [
    "$$\\begin{pmatrix}\n",
    "\\Sigma_{11} & \\Sigma_{12} & \\ldots & \\Sigma_{1n}  \\\\\n",
    "\\Sigma_{12}   & \\Sigma_{22} & \\ldots &  \\Sigma_{2n} \\\\\n",
    "\\vdots     & \\ddots  & \\ddots  & \\vdots  \\\\\n",
    "\\Sigma_{n1} &  \\ldots & \\ldots & \\Sigma_{nn}  \\\\\n",
    "\\end{pmatrix}\\begin{pmatrix}\n",
    "u_1\\\\\n",
    "u_2 \\\\\n",
    "\\vdots \\\\\n",
    " u_n\n",
    "\\end{pmatrix} = \\begin{pmatrix}\n",
    "\\lambda_1 & 0 & \\ldots & 0  \\\\\n",
    "0  & \\lambda_2 & \\ldots &  0\\\\\n",
    "\\vdots     & \\ddots  & \\ddots  & \\vdots  \\\\\n",
    "0 &  \\ldots & \\ldots & \\lambda_n  \\\\\n",
    "\\end{pmatrix}\\begin{pmatrix}\n",
    "u_1\\\\\n",
    "u_2 \\\\\n",
    "\\vdots \\\\\n",
    " u_n\n",
    "\\end{pmatrix} $$"
   ]
  },
  {
   "cell_type": "markdown",
   "id": "036f34bd",
   "metadata": {},
   "source": [
    "Obviosly that is Eigen problem solution "
   ]
  },
  {
   "cell_type": "markdown",
   "id": "1a2c59e2",
   "metadata": {},
   "source": [
    "$$ \\Sigma u = \\lambda u$$"
   ]
  },
  {
   "cell_type": "markdown",
   "id": "6030d5f1",
   "metadata": {},
   "source": [
    "In Other words the solutions of the system $\\frac{\\partial \\mathscr{L}}{\\partial u_i}=0$\n",
    "are eigen vectors of covariance matrix $\\Sigma$ with coresponding eigen values.the $\\mathscr{L}$  has a maximum fir every eigen vector $\\vec u_i$.How we can find the highest maximum corespond to the highest variance"
   ]
  },
  {
   "cell_type": "markdown",
   "id": "a748c696",
   "metadata": {},
   "source": [
    "We've saw that the variace for vector $\\vec u$ is  : <br>\n",
    "$ \\Sigma_u =  u^T \\Sigma u $ <br> <br>\n",
    "applying $ \\Sigma u = \\lambda u$ above we achieve <br> <br>\n",
    "$ \\Sigma_u =  u^T \\lambda u =\\lambda u^T .u = \\lambda E $ where $Е = 1$(single matrix) <br> <br>\n",
    "from above we can canclude that <mark> maximux variance is equal to eigenvalue of covariance matrix $\\Sigma$</mark> that means the biggest eigenvalue coresponds to the highest variance"
   ]
  },
  {
   "cell_type": "markdown",
   "id": "7ca2cbf1",
   "metadata": {},
   "source": [
    "<h2>How do you determine the number of principal components k</h2>"
   ]
  },
  {
   "cell_type": "markdown",
   "id": "4d3d02a7",
   "metadata": {},
   "source": [
    "We alway can get some eigen vector $\\vec u_k $ in original space $\\vec e_n $ where $k<n$ to be our new basic thus we ahive Dimensionaly reduction.We've already known that the magnitude therefore, our goal is to use the M largest eigenvalues that discribe the data without to loose undelying information or to determine  how many principle component to use.We can sort the eigenvalue  $\\lambda_1\\geq \\lambda_2\\geq ... \\geq \\lambda_n$.\n",
    "\n",
    "\n",
    "\n"
   ]
  },
  {
   "cell_type": "markdown",
   "id": "2cf08e9c",
   "metadata": {},
   "source": [
    "The formula : $$ \\frac {\\lambda_i}{{\\lambda_i}+{\\lambda_2}+...+{\\lambda_n}}$$"
   ]
  },
  {
   "cell_type": "markdown",
   "id": "dc4ff9e7",
   "metadata": {},
   "source": []
  },
  {
   "cell_type": "markdown",
   "id": "be5b8887",
   "metadata": {},
   "source": []
  },
  {
   "cell_type": "markdown",
   "id": "67c5ed25",
   "metadata": {},
   "source": []
  },
  {
   "cell_type": "markdown",
   "id": "6dae0800",
   "metadata": {},
   "source": []
  },
  {
   "cell_type": "code",
   "execution_count": null,
   "id": "06f6887d",
   "metadata": {},
   "outputs": [],
   "source": []
  },
  {
   "cell_type": "code",
   "execution_count": null,
   "id": "10e7278a",
   "metadata": {},
   "outputs": [],
   "source": []
  },
  {
   "cell_type": "code",
   "execution_count": null,
   "id": "35aa78ab",
   "metadata": {},
   "outputs": [],
   "source": []
  },
  {
   "cell_type": "markdown",
   "id": "7d941dcd",
   "metadata": {},
   "source": [
    "<img alt=\"Principal Component Analysis second principal\" data-entity-type=\"file\" data-entity-uuid=\"9a6e0df7-e940-4bfa-93d0-36dc25cd612b\" src=\"//cdn.builtin.com/cdn-cgi/image/f=auto,fit=contain/sites/www.builtin.com/files/inline-images/national/Principal%2520Component%2520Analysis%2520second%2520principal.gif\" class=\"align-center b-lazy b-loaded\"/>"
   ]
  }
 ],
 "metadata": {
  "kernelspec": {
   "display_name": "Python 3",
   "language": "python",
   "name": "python3"
  },
  "language_info": {
   "codemirror_mode": {
    "name": "ipython",
    "version": 3
   },
   "file_extension": ".py",
   "mimetype": "text/x-python",
   "name": "python",
   "nbconvert_exporter": "python",
   "pygments_lexer": "ipython3",
   "version": "3.8.8"
  }
 },
 "nbformat": 4,
 "nbformat_minor": 5
}
