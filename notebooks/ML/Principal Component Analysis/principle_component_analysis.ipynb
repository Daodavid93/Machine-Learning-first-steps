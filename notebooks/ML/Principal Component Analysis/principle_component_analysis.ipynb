{
 "cells": [
  {
   "cell_type": "code",
   "execution_count": 1,
   "id": "8efb2be5",
   "metadata": {},
   "outputs": [],
   "source": [
    "%matplotlib inline\n",
    "import numpy as np\n",
    "import matplotlib.pyplot as plt\n",
    "\n",
    "from sklearn.preprocessing import StandardScaler"
   ]
  },
  {
   "cell_type": "code",
   "execution_count": null,
   "id": "f5fa7cef",
   "metadata": {},
   "outputs": [],
   "source": []
  },
  {
   "cell_type": "markdown",
   "id": "5b0986de",
   "metadata": {},
   "source": [
    "<h2 id='intro'>Introduction </h2>"
   ]
  },
  {
   "cell_type": "markdown",
   "id": "99e7f3af",
   "metadata": {},
   "source": [
    "Principal Component Analysis, or PCA, is a well-known and widely used technique applicable to a wide variety of applications such as dimensionality reduction, data compression, feature extraction, and visualization.\n",
    "\n",
    "\n",
    "Reducing the number of variables of a data set naturally comes at the expense of accuracy, but the trick in dimensionality reduction is to trade a little accuracy for simplicity. Because smaller data sets are easier to explore and visualize and make analyzing data much easier and faster for machine learning algorithms without extraneous variables to process.\n",
    "\n",
    "So to sum up, the idea of PCA is simple — reduce the number of variables of a data set, while preserving as much information as possible.\n",
    "The eigenvectors and eigenvalues of a covariance (or correlation) matrix represent the 'core' of a PCA.We'll investigate that fact."
   ]
  },
  {
   "cell_type": "markdown",
   "id": "cbf62c0c",
   "metadata": {},
   "source": [
    "<h2 id='cov'>Covariance Matrix </h2>"
   ]
  },
  {
   "cell_type": "markdown",
   "id": "22875146",
   "metadata": {},
   "source": [
    "<img src=\"https://www.statisticshowto.com/wp-content/uploads/2013/12/g-covariance.gif\" alt=\"Italian Trulli\">\n",
    "Covariance is a measure of how much two random variables vary together. It’s similar to variance, but where variance tells you how a single variable varies, co variance tells you how two variables vary together.\n",
    "Covariance can be positive, zero, or negative.\n",
    "Positive indicates that there’s an overall tendency\n",
    "that when one variable increases, so doe the other,\n",
    "while negative indicates an overall tendency that\n",
    "when one increases the other decreases.\n",
    "If X and Y are independent variables, then their\n",
    "covariance is 0.The converse, however, is not always true.\n",
    "Cov(X, Y ) can be 0 for variables that are not independent.\n",
    "The covariance between two ranodom variable X,Y is given by :\n",
    "  $$Cov(X, Y ) = \\sigma(X, Y) = \\frac{1}{n-1}\\sum_{i=1}^n(x_i - \\bar{x})(y_i - \\bar{y})$$\n",
    "  where $n$ is the number of samples and $\\bar{x}$  is the mean of the random variable $x$"
   ]
  },
  {
   "cell_type": "markdown",
   "id": "eebc36cb",
   "metadata": {},
   "source": [
    "For dataset $X$ where $X \\in R^{n\\times d}$ $n$ samples and $d$ features.The covariance matrix can be expressed\n",
    "$$C= \\frac{1}{n-1}(X_i - \\bar{X})(X_i - \\bar{X})^T $$"
   ]
  },
  {
   "cell_type": "markdown",
   "id": "10d5f1d0",
   "metadata": {},
   "source": [
    "If the mean $\\bar{X}$ of dataset is $0$ then we can rewrite :<br>\n",
    "$$ C = \\Sigma = \\frac{X^TX}{n-1}$$\n",
    "<br>For this reason in future wee always will perform recentering of data,just shifiting the elements :"
   ]
  },
  {
   "cell_type": "markdown",
   "id": "e680f8dc",
   "metadata": {},
   "source": [
    "<h2 id='eigen'> Eigenvectors and eigenvalues </h2>"
   ]
  },
  {
   "cell_type": "markdown",
   "id": "48c61c30",
   "metadata": {},
   "source": [
    "The multiplication of the matrix with vector gives another vector, that is a Linear Transformation, geometrically that is a  transformation. The transformation can produce scaled or rotating of the vector or the both.\n",
    "<img src='https://upload.wikimedia.org/wikipedia/commons/thumb/a/ad/Eigenvectors-extended.gif/300px-Eigenvectors-extended.gif'/>"
   ]
  },
  {
   "cell_type": "markdown",
   "id": "e88ebeae",
   "metadata": {},
   "source": [
    "The above illustration shows the transformation. We are interested in the vectors in blue because only they are stretched (scaled)  after transformation .Mathematically that is expressed as : \n",
    "<br> <br>\n",
    "$$ A\\vec v_{blue} = \\lambda \\vec v_{blue}$$ \n",
    "<br>\n",
    "These vectors as $\\vec v_{blue}$ after applying transformation $A$ their direction does not change. Such vectors are called  eigenvectors with coresponding $\\lambda$ eigenvalue. The vector space spanned by an eigenvector is called an eigenspace. "
   ]
  },
  {
   "cell_type": "markdown",
   "id": "925dc3d9",
   "metadata": {},
   "source": [
    "<h2 id='Diagonalizable'> Diagonalizable matrix. Eigendecomposition. Deffinion and Example </h2>"
   ]
  },
  {
   "cell_type": "markdown",
   "id": "88688c98",
   "metadata": {},
   "source": [
    "An $n×n$-matrix $A$ is said to be diagonalizable if it can be written on the form\n",
    "<br> <br>\n",
    "$$A=V\\Lambda V^{-1}$$ \n",
    "<br> \n",
    "where $\\Lambda$ is a diagonal $n×n$ matrix with the eigenvalues of $A$ as its entries and $P$ is a nonsingular $n×n$ matrix consisting of the eigenvectors corresponding to the eigenvalues in $D$.<br>\n",
    "The diagonalization theorem states that an $n×n$ matrix $A$ is diagonalizable if and only if $A$ has $n$ linearly independent eigenvectors, i.e., if the matrix rank of the matrix formed by the eigenvectors is n. Matrix diagonalization (and most other forms of matrix decomposition) are particularly useful when studying linear transformations, discrete dynamical systems, continuous systems, and so on."
   ]
  },
  {
   "cell_type": "markdown",
   "id": "f595b0fb",
   "metadata": {},
   "source": [
    "Let consider the matrix $ A = \\begin{bmatrix} \n",
    " 1 & 2 &  0 \\\\\n",
    " 0 & 3  & 0  \\\\\n",
    " 2 & -4  & 2   \\\\\n",
    "\\end{bmatrix} $. <br> <br> The matrix $A$ has eigenvalues $\\lambda_2=3$,$\\lambda_2= 3$,$\\lambda_3=1$.$A$ is a $3\\times3$ different eigenvalues therefore, it is diagonalizable.<br>\n",
    "Note that if there are exactly $n$ distinct eigenvalues in an $n×n$ matrix then this matrix is diagonalizable.These eigenvalues are the values that will appear in the diagonalized form of matrix , so by finding the\n",
    "eigenvalues of we have diagonalized it. We could stop here, but it is a good check to use the eigenvectors\n",
    "to diagonalize .\n",
    "The eigenvectors of $A$ are :"
   ]
  },
  {
   "cell_type": "markdown",
   "id": "bc72ff91",
   "metadata": {},
   "source": [
    " $$ \\vec v_1 = \\begin{bmatrix} \n",
    " -1  \\\\\n",
    " -1  \\\\\n",
    " 2   \\\\\n",
    "\\end{bmatrix} ,\n",
    " \\vec v_1 = \\begin{bmatrix} \n",
    " 0  \\\\\n",
    " 0  \\\\\n",
    " 1   \\\\\n",
    "\\end{bmatrix} , \\vec v_1 = \\begin{bmatrix} \n",
    " -1  \\\\\n",
    " 0  \\\\\n",
    " 2   \\\\\n",
    "\\end{bmatrix} $$ .\n",
    "One can easily check that : $ A\\vec v_i = \\lambda \\vec v_i$ "
   ]
  },
  {
   "cell_type": "markdown",
   "id": "0de710ce",
   "metadata": {},
   "source": [
    "Note there is no preferred order of the eigenvectors in P; changing the order of the eigenvectors in P just\n",
    "changes the order of the eigenvalues in the diagonalized form of A <br>\n"
   ]
  },
  {
   "cell_type": "markdown",
   "id": "b8204270",
   "metadata": {},
   "source": [
    "Then $V$ diagonalizes A, as a simple computation confirms, having calculated $V^{ -1}$ using any suitable method: <br> <br>\n",
    "$V^{ -1}AV^{ 1} = \\begin{bmatrix} \n",
    " 0 & -1 &  0 \\\\\n",
    " 2 & 0  & 1   \\\\\n",
    " -1 & 1  & 0   \\\\\n",
    "\\end{bmatrix}   \\begin{bmatrix} \n",
    " 1 & 2 &  0 \\\\\n",
    " 0 & 3  & 0  \\\\\n",
    " 2 & -4  & 2   \\\\\n",
    "\\end{bmatrix}  \\begin{bmatrix} \n",
    " -1 & 0 &  -1 \\\\\n",
    " -1 & 0  & 0   \\\\\n",
    " 2 & 1  & 2   \\\\\n",
    "\\end{bmatrix} = \\begin{bmatrix} \n",
    " 3 & 0 &  0 \\\\\n",
    " 0 & 2  & 0   \\\\\n",
    " 0 & 0  & 1   \\\\\n",
    "\\end{bmatrix} $ <br> <br>\n",
    "Note that the eigenvalues $\\lambda_i$ appear in the diagonal matrix"
   ]
  },
  {
   "cell_type": "markdown",
   "id": "6c4fd4ca",
   "metadata": {},
   "source": [
    "by simple operation we can obtain formula for diagonalize <br> <br> $V^{ -1}AV^{ 1}= \\Lambda$  <br>\n",
    "$ V V^{ -1}AV^{ 1} =  V \\Lambda   $ $\\scriptsize  \\; multiply \\; left\\; sizes \\; by \\; V$  <br>\n",
    "$ AV^{ 1}= V \\Lambda   $  $\\scriptsize  \\; multiply \\; right\\; sizes \\; by \\; V ^{-1}$<br>\n",
    "$ AV^{ 1}V^{ -1}= V \\Lambda V^{ -1}  $ <br>\n",
    "$ A = V \\Lambda V^{ -1}  $"
   ]
  },
  {
   "cell_type": "markdown",
   "id": "d6ca8d98",
   "metadata": {},
   "source": [
    "Properties of <mark> symmetric matrices </mark>\n",
    "I Recall that a matrix $A ∈ R^{n×n}$ is symmetric if $A^T = A$. <br> <br>\n",
    "I For real symmetric matrices we have the following two\n",
    "crucial properties:\n",
    "<ul>\n",
    "    <li> <mark> All eigenvalues of a real symmetric matrix are real. </mark></li>\n",
    "<li> <mark> Eigenvectors corresponding to distinct eigenvalues are\n",
    "orthogonal </mark></li>\n",
    " </ul> <br> <br>\n",
    " The orthogonality of Eigenvectors can be expressed as : <br>\n",
    " $V.V^T=1$ since $V.V^{-1}=1$  then  $V^T=V^{-1}$ <br>\n",
    " according to above if the matrix $A$ is symtrix its diagonalizable form can be written :  <br> <br>\n",
    " $$ A = V \\Lambda V^{T}  $$"
   ]
  },
  {
   "cell_type": "markdown",
   "id": "cbd0f5f5",
   "metadata": {},
   "source": [
    "<h2 id='np_diag'> NumPy example of  matrix diagonalization  </h2>  "
   ]
  },
  {
   "cell_type": "markdown",
   "id": "c03f055c",
   "metadata": {},
   "source": [
    "Get eigenvalues and vectors from matrix"
   ]
  },
  {
   "cell_type": "code",
   "execution_count": 2,
   "id": "be0ab8c9",
   "metadata": {},
   "outputs": [
    {
     "name": "stdout",
     "output_type": "stream",
     "text": [
      "eigen values :  [ 4.54138127 -1.54138127]\n",
      "eigen vectors stacked V : \n",
      "[[ 0.76301998 -0.6463749 ]\n",
      " [ 0.6463749   0.76301998]]\n"
     ]
    }
   ],
   "source": [
    "A = np.array([[2,3],[3,1]])\n",
    "eigen_values , V = np.linalg.eig(A)\n",
    "print(\"eigen values : \" , eigen_values.T)\n",
    "print(\"eigen vectors stacked V : \" )\n",
    "print(V)"
   ]
  },
  {
   "cell_type": "markdown",
   "id": "a0e25631",
   "metadata": {},
   "source": [
    "Making diagonal matrix consist eigenvalues"
   ]
  },
  {
   "cell_type": "code",
   "execution_count": 3,
   "id": "dd2e4295",
   "metadata": {},
   "outputs": [
    {
     "data": {
      "text/plain": [
       "array([[ 4.54138127,  0.        ],\n",
       "       [ 0.        , -1.54138127]])"
      ]
     },
     "execution_count": 3,
     "metadata": {},
     "output_type": "execute_result"
    }
   ],
   "source": [
    "Lambda = np.diag(eigen_values, k=0) #diagonal matrix Lambda\n",
    "Lambda"
   ]
  },
  {
   "cell_type": "code",
   "execution_count": 4,
   "id": "2a2534c2",
   "metadata": {},
   "outputs": [
    {
     "data": {
      "text/plain": [
       "array([[2., 3.],\n",
       "       [3., 1.]])"
      ]
     },
     "execution_count": 4,
     "metadata": {},
     "output_type": "execute_result"
    }
   ],
   "source": [
    "V.dot(Lambda).dot(V.T)"
   ]
  },
  {
   "cell_type": "markdown",
   "id": "4c437601",
   "metadata": {},
   "source": [
    "<h2>Why eigenvectors of covariance matrix are Principle Cоomponent.Maximum variance formulation</h2> "
   ]
  },
  {
   "cell_type": "code",
   "execution_count": 5,
   "id": "209b4de1",
   "metadata": {},
   "outputs": [
    {
     "data": {
      "image/png": "[encoded data removed]",
      "text/plain": [
       "<Figure size 432x288 with 1 Axes>"
      ]
     },
     "metadata": {
      "needs_background": "light"
     },
     "output_type": "display_data"
    }
   ],
   "source": [
    "x = np.random.normal(0, 1, 500)\n",
    "y = np.random.normal(0, 1, 500)\n",
    "X = np.vstack((x, y)).T\n",
    "S = np.array([[2,3],\n",
    "              [1,0.3]])\n",
    "X = S.dot(X.T).T\n",
    "#X =  StandardScaler().fit(X).transform(X) ##centering of data\n",
    "plt.scatter(X[:, 0], X[:, 1],color='b')\n",
    "ax = plt.gca()\n",
    "ax.arrow(0,0,1,0, head_width=0.1, head_length=1, fc='red', ec='red')\n",
    "plt.text(10,-0.5,r'$\\vec e_1$',size=25,color='r')\n",
    "plt.text(0,3.5,r'$\\vec e_2$',size=25,color='r')\n",
    "plt.scatter(X[:, 0], X[:, 1],color='b')\n",
    "plt.axis('equal');"
   ]
  },
  {
   "cell_type": "markdown",
   "id": "d4b408bc",
   "metadata": {},
   "source": [
    "Let above data will be our dataset $X$ where every point $x_i = x_{i1}\\vec e_1 +  x_{i2} \\vec e_2$ where $<\\vec e_1|\\vec e_2> = \\delta_{ij}$ (orthormal coordinate).The of PCA is to find the cordinate system the new vectors $e_i'$ called Principle Component for wich the data has a maxixmum variace.<img src='https://miro.medium.com/max/462/1*QALwLkPJG45E7_DsOccdaw.png'/> "
   ]
  },
  {
   "cell_type": "markdown",
   "id": "d27db63a",
   "metadata": {},
   "source": [
    "Mathematicaly,the goal of PCA is to find a collection of $k<d$ unit vectors $\\vec u_i \\in R^d $ called <mark> Principle Components </mark> ,such that: \n",
    "<ul>\n",
    "    <li> The variance of dataset projected onto the direction determined by  $\\vec u_i$ is maximized </li> \n",
    "      <li>Also $\\vec u_i$ is chosen to be orthogonal  $< \\vec u_i|\\vec u_j>= \\delta_{ij}$ </li>\n",
    "</ul>    \n",
    "\n",
    "\n"
   ]
  },
  {
   "cell_type": "markdown",
   "id": "8c4aeb9b",
   "metadata": {},
   "source": [
    "<img alt=\"Principal Component Analysis second principal\" data-entity-type=\"file\" data-entity-uuid=\"9a6e0df7-e940-4bfa-93d0-36dc25cd612b\" src=\"//cdn.builtin.com/cdn-cgi/image/f=auto,fit=contain/sites/www.builtin.com/files/inline-images/national/Principal%2520Component%2520Analysis%2520second%2520principal.gif\" class=\"align-center b-lazy b-loaded\"/>"
   ]
  },
  {
   "cell_type": "markdown",
   "id": "532f7e58",
   "metadata": {},
   "source": [
    "Let's have an arbitary vecotor $\\vec u$.The orthogonals projection of data point $\\vec x^{(i)}$ onto  $\\vec u$ is dot product $< \\vec x^{(i)} |\\vec u > = u^TX = X' $  \n"
   ]
  },
  {
   "cell_type": "markdown",
   "id": "fab69a1c",
   "metadata": {},
   "source": [
    "<img src='https://2.bp.blogspot.com/-pGoLEvdeZ6o/VtErmGN27-I/AAAAAAAAFmM/EnSeSNCs8Lk/s1600/orthogonal_projection.png' />"
   ]
  },
  {
   "cell_type": "markdown",
   "id": "137a645e",
   "metadata": {},
   "source": [
    "The variance of projection of $\\vec x$ over $\\vec u $ is : <br> <br> $\\sigma_u = \\frac{1}{n-1}X'X'^T$ (data must be centered)"
   ]
  },
  {
   "cell_type": "markdown",
   "id": "f78fde0f",
   "metadata": {},
   "source": [
    "Applying   $X'= v^TX$ into  $\\Sigma_u = \\frac{1}{n-1}X'X'^T $ we get : <br> <br>\n",
    "$ \\Sigma_u = \\frac{1}{n-1}  u^TX(u^TX)^T $ <br> <br>\n",
    "$ \\Sigma_u =\\frac{1}{n-1}   u^TXX^T.u $ using $(AB)^T= B^TA$ <br> <Br>\n",
    "$ \\Sigma_u = u^T \\Sigma u $ using $(AB)^T= B^TA$ where $  \\Sigma = \\frac{X^TX}{n-1}$ \n",
    " \n",
    "$$ \\Sigma_u =   u^T \\Sigma u $$ \n",
    "We got that the variance of orthogonal projections of $X^i$ over an arbitrary vector $\\vec u$ is expressed : <br> <br>\n",
    "   $$ \\Sigma_u =  u^T \\Sigma u $$ "
   ]
  },
  {
   "cell_type": "markdown",
   "id": "5ec1d8e9",
   "metadata": {},
   "source": [
    "\n",
    "where $  \\Sigma = \\frac{X^TX}{n-1}$ is the covariance matrix of the observed data in the original high dimensional space"
   ]
  },
  {
   "cell_type": "markdown",
   "id": "aea6fbc5",
   "metadata": {},
   "source": [
    "Now, according to the maximum variance formulation definition, we need to maximise the variance of $X'$. This can be done by maximising $\\Sigma_u$ htat has a trivial solution when ||u|| → ∞. To prevent this, we make use of the unit norm constraint  $< \\vec u_i|\\vec u_i>= ||\\vec u ||=1$ To address this, we introduce a <a href='https://en.wikipedia.org/wiki/Lagrange_multiplier'>Lagrange multiplier </a>  $λ$ and and formulate our optimisation function as follows:"
   ]
  },
  {
   "cell_type": "markdown",
   "id": "32220ab3",
   "metadata": {},
   "source": [
    "$$\\mathscr{L} =   u^T \\Sigma u  + \\lambda(1 - u^T.u)$$"
   ]
  },
  {
   "cell_type": "markdown",
   "id": "39227af2",
   "metadata": {},
   "source": [
    "<h2> Optimization of Langrange function to find Principle Component </h2>"
   ]
  },
  {
   "cell_type": "markdown",
   "id": "2bfd5075",
   "metadata": {},
   "source": [
    "The langrange function wich we will optimize in order to find $\\vec u$ with max variance is difined as : <br> <br>\n",
    "$$\\mathscr{L} =   u^T \\Sigma u  + (1 - u^T.u)$$"
   ]
  },
  {
   "cell_type": "markdown",
   "id": "3bbe2f16",
   "metadata": {},
   "source": [
    "Using <a href='https://en.wikipedia.org/wiki/Einstein_notation'> Eistein notation </a> for simplicity of calculation\n",
    "we can rewrite the function as : "
   ]
  },
  {
   "cell_type": "markdown",
   "id": "c40c4d3e",
   "metadata": {},
   "source": [
    "$$\\mathscr{L} =  u_j\\Sigma_{jk}u_k  + \\lambda - \\lambda u_j.u_j$$"
   ]
  },
  {
   "cell_type": "markdown",
   "id": "8eaaab7b",
   "metadata": {},
   "source": [
    "We know that the extreme of the function can be found by calculating of system equations<br> <br\n",
    "$$\\frac{\\partial \\mathscr{L}}{\\partial u_1} =  \\frac{\\partial \\mathscr{L}}{\\partial u_2} =  ... =   \\frac{\\partial \\mathscr{L}}{\\partial u_n} = 0$$\n",
    "                                                                                                 "
   ]
  },
  {
   "cell_type": "markdown",
   "id": "39d77ebb",
   "metadata": {},
   "source": [
    "where $\\frac{\\partial \\mathscr{L}}{\\partial u_i}$ is partial derivate respect to  component  $u_i$ of $\\vec u$ onto the base $\\vec e_i$ ($\\vec u = \\vec u_1 e_1 + ... u_i\\vec e_i $)."
   ]
  },
  {
   "cell_type": "markdown",
   "id": "02702661",
   "metadata": {},
   "source": [
    "Let's find partial derivates :"
   ]
  },
  {
   "cell_type": "markdown",
   "id": "a6361cdc",
   "metadata": {},
   "source": [
    "$\\frac{\\partial \\mathscr{L}}{\\partial u_i} = \\frac{\\partial ( u_j\\Sigma_{jk}u_k  + \\lambda - \\lambda u_j.u_j ) }{\\partial u_i} $ <br> <br>\n",
    "$ = \\frac{\\partial ( u_j\\Sigma_{jk}u_k  + \\lambda - \\lambda u_j.u_j ) }{\\partial u_i} $\n"
   ]
  },
  {
   "cell_type": "markdown",
   "id": "a014901a",
   "metadata": {},
   "source": [
    "$ = \\frac{\\partial u_j } {\\partial u_i} \\Sigma_{jk}u_k   + u_j\\Sigma_{jk} \\frac{\\partial u_k } {\\partial u_i} \n",
    " - 2\\lambda u_j \\frac{\\partial u_j } {\\partial u_i}$ "
   ]
  },
  {
   "cell_type": "markdown",
   "id": "9aac9056",
   "metadata": {},
   "source": [
    "$ = \\delta_{ji} \\Sigma_{jk}u_k   + u_j\\Sigma_{jk} \\delta_{ki}\n",
    " - 2\\lambda u_j \\delta_{ji} $ &nbsp; &nbsp; &nbsp; &nbsp; &nbsp; &nbsp; // for partial derivate we know that $\\frac{\\partial u_k}{\\partial u_i}= \\delta_{ki}$  and  $\\frac{\\partial u_j}{\\partial u_i}= \\delta_{ji}$ where $ \\delta$ is an <a href='https://en.wikipedia.org/wiki/Kronecker_delta'>Kronecker delta </a> "
   ]
  },
  {
   "cell_type": "markdown",
   "id": "6fef91b4",
   "metadata": {},
   "source": [
    "$ = \\delta_{ii} \\Sigma_{ik}u_k   + u_j\\Sigma_{ji} \\delta_{ii}\n",
    " - 2\\lambda u_i \\delta_{ii} $   &nbsp; &nbsp; &nbsp; &nbsp; &nbsp; &nbsp;   // using $\\delta_{ik}=0$ when $ i \\ne j$"
   ]
  },
  {
   "cell_type": "markdown",
   "id": "3104b834",
   "metadata": {},
   "source": [
    "$ = \\Sigma_{ik}u_k   + u_j\\Sigma_{ji} \n",
    " - 2\\lambda u_i  $  &nbsp; &nbsp; &nbsp; &nbsp; &nbsp; &nbsp;   &nbsp; &nbsp;    &nbsp; &nbsp;  &nbsp; &nbsp;    // using $\\delta_{ik}=1$ when $ i = j$"
   ]
  },
  {
   "cell_type": "markdown",
   "id": "cb9d165e",
   "metadata": {},
   "source": [
    "$ = \\Sigma_{ki}u_i   +\\Sigma_{ij}  u_i\\\n",
    " - 2\\lambda u_i  $  &nbsp; &nbsp; &nbsp; &nbsp; &nbsp; &nbsp;   &nbsp; &nbsp;    &nbsp; &nbsp;  &nbsp; &nbsp; "
   ]
  },
  {
   "cell_type": "markdown",
   "id": "5c44c2b8",
   "metadata": {},
   "source": [
    "from condition $\\frac{\\partial \\mathscr{L}}{\\partial u_i} = 0 $ we achive that <br>\n",
    "$ \\Sigma_{ik}u_k   + u_j\\Sigma_{ji} - 2\\lambda u_i = 0  $"
   ]
  },
  {
   "cell_type": "markdown",
   "id": "bface312",
   "metadata": {},
   "source": [
    "In Matrix form this can be rewritten as : "
   ]
  },
  {
   "cell_type": "markdown",
   "id": "e269a7b2",
   "metadata": {},
   "source": [
    "$(\\Sigma u)_i - \\lambda u_i =0 $ where (i = 1,2,...,n) n = number of component)"
   ]
  },
  {
   "cell_type": "markdown",
   "id": "2043a1e3",
   "metadata": {},
   "source": [
    "for every $i\\in[1,n]$ we write "
   ]
  },
  {
   "cell_type": "markdown",
   "id": "d9fc38b6",
   "metadata": {},
   "source": [
    "$\\begin{pmatrix}\n",
    "(\\Sigma u)_1\\\\\n",
    "(\\Sigma u)_2 \\\\\n",
    "\\vdots \\\\\n",
    "(\\Sigma u)_n\n",
    "\\end{pmatrix}$ = $\\begin{pmatrix}\n",
    " \\lambda u_1\\\\\n",
    " \\lambda u_2 \\\\\n",
    "\\vdots \\\\\n",
    " \\lambda u_n\n",
    "\\end{pmatrix}$ wich is the same as :\n"
   ]
  },
  {
   "cell_type": "markdown",
   "id": "16df3c44",
   "metadata": {},
   "source": [
    "$$\\begin{pmatrix}\n",
    "\\Sigma_{11} & \\Sigma_{12} & \\ldots & \\Sigma_{1n}  \\\\\n",
    "\\Sigma_{12}   & \\Sigma_{22} & \\ldots &  \\Sigma_{2n} \\\\\n",
    "\\vdots     & \\ddots  & \\ddots  & \\vdots  \\\\\n",
    "\\Sigma_{n1} &  \\ldots & \\ldots & \\Sigma_{nn}  \\\\\n",
    "\\end{pmatrix}\\begin{pmatrix}\n",
    "u_1\\\\\n",
    "u_2 \\\\\n",
    "\\vdots \\\\\n",
    " u_n\n",
    "\\end{pmatrix} = \\begin{pmatrix}\n",
    "\\lambda_1 & 0 & \\ldots & 0  \\\\\n",
    "0  & \\lambda_2 & \\ldots &  0\\\\\n",
    "\\vdots     & \\ddots  & \\ddots  & \\vdots  \\\\\n",
    "0 &  \\ldots & \\ldots & \\lambda_n  \\\\\n",
    "\\end{pmatrix}\\begin{pmatrix}\n",
    "u_1\\\\\n",
    "u_2 \\\\\n",
    "\\vdots \\\\\n",
    " u_n\n",
    "\\end{pmatrix} $$"
   ]
  },
  {
   "cell_type": "markdown",
   "id": "03581a8b",
   "metadata": {},
   "source": [
    "Obviosly that is Eigen problem solution "
   ]
  },
  {
   "cell_type": "markdown",
   "id": "5741a9e8",
   "metadata": {},
   "source": [
    "$$ \\Sigma u = \\lambda u$$"
   ]
  },
  {
   "cell_type": "markdown",
   "id": "ffd2bf3a",
   "metadata": {},
   "source": [
    "In Other words the solutions of the system $\\frac{\\partial \\mathscr{L}}{\\partial u_i}=0$\n",
    "are eigen vectors of covariance matrix $\\Sigma$ with coresponding eigen values.the $\\mathscr{L}$  has a maximum fir every eigen vector $\\vec u_i$.How we can find the highest maximum corespond to the highest variance"
   ]
  },
  {
   "cell_type": "markdown",
   "id": "dc8fa31e",
   "metadata": {},
   "source": [
    "We've saw that the variace for vector $\\vec u$ is  : <br>\n",
    "$ \\Sigma_u =  u^T \\Sigma u $ <br> <br>\n",
    "applying $ \\Sigma u = \\lambda u$ above we achieve <br> <br>\n",
    "$ \\Sigma_u =  u^T \\lambda u =\\lambda u^T .u = \\lambda E $ where $Е = 1$(single matrix) <br> <br>\n",
    "from above we can canclude that <mark> maximux variance is equal to eigenvalue of covariance matrix $\\Sigma$</mark> that means the biggest eigenvalue coresponds to the highest variance"
   ]
  },
  {
   "cell_type": "markdown",
   "id": "8b54cae8",
   "metadata": {},
   "source": [
    "<h2>How do you determine the number of principal components k(Variance ration explained)</h2>"
   ]
  },
  {
   "cell_type": "markdown",
   "id": "b8e09640",
   "metadata": {},
   "source": [
    "We alway can get some eigen vector $\\vec u_k $ in original space $\\vec e_n $ where $k<n$ to be our new basic thus we ahive Dimensionaly reduction.We've already known that the magnitude of its eigenvalue $\\lambda$ is equal to variance $\\sigma$ over that eigen vector therefore, our goal is to use the M largest eigenvalues that discribe the data without to loose undelying information or in other words we have to determine  how many principle component to use.\n",
    "So now the question comes that how to select the new set of Principal components. The rule behind is that we sort the Eigenvalues in descending order and then choose the top $k$ features concerning top $k$ Eigenvalues\n",
    " $\\lambda_1\\geq \\lambda_2\\geq ... \\geq \\lambda_n$.\n",
    "\n",
    "The idea here is that by choosing top k we have decided that the variance which corresponds to those k feature space is enough to describe the data set.\n",
    "And by losing the remaining variance of those not selected features, won’t cost the accuracy much or we are OK to loose that much accuracy that costs because of neglected variance.\n",
    "\n",
    "First of all The <mark>total variance</mark>\n",
    " is the sum of variances of all individual principal components \n",
    " wich is equal to sum of all eigen values.\n",
    " $$Total \\; variance =\\lambda_1+\\lambda_2+...+\\lambda_n =\\sigma_1+\\sigma_2+...+\\sigma_n $$\n",
    "\n",
    "\n"
   ]
  },
  {
   "cell_type": "markdown",
   "id": "90798fd3",
   "metadata": {},
   "source": [
    "The fraction of $variance \\; explained$ by a principal component is the ratio between the variance of that principal component and the total variance, using eigen values that is matematicaly  wriiten : "
   ]
  },
  {
   "cell_type": "markdown",
   "id": "d2225ced",
   "metadata": {},
   "source": [
    " $$variance\\; of\\; one\\; component \\;RatioVar(\\vec v_i)= \\frac {\\lambda_i}{{\\lambda_i}+{\\lambda_2}+...+{\\lambda_n}}$$"
   ]
  },
  {
   "cell_type": "markdown",
   "id": "cf919175",
   "metadata": {},
   "source": [
    "Let's have for example: $\\Lambda=\\begin{pmatrix}\n",
    "40& 0 & \\ldots & 0  \\\\\n",
    "0  & 5 & \\ldots &  0\\\\\n",
    "\\vdots  & \\ldots  & 2 & \\vdots  \\\\\n",
    "0 &  \\ldots & \\ldots & 0.1  \\\\\n",
    "\\end{pmatrix}$\n",
    "That is our eigen values how to explain that variance:"
   ]
  },
  {
   "cell_type": "code",
   "execution_count": 6,
   "id": "539785f3",
   "metadata": {},
   "outputs": [
    {
     "name": "stdout",
     "output_type": "stream",
     "text": [
      "EVR (%): \n",
      " [0.8492569  0.10615711 0.04246285 0.00212314]\n",
      "[0.8492569  0.95541401 0.99787686 1.        ]\n"
     ]
    },
    {
     "data": {
      "image/png": "[encoded data removed]",
      "text/plain": [
       "<Figure size 432x288 with 1 Axes>"
      ]
     },
     "metadata": {
      "needs_background": "light"
     },
     "output_type": "display_data"
    }
   ],
   "source": [
    "eigen_values = np.array([40,5,2,0.1])\n",
    "total_variance = np.array([40,5,2,0.1]).sum()\n",
    "evr = eigen_values/total_variance\n",
    "cum_evr = np.cumsum(evr)\n",
    "print(\"EVR (%): \\n\", evr)\n",
    "print(cum_evr)\n",
    "plt.bar(range(4), evr, alpha=0.5, align='center',\n",
    "            label='individual explained variance')\n",
    "plt.step(range(4), cum_evr, where='mid',\n",
    "             label='cumulative explained variance')\n",
    "plt.ylabel('Explained variance ratio')\n",
    "plt.xlabel('Principal components')\n",
    "plt.legend(loc='best')\n",
    "plt.tight_layout()"
   ]
  },
  {
   "cell_type": "markdown",
   "id": "8a5f8260",
   "metadata": {},
   "source": [
    "We can see in the graph that first principal component explains around 84% of variance in data and second principal component explains around 10% of variance in data.About 95% of the variance in data is explained by first 2 principal components (PC1 and PC2). We can exclude the other 2 components (PC3 and PC4) as they do not explain much about the data. So, the optimal no of principal components (or features) is 2.\n",
    "Matematicaly that is wriiten :\n",
    "$$RatioVar(\\vec v_1)+RatioVar(\\vec v_2)= \\frac {\\lambda_1 + \\lambda_2}{{\\lambda_i}+{\\lambda_2}+...+{\\lambda_n}} = 0.95541401 > 95% $$\n"
   ]
  },
  {
   "cell_type": "markdown",
   "id": "e31c5fe7",
   "metadata": {},
   "source": [
    "Depending on the certain data and cases we can choose different percentages of variance $95$%,$99$%, $60$%.In some cases, $50$% will get be the small one but enough variance for our tasks."
   ]
  },
  {
   "cell_type": "markdown",
   "id": "390c8ac3",
   "metadata": {},
   "source": [
    "<h2>Transform the data set into eigen basic (covariance eigen vectors)(numpy)</h2>"
   ]
  },
  {
   "cell_type": "code",
   "execution_count": 69,
   "id": "51a68fa4",
   "metadata": {},
   "outputs": [
    {
     "data": {
      "text/plain": [
       "Text(0.09436102145606891, 0.4250432576595145, '$\\\\vec v_2$')"
      ]
     },
     "execution_count": 69,
     "metadata": {},
     "output_type": "execute_result"
    },
    {
     "data": {
      "image/png": "[encoded data removed]",
      "text/plain": [
       "<Figure size 432x288 with 1 Axes>"
      ]
     },
     "metadata": {
      "needs_background": "light"
     },
     "output_type": "display_data"
    }
   ],
   "source": [
    "plt.scatter(X[:, 0], X[:, 1],color='b')\n",
    "ax = plt.gca()\n",
    "S = np.cov(X.T)\n",
    "eigen_values , V = np.linalg.eig(S)\n",
    "ax.arrow(0,0,eigen_values[0]*V[0,0],eigen_values[0]*V[1,0], head_width=0.1, head_length=1, fc='red', ec='black')\n",
    "ax.arrow(0,0,eigen_values[1]*V[0,1],eigen_values[1]*V[1,1], head_width=0.1, head_length=1, fc='red', ec='black')\n",
    "plt.text(eigen_values[0]*V[0,0],eigen_values[0]*V[0,1]+6,r'$\\vec v_1$',size=25,color='r')\n",
    "plt.text(eigen_values[1]*V[1,0],eigen_values[1]*V[1,1],r'$\\vec v_2$',size=25,color='r')\n",
    "#ax.arrow(0,0,1,0, head_width=0.1, head_length=1, fc='red', ec='red')"
   ]
  },
  {
   "cell_type": "markdown",
   "id": "b7ecdbd6",
   "metadata": {},
   "source": [
    "Out puppose is to transform the dataset into eigen basis(covariance eigen vetors).\n",
    "Let's get the data point of our dataset <br> $X_i\\in (\\vec e_1\\perp \\vec e_2)$ of the dataset. "
   ]
  },
  {
   "cell_type": "markdown",
   "id": "a15dee38",
   "metadata": {},
   "source": [
    " $$\\vec x_i=x_{i1}{\\vec e_1} + x_{i2}{\\vec e_2}$$ <br> <br>\n",
    " $$9) \\;\\;\\;\\; \\vec x_i = \\begin{pmatrix}\n",
    "x_{i1} & x_{i2}\n",
    "\\end{pmatrix} \\times \\begin{pmatrix}\n",
    "\\vec e_1\\\\\n",
    "\\vec e_1 \\\\\n",
    "\\end{pmatrix}$$"
   ]
  },
  {
   "cell_type": "markdown",
   "id": "31f16fb8",
   "metadata": {},
   "source": [
    "We have to find the cordinates of the point onto eigen basis $v_1\\perp\\vec v_2$"
   ]
  },
  {
   "cell_type": "markdown",
   "id": "0c83b559",
   "metadata": {},
   "source": [
    "  $$\\vec x_i =x_{i1}'{\\vec v_1} + x_{i2}'{\\vec v_2}$$\n"
   ]
  },
  {
   "cell_type": "markdown",
   "id": "054b8a1a",
   "metadata": {},
   "source": [
    "$$10) \\;\\;\\;\\;  \\vec x_i = \\begin{pmatrix}\n",
    "x'_{i1} & x'_{i2}\n",
    "\\end{pmatrix} \\times \\begin{pmatrix}\n",
    "\\vec v_1\\\\\n",
    "\\vec v_1 \\\\\n",
    "\\end{pmatrix}$$"
   ]
  },
  {
   "cell_type": "markdown",
   "id": "3bab898a",
   "metadata": {},
   "source": [
    "for  eigen vector $\\vec v_1 and \\vec v_2$ we have :\n",
    "$$ \\vec v_1=v_{11}{\\vec e_1} + x_{12}{\\vec e_2}$$ \n",
    "$$\\vec v_2=v_{21}{\\vec e_1} + x_{22}{\\vec e_2}$$ \n"
   ]
  },
  {
   "cell_type": "markdown",
   "id": "a608cc66",
   "metadata": {},
   "source": [
    "$$11) \\; \\; \\; \\begin{pmatrix}\n",
    "\\vec v_1\\\\\n",
    "\\vec v_1 \\\\\n",
    "\\end{pmatrix} = \\begin{pmatrix}\n",
    "v_{11} & v_{12}  \\\\\n",
    " v_{21}  & v_{22} \\\\\n",
    "\\end{pmatrix} \\times \\begin{pmatrix}\n",
    "\\vec e_1\\\\\n",
    "\\vec e_1 \\\\\n",
    "\\end{pmatrix}$$"
   ]
  },
  {
   "cell_type": "markdown",
   "id": "120b1711",
   "metadata": {},
   "source": [
    "by matrix manipulation from 11) we can expressed basic $(\\vec e_1\\perp \\vec e_2)$  onto basis $(\\vec v_1\\perp \\vec v_2)$"
   ]
  },
  {
   "cell_type": "markdown",
   "id": "06fdb827",
   "metadata": {},
   "source": [
    "$$\\; \\; \\;  \\begin{pmatrix}\n",
    "v_{11} & v_{12}  \\\\\n",
    " v_{21}  & v_{22} \\\\\n",
    "\\end{pmatrix}^{-1} \\times \\begin{pmatrix}\n",
    "\\vec v_1\\\\\n",
    "\\vec v_1 \\\\\n",
    "\\end{pmatrix} = \\begin{pmatrix}\n",
    "v_{11} & v_{12}  \\\\\n",
    " v_{21}  & v_{22} \\\\\n",
    "\\end{pmatrix}^{-1} \\begin{pmatrix}\n",
    "v_{11} & v_{12}  \\\\\n",
    " v_{21}  & v_{22} \\\\\n",
    "\\end{pmatrix} \\times \\begin{pmatrix}\n",
    "\\vec e_1\\\\\n",
    "\\vec e_1 \\\\\n",
    "\\end{pmatrix}$$"
   ]
  },
  {
   "cell_type": "markdown",
   "id": "11c264b9",
   "metadata": {},
   "source": [
    "$$\\; \\; \\;=   \\begin{pmatrix}\n",
    "v_{11} & v_{12}  \\\\\n",
    " v_{21}  & v_{22} \\\\\n",
    "\\end{pmatrix}^{-1} \\times \\begin{pmatrix}\n",
    "\\vec v_1\\\\\n",
    "\\vec v_1 \\\\\n",
    "\\end{pmatrix} = \\begin{pmatrix}\n",
    "1 & 0  \\\\\n",
    "0  & 1 \\\\\n",
    "\\end{pmatrix} \\times \\begin{pmatrix}\n",
    "\\vec e_1\\\\\n",
    "\\vec e_1 \\\\\n",
    "\\end{pmatrix}$$"
   ]
  },
  {
   "cell_type": "markdown",
   "id": "0e1251cb",
   "metadata": {},
   "source": [
    "ant we achive the the cordinates of $\\vec e_i$ onto eige basis :\n",
    "$$12) \\; \\; \\; \\begin{pmatrix}\n",
    "\\vec e_1\\\\\n",
    "\\vec e_1 \\\\\n",
    "\\end{pmatrix} = \\begin{pmatrix}\n",
    "v_{11} & v_{12}  \\\\\n",
    " v_{21}  & v_{22} \\\\\n",
    "\\end{pmatrix}^{-1} \\times \\begin{pmatrix}\n",
    "\\vec v_1\\\\\n",
    "\\vec v_1 \\\\\n",
    "\\end{pmatrix}$$"
   ]
  },
  {
   "cell_type": "markdown",
   "id": "e02a96a8",
   "metadata": {},
   "source": [
    "Appying 12) into 11) we get  : \n",
    " $$\\vec x_i=x_{i1}{\\vec e_1} + x_{i2}{\\vec e_2}$$ <br> <br>\n",
    " $$\\;\\;\\;\\; \\vec x_i = \\begin{pmatrix}\n",
    "x_{i1} & x_{i2}\n",
    "\\end{pmatrix} \\times \\begin{pmatrix}\n",
    "\\vec e_1\\\\\n",
    "\\vec e_1 \\\\\n",
    "\\end{pmatrix} = \\vec x_i = \\begin{pmatrix}\n",
    "x_{i1} & x_{i2}\n",
    "\\end{pmatrix} \\begin{pmatrix}\n",
    "v_{11} & v_{12}  \\\\\n",
    " v_{21}  & v_{22} \\\\\n",
    "\\end{pmatrix}^{-1} \\times \\begin{pmatrix}\n",
    "\\vec v_1\\\\\n",
    "\\vec v_1 \\\\\n",
    "\\end{pmatrix} $$"
   ]
  },
  {
   "cell_type": "markdown",
   "id": "09c8fb1e",
   "metadata": {},
   "source": [
    "$$13) \\; \\; \\; \\; \\; \\vec x_i=\\begin{pmatrix}\n",
    "x_{i1} & x_{i2}\n",
    "\\end{pmatrix} \\begin{pmatrix}\n",
    "v_{11} & v_{12}  \\\\\n",
    " v_{21}  & v_{22} \\\\\n",
    "\\end{pmatrix}^{-1} \\times \\begin{pmatrix}\n",
    "\\vec v_1\\\\\n",
    "\\vec v_1 \\\\\n",
    "\\end{pmatrix}$$"
   ]
  },
  {
   "cell_type": "markdown",
   "id": "cc679a9a",
   "metadata": {},
   "source": [
    "comparing matrix euqtion 10) and 13) we achive : "
   ]
  },
  {
   "cell_type": "markdown",
   "id": "9a5bb8be",
   "metadata": {},
   "source": [
    "$$ \\;\\;\\;\\;  \\vec x_i = \\begin{pmatrix}\n",
    "x'_{i1} & x'_{i2}\n",
    "\\end{pmatrix} \\times \\begin{pmatrix}\n",
    "\\vec v_1\\\\\n",
    "\\vec v_1 \\\\\n",
    "\\end{pmatrix} = \\begin{pmatrix}\n",
    "x_{i1} & x_{i2}\n",
    "\\end{pmatrix} \\begin{pmatrix}\n",
    "v_{11} & v_{12}  \\\\\n",
    " v_{21}  & v_{22} \\\\\n",
    "\\end{pmatrix}^{-1} \\times \\begin{pmatrix}\n",
    "\\vec v_1\\\\\n",
    "\\vec v_1 \\\\\n",
    "\\end{pmatrix} \n",
    " $$"
   ]
  },
  {
   "cell_type": "markdown",
   "id": "f1ec1df6",
   "metadata": {},
   "source": [
    "and we get  the law of transformation : "
   ]
  },
  {
   "cell_type": "markdown",
   "id": "0ba4d6cc",
   "metadata": {},
   "source": [
    "$$ 14) \\;\\;\\;\\;  \\vec x_i = \\begin{pmatrix}\n",
    "x'_{i1} & x'_{i2}\n",
    "\\end{pmatrix}  = \\begin{pmatrix}\n",
    "x_{i1} & x_{i2}\n",
    "\\end{pmatrix} \\begin{pmatrix}\n",
    "v_{11} & v_{12}  \\\\\n",
    " v_{21}  & v_{22} \\\\\n",
    "\\end{pmatrix}^{-1}  \n",
    " = \\begin{pmatrix}\n",
    "v_{11} & v_{21}  \\\\\n",
    " v_{12}  & v_{22} \\\\\n",
    "\\end{pmatrix}^{-1}\\begin{pmatrix}\n",
    "x_{i1} \\\\\n",
    "x_{i2}\n",
    "\\end{pmatrix}  $$"
   ]
  },
  {
   "cell_type": "markdown",
   "id": "57282f44",
   "metadata": {},
   "source": [
    "Ok to tranfor the data we have to find the inverse matrix of stracked eigen vectors $v_i$ of covarian matrix $\\Sigma$\n",
    "and to multiply by data set $X^T$"
   ]
  },
  {
   "cell_type": "code",
   "execution_count": 70,
   "id": "3e65b2ff",
   "metadata": {},
   "outputs": [
    {
     "name": "stdout",
     "output_type": "stream",
     "text": [
      "Cov matrix:  \n",
      "[[13.75993293  2.95809265]\n",
      " [ 2.95809265  1.09209796]]\n"
     ]
    }
   ],
   "source": [
    "X_transpose = X.T\n",
    "cov = np.cov(X_transpose)\n",
    "print(\"Cov matrix:  \")\n",
    "print(cov)\n"
   ]
  },
  {
   "cell_type": "code",
   "execution_count": 78,
   "id": "27522a33",
   "metadata": {},
   "outputs": [
    {
     "name": "stdout",
     "output_type": "stream",
     "text": [
      "eigen values :  [14.41663937  0.43539152]\n",
      "eigen vectors stacked V : \n",
      "[[ 0.97623229 -0.21672683]\n",
      " [ 0.21672683  0.97623229]]\n"
     ]
    },
    {
     "data": {
      "text/plain": [
       "(array([ 0.43539152, 14.41663937]),\n",
       " array([[ 0.21672683, -0.97623229],\n",
       "        [-0.97623229, -0.21672683]]))"
      ]
     },
     "execution_count": 78,
     "metadata": {},
     "output_type": "execute_result"
    }
   ],
   "source": [
    "eigen_values , V = np.linalg.eig(cov)\n",
    "print(\"eigen values : \" , eigen_values.T)\n",
    "print(\"eigen vectors stacked V : \" )\n",
    "print(V)\n",
    "\n",
    "eigen_values , V = np.linalg.eigh(cov)\n",
    "scipy.linalg.eigh(cov)"
   ]
  },
  {
   "cell_type": "code",
   "execution_count": 81,
   "id": "ea673bdb",
   "metadata": {},
   "outputs": [
    {
     "data": {
      "text/plain": [
       "array([0, 1], dtype=int64)"
      ]
     },
     "execution_count": 81,
     "metadata": {},
     "output_type": "execute_result"
    }
   ],
   "source": [
    "sorted_indexes = np.argsort(eigen_values)\n",
    "sorted_indexes\n"
   ]
  },
  {
   "cell_type": "code",
   "execution_count": 82,
   "id": "c65dff39",
   "metadata": {},
   "outputs": [],
   "source": [
    "V = V[sorted_indexes]\n",
    "V= V[:,sorted_indexes]"
   ]
  },
  {
   "cell_type": "code",
   "execution_count": 83,
   "id": "d1fac5f6",
   "metadata": {},
   "outputs": [
    {
     "data": {
      "text/plain": [
       "array([[ 0.21672683, -0.97623229],\n",
       "       [-0.97623229, -0.21672683]])"
      ]
     },
     "execution_count": 83,
     "metadata": {},
     "output_type": "execute_result"
    }
   ],
   "source": [
    "V"
   ]
  },
  {
   "cell_type": "code",
   "execution_count": 10,
   "id": "4d77bd42",
   "metadata": {},
   "outputs": [
    {
     "data": {
      "text/plain": [
       "array([[14.41663937,  0.        ],\n",
       "       [ 0.        ,  0.43539152]])"
      ]
     },
     "execution_count": 10,
     "metadata": {},
     "output_type": "execute_result"
    }
   ],
   "source": [
    "Lambda = np.diag(eigen_values, k=0) #diagonal matrix Lambda\n",
    "Lambda"
   ]
  },
  {
   "cell_type": "code",
   "execution_count": 11,
   "id": "96455bd3",
   "metadata": {},
   "outputs": [
    {
     "data": {
      "text/plain": [
       "array([14.41663937,  0.43539152])"
      ]
     },
     "execution_count": 11,
     "metadata": {},
     "output_type": "execute_result"
    }
   ],
   "source": [
    "X_tranform = np.linalg.inv(V).dot(X_transpose).T\n",
    "cov = np.cov(X_tranform.T)\n",
    "eigen_values , V = np.linalg.eig(cov)\n",
    "eigen_values"
   ]
  },
  {
   "cell_type": "code",
   "execution_count": 68,
   "id": "7c4033af",
   "metadata": {},
   "outputs": [
    {
     "data": {
      "text/plain": [
       "(array([-1.90023344e+00, -1.81826282e+00, -1.80325572e+00, -1.53250260e+00,\n",
       "        -1.48932902e+00, -1.46882953e+00, -1.34089764e+00, -1.26945029e+00,\n",
       "        -1.26702336e+00, -1.24957723e+00, -1.23419446e+00, -1.20019997e+00,\n",
       "        -1.17933725e+00, -1.14832004e+00, -1.12252521e+00, -1.10319281e+00,\n",
       "        -1.08256392e+00, -1.07913782e+00, -1.05086076e+00, -1.02750570e+00,\n",
       "        -1.01556499e+00, -9.85822067e-01, -9.78316421e-01, -9.74551950e-01,\n",
       "        -9.58745985e-01, -9.41208082e-01, -9.34480129e-01, -9.26216019e-01,\n",
       "        -9.16932152e-01, -9.09322000e-01, -9.00654235e-01, -8.80378028e-01,\n",
       "        -8.68392941e-01, -8.59227458e-01, -8.54366220e-01, -8.44699307e-01,\n",
       "        -8.26059321e-01, -8.17245218e-01, -8.11272913e-01, -8.07901704e-01,\n",
       "        -7.87692680e-01, -7.64015553e-01, -7.58813021e-01, -7.57812010e-01,\n",
       "        -7.40562556e-01, -7.32784678e-01, -7.29850116e-01, -7.24829881e-01,\n",
       "        -7.18033634e-01, -7.11334850e-01, -7.06564889e-01, -7.02430183e-01,\n",
       "        -6.96820256e-01, -6.88013171e-01, -6.82051246e-01, -6.80199688e-01,\n",
       "        -6.66056911e-01, -6.59987392e-01, -6.48024383e-01, -6.43731915e-01,\n",
       "        -6.40578954e-01, -6.34161068e-01, -6.26323766e-01, -6.19421256e-01,\n",
       "        -6.14578979e-01, -6.08638132e-01, -6.02405034e-01, -5.95444704e-01,\n",
       "        -5.91728688e-01, -5.78767909e-01, -5.75549938e-01, -5.73089382e-01,\n",
       "        -5.69601737e-01, -5.58229830e-01, -5.56862158e-01, -5.46978753e-01,\n",
       "        -5.44583524e-01, -5.35282853e-01, -5.26578761e-01, -5.25101857e-01,\n",
       "        -5.19003885e-01, -5.17479015e-01, -5.13518602e-01, -5.07972391e-01,\n",
       "        -4.95217927e-01, -4.91006805e-01, -4.89504976e-01, -4.85958273e-01,\n",
       "        -4.79364655e-01, -4.75287503e-01, -4.68242553e-01, -4.63045781e-01,\n",
       "        -4.57097634e-01, -4.52566471e-01, -4.49339986e-01, -4.45684327e-01,\n",
       "        -4.41402776e-01, -4.32279151e-01, -4.31067992e-01, -4.25603062e-01,\n",
       "        -4.22113784e-01, -4.15755620e-01, -4.07251520e-01, -4.02879685e-01,\n",
       "        -3.98837576e-01, -3.94667111e-01, -3.92215868e-01, -3.84015331e-01,\n",
       "        -3.82490445e-01, -3.81536093e-01, -3.76543895e-01, -3.69732428e-01,\n",
       "        -3.67570499e-01, -3.64224033e-01, -3.55833428e-01, -3.49551789e-01,\n",
       "        -3.47133364e-01, -3.43524642e-01, -3.40209407e-01, -3.33463772e-01,\n",
       "        -3.29543470e-01, -3.25397166e-01, -3.23099915e-01, -3.21589938e-01,\n",
       "        -3.20030613e-01, -3.13234975e-01, -3.06558730e-01, -3.03523161e-01,\n",
       "        -2.99941291e-01, -2.98360862e-01, -2.91979539e-01, -2.87458205e-01,\n",
       "        -2.85236241e-01, -2.73728596e-01, -2.73005737e-01, -2.67256247e-01,\n",
       "        -2.64698356e-01, -2.62634456e-01, -2.59977451e-01, -2.54588805e-01,\n",
       "        -2.48800313e-01, -2.43641847e-01, -2.42347013e-01, -2.35706956e-01,\n",
       "        -2.30322430e-01, -2.28000604e-01, -2.23273275e-01, -2.18419849e-01,\n",
       "        -2.15660549e-01, -2.12173558e-01, -2.11879002e-01, -2.10319762e-01,\n",
       "        -2.04486153e-01, -2.03552474e-01, -2.00486295e-01, -1.98063218e-01,\n",
       "        -1.93461897e-01, -1.87254055e-01, -1.83959564e-01, -1.78701510e-01,\n",
       "        -1.76164942e-01, -1.75924059e-01, -1.69671740e-01, -1.66305201e-01,\n",
       "        -1.61855139e-01, -1.57938576e-01, -1.56459610e-01, -1.49936634e-01,\n",
       "        -1.46479400e-01, -1.43992573e-01, -1.40118918e-01, -1.39814913e-01,\n",
       "        -1.33555089e-01, -1.30439465e-01, -1.27922648e-01, -1.22366674e-01,\n",
       "        -1.21035846e-01, -1.16258551e-01, -1.11799035e-01, -1.09553964e-01,\n",
       "        -1.08296705e-01, -1.05212213e-01, -1.01948241e-01, -1.00448852e-01,\n",
       "        -9.57400433e-02, -9.06739260e-02, -8.84150851e-02, -8.30079229e-02,\n",
       "        -8.11305235e-02, -8.06005630e-02, -7.81745387e-02, -7.46687436e-02,\n",
       "        -7.29195791e-02, -6.83747918e-02, -6.57039472e-02, -6.28470510e-02,\n",
       "        -6.10759463e-02, -5.73734453e-02, -5.52676567e-02, -5.13438369e-02,\n",
       "        -4.84716077e-02, -4.35172495e-02, -4.13448408e-02, -4.03922620e-02,\n",
       "        -3.86759722e-02, -3.28821379e-02, -3.11752346e-02, -2.70941837e-02,\n",
       "        -2.29024481e-02, -2.24560714e-02, -2.04067295e-02, -1.68762441e-02,\n",
       "        -1.59251275e-02, -1.28558940e-02, -1.21700200e-02, -8.78194814e-03,\n",
       "        -6.85405022e-03, -2.72524715e-03, -4.81535625e-04, -1.74456411e-16,\n",
       "        -8.39515710e-17, -7.13559480e-17, -5.80510874e-17, -4.92663397e-17,\n",
       "        -3.24698678e-17, -2.44195013e-17, -6.55268824e-18,  7.89910435e-18,\n",
       "         9.44787954e-18,  2.17014197e-17,  3.12544803e-17,  3.86603719e-17,\n",
       "         3.86737027e-17,  3.92207196e-17,  5.13055685e-17,  5.22375472e-17,\n",
       "         6.24683034e-17,  1.30130856e-16,  1.35916857e-16,  1.38063389e-16,\n",
       "         1.94839020e-16,  2.10526549e-16,  1.23387764e-03,  3.37448187e-03,\n",
       "         6.43788376e-03,  8.91611709e-03,  1.02756163e-02,  1.36343540e-02,\n",
       "         1.44472657e-02,  1.71234654e-02,  1.80551262e-02,  2.09864815e-02,\n",
       "         2.78975693e-02,  3.17923121e-02,  3.37047973e-02,  3.54442257e-02,\n",
       "         3.77325719e-02,  4.20708177e-02,  4.49774537e-02,  4.65580945e-02,\n",
       "         5.31433285e-02,  5.47493626e-02,  5.83874434e-02,  6.16470801e-02,\n",
       "         6.34385258e-02,  6.64858828e-02,  6.85663193e-02,  7.15081752e-02,\n",
       "         7.44912239e-02,  7.60518323e-02,  7.72234104e-02,  7.87153669e-02,\n",
       "         8.47089326e-02,  8.54530666e-02,  8.60731981e-02,  9.27475439e-02,\n",
       "         9.52080272e-02,  9.74025017e-02,  1.01700898e-01,  1.04576763e-01,\n",
       "         1.08990536e-01,  1.14734400e-01,  1.16024863e-01,  1.20276106e-01,\n",
       "         1.24948842e-01,  1.27098960e-01,  1.29110794e-01,  1.35441399e-01,\n",
       "         1.36100662e-01,  1.38361300e-01,  1.40359403e-01,  1.47445848e-01,\n",
       "         1.50074498e-01,  1.54113232e-01,  1.55908574e-01,  1.60010389e-01,\n",
       "         1.64731212e-01,  1.68561455e-01,  1.68841927e-01,  1.74692059e-01,\n",
       "         1.77969911e-01,  1.80142656e-01,  1.87692053e-01,  1.93631038e-01,\n",
       "         1.93901853e-01,  1.95880462e-01,  2.03043605e-01,  2.07418280e-01,\n",
       "         2.13572616e-01,  2.17721133e-01,  2.20610011e-01,  2.23289401e-01,\n",
       "         2.27589569e-01,  2.29022379e-01,  2.34253624e-01,  2.35514153e-01,\n",
       "         2.41237512e-01,  2.44496807e-01,  2.46628849e-01,  2.53456661e-01,\n",
       "         2.56745791e-01,  2.63766419e-01,  2.64135256e-01,  2.66407584e-01,\n",
       "         2.69356344e-01,  2.73877884e-01,  2.78135955e-01,  2.79166761e-01,\n",
       "         2.88268354e-01,  2.92258299e-01,  2.94781598e-01,  2.98278792e-01,\n",
       "         2.99712785e-01,  3.04550775e-01,  3.07442267e-01,  3.11235187e-01,\n",
       "         3.20034301e-01,  3.21410120e-01,  3.26467347e-01,  3.28664381e-01,\n",
       "         3.34630762e-01,  3.37667871e-01,  3.40548658e-01,  3.46817760e-01,\n",
       "         3.49992072e-01,  3.52306354e-01,  3.57998817e-01,  3.62176373e-01,\n",
       "         3.66515045e-01,  3.71139303e-01,  3.73420126e-01,  3.76405108e-01,\n",
       "         3.82546262e-01,  3.84637271e-01,  3.92480273e-01,  3.95886024e-01,\n",
       "         4.00372900e-01,  4.09403887e-01,  4.13235384e-01,  4.18872566e-01,\n",
       "         4.20642185e-01,  4.26515694e-01,  4.29065112e-01,  4.35107588e-01,\n",
       "         4.38960163e-01,  4.46628767e-01,  4.53780602e-01,  4.59377106e-01,\n",
       "         4.64953421e-01,  4.67162799e-01,  4.74324354e-01,  4.75827865e-01,\n",
       "         4.81266089e-01,  4.83227169e-01,  4.91394622e-01,  4.93688178e-01,\n",
       "         5.00492789e-01,  5.01623656e-01,  5.06069744e-01,  5.07770714e-01,\n",
       "         5.14344282e-01,  5.22396460e-01,  5.29014993e-01,  5.29739787e-01,\n",
       "         5.36236962e-01,  5.45089133e-01,  5.53071424e-01,  5.54777577e-01,\n",
       "         5.58734522e-01,  5.69246061e-01,  5.72994466e-01,  5.76638496e-01,\n",
       "         5.83125066e-01,  5.85705389e-01,  5.89712796e-01,  5.95635645e-01,\n",
       "         5.98123819e-01,  6.04237564e-01,  6.09955624e-01,  6.21310717e-01,\n",
       "         6.23101040e-01,  6.27568704e-01,  6.32811344e-01,  6.38714274e-01,\n",
       "         6.45747517e-01,  6.50371698e-01,  6.55377026e-01,  6.61859303e-01,\n",
       "         6.70500198e-01,  6.75690876e-01,  6.84521325e-01,  6.87573252e-01,\n",
       "         6.89475839e-01,  6.97529458e-01,  7.02784492e-01,  7.10850527e-01,\n",
       "         7.21175593e-01,  7.22068830e-01,  7.34391461e-01,  7.35504603e-01,\n",
       "         7.39277107e-01,  7.46250688e-01,  7.49999858e-01,  7.55322085e-01,\n",
       "         7.62076666e-01,  7.67013427e-01,  7.77603273e-01,  7.82870896e-01,\n",
       "         7.89952694e-01,  7.95552941e-01,  8.02785820e-01,  8.07831596e-01,\n",
       "         8.13321028e-01,  8.23670217e-01,  8.30939210e-01,  8.38704636e-01,\n",
       "         8.45667633e-01,  8.52467046e-01,  8.58173273e-01,  8.64818823e-01,\n",
       "         8.65435600e-01,  8.76684918e-01,  8.79571011e-01,  8.93151801e-01,\n",
       "         9.00599599e-01,  9.13487451e-01,  9.14805777e-01,  9.24503236e-01,\n",
       "         9.30266246e-01,  9.37350067e-01,  9.52833529e-01,  9.56683336e-01,\n",
       "         9.64770081e-01,  9.71117618e-01,  9.73887694e-01,  9.89583169e-01,\n",
       "         9.98367960e-01,  9.99825023e-01,  1.01013000e+00,  1.01529078e+00,\n",
       "         1.02354007e+00,  1.02601215e+00,  1.03753171e+00,  1.05260285e+00,\n",
       "         1.06129299e+00,  1.06593131e+00,  1.08067212e+00,  1.08488513e+00,\n",
       "         1.09858806e+00,  1.10738849e+00,  1.11000195e+00,  1.12262396e+00,\n",
       "         1.13019289e+00,  1.14022958e+00,  1.14949035e+00,  1.16117960e+00,\n",
       "         1.17577034e+00,  1.18019484e+00,  1.19613311e+00,  1.20758695e+00,\n",
       "         1.21811359e+00,  1.23248876e+00,  1.23829660e+00,  1.25048903e+00,\n",
       "         1.25724203e+00,  1.26334486e+00,  1.27023285e+00,  1.29681981e+00,\n",
       "         1.30668359e+00,  1.32878255e+00,  1.33732938e+00,  1.35818129e+00,\n",
       "         1.36691045e+00,  1.38743418e+00,  1.39543461e+00,  1.40289956e+00,\n",
       "         1.41182020e+00,  1.43731907e+00,  1.46144215e+00,  1.47300719e+00,\n",
       "         1.48806737e+00,  1.51136791e+00,  1.51956582e+00,  1.53203230e+00,\n",
       "         1.55113276e+00,  1.55569948e+00,  1.59466012e+00,  1.59928713e+00,\n",
       "         1.61960197e+00,  1.63628855e+00,  1.65442655e+00,  1.68791966e+00,\n",
       "         1.70847470e+00,  1.73850687e+00,  1.76972750e+00,  1.82030819e+00,\n",
       "         1.84460538e+00,  1.87316245e+00,  1.90879215e+00,  1.92101307e+00,\n",
       "         1.95391377e+00,  1.97050052e+00,  2.00149265e+00,  2.03674198e+00,\n",
       "         2.05631623e+00,  2.10909392e+00,  2.12146206e+00,  2.15870126e+00,\n",
       "         2.20620023e+00,  2.24601509e+00,  2.31479507e+00,  2.32985430e+00,\n",
       "         2.41231685e+00,  2.48158706e+00,  2.54916710e+00,  2.66762477e+00,\n",
       "         2.68523876e+00,  2.76889087e+00,  2.90148508e+00,  2.97777853e+00,\n",
       "         3.03820473e+00,  3.07840803e+00,  3.18356362e+00,  3.34212192e+00,\n",
       "         3.38019310e+00,  3.55292959e+00,  3.68395897e+00,  3.72407113e+00,\n",
       "         3.77721453e+00,  4.51139361e+00,  4.59796021e+00,  4.83094312e+00,\n",
       "         5.56055520e+00,  5.80166582e+00,  6.85592743e+00,  7.77157843e+00,\n",
       "         9.86668790e+00,  1.06926396e+01,  1.42433596e+01,  1.58530238e+01,\n",
       "         3.69379200e+01,  2.84927350e+02]),\n",
       " array([[ 7.25075000e-03, -1.70861039e-02, -6.84657535e-03, ...,\n",
       "         -2.92756652e-02, -9.96261914e-03, -3.07890304e-04],\n",
       "        [-2.38790232e-02, -4.84883592e-04, -3.53554041e-03, ...,\n",
       "          4.54022821e-05, -2.07343902e-03, -9.28373180e-04],\n",
       "        [-8.09780978e-03,  8.59571097e-03, -5.69964808e-03, ...,\n",
       "          9.05649131e-03,  1.64954013e-03, -1.96634453e-04],\n",
       "        ...,\n",
       "        [ 5.20966056e-02, -4.63803206e-02,  3.05555138e-02, ...,\n",
       "         -7.82071907e-02,  3.37952996e-02,  3.00453489e-02],\n",
       "        [ 4.77580496e-03,  6.71708357e-03, -9.58819648e-04, ...,\n",
       "         -6.41837104e-02,  1.61350688e-02,  2.62295967e-02],\n",
       "        [-1.05067891e-02,  1.19141621e-02,  7.14342122e-03, ...,\n",
       "          1.66445183e-02,  5.71185443e-03, -5.71349332e-03]]))"
      ]
     },
     "execution_count": 68,
     "metadata": {},
     "output_type": "execute_result"
    }
   ],
   "source": [
    "scipy.linalg.eigh(cov)"
   ]
  },
  {
   "cell_type": "code",
   "execution_count": 12,
   "id": "d2dd50ee",
   "metadata": {},
   "outputs": [
    {
     "data": {
      "text/plain": [
       "Text(0.0, 0.4353915172026723, '$\\\\vec v_2$')"
      ]
     },
     "execution_count": 12,
     "metadata": {},
     "output_type": "execute_result"
    },
    {
     "data": {
      "image/png": "[encoded data removed]",
      "text/plain": [
       "<Figure size 432x288 with 1 Axes>"
      ]
     },
     "metadata": {
      "needs_background": "light"
     },
     "output_type": "display_data"
    }
   ],
   "source": [
    "\n",
    "plt.scatter(X_tranform[:, 0], X_tranform[:, 1],color='b')\n",
    "ax = plt.gca()\n",
    "ax.arrow(0,0,eigen_values[0]*V[0,0],eigen_values[0]*V[1,0], head_width=0.1, head_length=1, fc='red', ec='black')\n",
    "ax.arrow(0,0,eigen_values[1]*V[0,1],eigen_values[1]*V[1,1], head_width=0.1, head_length=1, fc='red', ec='black')\n",
    "plt.text(eigen_values[0]*V[0,0],eigen_values[0]*V[0,1],r'$\\vec v_1$',size=25,color='r')\n",
    "plt.text(eigen_values[1]*V[1,0],eigen_values[1]*V[1,1],r'$\\vec v_2$',size=25,color='r')"
   ]
  },
  {
   "cell_type": "markdown",
   "id": "b03b52e9",
   "metadata": {},
   "source": [
    "We've tranformed the data in most appropriative basic.Can we drob the $v_2$ in order to discribe data only with $v_1$."
   ]
  },
  {
   "cell_type": "code",
   "execution_count": 13,
   "id": "019340b6",
   "metadata": {},
   "outputs": [
    {
     "data": {
      "text/plain": [
       "array([0.97068472, 0.02931528])"
      ]
     },
     "execution_count": 13,
     "metadata": {},
     "output_type": "execute_result"
    }
   ],
   "source": [
    "eigen_values/eigen_values.sum()"
   ]
  },
  {
   "cell_type": "code",
   "execution_count": 14,
   "id": "5d40aa57",
   "metadata": {},
   "outputs": [
    {
     "data": {
      "text/plain": [
       "array([], shape=(500, 0), dtype=float64)"
      ]
     },
     "execution_count": 14,
     "metadata": {},
     "output_type": "execute_result"
    }
   ],
   "source": [
    "X_tranform[:,0]\n",
    "X_tranform[:,:0]\n"
   ]
  },
  {
   "cell_type": "markdown",
   "id": "53575795",
   "metadata": {},
   "source": [
    "The first eigen_value has 97% of varriance,that means we can use only $v_1$"
   ]
  },
  {
   "cell_type": "markdown",
   "id": "d4fcc457",
   "metadata": {},
   "source": [
    "<h2>Implementation of PCA (numpy) and applying into Human Activity Recognition dataset  </h2>"
   ]
  },
  {
   "cell_type": "code",
   "execution_count": 15,
   "id": "0c4d64e2",
   "metadata": {},
   "outputs": [],
   "source": [
    "class PCA:\n",
    "    def __init__(self):\n",
    "        self.eigen_values = None\n",
    "        self.eigev_V =  None\n",
    "        self.transfotmation = None\n",
    "    \n",
    "    def transform(self,X,max_variance_explain=100,number_of_component=None):\n",
    "        self.calculate(X)\n",
    "        X_tranform = self.transfotmation.dot(X.T).T\n",
    "        \n",
    "        if max_variance_explain != 100 :\n",
    "            number_of_component = get_number_component(max_variance_explain)\n",
    "            return X_tranform[:,:number_of_component]\n",
    "        if number_of_component is not None :\n",
    "            return X_tranform[:,:number_of_component]\n",
    "        return X_tranform[:,:number_of_component]\n",
    "            \n",
    "    \n",
    "    def calculate(self,X):\n",
    "        cov = np.cov(X.T)\n",
    "        self.eigen_values , self.V = np.linalg.eig(cov)\n",
    "        self.transfotmation = np.linalg.inv(self.V)\n",
    "        \n",
    "    def ration_variance():\n",
    "        return self.eigen_values/self.eigen_values.sum()\n",
    "    \n",
    "    def get_number_component(max_variance_explain):\n",
    "        cum_evr = np.cumsum(evr)\n",
    "        for i in range(cum_evr):\n",
    "            if cum_evr>=max_variance_explain:\n",
    "                return i+1\n",
    "        \n",
    "    \n",
    "    "
   ]
  },
  {
   "cell_type": "code",
   "execution_count": 16,
   "id": "9c431288",
   "metadata": {},
   "outputs": [],
   "source": [
    "import pandas as pd"
   ]
  },
  {
   "cell_type": "code",
   "execution_count": 17,
   "id": "796b296a",
   "metadata": {},
   "outputs": [],
   "source": [
    "attribute_train = pd.read_csv('https://disk.bg/s/UFQtiaqlTDj2SZX/download')  ### train data load\n",
    "attribute_test = pd.read_csv('https://disk.bg/s/VYmtGL4lzcHdcCl/download')\n",
    "scaler = StandardScaler()"
   ]
  },
  {
   "cell_type": "code",
   "execution_count": 18,
   "id": "b4612bfc",
   "metadata": {},
   "outputs": [
    {
     "data": {
      "text/html": [
       "<div>\n",
       "<style scoped>\n",
       "    .dataframe tbody tr th:only-of-type {\n",
       "        vertical-align: middle;\n",
       "    }\n",
       "\n",
       "    .dataframe tbody tr th {\n",
       "        vertical-align: top;\n",
       "    }\n",
       "\n",
       "    .dataframe thead th {\n",
       "        text-align: right;\n",
       "    }\n",
       "</style>\n",
       "<table border=\"1\" class=\"dataframe\">\n",
       "  <thead>\n",
       "    <tr style=\"text-align: right;\">\n",
       "      <th></th>\n",
       "      <th>tBodyAcc-mean()-X</th>\n",
       "      <th>tBodyAcc-mean()-Y</th>\n",
       "      <th>tBodyAcc-mean()-Z</th>\n",
       "      <th>tBodyAcc-std()-X</th>\n",
       "      <th>tBodyAcc-std()-Y</th>\n",
       "      <th>tBodyAcc-std()-Z</th>\n",
       "      <th>tBodyAcc-mad()-X</th>\n",
       "      <th>tBodyAcc-mad()-Y</th>\n",
       "      <th>tBodyAcc-mad()-Z</th>\n",
       "      <th>tBodyAcc-max()-X</th>\n",
       "      <th>...</th>\n",
       "      <th>fBodyBodyGyroJerkMag-kurtosis()</th>\n",
       "      <th>angle(tBodyAccMean,gravity)</th>\n",
       "      <th>angle(tBodyAccJerkMean),gravityMean)</th>\n",
       "      <th>angle(tBodyGyroMean,gravityMean)</th>\n",
       "      <th>angle(tBodyGyroJerkMean,gravityMean)</th>\n",
       "      <th>angle(X,gravityMean)</th>\n",
       "      <th>angle(Y,gravityMean)</th>\n",
       "      <th>angle(Z,gravityMean)</th>\n",
       "      <th>subject</th>\n",
       "      <th>Activity</th>\n",
       "    </tr>\n",
       "  </thead>\n",
       "  <tbody>\n",
       "    <tr>\n",
       "      <th>0</th>\n",
       "      <td>0.288585</td>\n",
       "      <td>-0.020294</td>\n",
       "      <td>-0.132905</td>\n",
       "      <td>-0.995279</td>\n",
       "      <td>-0.983111</td>\n",
       "      <td>-0.913526</td>\n",
       "      <td>-0.995112</td>\n",
       "      <td>-0.983185</td>\n",
       "      <td>-0.923527</td>\n",
       "      <td>-0.934724</td>\n",
       "      <td>...</td>\n",
       "      <td>-0.710304</td>\n",
       "      <td>-0.112754</td>\n",
       "      <td>0.030400</td>\n",
       "      <td>-0.464761</td>\n",
       "      <td>-0.018446</td>\n",
       "      <td>-0.841247</td>\n",
       "      <td>0.179941</td>\n",
       "      <td>-0.058627</td>\n",
       "      <td>1</td>\n",
       "      <td>STANDING</td>\n",
       "    </tr>\n",
       "    <tr>\n",
       "      <th>1</th>\n",
       "      <td>0.278419</td>\n",
       "      <td>-0.016411</td>\n",
       "      <td>-0.123520</td>\n",
       "      <td>-0.998245</td>\n",
       "      <td>-0.975300</td>\n",
       "      <td>-0.960322</td>\n",
       "      <td>-0.998807</td>\n",
       "      <td>-0.974914</td>\n",
       "      <td>-0.957686</td>\n",
       "      <td>-0.943068</td>\n",
       "      <td>...</td>\n",
       "      <td>-0.861499</td>\n",
       "      <td>0.053477</td>\n",
       "      <td>-0.007435</td>\n",
       "      <td>-0.732626</td>\n",
       "      <td>0.703511</td>\n",
       "      <td>-0.844788</td>\n",
       "      <td>0.180289</td>\n",
       "      <td>-0.054317</td>\n",
       "      <td>1</td>\n",
       "      <td>STANDING</td>\n",
       "    </tr>\n",
       "    <tr>\n",
       "      <th>2</th>\n",
       "      <td>0.279653</td>\n",
       "      <td>-0.019467</td>\n",
       "      <td>-0.113462</td>\n",
       "      <td>-0.995380</td>\n",
       "      <td>-0.967187</td>\n",
       "      <td>-0.978944</td>\n",
       "      <td>-0.996520</td>\n",
       "      <td>-0.963668</td>\n",
       "      <td>-0.977469</td>\n",
       "      <td>-0.938692</td>\n",
       "      <td>...</td>\n",
       "      <td>-0.760104</td>\n",
       "      <td>-0.118559</td>\n",
       "      <td>0.177899</td>\n",
       "      <td>0.100699</td>\n",
       "      <td>0.808529</td>\n",
       "      <td>-0.848933</td>\n",
       "      <td>0.180637</td>\n",
       "      <td>-0.049118</td>\n",
       "      <td>1</td>\n",
       "      <td>STANDING</td>\n",
       "    </tr>\n",
       "    <tr>\n",
       "      <th>3</th>\n",
       "      <td>0.279174</td>\n",
       "      <td>-0.026201</td>\n",
       "      <td>-0.123283</td>\n",
       "      <td>-0.996091</td>\n",
       "      <td>-0.983403</td>\n",
       "      <td>-0.990675</td>\n",
       "      <td>-0.997099</td>\n",
       "      <td>-0.982750</td>\n",
       "      <td>-0.989302</td>\n",
       "      <td>-0.938692</td>\n",
       "      <td>...</td>\n",
       "      <td>-0.482845</td>\n",
       "      <td>-0.036788</td>\n",
       "      <td>-0.012892</td>\n",
       "      <td>0.640011</td>\n",
       "      <td>-0.485366</td>\n",
       "      <td>-0.848649</td>\n",
       "      <td>0.181935</td>\n",
       "      <td>-0.047663</td>\n",
       "      <td>1</td>\n",
       "      <td>STANDING</td>\n",
       "    </tr>\n",
       "    <tr>\n",
       "      <th>4</th>\n",
       "      <td>0.276629</td>\n",
       "      <td>-0.016570</td>\n",
       "      <td>-0.115362</td>\n",
       "      <td>-0.998139</td>\n",
       "      <td>-0.980817</td>\n",
       "      <td>-0.990482</td>\n",
       "      <td>-0.998321</td>\n",
       "      <td>-0.979672</td>\n",
       "      <td>-0.990441</td>\n",
       "      <td>-0.942469</td>\n",
       "      <td>...</td>\n",
       "      <td>-0.699205</td>\n",
       "      <td>0.123320</td>\n",
       "      <td>0.122542</td>\n",
       "      <td>0.693578</td>\n",
       "      <td>-0.615971</td>\n",
       "      <td>-0.847865</td>\n",
       "      <td>0.185151</td>\n",
       "      <td>-0.043892</td>\n",
       "      <td>1</td>\n",
       "      <td>STANDING</td>\n",
       "    </tr>\n",
       "    <tr>\n",
       "      <th>...</th>\n",
       "      <td>...</td>\n",
       "      <td>...</td>\n",
       "      <td>...</td>\n",
       "      <td>...</td>\n",
       "      <td>...</td>\n",
       "      <td>...</td>\n",
       "      <td>...</td>\n",
       "      <td>...</td>\n",
       "      <td>...</td>\n",
       "      <td>...</td>\n",
       "      <td>...</td>\n",
       "      <td>...</td>\n",
       "      <td>...</td>\n",
       "      <td>...</td>\n",
       "      <td>...</td>\n",
       "      <td>...</td>\n",
       "      <td>...</td>\n",
       "      <td>...</td>\n",
       "      <td>...</td>\n",
       "      <td>...</td>\n",
       "      <td>...</td>\n",
       "    </tr>\n",
       "    <tr>\n",
       "      <th>7347</th>\n",
       "      <td>0.299665</td>\n",
       "      <td>-0.057193</td>\n",
       "      <td>-0.181233</td>\n",
       "      <td>-0.195387</td>\n",
       "      <td>0.039905</td>\n",
       "      <td>0.077078</td>\n",
       "      <td>-0.282301</td>\n",
       "      <td>0.043616</td>\n",
       "      <td>0.060410</td>\n",
       "      <td>0.210795</td>\n",
       "      <td>...</td>\n",
       "      <td>-0.880324</td>\n",
       "      <td>-0.190437</td>\n",
       "      <td>0.829718</td>\n",
       "      <td>0.206972</td>\n",
       "      <td>-0.425619</td>\n",
       "      <td>-0.791883</td>\n",
       "      <td>0.238604</td>\n",
       "      <td>0.049819</td>\n",
       "      <td>30</td>\n",
       "      <td>WALKING_UPSTAIRS</td>\n",
       "    </tr>\n",
       "    <tr>\n",
       "      <th>7348</th>\n",
       "      <td>0.273853</td>\n",
       "      <td>-0.007749</td>\n",
       "      <td>-0.147468</td>\n",
       "      <td>-0.235309</td>\n",
       "      <td>0.004816</td>\n",
       "      <td>0.059280</td>\n",
       "      <td>-0.322552</td>\n",
       "      <td>-0.029456</td>\n",
       "      <td>0.080585</td>\n",
       "      <td>0.117440</td>\n",
       "      <td>...</td>\n",
       "      <td>-0.680744</td>\n",
       "      <td>0.064907</td>\n",
       "      <td>0.875679</td>\n",
       "      <td>-0.879033</td>\n",
       "      <td>0.400219</td>\n",
       "      <td>-0.771840</td>\n",
       "      <td>0.252676</td>\n",
       "      <td>0.050053</td>\n",
       "      <td>30</td>\n",
       "      <td>WALKING_UPSTAIRS</td>\n",
       "    </tr>\n",
       "    <tr>\n",
       "      <th>7349</th>\n",
       "      <td>0.273387</td>\n",
       "      <td>-0.017011</td>\n",
       "      <td>-0.045022</td>\n",
       "      <td>-0.218218</td>\n",
       "      <td>-0.103822</td>\n",
       "      <td>0.274533</td>\n",
       "      <td>-0.304515</td>\n",
       "      <td>-0.098913</td>\n",
       "      <td>0.332584</td>\n",
       "      <td>0.043999</td>\n",
       "      <td>...</td>\n",
       "      <td>-0.304029</td>\n",
       "      <td>0.052806</td>\n",
       "      <td>-0.266724</td>\n",
       "      <td>0.864404</td>\n",
       "      <td>0.701169</td>\n",
       "      <td>-0.779133</td>\n",
       "      <td>0.249145</td>\n",
       "      <td>0.040811</td>\n",
       "      <td>30</td>\n",
       "      <td>WALKING_UPSTAIRS</td>\n",
       "    </tr>\n",
       "    <tr>\n",
       "      <th>7350</th>\n",
       "      <td>0.289654</td>\n",
       "      <td>-0.018843</td>\n",
       "      <td>-0.158281</td>\n",
       "      <td>-0.219139</td>\n",
       "      <td>-0.111412</td>\n",
       "      <td>0.268893</td>\n",
       "      <td>-0.310487</td>\n",
       "      <td>-0.068200</td>\n",
       "      <td>0.319473</td>\n",
       "      <td>0.101702</td>\n",
       "      <td>...</td>\n",
       "      <td>-0.344314</td>\n",
       "      <td>-0.101360</td>\n",
       "      <td>0.700740</td>\n",
       "      <td>0.936674</td>\n",
       "      <td>-0.589479</td>\n",
       "      <td>-0.785181</td>\n",
       "      <td>0.246432</td>\n",
       "      <td>0.025339</td>\n",
       "      <td>30</td>\n",
       "      <td>WALKING_UPSTAIRS</td>\n",
       "    </tr>\n",
       "    <tr>\n",
       "      <th>7351</th>\n",
       "      <td>0.351503</td>\n",
       "      <td>-0.012423</td>\n",
       "      <td>-0.203867</td>\n",
       "      <td>-0.269270</td>\n",
       "      <td>-0.087212</td>\n",
       "      <td>0.177404</td>\n",
       "      <td>-0.377404</td>\n",
       "      <td>-0.038678</td>\n",
       "      <td>0.229430</td>\n",
       "      <td>0.269013</td>\n",
       "      <td>...</td>\n",
       "      <td>-0.740738</td>\n",
       "      <td>-0.280088</td>\n",
       "      <td>-0.007739</td>\n",
       "      <td>-0.056088</td>\n",
       "      <td>-0.616956</td>\n",
       "      <td>-0.783267</td>\n",
       "      <td>0.246809</td>\n",
       "      <td>0.036695</td>\n",
       "      <td>30</td>\n",
       "      <td>WALKING_UPSTAIRS</td>\n",
       "    </tr>\n",
       "  </tbody>\n",
       "</table>\n",
       "<p>7352 rows × 563 columns</p>\n",
       "</div>"
      ],
      "text/plain": [
       "      tBodyAcc-mean()-X  tBodyAcc-mean()-Y  tBodyAcc-mean()-Z  \\\n",
       "0              0.288585          -0.020294          -0.132905   \n",
       "1              0.278419          -0.016411          -0.123520   \n",
       "2              0.279653          -0.019467          -0.113462   \n",
       "3              0.279174          -0.026201          -0.123283   \n",
       "4              0.276629          -0.016570          -0.115362   \n",
       "...                 ...                ...                ...   \n",
       "7347           0.299665          -0.057193          -0.181233   \n",
       "7348           0.273853          -0.007749          -0.147468   \n",
       "7349           0.273387          -0.017011          -0.045022   \n",
       "7350           0.289654          -0.018843          -0.158281   \n",
       "7351           0.351503          -0.012423          -0.203867   \n",
       "\n",
       "      tBodyAcc-std()-X  tBodyAcc-std()-Y  tBodyAcc-std()-Z  tBodyAcc-mad()-X  \\\n",
       "0            -0.995279         -0.983111         -0.913526         -0.995112   \n",
       "1            -0.998245         -0.975300         -0.960322         -0.998807   \n",
       "2            -0.995380         -0.967187         -0.978944         -0.996520   \n",
       "3            -0.996091         -0.983403         -0.990675         -0.997099   \n",
       "4            -0.998139         -0.980817         -0.990482         -0.998321   \n",
       "...                ...               ...               ...               ...   \n",
       "7347         -0.195387          0.039905          0.077078         -0.282301   \n",
       "7348         -0.235309          0.004816          0.059280         -0.322552   \n",
       "7349         -0.218218         -0.103822          0.274533         -0.304515   \n",
       "7350         -0.219139         -0.111412          0.268893         -0.310487   \n",
       "7351         -0.269270         -0.087212          0.177404         -0.377404   \n",
       "\n",
       "      tBodyAcc-mad()-Y  tBodyAcc-mad()-Z  tBodyAcc-max()-X  ...  \\\n",
       "0            -0.983185         -0.923527         -0.934724  ...   \n",
       "1            -0.974914         -0.957686         -0.943068  ...   \n",
       "2            -0.963668         -0.977469         -0.938692  ...   \n",
       "3            -0.982750         -0.989302         -0.938692  ...   \n",
       "4            -0.979672         -0.990441         -0.942469  ...   \n",
       "...                ...               ...               ...  ...   \n",
       "7347          0.043616          0.060410          0.210795  ...   \n",
       "7348         -0.029456          0.080585          0.117440  ...   \n",
       "7349         -0.098913          0.332584          0.043999  ...   \n",
       "7350         -0.068200          0.319473          0.101702  ...   \n",
       "7351         -0.038678          0.229430          0.269013  ...   \n",
       "\n",
       "      fBodyBodyGyroJerkMag-kurtosis()  angle(tBodyAccMean,gravity)  \\\n",
       "0                           -0.710304                    -0.112754   \n",
       "1                           -0.861499                     0.053477   \n",
       "2                           -0.760104                    -0.118559   \n",
       "3                           -0.482845                    -0.036788   \n",
       "4                           -0.699205                     0.123320   \n",
       "...                               ...                          ...   \n",
       "7347                        -0.880324                    -0.190437   \n",
       "7348                        -0.680744                     0.064907   \n",
       "7349                        -0.304029                     0.052806   \n",
       "7350                        -0.344314                    -0.101360   \n",
       "7351                        -0.740738                    -0.280088   \n",
       "\n",
       "      angle(tBodyAccJerkMean),gravityMean)  angle(tBodyGyroMean,gravityMean)  \\\n",
       "0                                 0.030400                         -0.464761   \n",
       "1                                -0.007435                         -0.732626   \n",
       "2                                 0.177899                          0.100699   \n",
       "3                                -0.012892                          0.640011   \n",
       "4                                 0.122542                          0.693578   \n",
       "...                                    ...                               ...   \n",
       "7347                              0.829718                          0.206972   \n",
       "7348                              0.875679                         -0.879033   \n",
       "7349                             -0.266724                          0.864404   \n",
       "7350                              0.700740                          0.936674   \n",
       "7351                             -0.007739                         -0.056088   \n",
       "\n",
       "      angle(tBodyGyroJerkMean,gravityMean)  angle(X,gravityMean)  \\\n",
       "0                                -0.018446             -0.841247   \n",
       "1                                 0.703511             -0.844788   \n",
       "2                                 0.808529             -0.848933   \n",
       "3                                -0.485366             -0.848649   \n",
       "4                                -0.615971             -0.847865   \n",
       "...                                    ...                   ...   \n",
       "7347                             -0.425619             -0.791883   \n",
       "7348                              0.400219             -0.771840   \n",
       "7349                              0.701169             -0.779133   \n",
       "7350                             -0.589479             -0.785181   \n",
       "7351                             -0.616956             -0.783267   \n",
       "\n",
       "      angle(Y,gravityMean)  angle(Z,gravityMean)  subject          Activity  \n",
       "0                 0.179941             -0.058627        1          STANDING  \n",
       "1                 0.180289             -0.054317        1          STANDING  \n",
       "2                 0.180637             -0.049118        1          STANDING  \n",
       "3                 0.181935             -0.047663        1          STANDING  \n",
       "4                 0.185151             -0.043892        1          STANDING  \n",
       "...                    ...                   ...      ...               ...  \n",
       "7347              0.238604              0.049819       30  WALKING_UPSTAIRS  \n",
       "7348              0.252676              0.050053       30  WALKING_UPSTAIRS  \n",
       "7349              0.249145              0.040811       30  WALKING_UPSTAIRS  \n",
       "7350              0.246432              0.025339       30  WALKING_UPSTAIRS  \n",
       "7351              0.246809              0.036695       30  WALKING_UPSTAIRS  \n",
       "\n",
       "[7352 rows x 563 columns]"
      ]
     },
     "execution_count": 18,
     "metadata": {},
     "output_type": "execute_result"
    }
   ],
   "source": [
    "attribute_train"
   ]
  },
  {
   "cell_type": "code",
   "execution_count": 19,
   "id": "d06aeb3b",
   "metadata": {},
   "outputs": [],
   "source": [
    "train_data  = attribute_train.drop('Activity' , axis=1).values\n",
    "label_data = attribute_train['Activity'].values\n",
    "\n",
    "train_data_test = attribute_test.drop('Activity' , axis=1).values\n",
    "label_data_test = attribute_test['Activity'].values\n",
    "\n",
    "scaler = StandardScaler()\n",
    "train_data =scaler.fit(train_data).transform(train_data)"
   ]
  },
  {
   "cell_type": "code",
   "execution_count": 20,
   "id": "41c4f0f9",
   "metadata": {},
   "outputs": [
    {
     "name": "stdout",
     "output_type": "stream",
     "text": [
      "train data  (7352, 562)\n",
      "label data  (7352,)\n"
     ]
    }
   ],
   "source": [
    "print('train data ' ,train_data.shape)\n",
    "print('label data ' ,label_data.shape)\n",
    "\n",
    "# print('train data test ' ,train_data_test.shape)\n",
    "# print('label_data_test' ,label_data_test.shape)"
   ]
  },
  {
   "cell_type": "markdown",
   "id": "5036de64",
   "metadata": {},
   "source": [
    "The data set 563 features.We have to see whether most of them are redunduncy,or just they are linear dependent or \n",
    "To make dimensionaly reduction."
   ]
  },
  {
   "cell_type": "code",
   "execution_count": 21,
   "id": "e30fe8e8",
   "metadata": {},
   "outputs": [
    {
     "data": {
      "text/plain": [
       "(7352, 562)"
      ]
     },
     "execution_count": 21,
     "metadata": {},
     "output_type": "execute_result"
    }
   ],
   "source": [
    "train_data.shape"
   ]
  },
  {
   "cell_type": "code",
   "execution_count": 22,
   "id": "e1a3935b",
   "metadata": {},
   "outputs": [],
   "source": [
    "pca = PCA()\n",
    "new_data= pca.transform(train_data)"
   ]
  },
  {
   "cell_type": "code",
   "execution_count": 67,
   "id": "ee76bddb",
   "metadata": {},
   "outputs": [
    {
     "data": {
      "text/plain": [
       "(array([-1.90023344e+00, -1.81826282e+00, -1.80325572e+00, -1.53250260e+00,\n",
       "        -1.48932902e+00, -1.46882953e+00, -1.34089764e+00, -1.26945029e+00,\n",
       "        -1.26702336e+00, -1.24957723e+00, -1.23419446e+00, -1.20019997e+00,\n",
       "        -1.17933725e+00, -1.14832004e+00, -1.12252521e+00, -1.10319281e+00,\n",
       "        -1.08256392e+00, -1.07913782e+00, -1.05086076e+00, -1.02750570e+00,\n",
       "        -1.01556499e+00, -9.85822067e-01, -9.78316421e-01, -9.74551950e-01,\n",
       "        -9.58745985e-01, -9.41208082e-01, -9.34480129e-01, -9.26216019e-01,\n",
       "        -9.16932152e-01, -9.09322000e-01, -9.00654235e-01, -8.80378028e-01,\n",
       "        -8.68392941e-01, -8.59227458e-01, -8.54366220e-01, -8.44699307e-01,\n",
       "        -8.26059321e-01, -8.17245218e-01, -8.11272913e-01, -8.07901704e-01,\n",
       "        -7.87692680e-01, -7.64015553e-01, -7.58813021e-01, -7.57812010e-01,\n",
       "        -7.40562556e-01, -7.32784678e-01, -7.29850116e-01, -7.24829881e-01,\n",
       "        -7.18033634e-01, -7.11334850e-01, -7.06564889e-01, -7.02430183e-01,\n",
       "        -6.96820256e-01, -6.88013171e-01, -6.82051246e-01, -6.80199688e-01,\n",
       "        -6.66056911e-01, -6.59987392e-01, -6.48024383e-01, -6.43731915e-01,\n",
       "        -6.40578954e-01, -6.34161068e-01, -6.26323766e-01, -6.19421256e-01,\n",
       "        -6.14578979e-01, -6.08638132e-01, -6.02405034e-01, -5.95444704e-01,\n",
       "        -5.91728688e-01, -5.78767909e-01, -5.75549938e-01, -5.73089382e-01,\n",
       "        -5.69601737e-01, -5.58229830e-01, -5.56862158e-01, -5.46978753e-01,\n",
       "        -5.44583524e-01, -5.35282853e-01, -5.26578761e-01, -5.25101857e-01,\n",
       "        -5.19003885e-01, -5.17479015e-01, -5.13518602e-01, -5.07972391e-01,\n",
       "        -4.95217927e-01, -4.91006805e-01, -4.89504976e-01, -4.85958273e-01,\n",
       "        -4.79364655e-01, -4.75287503e-01, -4.68242553e-01, -4.63045781e-01,\n",
       "        -4.57097634e-01, -4.52566471e-01, -4.49339986e-01, -4.45684327e-01,\n",
       "        -4.41402776e-01, -4.32279151e-01, -4.31067992e-01, -4.25603062e-01,\n",
       "        -4.22113784e-01, -4.15755620e-01, -4.07251520e-01, -4.02879685e-01,\n",
       "        -3.98837576e-01, -3.94667111e-01, -3.92215868e-01, -3.84015331e-01,\n",
       "        -3.82490445e-01, -3.81536093e-01, -3.76543895e-01, -3.69732428e-01,\n",
       "        -3.67570499e-01, -3.64224033e-01, -3.55833428e-01, -3.49551789e-01,\n",
       "        -3.47133364e-01, -3.43524642e-01, -3.40209407e-01, -3.33463772e-01,\n",
       "        -3.29543470e-01, -3.25397166e-01, -3.23099915e-01, -3.21589938e-01,\n",
       "        -3.20030613e-01, -3.13234975e-01, -3.06558730e-01, -3.03523161e-01,\n",
       "        -2.99941291e-01, -2.98360862e-01, -2.91979539e-01, -2.87458205e-01,\n",
       "        -2.85236241e-01, -2.73728596e-01, -2.73005737e-01, -2.67256247e-01,\n",
       "        -2.64698356e-01, -2.62634456e-01, -2.59977451e-01, -2.54588805e-01,\n",
       "        -2.48800313e-01, -2.43641847e-01, -2.42347013e-01, -2.35706956e-01,\n",
       "        -2.30322430e-01, -2.28000604e-01, -2.23273275e-01, -2.18419849e-01,\n",
       "        -2.15660549e-01, -2.12173558e-01, -2.11879002e-01, -2.10319762e-01,\n",
       "        -2.04486153e-01, -2.03552474e-01, -2.00486295e-01, -1.98063218e-01,\n",
       "        -1.93461897e-01, -1.87254055e-01, -1.83959564e-01, -1.78701510e-01,\n",
       "        -1.76164942e-01, -1.75924059e-01, -1.69671740e-01, -1.66305201e-01,\n",
       "        -1.61855139e-01, -1.57938576e-01, -1.56459610e-01, -1.49936634e-01,\n",
       "        -1.46479400e-01, -1.43992573e-01, -1.40118918e-01, -1.39814913e-01,\n",
       "        -1.33555089e-01, -1.30439465e-01, -1.27922648e-01, -1.22366674e-01,\n",
       "        -1.21035846e-01, -1.16258551e-01, -1.11799035e-01, -1.09553964e-01,\n",
       "        -1.08296705e-01, -1.05212213e-01, -1.01948241e-01, -1.00448852e-01,\n",
       "        -9.57400433e-02, -9.06739260e-02, -8.84150851e-02, -8.30079229e-02,\n",
       "        -8.11305235e-02, -8.06005630e-02, -7.81745387e-02, -7.46687436e-02,\n",
       "        -7.29195791e-02, -6.83747918e-02, -6.57039472e-02, -6.28470510e-02,\n",
       "        -6.10759463e-02, -5.73734453e-02, -5.52676567e-02, -5.13438369e-02,\n",
       "        -4.84716077e-02, -4.35172495e-02, -4.13448408e-02, -4.03922620e-02,\n",
       "        -3.86759722e-02, -3.28821379e-02, -3.11752346e-02, -2.70941837e-02,\n",
       "        -2.29024481e-02, -2.24560714e-02, -2.04067295e-02, -1.68762441e-02,\n",
       "        -1.59251275e-02, -1.28558940e-02, -1.21700200e-02, -8.78194814e-03,\n",
       "        -6.85405022e-03, -2.72524715e-03, -4.81535625e-04, -1.74456411e-16,\n",
       "        -8.39515710e-17, -7.13559480e-17, -5.80510874e-17, -4.92663397e-17,\n",
       "        -3.24698678e-17, -2.44195013e-17, -6.55268824e-18,  7.89910435e-18,\n",
       "         9.44787954e-18,  2.17014197e-17,  3.12544803e-17,  3.86603719e-17,\n",
       "         3.86737027e-17,  3.92207196e-17,  5.13055685e-17,  5.22375472e-17,\n",
       "         6.24683034e-17,  1.30130856e-16,  1.35916857e-16,  1.38063389e-16,\n",
       "         1.94839020e-16,  2.10526549e-16,  1.23387764e-03,  3.37448187e-03,\n",
       "         6.43788376e-03,  8.91611709e-03,  1.02756163e-02,  1.36343540e-02,\n",
       "         1.44472657e-02,  1.71234654e-02,  1.80551262e-02,  2.09864815e-02,\n",
       "         2.78975693e-02,  3.17923121e-02,  3.37047973e-02,  3.54442257e-02,\n",
       "         3.77325719e-02,  4.20708177e-02,  4.49774537e-02,  4.65580945e-02,\n",
       "         5.31433285e-02,  5.47493626e-02,  5.83874434e-02,  6.16470801e-02,\n",
       "         6.34385258e-02,  6.64858828e-02,  6.85663193e-02,  7.15081752e-02,\n",
       "         7.44912239e-02,  7.60518323e-02,  7.72234104e-02,  7.87153669e-02,\n",
       "         8.47089326e-02,  8.54530666e-02,  8.60731981e-02,  9.27475439e-02,\n",
       "         9.52080272e-02,  9.74025017e-02,  1.01700898e-01,  1.04576763e-01,\n",
       "         1.08990536e-01,  1.14734400e-01,  1.16024863e-01,  1.20276106e-01,\n",
       "         1.24948842e-01,  1.27098960e-01,  1.29110794e-01,  1.35441399e-01,\n",
       "         1.36100662e-01,  1.38361300e-01,  1.40359403e-01,  1.47445848e-01,\n",
       "         1.50074498e-01,  1.54113232e-01,  1.55908574e-01,  1.60010389e-01,\n",
       "         1.64731212e-01,  1.68561455e-01,  1.68841927e-01,  1.74692059e-01,\n",
       "         1.77969911e-01,  1.80142656e-01,  1.87692053e-01,  1.93631038e-01,\n",
       "         1.93901853e-01,  1.95880462e-01,  2.03043605e-01,  2.07418280e-01,\n",
       "         2.13572616e-01,  2.17721133e-01,  2.20610011e-01,  2.23289401e-01,\n",
       "         2.27589569e-01,  2.29022379e-01,  2.34253624e-01,  2.35514153e-01,\n",
       "         2.41237512e-01,  2.44496807e-01,  2.46628849e-01,  2.53456661e-01,\n",
       "         2.56745791e-01,  2.63766419e-01,  2.64135256e-01,  2.66407584e-01,\n",
       "         2.69356344e-01,  2.73877884e-01,  2.78135955e-01,  2.79166761e-01,\n",
       "         2.88268354e-01,  2.92258299e-01,  2.94781598e-01,  2.98278792e-01,\n",
       "         2.99712785e-01,  3.04550775e-01,  3.07442267e-01,  3.11235187e-01,\n",
       "         3.20034301e-01,  3.21410120e-01,  3.26467347e-01,  3.28664381e-01,\n",
       "         3.34630762e-01,  3.37667871e-01,  3.40548658e-01,  3.46817760e-01,\n",
       "         3.49992072e-01,  3.52306354e-01,  3.57998817e-01,  3.62176373e-01,\n",
       "         3.66515045e-01,  3.71139303e-01,  3.73420126e-01,  3.76405108e-01,\n",
       "         3.82546262e-01,  3.84637271e-01,  3.92480273e-01,  3.95886024e-01,\n",
       "         4.00372900e-01,  4.09403887e-01,  4.13235384e-01,  4.18872566e-01,\n",
       "         4.20642185e-01,  4.26515694e-01,  4.29065112e-01,  4.35107588e-01,\n",
       "         4.38960163e-01,  4.46628767e-01,  4.53780602e-01,  4.59377106e-01,\n",
       "         4.64953421e-01,  4.67162799e-01,  4.74324354e-01,  4.75827865e-01,\n",
       "         4.81266089e-01,  4.83227169e-01,  4.91394622e-01,  4.93688178e-01,\n",
       "         5.00492789e-01,  5.01623656e-01,  5.06069744e-01,  5.07770714e-01,\n",
       "         5.14344282e-01,  5.22396460e-01,  5.29014993e-01,  5.29739787e-01,\n",
       "         5.36236962e-01,  5.45089133e-01,  5.53071424e-01,  5.54777577e-01,\n",
       "         5.58734522e-01,  5.69246061e-01,  5.72994466e-01,  5.76638496e-01,\n",
       "         5.83125066e-01,  5.85705389e-01,  5.89712796e-01,  5.95635645e-01,\n",
       "         5.98123819e-01,  6.04237564e-01,  6.09955624e-01,  6.21310717e-01,\n",
       "         6.23101040e-01,  6.27568704e-01,  6.32811344e-01,  6.38714274e-01,\n",
       "         6.45747517e-01,  6.50371698e-01,  6.55377026e-01,  6.61859303e-01,\n",
       "         6.70500198e-01,  6.75690876e-01,  6.84521325e-01,  6.87573252e-01,\n",
       "         6.89475839e-01,  6.97529458e-01,  7.02784492e-01,  7.10850527e-01,\n",
       "         7.21175593e-01,  7.22068830e-01,  7.34391461e-01,  7.35504603e-01,\n",
       "         7.39277107e-01,  7.46250688e-01,  7.49999858e-01,  7.55322085e-01,\n",
       "         7.62076666e-01,  7.67013427e-01,  7.77603273e-01,  7.82870896e-01,\n",
       "         7.89952694e-01,  7.95552941e-01,  8.02785820e-01,  8.07831596e-01,\n",
       "         8.13321028e-01,  8.23670217e-01,  8.30939210e-01,  8.38704636e-01,\n",
       "         8.45667633e-01,  8.52467046e-01,  8.58173273e-01,  8.64818823e-01,\n",
       "         8.65435600e-01,  8.76684918e-01,  8.79571011e-01,  8.93151801e-01,\n",
       "         9.00599599e-01,  9.13487451e-01,  9.14805777e-01,  9.24503236e-01,\n",
       "         9.30266246e-01,  9.37350067e-01,  9.52833529e-01,  9.56683336e-01,\n",
       "         9.64770081e-01,  9.71117618e-01,  9.73887694e-01,  9.89583169e-01,\n",
       "         9.98367960e-01,  9.99825023e-01,  1.01013000e+00,  1.01529078e+00,\n",
       "         1.02354007e+00,  1.02601215e+00,  1.03753171e+00,  1.05260285e+00,\n",
       "         1.06129299e+00,  1.06593131e+00,  1.08067212e+00,  1.08488513e+00,\n",
       "         1.09858806e+00,  1.10738849e+00,  1.11000195e+00,  1.12262396e+00,\n",
       "         1.13019289e+00,  1.14022958e+00,  1.14949035e+00,  1.16117960e+00,\n",
       "         1.17577034e+00,  1.18019484e+00,  1.19613311e+00,  1.20758695e+00,\n",
       "         1.21811359e+00,  1.23248876e+00,  1.23829660e+00,  1.25048903e+00,\n",
       "         1.25724203e+00,  1.26334486e+00,  1.27023285e+00,  1.29681981e+00,\n",
       "         1.30668359e+00,  1.32878255e+00,  1.33732938e+00,  1.35818129e+00,\n",
       "         1.36691045e+00,  1.38743418e+00,  1.39543461e+00,  1.40289956e+00,\n",
       "         1.41182020e+00,  1.43731907e+00,  1.46144215e+00,  1.47300719e+00,\n",
       "         1.48806737e+00,  1.51136791e+00,  1.51956582e+00,  1.53203230e+00,\n",
       "         1.55113276e+00,  1.55569948e+00,  1.59466012e+00,  1.59928713e+00,\n",
       "         1.61960197e+00,  1.63628855e+00,  1.65442655e+00,  1.68791966e+00,\n",
       "         1.70847470e+00,  1.73850687e+00,  1.76972750e+00,  1.82030819e+00,\n",
       "         1.84460538e+00,  1.87316245e+00,  1.90879215e+00,  1.92101307e+00,\n",
       "         1.95391377e+00,  1.97050052e+00,  2.00149265e+00,  2.03674198e+00,\n",
       "         2.05631623e+00,  2.10909392e+00,  2.12146206e+00,  2.15870126e+00,\n",
       "         2.20620023e+00,  2.24601509e+00,  2.31479507e+00,  2.32985430e+00,\n",
       "         2.41231685e+00,  2.48158706e+00,  2.54916710e+00,  2.66762477e+00,\n",
       "         2.68523876e+00,  2.76889087e+00,  2.90148508e+00,  2.97777853e+00,\n",
       "         3.03820473e+00,  3.07840803e+00,  3.18356362e+00,  3.34212192e+00,\n",
       "         3.38019310e+00,  3.55292959e+00,  3.68395897e+00,  3.72407113e+00,\n",
       "         3.77721453e+00,  4.51139361e+00,  4.59796021e+00,  4.83094312e+00,\n",
       "         5.56055520e+00,  5.80166582e+00,  6.85592743e+00,  7.77157843e+00,\n",
       "         9.86668790e+00,  1.06926396e+01,  1.42433596e+01,  1.58530238e+01,\n",
       "         3.69379200e+01,  2.84927350e+02]),\n",
       " array([[ 7.25075000e-03, -1.70861039e-02, -6.84657535e-03, ...,\n",
       "         -2.92756652e-02, -9.96261914e-03, -3.07890304e-04],\n",
       "        [-2.38790232e-02, -4.84883592e-04, -3.53554041e-03, ...,\n",
       "          4.54022821e-05, -2.07343902e-03, -9.28373180e-04],\n",
       "        [-8.09780978e-03,  8.59571097e-03, -5.69964808e-03, ...,\n",
       "          9.05649131e-03,  1.64954013e-03, -1.96634453e-04],\n",
       "        ...,\n",
       "        [ 5.20966056e-02, -4.63803206e-02,  3.05555138e-02, ...,\n",
       "         -7.82071907e-02,  3.37952996e-02,  3.00453489e-02],\n",
       "        [ 4.77580496e-03,  6.71708357e-03, -9.58819648e-04, ...,\n",
       "         -6.41837104e-02,  1.61350688e-02,  2.62295967e-02],\n",
       "        [-1.05067891e-02,  1.19141621e-02,  7.14342122e-03, ...,\n",
       "          1.66445183e-02,  5.71185443e-03, -5.71349332e-03]]))"
      ]
     },
     "execution_count": 67,
     "metadata": {},
     "output_type": "execute_result"
    }
   ],
   "source": [
    "import scipy\n",
    "train_data.shape\n",
    "n= 500\n",
    "cov = np.cov(train_data.T)\n",
    "cov = np.round(cov,1)\n",
    "eigen_values , V = np.linalg.eig(cov)\n",
    "eigen_values\n",
    "scipy.linalg.eigh(cov)"
   ]
  },
  {
   "cell_type": "code",
   "execution_count": 57,
   "id": "762b6e69",
   "metadata": {},
   "outputs": [
    {
     "data": {
      "text/plain": [
       "-0.07877954179887556"
      ]
     },
     "execution_count": 57,
     "metadata": {},
     "output_type": "execute_result"
    }
   ],
   "source": [
    "cov = np.cov(train_data.T)\n",
    "cov[2,1]"
   ]
  },
  {
   "cell_type": "code",
   "execution_count": 56,
   "id": "1ed5a784",
   "metadata": {},
   "outputs": [
    {
     "data": {
      "text/plain": [
       "1.0"
      ]
     },
     "execution_count": 56,
     "metadata": {},
     "output_type": "execute_result"
    }
   ],
   "source": [
    "np.round(cov[1,1],10)"
   ]
  },
  {
   "cell_type": "code",
   "execution_count": 48,
   "id": "20a3ab77",
   "metadata": {},
   "outputs": [
    {
     "data": {
      "text/plain": [
       "1.0001"
      ]
     },
     "execution_count": 48,
     "metadata": {},
     "output_type": "execute_result"
    }
   ],
   "source": [
    "np.round(1.0001e+00,4)"
   ]
  },
  {
   "cell_type": "code",
   "execution_count": 29,
   "id": "d6231a33",
   "metadata": {},
   "outputs": [
    {
     "data": {
      "text/plain": [
       "array([[ 0.70710678, -0.70710678],\n",
       "       [ 0.70710678,  0.70710678]])"
      ]
     },
     "execution_count": 29,
     "metadata": {},
     "output_type": "execute_result"
    }
   ],
   "source": []
  },
  {
   "cell_type": "code",
   "execution_count": 25,
   "id": "3f7ed3db",
   "metadata": {},
   "outputs": [
    {
     "data": {
      "text/plain": [
       "array([ 2.84930325e+02+0.00000000e+00j,  3.69243458e+01+0.00000000e+00j,\n",
       "        1.57507387e+01+0.00000000e+00j,  1.40490859e+01+0.00000000e+00j,\n",
       "        1.05949597e+01+0.00000000e+00j,  9.68544219e+00+0.00000000e+00j,\n",
       "        7.69311009e+00+0.00000000e+00j,  6.76026306e+00+0.00000000e+00j,\n",
       "        5.60228319e+00+0.00000000e+00j,  5.41511781e+00+0.00000000e+00j,\n",
       "        4.82719085e+00+0.00000000e+00j,  4.49415468e+00+0.00000000e+00j,\n",
       "        4.31193538e+00+0.00000000e+00j,  3.63933007e+00+0.00000000e+00j,\n",
       "        3.55946718e+00+0.00000000e+00j,  3.36519066e+00+0.00000000e+00j,\n",
       "        3.29654827e+00+0.00000000e+00j,  3.22847767e+00+0.00000000e+00j,\n",
       "        3.18970865e+00+0.00000000e+00j,  2.95887970e+00+0.00000000e+00j,\n",
       "        2.80980896e+00+0.00000000e+00j,  2.74079369e+00+0.00000000e+00j,\n",
       "        2.71125901e+00+0.00000000e+00j,  2.63313858e+00+0.00000000e+00j,\n",
       "        2.52956399e+00+0.00000000e+00j,  2.37408006e+00+0.00000000e+00j,\n",
       "        2.34830341e+00+0.00000000e+00j,  2.28449435e+00+0.00000000e+00j,\n",
       "        2.19636391e+00+0.00000000e+00j,  2.17231340e+00+0.00000000e+00j,\n",
       "        2.05615542e+00+0.00000000e+00j,  1.98962107e+00+0.00000000e+00j,\n",
       "        1.96648920e+00+0.00000000e+00j,  1.89276521e+00+0.00000000e+00j,\n",
       "        1.86209602e+00+0.00000000e+00j,  1.84196575e+00+0.00000000e+00j,\n",
       "        1.80737671e+00+0.00000000e+00j,  1.65891109e+00+0.00000000e+00j,\n",
       "        1.60016979e+00+0.00000000e+00j,  1.61500408e+00+0.00000000e+00j,\n",
       "        1.52943070e+00+0.00000000e+00j,  1.49096019e+00+0.00000000e+00j,\n",
       "        1.47791107e+00+0.00000000e+00j,  1.45307239e+00+0.00000000e+00j,\n",
       "        1.40087449e+00+0.00000000e+00j,  1.38560980e+00+0.00000000e+00j,\n",
       "        1.35116808e+00+0.00000000e+00j,  1.32972514e+00+0.00000000e+00j,\n",
       "        1.30907024e+00+0.00000000e+00j,  1.27755458e+00+0.00000000e+00j,\n",
       "        1.24354645e+00+0.00000000e+00j,  1.20673863e+00+0.00000000e+00j,\n",
       "        1.16538397e+00+0.00000000e+00j,  1.13925345e+00+0.00000000e+00j,\n",
       "        1.12133709e+00+0.00000000e+00j,  1.11596533e+00+0.00000000e+00j,\n",
       "        1.09051547e+00+0.00000000e+00j,  1.07380237e+00+0.00000000e+00j,\n",
       "        1.06264460e+00+0.00000000e+00j,  1.04494450e+00+0.00000000e+00j,\n",
       "        1.02079759e+00+0.00000000e+00j,  9.96234268e-01+0.00000000e+00j,\n",
       "        9.89212533e-01+0.00000000e+00j,  9.72502826e-01+0.00000000e+00j,\n",
       "        9.61813981e-01+0.00000000e+00j,  9.55947578e-01+0.00000000e+00j,\n",
       "        9.34968551e-01+0.00000000e+00j,  9.15700910e-01+0.00000000e+00j,\n",
       "        8.93435755e-01+0.00000000e+00j,  8.84291396e-01+0.00000000e+00j,\n",
       "        8.57345054e-01+0.00000000e+00j,  8.63310306e-01+0.00000000e+00j,\n",
       "        8.11577972e-01+0.00000000e+00j,  8.31707604e-01+0.00000000e+00j,\n",
       "        8.19314014e-01+0.00000000e+00j,  8.21882871e-01+0.00000000e+00j,\n",
       "        7.80554895e-01+0.00000000e+00j,  7.01613507e-01+0.00000000e+00j,\n",
       "        6.93784118e-01+0.00000000e+00j,  7.57551007e-01+0.00000000e+00j,\n",
       "        7.66906990e-01+0.00000000e+00j,  7.22272954e-01+0.00000000e+00j,\n",
       "        7.31476916e-01+0.00000000e+00j,  7.46959556e-01+0.00000000e+00j,\n",
       "        7.40392115e-01+0.00000000e+00j,  6.82597706e-01+0.00000000e+00j,\n",
       "        6.70213322e-01+0.00000000e+00j,  6.55687295e-01+0.00000000e+00j,\n",
       "        6.59457053e-01+0.00000000e+00j,  6.38790182e-01+0.00000000e+00j,\n",
       "        6.34843562e-01+0.00000000e+00j,  6.13403208e-01+0.00000000e+00j,\n",
       "        6.16401373e-01+0.00000000e+00j,  6.03473145e-01+0.00000000e+00j,\n",
       "        5.84991599e-01+0.00000000e+00j,  5.74970370e-01+0.00000000e+00j,\n",
       "        5.70095679e-01+0.00000000e+00j,  5.65077112e-01+0.00000000e+00j,\n",
       "        5.48470049e-01+0.00000000e+00j,  5.41307217e-01+0.00000000e+00j,\n",
       "        5.26173107e-01+0.00000000e+00j,  5.16885466e-01+0.00000000e+00j,\n",
       "        5.12982330e-01+0.00000000e+00j,  5.02777172e-01+0.00000000e+00j,\n",
       "        4.96247946e-01+0.00000000e+00j,  4.89152752e-01+0.00000000e+00j,\n",
       "        4.87517767e-01+0.00000000e+00j,  4.79970174e-01+0.00000000e+00j,\n",
       "        4.65123327e-01+0.00000000e+00j,  4.64311108e-01+0.00000000e+00j,\n",
       "        4.55416793e-01+0.00000000e+00j,  4.51174339e-01+0.00000000e+00j,\n",
       "        4.41771273e-01+0.00000000e+00j,  4.33571428e-01+0.00000000e+00j,\n",
       "        4.21059027e-01+0.00000000e+00j,  4.22809662e-01+0.00000000e+00j,\n",
       "        4.05406866e-01+0.00000000e+00j,  4.02290003e-01+0.00000000e+00j,\n",
       "        3.97746606e-01+0.00000000e+00j,  3.87823582e-01+0.00000000e+00j,\n",
       "        3.79724984e-01+0.00000000e+00j,  3.72366759e-01+0.00000000e+00j,\n",
       "        3.64830621e-01+0.00000000e+00j,  3.57729820e-01+0.00000000e+00j,\n",
       "        3.51328022e-01+0.00000000e+00j,  3.48509374e-01+0.00000000e+00j,\n",
       "        3.45238346e-01+0.00000000e+00j,  2.66235078e-01+0.00000000e+00j,\n",
       "        3.34165450e-01+0.00000000e+00j,  3.37608579e-01+0.00000000e+00j,\n",
       "        2.70848124e-01+0.00000000e+00j,  3.22513771e-01+0.00000000e+00j,\n",
       "        3.16185451e-01+0.00000000e+00j,  3.02537257e-01+0.00000000e+00j,\n",
       "        2.74174920e-01+0.00000000e+00j,  2.83170373e-01+0.00000000e+00j,\n",
       "        3.25782987e-01+0.00000000e+00j,  3.05638294e-01+0.00000000e+00j,\n",
       "        2.96881340e-01+0.00000000e+00j,  3.12725618e-01+0.00000000e+00j,\n",
       "        2.87329416e-01+0.00000000e+00j,  2.81783957e-01+0.00000000e+00j,\n",
       "        2.94340273e-01+0.00000000e+00j,  2.62938578e-01+0.00000000e+00j,\n",
       "        2.58685402e-01+0.00000000e+00j,  2.58182439e-01+0.00000000e+00j,\n",
       "        2.52009285e-01+0.00000000e+00j,  2.48198944e-01+0.00000000e+00j,\n",
       "        2.45552768e-01+0.00000000e+00j,  2.23364360e-01+0.00000000e+00j,\n",
       "        2.40421143e-01+0.00000000e+00j,  2.33505150e-01+0.00000000e+00j,\n",
       "        2.36976666e-01+0.00000000e+00j,  2.28468644e-01+0.00000000e+00j,\n",
       "        2.28987853e-01+0.00000000e+00j,  2.12823875e-01+0.00000000e+00j,\n",
       "        2.16659954e-01+0.00000000e+00j,  2.15733180e-01+0.00000000e+00j,\n",
       "        2.06833945e-01+0.00000000e+00j,  2.03335822e-01+0.00000000e+00j,\n",
       "        1.98501316e-01+0.00000000e+00j,  1.95055351e-01+0.00000000e+00j,\n",
       "        1.93937294e-01+0.00000000e+00j,  1.75876681e-01+0.00000000e+00j,\n",
       "        1.82954976e-01+0.00000000e+00j,  1.86670640e-01+0.00000000e+00j,\n",
       "        1.87998690e-01+0.00000000e+00j,  1.69697010e-01+0.00000000e+00j,\n",
       "        1.61678366e-01+0.00000000e+00j,  1.53421121e-01+0.00000000e+00j,\n",
       "        1.50013067e-01+0.00000000e+00j,  1.45331203e-01+0.00000000e+00j,\n",
       "        1.42296623e-01+0.00000000e+00j,  1.38168584e-01+0.00000000e+00j,\n",
       "        1.35319006e-01+0.00000000e+00j,  1.33640924e-01+0.00000000e+00j,\n",
       "        1.28121709e-01+0.00000000e+00j,  1.24373094e-01+0.00000000e+00j,\n",
       "        1.26705642e-01+0.00000000e+00j,  1.14963103e-01+0.00000000e+00j,\n",
       "        1.16837226e-01+0.00000000e+00j,  1.20503106e-01+0.00000000e+00j,\n",
       "        1.11069135e-01+0.00000000e+00j,  1.05734684e-01+0.00000000e+00j,\n",
       "        1.09522701e-01+0.00000000e+00j,  1.01050628e-01+0.00000000e+00j,\n",
       "        1.01931839e-01+0.00000000e+00j,  9.41067811e-02+0.00000000e+00j,\n",
       "        9.48033056e-02+0.00000000e+00j,  9.81183150e-02+0.00000000e+00j,\n",
       "        9.18219775e-02+0.00000000e+00j,  8.75782724e-02+0.00000000e+00j,\n",
       "        8.71295639e-02+0.00000000e+00j,  8.33734797e-02+0.00000000e+00j,\n",
       "        8.22213333e-02+0.00000000e+00j,  8.05598372e-02+0.00000000e+00j,\n",
       "        7.38044488e-02+0.00000000e+00j,  7.58837832e-02+0.00000000e+00j,\n",
       "        7.76277942e-02+0.00000000e+00j,  6.99160290e-02+0.00000000e+00j,\n",
       "        6.92130345e-02+0.00000000e+00j,  6.73247861e-02+0.00000000e+00j,\n",
       "        6.64764910e-02+0.00000000e+00j,  6.45666410e-02+0.00000000e+00j,\n",
       "        6.25071436e-02+0.00000000e+00j,  6.06142669e-02+0.00000000e+00j,\n",
       "        5.90354138e-02+0.00000000e+00j,  5.77462780e-02+0.00000000e+00j,\n",
       "        5.56261646e-02+0.00000000e+00j,  5.53799383e-02+0.00000000e+00j,\n",
       "        5.43812821e-02+0.00000000e+00j,  5.34484189e-02+0.00000000e+00j,\n",
       "        5.21481600e-02+0.00000000e+00j,  5.10559555e-02+0.00000000e+00j,\n",
       "        4.92174170e-02+0.00000000e+00j,  5.05825743e-02+0.00000000e+00j,\n",
       "        5.01561087e-02+0.00000000e+00j,  4.97147781e-02+0.00000000e+00j,\n",
       "        4.76806436e-02+0.00000000e+00j,  4.59054522e-02+0.00000000e+00j,\n",
       "        4.60408862e-02+0.00000000e+00j,  4.50774483e-02+0.00000000e+00j,\n",
       "        4.45765230e-02+0.00000000e+00j,  4.36723032e-02+0.00000000e+00j,\n",
       "        4.28188083e-02+0.00000000e+00j,  4.21670557e-02+0.00000000e+00j,\n",
       "        4.14619138e-02+0.00000000e+00j,  4.03070042e-02+0.00000000e+00j,\n",
       "        3.98618530e-02+0.00000000e+00j,  3.91540129e-02+0.00000000e+00j,\n",
       "        3.86360926e-02+0.00000000e+00j,  3.81676961e-02+0.00000000e+00j,\n",
       "        3.73870851e-02+0.00000000e+00j,  3.63327911e-02+0.00000000e+00j,\n",
       "        3.65766818e-02+0.00000000e+00j,  3.50802239e-02+0.00000000e+00j,\n",
       "        2.87676304e-02+0.00000000e+00j,  3.41396914e-02+0.00000000e+00j,\n",
       "        3.34016273e-02+0.00000000e+00j,  2.89521887e-02+0.00000000e+00j,\n",
       "        3.19775351e-02+0.00000000e+00j,  3.31475215e-02+0.00000000e+00j,\n",
       "        3.46231966e-02+0.00000000e+00j,  3.06156380e-02+0.00000000e+00j,\n",
       "        2.97485452e-02+0.00000000e+00j,  2.98425055e-02+0.00000000e+00j,\n",
       "        3.14584868e-02+0.00000000e+00j,  3.23170837e-02+0.00000000e+00j,\n",
       "        3.28400108e-02+0.00000000e+00j,  2.79347671e-02+0.00000000e+00j,\n",
       "        2.73081735e-02+0.00000000e+00j,  2.68555170e-02+0.00000000e+00j,\n",
       "        2.62957443e-02+0.00000000e+00j,  2.58882937e-02+0.00000000e+00j,\n",
       "        2.53863309e-02+0.00000000e+00j,  2.47568921e-02+0.00000000e+00j,\n",
       "        2.41689090e-02+0.00000000e+00j,  2.38585857e-02+0.00000000e+00j,\n",
       "        2.35012400e-02+0.00000000e+00j,  2.24144131e-02+0.00000000e+00j,\n",
       "        2.27147485e-02+0.00000000e+00j,  2.27634733e-02+0.00000000e+00j,\n",
       "        2.16541614e-02+0.00000000e+00j,  2.17142188e-02+0.00000000e+00j,\n",
       "        2.13201651e-02+0.00000000e+00j,  2.10660753e-02+0.00000000e+00j,\n",
       "        2.03691341e-02+0.00000000e+00j,  1.99814387e-02+0.00000000e+00j,\n",
       "        1.95957435e-02+0.00000000e+00j,  1.94117676e-02+0.00000000e+00j,\n",
       "        1.87958165e-02+0.00000000e+00j,  1.85628175e-02+0.00000000e+00j,\n",
       "        1.79723203e-02+0.00000000e+00j,  1.78033505e-02+0.00000000e+00j,\n",
       "        1.82604043e-02+0.00000000e+00j,  1.73823417e-02+0.00000000e+00j,\n",
       "        1.70693206e-02+0.00000000e+00j,  1.64759941e-02+0.00000000e+00j,\n",
       "        1.63609403e-02+0.00000000e+00j,  1.61615197e-02+0.00000000e+00j,\n",
       "        1.54770349e-02+0.00000000e+00j,  1.55921161e-02+0.00000000e+00j,\n",
       "        1.56855386e-02+0.00000000e+00j,  1.50433382e-02+0.00000000e+00j,\n",
       "        1.47027145e-02+0.00000000e+00j,  1.45762985e-02+0.00000000e+00j,\n",
       "        1.43985226e-02+0.00000000e+00j,  1.41340154e-02+0.00000000e+00j,\n",
       "        1.38331626e-02+0.00000000e+00j,  1.34092099e-02+0.00000000e+00j,\n",
       "        1.35297161e-02+0.00000000e+00j,  1.36301030e-02+0.00000000e+00j,\n",
       "        1.26398243e-02+0.00000000e+00j,  1.29047629e-02+0.00000000e+00j,\n",
       "        1.28530519e-02+0.00000000e+00j,  1.22753512e-02+0.00000000e+00j,\n",
       "        1.25712320e-02+0.00000000e+00j,  1.12886643e-02+0.00000000e+00j,\n",
       "        1.15643822e-02+0.00000000e+00j,  1.20625261e-02+0.00000000e+00j,\n",
       "        1.17014636e-02+0.00000000e+00j,  1.20859857e-02+0.00000000e+00j,\n",
       "        1.10500543e-02+0.00000000e+00j,  1.08195609e-02+0.00000000e+00j,\n",
       "        1.09613654e-02+0.00000000e+00j,  1.06031696e-02+0.00000000e+00j,\n",
       "        1.04730015e-02+0.00000000e+00j,  1.03874975e-02+0.00000000e+00j,\n",
       "        1.00762752e-02+0.00000000e+00j,  1.02242894e-02+0.00000000e+00j,\n",
       "        9.89678919e-03+0.00000000e+00j,  9.54916673e-03+0.00000000e+00j,\n",
       "        9.66996893e-03+0.00000000e+00j,  9.19139041e-03+0.00000000e+00j,\n",
       "        9.16985951e-03+0.00000000e+00j,  9.01180662e-03+0.00000000e+00j,\n",
       "        8.89572335e-03+0.00000000e+00j,  8.86560776e-03+0.00000000e+00j,\n",
       "        8.54122112e-03+0.00000000e+00j,  8.67434011e-03+0.00000000e+00j,\n",
       "        8.30881133e-03+0.00000000e+00j,  8.24243984e-03+0.00000000e+00j,\n",
       "        8.48468628e-03+0.00000000e+00j,  7.97355272e-03+0.00000000e+00j,\n",
       "        7.99087374e-03+0.00000000e+00j,  7.50674672e-03+0.00000000e+00j,\n",
       "        7.26633629e-03+0.00000000e+00j,  7.30131739e-03+0.00000000e+00j,\n",
       "        7.66410292e-03+0.00000000e+00j,  6.92629923e-03+0.00000000e+00j,\n",
       "        6.66350303e-03+0.00000000e+00j,  7.04565974e-03+0.00000000e+00j,\n",
       "        6.84380543e-03+0.00000000e+00j,  6.48367888e-03+0.00000000e+00j,\n",
       "        6.37457918e-03+0.00000000e+00j,  6.16057687e-03+0.00000000e+00j,\n",
       "        6.21187367e-03+0.00000000e+00j,  5.92073315e-03+0.00000000e+00j,\n",
       "        5.74784949e-03+0.00000000e+00j,  5.85737341e-03+0.00000000e+00j,\n",
       "        5.51394680e-03+0.00000000e+00j,  5.35048884e-03+0.00000000e+00j,\n",
       "        5.43722900e-03+0.00000000e+00j,  5.22308193e-03+0.00000000e+00j,\n",
       "        2.20742354e-03+0.00000000e+00j,  5.07290997e-03+0.00000000e+00j,\n",
       "        4.90830701e-03+0.00000000e+00j,  4.70081160e-03+0.00000000e+00j,\n",
       "        2.24515732e-03+0.00000000e+00j,  2.30281547e-03+0.00000000e+00j,\n",
       "        2.31993172e-03+0.00000000e+00j,  4.57001893e-03+0.00000000e+00j,\n",
       "        4.59298908e-03+0.00000000e+00j,  4.42015099e-03+0.00000000e+00j,\n",
       "        2.45346296e-03+0.00000000e+00j,  4.20102235e-03+0.00000000e+00j,\n",
       "        4.29393863e-03+0.00000000e+00j,  2.52118460e-03+0.00000000e+00j,\n",
       "        2.64828039e-03+0.00000000e+00j,  2.59892301e-03+0.00000000e+00j,\n",
       "        4.02112023e-03+0.00000000e+00j,  3.77589297e-03+0.00000000e+00j,\n",
       "        2.81055613e-03+0.00000000e+00j,  3.48667816e-03+0.00000000e+00j,\n",
       "        3.87706499e-03+0.00000000e+00j,  2.83283218e-03+0.00000000e+00j,\n",
       "        3.67272666e-03+0.00000000e+00j,  2.98361529e-03+0.00000000e+00j,\n",
       "        3.28354990e-03+0.00000000e+00j,  3.34749429e-03+0.00000000e+00j,\n",
       "        3.24107032e-03+0.00000000e+00j,  3.04975456e-03+0.00000000e+00j,\n",
       "        3.65334042e-03+0.00000000e+00j,  2.99186139e-03+0.00000000e+00j,\n",
       "        1.51131526e-03+0.00000000e+00j,  1.44699729e-03+0.00000000e+00j,\n",
       "        1.66276962e-03+0.00000000e+00j,  1.72765995e-03+0.00000000e+00j,\n",
       "        1.84133322e-03+0.00000000e+00j,  1.76532040e-03+0.00000000e+00j,\n",
       "        2.10274287e-03+0.00000000e+00j,  2.02705203e-03+0.00000000e+00j,\n",
       "        1.96679119e-03+0.00000000e+00j,  1.95178048e-03+0.00000000e+00j,\n",
       "        2.15300844e-03+0.00000000e+00j,  1.46202658e-03+0.00000000e+00j,\n",
       "        1.40626798e-03+0.00000000e+00j,  1.28268018e-03+0.00000000e+00j,\n",
       "        1.24381173e-03+0.00000000e+00j,  1.19864819e-03+0.00000000e+00j,\n",
       "        1.15647204e-03+0.00000000e+00j,  1.14925642e-03+0.00000000e+00j,\n",
       "        1.12700102e-03+0.00000000e+00j,  1.09189411e-03+0.00000000e+00j,\n",
       "        1.05080120e-03+0.00000000e+00j,  9.20230684e-04+0.00000000e+00j,\n",
       "        8.87014271e-04+0.00000000e+00j,  8.52767771e-04+0.00000000e+00j,\n",
       "        8.21916978e-04+0.00000000e+00j,  7.60621333e-04+0.00000000e+00j,\n",
       "        7.32434842e-04+0.00000000e+00j,  7.40865460e-04+0.00000000e+00j,\n",
       "        6.98147375e-04+0.00000000e+00j,  6.59899224e-04+0.00000000e+00j,\n",
       "        6.03688628e-04+0.00000000e+00j,  6.32429644e-04+0.00000000e+00j,\n",
       "        4.96578235e-04+0.00000000e+00j,  5.42311715e-04+0.00000000e+00j,\n",
       "        5.18855379e-04+0.00000000e+00j,  5.68025971e-04+0.00000000e+00j,\n",
       "        4.85114859e-04+0.00000000e+00j,  4.58366048e-04+0.00000000e+00j,\n",
       "        4.39797982e-04+0.00000000e+00j,  4.21063478e-04+0.00000000e+00j,\n",
       "        4.05948420e-04+0.00000000e+00j,  3.98082328e-04+0.00000000e+00j,\n",
       "        3.58750831e-04+0.00000000e+00j,  3.78137703e-04+0.00000000e+00j,\n",
       "        3.82627633e-04+0.00000000e+00j,  3.46874777e-04+0.00000000e+00j,\n",
       "        3.35715156e-04+0.00000000e+00j,  3.16814482e-04+0.00000000e+00j,\n",
       "        3.25766114e-04+0.00000000e+00j,  3.03387133e-04+0.00000000e+00j,\n",
       "        2.95056372e-04+0.00000000e+00j,  2.60298258e-04+0.00000000e+00j,\n",
       "        2.69471352e-04+0.00000000e+00j,  2.73965413e-04+0.00000000e+00j,\n",
       "        2.38519222e-04+0.00000000e+00j,  2.29932418e-04+0.00000000e+00j,\n",
       "        2.15692415e-04+0.00000000e+00j,  2.07235058e-04+0.00000000e+00j,\n",
       "        1.96135346e-04+0.00000000e+00j,  2.01913018e-04+0.00000000e+00j,\n",
       "        1.99864768e-04+0.00000000e+00j,  1.73692826e-04+0.00000000e+00j,\n",
       "        1.48043625e-04+0.00000000e+00j,  1.67313002e-04+0.00000000e+00j,\n",
       "        1.53428832e-04+0.00000000e+00j,  1.44064893e-04+0.00000000e+00j,\n",
       "        1.28162493e-04+0.00000000e+00j,  1.15976675e-04+0.00000000e+00j,\n",
       "        1.13876340e-04+0.00000000e+00j,  8.14603999e-05+0.00000000e+00j,\n",
       "        4.02541157e-05+0.00000000e+00j,  2.57227869e-05+0.00000000e+00j,\n",
       "        2.30465337e-05+0.00000000e+00j,  1.95301375e-05+0.00000000e+00j,\n",
       "        1.89033987e-05+0.00000000e+00j,  1.52012320e-05+0.00000000e+00j,\n",
       "        1.48160291e-05+0.00000000e+00j,  1.27036619e-05+0.00000000e+00j,\n",
       "        1.20618343e-05+0.00000000e+00j,  1.14972608e-05+0.00000000e+00j,\n",
       "        9.75608550e-06+0.00000000e+00j,  9.25222720e-06+0.00000000e+00j,\n",
       "        6.49254572e-06+0.00000000e+00j,  6.39549758e-06+0.00000000e+00j,\n",
       "        5.71640855e-06+0.00000000e+00j,  5.17700808e-06+0.00000000e+00j,\n",
       "        4.06545719e-06+0.00000000e+00j,  3.76888863e-06+0.00000000e+00j,\n",
       "        3.09735158e-06+0.00000000e+00j,  3.37533154e-06+0.00000000e+00j,\n",
       "        2.31812419e-06+0.00000000e+00j,  1.35636831e-07+0.00000000e+00j,\n",
       "        8.13122239e-08+0.00000000e+00j,  5.75905523e-08+0.00000000e+00j,\n",
       "        2.08516634e-09+0.00000000e+00j,  6.05129860e-10+0.00000000e+00j,\n",
       "        1.56837917e-10+0.00000000e+00j, -2.19395310e-15+0.00000000e+00j,\n",
       "        3.09673320e-15+0.00000000e+00j,  3.02317080e-15+0.00000000e+00j,\n",
       "        2.92187937e-15+2.77165453e-16j,  2.92187937e-15-2.77165453e-16j,\n",
       "        2.50012120e-15+9.76247799e-17j,  2.50012120e-15-9.76247799e-17j,\n",
       "        2.45934228e-15+3.61457589e-16j,  2.45934228e-15-3.61457589e-16j,\n",
       "        2.37619379e-15+4.87317451e-16j,  2.37619379e-15-4.87317451e-16j,\n",
       "       -1.86885945e-15+5.14969126e-16j, -1.86885945e-15-5.14969126e-16j,\n",
       "       -1.99624418e-15+0.00000000e+00j,  2.14975470e-15+0.00000000e+00j,\n",
       "        1.75216319e-15+7.46320414e-16j,  1.75216319e-15-7.46320414e-16j,\n",
       "        1.89144506e-15+3.81918857e-16j,  1.89144506e-15-3.81918857e-16j,\n",
       "        1.56240445e-15+8.56922342e-16j,  1.56240445e-15-8.56922342e-16j,\n",
       "        1.92736325e-15+0.00000000e+00j,  1.59095352e-15+6.85605508e-16j,\n",
       "        1.59095352e-15-6.85605508e-16j, -1.43246809e-15+4.19689293e-16j,\n",
       "       -1.43246809e-15-4.19689293e-16j, -1.22696879e-15+7.06564248e-16j,\n",
       "       -1.22696879e-15-7.06564248e-16j,  1.69941692e-15+0.00000000e+00j,\n",
       "       -1.42385995e-15+0.00000000e+00j,  1.30148440e-15+5.74801107e-16j,\n",
       "        1.30148440e-15-5.74801107e-16j, -9.46613042e-16+6.03614989e-16j,\n",
       "       -9.46613042e-16-6.03614989e-16j, -1.23578965e-15+0.00000000e+00j,\n",
       "        1.35789737e-15+0.00000000e+00j, -1.16311620e-15+1.51595744e-16j,\n",
       "       -1.16311620e-15-1.51595744e-16j,  6.82242068e-16+7.26710498e-16j,\n",
       "        6.82242068e-16-7.26710498e-16j,  2.22003860e-16+8.56878915e-16j,\n",
       "        2.22003860e-16-8.56878915e-16j,  1.13478239e-15+0.00000000e+00j,\n",
       "       -5.69627708e-16+7.32611999e-16j, -5.69627708e-16-7.32611999e-16j,\n",
       "        8.39147137e-16+5.03599979e-16j,  8.39147137e-16-5.03599979e-16j,\n",
       "        1.02975357e-15+1.89969818e-16j,  1.02975357e-15-1.89969818e-16j,\n",
       "       -4.48287106e-16+6.46727244e-16j, -4.48287106e-16-6.46727244e-16j,\n",
       "       -8.49907496e-16+2.91690523e-17j, -8.49907496e-16-2.91690523e-17j,\n",
       "       -6.88766930e-16+2.99797810e-16j, -6.88766930e-16-2.99797810e-16j,\n",
       "        7.73931206e-16+9.10668765e-17j,  7.73931206e-16-9.10668765e-17j,\n",
       "        5.93932804e-16+0.00000000e+00j, -2.11861833e-17+5.30620226e-16j,\n",
       "       -2.11861833e-17-5.30620226e-16j,  3.84042988e-16+3.57218311e-16j,\n",
       "        3.84042988e-16-3.57218311e-16j, -3.95830147e-16+2.71875954e-16j,\n",
       "       -3.95830147e-16-2.71875954e-16j, -1.06423180e-16+2.75245749e-16j,\n",
       "       -1.06423180e-16-2.75245749e-16j, -2.27380843e-16+0.00000000e+00j,\n",
       "        2.00528370e-16+0.00000000e+00j, -1.44115911e-16+0.00000000e+00j,\n",
       "        2.85112660e-17+0.00000000e+00j, -3.48329382e-19+8.09316094e-18j,\n",
       "       -3.48329382e-19-8.09316094e-18j, -6.10006243e-18+2.73790318e-18j,\n",
       "       -6.10006243e-18-2.73790318e-18j, -6.39820730e-18+0.00000000e+00j,\n",
       "        1.46434485e-18+4.11753945e-18j,  1.46434485e-18-4.11753945e-18j,\n",
       "        2.26745909e-18+3.07193779e-18j,  2.26745909e-18-3.07193779e-18j,\n",
       "       -4.27382257e-18+1.38718875e-18j, -4.27382257e-18-1.38718875e-18j,\n",
       "        3.55862493e-18+0.00000000e+00j, -2.07299312e-18+1.82720342e-18j,\n",
       "       -2.07299312e-18-1.82720342e-18j,  1.83535742e-18+0.00000000e+00j,\n",
       "        4.49040246e-19+1.13180480e-18j,  4.49040246e-19-1.13180480e-18j,\n",
       "        8.55351366e-33+1.11057540e-32j,  8.55351366e-33-1.11057540e-32j,\n",
       "        3.76427926e-33+0.00000000e+00j, -1.25834689e-33+0.00000000e+00j])"
      ]
     },
     "execution_count": 25,
     "metadata": {},
     "output_type": "execute_result"
    }
   ],
   "source": [
    "eigen_values"
   ]
  }
 ],
 "metadata": {
  "kernelspec": {
   "display_name": "Python 3",
   "language": "python",
   "name": "python3"
  },
  "language_info": {
   "codemirror_mode": {
    "name": "ipython",
    "version": 3
   },
   "file_extension": ".py",
   "mimetype": "text/x-python",
   "name": "python",
   "nbconvert_exporter": "python",
   "pygments_lexer": "ipython3",
   "version": "3.8.8"
  }
 },
 "nbformat": 4,
 "nbformat_minor": 5
}
