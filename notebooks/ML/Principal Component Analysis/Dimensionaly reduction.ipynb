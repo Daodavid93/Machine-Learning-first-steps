{
 "cells": [
  {
   "cell_type": "code",
   "execution_count": 1,
   "id": "ff2ec183",
   "metadata": {},
   "outputs": [],
   "source": [
    "%matplotlib inline\n",
    "import numpy as np\n",
    "import matplotlib.pyplot as plt\n",
    "\n",
    "from sklearn.preprocessing import StandardScaler\n",
    "\n",
    "plt.style.use('ggplot')\n",
    "plt.rcParams['figure.figsize'] = (12, 8)"
   ]
  },
  {
   "cell_type": "markdown",
   "id": "037a31c4",
   "metadata": {},
   "source": [
    "Dimensionaly reduction\n",
    "\n",
    "<ul> \n",
    "    <li> <a href ='https://towardsdatascience.com/principal-component-analysis-part-1-the-different-formulations-6508f63a5553'>Principal Component Analysis Part 1: The Different Formulations.</a> </li>\n",
    "    <li> <a href='https://medium.com/analytics-vidhya/mathematics-behind-principal-component-analysis-pca-1cdff0a808a9'>The Mathematics Behind Principal Component Analysis </a> </li>\n",
    "    <li><a href='https://www.cs.princeton.edu/picasso/mats/PCA-Tutorial-Intuition_jp.pdf'>A TUTORIAL ON PRINCIPAL COMPONENT ANALYSIS</a></li>\n",
    "    <li><a href='http://www.math.union.edu/~jaureguj/PCA.pdf'>Principal component analysis with linear algebra</a></li>\n",
    "    <li><a href='https://intoli.com/blog/pca-and-svd/'>SVD and PCA </a> </li>\n",
    "   <li> <a href='http://www.math.ucsd.edu/~gptesler/283/slides/pca_18-handout.pdf'>Principal Components Analysis (PCA)\n",
    "        and Singular Value Decomposition (SVD) with applications to Microarrays</a> </li>\n",
    "    https://datascienceplus.com/understanding-the-covariance-matrix/"
   ]
  },
  {
   "cell_type": "markdown",
   "id": "79baaa28",
   "metadata": {},
   "source": [
    "<h1>Dimensionaly reduction </h1>"
   ]
  },
  {
   "cell_type": "markdown",
   "id": "4f96b41d",
   "metadata": {},
   "source": [
    "We use dimensionality reduction benefits given below : \n",
    "<ul>\n",
    "    <li>By reducing the dimensions of the features, the space required to store the dataset also gets reduced.</li>\n",
    "    <li>Less Computation training time is required for reduced dimensions of features</li>\n",
    "    <li>Reduced dim of features help in visualizing </li>\n",
    "    <li> It removes the redundant features by taking care of multicollinearity. </li>\n",
    " </ul>"
   ]
  },
  {
   "cell_type": "markdown",
   "id": "23b5b3ac",
   "metadata": {},
   "source": [
    "Feature Extraction: <br>\n",
    "Feature extraction is the process of transforming the space containing many dimensions into space with fewer dimensions. This approach is useful when we want to keep the whole information but use fewer resources while processing the information.\n",
    "\n",
    "Some common feature extraction techniques are:\n",
    "\n",
    "Principal Component Analysis <br>\n",
    "Linear Discriminant Analysis <br>\n",
    "Kernel PCA <br>\n",
    "Quadratic Discriminant Analysis <br>"
   ]
  },
  {
   "cell_type": "markdown",
   "id": "536a3f25",
   "metadata": {},
   "source": [
    "<h2> Principle Component Analysis </h2> "
   ]
  },
  {
   "cell_type": "markdown",
   "id": "f8878700",
   "metadata": {},
   "source": [
    "Principal Component Analysis, or PCA, is a well-known and widely used technique applicable to a wide variety of applications such as dimensionality reduction, data compression, feature extraction, and visualization.\n",
    "\n",
    "\n",
    "Reducing the number of variables of a data set naturally comes at the expense of accuracy, but the trick in dimensionality reduction is to trade a little accuracy for simplicity. Because smaller data sets are easier to explore and visualize and make analyzing data much easier and faster for machine learning algorithms without extraneous variables to process.\n",
    "\n",
    "So to sum up, the idea of PCA is simple — reduce the number of variables of a data set, while preserving as much information as possible."
   ]
  },
  {
   "cell_type": "markdown",
   "id": "b012b37c",
   "metadata": {},
   "source": [
    "The eigenvectors and eigenvalues of a covariance (or correlation) matrix represent the 'core' of a PCA.Let's investigate that fact."
   ]
  },
  {
   "cell_type": "markdown",
   "id": "a0156770",
   "metadata": {},
   "source": [
    "The basic idea is to project a dataset from many correlated coordinates onto fewer uncorrelated coordinates called principal components while still retaining most of the variability present in the data."
   ]
  },
  {
   "cell_type": "markdown",
   "id": "35d555c4",
   "metadata": {},
   "source": [
    "<h2> Why Covariance Matrix is so important ? </h2>"
   ]
  },
  {
   "cell_type": "markdown",
   "id": "f0ae794d",
   "metadata": {},
   "source": [
    "<img src=\"https://www.statisticshowto.com/wp-content/uploads/2013/12/g-covariance.gif\" alt=\"Italian Trulli\">\n",
    "Covariance is a measure of how much two random variables vary together. It’s similar to variance, but where variance tells you how a single variable varies, co variance tells you how two variables vary together.\n",
    "Covariance can be positive, zero, or negative.\n",
    "Positive indicates that there’s an overall tendency\n",
    "that when one variable increases, so doe the other,\n",
    "while negative indicates an overall tendency that\n",
    "when one increases the other decreases.\n",
    "If X and Y are independent variables, then their\n",
    "covariance is 0.The converse, however, is not always true.\n",
    "Cov(X, Y ) can be 0 for variables that are not independent.\n",
    "The covariance between two ranodom variable X,Y is given by :\n",
    "  $$Cov(X, Y ) = \\sigma(X, Y) = \\frac{1}{n-1}\\sum_{i=1}^n(x_i - \\bar{x})(y_i - \\bar{y})$$\n",
    "  where $n$ is the number of samples and $\\bar{x}$  is the mean of the random variable $x$"
   ]
  },
  {
   "cell_type": "markdown",
   "id": "fc520032",
   "metadata": {},
   "source": [
    "For dataset $X$ where $X \\in R^{n\\times d}$ $n$ samples and $d$ features.The covariance matrix can be expressed\n",
    "$$C= \\frac{1}{n-1}(X_i - \\bar{X})(X_i - \\bar{X})^T $$"
   ]
  },
  {
   "cell_type": "markdown",
   "id": "ffff5076",
   "metadata": {},
   "source": [
    "If the mean $\\bar{X}$ of dataset is $0$ then we can rewrite :<br>\n",
    "$$ C = \\frac{X^TX}{n-1}$$\n",
    "<br>For this reason in future wee always will perform recentering of data,just shifiting the elements :\n",
    "\n"
   ]
  },
  {
   "cell_type": "markdown",
   "id": "88156fc5",
   "metadata": {},
   "source": [
    "Let's generate two  Normal distributed x and y vector with mean 0 and standard deviation 1"
   ]
  },
  {
   "cell_type": "code",
   "execution_count": 74,
   "id": "4617a980",
   "metadata": {},
   "outputs": [
    {
     "data": {
      "image/png": "[encoded data removed]",
      "text/plain": [
       "<Figure size 864x576 with 1 Axes>"
      ]
     },
     "metadata": {},
     "output_type": "display_data"
    }
   ],
   "source": [
    "x = np.random.normal(0, 1, 100)\n",
    "y = np.random.normal(0, 1, 100)\n",
    "x = x - x.mean()\n",
    "y= y - y.mean()\n",
    "\n",
    "X = np.vstack((x, y)).T\n",
    "# Center the matrix at the origin\n",
    "X = X - np.mean(X, 0)\n",
    "#X = np.random.standard_normal(size=(2,500))\n",
    "#X =  StandardScaler().fit(X).transform(X) ##centering of data\n",
    "plt.scatter(X[:, 0], X[:, 1],color='b')\n",
    "plt.title('Generated Data')\n",
    "plt.axis('equal');\n",
    "plt.hist"
   ]
  },
  {
   "cell_type": "markdown",
   "id": "182f6f0b",
   "metadata": {},
   "source": [
    "This case would mean that $x$ and  $y$ are independent (or uncorrelated) and the covariance matrix  $C$ should be somthing \n",
    "like : <br> <br>\n",
    "$$ C = \\begin{bmatrix} \n",
    " c_{11} \\approx 1 & c_{12}  \\approx 0\\\\\n",
    " c_{21} \\approx 0 & c_{22}  \\approx 1 \\\\\n",
    "\\end{bmatrix} == \\begin{bmatrix} \n",
    " \\sigma_x^2 &  0 \\\\\n",
    "  0 & \\sigma_y^2 \\\\\n",
    "\\end{bmatrix} $$"
   ]
  },
  {
   "cell_type": "markdown",
   "id": "c6edb51e",
   "metadata": {},
   "source": [
    "Let's calculate the covariance matrix :"
   ]
  },
  {
   "cell_type": "code",
   "execution_count": 76,
   "id": "21d9b64f",
   "metadata": {},
   "outputs": [
    {
     "data": {
      "text/plain": [
       "array([[0.98039033, 0.23217649],\n",
       "       [0.23217649, 0.87556585]])"
      ]
     },
     "execution_count": 76,
     "metadata": {},
     "output_type": "execute_result"
    }
   ],
   "source": [
    "C = X.T.dot(X)/(X[:,0].size-1)\n",
    "np.sqrt(C)"
   ]
  },
  {
   "cell_type": "code",
   "execution_count": 78,
   "id": "fb3d8217",
   "metadata": {},
   "outputs": [
    {
     "data": {
      "text/plain": [
       "(-11.391632153920746,\n",
       " 14.958503743130551,\n",
       " -34.27917885977132,\n",
       " 30.02026388866926)"
      ]
     },
     "execution_count": 78,
     "metadata": {},
     "output_type": "execute_result"
    },
    {
     "data": {
      "image/png": "[encoded data removed]",
      "text/plain": [
       "<Figure size 864x576 with 1 Axes>"
      ]
     },
     "metadata": {},
     "output_type": "display_data"
    }
   ],
   "source": [
    "# Center the matrix at the origin\n",
    "X = X - np.mean(X, 0)\n",
    "\n",
    "# Scaling matrix\n",
    "sx, sy = 5,15 \n",
    "Scale = np.array([[sx, 0], [0, sy]])\n",
    "\n",
    "# Apply scaling matrix to X\n",
    "Y = X.dot(Scale)\n",
    "\n",
    "plt.scatter(Y[:, 0], Y[:, 1])\n",
    "plt.title('Transformed Data')\n",
    "plt.axis('equal')"
   ]
  },
  {
   "cell_type": "code",
   "execution_count": 79,
   "id": "cb937f1b",
   "metadata": {},
   "outputs": [
    {
     "data": {
      "text/plain": [
       "array([[ 4.90195163,  2.01070737],\n",
       "       [ 2.01070737, 13.13348779]])"
      ]
     },
     "execution_count": 79,
     "metadata": {},
     "output_type": "execute_result"
    }
   ],
   "source": [
    "C = Y.T.dot(Y)/(Y[:,0].size-1)\n",
    "np.sqrt(C)"
   ]
  }
 ],
 "metadata": {
  "kernelspec": {
   "display_name": "Python 3",
   "language": "python",
   "name": "python3"
  },
  "language_info": {
   "codemirror_mode": {
    "name": "ipython",
    "version": 3
   },
   "file_extension": ".py",
   "mimetype": "text/x-python",
   "name": "python",
   "nbconvert_exporter": "python",
   "pygments_lexer": "ipython3",
   "version": "3.8.8"
  }
 },
 "nbformat": 4,
 "nbformat_minor": 5
}
