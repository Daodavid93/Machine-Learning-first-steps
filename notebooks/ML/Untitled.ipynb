{
 "cells": [
  {
   "cell_type": "code",
   "execution_count": 61,
   "id": "09fc3f87",
   "metadata": {},
   "outputs": [],
   "source": [
    "%matplotlib inline\n",
    "import matplotlib.pyplot as plt\n",
    "import numpy as np\n",
    "import math\n",
    "from mpl_toolkits.mplot3d import Axes3D\n",
    "from random import random\n",
    "#from mpl_toolkits.mplot3d import axes3d\n",
    "import matplotlib.pyplot as plt\n",
    "import pandas as pd\n",
    "from sklearn.model_selection import train_test_split\n",
    "from sklearn.preprocessing import StandardScaler\n",
    "from sklearn.linear_model import LinearRegression\n",
    "from sklearn.linear_model import Lasso\n",
    "from sklearn.linear_model import  Ridge\n",
    "from sklearn.preprocessing import PolynomialFeatures"
   ]
  },
  {
   "cell_type": "markdown",
   "id": "7588c7cf",
   "metadata": {},
   "source": [
    "<h1> Reguralization for Linear Regression </h1> "
   ]
  },
  {
   "cell_type": "code",
   "execution_count": null,
   "id": "8cf416d0",
   "metadata": {},
   "outputs": [],
   "source": []
  },
  {
   "cell_type": "markdown",
   "id": "f2ba7f43",
   "metadata": {},
   "source": [
    "<h3> Polynomial Regression, Bias and Variance</h3>"
   ]
  },
  {
   "cell_type": "markdown",
   "id": "46fae61f",
   "metadata": {},
   "source": [
    "<h2> Polynomial Regression <h3>"
   ]
  },
  {
   "cell_type": "markdown",
   "id": "49462eca",
   "metadata": {},
   "source": [
    "Polynomial Regression is a type of regression supervised algorithm in which the relationship between feature vector $X$ and target one $Y$ is an $n^{th}$ degree polynomial function. <br> We gonna use the data set which is prepared in advance using 3^{th} degree polynomial <br> <br> $$y_i = f(x_i) =  \\theta_3x_{i}^3 + \\theta_2x_i^2 +\\theta_1x_i +  \\theta_0 + \\varepsilon_i $$\n",
    "let weights  be assigned  $theta_0=$  ... and the $\\varepsilon$ is Gaussian distributed with mean zero and some  variance $\\sigma$   <br> <br>\n",
    "$$𝜀 \\sim N(0,\\sigma^2) $$ "
   ]
  },
  {
   "cell_type": "code",
   "execution_count": 84,
   "id": "d21973d3",
   "metadata": {},
   "outputs": [],
   "source": [
    "#np.random.seed(0)\n",
    "x = 2 - np.linspace(-5,5,num=20) *4 #generate the X data  \n",
    "y = x - 0.2 * (x ** 2) + 0.05 * (x ** 3)  + np.random.normal(-110, 110, size=x.size) +2 #generate target points y"
   ]
  },
  {
   "cell_type": "code",
   "execution_count": 85,
   "id": "e75b5b67",
   "metadata": {},
   "outputs": [
    {
     "data": {
      "image/png": "[encoded data removed]",
      "text/plain": [
       "<Figure size 432x288 with 1 Axes>"
      ]
     },
     "metadata": {
      "needs_background": "light"
     },
     "output_type": "display_data"
    }
   ],
   "source": [
    "x = x[:, np.newaxis]\n",
    "y = y[:, np.newaxis]\n",
    "plt.scatter(x,y, s=10)\n",
    "plt.show()"
   ]
  },
  {
   "cell_type": "markdown",
   "id": "310eee42",
   "metadata": {},
   "source": [
    "Now we should find some Regression model wich will fit the data well.Let's try with simple linear regression."
   ]
  },
  {
   "cell_type": "code",
   "execution_count": 129,
   "id": "399973d6",
   "metadata": {},
   "outputs": [],
   "source": [
    "def regression(model, x_train, y_train, x_test, y_test) :\n",
    "    std = StandardScaler().fit(x_train)\n",
    "    regr_type = model.fit(std.transform(x_train),y_train)\n",
    "    y_predicited = regr_type.predict(std.transform(x_test))\n",
    "    return y_predicited, regr_type.score(std.transform(x_test),y_test), regr_type.coef_   "
   ]
  },
  {
   "cell_type": "code",
   "execution_count": 130,
   "id": "38b71875",
   "metadata": {},
   "outputs": [],
   "source": [
    "y_pred, score, coef = regression(LinearRegression(), x, y, x, y)"
   ]
  },
  {
   "cell_type": "code",
   "execution_count": 131,
   "id": "9cb7b87b",
   "metadata": {},
   "outputs": [
    {
     "data": {
      "text/plain": [
       "0.7470063138582508"
      ]
     },
     "execution_count": 131,
     "metadata": {},
     "output_type": "execute_result"
    },
    {
     "data": {
      "image/png": "[encoded data removed]",
      "text/plain": [
       "<Figure size 432x288 with 1 Axes>"
      ]
     },
     "metadata": {
      "needs_background": "light"
     },
     "output_type": "display_data"
    }
   ],
   "source": [
    "plt.plot(x, y_pred)  #L = 0.0028\n",
    "plt.scatter(x,y, s=10,color='r')\n",
    "plt.title('accuracy = {}'.format(score))\n",
    "score"
   ]
  },
  {
   "cell_type": "markdown",
   "id": "437df48f",
   "metadata": {},
   "source": [
    "As we can see above using a straight line we've achieved 69% accuracy which is too low, therefore we say that the model is too simple to describe the data, in this case, we say the model is an underfitting. The model is not able to capture the points well, there high bias.We can boost the model by increasing the degree of the polynomial. We can add new features that are powers of the original one. "
   ]
  },
  {
   "cell_type": "markdown",
   "id": "af84989d",
   "metadata": {},
   "source": [
    "$$X = \\begin{bmatrix} \n",
    " x_1 \\\\\n",
    "\\vdots   \\\\\n",
    " x_n \\\\\n",
    "\\end{bmatrix} \t\\rightarrow \n",
    "X_{polyData} = T(X) = \\begin{bmatrix} \n",
    "1 &x_1 & x_1^2 & \\dots & x_1^p \\\\\n",
    "\\vdots & \\ddots &  \\ddots & \\vdots & \\vdots \\\\\n",
    "1& x_n & x_n^2  & \\dots & x_n^p \\\\\n",
    "\\end{bmatrix} $$"
   ]
  },
  {
   "cell_type": "markdown",
   "id": "434af127",
   "metadata": {},
   "source": [
    "Thus we can improve the model from $Y = \\omega_0  + \\omega_1x$ to $Y = \\omega_0  + \\omega_1 x^1 + ... + \\omega_p x^p$\n",
    "but the problem still remains linear because $Y$ is multi linear dependented to $x_i^j$.That means we can use again the LinearRegression()just before that we will convert the original features  into their higher order terms we will use the PolynomialFeatures class provided by scikit-learn.\n",
    "example of tranformation of dataset to higher order degree :"
   ]
  },
  {
   "cell_type": "code",
   "execution_count": 62,
   "id": "d3224068",
   "metadata": {},
   "outputs": [],
   "source": [
    "def polynomial_convert(X,degree):\n",
    "    '''\n",
    "    X : like array \n",
    "       dataset\n",
    "    degree : int \n",
    "       number of powers\n",
    "    '''\n",
    "    return PolynomialFeatures(degree=degree).fit_transform(X)   \n",
    "   "
   ]
  },
  {
   "cell_type": "code",
   "execution_count": 77,
   "id": "cff2da6c",
   "metadata": {},
   "outputs": [
    {
     "data": {
      "text/plain": [
       "array([[ 1.00000000e+00,  2.20000000e+01,  4.84000000e+02,\n",
       "         1.06480000e+04,  2.34256000e+05,  5.15363200e+06,\n",
       "         1.13379904e+08,  2.49435789e+09,  5.48758735e+10,\n",
       "         1.20726922e+12,  2.65599228e+13],\n",
       "       [ 1.00000000e+00,  1.75555556e+01,  3.08197531e+02,\n",
       "         5.41057888e+03,  9.49857180e+04,  1.66752705e+06,\n",
       "         2.92743638e+07,  5.13927719e+08,  9.02228663e+09,\n",
       "         1.58391254e+11,  2.78064646e+12],\n",
       "       [ 1.00000000e+00,  1.31111111e+01,  1.71901235e+02,\n",
       "         2.25381619e+03,  2.95500344e+04,  3.87433785e+05,\n",
       "         5.07968740e+06,  6.66003459e+07,  8.73204536e+08,\n",
       "         1.14486817e+10,  1.50104938e+11],\n",
       "       [ 1.00000000e+00,  8.66666667e+00,  7.51111111e+01,\n",
       "         6.50962963e+02,  5.64167901e+03,  4.88945514e+04,\n",
       "         4.23752779e+05,  3.67252409e+06,  3.18285421e+07,\n",
       "         2.75847365e+08,  2.39067716e+09],\n",
       "       [ 1.00000000e+00,  4.22222222e+00,  1.78271605e+01,\n",
       "         7.52702332e+01,  3.17807651e+02,  1.34185453e+03,\n",
       "         5.66560801e+03,  2.39214560e+04,  1.01001703e+05,\n",
       "         4.26451636e+05,  1.80057357e+06],\n",
       "       [ 1.00000000e+00, -2.22222222e-01,  4.93827160e-02,\n",
       "        -1.09739369e-02,  2.43865264e-03, -5.41922810e-04,\n",
       "         1.20427291e-04, -2.67616202e-05,  5.94702672e-06,\n",
       "        -1.32156149e-06,  2.93680332e-07],\n",
       "       [ 1.00000000e+00, -4.66666667e+00,  2.17777778e+01,\n",
       "        -1.01629630e+02,  4.74271605e+02, -2.21326749e+03,\n",
       "         1.03285816e+04, -4.82000476e+04,  2.24933555e+05,\n",
       "        -1.04968992e+06,  4.89855298e+06],\n",
       "       [ 1.00000000e+00, -9.11111111e+00,  8.30123457e+01,\n",
       "        -7.56334705e+02,  6.89104954e+03, -6.27851180e+04,\n",
       "         5.72042186e+05, -5.21193992e+06,  4.74865637e+07,\n",
       "        -4.32655358e+08,  3.94197104e+09],\n",
       "       [ 1.00000000e+00, -1.35555556e+01,  1.83753086e+02,\n",
       "        -2.49087517e+03,  3.37651968e+04, -4.57706001e+05,\n",
       "         6.20445912e+06, -8.41048903e+07,  1.14008851e+09,\n",
       "        -1.54545332e+10,  2.09494783e+11],\n",
       "       [ 1.00000000e+00, -1.80000000e+01,  3.24000000e+02,\n",
       "        -5.83200000e+03,  1.04976000e+05, -1.88956800e+06,\n",
       "         3.40122240e+07, -6.12220032e+08,  1.10199606e+10,\n",
       "        -1.98359290e+11,  3.57046723e+12]])"
      ]
     },
     "execution_count": 77,
     "metadata": {},
     "output_type": "execute_result"
    }
   ],
   "source": [
    "x_poly"
   ]
  },
  {
   "cell_type": "code",
   "execution_count": 134,
   "id": "e88f2744",
   "metadata": {},
   "outputs": [
    {
     "data": {
      "text/plain": [
       "Text(0.5, 1.0, 'accuracy = 1.0')"
      ]
     },
     "execution_count": 134,
     "metadata": {},
     "output_type": "execute_result"
    },
    {
     "data": {
      "image/png": "[encoded data removed]",
      "text/plain": [
       "<Figure size 432x288 with 1 Axes>"
      ]
     },
     "metadata": {
      "needs_background": "light"
     },
     "output_type": "display_data"
    }
   ],
   "source": [
    "x_poly = polynomial_convert(x, 20)\n",
    "y_pred, score, coef = regression(LinearRegression(), x_poly, y, x_poly, y)\n",
    "plt.plot(x, y_pred)  #L = 0.0028\n",
    "plt.scatter(x,y, s=10,color='r')\n",
    "plt.title('accuracy = {}'.format(score))"
   ]
  },
  {
   "cell_type": "markdown",
   "id": "5beeaf49",
   "metadata": {},
   "source": [
    "We can see that the acuracy of $10^{th}$ polynomial is 100%.This result means that the errors are also captured the that is called overffiting.The model has too high variance.That is bad result because on new unseen data the model will perform bad result.Bias refers to the error due to the model’s simplistic assumptions in fitting the data. A high bias means that the model is unable to capture the patterns in the data and this results in under-fitting.<br> <br>\n",
    "Variance refers to the error due to the complex model trying to fit the data. High variance means the model passes through most of the data points and it results in over-fitting the data.\n"
   ]
  },
  {
   "cell_type": "markdown",
   "id": "d0c3a7b2",
   "metadata": {},
   "source": [
    "There are quite a number of techniques that help to prevent overfitting.Regularization is one such technique.Regularization basically aims at proper feature selection to avoid over-fitting. Lasso regression achieves regularization by completely diminishing the importance given to some features (making the weight zero)."
   ]
  },
  {
   "cell_type": "markdown",
   "id": "1cf86f15",
   "metadata": {},
   "source": [
    "<h2 id='lasso'> Lasso Regression (L1 Regularization) </h2>"
   ]
  },
  {
   "cell_type": "markdown",
   "id": "f8020593",
   "metadata": {},
   "source": [
    "This is a regularization technique used in feature selection using a Shrinkage method also referred to as the penalized regression method. Lasso is short for Least Absolute Shrinkage and Selection Operator, which is used both for regularization and model selection. If a model uses the L1 regularization technique, then it is called lasso regression.\n"
   ]
  },
  {
   "cell_type": "markdown",
   "id": "6dcd4c00",
   "metadata": {},
   "source": [
    "The lost function of the Lasso is the ordinary least square with constraint.<br> <br>\n",
    "    $$J(\\varTheta) = \\frac{1}{2m}\\sum_{i}^n(  y_i - \\sum_j^mx_{ij}\\theta_j)^2 $$\n",
    "    $$subject \\; to \\hspace{1cm} \\sum_j^m|\\theta_j| < \\lambda $$\n",
    "Using langrange multiplyer the solutions of above equtions is :"
   ]
  },
  {
   "cell_type": "markdown",
   "id": "c51e1094",
   "metadata": {},
   "source": [
    "$$LassoLost = J(\\varTheta) = \\frac{1}{2m}\\sum_{i}^n(  y_i - \\sum_j^m x_{ij}\\theta_j )^2 + \\lambda \\sum_j^m|\\theta_j|$$"
   ]
  },
  {
   "cell_type": "markdown",
   "id": "eb854dc6",
   "metadata": {},
   "source": [
    "$\\lambda \\sum_j^m|\\theta_j|$ represens the penalty <br>\n",
    "A tuning parameter, $λ$ controls the strength of the L1 penalty. $λ$ is basically the amount of shrinkage:\n",
    "<ul>\n",
    "  <li>When λ = 0, no parameters are eliminated. The estimate is equal to the one found with linear regression.</li>\n",
    "<li> As λ increases, more and more coefficients are set to zero and eliminated (theoretically, when $λ = ∞$, all coefficients are eliminated). </li>\n",
    "    <li> As λ increases, bias increases. </li>\n",
    "    <li> As λ decreases, variance increases. </li>\n",
    "</ul>    "
   ]
  },
  {
   "cell_type": "markdown",
   "id": "4bc59ef3",
   "metadata": {},
   "source": [
    "Lets investigate what the lasso will perform,we gonna use </mark> Lasso </mark> from <mark>sklearn</mark>"
   ]
  },
  {
   "cell_type": "code",
   "execution_count": 149,
   "id": "eda86d6d",
   "metadata": {},
   "outputs": [
    {
     "data": {
      "text/plain": [
       "Text(0.5, 1.0, 'accuracy = 0.763341321163034')"
      ]
     },
     "execution_count": 149,
     "metadata": {},
     "output_type": "execute_result"
    },
    {
     "data": {
      "image/png": "[encoded data removed]",
      "text/plain": [
       "<Figure size 432x288 with 1 Axes>"
      ]
     },
     "metadata": {
      "needs_background": "light"
     },
     "output_type": "display_data"
    }
   ],
   "source": [
    "y_pred, score, coef = regression( Lasso(alpha=15), x_poly, y, x_poly, y)\n",
    "plt.plot(x, y_pred)  #L = 0.0028\n",
    "plt.scatter(x,y, s=10,color='r')\n",
    "plt.title('accuracy = {}'.format(score))"
   ]
  },
  {
   "cell_type": "code",
   "execution_count": 143,
   "id": "a5d3dec1",
   "metadata": {},
   "outputs": [
    {
     "data": {
      "text/plain": [
       "Text(0.5, 1.0, 'accuracy = 0.7489477417408781')"
      ]
     },
     "execution_count": 143,
     "metadata": {},
     "output_type": "execute_result"
    },
    {
     "data": {
      "image/png": "[encoded data removed]",
      "text/plain": [
       "<Figure size 432x288 with 1 Axes>"
      ]
     },
     "metadata": {
      "needs_background": "light"
     },
     "output_type": "display_data"
    }
   ],
   "source": [
    "y_pred, score, coef = regression( Lasso(alpha=20), x_poly, y, x_poly, y)\n",
    "plt.plot(x, y_pred)  #L = 0.0028\n",
    "plt.scatter(x,y, s=10,color='r')\n",
    "plt.title('accuracy = {}'.format(score))"
   ]
  },
  {
   "cell_type": "code",
   "execution_count": 163,
   "id": "ad71f305",
   "metadata": {},
   "outputs": [
    {
     "ename": "ValueError",
     "evalue": "all the input arrays must have same number of dimensions, but the array at index 0 has 3 dimension(s) and the array at index 1 has 1 dimension(s)",
     "output_type": "error",
     "traceback": [
      "\u001b[1;31m---------------------------------------------------------------------------\u001b[0m",
      "\u001b[1;31mValueError\u001b[0m                                Traceback (most recent call last)",
      "\u001b[1;32m<ipython-input-163-048f7111696f>\u001b[0m in \u001b[0;36m<module>\u001b[1;34m\u001b[0m\n\u001b[0;32m      2\u001b[0m \u001b[1;31m#coef.append(coef)\u001b[0m\u001b[1;33m\u001b[0m\u001b[1;33m\u001b[0m\u001b[1;33m\u001b[0m\u001b[0m\n\u001b[0;32m      3\u001b[0m \u001b[1;31m#np.append(coef,coef)\u001b[0m\u001b[1;33m\u001b[0m\u001b[1;33m\u001b[0m\u001b[1;33m\u001b[0m\u001b[0m\n\u001b[1;32m----> 4\u001b[1;33m \u001b[0mc\u001b[0m \u001b[1;33m=\u001b[0m \u001b[0mnp\u001b[0m\u001b[1;33m.\u001b[0m\u001b[0mappend\u001b[0m\u001b[1;33m(\u001b[0m\u001b[1;33m[\u001b[0m\u001b[1;33m[\u001b[0m\u001b[0mcoef\u001b[0m\u001b[1;33m]\u001b[0m\u001b[1;33m,\u001b[0m \u001b[1;33m[\u001b[0m\u001b[0mcoef\u001b[0m\u001b[1;33m]\u001b[0m\u001b[1;33m]\u001b[0m\u001b[1;33m,\u001b[0m\u001b[0mcoef\u001b[0m\u001b[1;33m,\u001b[0m\u001b[0maxis\u001b[0m\u001b[1;33m=\u001b[0m\u001b[1;36m0\u001b[0m\u001b[1;33m)\u001b[0m\u001b[1;33m\u001b[0m\u001b[1;33m\u001b[0m\u001b[0m\n\u001b[0m\u001b[0;32m      5\u001b[0m \u001b[0mc\u001b[0m\u001b[1;33m.\u001b[0m\u001b[0mshape\u001b[0m\u001b[1;33m\u001b[0m\u001b[1;33m\u001b[0m\u001b[0m\n",
      "\u001b[1;32m<__array_function__ internals>\u001b[0m in \u001b[0;36mappend\u001b[1;34m(*args, **kwargs)\u001b[0m\n",
      "\u001b[1;32mD:\\ProgramData\\Anaconda3\\lib\\site-packages\\numpy\\lib\\function_base.py\u001b[0m in \u001b[0;36mappend\u001b[1;34m(arr, values, axis)\u001b[0m\n\u001b[0;32m   4743\u001b[0m         \u001b[0mvalues\u001b[0m \u001b[1;33m=\u001b[0m \u001b[0mravel\u001b[0m\u001b[1;33m(\u001b[0m\u001b[0mvalues\u001b[0m\u001b[1;33m)\u001b[0m\u001b[1;33m\u001b[0m\u001b[1;33m\u001b[0m\u001b[0m\n\u001b[0;32m   4744\u001b[0m         \u001b[0maxis\u001b[0m \u001b[1;33m=\u001b[0m \u001b[0marr\u001b[0m\u001b[1;33m.\u001b[0m\u001b[0mndim\u001b[0m\u001b[1;33m-\u001b[0m\u001b[1;36m1\u001b[0m\u001b[1;33m\u001b[0m\u001b[1;33m\u001b[0m\u001b[0m\n\u001b[1;32m-> 4745\u001b[1;33m     \u001b[1;32mreturn\u001b[0m \u001b[0mconcatenate\u001b[0m\u001b[1;33m(\u001b[0m\u001b[1;33m(\u001b[0m\u001b[0marr\u001b[0m\u001b[1;33m,\u001b[0m \u001b[0mvalues\u001b[0m\u001b[1;33m)\u001b[0m\u001b[1;33m,\u001b[0m \u001b[0maxis\u001b[0m\u001b[1;33m=\u001b[0m\u001b[0maxis\u001b[0m\u001b[1;33m)\u001b[0m\u001b[1;33m\u001b[0m\u001b[1;33m\u001b[0m\u001b[0m\n\u001b[0m\u001b[0;32m   4746\u001b[0m \u001b[1;33m\u001b[0m\u001b[0m\n\u001b[0;32m   4747\u001b[0m \u001b[1;33m\u001b[0m\u001b[0m\n",
      "\u001b[1;32m<__array_function__ internals>\u001b[0m in \u001b[0;36mconcatenate\u001b[1;34m(*args, **kwargs)\u001b[0m\n",
      "\u001b[1;31mValueError\u001b[0m: all the input arrays must have same number of dimensions, but the array at index 0 has 3 dimension(s) and the array at index 1 has 1 dimension(s)"
     ]
    },
    {
     "data": {
      "image/png": "[encoded data removed]",
      "text/plain": [
       "<Figure size 432x288 with 1 Axes>"
      ]
     },
     "metadata": {
      "needs_background": "light"
     },
     "output_type": "display_data"
    }
   ],
   "source": [
    "plt.plot(coef)\n",
    "#coef.append(coef)\n",
    "#np.append(coef,coef)\n",
    "c = np.append([[coef], [coef]],coef,axis=0)\n",
    "c.shape"
   ]
  },
  {
   "cell_type": "markdown",
   "id": "6cdcfb91",
   "metadata": {},
   "source": [
    "<h2> References </h2>\n",
    "[1] <a href='https://www.datacamp.com/tutorial/tutorial-lasso-ridge-regression'>Lasso and Ridge Regression Tutorial</a> <br>\n",
    "https://www.datacamp.com/tutorial/tutorial-ridge-lasso-elastic-net"
   ]
  }
 ],
 "metadata": {
  "kernelspec": {
   "display_name": "Python 3",
   "language": "python",
   "name": "python3"
  },
  "language_info": {
   "codemirror_mode": {
    "name": "ipython",
    "version": 3
   },
   "file_extension": ".py",
   "mimetype": "text/x-python",
   "name": "python",
   "nbconvert_exporter": "python",
   "pygments_lexer": "ipython3",
   "version": "3.8.8"
  }
 },
 "nbformat": 4,
 "nbformat_minor": 5
}
