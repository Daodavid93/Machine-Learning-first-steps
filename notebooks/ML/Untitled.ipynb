{
 "cells": [
  {
   "cell_type": "code",
   "execution_count": 61,
   "id": "57951cb2",
   "metadata": {},
   "outputs": [],
   "source": [
    "%matplotlib inline\n",
    "import matplotlib.pyplot as plt\n",
    "import numpy as np\n",
    "import math\n",
    "from mpl_toolkits.mplot3d import Axes3D\n",
    "from random import random\n",
    "#from mpl_toolkits.mplot3d import axes3d\n",
    "import matplotlib.pyplot as plt\n",
    "import pandas as pd\n",
    "from sklearn.model_selection import train_test_split\n",
    "from sklearn.preprocessing import StandardScaler\n",
    "from sklearn.linear_model import LinearRegression\n",
    "from sklearn.linear_model import Lasso\n",
    "from sklearn.linear_model import  Ridge\n",
    "from sklearn.preprocessing import PolynomialFeatures"
   ]
  },
  {
   "cell_type": "markdown",
   "id": "0e39f529",
   "metadata": {},
   "source": [
    "<h1> Reguralization for Linear Regression </h1> "
   ]
  },
  {
   "cell_type": "code",
   "execution_count": null,
   "id": "e543d760",
   "metadata": {},
   "outputs": [],
   "source": []
  },
  {
   "cell_type": "markdown",
   "id": "e773130a",
   "metadata": {},
   "source": [
    "<h3> Polynomial Regression, Bias and Variance</h3>"
   ]
  },
  {
   "cell_type": "markdown",
   "id": "e4289f95",
   "metadata": {},
   "source": [
    "<h2> Polynomial Regression <h3>"
   ]
  },
  {
   "cell_type": "markdown",
   "id": "1096ecf1",
   "metadata": {},
   "source": [
    "Polynomial Regression is a type of regression supervised algorithm in which the relationship between feature vector $X$ and target one $Y$ is an $n^{th}$ degree polynomial function. <br> We gonna use the data set which is prepared in advance using 3^{th} degree polynomial <br> <br> $$y_i = f(x_i) =  \\theta_3x_{i}^3 + \\theta_2x_i^2 +\\theta_1x_i +  \\theta_0 + \\varepsilon_i $$\n",
    "let weights  be assigned  $theta_0=$  ... and the $\\varepsilon$ is Gaussian distributed with mean zero and some  variance $\\sigma$   <br> <br>\n",
    "$$𝜀 \\sim N(0,\\sigma^2) $$ "
   ]
  },
  {
   "cell_type": "code",
   "execution_count": 387,
   "id": "5346356e",
   "metadata": {},
   "outputs": [],
   "source": [
    "x = 2 - np.linspace(-5,5,num=60) *4 #generate the X data  \n",
    "y = x - 0.2 * (x ** 2) + 0.05 * (x ** 3)  + np.random.normal(-40, 40, size=x.size) +2 #generate target points y"
   ]
  },
  {
   "cell_type": "code",
   "execution_count": 388,
   "id": "48eecb4f",
   "metadata": {},
   "outputs": [
    {
     "data": {
      "image/png": "[encoded data removed]",
      "text/plain": [
       "<Figure size 432x288 with 1 Axes>"
      ]
     },
     "metadata": {
      "needs_background": "light"
     },
     "output_type": "display_data"
    }
   ],
   "source": [
    "x = x[:, np.newaxis]\n",
    "y = y[:, np.newaxis]\n",
    "plt.scatter(x,y, s=10)\n",
    "plt.show()"
   ]
  },
  {
   "cell_type": "markdown",
   "id": "b7345490",
   "metadata": {},
   "source": [
    "Now we should find some Regression model wich will fit the data well.Let's try with simple linear regression."
   ]
  },
  {
   "cell_type": "code",
   "execution_count": 129,
   "id": "59815ada",
   "metadata": {},
   "outputs": [],
   "source": [
    "def regression(model, x_train, y_train, x_test, y_test) :\n",
    "    std = StandardScaler().fit(x_train)\n",
    "    regr_type = model.fit(std.transform(x_train),y_train)\n",
    "    y_predicited = regr_type.predict(std.transform(x_test))\n",
    "    return y_predicited, regr_type.score(std.transform(x_test),y_test), regr_type.coef_   "
   ]
  },
  {
   "cell_type": "code",
   "execution_count": 130,
   "id": "faeb3fe5",
   "metadata": {},
   "outputs": [],
   "source": [
    "y_pred, score, coef = regression(LinearRegression(), x, y, x, y)"
   ]
  },
  {
   "cell_type": "code",
   "execution_count": 374,
   "id": "540d41e0",
   "metadata": {},
   "outputs": [
    {
     "data": {
      "text/plain": [
       "0.7891223492133288"
      ]
     },
     "execution_count": 374,
     "metadata": {},
     "output_type": "execute_result"
    },
    {
     "data": {
      "image/png": "[encoded data removed]",
      "text/plain": [
       "<Figure size 432x288 with 1 Axes>"
      ]
     },
     "metadata": {
      "needs_background": "light"
     },
     "output_type": "display_data"
    }
   ],
   "source": [
    "y_pred, score, coef = regression(LinearRegression(), x, y, x, y)\n",
    "plt.plot(x, y_pred)  #L = 0.0028\n",
    "plt.scatter(x,y, s=10,color='r')\n",
    "plt.title('accuracy = {}'.format(score))\n",
    "score"
   ]
  },
  {
   "cell_type": "markdown",
   "id": "ff64c91d",
   "metadata": {},
   "source": [
    "As we can see above using a straight line we've achieved 69% accuracy which is too low, therefore we say that the model is too simple to describe the data, in this case, we say the model is an underfitting. The model is not able to capture the points well, there high bias.We can boost the model by increasing the degree of the polynomial. We can add new features that are powers of the original one. "
   ]
  },
  {
   "cell_type": "markdown",
   "id": "406ff674",
   "metadata": {},
   "source": [
    "$$X = \\begin{bmatrix} \n",
    " x_1 \\\\\n",
    "\\vdots   \\\\\n",
    " x_n \\\\\n",
    "\\end{bmatrix} \t\\rightarrow \n",
    "X_{polyData} = T(X) = \\begin{bmatrix} \n",
    "1 &x_1 & x_1^2 & \\dots & x_1^p \\\\\n",
    "\\vdots & \\ddots &  \\ddots & \\vdots & \\vdots \\\\\n",
    "1& x_n & x_n^2  & \\dots & x_n^p \\\\\n",
    "\\end{bmatrix} $$"
   ]
  },
  {
   "cell_type": "markdown",
   "id": "38587250",
   "metadata": {},
   "source": [
    "Thus we can improve the model from $Y = \\omega_0  + \\omega_1x$ to $Y = \\omega_0  + \\omega_1 x^1 + ... + \\omega_p x^p$\n",
    "but the problem still remains linear because $Y$ is multi linear dependented to $x_i^j$.That means we can use again the LinearRegression()just before that we will convert the original features  into their higher order terms we will use the PolynomialFeatures class provided by scikit-learn.\n",
    "example of tranformation of dataset to higher order degree :"
   ]
  },
  {
   "cell_type": "code",
   "execution_count": 365,
   "id": "9e34c565",
   "metadata": {},
   "outputs": [],
   "source": [
    "def polynomial_convert(X,degree):\n",
    "    '''\n",
    "    X : like array \n",
    "       dataset\n",
    "    degree : int \n",
    "       number of powers\n",
    "    '''\n",
    "    return PolynomialFeatures(degree=degree).fit_transform(X)   \n",
    "   "
   ]
  },
  {
   "cell_type": "code",
   "execution_count": 401,
   "id": "21975a18",
   "metadata": {
    "scrolled": true
   },
   "outputs": [
    {
     "data": {
      "text/plain": [
       "Text(0.5, 1.0, 'accuracy = 0.9634125414086822')"
      ]
     },
     "execution_count": 401,
     "metadata": {},
     "output_type": "execute_result"
    },
    {
     "data": {
      "image/png": "[encoded data removed]",
      "text/plain": [
       "<Figure size 432x288 with 1 Axes>"
      ]
     },
     "metadata": {
      "needs_background": "light"
     },
     "output_type": "display_data"
    }
   ],
   "source": [
    "x_poly = polynomial_convert(x, 7)\n",
    "y_pred, score, coef = regression(LinearRegression(), x_poly, y, x_poly, y)\n",
    "plt.plot(x, y_pred)  #L = 0.0028\n",
    "plt.scatter(x,y, s=10,color='r')\n",
    "plt.title('accuracy = {}'.format(score))"
   ]
  },
  {
   "cell_type": "markdown",
   "id": "70dfdfea",
   "metadata": {},
   "source": [
    "We can see that the acuracy of $10^{th}$ polynomial is 100%.This result means that the errors are also captured the that is called overffiting.The model has too high variance.That is bad result because on new unseen data the model will perform bad result.Bias refers to the error due to the model’s simplistic assumptions in fitting the data. A high bias means that the model is unable to capture the patterns in the data and this results in under-fitting.<br> <br>\n",
    "Variance refers to the error due to the complex model trying to fit the data. High variance means the model passes through most of the data points and it results in over-fitting the data.\n"
   ]
  },
  {
   "cell_type": "markdown",
   "id": "fa211234",
   "metadata": {},
   "source": [
    "There are quite a number of techniques that help to prevent overfitting.Regularization is one such technique.Regularization basically aims at proper feature selection to avoid over-fitting. Lasso regression achieves regularization by completely diminishing the importance given to some features (making the weight zero)."
   ]
  },
  {
   "cell_type": "markdown",
   "id": "1440c937",
   "metadata": {},
   "source": [
    "<h2 id='lasso'> Lasso Regression (L1 Regularization) </h2>"
   ]
  },
  {
   "cell_type": "markdown",
   "id": "44dfab0c",
   "metadata": {},
   "source": [
    "This is a regularization technique used in feature selection using a Shrinkage method also referred to as the penalized regression method. Lasso is short for Least Absolute Shrinkage and Selection Operator, which is used both for regularization and model selection. If a model uses the L1 regularization technique, then it is called lasso regression.\n"
   ]
  },
  {
   "cell_type": "markdown",
   "id": "deec06ae",
   "metadata": {},
   "source": [
    "The lost function of the Lasso is the ordinary least square with constraint.<br> <br>\n",
    "    $$J(\\varTheta) = \\frac{1}{2m}\\sum_{i}^n(  y_i - \\sum_j^mx_{ij}\\theta_j)^2 $$\n",
    "    $$subject \\; to \\hspace{1cm} \\sum_j^m|\\theta_j| < \\lambda $$\n",
    "Using langrange multiplyer the solutions of above equtions is :"
   ]
  },
  {
   "cell_type": "markdown",
   "id": "23ac1d7a",
   "metadata": {},
   "source": [
    "$$LassoLost = J(\\varTheta) = \\frac{1}{2m}\\sum_{i}^n(  y_i - \\sum_j^m x_{ij}\\theta_j )^2 + \\lambda \\sum_j^m|\\theta_j|$$"
   ]
  },
  {
   "cell_type": "markdown",
   "id": "32be49f0",
   "metadata": {},
   "source": [
    "$\\lambda \\sum_j^m|\\theta_j|$ represens the penalty <br>\n",
    "A tuning parameter, $λ$ controls the strength of the L1 penalty. $λ$ is basically the amount of shrinkage:\n",
    "<ul>\n",
    "  <li>When λ = 0, no parameters are eliminated. The estimate is equal to the one found with linear regression.</li>\n",
    "<li> As λ increases, more and more coefficients are set to zero and eliminated (theoretically, when $λ = ∞$, all coefficients are eliminated). </li>\n",
    "    <li> As λ increases, bias increases. </li>\n",
    "    <li> As λ decreases, variance increases. </li>\n",
    "</ul>    "
   ]
  },
  {
   "cell_type": "markdown",
   "id": "86b3d202",
   "metadata": {},
   "source": [
    "Lets investigate what the lasso will perform,we gonna use </mark> Lasso </mark> from <mark>sklearn</mark>"
   ]
  },
  {
   "cell_type": "code",
   "execution_count": 402,
   "id": "8c516647",
   "metadata": {},
   "outputs": [
    {
     "name": "stderr",
     "output_type": "stream",
     "text": [
      "<ipython-input-129-45b93e132574>:3: UserWarning: With alpha=0, this algorithm does not converge well. You are advised to use the LinearRegression estimator\n",
      "  regr_type = model.fit(std.transform(x_train),y_train)\n",
      "D:\\ProgramData\\Anaconda3\\lib\\site-packages\\sklearn\\linear_model\\_coordinate_descent.py:530: UserWarning: Coordinate descent with no regularization may lead to unexpected results and is discouraged.\n",
      "  model = cd_fast.enet_coordinate_descent(\n",
      "D:\\ProgramData\\Anaconda3\\lib\\site-packages\\sklearn\\linear_model\\_coordinate_descent.py:530: ConvergenceWarning: Objective did not converge. You might want to increase the number of iterations. Duality gap: 33904.9704249291, tolerance: 173.36402686106769\n",
      "  model = cd_fast.enet_coordinate_descent(\n"
     ]
    },
    {
     "data": {
      "text/plain": [
       "Text(0.5, 1.0, 'accuracy = 0.9608858065438219')"
      ]
     },
     "execution_count": 402,
     "metadata": {},
     "output_type": "execute_result"
    },
    {
     "data": {
      "image/png": "[encoded data removed]",
      "text/plain": [
       "<Figure size 432x288 with 1 Axes>"
      ]
     },
     "metadata": {
      "needs_background": "light"
     },
     "output_type": "display_data"
    }
   ],
   "source": [
    "y_pred, score, coef = regression( Lasso(alpha=0), x_poly, y, x_poly, y)\n",
    "plt.plot(x, y_pred)  #L = 0.0028\n",
    "plt.scatter(x,y, s=10,color='r')\n",
    "plt.title('accuracy = {}'.format(score))"
   ]
  },
  {
   "cell_type": "code",
   "execution_count": 357,
   "id": "8d62cabe",
   "metadata": {},
   "outputs": [
    {
     "name": "stderr",
     "output_type": "stream",
     "text": [
      "D:\\ProgramData\\Anaconda3\\lib\\site-packages\\sklearn\\linear_model\\_coordinate_descent.py:530: ConvergenceWarning: Objective did not converge. You might want to increase the number of iterations. Duality gap: 92154.0529614094, tolerance: 102.63994033084316\n",
      "  model = cd_fast.enet_coordinate_descent(\n",
      "D:\\ProgramData\\Anaconda3\\lib\\site-packages\\sklearn\\linear_model\\_coordinate_descent.py:530: ConvergenceWarning: Objective did not converge. You might want to increase the number of iterations. Duality gap: 18287.52388121406, tolerance: 102.63994033084316\n",
      "  model = cd_fast.enet_coordinate_descent(\n",
      "D:\\ProgramData\\Anaconda3\\lib\\site-packages\\sklearn\\linear_model\\_coordinate_descent.py:530: ConvergenceWarning: Objective did not converge. You might want to increase the number of iterations. Duality gap: 602.6939059981087, tolerance: 102.63994033084316\n",
      "  model = cd_fast.enet_coordinate_descent(\n"
     ]
    }
   ],
   "source": [
    "y_pred, score, coef = regression(LinearRegression(), x_poly, y, x_poly, y)\n",
    "weights = coef\n",
    "alphas = [0.001, 0.010, 0.1, 0.6 , 1 , 1.5,10,15]\n",
    "for alpha in alphas:\n",
    "    y_pred, score, coef = regression( Lasso(alpha=alpha), x_poly, y, x_poly, y)\n",
    "    weights = np.vstack([weights,coef])\n",
    "    "
   ]
  },
  {
   "cell_type": "code",
   "execution_count": 404,
   "id": "7c00ce01",
   "metadata": {},
   "outputs": [
    {
     "name": "stdout",
     "output_type": "stream",
     "text": [
      "(0,)\n"
     ]
    },
    {
     "name": "stderr",
     "output_type": "stream",
     "text": [
      "D:\\ProgramData\\Anaconda3\\lib\\site-packages\\sklearn\\linear_model\\_coordinate_descent.py:530: ConvergenceWarning: Objective did not converge. You might want to increase the number of iterations. Duality gap: 33172.201319224565, tolerance: 173.36402686106769\n",
      "  model = cd_fast.enet_coordinate_descent(\n",
      "D:\\ProgramData\\Anaconda3\\lib\\site-packages\\sklearn\\linear_model\\_coordinate_descent.py:530: ConvergenceWarning: Objective did not converge. You might want to increase the number of iterations. Duality gap: 26516.117227609342, tolerance: 173.36402686106769\n",
      "  model = cd_fast.enet_coordinate_descent(\n"
     ]
    }
   ],
   "source": [
    "y_pred, score, coef = regression(LinearRegression(), x_poly, y, x_poly, y)\n",
    "weights = np.array([])\n",
    "alphas = [10e-4,10e-3,10e-2,10e-1,10]\n",
    "print(weights.shape)\n",
    "for alpha in alphas:\n",
    "    y_pred, score, coef = regression( Lasso(alpha=alpha), x_poly, y, x_poly, y)\n",
    "    if weights.shape[0]>0 : \n",
    "        weights = np.vstack([weights,coef])\n",
    "    else :\n",
    "        weights = coef\n",
    "weights = weights.T   \n"
   ]
  },
  {
   "cell_type": "code",
   "execution_count": 405,
   "id": "7bd58612",
   "metadata": {},
   "outputs": [
    {
     "data": {
      "image/png": "[encoded data removed]",
      "text/plain": [
       "<Figure size 432x288 with 1 Axes>"
      ]
     },
     "metadata": {
      "needs_background": "light"
     },
     "output_type": "display_data"
    }
   ],
   "source": [
    "\n",
    "for i in range(weights.shape[0]):\n",
    "    plt.plot(np.array(alphas),(weights[i,:]))"
   ]
  },
  {
   "cell_type": "code",
   "execution_count": null,
   "id": "759ba6ed",
   "metadata": {},
   "outputs": [],
   "source": []
  },
  {
   "cell_type": "code",
   "execution_count": null,
   "id": "ed7b3506",
   "metadata": {},
   "outputs": [],
   "source": []
  },
  {
   "cell_type": "code",
   "execution_count": null,
   "id": "fcf91372",
   "metadata": {},
   "outputs": [],
   "source": []
  },
  {
   "cell_type": "code",
   "execution_count": null,
   "id": "a0696b08",
   "metadata": {},
   "outputs": [],
   "source": []
  },
  {
   "cell_type": "code",
   "execution_count": null,
   "id": "6bc80f94",
   "metadata": {},
   "outputs": [],
   "source": []
  },
  {
   "cell_type": "code",
   "execution_count": null,
   "id": "8f7ac26f",
   "metadata": {},
   "outputs": [],
   "source": []
  },
  {
   "cell_type": "code",
   "execution_count": null,
   "id": "12064e9e",
   "metadata": {},
   "outputs": [],
   "source": []
  },
  {
   "cell_type": "code",
   "execution_count": null,
   "id": "41eaead9",
   "metadata": {},
   "outputs": [],
   "source": []
  },
  {
   "cell_type": "code",
   "execution_count": null,
   "id": "5dd4fa25",
   "metadata": {},
   "outputs": [],
   "source": []
  },
  {
   "cell_type": "markdown",
   "id": "5517882b",
   "metadata": {},
   "source": [
    "<h2> References </h2>\n",
    "[1] <a href='https://www.datacamp.com/tutorial/tutorial-lasso-ridge-regression'>Lasso and Ridge Regression Tutorial</a> <br>\n",
    "https://www.datacamp.com/tutorial/tutorial-ridge-lasso-elastic-net"
   ]
  }
 ],
 "metadata": {
  "kernelspec": {
   "display_name": "Python 3",
   "language": "python",
   "name": "python3"
  },
  "language_info": {
   "codemirror_mode": {
    "name": "ipython",
    "version": 3
   },
   "file_extension": ".py",
   "mimetype": "text/x-python",
   "name": "python",
   "nbconvert_exporter": "python",
   "pygments_lexer": "ipython3",
   "version": "3.8.8"
  }
 },
 "nbformat": 4,
 "nbformat_minor": 5
}
