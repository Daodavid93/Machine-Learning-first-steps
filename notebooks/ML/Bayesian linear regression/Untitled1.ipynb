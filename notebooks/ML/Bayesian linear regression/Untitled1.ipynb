{
 "cells": [
  {
   "cell_type": "markdown",
   "id": "40e14901",
   "metadata": {},
   "source": [
    "Bayes's theorem finds the probability of an event occuring given the probability of another event that has already occured.That matematicaly is stated as the folowing equation."
   ]
  },
  {
   "cell_type": "markdown",
   "id": "5ec798dd",
   "metadata": {},
   "source": [
    "$$P(A|B) = \\frac{P(B|A)P(A)}{P(B)} $$\n",
    "\n",
    "\n",
    "where P(B) is called evidence, P(A) priory(prior probability) P(A|B) posterio probability"
   ]
  },
  {
   "cell_type": "code",
   "execution_count": null,
   "id": "6afe8af7",
   "metadata": {},
   "outputs": [],
   "source": []
  },
  {
   "cell_type": "markdown",
   "id": "1103a03f",
   "metadata": {},
   "source": [
    "references :\n",
    "https://www.geeksforgeeks.org/naive-bayes-classifiers/ <br>\n",
    "https://www.analyticsvidhya.com/blog/2017/09/naive-bayes-explained/"
   ]
  }
 ],
 "metadata": {
  "kernelspec": {
   "display_name": "Python 3",
   "language": "python",
   "name": "python3"
  },
  "language_info": {
   "codemirror_mode": {
    "name": "ipython",
    "version": 3
   },
   "file_extension": ".py",
   "mimetype": "text/x-python",
   "name": "python",
   "nbconvert_exporter": "python",
   "pygments_lexer": "ipython3",
   "version": "3.8.8"
  }
 },
 "nbformat": 4,
 "nbformat_minor": 5
}
