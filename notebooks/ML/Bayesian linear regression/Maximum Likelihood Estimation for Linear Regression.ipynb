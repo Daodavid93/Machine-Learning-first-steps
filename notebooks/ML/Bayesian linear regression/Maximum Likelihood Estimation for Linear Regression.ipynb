{
 "cells": [
  {
   "cell_type": "code",
   "execution_count": 3,
   "id": "2390c028",
   "metadata": {},
   "outputs": [],
   "source": [
    "from matplotlib import cm\n",
    "from matplotlib.ticker import LinearLocator, FormatStrFormatter\n",
    "import matplotlib.pyplot as plt\n",
    "import numpy as np\n",
    "from scipy.stats import norm"
   ]
  },
  {
   "cell_type": "markdown",
   "id": "15a39f47",
   "metadata": {},
   "source": [
    "<h1>Maximum Likelihood Estimation for Linear Regression</h1>"
   ]
  },
  {
   "cell_type": "markdown",
   "id": "fbfa7b67",
   "metadata": {},
   "source": [
    "The linear regression as we've known assumes the following equation :\n",
    "  $$Y = w^TX +\\epsilon $$\n",
    " where we assume the noise  $\\epsilon $ is gaussian distributed $\\epsilon   =  N(\\mu,\\sigma^2)$ theorefore $y$ is also \n",
    " gausian distributed $y =  N(\\mu,\\sigma^2)$\n",
    "  \n",
    "  "
   ]
  },
  {
   "cell_type": "markdown",
   "id": "7b81a30e",
   "metadata": {},
   "source": [
    "Probabilistic Interpretation. <br>\n",
    "An alternative way to look at linear regression is to consider it as a joint probability model.\n",
    "That is, we are interested in the joint probability of how the behaviour of the response $y$ is conditional on the values of the feature vector $x$ as well as any parameters of the model, given by the vector $w$.\n",
    "Thus we are interested in a model of the form $p(y|x,w)$ This is a <mark>conditional probability density (CPD)</mark> model."
   ]
  },
  {
   "cell_type": "markdown",
   "id": "bc86e26e",
   "metadata": {},
   "source": [
    "Linear regression can be written as a CPD in the following manner: <br> <br>\n",
    "$$ p(y | x,w) = p(y|\\mu(X),\\sigma^2(X))$$"
   ]
  },
  {
   "cell_type": "markdown",
   "id": "3f66658f",
   "metadata": {},
   "source": [
    "For linear regression we assume that $\\mu(X)$ is linear and so $\\mu(X)= w^Tx$.We must also assume that the variance in the model is fixed (i.e. that it doesn't depend on  $X$) and as such $\\sigma^2(x) = \\sigma^2$"
   ]
  },
  {
   "cell_type": "markdown",
   "id": "0183ce40",
   "metadata": {},
   "source": [
    "<img src='https://lh3.googleusercontent.com/proxy/0LfZS2Wkqv1x4frQuPZOiHNU70dVfOshphpwTyEZrI1EbC_2lMB5L_MpeKyermnc_wLp1p-O_lm_tzSPD9-gc50xRYugP3CY4MzCpGivlQ4S9yoTuqRVTwAO3iQCUA3u9PYQEw8AhalfJKIJ5Q' alt=\"Linear Regression plot with normal curves for error (sideways)\">"
   ]
  },
  {
   "cell_type": "markdown",
   "id": "828a1e46",
   "metadata": {},
   "source": [
    "<img src='https://i.stack.imgur.com/Gu4wD.png'>"
   ]
  },
  {
   "cell_type": "code",
   "execution_count": 27,
   "id": "4a9ac991",
   "metadata": {},
   "outputs": [
    {
     "data": {
      "text/plain": [
       "<matplotlib.collections.PathCollection at 0x6e89ca0850>"
      ]
     },
     "execution_count": 27,
     "metadata": {},
     "output_type": "execute_result"
    },
    {
     "data": {
      "image/png": "[encoded data removed]",
      "text/plain": [
       "<Figure size 432x288 with 1 Axes>"
      ]
     },
     "metadata": {
      "needs_background": "light"
     },
     "output_type": "display_data"
    }
   ],
   "source": [
    "n =10 \n",
    "x = np.linspace(10,40,n)\n",
    "y = 32 - 4/3*x \n",
    "plt.plot(x,y)\n",
    "plt.scatter(x,y + np.random.normal(0,5,size =n))"
   ]
  },
  {
   "cell_type": "markdown",
   "id": "091ff20c",
   "metadata": {},
   "source": [
    "<img src='https://lh3.googleusercontent.com/proxy/X9d5VdXd8_Ot18n0nR7JqkiTQEXJcNODB-TKM3lbqhq_yk0Ldz3h8k9dBK_waM6a5AAA3D8BLlVGANWJzSm8ymU'>"
   ]
  },
  {
   "cell_type": "code",
   "execution_count": null,
   "id": "c2343f78",
   "metadata": {},
   "outputs": [],
   "source": []
  },
  {
   "cell_type": "code",
   "execution_count": null,
   "id": "22782f16",
   "metadata": {},
   "outputs": [],
   "source": []
  },
  {
   "cell_type": "markdown",
   "id": "39ead233",
   "metadata": {},
   "source": [
    "<h2>References</h2>\n",
    "\n",
    " <a  style=\"font-size: 20px;\" href='https://www.quantstart.com/articles/Maximum-Likelihood-Estimation-for-Linear-Regression/'>MLE for Linear Regression </a></li>\n",
    "  <li>Tea</li>\n",
    "  <li>Milk</li>\n",
    "</ol> "
   ]
  }
 ],
 "metadata": {
  "kernelspec": {
   "display_name": "Python 3",
   "language": "python",
   "name": "python3"
  },
  "language_info": {
   "codemirror_mode": {
    "name": "ipython",
    "version": 3
   },
   "file_extension": ".py",
   "mimetype": "text/x-python",
   "name": "python",
   "nbconvert_exporter": "python",
   "pygments_lexer": "ipython3",
   "version": "3.8.8"
  }
 },
 "nbformat": 4,
 "nbformat_minor": 5
}
