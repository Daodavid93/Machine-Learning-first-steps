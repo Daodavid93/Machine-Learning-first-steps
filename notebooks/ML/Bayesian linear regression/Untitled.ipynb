{
 "cells": [
  {
   "cell_type": "code",
   "execution_count": 1,
   "id": "36e14c68",
   "metadata": {},
   "outputs": [],
   "source": [
    "%matplotlib inline\n",
    "import numpy as np\n",
    "import matplotlib.pyplot as plt\n",
    "\n",
    "\n",
    "from scipy.stats import multivariate_normal\n",
    "from mpl_toolkits.mplot3d import Axes3D"
   ]
  },
  {
   "cell_type": "code",
   "execution_count": 27,
   "id": "e5fd96cc",
   "metadata": {},
   "outputs": [],
   "source": [
    "n=100\n",
    "X = np.linspace(-10,10,n)"
   ]
  },
  {
   "cell_type": "code",
   "execution_count": 15,
   "id": "fafc0c49",
   "metadata": {},
   "outputs": [
    {
     "data": {
      "text/plain": [
       "(array([1., 1., 1., 1., 1., 1., 1., 1., 1., 1.]),\n",
       " array([-10.,  -8.,  -6.,  -4.,  -2.,   0.,   2.,   4.,   6.,   8.,  10.]),\n",
       " <BarContainer object of 10 artists>)"
      ]
     },
     "execution_count": 15,
     "metadata": {},
     "output_type": "execute_result"
    },
    {
     "data": {
      "image/png": "[encoded data removed]",
      "text/plain": [
       "<Figure size 432x288 with 1 Axes>"
      ]
     },
     "metadata": {
      "needs_background": "light"
     },
     "output_type": "display_data"
    }
   ],
   "source": [
    "plt.hist(X)"
   ]
  },
  {
   "cell_type": "code",
   "execution_count": 25,
   "id": "fdc34ff3",
   "metadata": {},
   "outputs": [],
   "source": [
    "round(X.mean())\n"
   ]
  },
  {
   "cell_type": "code",
   "execution_count": 17,
   "id": "74affef0",
   "metadata": {},
   "outputs": [
    {
     "data": {
      "text/plain": [
       "6.382847385042254"
      ]
     },
     "execution_count": 17,
     "metadata": {},
     "output_type": "execute_result"
    }
   ],
   "source": [
    "X.std()"
   ]
  },
  {
   "cell_type": "code",
   "execution_count": 18,
   "id": "7b738ac5",
   "metadata": {},
   "outputs": [
    {
     "data": {
      "text/plain": [
       "40.74074074074074"
      ]
     },
     "execution_count": 18,
     "metadata": {},
     "output_type": "execute_result"
    }
   ],
   "source": [
    "X.var()"
   ]
  },
  {
   "cell_type": "code",
   "execution_count": 28,
   "id": "a6176bc2",
   "metadata": {},
   "outputs": [
    {
     "data": {
      "text/plain": [
       "(array([ 9., 11.,  8., 11., 12., 15.,  4., 14.,  9.,  7.]),\n",
       " array([-10.82305443,  -8.64252368,  -6.46199294,  -4.28146219,\n",
       "         -2.10093144,   0.0795993 ,   2.26013005,   4.44066079,\n",
       "          6.62119154,   8.80172228,  10.98225303]),\n",
       " <BarContainer object of 10 artists>)"
      ]
     },
     "execution_count": 28,
     "metadata": {},
     "output_type": "execute_result"
    },
    {
     "data": {
      "image/png": "[encoded data removed]",
      "text/plain": [
       "<Figure size 432x288 with 1 Axes>"
      ]
     },
     "metadata": {
      "needs_background": "light"
     },
     "output_type": "display_data"
    }
   ],
   "source": [
    "X = X + np.random.normal(0, 1, n)\n",
    "plt.hist(X,bins=10)"
   ]
  },
  {
   "cell_type": "code",
   "execution_count": 22,
   "id": "70c887d9",
   "metadata": {},
   "outputs": [
    {
     "data": {
      "text/plain": [
       "43.20053868762852"
      ]
     },
     "execution_count": 22,
     "metadata": {},
     "output_type": "execute_result"
    }
   ],
   "source": [
    "X.var()"
   ]
  },
  {
   "cell_type": "code",
   "execution_count": 29,
   "id": "e2fcb4b2",
   "metadata": {},
   "outputs": [],
   "source": [
    "Y = 2*X+5"
   ]
  },
  {
   "cell_type": "code",
   "execution_count": 30,
   "id": "2a344589",
   "metadata": {},
   "outputs": [
    {
     "data": {
      "text/plain": [
       "(array([ 9., 11.,  8., 11., 12., 15.,  4., 14.,  9.,  7.]),\n",
       " array([-16.64610885, -12.28504736,  -7.92398587,  -3.56292438,\n",
       "          0.79813711,   5.1591986 ,   9.52026009,  13.88132159,\n",
       "         18.24238308,  22.60344457,  26.96450606]),\n",
       " <BarContainer object of 10 artists>)"
      ]
     },
     "execution_count": 30,
     "metadata": {},
     "output_type": "execute_result"
    },
    {
     "data": {
      "image/png": "[encoded data removed]",
      "text/plain": [
       "<Figure size 432x288 with 1 Axes>"
      ]
     },
     "metadata": {
      "needs_background": "light"
     },
     "output_type": "display_data"
    }
   ],
   "source": [
    "plt.hist(Y,bins=10)"
   ]
  }
 ],
 "metadata": {
  "kernelspec": {
   "display_name": "Python 3",
   "language": "python",
   "name": "python3"
  },
  "language_info": {
   "codemirror_mode": {
    "name": "ipython",
    "version": 3
   },
   "file_extension": ".py",
   "mimetype": "text/x-python",
   "name": "python",
   "nbconvert_exporter": "python",
   "pygments_lexer": "ipython3",
   "version": "3.8.8"
  }
 },
 "nbformat": 4,
 "nbformat_minor": 5
}
